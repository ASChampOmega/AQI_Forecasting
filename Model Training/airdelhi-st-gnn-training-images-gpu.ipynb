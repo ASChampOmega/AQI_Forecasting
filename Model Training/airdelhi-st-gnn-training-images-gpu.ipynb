{
 "cells": [
  {
   "cell_type": "code",
   "execution_count": 1,
   "id": "2d10b39f",
   "metadata": {
    "_cell_guid": "b1076dfc-b9ad-4769-8c92-a6c4dae69d19",
    "_uuid": "8f2839f25d086af736a60e9eeb907d3b93b6e0e5",
    "execution": {
     "iopub.execute_input": "2025-04-11T15:32:26.756401Z",
     "iopub.status.busy": "2025-04-11T15:32:26.756147Z",
     "iopub.status.idle": "2025-04-11T15:32:32.029597Z",
     "shell.execute_reply": "2025-04-11T15:32:32.028740Z"
    },
    "papermill": {
     "duration": 5.285691,
     "end_time": "2025-04-11T15:32:32.031133",
     "exception": false,
     "start_time": "2025-04-11T15:32:26.745442",
     "status": "completed"
    },
    "tags": []
   },
   "outputs": [
    {
     "name": "stdout",
     "output_type": "stream",
     "text": [
      "\u001b[2K     \u001b[90m━━━━━━━━━━━━━━━━━━━━━━━━━━━━━━━━━━━━━━━━\u001b[0m \u001b[32m63.1/63.1 kB\u001b[0m \u001b[31m2.7 MB/s\u001b[0m eta \u001b[36m0:00:00\u001b[0m\r\n",
      "\u001b[2K   \u001b[90m━━━━━━━━━━━━━━━━━━━━━━━━━━━━━━━━━━━━━━━━\u001b[0m \u001b[32m1.1/1.1 MB\u001b[0m \u001b[31m29.1 MB/s\u001b[0m eta \u001b[36m0:00:00\u001b[0m\r\n",
      "\u001b[?25h"
     ]
    }
   ],
   "source": [
    "!pip install torch_geometric -q -U"
   ]
  },
  {
   "cell_type": "code",
   "execution_count": 2,
   "id": "6e33cf85",
   "metadata": {
    "execution": {
     "iopub.execute_input": "2025-04-11T15:32:32.051029Z",
     "iopub.status.busy": "2025-04-11T15:32:32.050802Z",
     "iopub.status.idle": "2025-04-11T15:32:45.779709Z",
     "shell.execute_reply": "2025-04-11T15:32:45.778857Z"
    },
    "papermill": {
     "duration": 13.740291,
     "end_time": "2025-04-11T15:32:45.781297",
     "exception": false,
     "start_time": "2025-04-11T15:32:32.041006",
     "status": "completed"
    },
    "tags": []
   },
   "outputs": [],
   "source": [
    "import numpy as np # linear algebrae\n",
    "import pandas as pd # data processing, CSV file I/O (e.g. pd.read_csv)\n",
    "from xgboost import XGBRegressor\n",
    "from lightgbm import LGBMRegressor\n",
    "from catboost import CatBoostRegressor\n",
    "from sklearn.ensemble import RandomForestRegressor\n",
    "from sklearn.linear_model import Ridge, LinearRegression\n",
    "\n",
    "import os\n",
    "\n",
    "from sklearn.metrics import mean_squared_error, r2_score, mean_absolute_error\n",
    "from sklearn.preprocessing import MinMaxScaler\n",
    "\n",
    "from datetime import date, timedelta\n",
    "import datetime\n",
    "\n",
    "import json\n",
    "import pickle as pkl\n",
    "\n",
    "import torch\n",
    "import torch.nn as nn\n",
    "import torch.nn.functional as F\n",
    "from torch.utils.data import Dataset, DataLoader\n",
    "from torch.optim import SGD, Adam\n",
    "from torch.optim.lr_scheduler import ReduceLROnPlateau\n",
    "from torch.nn import MSELoss\n",
    "from PIL import Image\n",
    "import torchvision.transforms as transforms\n",
    "\n",
    "from tqdm import tqdm"
   ]
  },
  {
   "cell_type": "code",
   "execution_count": 3,
   "id": "48631181",
   "metadata": {
    "execution": {
     "iopub.execute_input": "2025-04-11T15:32:45.801897Z",
     "iopub.status.busy": "2025-04-11T15:32:45.801242Z",
     "iopub.status.idle": "2025-04-11T15:32:45.853815Z",
     "shell.execute_reply": "2025-04-11T15:32:45.852907Z"
    },
    "papermill": {
     "duration": 0.064109,
     "end_time": "2025-04-11T15:32:45.855165",
     "exception": false,
     "start_time": "2025-04-11T15:32:45.791056",
     "status": "completed"
    },
    "tags": []
   },
   "outputs": [],
   "source": [
    "class CFG:\n",
    "    evaluation_time_gap = 1\n",
    "    convert_numpy = False\n",
    "    target_list = ['pm2_5', 'pm10']\n",
    "    img_cols = ['lat_i', 'lon_j']\n",
    "    features = ['timeOfDay', 'lat', 'lon', 'distance', 'bus_count', 'day_of_week', 'pm2_5', 'pm10']\n",
    "\n",
    "    batch_size = 4\n",
    "    num_epochs = 50\n",
    "    day_len = 35\n",
    "\n",
    "    # model_size = 'vl'\n",
    "    model_dropout = 0.2\n",
    "    graph_dropout = 0.1\n",
    "    spatial_size = 64\n",
    "    hidden_size = 64\n",
    "    rnn_num_layers = 6\n",
    "    num_gcn_blocks = 4\n",
    "    \n",
    "    lr = 3e-4\n",
    "    patience=2\n",
    "    factor=0.8\n",
    "\n",
    "    model_kind=\"gru\"\n",
    "    attention = True\n",
    "    num_heads = 4\n",
    "    bidirectional=False\n",
    "\n",
    "    edge_index_k = 8\n",
    "    num_gnn_layers = 3\n",
    "\n",
    "    train_on_full = False\n",
    "    \n",
    "    pm2_5_thresholds = [0, 30, 60, 90, 120, 250, 2000]\n",
    "    pm10_thresholds = [0, 50, 100, 250, 350, 430, 2000]\n",
    "    aqi_category = [\"Good\", \"Satisfactory\", \"Moderate\", \"Poor\", \"Very Poor\", \"Severe\"]\n",
    "    \n",
    "device = torch.device(\"cuda\" if torch.cuda.is_available() else \"cpu\")\n"
   ]
  },
  {
   "cell_type": "markdown",
   "id": "0173f35e",
   "metadata": {
    "papermill": {
     "duration": 0.008926,
     "end_time": "2025-04-11T15:32:45.873392",
     "exception": false,
     "start_time": "2025-04-11T15:32:45.864466",
     "status": "completed"
    },
    "tags": []
   },
   "source": [
    "## Dataset"
   ]
  },
  {
   "cell_type": "code",
   "execution_count": 4,
   "id": "ee776a80",
   "metadata": {
    "execution": {
     "iopub.execute_input": "2025-04-11T15:32:45.892051Z",
     "iopub.status.busy": "2025-04-11T15:32:45.891800Z",
     "iopub.status.idle": "2025-04-11T15:32:45.905004Z",
     "shell.execute_reply": "2025-04-11T15:32:45.904150Z"
    },
    "papermill": {
     "duration": 0.02399,
     "end_time": "2025-04-11T15:32:45.906271",
     "exception": false,
     "start_time": "2025-04-11T15:32:45.882281",
     "status": "completed"
    },
    "tags": []
   },
   "outputs": [],
   "source": [
    "class GraphImageSequenceDataset(Dataset):\n",
    "\n",
    "    def __init__(self, df, img_dict, features = None, img_cols = None, sequence_length=70, forecast_horizon=35):\n",
    "        \n",
    "        features = CFG.features if features is None else features\n",
    "        img_cols = CFG.img_cols if img_cols is None else img_cols\n",
    "        \n",
    "        self.features = features\n",
    "        self.img_dict = img_dict\n",
    "        self.img_cols = img_cols\n",
    "        \n",
    "        self.sequence_length = sequence_length\n",
    "        self.forecast_horizon = forecast_horizon\n",
    "\n",
    "        self.split_df(df)\n",
    "\n",
    "        self.proc_img(img_dict)\n",
    "\n",
    "    def proc_img(self, img_dict):\n",
    "        self.imgs = []\n",
    "\n",
    "        transform = transforms.Compose([\n",
    "            transforms.ToTensor(),\n",
    "            transforms.Normalize(mean=[0.5, 0.5, 0.5], std=[0.5, 0.5, 0.5])\n",
    "        ])\n",
    "        \n",
    "        for (i, j) in self.img_order:\n",
    "            img_file = img_dict[(i, j)]\n",
    "            img = Image.open(img_file).convert(\"RGB\")\n",
    "            tensor_img = transform(img)\n",
    "            self.imgs.append(tensor_img)\n",
    "\n",
    "        self.imgs = torch.stack(self.imgs).to(device)\n",
    "\n",
    "    def split_df(self, df):\n",
    "        df = df.sort_values(['lat', 'lon', 'date_value', 'timeOfDay'])\n",
    "        lat_lon_pairs = df.groupby(['lat', 'lon'])['pm2_5'].count().reset_index()[['lat', 'lon']].values\n",
    "\n",
    "        self.sequences = []\n",
    "        self.img_order = []\n",
    "\n",
    "        for i in lat_lon_pairs:\n",
    "            lat_lon_values = df[(df['lat'] == i[0]) & (df['lon'] == i[1])]\n",
    "            self.sequences.append(lat_lon_values)\n",
    "            self.img_order.append(\n",
    "                # df[(df['lat'] == i[0]) & (df['lon'] == i[1])][['lat_i', 'lon_j']].unique()[0]\n",
    "                np.array(df[(df['lat'] == i[0]) & (df['lon'] == i[1])][['lat_i', 'lon_j']], dtype=int)[0]\n",
    "            )\n",
    "\n",
    "        self.lat_lon_pairs = lat_lon_pairs\n",
    "\n",
    "        self.X_seq = []\n",
    "        self.y_seq = []\n",
    "        self.masked_seq = []\n",
    "        self.img_id = []\n",
    "\n",
    "        self.total_len = 0\n",
    "        \n",
    "        for s in self.sequences:\n",
    "            s = s.sort_values(['date_value', 'timeOfDay'])\n",
    "            self.X_seq.append(np.array(s[self.features].values, dtype=np.float32))\n",
    "            self.y_seq.append(np.array(s[CFG.target_list].values, dtype=np.float32))\n",
    "            self.masked_seq.append(1 - np.array(s['missing'].values, dtype=np.int8))\n",
    "            # self.masked_seq.append(np.array(s['missing'].values, dtype=np.int8))\n",
    "            self.img_id.append(s[self.img_cols].values)\n",
    "\n",
    "            curr_len = len(self.y_seq[-1])\n",
    "            curr_len -= self.sequence_length  + self.forecast_horizon - CFG.day_len\n",
    "            self.total_len = curr_len // CFG.day_len\n",
    "            self.per_len = curr_len // CFG.day_len\n",
    "\n",
    "        self.X_seq = np.array(self.X_seq)\n",
    "        self.y_seq = np.array(self.y_seq)\n",
    "        self.masked_seq = np.array(self.masked_seq)\n",
    "    \n",
    "    def __len__(self):\n",
    "        return self.total_len\n",
    "\n",
    "    def get_index(self, i):\n",
    "        lat_lon = i // self.per_len\n",
    "        within_idx = i % self.per_len\n",
    "        return lat_lon, within_idx\n",
    "    \n",
    "    def __getitem__(self, i):\n",
    "        lat_lon, within_idx = self.get_index(i)\n",
    "\n",
    "        within_idx *= CFG.day_len\n",
    "        start = within_idx\n",
    "        X_end = within_idx + self.sequence_length\n",
    "        y_end = X_end + self.forecast_horizon\n",
    "        \n",
    "        \n",
    "        X = torch.tensor(self.X_seq[:, start:X_end]).to(device).permute(1, 0, 2)\n",
    "        y = torch.tensor(self.y_seq[:, X_end:y_end]).to(device).permute(1, 0, 2)\n",
    "        masks = torch.tensor(self.masked_seq[:, X_end:y_end] # , dtype=torch.int32\n",
    "                            ).to(device).permute(1, 0).unsqueeze(-1)\n",
    "        \n",
    "        # masks = torch.reshape(masks, (-1, 1))\n",
    "        \n",
    "        # img = self.imgs\n",
    "        \n",
    "        return X, y, masks"
   ]
  },
  {
   "cell_type": "code",
   "execution_count": 5,
   "id": "58aecd21",
   "metadata": {
    "execution": {
     "iopub.execute_input": "2025-04-11T15:32:45.925131Z",
     "iopub.status.busy": "2025-04-11T15:32:45.924896Z",
     "iopub.status.idle": "2025-04-11T15:32:47.111270Z",
     "shell.execute_reply": "2025-04-11T15:32:47.110220Z"
    },
    "papermill": {
     "duration": 1.197525,
     "end_time": "2025-04-11T15:32:47.112962",
     "exception": false,
     "start_time": "2025-04-11T15:32:45.915437",
     "status": "completed"
    },
    "tags": []
   },
   "outputs": [
    {
     "data": {
      "text/plain": [
       "(Timestamp('2020-11-01 00:00:00'), Timestamp('2021-01-07 00:00:00'))"
      ]
     },
     "execution_count": 5,
     "metadata": {},
     "output_type": "execute_result"
    }
   ],
   "source": [
    "df = pd.read_csv('/kaggle/input/airdelhi-baselines-deepengineering/dense_df.csv')\n",
    "if CFG.train_on_full:\n",
    "    df = pd.read_csv('/kaggle/input/airdelhi-baselines-deepengineering/dense_df.csv')\n",
    "\n",
    "df = df.drop(columns = 'Unnamed: 0')\n",
    "df['date_value'] = pd.to_datetime(df['date_value'])\n",
    "\n",
    "dates = pd.to_datetime([df['date_value'].min(), df['date_value'].max()])\n",
    "\n",
    "max_train_date = dates.min() + (dates.max() - dates.min()) * 0.75\n",
    "max_train_date = max_train_date.floor(\"D\")\n",
    "min_train_date = df['date_value'].min()\n",
    "max_date = df['date_value'].max().floor(\"D\")\n",
    "\n",
    "metrics_dict = {\n",
    "    'MSE': mean_squared_error, \n",
    "    'r2 score': r2_score, \n",
    "    'MAE': mean_absolute_error,\n",
    "}\n",
    "\n",
    "target_list = CFG.target_list\n",
    "\n",
    "features = ['date_value', 'timeOfDay', 'lat', 'lon', 'day_of_week', 'distance', 'bus_count']\n",
    "\n",
    "CFG.base_features = ['timeOfDay', 'lat', 'lon', 'day_of_week', 'distance', 'bus_count']\n",
    "CFG.features = CFG.base_features\n",
    "\n",
    "min_train_date, max_train_date"
   ]
  },
  {
   "cell_type": "code",
   "execution_count": 6,
   "id": "5cea5791",
   "metadata": {
    "execution": {
     "iopub.execute_input": "2025-04-11T15:32:47.136992Z",
     "iopub.status.busy": "2025-04-11T15:32:47.136743Z",
     "iopub.status.idle": "2025-04-11T15:32:50.316174Z",
     "shell.execute_reply": "2025-04-11T15:32:50.315153Z"
    },
    "papermill": {
     "duration": 3.191877,
     "end_time": "2025-04-11T15:32:50.317590",
     "exception": false,
     "start_time": "2025-04-11T15:32:47.125713",
     "status": "completed"
    },
    "tags": []
   },
   "outputs": [
    {
     "name": "stderr",
     "output_type": "stream",
     "text": [
      "<ipython-input-6-a10b91631712>:35: DeprecationWarning: DataFrameGroupBy.apply operated on the grouping columns. This behavior is deprecated, and in a future version of pandas the grouping columns will be excluded from the operation. Either pass `include_groups=False` to exclude the groupings or explicitly select the grouping columns after groupby to silence this warning.\n",
      "  df = grouped.apply(fill_na_with_previous_mean)\n"
     ]
    }
   ],
   "source": [
    "def add_lag_features(df, lags = [1]):\n",
    "\n",
    "    df = df.copy()\n",
    "    \n",
    "    df.sort_values(by=[\"lat\", \"lon\", \"timeOfDay\", \"date_value\"], inplace=True)\n",
    "\n",
    "    added_features = []\n",
    "    for l in lags:\n",
    "        df[f'pm2_5_lag_{l}'] = df.groupby(\n",
    "            ['timeOfDay', 'lat', 'lon'])['pm2_5'].shift(l)\n",
    "        df[f'pm10_lag_{l}'] = df.groupby(\n",
    "            ['timeOfDay', 'lat', 'lon'])['pm10'].shift(l)\n",
    "\n",
    "        added_features.append(f'pm2_5_lag_{l}')\n",
    "        added_features.append(f'pm10_lag_{l}')\n",
    "\n",
    "        df.sort_values(by=[\"lat\", \"lon\", \"date_value\"], inplace=True)\n",
    "\n",
    "    # Group by latitude and longitude\n",
    "    grouped = df.groupby([\"lat\", \"lon\"])\n",
    "\n",
    "    # Function to fill NaN values based on previous mean\n",
    "    def fill_na_with_previous_mean(group):\n",
    "        for col in group.columns:\n",
    "            if col not in [\"date_value\", \"lat\", \"lon\"]:\n",
    "                group[col] = group[col].astype(float)  # Ensure numeric columns\n",
    "                group[col] = group[col].fillna(group[col].expanding().mean().shift())  # Previous days' mean\n",
    "                \n",
    "                # If still NaN (first row), replace with overall mean\n",
    "                overall_mean = df[col].mean(skipna=True)\n",
    "                group[col] = group[col].fillna(overall_mean)\n",
    "        return group\n",
    "\n",
    "    # Apply the function to each group\n",
    "    df = grouped.apply(fill_na_with_previous_mean)\n",
    "    df.reset_index(drop=True, inplace=True)\n",
    "    df = df.sort_values(by = ['date_value', 'timeOfDay', 'lat', 'lon'])\n",
    "    df.reset_index(drop=True, inplace=True)\n",
    "    CFG.features += added_features\n",
    "    return df\n",
    "    \n",
    "df = add_lag_features(df, lags = [7])"
   ]
  },
  {
   "cell_type": "code",
   "execution_count": 7,
   "id": "115c1ebd",
   "metadata": {
    "execution": {
     "iopub.execute_input": "2025-04-11T15:32:50.340644Z",
     "iopub.status.busy": "2025-04-11T15:32:50.340197Z",
     "iopub.status.idle": "2025-04-11T15:32:50.436067Z",
     "shell.execute_reply": "2025-04-11T15:32:50.435280Z"
    },
    "papermill": {
     "duration": 0.110056,
     "end_time": "2025-04-11T15:32:50.437552",
     "exception": false,
     "start_time": "2025-04-11T15:32:50.327496",
     "status": "completed"
    },
    "tags": []
   },
   "outputs": [],
   "source": [
    "df = df.sort_values(by=['lat', 'lon', 'timeOfDay', 'date_value'])"
   ]
  },
  {
   "cell_type": "code",
   "execution_count": 8,
   "id": "c509ac8e",
   "metadata": {
    "execution": {
     "iopub.execute_input": "2025-04-11T15:32:50.458048Z",
     "iopub.status.busy": "2025-04-11T15:32:50.457799Z",
     "iopub.status.idle": "2025-04-11T15:32:50.578532Z",
     "shell.execute_reply": "2025-04-11T15:32:50.577789Z"
    },
    "papermill": {
     "duration": 0.132697,
     "end_time": "2025-04-11T15:32:50.580170",
     "exception": false,
     "start_time": "2025-04-11T15:32:50.447473",
     "status": "completed"
    },
    "tags": []
   },
   "outputs": [],
   "source": [
    "class CustomScaler:\n",
    "\n",
    "    def __init__(self, df):\n",
    "        self.pm2_5_max = float(df['pm2_5'].max())\n",
    "        self.pm2_5_min = float(df['pm2_5'].min())\n",
    "        \n",
    "        self.pm10_max = float(df['pm10'].max())\n",
    "        self.pm10_min = float(df['pm10'].min())\n",
    "\n",
    "    def transform(self, df):\n",
    "        df = df.copy()\n",
    "        df['pm2_5'] = (df['pm2_5'] - self.pm2_5_min) / (self.pm2_5_max - self.pm2_5_min)\n",
    "        df['pm10'] = (df['pm10'] - self.pm10_min) / (self.pm10_max - self.pm10_min)\n",
    "        return df\n",
    "\n",
    "    def inverse_transform(self, X):\n",
    "        X[:, 0] = X[:, 0] * (self.pm2_5_max - self.pm2_5_min) + self.pm2_5_min\n",
    "        X[:, 1] = X[:, 1] * (self.pm10_max - self.pm10_min) + self.pm10_min\n",
    "        return X\n",
    "\n",
    "target_scaler = CustomScaler(df)\n",
    "df = target_scaler.transform(df)\n",
    "\n",
    "CFG.features = ['timeOfDay', 'lat', 'lon', 'distance', 'bus_count', \n",
    "                'day_of_week', 'pm2_5', 'pm10', 'pm2_5_lag_7', 'pm10_lag_7']\n",
    "\n",
    "df['day_of_week'] = df['date_value'].dt.dayofweek\n",
    "\n",
    "scaler = MinMaxScaler()\n",
    "df[CFG.features] = scaler.fit_transform(df[CFG.features])"
   ]
  },
  {
   "cell_type": "code",
   "execution_count": 9,
   "id": "63d7aeb6",
   "metadata": {
    "execution": {
     "iopub.execute_input": "2025-04-11T15:32:50.600109Z",
     "iopub.status.busy": "2025-04-11T15:32:50.599859Z",
     "iopub.status.idle": "2025-04-11T15:32:50.613504Z",
     "shell.execute_reply": "2025-04-11T15:32:50.612469Z"
    },
    "papermill": {
     "duration": 0.024926,
     "end_time": "2025-04-11T15:32:50.615112",
     "exception": false,
     "start_time": "2025-04-11T15:32:50.590186",
     "status": "completed"
    },
    "tags": []
   },
   "outputs": [],
   "source": [
    "with open(\"/kaggle/input/delhi-satellite-images-grid/tile_metadata.json\", 'r') as f:\n",
    "    metadata = json.load(f)\n",
    "\n",
    "def process_metadata(metadata):\n",
    "    img_dict = {}\n",
    "    for k, v in metadata.items():\n",
    "        i = v['row']\n",
    "        j = v['col']\n",
    "        img_dict[(i, j)] = f\"/kaggle/input/delhi-satellite-images-grid/tiles_32x32/tile_{i}_{j}.png\"\n",
    "\n",
    "    return img_dict\n",
    "\n",
    "img_dict = process_metadata(metadata)"
   ]
  },
  {
   "cell_type": "code",
   "execution_count": 10,
   "id": "58d695fe",
   "metadata": {
    "execution": {
     "iopub.execute_input": "2025-04-11T15:32:50.657697Z",
     "iopub.status.busy": "2025-04-11T15:32:50.657360Z",
     "iopub.status.idle": "2025-04-11T15:32:50.724202Z",
     "shell.execute_reply": "2025-04-11T15:32:50.722971Z"
    },
    "papermill": {
     "duration": 0.089996,
     "end_time": "2025-04-11T15:32:50.725594",
     "exception": false,
     "start_time": "2025-04-11T15:32:50.635598",
     "status": "completed"
    },
    "tags": []
   },
   "outputs": [
    {
     "name": "stdout",
     "output_type": "stream",
     "text": [
      "0.04999999999997419\n",
      "0.05263157894735837\n"
     ]
    }
   ],
   "source": [
    "lat = df['lat'].unique()\n",
    "lon = df['lon'].unique()\n",
    "\n",
    "lat = np.sort(lat)\n",
    "lon = np.sort(lon)\n",
    "\n",
    "min_dist_lat = 1000\n",
    "for i in range(len(lat) - 1):\n",
    "    min_dist_lat = min(min_dist_lat, lat[i+1] - lat[i])\n",
    "print(min_dist_lat)\n",
    "\n",
    "for i in range(len(lat)):\n",
    "    assert (lat[i] / min_dist_lat - round(lat[i] / min_dist_lat)) < 1e-6\n",
    "\n",
    "min_dist_lon = 1000\n",
    "for i in range(len(lon) - 1):\n",
    "    min_dist_lon = min(min_dist_lon, lon[i+1] - lon[i])\n",
    "print(min_dist_lon)\n",
    "\n",
    "for i in range(len(lon)):\n",
    "    assert (lon[i] / min_dist_lon - round(lon[i] / min_dist_lon)) < 1e-6\n",
    "\n",
    "def rounded_lat_lon(df):\n",
    "    df = df.copy()\n",
    "    df['lat_i'] = np.round(df['lat'] / min_dist_lat) + 2\n",
    "    df['lon_j'] = np.round(df['lon'] / min_dist_lon) + 4\n",
    "    return df\n",
    "\n",
    "df = rounded_lat_lon(df)"
   ]
  },
  {
   "cell_type": "code",
   "execution_count": 11,
   "id": "315f7db6",
   "metadata": {
    "execution": {
     "iopub.execute_input": "2025-04-11T15:32:50.745382Z",
     "iopub.status.busy": "2025-04-11T15:32:50.745117Z",
     "iopub.status.idle": "2025-04-11T15:32:53.193685Z",
     "shell.execute_reply": "2025-04-11T15:32:53.192775Z"
    },
    "papermill": {
     "duration": 2.459855,
     "end_time": "2025-04-11T15:32:53.195207",
     "exception": false,
     "start_time": "2025-04-11T15:32:50.735352",
     "status": "completed"
    },
    "tags": []
   },
   "outputs": [],
   "source": [
    "train_ds = GraphImageSequenceDataset(df[df['date_value'] <= max_train_date], img_dict)\n",
    "test_ds = GraphImageSequenceDataset(df[df['date_value'] > max_train_date], img_dict)\n",
    "\n",
    "train_dl = DataLoader(train_ds, batch_size = CFG.batch_size, shuffle=True)\n",
    "test_dl = DataLoader(test_ds, batch_size = CFG.batch_size, shuffle=True)"
   ]
  },
  {
   "cell_type": "code",
   "execution_count": 12,
   "id": "0a47c581",
   "metadata": {
    "execution": {
     "iopub.execute_input": "2025-04-11T15:32:53.216969Z",
     "iopub.status.busy": "2025-04-11T15:32:53.216703Z",
     "iopub.status.idle": "2025-04-11T15:32:53.221390Z",
     "shell.execute_reply": "2025-04-11T15:32:53.220756Z"
    },
    "papermill": {
     "duration": 0.016777,
     "end_time": "2025-04-11T15:32:53.222650",
     "exception": false,
     "start_time": "2025-04-11T15:32:53.205873",
     "status": "completed"
    },
    "tags": []
   },
   "outputs": [
    {
     "data": {
      "text/plain": [
       "66"
      ]
     },
     "execution_count": 12,
     "metadata": {},
     "output_type": "execute_result"
    }
   ],
   "source": [
    "assert np.all(train_ds.lat_lon_pairs == test_ds.lat_lon_pairs)\n",
    "\n",
    "len(train_ds)"
   ]
  },
  {
   "cell_type": "code",
   "execution_count": 13,
   "id": "a673ffa3",
   "metadata": {
    "execution": {
     "iopub.execute_input": "2025-04-11T15:32:53.244435Z",
     "iopub.status.busy": "2025-04-11T15:32:53.244193Z",
     "iopub.status.idle": "2025-04-11T15:32:53.246891Z",
     "shell.execute_reply": "2025-04-11T15:32:53.246287Z"
    },
    "papermill": {
     "duration": 0.015116,
     "end_time": "2025-04-11T15:32:53.248124",
     "exception": false,
     "start_time": "2025-04-11T15:32:53.233008",
     "status": "completed"
    },
    "tags": []
   },
   "outputs": [],
   "source": [
    "# x, y, m = train_ds[0]\n",
    "# x[35][0]"
   ]
  },
  {
   "cell_type": "code",
   "execution_count": 14,
   "id": "e4cd909f",
   "metadata": {
    "execution": {
     "iopub.execute_input": "2025-04-11T15:32:53.267311Z",
     "iopub.status.busy": "2025-04-11T15:32:53.267085Z",
     "iopub.status.idle": "2025-04-11T15:32:53.270005Z",
     "shell.execute_reply": "2025-04-11T15:32:53.269380Z"
    },
    "papermill": {
     "duration": 0.013782,
     "end_time": "2025-04-11T15:32:53.271262",
     "exception": false,
     "start_time": "2025-04-11T15:32:53.257480",
     "status": "completed"
    },
    "tags": []
   },
   "outputs": [],
   "source": [
    "# train_ds.sequences[0].head(70).tail(35).head()"
   ]
  },
  {
   "cell_type": "code",
   "execution_count": 15,
   "id": "cabfdd10",
   "metadata": {
    "execution": {
     "iopub.execute_input": "2025-04-11T15:32:53.291384Z",
     "iopub.status.busy": "2025-04-11T15:32:53.291145Z",
     "iopub.status.idle": "2025-04-11T15:32:53.298222Z",
     "shell.execute_reply": "2025-04-11T15:32:53.297421Z"
    },
    "papermill": {
     "duration": 0.018974,
     "end_time": "2025-04-11T15:32:53.299436",
     "exception": false,
     "start_time": "2025-04-11T15:32:53.280462",
     "status": "completed"
    },
    "tags": []
   },
   "outputs": [
    {
     "data": {
      "text/plain": [
       "(torch.Size([70, 133, 10]), torch.Size([35, 133, 2]), torch.Size([35, 133, 1]))"
      ]
     },
     "execution_count": 15,
     "metadata": {},
     "output_type": "execute_result"
    }
   ],
   "source": [
    "xt, yt, mt = train_ds[0]\n",
    "xt.shape, yt.shape, mt.shape"
   ]
  },
  {
   "cell_type": "markdown",
   "id": "9c1c7ed7",
   "metadata": {
    "papermill": {
     "duration": 0.009292,
     "end_time": "2025-04-11T15:32:53.319883",
     "exception": false,
     "start_time": "2025-04-11T15:32:53.310591",
     "status": "completed"
    },
    "tags": []
   },
   "source": [
    "## RNN"
   ]
  },
  {
   "cell_type": "code",
   "execution_count": 16,
   "id": "b3e8a554",
   "metadata": {
    "execution": {
     "iopub.execute_input": "2025-04-11T15:32:53.339353Z",
     "iopub.status.busy": "2025-04-11T15:32:53.339106Z",
     "iopub.status.idle": "2025-04-11T15:32:55.183327Z",
     "shell.execute_reply": "2025-04-11T15:32:55.182640Z"
    },
    "papermill": {
     "duration": 1.855893,
     "end_time": "2025-04-11T15:32:55.185065",
     "exception": false,
     "start_time": "2025-04-11T15:32:53.329172",
     "status": "completed"
    },
    "tags": []
   },
   "outputs": [],
   "source": [
    "from torch_geometric.nn import GCNConv, GATConv\n",
    "\n",
    "class TemporalConvLayer(nn.Module):\n",
    "    def __init__(self, input_size, output_size, kernel_size=3, dropout=0.2):\n",
    "        super(TemporalConvLayer, self).__init__()\n",
    "        self.conv = nn.Conv2d(input_size, output_size, (kernel_size, 1), padding=(kernel_size // 2, 0))\n",
    "        self.relu = nn.ReLU()\n",
    "        self.dropout = nn.Dropout(p=dropout)\n",
    "\n",
    "    def forward(self, x):\n",
    "        out = self.conv(x)\n",
    "        out = self.relu(out)\n",
    "        return self.dropout(out)\n",
    "\n",
    "# class STGCNBlock(nn.Module):\n",
    "#     def __init__(self, input_size, spatial_size, out_size, num_nodes, edge_index, dropout=0.2):\n",
    "#         super(STGCNBlock, self).__init__()\n",
    "#         self.temporal1 = TemporalConvLayer(input_size, out_size)\n",
    "#         if CFG.attention:\n",
    "#             self.gcn = GATConv(out_size, spatial_size, heads=CFG.num_heads, concat=False)\n",
    "#         else:\n",
    "#             self.gcn = GCNConv(out_size, spatial_size)\n",
    "#         self.temporal2 = TemporalConvLayer(spatial_size, out_size)\n",
    "\n",
    "#         self.batch_norm = nn.BatchNorm2d(out_size)\n",
    "#         self.dropout = nn.Dropout(dropout)\n",
    "        \n",
    "#         self.num_nodes = num_nodes\n",
    "#         self.edge_index = edge_index\n",
    "\n",
    "#     def reset_index(self, edge_index):\n",
    "#         self.edge_index = edge_index\n",
    "\n",
    "#     def forward(self, x):\n",
    "#         x = self.temporal1(x)\n",
    "#         b, c, t, n = x.shape\n",
    "#         # x = x.permute(0, 2, 3, 1).contiguous() # (batch, seq_len, num_nodes, channels)\n",
    "#         # x = x.view(-1, n, c)\n",
    "\n",
    "#         b, c, t, n = x.shape\n",
    "#         orig_t = t  # preserve original sequence length\n",
    "\n",
    "#         x = x.permute(0, 2, 3, 1).contiguous()  # (batch, seq_len, num_nodes, channels)\n",
    "#         x = x.view(-1, n, c)  # Flatten temporal dimension\n",
    "\n",
    "#         gcn_out = []\n",
    "#         for t in range(x.shape[0]):\n",
    "#             xt = x[t]\n",
    "#             xt = self.gcn(xt, self.edge_index)\n",
    "#             gcn_out.append(xt)\n",
    "        \n",
    "#         # x = torch.stack(gcn_out, dim=0)  # (batch*seq_len, num_nodes, spatial_channels)\n",
    "#         # x = x.view(b, t, n, -1).permute(0, 3, 1, 2)  # (batch, spatial_channels, seq_len, num_nodes)\n",
    "#         # x = self.temporal2(x)\n",
    "#         # x = self.batch_norm(x)\n",
    "#         # return self.dropout(x)\n",
    "\n",
    "#         x = torch.stack(gcn_out, dim=0)  # (batch*seq_len, num_nodes, spatial_channels)\n",
    "#         x = x.view(b, orig_t, n, -1).permute(0, 3, 1, 2)  # (batch, spatial_channels, seq_len, num_nodes)\n",
    "#         x = self.temporal2(x)\n",
    "#         x = self.batch_norm(x)\n",
    "#         return self.dropout(x)\n",
    "\n",
    "class STGCNBlock(nn.Module):\n",
    "    def __init__(self, input_size, spatial_size, out_size, num_nodes, edge_index, dropout=0.2, attention=False):\n",
    "        super(STGCNBlock, self).__init__()\n",
    "        self.temporal1 = TemporalConvLayer(input_size, out_size)\n",
    "\n",
    "        self.attention = attention\n",
    "        if attention:\n",
    "            self.gcn = GATConv(out_size, spatial_size, heads=CFG.num_heads, concat=False)\n",
    "        else:\n",
    "            self.register_buffer(\"A_hat\", self.compute_normalized_adjacency(edge_index))\n",
    "\n",
    "        self.temporal2 = TemporalConvLayer(spatial_size, out_size)\n",
    "        self.batch_norm = nn.BatchNorm2d(out_size)\n",
    "        self.dropout = nn.Dropout(dropout)\n",
    "\n",
    "        self.num_nodes = num_nodes\n",
    "        self.edge_index = edge_index.to(device)\n",
    "\n",
    "    def compute_normalized_adjacency(self, edge_index):\n",
    "        num_nodes = int(edge_index.max().item()) + 1\n",
    "        A = torch.zeros((num_nodes, num_nodes), dtype=torch.float32)\n",
    "        A[edge_index[0], edge_index[1]] = 1.0\n",
    "        A += torch.eye(num_nodes)\n",
    "        D = A.sum(1)\n",
    "        D_inv_sqrt = torch.diag(torch.pow(D, -0.5))\n",
    "        A_hat = D_inv_sqrt @ A @ D_inv_sqrt\n",
    "        return A_hat\n",
    "\n",
    "    def reset_index(self, edge_index):\n",
    "        self.edge_index = edge_index.to(device)\n",
    "        if not self.attention:\n",
    "            self.A_hat = self.compute_normalized_adjacency(edge_index).to(device)\n",
    "\n",
    "    def forward(self, x):\n",
    "        x = self.temporal1(x)  # [B, C, T, N]\n",
    "        b, c, t, n = x.shape\n",
    "\n",
    "        x = x.permute(0, 2, 3, 1).contiguous().view(-1, n, c)  # [B*T, N, C]\n",
    "\n",
    "        if self.attention:\n",
    "            x = x.view(-1, c)  # [B*T*N, C]\n",
    "            num_graphs = b * t\n",
    "            E = self.edge_index.size(1)\n",
    "            edge_index = self.edge_index.repeat(1, num_graphs)  # [2, E * (B*T)]\n",
    "            node_offsets = torch.arange(num_graphs, device=x.device).repeat_interleave(E) * n\n",
    "            edge_index += node_offsets.unsqueeze(0)\n",
    "            x = self.gcn(x, edge_index)  # [B*T*N, spatial_size]\n",
    "            x = x.view(b, t, n, -1)\n",
    "        else:\n",
    "            x = torch.matmul(self.A_hat.to(x.device), x)  # [B*T, N, C] -> GCN step\n",
    "            x = x.view(b, t, n, -1)\n",
    "\n",
    "        x = x.permute(0, 3, 1, 2).contiguous()  # [B, spatial_size, T, N]\n",
    "        x = self.temporal2(x)\n",
    "        x = self.batch_norm(x)\n",
    "        return self.dropout(x)\n",
    "\n",
    "\n",
    "class ImageFeatureExtractor(nn.Module):\n",
    "    def __init__(\n",
    "        self,\n",
    "        img_tensor,\n",
    "        input_size=32,\n",
    "        output_dim=32,\n",
    "        dropout=0.2,\n",
    "    ):\n",
    "        super(ImageFeatureExtractor, self).__init__()\n",
    "        \n",
    "        self.input_size = 32\n",
    "        self.output_dim = output_dim\n",
    "        self.img_tensor = img_tensor.to(device)\n",
    "        self.img_tensor.requires_grad_(False)\n",
    "        \n",
    "        self.model = nn.Sequential(\n",
    "            nn.Conv2d(3, 16, 3), # 30x30\n",
    "            nn.ReLU(),\n",
    "            nn.MaxPool2d(2), # 15x15\n",
    "            nn.Conv2d(16, 32, 4), # 12x12\n",
    "            nn.BatchNorm2d(32),\n",
    "            nn.Dropout(dropout),\n",
    "            nn.ReLU(),\n",
    "            nn.MaxPool2d(2), # 6x6\n",
    "            nn.Conv2d(32, 32, 3), # 4x4\n",
    "            nn.BatchNorm2d(32),\n",
    "            nn.ReLU(),\n",
    "            nn.Dropout(dropout),\n",
    "            nn.MaxPool2d(2), # 2x2\n",
    "            nn.Flatten(),\n",
    "            nn.Linear(4*32, output_dim),\n",
    "            nn.Dropout(dropout),\n",
    "            nn.ReLU()\n",
    "        )\n",
    "\n",
    "    def reset_img_tensor(self, img_tensor):\n",
    "        self.img_tensor = img_tensor.to(device)\n",
    "        self.img_tensor.requires_grad_(False)\n",
    "    \n",
    "    def forward(self):\n",
    "        return self.model(self.img_tensor) # (num_nodes, feature_embedding)\n",
    "\n",
    "class STGNNImage(nn.Module):\n",
    "    def __init__(\n",
    "        self, \n",
    "        input_size, \n",
    "        spatial_size, \n",
    "        hidden_size, \n",
    "        num_nodes, \n",
    "        rnn_num_layers,\n",
    "        forecast_horizon,\n",
    "        img_tensor,\n",
    "        output_size=2,\n",
    "        num_gcn_blocks=2,\n",
    "        dropout=0.2,\n",
    "        graph_dropout=0,\n",
    "        edge_index=None\n",
    "    ):\n",
    "        super(STGNNImage, self).__init__()\n",
    "\n",
    "        self.edge_index = edge_index\n",
    "\n",
    "        self.gcnblocks = nn.ModuleList()\n",
    "        self.gcnblocks.append(\n",
    "            STGCNBlock(input_size, spatial_size, hidden_size, num_nodes, edge_index, dropout=graph_dropout)\n",
    "        )\n",
    "\n",
    "        for _ in range(num_gcn_blocks - 1):\n",
    "            self.gcnblocks.append(\n",
    "                STGCNBlock(hidden_size, spatial_size, hidden_size, num_nodes, edge_index, dropout=graph_dropout)\n",
    "            )\n",
    "        \n",
    "        if CFG.model_kind == 'rnn':\n",
    "            self.rnn = nn.RNN(\n",
    "                hidden_size, \n",
    "                hidden_size, \n",
    "                rnn_num_layers, \n",
    "                batch_first=True, \n",
    "                dropout=dropout\n",
    "            )\n",
    "        elif CFG.model_kind == 'lstm':\n",
    "            self.rnn = nn.LSTM(\n",
    "                hidden_size, \n",
    "                hidden_size, \n",
    "                rnn_num_layers, \n",
    "                batch_first=True, \n",
    "                dropout=dropout,\n",
    "                bidirectional = CFG.bidirectional\n",
    "            )\n",
    "        elif CFG.model_kind == 'gru':\n",
    "            self.rnn = nn.GRU(\n",
    "                hidden_size, \n",
    "                hidden_size, \n",
    "                rnn_num_layers, \n",
    "                batch_first=True, \n",
    "                dropout=dropout,\n",
    "                bidirectional = CFG.bidirectional\n",
    "            )\n",
    "        \n",
    "        self.rnn = self.rnn.to(device)\n",
    "        self.fc = nn.Linear(hidden_size + 32, forecast_horizon * output_size)\n",
    "\n",
    "        self.output_size = output_size\n",
    "        self.forecast_horizon = forecast_horizon\n",
    "\n",
    "        self.img_extractor = ImageFeatureExtractor(img_tensor, dropout=dropout)\n",
    "\n",
    "    def reset_index(self, edge_index):\n",
    "        self.edge_index = edge_index\n",
    "        for block in self.gcnblocks:\n",
    "            block.reset_index(edge_index)\n",
    "\n",
    "    def reset_img_tensor(self, img_tensor):\n",
    "        self.img_extractor.reset_img_tensor(img_tensor)\n",
    "\n",
    "    def forward(self, x):\n",
    "        x = x.permute(0, 3, 1, 2)\n",
    "        # print(x.shape)\n",
    "        for block in self.gcnblocks:\n",
    "            x = block(x)\n",
    "            # print(x.shape)\n",
    "\n",
    "        # Final RNN\n",
    "        b, c, t, n = x.shape\n",
    "        x = x.permute(0, 3, 2, 1).contiguous()\n",
    "        x = x.view(b * n, t, c)\n",
    "\n",
    "        x, _ = self.rnn(x)\n",
    "        x = x[:, -1, :]\n",
    "\n",
    "        features = self.img_extractor()\n",
    "        features = features.unsqueeze(0).expand(b, n, 32)\n",
    "        \n",
    "        x = x.view(b, n, -1)\n",
    "        x = torch.cat([x, features], dim = -1)\n",
    "        x = x.view(b * n, -1)\n",
    "        \n",
    "        out = self.fc(x) # (batch * num_nodes, forecast_horizon * output_size)\n",
    "\n",
    "        out = out.view(b, self.forecast_horizon, n, -1)  # (batch, num_nodes, forecast_horizon, output_size)\n",
    "        return out\n"
   ]
  },
  {
   "cell_type": "code",
   "execution_count": 17,
   "id": "af69e2ea",
   "metadata": {
    "execution": {
     "iopub.execute_input": "2025-04-11T15:32:55.205082Z",
     "iopub.status.busy": "2025-04-11T15:32:55.204858Z",
     "iopub.status.idle": "2025-04-11T15:32:55.208236Z",
     "shell.execute_reply": "2025-04-11T15:32:55.207438Z"
    },
    "papermill": {
     "duration": 0.014539,
     "end_time": "2025-04-11T15:32:55.209473",
     "exception": false,
     "start_time": "2025-04-11T15:32:55.194934",
     "status": "completed"
    },
    "tags": []
   },
   "outputs": [],
   "source": [
    "# def get_model(\n",
    "#     input_size = 10, \n",
    "#     spatial_size = 32, \n",
    "#     hidden_size = 32,\n",
    "#     rnn_num_layers = 3,\n",
    "#     num_gcn_blocks = 2,\n",
    "#     dropout = 0.2,\n",
    "#     graph_dropout = 0.1\n",
    "# ):\n",
    "#     if input_size is None:\n",
    "#         input_size = len(CFG.features)\n",
    "#     model = STGNN(\n",
    "#         input_size = input_size, \n",
    "#         spatial_size = spatial_size, \n",
    "#         hidden_size = hidden_size, \n",
    "#         num_nodes = len(train_ds.lat_lon_pairs), \n",
    "#         rnn_num_layers = rnn_num_layers,\n",
    "#         forecast_horizon = 35, \n",
    "#         output_size=2,\n",
    "#         num_gcn_blocks=num_gcn_blocks,\n",
    "#         dropout = dropout,\n",
    "#         graph_dropout = graph_dropout,\n",
    "#     )\n",
    "#     return model\n",
    "\n",
    "# model = get_model(\n",
    "#     spatial_size = CFG.spatial_size, \n",
    "#     hidden_size = CFG.hidden_size,\n",
    "#     rnn_num_layers = CFG.rnn_num_layers,\n",
    "#     num_gcn_blocks = CFG.num_gcn_blocks,\n",
    "#     dropout = CFG.model_dropout,\n",
    "#     graph_dropout = CFG.graph_dropout,\n",
    "# )\n",
    "# criterion = MaskedMSELoss()\n",
    "# optimizer = get_optimizer(model, lr = CFG.lr)\n",
    "# scheduler = get_reduce_lr(optimizer, factor=CFG.factor, patience=CFG.patience)\n",
    "\n",
    "# validate(model, test_dl, criterion, verbose=True)"
   ]
  },
  {
   "cell_type": "code",
   "execution_count": 18,
   "id": "f80758d4",
   "metadata": {
    "execution": {
     "iopub.execute_input": "2025-04-11T15:32:55.228906Z",
     "iopub.status.busy": "2025-04-11T15:32:55.228694Z",
     "iopub.status.idle": "2025-04-11T15:32:55.921222Z",
     "shell.execute_reply": "2025-04-11T15:32:55.920497Z"
    },
    "papermill": {
     "duration": 0.703777,
     "end_time": "2025-04-11T15:32:55.922682",
     "exception": false,
     "start_time": "2025-04-11T15:32:55.218905",
     "status": "completed"
    },
    "tags": []
   },
   "outputs": [],
   "source": [
    "from sklearn.neighbors import NearestNeighbors\n",
    "import matplotlib.pyplot as plt\n",
    "import networkx as nx\n",
    "\n",
    "def build_knn_graph(lat_lon_array, k=None):\n",
    "    if k is None:\n",
    "        k = CFG.edge_index_k\n",
    "    nbrs = NearestNeighbors(n_neighbors=k+1, algorithm='ball_tree').fit(lat_lon_array)\n",
    "    distances, indices = nbrs.kneighbors(lat_lon_array)\n",
    "\n",
    "    edge_index = []\n",
    "    for i in range(len(lat_lon_array)):\n",
    "        for j in indices[i][1:]:  # skip self-loop (first neighbor is itself)\n",
    "            edge_index.append([i, j])\n",
    "            edge_index.append([j, i])\n",
    "\n",
    "    edge_index = torch.tensor(edge_index, dtype=torch.long).t().contiguous()  # shape [2, num_edges]\n",
    "    return edge_index\n",
    "\n",
    "def visualize_graph(lat_lon_array, edge_index, figsize=(8, 8)):\n",
    "    G = nx.Graph()\n",
    "    coords = {i: (lon, lat) for i, (lat, lon) in enumerate(lat_lon_array)}  # note (x=lon, y=lat)\n",
    "\n",
    "    G.add_nodes_from(coords.keys())\n",
    "    edges = list(zip(edge_index[0].tolist(), edge_index[1].tolist()))\n",
    "    G.add_edges_from(edges)\n",
    "\n",
    "    plt.figure(figsize=figsize)\n",
    "    nx.draw(G, pos=coords, node_size=20, edge_color='gray', node_color='blue')\n",
    "    plt.title(\"kNN Spatial Graph from Coordinates\")\n",
    "    plt.axis('equal')\n",
    "    plt.show()\n"
   ]
  },
  {
   "cell_type": "code",
   "execution_count": 19,
   "id": "bc21b3b1",
   "metadata": {
    "execution": {
     "iopub.execute_input": "2025-04-11T15:32:55.943105Z",
     "iopub.status.busy": "2025-04-11T15:32:55.942452Z",
     "iopub.status.idle": "2025-04-11T15:32:56.160142Z",
     "shell.execute_reply": "2025-04-11T15:32:56.159277Z"
    },
    "papermill": {
     "duration": 0.230991,
     "end_time": "2025-04-11T15:32:56.163420",
     "exception": false,
     "start_time": "2025-04-11T15:32:55.932429",
     "status": "completed"
    },
    "tags": []
   },
   "outputs": [
    {
     "data": {
      "image/png": "[encoded data removed]",
      "text/plain": [
       "<Figure size 800x800 with 1 Axes>"
      ]
     },
     "metadata": {},
     "output_type": "display_data"
    }
   ],
   "source": [
    "dense_edge_index = build_knn_graph(train_ds.lat_lon_pairs)\n",
    "visualize_graph(train_ds.lat_lon_pairs, dense_edge_index, figsize=(8, 8))"
   ]
  },
  {
   "cell_type": "code",
   "execution_count": 20,
   "id": "b80c85ce",
   "metadata": {
    "execution": {
     "iopub.execute_input": "2025-04-11T15:32:56.191740Z",
     "iopub.status.busy": "2025-04-11T15:32:56.191468Z",
     "iopub.status.idle": "2025-04-11T15:32:56.196185Z",
     "shell.execute_reply": "2025-04-11T15:32:56.195394Z"
    },
    "papermill": {
     "duration": 0.019745,
     "end_time": "2025-04-11T15:32:56.197413",
     "exception": false,
     "start_time": "2025-04-11T15:32:56.177668",
     "status": "completed"
    },
    "tags": []
   },
   "outputs": [],
   "source": [
    "def get_model(\n",
    "    img_tensor,\n",
    "    input_size = 10, \n",
    "    spatial_size = 32, \n",
    "    hidden_size = 32,\n",
    "    rnn_num_layers = 3,\n",
    "    num_gcn_blocks = 2,\n",
    "    dropout = 0.2,\n",
    "    graph_dropout = 0.1,\n",
    "    edge_index=None,\n",
    "    forecast_horizon=35,\n",
    "    model_kind='gru',\n",
    "    attention=False,\n",
    "):\n",
    "    if input_size is None:\n",
    "        input_size = len(CFG.features)\n",
    "\n",
    "    if edge_index is None:\n",
    "        edge_index = dense_edge_index\n",
    "        \n",
    "    model = STGNNImage(\n",
    "        input_size = input_size, \n",
    "        spatial_size = spatial_size, \n",
    "        hidden_size = hidden_size, \n",
    "        num_nodes = len(train_ds.lat_lon_pairs), \n",
    "        rnn_num_layers = rnn_num_layers,\n",
    "        forecast_horizon = forecast_horizon, \n",
    "        output_size=2,\n",
    "        num_gcn_blocks=num_gcn_blocks,\n",
    "        dropout = dropout,\n",
    "        graph_dropout = graph_dropout,\n",
    "        edge_index = edge_index,\n",
    "        img_tensor = img_tensor\n",
    "    )\n",
    "    return model"
   ]
  },
  {
   "cell_type": "markdown",
   "id": "751cdea0",
   "metadata": {
    "papermill": {
     "duration": 0.012795,
     "end_time": "2025-04-11T15:32:56.223158",
     "exception": false,
     "start_time": "2025-04-11T15:32:56.210363",
     "status": "completed"
    },
    "tags": []
   },
   "source": [
    "## Train and Validation Functions"
   ]
  },
  {
   "cell_type": "code",
   "execution_count": 21,
   "id": "63b18581",
   "metadata": {
    "execution": {
     "iopub.execute_input": "2025-04-11T15:32:56.250198Z",
     "iopub.status.busy": "2025-04-11T15:32:56.249994Z",
     "iopub.status.idle": "2025-04-11T15:32:56.256447Z",
     "shell.execute_reply": "2025-04-11T15:32:56.255865Z"
    },
    "papermill": {
     "duration": 0.021417,
     "end_time": "2025-04-11T15:32:56.257684",
     "exception": false,
     "start_time": "2025-04-11T15:32:56.236267",
     "status": "completed"
    },
    "tags": []
   },
   "outputs": [],
   "source": [
    "class MaskedMSELoss(nn.Module):\n",
    "    def __init__(self, eps=1e-6):\n",
    "        super(MaskedMSELoss, self).__init__()\n",
    "        self.eps = eps\n",
    "\n",
    "    def forward(self, preds, targets, mask):\n",
    "        loss = (preds - targets) ** 2\n",
    "        masked_loss = (loss * mask).sum() / (mask.sum() + self.eps)\n",
    "        return masked_loss\n",
    "\n",
    "class MaskedMAELoss(nn.Module):\n",
    "    def __init__(self, eps=1e-6):\n",
    "        super(MaskedMAELoss, self).__init__()\n",
    "        self.eps = eps\n",
    "\n",
    "    def forward(self, preds, targets, mask):\n",
    "        loss = abs(preds - targets)\n",
    "        masked_loss = (loss * mask).sum() / (mask.sum() + self.eps)\n",
    "        return masked_loss\n",
    "\n",
    "class MaskedR2(nn.Module):\n",
    "    def __init__(self, eps=1e-6):\n",
    "        super(MaskedR2, self).__init__()\n",
    "        self.eps = eps\n",
    "\n",
    "    def forward(self, preds, targets, mask):\n",
    "        error = ((targets - preds) ** 2) * mask\n",
    "        masked_mse = error.sum() / (mask.sum() + self.eps)\n",
    "        mean_y = (targets * mask).sum() / (mask.sum() + self.eps)\n",
    "        total_var = (((targets - mean_y) ** 2) * mask).sum() / (mask.sum() + self.eps)\n",
    "        r2 = 1 - (masked_mse / (total_var + self.eps))\n",
    "        return r2\n",
    "\n",
    "masked_metrics_dict = {\n",
    "    'MSE': MaskedMSELoss(),\n",
    "    'MAE': MaskedMAELoss(),\n",
    "    'r2 score': MaskedR2(),\n",
    "}"
   ]
  },
  {
   "cell_type": "code",
   "execution_count": 22,
   "id": "4ecd407a",
   "metadata": {
    "execution": {
     "iopub.execute_input": "2025-04-11T15:32:56.284249Z",
     "iopub.status.busy": "2025-04-11T15:32:56.284049Z",
     "iopub.status.idle": "2025-04-11T15:32:56.289428Z",
     "shell.execute_reply": "2025-04-11T15:32:56.288622Z"
    },
    "papermill": {
     "duration": 0.019729,
     "end_time": "2025-04-11T15:32:56.290525",
     "exception": false,
     "start_time": "2025-04-11T15:32:56.270796",
     "status": "completed"
    },
    "tags": []
   },
   "outputs": [],
   "source": [
    "class RunningLoss:\n",
    "    def __init__(self, window = 10):\n",
    "        self.loss = 0\n",
    "        self.total = 0\n",
    "        self.loss_last = []\n",
    "        self.total_last = []\n",
    "\n",
    "        self.window = window\n",
    "    \n",
    "    def update(self, loss, batch_size):\n",
    "        total = 1\n",
    "        self.loss += loss\n",
    "        self.total += 1\n",
    "        \n",
    "        self.loss_last.append(loss)\n",
    "        self.total_last.append(total)\n",
    "        if len(self.loss_last) > self.window:\n",
    "            self.loss_last.pop(0)\n",
    "            self.total_last.pop(0)\n",
    "    \n",
    "    def reset(self):\n",
    "        self.loss = 0\n",
    "        self.total = 0\n",
    "        self.loss_last = []\n",
    "        self.total_last = []\n",
    "\n",
    "    def print(self):\n",
    "        print(f\"Accuracy: {self.loss / self.total}\")\n",
    "    \n",
    "    def get_curr_stats(self):\n",
    "        return sum(self.loss_last) / sum(self.total_last)\n",
    "\n",
    "    def total_stats(self):\n",
    "        return self.loss / self.total\n"
   ]
  },
  {
   "cell_type": "code",
   "execution_count": 23,
   "id": "f6f26441",
   "metadata": {
    "execution": {
     "iopub.execute_input": "2025-04-11T15:32:56.318240Z",
     "iopub.status.busy": "2025-04-11T15:32:56.318010Z",
     "iopub.status.idle": "2025-04-11T15:32:56.324146Z",
     "shell.execute_reply": "2025-04-11T15:32:56.323499Z"
    },
    "papermill": {
     "duration": 0.020653,
     "end_time": "2025-04-11T15:32:56.325291",
     "exception": false,
     "start_time": "2025-04-11T15:32:56.304638",
     "status": "completed"
    },
    "tags": []
   },
   "outputs": [],
   "source": [
    "def validate(\n",
    "    model,\n",
    "    test_dl,\n",
    "    criterion,\n",
    "    verbose=True,\n",
    "    get_predict=False,\n",
    "):\n",
    "    model.eval()\n",
    "    running_loss = RunningLoss()\n",
    "    \n",
    "    predict_array = []\n",
    "    true_array = []\n",
    "    mask_array = []\n",
    "    \n",
    "    if verbose >= 1:\n",
    "        pbar = tqdm(total = len(test_dl), ncols = 110, desc = \"Validation Progress\") # , dynamic_ncols=True, leave=False)\n",
    "    else:\n",
    "        pbar = None\n",
    "\n",
    "    with torch.no_grad():\n",
    "        for i, (x, y, mask) in enumerate(test_dl):\n",
    "            x, y, mask = x.to(device), y.to(device), mask.to(device)\n",
    "            pred = model(x)\n",
    "\n",
    "            pred = target_scaler.inverse_transform(pred)\n",
    "            y = target_scaler.inverse_transform(y)\n",
    "\n",
    "            temp_loss = criterion(pred, y, mask)\n",
    "            running_loss.update(temp_loss.item(), batch_size=x.shape[0])\n",
    "\n",
    "            if get_predict:\n",
    "                predict_array.append(pred)\n",
    "                true_array.append(y)\n",
    "                mask_array.append(mask)\n",
    "\n",
    "            if verbose >= 1:\n",
    "                total = len(test_dl)\n",
    "                curr_loss = np.sqrt(running_loss.get_curr_stats())\n",
    "                pbar.set_description(f\"Validation Step {i} / {total}\")\n",
    "                pbar.set_postfix(Loss=f\"{curr_loss:.4f}\")\n",
    "                pbar.update(1)\n",
    "        if verbose >= 1:\n",
    "            pbar.close()\n",
    "\n",
    "    model.train()\n",
    "\n",
    "    if get_predict:\n",
    "        return predict_array, true_array, mask_array, np.sqrt(running_loss.total_stats())\n",
    "    \n",
    "    return np.sqrt(running_loss.total_stats())\n"
   ]
  },
  {
   "cell_type": "code",
   "execution_count": 24,
   "id": "9029f1e8",
   "metadata": {
    "execution": {
     "iopub.execute_input": "2025-04-11T15:32:56.352334Z",
     "iopub.status.busy": "2025-04-11T15:32:56.352069Z",
     "iopub.status.idle": "2025-04-11T15:32:56.363815Z",
     "shell.execute_reply": "2025-04-11T15:32:56.363031Z"
    },
    "papermill": {
     "duration": 0.026891,
     "end_time": "2025-04-11T15:32:56.365104",
     "exception": false,
     "start_time": "2025-04-11T15:32:56.338213",
     "status": "completed"
    },
    "tags": []
   },
   "outputs": [],
   "source": [
    "def train(\n",
    "        model,\n",
    "        criterion,\n",
    "        optimizer,\n",
    "        num_epochs,\n",
    "        train_dataloader,\n",
    "        val_dataloader,\n",
    "        scheduler=None,\n",
    "        do_validate=False,\n",
    "        validate_frequency=1,\n",
    "        verbose=True,\n",
    "        metrics_dict=None,\n",
    "        model_name=\"gnn_\"\n",
    "):\n",
    "    if metrics_dict is None:\n",
    "        metrics_dict = masked_metrics_dict\n",
    "    \n",
    "    loss_list = []\n",
    "    val_loss_list = []\n",
    "    all_loss_list = []\n",
    "\n",
    "    best_val_loss = 100000000\n",
    "    best_val_loss25 = 100000000\n",
    "    best_val_loss10 = 100000000\n",
    "\n",
    "    for epoch in tqdm(range(num_epochs), disable=verbose >= -1):\n",
    "        running_loss = RunningLoss()\n",
    "        if verbose >= 1:\n",
    "            pbar = tqdm(total = len(train_dataloader), ncols = 110, desc = \"Training Progress\") # , dynamic_ncols=True, leave=False)\n",
    "        else:\n",
    "            pbar = None\n",
    "        \n",
    "        for i, (x, y, mask) in enumerate(train_dataloader):\n",
    "            x, y, mask = x.to(device), y.to(device), mask.to(device)\n",
    "\n",
    "            optimizer.zero_grad()\n",
    "            \n",
    "            pred = model(x)\n",
    "            loss = criterion(pred, y, mask)\n",
    "            loss.backward()\n",
    "\n",
    "            optimizer.step()\n",
    "\n",
    "            all_loss_list.append(loss.item())\n",
    "\n",
    "            with torch.no_grad():\n",
    "                pred = target_scaler.inverse_transform(pred)\n",
    "                y = target_scaler.inverse_transform(y)\n",
    "                temp_loss = torch.sqrt(criterion(pred, y, mask))\n",
    "                running_loss.update(temp_loss.item(), batch_size=x.shape[0])\n",
    "\n",
    "            if verbose >= 1:\n",
    "                total = len(train_dataloader)\n",
    "                curr_loss = running_loss.get_curr_stats()\n",
    "                pbar.set_description(f\"Epoch {epoch}: Step {i} / {total}\")\n",
    "                pbar.set_postfix(Loss=f\"{curr_loss:.4f}\")\n",
    "                pbar.update(1)\n",
    "        if verbose >= 1:\n",
    "            print(f\"Train Loss Total: {running_loss.total_stats()}\")\n",
    "            pbar.close()\n",
    "        \n",
    "        if do_validate and epoch % validate_frequency == validate_frequency - 1:\n",
    "            pred1, y1, mask1, val_loss = validate(model, val_dataloader, criterion, \n",
    "                                           verbose=verbose, get_predict=True)\n",
    "            pred1 = torch.concat(pred1)\n",
    "            y1 = torch.concat(y1)\n",
    "            mask1 = torch.concat(mask1)\n",
    "            \n",
    "            val_loss_list.append(val_loss)\n",
    "            if scheduler is not None:\n",
    "                scheduler.step(val_loss)\n",
    "            \n",
    "            if verbose >= 1:\n",
    "                print(f\"Val Loss Total: {val_loss}\")\n",
    "\n",
    "            if val_loss < best_val_loss:\n",
    "                if verbose >= 0:\n",
    "                    print(f\"Better Val Loss: {val_loss} < {best_val_loss}\")\n",
    "                best_val_loss = val_loss\n",
    "                torch.save(model.state_dict(), f\"./{model_name}best.pth\")\n",
    "\n",
    "            with torch.no_grad():\n",
    "                for i, t in enumerate(CFG.target_list):\n",
    "                    for n, m in metrics_dict.items():\n",
    "                        l = m(pred1[:, :, :, i], y1[:, :, :, i], mask1[:, :, :, 0]).cpu().detach()\n",
    "                        l = float(l)\n",
    "                        if n == 'MSE':\n",
    "                            mse_loss = np.sqrt(l)\n",
    "                            if verbose >= 1:\n",
    "                                print(f\"{t}: {n}: {mse_loss}\")\n",
    "                            \n",
    "                            if i == 0 and mse_loss < best_val_loss25:\n",
    "                                if verbose >= 0:\n",
    "                                    print(f\"----------Better MSE on pm2_5 {mse_loss} < {best_val_loss25}\")\n",
    "                                torch.save(model.state_dict(), f\"./{model_name}2_5.pth\")\n",
    "                                best_val_loss25 = mse_loss\n",
    "                            if i == 1 and mse_loss < best_val_loss10:\n",
    "                                if verbose >= 0:\n",
    "                                    print(f\"----------Better MSE on pm10 {mse_loss} < {best_val_loss10}\")\n",
    "                                torch.save(model.state_dict(), f\"./{model_name}10.pth\")\n",
    "                                best_val_loss10 = mse_loss\n",
    "                        if verbose >= 1:\n",
    "                            if n == 'MSE':\n",
    "                                l = np.sqrt(l)\n",
    "                                l = float(l)\n",
    "                            print(f\"{t}: {n}: {l}\")\n",
    "        \n",
    "        epoch_loss = running_loss.total_stats()\n",
    "        loss_list.append(epoch_loss)\n",
    "    \n",
    "    return loss_list, val_loss_list, all_loss_list\n"
   ]
  },
  {
   "cell_type": "markdown",
   "id": "643c25f5",
   "metadata": {
    "papermill": {
     "duration": 0.012565,
     "end_time": "2025-04-11T15:32:56.390495",
     "exception": false,
     "start_time": "2025-04-11T15:32:56.377930",
     "status": "completed"
    },
    "tags": []
   },
   "source": [
    "## Run"
   ]
  },
  {
   "cell_type": "code",
   "execution_count": 25,
   "id": "138d022e",
   "metadata": {
    "execution": {
     "iopub.execute_input": "2025-04-11T15:32:56.417023Z",
     "iopub.status.busy": "2025-04-11T15:32:56.416818Z",
     "iopub.status.idle": "2025-04-11T15:32:56.420528Z",
     "shell.execute_reply": "2025-04-11T15:32:56.419758Z"
    },
    "papermill": {
     "duration": 0.01834,
     "end_time": "2025-04-11T15:32:56.421741",
     "exception": false,
     "start_time": "2025-04-11T15:32:56.403401",
     "status": "completed"
    },
    "tags": []
   },
   "outputs": [],
   "source": [
    "def get_optimizer(model, lr = 1e-4, weight_decay = 1e-5):\n",
    "    optimizer = Adam(params = model.parameters(), \n",
    "                     lr = lr, weight_decay = weight_decay)\n",
    "    return optimizer\n",
    "\n",
    "def get_reduce_lr(optimizer, factor=0.1, patience=2):\n",
    "    scheduler = ReduceLROnPlateau(optimizer, mode = 'min', factor = factor, patience = patience)\n",
    "    return scheduler"
   ]
  },
  {
   "cell_type": "code",
   "execution_count": 26,
   "id": "5eaae430",
   "metadata": {
    "execution": {
     "iopub.execute_input": "2025-04-11T15:32:56.448533Z",
     "iopub.status.busy": "2025-04-11T15:32:56.448292Z",
     "iopub.status.idle": "2025-04-11T15:32:56.562030Z",
     "shell.execute_reply": "2025-04-11T15:32:56.561391Z"
    },
    "papermill": {
     "duration": 0.12875,
     "end_time": "2025-04-11T15:32:56.563368",
     "exception": false,
     "start_time": "2025-04-11T15:32:56.434618",
     "status": "completed"
    },
    "tags": []
   },
   "outputs": [],
   "source": [
    "model = get_model(\n",
    "    img_tensor=train_ds.imgs,\n",
    "    spatial_size = CFG.spatial_size, \n",
    "    hidden_size = CFG.hidden_size,\n",
    "    rnn_num_layers = CFG.rnn_num_layers,\n",
    "    num_gcn_blocks = CFG.num_gcn_blocks,\n",
    "    dropout = CFG.model_dropout,\n",
    "    graph_dropout = CFG.graph_dropout,\n",
    ").to(device)\n",
    "criterion = MaskedMSELoss().to(device)\n",
    "optimizer = get_optimizer(model, lr = CFG.lr)\n",
    "scheduler = get_reduce_lr(optimizer, factor=CFG.factor, patience=CFG.patience)"
   ]
  },
  {
   "cell_type": "code",
   "execution_count": 27,
   "id": "957995cd",
   "metadata": {
    "execution": {
     "iopub.execute_input": "2025-04-11T15:32:56.590270Z",
     "iopub.status.busy": "2025-04-11T15:32:56.590056Z",
     "iopub.status.idle": "2025-04-11T15:32:56.593025Z",
     "shell.execute_reply": "2025-04-11T15:32:56.592373Z"
    },
    "papermill": {
     "duration": 0.017613,
     "end_time": "2025-04-11T15:32:56.594130",
     "exception": false,
     "start_time": "2025-04-11T15:32:56.576517",
     "status": "completed"
    },
    "tags": []
   },
   "outputs": [],
   "source": [
    "# validate(model, test_dl, criterion, verbose=True)"
   ]
  },
  {
   "cell_type": "code",
   "execution_count": 28,
   "id": "277ff267",
   "metadata": {
    "execution": {
     "iopub.execute_input": "2025-04-11T15:32:56.620845Z",
     "iopub.status.busy": "2025-04-11T15:32:56.620623Z",
     "iopub.status.idle": "2025-04-11T15:32:56.623299Z",
     "shell.execute_reply": "2025-04-11T15:32:56.622721Z"
    },
    "papermill": {
     "duration": 0.017296,
     "end_time": "2025-04-11T15:32:56.624480",
     "exception": false,
     "start_time": "2025-04-11T15:32:56.607184",
     "status": "completed"
    },
    "tags": []
   },
   "outputs": [],
   "source": [
    "# # loss_list, val_loss_list, all_loss_list\n",
    "# # pred1, y1, \n",
    "# loss_list, val_loss_list, all_loss_list = train(\n",
    "#     model,\n",
    "#     criterion,\n",
    "#     optimizer,\n",
    "#     num_epochs=CFG.num_epochs,\n",
    "#     train_dataloader=train_dl,\n",
    "#     val_dataloader=test_dl,\n",
    "#     scheduler=scheduler,\n",
    "#     do_validate=True,\n",
    "#     verbose=False,\n",
    "# )"
   ]
  },
  {
   "cell_type": "code",
   "execution_count": 29,
   "id": "e8d8b313",
   "metadata": {
    "execution": {
     "iopub.execute_input": "2025-04-11T15:32:56.651733Z",
     "iopub.status.busy": "2025-04-11T15:32:56.651474Z",
     "iopub.status.idle": "2025-04-11T15:32:56.657279Z",
     "shell.execute_reply": "2025-04-11T15:32:56.656677Z"
    },
    "papermill": {
     "duration": 0.020823,
     "end_time": "2025-04-11T15:32:56.658519",
     "exception": false,
     "start_time": "2025-04-11T15:32:56.637696",
     "status": "completed"
    },
    "tags": []
   },
   "outputs": [],
   "source": [
    "def get_aqi_category_indices(preds, thresholds):\n",
    "    indices = torch.bucketize(preds, torch.tensor(thresholds).to(device), right=False) - 1\n",
    "    return torch.clamp(indices, min=0, max=5)\n",
    "\n",
    "def compute_aqi_classification_metrics(pred, label, mask):\n",
    "    mask = mask.bool().squeeze(-1)\n",
    "\n",
    "    metrics = {}\n",
    "    for i, (name, thresholds) in enumerate(zip(CFG.target_list, [CFG.pm2_5_thresholds, CFG.pm10_thresholds])):\n",
    "        pred_class = get_aqi_category_indices(pred[..., i], thresholds)\n",
    "        label_class = get_aqi_category_indices(label[..., i], thresholds)\n",
    "\n",
    "        pred_class = pred_class[mask]\n",
    "        label_class = label_class[mask]\n",
    "\n",
    "        class_metrics = {}\n",
    "        for class_idx, class_name in enumerate(CFG.aqi_category):\n",
    "            true_pos = ((pred_class == class_idx) & (label_class == class_idx)).sum().item()\n",
    "            total_pred = (pred_class == class_idx).sum().item()\n",
    "            total_true = (label_class == class_idx).sum().item()\n",
    "\n",
    "            accuracy = true_pos / total_true if total_true else 0.0\n",
    "            precision = true_pos / total_pred if total_pred else 0.0\n",
    "            recall = true_pos / total_true if total_true else 0.0\n",
    "\n",
    "            class_metrics[class_name] = {\n",
    "                \"true\": true_pos,\n",
    "                \"total\": total_true,\n",
    "                \"accuracy\": accuracy,\n",
    "                \"precision\": precision,\n",
    "                \"recall\": recall\n",
    "            }\n",
    "\n",
    "        metrics[name] = class_metrics\n",
    "\n",
    "    return metrics\n"
   ]
  },
  {
   "cell_type": "code",
   "execution_count": 30,
   "id": "ac1b88f9",
   "metadata": {
    "execution": {
     "iopub.execute_input": "2025-04-11T15:32:56.685827Z",
     "iopub.status.busy": "2025-04-11T15:32:56.685520Z",
     "iopub.status.idle": "2025-04-11T15:32:56.691229Z",
     "shell.execute_reply": "2025-04-11T15:32:56.690412Z"
    },
    "papermill": {
     "duration": 0.020737,
     "end_time": "2025-04-11T15:32:56.692386",
     "exception": false,
     "start_time": "2025-04-11T15:32:56.671649",
     "status": "completed"
    },
    "tags": []
   },
   "outputs": [],
   "source": [
    "@torch.no_grad()\n",
    "def predict_eval(model, test_dl, criterion, verbose=True):\n",
    "    o = validate(model, test_dl, criterion, verbose=verbose, get_predict=True)\n",
    "    pred = torch.concat(o[0])\n",
    "    y = torch.concat(o[1])\n",
    "    mask = torch.concat(o[2])\n",
    "    model_performance = {'pm2_5': {}, 'pm10': {}}\n",
    "    for i, t in enumerate(CFG.target_list):\n",
    "        for n, m in masked_metrics_dict.items():\n",
    "            l = m(pred[:, :, :, i], y[:, :, :, i], mask[:, :, :, 0])\n",
    "            if n == 'MSE':\n",
    "                # print(y1[:, :, i].shape, pred1[:, :, i].shape, mask1.shape)\n",
    "                l = np.sqrt(l.cpu().numpy())\n",
    "                if verbose:\n",
    "                    print(f\"{t}: {n}: {l}\")\n",
    "            else:\n",
    "                if verbose:\n",
    "                    print(f\"{t}: {n}: {l}\")\n",
    "\n",
    "            model_performance[t][n] = float(l)\n",
    "    \n",
    "    model_performance['classification'] = compute_aqi_classification_metrics(pred, y, mask)\n",
    "    \n",
    "    return model_performance"
   ]
  },
  {
   "cell_type": "code",
   "execution_count": 31,
   "id": "cc810efb",
   "metadata": {
    "execution": {
     "iopub.execute_input": "2025-04-11T15:32:56.723296Z",
     "iopub.status.busy": "2025-04-11T15:32:56.723033Z",
     "iopub.status.idle": "2025-04-11T15:32:56.725970Z",
     "shell.execute_reply": "2025-04-11T15:32:56.725237Z"
    },
    "papermill": {
     "duration": 0.020891,
     "end_time": "2025-04-11T15:32:56.727153",
     "exception": false,
     "start_time": "2025-04-11T15:32:56.706262",
     "status": "completed"
    },
    "tags": []
   },
   "outputs": [],
   "source": [
    "# model_sd = torch.load('/kaggle/working/gnn_2_5.pth')\n",
    "# model.load_state_dict(model_sd)"
   ]
  },
  {
   "cell_type": "code",
   "execution_count": 32,
   "id": "b081636b",
   "metadata": {
    "execution": {
     "iopub.execute_input": "2025-04-11T15:32:56.794218Z",
     "iopub.status.busy": "2025-04-11T15:32:56.793917Z",
     "iopub.status.idle": "2025-04-11T15:32:56.797171Z",
     "shell.execute_reply": "2025-04-11T15:32:56.796409Z"
    },
    "papermill": {
     "duration": 0.058314,
     "end_time": "2025-04-11T15:32:56.798545",
     "exception": false,
     "start_time": "2025-04-11T15:32:56.740231",
     "status": "completed"
    },
    "tags": []
   },
   "outputs": [],
   "source": [
    "# predict_eval(model, test_dl, criterion, verbose=True)\n",
    "# print()"
   ]
  },
  {
   "cell_type": "markdown",
   "id": "732cf7bf",
   "metadata": {
    "papermill": {
     "duration": 0.015,
     "end_time": "2025-04-11T15:32:56.829158",
     "exception": false,
     "start_time": "2025-04-11T15:32:56.814158",
     "status": "completed"
    },
    "tags": []
   },
   "source": [
    "## DF 2"
   ]
  },
  {
   "cell_type": "code",
   "execution_count": 33,
   "id": "19ab1234",
   "metadata": {
    "execution": {
     "iopub.execute_input": "2025-04-11T15:32:56.860729Z",
     "iopub.status.busy": "2025-04-11T15:32:56.860381Z",
     "iopub.status.idle": "2025-04-11T15:33:14.385171Z",
     "shell.execute_reply": "2025-04-11T15:33:14.384227Z"
    },
    "papermill": {
     "duration": 17.545576,
     "end_time": "2025-04-11T15:33:14.389911",
     "exception": false,
     "start_time": "2025-04-11T15:32:56.844335",
     "status": "completed"
    },
    "tags": []
   },
   "outputs": [
    {
     "name": "stderr",
     "output_type": "stream",
     "text": [
      "<ipython-input-6-a10b91631712>:35: DeprecationWarning: DataFrameGroupBy.apply operated on the grouping columns. This behavior is deprecated, and in a future version of pandas the grouping columns will be excluded from the operation. Either pass `include_groups=False` to exclude the groupings or explicitly select the grouping columns after groupby to silence this warning.\n",
      "  df = grouped.apply(fill_na_with_previous_mean)\n"
     ]
    },
    {
     "data": {
      "image/png": "[encoded data removed]",
      "text/plain": [
       "<Figure size 800x800 with 1 Axes>"
      ]
     },
     "metadata": {},
     "output_type": "display_data"
    }
   ],
   "source": [
    "full_df = pd.read_csv('/kaggle/input/airdelhi-baselines-deepengineering/full_dense_df.csv')\n",
    "\n",
    "if CFG.train_on_full:\n",
    "    full_df = pd.read_csv('/kaggle/input/airdelhi-baselines-deepengineering/dense_df.csv')\n",
    "\n",
    "full_df = full_df.drop(columns = 'Unnamed: 0')\n",
    "full_df['date_value'] = pd.to_datetime(full_df['date_value'])\n",
    "\n",
    "full_df = add_lag_features(full_df, lags = [7])\n",
    "CFG.features = ['timeOfDay', 'lat', 'lon', 'distance', 'bus_count', \n",
    "                'day_of_week', 'pm2_5', 'pm10', 'pm2_5_lag_7', 'pm10_lag_7']\n",
    "full_df = full_df.sort_values(by=['lat', 'lon', 'timeOfDay', 'date_value'])\n",
    "\n",
    "full_df = target_scaler.transform(full_df)\n",
    "\n",
    "full_df['day_of_week'] = full_df['date_value'].dt.dayofweek\n",
    "\n",
    "scaler = MinMaxScaler()\n",
    "full_df[CFG.features] = scaler.fit_transform(full_df[CFG.features])\n",
    "\n",
    "full_df = rounded_lat_lon(full_df)\n",
    "\n",
    "full_train_ds= GraphImageSequenceDataset(full_df[full_df['date_value'] <= max_train_date], img_dict)\n",
    "full_test_ds = GraphImageSequenceDataset(full_df[full_df['date_value'] > max_train_date], img_dict)\n",
    "\n",
    "full_train_dl = DataLoader(full_train_ds, batch_size = CFG.batch_size, shuffle=True)\n",
    "full_test_dl = DataLoader(full_test_ds, batch_size = CFG.batch_size, shuffle=True)\n",
    "\n",
    "full_dense_edge_index = build_knn_graph(full_train_ds.lat_lon_pairs)\n",
    "visualize_graph(full_train_ds.lat_lon_pairs, full_dense_edge_index, figsize=(8, 8))"
   ]
  },
  {
   "cell_type": "code",
   "execution_count": 34,
   "id": "0d625552",
   "metadata": {
    "execution": {
     "iopub.execute_input": "2025-04-11T15:33:14.430704Z",
     "iopub.status.busy": "2025-04-11T15:33:14.430407Z",
     "iopub.status.idle": "2025-04-11T15:33:15.718424Z",
     "shell.execute_reply": "2025-04-11T15:33:15.717241Z"
    },
    "papermill": {
     "duration": 1.309349,
     "end_time": "2025-04-11T15:33:15.719930",
     "exception": false,
     "start_time": "2025-04-11T15:33:14.410581",
     "status": "completed"
    },
    "tags": []
   },
   "outputs": [
    {
     "name": "stderr",
     "output_type": "stream",
     "text": [
      "Validation Step 16 / 17: 100%|██████████████████████████████████| 17/17 [00:01<00:00, 15.15it/s, Loss=91.3334]\n",
      "<ipython-input-29-453de6522a23>:2: UserWarning: torch.searchsorted(): input value tensor is non-contiguous, this will lower the performance due to extra data copy when converting non-contiguous tensor to contiguous, please use contiguous input value tensor if possible. This message will only appear once per program. (Triggered internally at ../aten/src/ATen/native/BucketizationUtils.h:32.)\n",
      "  indices = torch.bucketize(preds, torch.tensor(thresholds).to(device), right=False) - 1\n"
     ]
    },
    {
     "name": "stdout",
     "output_type": "stream",
     "text": [
      "pm2_5: MSE: 73.14126586914062\n",
      "pm2_5: MAE: 14.678030014038086\n",
      "pm2_5: r2 score: -0.2718169689178467\n",
      "pm10: MSE: 61.08066940307617\n",
      "pm10: MAE: 11.774446487426758\n",
      "pm10: r2 score: -0.005365252494812012\n",
      "\n"
     ]
    }
   ],
   "source": [
    "model.reset_index(full_dense_edge_index)\n",
    "model.img_extractor.img_tensor = full_train_ds.imgs\n",
    "predict_eval(model, full_train_dl, criterion, verbose=True)\n",
    "print()"
   ]
  },
  {
   "cell_type": "code",
   "execution_count": 35,
   "id": "53b6a3c0",
   "metadata": {
    "execution": {
     "iopub.execute_input": "2025-04-11T15:33:15.763234Z",
     "iopub.status.busy": "2025-04-11T15:33:15.762946Z",
     "iopub.status.idle": "2025-04-11T15:33:15.905391Z",
     "shell.execute_reply": "2025-04-11T15:33:15.904451Z"
    },
    "papermill": {
     "duration": 0.165319,
     "end_time": "2025-04-11T15:33:15.906615",
     "exception": false,
     "start_time": "2025-04-11T15:33:15.741296",
     "status": "completed"
    },
    "tags": []
   },
   "outputs": [
    {
     "name": "stderr",
     "output_type": "stream",
     "text": [
      "Validation Step 5 / 6: 100%|██████████████████████████████████████| 6/6 [00:00<00:00, 47.04it/s, Loss=90.8601]"
     ]
    },
    {
     "name": "stdout",
     "output_type": "stream",
     "text": [
      "pm2_5: MSE: 68.54483795166016\n",
      "pm2_5: MAE: 12.941609382629395\n",
      "pm2_5: r2 score: -0.16467559337615967\n",
      "pm10: MSE: 59.79304885864258\n",
      "pm10: MAE: 10.918522834777832\n",
      "pm10: r2 score: 0.0110434889793396\n",
      "\n"
     ]
    },
    {
     "name": "stderr",
     "output_type": "stream",
     "text": [
      "\n"
     ]
    }
   ],
   "source": [
    "predict_eval(model, full_test_dl, criterion, verbose=True)\n",
    "print()"
   ]
  },
  {
   "cell_type": "markdown",
   "id": "78900b51",
   "metadata": {
    "papermill": {
     "duration": 0.021009,
     "end_time": "2025-04-11T15:33:15.949601",
     "exception": false,
     "start_time": "2025-04-11T15:33:15.928592",
     "status": "completed"
    },
    "tags": []
   },
   "source": [
    "# Ablation Studies"
   ]
  },
  {
   "cell_type": "code",
   "execution_count": 36,
   "id": "f8d946b8",
   "metadata": {
    "execution": {
     "iopub.execute_input": "2025-04-11T15:33:15.992809Z",
     "iopub.status.busy": "2025-04-11T15:33:15.992478Z",
     "iopub.status.idle": "2025-04-11T15:33:16.000707Z",
     "shell.execute_reply": "2025-04-11T15:33:16.000051Z"
    },
    "papermill": {
     "duration": 0.031327,
     "end_time": "2025-04-11T15:33:16.001984",
     "exception": false,
     "start_time": "2025-04-11T15:33:15.970657",
     "status": "completed"
    },
    "tags": []
   },
   "outputs": [],
   "source": [
    "import itertools\n",
    "import json\n",
    "\n",
    "def run_grid_search(\n",
    "    param_grid: dict,\n",
    "        df_dict,\n",
    "        model_name,\n",
    "        edge_index_dict,\n",
    "        img_tensor_dict,\n",
    "    model_save_dir: str,\n",
    "    result_json_path: str,\n",
    "    default_params: dict = None\n",
    "):\n",
    "    from copy import deepcopy\n",
    "\n",
    "    # Generate all parameter combinations\n",
    "    keys, values = zip(*param_grid.items())\n",
    "    \n",
    "    param_combinations = [\n",
    "        {**(default_params or {}), **dict(zip(keys, v))}\n",
    "        for v in itertools.product(*values)\n",
    "    ]\n",
    "    \n",
    "    model_dict = {}\n",
    "    results_list = []\n",
    "    \n",
    "    for idx, param_set in enumerate(param_combinations):\n",
    "        print(f\"Training model {idx} with params: {param_set}\")\n",
    "\n",
    "        param_set['spatial_size'] = param_set['hidden_size']\n",
    "        model = get_model(img_tensor=img_tensor_dict['train_dl'], **param_set).to(device)\n",
    "        criterion = MaskedMSELoss().to(device)\n",
    "        optimizer = get_optimizer(model, lr = CFG.lr)\n",
    "        scheduler = get_reduce_lr(optimizer, factor=CFG.factor, patience=CFG.patience)\n",
    "        \n",
    "        loss_list, val_loss_list, all_loss_list = train(\n",
    "            model,\n",
    "            criterion,\n",
    "            optimizer,\n",
    "            num_epochs=CFG.num_epochs,\n",
    "            train_dataloader=df_dict['train_dl'],\n",
    "            val_dataloader=df_dict['test_dl'],\n",
    "            scheduler=scheduler,\n",
    "            do_validate=True,\n",
    "            validate_frequency=1,\n",
    "            verbose=-2,\n",
    "            model_name=model_save_dir + f\"{model_name}_{idx}_\"\n",
    "        )\n",
    "        \n",
    "        model_path = model_save_dir + f\"final_{model_name}_{idx}.pt\"\n",
    "        torch.save(model.state_dict(), model_path)\n",
    "        model_dict[idx] = model\n",
    "\n",
    "        result_metrics = {}\n",
    "        paths = ['best', '2_5', '10']\n",
    "        for p in paths:\n",
    "            result_metrics[p] = {}\n",
    "            model.reset_index(edge_index_dict['train_dl'])\n",
    "            model_state_dict = torch.load(model_save_dir + f\"{model_name}_{idx}_{p}.pth\")\n",
    "            model.load_state_dict(model_state_dict)\n",
    "        \n",
    "            for df_name, df1 in df_dict.items():\n",
    "                model.reset_index(edge_index_dict[df_name])\n",
    "                model.reset_img_tensor(img_tensor_dict[df_name])\n",
    "                result_metrics[p][df_name] = predict_eval(model, df1, criterion, verbose=False)\n",
    "\n",
    "        results_list.append({\n",
    "            \"model_index\": idx,\n",
    "            \"model_name\": model_path,\n",
    "            \"parameters\": deepcopy(param_set),\n",
    "            \"results\": result_metrics\n",
    "        })\n",
    "\n",
    "    with open(result_json_path, \"w\") as f:\n",
    "        json.dump(results_list, f, indent=4)\n",
    "\n",
    "    return model_dict\n"
   ]
  },
  {
   "cell_type": "code",
   "execution_count": 37,
   "id": "45e3658f",
   "metadata": {
    "execution": {
     "iopub.execute_input": "2025-04-11T15:33:16.045679Z",
     "iopub.status.busy": "2025-04-11T15:33:16.045454Z",
     "iopub.status.idle": "2025-04-11T15:47:28.933754Z",
     "shell.execute_reply": "2025-04-11T15:47:28.932862Z"
    },
    "papermill": {
     "duration": 852.912222,
     "end_time": "2025-04-11T15:47:28.935349",
     "exception": false,
     "start_time": "2025-04-11T15:33:16.023127",
     "status": "completed"
    },
    "tags": []
   },
   "outputs": [
    {
     "name": "stderr",
     "output_type": "stream",
     "text": [
      "/usr/local/lib/python3.10/dist-packages/torch/nn/modules/rnn.py:123: UserWarning: dropout option adds dropout after all but last recurrent layer, so non-zero dropout expects num_layers greater than 1, but got dropout=0.2 and num_layers=1\n",
      "  warnings.warn(\n"
     ]
    },
    {
     "name": "stdout",
     "output_type": "stream",
     "text": [
      "Training model 0 with params: {'input_size': 10, 'forecast_horizon': 35, 'model_kind': 'gru', 'hidden_size': 16, 'rnn_num_layers': 1, 'attention': True}\n"
     ]
    },
    {
     "name": "stderr",
     "output_type": "stream",
     "text": [
      "100%|██████████| 50/50 [00:12<00:00,  4.14it/s]\n",
      "<ipython-input-36-005c67d9ffae>:59: FutureWarning: You are using `torch.load` with `weights_only=False` (the current default value), which uses the default pickle module implicitly. It is possible to construct malicious pickle data which will execute arbitrary code during unpickling (See https://github.com/pytorch/pytorch/blob/main/SECURITY.md#untrusted-models for more details). In a future release, the default value for `weights_only` will be flipped to `True`. This limits the functions that could be executed during unpickling. Arbitrary objects will no longer be allowed to be loaded via this mode unless they are explicitly allowlisted by the user via `torch.serialization.add_safe_globals`. We recommend you start setting `weights_only=True` for any use case where you don't have full control of the loaded file. Please open an issue on GitHub for any issues related to this experimental feature.\n",
      "  model_state_dict = torch.load(model_save_dir + f\"{model_name}_{idx}_{p}.pth\")\n"
     ]
    },
    {
     "name": "stdout",
     "output_type": "stream",
     "text": [
      "Training model 1 with params: {'input_size': 10, 'forecast_horizon': 35, 'model_kind': 'gru', 'hidden_size': 16, 'rnn_num_layers': 1, 'attention': False}\n"
     ]
    },
    {
     "name": "stderr",
     "output_type": "stream",
     "text": [
      "100%|██████████| 50/50 [00:11<00:00,  4.32it/s]\n"
     ]
    },
    {
     "name": "stdout",
     "output_type": "stream",
     "text": [
      "Training model 2 with params: {'input_size': 10, 'forecast_horizon': 35, 'model_kind': 'gru', 'hidden_size': 16, 'rnn_num_layers': 3, 'attention': True}\n"
     ]
    },
    {
     "name": "stderr",
     "output_type": "stream",
     "text": [
      "100%|██████████| 50/50 [00:12<00:00,  4.05it/s]\n"
     ]
    },
    {
     "name": "stdout",
     "output_type": "stream",
     "text": [
      "Training model 3 with params: {'input_size': 10, 'forecast_horizon': 35, 'model_kind': 'gru', 'hidden_size': 16, 'rnn_num_layers': 3, 'attention': False}\n"
     ]
    },
    {
     "name": "stderr",
     "output_type": "stream",
     "text": [
      "100%|██████████| 50/50 [00:12<00:00,  4.10it/s]\n"
     ]
    },
    {
     "name": "stdout",
     "output_type": "stream",
     "text": [
      "Training model 4 with params: {'input_size': 10, 'forecast_horizon': 35, 'model_kind': 'gru', 'hidden_size': 16, 'rnn_num_layers': 6, 'attention': True}\n"
     ]
    },
    {
     "name": "stderr",
     "output_type": "stream",
     "text": [
      "100%|██████████| 50/50 [00:15<00:00,  3.25it/s]\n"
     ]
    },
    {
     "name": "stdout",
     "output_type": "stream",
     "text": [
      "Training model 5 with params: {'input_size': 10, 'forecast_horizon': 35, 'model_kind': 'gru', 'hidden_size': 16, 'rnn_num_layers': 6, 'attention': False}\n"
     ]
    },
    {
     "name": "stderr",
     "output_type": "stream",
     "text": [
      "100%|██████████| 50/50 [00:15<00:00,  3.28it/s]\n"
     ]
    },
    {
     "name": "stdout",
     "output_type": "stream",
     "text": [
      "Training model 6 with params: {'input_size': 10, 'forecast_horizon': 35, 'model_kind': 'gru', 'hidden_size': 16, 'rnn_num_layers': 9, 'attention': True}\n"
     ]
    },
    {
     "name": "stderr",
     "output_type": "stream",
     "text": [
      "100%|██████████| 50/50 [00:18<00:00,  2.69it/s]\n"
     ]
    },
    {
     "name": "stdout",
     "output_type": "stream",
     "text": [
      "Training model 7 with params: {'input_size': 10, 'forecast_horizon': 35, 'model_kind': 'gru', 'hidden_size': 16, 'rnn_num_layers': 9, 'attention': False}\n"
     ]
    },
    {
     "name": "stderr",
     "output_type": "stream",
     "text": [
      "100%|██████████| 50/50 [00:18<00:00,  2.67it/s]\n"
     ]
    },
    {
     "name": "stdout",
     "output_type": "stream",
     "text": [
      "Training model 8 with params: {'input_size': 10, 'forecast_horizon': 35, 'model_kind': 'gru', 'hidden_size': 32, 'rnn_num_layers': 1, 'attention': True}\n"
     ]
    },
    {
     "name": "stderr",
     "output_type": "stream",
     "text": [
      "100%|██████████| 50/50 [00:12<00:00,  4.09it/s]\n"
     ]
    },
    {
     "name": "stdout",
     "output_type": "stream",
     "text": [
      "Training model 9 with params: {'input_size': 10, 'forecast_horizon': 35, 'model_kind': 'gru', 'hidden_size': 32, 'rnn_num_layers': 1, 'attention': False}\n"
     ]
    },
    {
     "name": "stderr",
     "output_type": "stream",
     "text": [
      "100%|██████████| 50/50 [00:12<00:00,  4.12it/s]\n"
     ]
    },
    {
     "name": "stdout",
     "output_type": "stream",
     "text": [
      "Training model 10 with params: {'input_size': 10, 'forecast_horizon': 35, 'model_kind': 'gru', 'hidden_size': 32, 'rnn_num_layers': 3, 'attention': True}\n"
     ]
    },
    {
     "name": "stderr",
     "output_type": "stream",
     "text": [
      "100%|██████████| 50/50 [00:12<00:00,  3.86it/s]\n"
     ]
    },
    {
     "name": "stdout",
     "output_type": "stream",
     "text": [
      "Training model 11 with params: {'input_size': 10, 'forecast_horizon': 35, 'model_kind': 'gru', 'hidden_size': 32, 'rnn_num_layers': 3, 'attention': False}\n"
     ]
    },
    {
     "name": "stderr",
     "output_type": "stream",
     "text": [
      "100%|██████████| 50/50 [00:12<00:00,  3.88it/s]\n"
     ]
    },
    {
     "name": "stdout",
     "output_type": "stream",
     "text": [
      "Training model 12 with params: {'input_size': 10, 'forecast_horizon': 35, 'model_kind': 'gru', 'hidden_size': 32, 'rnn_num_layers': 6, 'attention': True}\n"
     ]
    },
    {
     "name": "stderr",
     "output_type": "stream",
     "text": [
      "100%|██████████| 50/50 [00:16<00:00,  2.99it/s]\n"
     ]
    },
    {
     "name": "stdout",
     "output_type": "stream",
     "text": [
      "Training model 13 with params: {'input_size': 10, 'forecast_horizon': 35, 'model_kind': 'gru', 'hidden_size': 32, 'rnn_num_layers': 6, 'attention': False}\n"
     ]
    },
    {
     "name": "stderr",
     "output_type": "stream",
     "text": [
      "100%|██████████| 50/50 [00:16<00:00,  2.99it/s]\n"
     ]
    },
    {
     "name": "stdout",
     "output_type": "stream",
     "text": [
      "Training model 14 with params: {'input_size': 10, 'forecast_horizon': 35, 'model_kind': 'gru', 'hidden_size': 32, 'rnn_num_layers': 9, 'attention': True}\n"
     ]
    },
    {
     "name": "stderr",
     "output_type": "stream",
     "text": [
      "100%|██████████| 50/50 [00:20<00:00,  2.39it/s]\n"
     ]
    },
    {
     "name": "stdout",
     "output_type": "stream",
     "text": [
      "Training model 15 with params: {'input_size': 10, 'forecast_horizon': 35, 'model_kind': 'gru', 'hidden_size': 32, 'rnn_num_layers': 9, 'attention': False}\n"
     ]
    },
    {
     "name": "stderr",
     "output_type": "stream",
     "text": [
      "100%|██████████| 50/50 [00:20<00:00,  2.39it/s]\n"
     ]
    },
    {
     "name": "stdout",
     "output_type": "stream",
     "text": [
      "Training model 16 with params: {'input_size': 10, 'forecast_horizon': 35, 'model_kind': 'gru', 'hidden_size': 64, 'rnn_num_layers': 1, 'attention': True}\n"
     ]
    },
    {
     "name": "stderr",
     "output_type": "stream",
     "text": [
      "100%|██████████| 50/50 [00:15<00:00,  3.23it/s]\n"
     ]
    },
    {
     "name": "stdout",
     "output_type": "stream",
     "text": [
      "Training model 17 with params: {'input_size': 10, 'forecast_horizon': 35, 'model_kind': 'gru', 'hidden_size': 64, 'rnn_num_layers': 1, 'attention': False}\n"
     ]
    },
    {
     "name": "stderr",
     "output_type": "stream",
     "text": [
      "100%|██████████| 50/50 [00:15<00:00,  3.18it/s]\n"
     ]
    },
    {
     "name": "stdout",
     "output_type": "stream",
     "text": [
      "Training model 18 with params: {'input_size': 10, 'forecast_horizon': 35, 'model_kind': 'gru', 'hidden_size': 64, 'rnn_num_layers': 3, 'attention': True}\n"
     ]
    },
    {
     "name": "stderr",
     "output_type": "stream",
     "text": [
      "100%|██████████| 50/50 [00:19<00:00,  2.63it/s]\n"
     ]
    },
    {
     "name": "stdout",
     "output_type": "stream",
     "text": [
      "Training model 19 with params: {'input_size': 10, 'forecast_horizon': 35, 'model_kind': 'gru', 'hidden_size': 64, 'rnn_num_layers': 3, 'attention': False}\n"
     ]
    },
    {
     "name": "stderr",
     "output_type": "stream",
     "text": [
      "100%|██████████| 50/50 [00:19<00:00,  2.62it/s]\n"
     ]
    },
    {
     "name": "stdout",
     "output_type": "stream",
     "text": [
      "Training model 20 with params: {'input_size': 10, 'forecast_horizon': 35, 'model_kind': 'gru', 'hidden_size': 64, 'rnn_num_layers': 6, 'attention': True}\n"
     ]
    },
    {
     "name": "stderr",
     "output_type": "stream",
     "text": [
      "100%|██████████| 50/50 [00:26<00:00,  1.89it/s]\n"
     ]
    },
    {
     "name": "stdout",
     "output_type": "stream",
     "text": [
      "Training model 21 with params: {'input_size': 10, 'forecast_horizon': 35, 'model_kind': 'gru', 'hidden_size': 64, 'rnn_num_layers': 6, 'attention': False}\n"
     ]
    },
    {
     "name": "stderr",
     "output_type": "stream",
     "text": [
      "100%|██████████| 50/50 [00:26<00:00,  1.88it/s]\n"
     ]
    },
    {
     "name": "stdout",
     "output_type": "stream",
     "text": [
      "Training model 22 with params: {'input_size': 10, 'forecast_horizon': 35, 'model_kind': 'gru', 'hidden_size': 64, 'rnn_num_layers': 9, 'attention': True}\n"
     ]
    },
    {
     "name": "stderr",
     "output_type": "stream",
     "text": [
      "100%|██████████| 50/50 [00:34<00:00,  1.43it/s]\n"
     ]
    },
    {
     "name": "stdout",
     "output_type": "stream",
     "text": [
      "Training model 23 with params: {'input_size': 10, 'forecast_horizon': 35, 'model_kind': 'gru', 'hidden_size': 64, 'rnn_num_layers': 9, 'attention': False}\n"
     ]
    },
    {
     "name": "stderr",
     "output_type": "stream",
     "text": [
      "100%|██████████| 50/50 [00:35<00:00,  1.43it/s]\n"
     ]
    },
    {
     "name": "stdout",
     "output_type": "stream",
     "text": [
      "Training model 24 with params: {'input_size': 10, 'forecast_horizon': 35, 'model_kind': 'gru', 'hidden_size': 128, 'rnn_num_layers': 1, 'attention': True}\n"
     ]
    },
    {
     "name": "stderr",
     "output_type": "stream",
     "text": [
      "100%|██████████| 50/50 [00:24<00:00,  2.06it/s]\n"
     ]
    },
    {
     "name": "stdout",
     "output_type": "stream",
     "text": [
      "Training model 25 with params: {'input_size': 10, 'forecast_horizon': 35, 'model_kind': 'gru', 'hidden_size': 128, 'rnn_num_layers': 1, 'attention': False}\n"
     ]
    },
    {
     "name": "stderr",
     "output_type": "stream",
     "text": [
      "100%|██████████| 50/50 [00:24<00:00,  2.06it/s]\n"
     ]
    },
    {
     "name": "stdout",
     "output_type": "stream",
     "text": [
      "Training model 26 with params: {'input_size': 10, 'forecast_horizon': 35, 'model_kind': 'gru', 'hidden_size': 128, 'rnn_num_layers': 3, 'attention': True}\n"
     ]
    },
    {
     "name": "stderr",
     "output_type": "stream",
     "text": [
      "100%|██████████| 50/50 [00:34<00:00,  1.43it/s]\n"
     ]
    },
    {
     "name": "stdout",
     "output_type": "stream",
     "text": [
      "Training model 27 with params: {'input_size': 10, 'forecast_horizon': 35, 'model_kind': 'gru', 'hidden_size': 128, 'rnn_num_layers': 3, 'attention': False}\n"
     ]
    },
    {
     "name": "stderr",
     "output_type": "stream",
     "text": [
      "100%|██████████| 50/50 [00:34<00:00,  1.44it/s]\n"
     ]
    },
    {
     "name": "stdout",
     "output_type": "stream",
     "text": [
      "Training model 28 with params: {'input_size': 10, 'forecast_horizon': 35, 'model_kind': 'gru', 'hidden_size': 128, 'rnn_num_layers': 6, 'attention': True}\n"
     ]
    },
    {
     "name": "stderr",
     "output_type": "stream",
     "text": [
      "100%|██████████| 50/50 [00:52<00:00,  1.05s/it]\n"
     ]
    },
    {
     "name": "stdout",
     "output_type": "stream",
     "text": [
      "Training model 29 with params: {'input_size': 10, 'forecast_horizon': 35, 'model_kind': 'gru', 'hidden_size': 128, 'rnn_num_layers': 6, 'attention': False}\n"
     ]
    },
    {
     "name": "stderr",
     "output_type": "stream",
     "text": [
      "100%|██████████| 50/50 [00:52<00:00,  1.05s/it]\n"
     ]
    },
    {
     "name": "stdout",
     "output_type": "stream",
     "text": [
      "Training model 30 with params: {'input_size': 10, 'forecast_horizon': 35, 'model_kind': 'gru', 'hidden_size': 128, 'rnn_num_layers': 9, 'attention': True}\n"
     ]
    },
    {
     "name": "stderr",
     "output_type": "stream",
     "text": [
      "100%|██████████| 50/50 [01:10<00:00,  1.41s/it]\n"
     ]
    },
    {
     "name": "stdout",
     "output_type": "stream",
     "text": [
      "Training model 31 with params: {'input_size': 10, 'forecast_horizon': 35, 'model_kind': 'gru', 'hidden_size': 128, 'rnn_num_layers': 9, 'attention': False}\n"
     ]
    },
    {
     "name": "stderr",
     "output_type": "stream",
     "text": [
      "100%|██████████| 50/50 [01:10<00:00,  1.41s/it]\n"
     ]
    }
   ],
   "source": [
    "param_grid = {\n",
    "    'hidden_size' : [16, 32, 64, 128], \n",
    "    'rnn_num_layers' : [1, 3, 6, 9],\n",
    "    'attention': [True, False]\n",
    "}\n",
    "\n",
    "default_params = {\n",
    "    'input_size' : 10, \n",
    "    'forecast_horizon' : 35,\n",
    "    'model_kind': 'gru'\n",
    "}\n",
    "\n",
    "df_dict = {\n",
    "    'train_dl' : train_dl,\n",
    "    'test_dl' : test_dl,\n",
    "    'full_train_dl' : full_train_dl,\n",
    "    'full_test_dl' : full_test_dl,\n",
    "}\n",
    "\n",
    "img_tensor_dict = {\n",
    "    'train_dl' : train_ds.imgs,\n",
    "    'test_dl' : train_ds.imgs,\n",
    "    'full_train_dl' : full_train_ds.imgs,\n",
    "    'full_test_dl' : full_train_ds.imgs,\n",
    "}\n",
    "\n",
    "edge_index_dict = {\n",
    "    'train_dl' : dense_edge_index,\n",
    "    'test_dl' : dense_edge_index,\n",
    "    'full_train_dl' : full_dense_edge_index,\n",
    "    'full_test_dl' : full_dense_edge_index,\n",
    "}\n",
    "\n",
    "model_name = \"model_size_test\"\n",
    "\n",
    "model_save_dir = f\"./{model_name}_dir/\"\n",
    "result_json_path = f\"{model_save_dir}{model_name}_results.json\"\n",
    "os.makedirs(model_save_dir, exist_ok=True)\n",
    "\n",
    "model_dict = run_grid_search(\n",
    "    param_grid,\n",
    "        df_dict,\n",
    "        model_name,\n",
    "        edge_index_dict,\n",
    "        img_tensor_dict,\n",
    "    model_save_dir,\n",
    "    result_json_path,\n",
    "    default_params\n",
    ")\n"
   ]
  },
  {
   "cell_type": "code",
   "execution_count": 38,
   "id": "45922d54",
   "metadata": {
    "execution": {
     "iopub.execute_input": "2025-04-11T15:47:29.128915Z",
     "iopub.status.busy": "2025-04-11T15:47:29.128603Z",
     "iopub.status.idle": "2025-04-11T15:47:29.132738Z",
     "shell.execute_reply": "2025-04-11T15:47:29.132066Z"
    },
    "papermill": {
     "duration": 0.100829,
     "end_time": "2025-04-11T15:47:29.134001",
     "exception": false,
     "start_time": "2025-04-11T15:47:29.033172",
     "status": "completed"
    },
    "tags": []
   },
   "outputs": [],
   "source": [
    "def get_dl(df, sequence_length=70, forecast_horizon=35, get_ds = False):\n",
    "    ds = GraphImageSequenceDataset(\n",
    "        df, img_dict=img_dict, sequence_length = sequence_length, forecast_horizon = forecast_horizon\n",
    "    )\n",
    "    dl = DataLoader(ds, batch_size = CFG.batch_size, shuffle=True)\n",
    "    if get_ds:\n",
    "        return dl, ds\n",
    "    return dl\n"
   ]
  },
  {
   "cell_type": "code",
   "execution_count": 39,
   "id": "3ecedd52",
   "metadata": {
    "execution": {
     "iopub.execute_input": "2025-04-11T15:47:29.324254Z",
     "iopub.status.busy": "2025-04-11T15:47:29.324029Z",
     "iopub.status.idle": "2025-04-11T15:47:29.333450Z",
     "shell.execute_reply": "2025-04-11T15:47:29.332864Z"
    },
    "papermill": {
     "duration": 0.105928,
     "end_time": "2025-04-11T15:47:29.334765",
     "exception": false,
     "start_time": "2025-04-11T15:47:29.228837",
     "status": "completed"
    },
    "tags": []
   },
   "outputs": [],
   "source": [
    "def run_grid_search_df(\n",
    "    param_grid: dict,\n",
    "        df_dict,\n",
    "        model_name,\n",
    "        edge_index_dict,\n",
    "        img_tensor_dict,\n",
    "    model_save_dir: str,\n",
    "    result_json_path: str,\n",
    "    default_params: dict = None,\n",
    "    model_params: dict = None,\n",
    "):\n",
    "    from copy import deepcopy\n",
    "\n",
    "    # Generate all parameter combinations\n",
    "    keys, values = zip(*param_grid.items())\n",
    "    \n",
    "    param_combinations = [\n",
    "        {**(default_params or {}), **dict(zip(keys, v))}\n",
    "        for v in itertools.product(*values)\n",
    "    ]\n",
    "    \n",
    "    model_dict = {}\n",
    "    results_list = []\n",
    "    \n",
    "    for idx, param_set in enumerate(param_combinations):\n",
    "        print(f\"Training model on dataset {idx} with params: {param_set}\")\n",
    "\n",
    "        model_params['spatial_size'] = model_params['hidden_size']\n",
    "        model = get_model(img_tensor=img_tensor_dict['train_dl'], **model_params).to(device)\n",
    "\n",
    "        ds_dict = {}\n",
    "        dl_dict = {}\n",
    "        for k, v in df_dict.items():\n",
    "            dl, ds = get_dl(df = v, get_ds=True, **param_set)\n",
    "            ds_dict[k] = ds\n",
    "            dl_dict[k] = dl\n",
    "        \n",
    "        criterion = MaskedMSELoss().to(device)\n",
    "        optimizer = get_optimizer(model, lr = CFG.lr)\n",
    "        scheduler = get_reduce_lr(optimizer, factor=CFG.factor, patience=CFG.patience)\n",
    "\n",
    "        model.reset_img_tensor(ds_dict['train_dl'].imgs)\n",
    "        \n",
    "        loss_list, val_loss_list, all_loss_list = train(\n",
    "            model,\n",
    "            criterion,\n",
    "            optimizer,\n",
    "            num_epochs=CFG.num_epochs,\n",
    "            train_dataloader=dl_dict['train_dl'],\n",
    "            val_dataloader=dl_dict['test_dl'],\n",
    "            scheduler=scheduler,\n",
    "            do_validate=True,\n",
    "            validate_frequency=1,\n",
    "            verbose=-2,\n",
    "            model_name=model_save_dir + f\"{model_name}_{idx}_\"\n",
    "        )\n",
    "        \n",
    "        model_path = model_save_dir + f\"final_{model_name}_{idx}.pth\"\n",
    "        torch.save(model.state_dict(), model_path)\n",
    "        model_dict[idx] = model\n",
    "        \n",
    "        result_metrics = {}\n",
    "        paths = ['best', '2_5', '10']\n",
    "        for p in paths:\n",
    "            result_metrics[p] = {}\n",
    "            model.reset_index(edge_index_dict['train_dl'])\n",
    "            model_state_dict = torch.load(model_save_dir + f\"{model_name}_{idx}_{p}.pth\")\n",
    "            model.load_state_dict(model_state_dict)\n",
    "        \n",
    "            for df_name, df1 in dl_dict.items():\n",
    "                model.reset_index(edge_index_dict[df_name])\n",
    "                model.reset_img_tensor(img_tensor_dict[df_name])\n",
    "                result_metrics[p][df_name] = predict_eval(model, df1, criterion, verbose=False)\n",
    "\n",
    "        results_list.append({\n",
    "            \"model_index\": idx,\n",
    "            \"model_name\": model_path,\n",
    "            \"parameters\": deepcopy(param_set),\n",
    "            \"results\": result_metrics\n",
    "        })\n",
    "\n",
    "    with open(result_json_path, \"w\") as f:\n",
    "        json.dump(results_list, f, indent=4)\n",
    "\n",
    "    return model_dict\n"
   ]
  },
  {
   "cell_type": "code",
   "execution_count": 40,
   "id": "6ab6eb1a",
   "metadata": {
    "execution": {
     "iopub.execute_input": "2025-04-11T15:47:29.525635Z",
     "iopub.status.busy": "2025-04-11T15:47:29.525366Z",
     "iopub.status.idle": "2025-04-11T15:50:12.244814Z",
     "shell.execute_reply": "2025-04-11T15:50:12.244040Z"
    },
    "papermill": {
     "duration": 162.817402,
     "end_time": "2025-04-11T15:50:12.246634",
     "exception": false,
     "start_time": "2025-04-11T15:47:29.429232",
     "status": "completed"
    },
    "tags": []
   },
   "outputs": [
    {
     "name": "stdout",
     "output_type": "stream",
     "text": [
      "Training model on dataset 0 with params: {'sequence_length': 35}\n"
     ]
    },
    {
     "name": "stderr",
     "output_type": "stream",
     "text": [
      "100%|██████████| 50/50 [00:12<00:00,  4.13it/s]\n",
      "<ipython-input-39-b4fce1014308>:67: FutureWarning: You are using `torch.load` with `weights_only=False` (the current default value), which uses the default pickle module implicitly. It is possible to construct malicious pickle data which will execute arbitrary code during unpickling (See https://github.com/pytorch/pytorch/blob/main/SECURITY.md#untrusted-models for more details). In a future release, the default value for `weights_only` will be flipped to `True`. This limits the functions that could be executed during unpickling. Arbitrary objects will no longer be allowed to be loaded via this mode unless they are explicitly allowlisted by the user via `torch.serialization.add_safe_globals`. We recommend you start setting `weights_only=True` for any use case where you don't have full control of the loaded file. Please open an issue on GitHub for any issues related to this experimental feature.\n",
      "  model_state_dict = torch.load(model_save_dir + f\"{model_name}_{idx}_{p}.pth\")\n"
     ]
    },
    {
     "name": "stdout",
     "output_type": "stream",
     "text": [
      "Training model on dataset 1 with params: {'sequence_length': 70}\n"
     ]
    },
    {
     "name": "stderr",
     "output_type": "stream",
     "text": [
      "100%|██████████| 50/50 [00:19<00:00,  2.62it/s]\n",
      "<ipython-input-39-b4fce1014308>:67: FutureWarning: You are using `torch.load` with `weights_only=False` (the current default value), which uses the default pickle module implicitly. It is possible to construct malicious pickle data which will execute arbitrary code during unpickling (See https://github.com/pytorch/pytorch/blob/main/SECURITY.md#untrusted-models for more details). In a future release, the default value for `weights_only` will be flipped to `True`. This limits the functions that could be executed during unpickling. Arbitrary objects will no longer be allowed to be loaded via this mode unless they are explicitly allowlisted by the user via `torch.serialization.add_safe_globals`. We recommend you start setting `weights_only=True` for any use case where you don't have full control of the loaded file. Please open an issue on GitHub for any issues related to this experimental feature.\n",
      "  model_state_dict = torch.load(model_save_dir + f\"{model_name}_{idx}_{p}.pth\")\n"
     ]
    },
    {
     "name": "stdout",
     "output_type": "stream",
     "text": [
      "Training model on dataset 2 with params: {'sequence_length': 105}\n"
     ]
    },
    {
     "name": "stderr",
     "output_type": "stream",
     "text": [
      "100%|██████████| 50/50 [00:25<00:00,  1.95it/s]\n",
      "<ipython-input-39-b4fce1014308>:67: FutureWarning: You are using `torch.load` with `weights_only=False` (the current default value), which uses the default pickle module implicitly. It is possible to construct malicious pickle data which will execute arbitrary code during unpickling (See https://github.com/pytorch/pytorch/blob/main/SECURITY.md#untrusted-models for more details). In a future release, the default value for `weights_only` will be flipped to `True`. This limits the functions that could be executed during unpickling. Arbitrary objects will no longer be allowed to be loaded via this mode unless they are explicitly allowlisted by the user via `torch.serialization.add_safe_globals`. We recommend you start setting `weights_only=True` for any use case where you don't have full control of the loaded file. Please open an issue on GitHub for any issues related to this experimental feature.\n",
      "  model_state_dict = torch.load(model_save_dir + f\"{model_name}_{idx}_{p}.pth\")\n"
     ]
    },
    {
     "name": "stdout",
     "output_type": "stream",
     "text": [
      "Training model on dataset 3 with params: {'sequence_length': 140}\n"
     ]
    },
    {
     "name": "stderr",
     "output_type": "stream",
     "text": [
      "100%|██████████| 50/50 [00:31<00:00,  1.59it/s]\n",
      "<ipython-input-39-b4fce1014308>:67: FutureWarning: You are using `torch.load` with `weights_only=False` (the current default value), which uses the default pickle module implicitly. It is possible to construct malicious pickle data which will execute arbitrary code during unpickling (See https://github.com/pytorch/pytorch/blob/main/SECURITY.md#untrusted-models for more details). In a future release, the default value for `weights_only` will be flipped to `True`. This limits the functions that could be executed during unpickling. Arbitrary objects will no longer be allowed to be loaded via this mode unless they are explicitly allowlisted by the user via `torch.serialization.add_safe_globals`. We recommend you start setting `weights_only=True` for any use case where you don't have full control of the loaded file. Please open an issue on GitHub for any issues related to this experimental feature.\n",
      "  model_state_dict = torch.load(model_save_dir + f\"{model_name}_{idx}_{p}.pth\")\n"
     ]
    },
    {
     "name": "stdout",
     "output_type": "stream",
     "text": [
      "Training model on dataset 4 with params: {'sequence_length': 175}\n"
     ]
    },
    {
     "name": "stderr",
     "output_type": "stream",
     "text": [
      "100%|██████████| 50/50 [00:37<00:00,  1.34it/s]\n",
      "<ipython-input-39-b4fce1014308>:67: FutureWarning: You are using `torch.load` with `weights_only=False` (the current default value), which uses the default pickle module implicitly. It is possible to construct malicious pickle data which will execute arbitrary code during unpickling (See https://github.com/pytorch/pytorch/blob/main/SECURITY.md#untrusted-models for more details). In a future release, the default value for `weights_only` will be flipped to `True`. This limits the functions that could be executed during unpickling. Arbitrary objects will no longer be allowed to be loaded via this mode unless they are explicitly allowlisted by the user via `torch.serialization.add_safe_globals`. We recommend you start setting `weights_only=True` for any use case where you don't have full control of the loaded file. Please open an issue on GitHub for any issues related to this experimental feature.\n",
      "  model_state_dict = torch.load(model_save_dir + f\"{model_name}_{idx}_{p}.pth\")\n"
     ]
    }
   ],
   "source": [
    "param_grid = {\n",
    "    'sequence_length' : [35, 70, 105, 140, 175], \n",
    "}\n",
    "\n",
    "default_params = {\n",
    "    'input_size' : 10, \n",
    "    'forecast_horizon' : 35\n",
    "}\n",
    "\n",
    "model_params = {\n",
    "    'input_size': 10,\n",
    "    'forecast_horizon': 35,\n",
    "    'rnn_num_layers': 3,\n",
    "    'hidden_size': 64,\n",
    "    'spatial_size': 64,\n",
    "    'model_kind': 'gru',\n",
    "    'attention' : False\n",
    "}\n",
    "\n",
    "df_dict = {\n",
    "    'train_dl' : df[df['date_value'] <= max_train_date],\n",
    "    'test_dl' : df[df['date_value'] > max_train_date],\n",
    "    'full_train_dl' : full_df[full_df['date_value'] <= max_train_date],\n",
    "    'full_test_dl' : full_df[full_df['date_value'] > max_train_date],\n",
    "}\n",
    "\n",
    "model_name = \"gcn_sequence_length_test\"\n",
    "\n",
    "model_save_dir = f\"./{model_name}_dir/\"\n",
    "result_json_path = f\"{model_save_dir}{model_name}_results.json\"\n",
    "os.makedirs(model_save_dir, exist_ok=True)\n",
    "\n",
    "model_dict1 = run_grid_search_df(\n",
    "    param_grid,\n",
    "        df_dict,\n",
    "        model_name,\n",
    "        edge_index_dict,\n",
    "        img_tensor_dict,\n",
    "    model_save_dir,\n",
    "    result_json_path,\n",
    "    default_params=None,\n",
    "    model_params = model_params,\n",
    ")\n"
   ]
  },
  {
   "cell_type": "code",
   "execution_count": 41,
   "id": "87e2d062",
   "metadata": {
    "execution": {
     "iopub.execute_input": "2025-04-11T15:50:12.471982Z",
     "iopub.status.busy": "2025-04-11T15:50:12.471655Z",
     "iopub.status.idle": "2025-04-11T15:52:54.680095Z",
     "shell.execute_reply": "2025-04-11T15:52:54.679036Z"
    },
    "papermill": {
     "duration": 162.325208,
     "end_time": "2025-04-11T15:52:54.681930",
     "exception": false,
     "start_time": "2025-04-11T15:50:12.356722",
     "status": "completed"
    },
    "tags": []
   },
   "outputs": [
    {
     "name": "stdout",
     "output_type": "stream",
     "text": [
      "Training model on dataset 0 with params: {'sequence_length': 35}\n"
     ]
    },
    {
     "name": "stderr",
     "output_type": "stream",
     "text": [
      "100%|██████████| 50/50 [00:12<00:00,  4.08it/s]\n",
      "<ipython-input-39-b4fce1014308>:67: FutureWarning: You are using `torch.load` with `weights_only=False` (the current default value), which uses the default pickle module implicitly. It is possible to construct malicious pickle data which will execute arbitrary code during unpickling (See https://github.com/pytorch/pytorch/blob/main/SECURITY.md#untrusted-models for more details). In a future release, the default value for `weights_only` will be flipped to `True`. This limits the functions that could be executed during unpickling. Arbitrary objects will no longer be allowed to be loaded via this mode unless they are explicitly allowlisted by the user via `torch.serialization.add_safe_globals`. We recommend you start setting `weights_only=True` for any use case where you don't have full control of the loaded file. Please open an issue on GitHub for any issues related to this experimental feature.\n",
      "  model_state_dict = torch.load(model_save_dir + f\"{model_name}_{idx}_{p}.pth\")\n"
     ]
    },
    {
     "name": "stdout",
     "output_type": "stream",
     "text": [
      "Training model on dataset 1 with params: {'sequence_length': 70}\n"
     ]
    },
    {
     "name": "stderr",
     "output_type": "stream",
     "text": [
      "100%|██████████| 50/50 [00:19<00:00,  2.61it/s]\n",
      "<ipython-input-39-b4fce1014308>:67: FutureWarning: You are using `torch.load` with `weights_only=False` (the current default value), which uses the default pickle module implicitly. It is possible to construct malicious pickle data which will execute arbitrary code during unpickling (See https://github.com/pytorch/pytorch/blob/main/SECURITY.md#untrusted-models for more details). In a future release, the default value for `weights_only` will be flipped to `True`. This limits the functions that could be executed during unpickling. Arbitrary objects will no longer be allowed to be loaded via this mode unless they are explicitly allowlisted by the user via `torch.serialization.add_safe_globals`. We recommend you start setting `weights_only=True` for any use case where you don't have full control of the loaded file. Please open an issue on GitHub for any issues related to this experimental feature.\n",
      "  model_state_dict = torch.load(model_save_dir + f\"{model_name}_{idx}_{p}.pth\")\n"
     ]
    },
    {
     "name": "stdout",
     "output_type": "stream",
     "text": [
      "Training model on dataset 2 with params: {'sequence_length': 105}\n"
     ]
    },
    {
     "name": "stderr",
     "output_type": "stream",
     "text": [
      "100%|██████████| 50/50 [00:25<00:00,  1.94it/s]\n",
      "<ipython-input-39-b4fce1014308>:67: FutureWarning: You are using `torch.load` with `weights_only=False` (the current default value), which uses the default pickle module implicitly. It is possible to construct malicious pickle data which will execute arbitrary code during unpickling (See https://github.com/pytorch/pytorch/blob/main/SECURITY.md#untrusted-models for more details). In a future release, the default value for `weights_only` will be flipped to `True`. This limits the functions that could be executed during unpickling. Arbitrary objects will no longer be allowed to be loaded via this mode unless they are explicitly allowlisted by the user via `torch.serialization.add_safe_globals`. We recommend you start setting `weights_only=True` for any use case where you don't have full control of the loaded file. Please open an issue on GitHub for any issues related to this experimental feature.\n",
      "  model_state_dict = torch.load(model_save_dir + f\"{model_name}_{idx}_{p}.pth\")\n"
     ]
    },
    {
     "name": "stdout",
     "output_type": "stream",
     "text": [
      "Training model on dataset 3 with params: {'sequence_length': 140}\n"
     ]
    },
    {
     "name": "stderr",
     "output_type": "stream",
     "text": [
      "100%|██████████| 50/50 [00:31<00:00,  1.58it/s]\n",
      "<ipython-input-39-b4fce1014308>:67: FutureWarning: You are using `torch.load` with `weights_only=False` (the current default value), which uses the default pickle module implicitly. It is possible to construct malicious pickle data which will execute arbitrary code during unpickling (See https://github.com/pytorch/pytorch/blob/main/SECURITY.md#untrusted-models for more details). In a future release, the default value for `weights_only` will be flipped to `True`. This limits the functions that could be executed during unpickling. Arbitrary objects will no longer be allowed to be loaded via this mode unless they are explicitly allowlisted by the user via `torch.serialization.add_safe_globals`. We recommend you start setting `weights_only=True` for any use case where you don't have full control of the loaded file. Please open an issue on GitHub for any issues related to this experimental feature.\n",
      "  model_state_dict = torch.load(model_save_dir + f\"{model_name}_{idx}_{p}.pth\")\n"
     ]
    },
    {
     "name": "stdout",
     "output_type": "stream",
     "text": [
      "Training model on dataset 4 with params: {'sequence_length': 175}\n"
     ]
    },
    {
     "name": "stderr",
     "output_type": "stream",
     "text": [
      "100%|██████████| 50/50 [00:37<00:00,  1.34it/s]\n",
      "<ipython-input-39-b4fce1014308>:67: FutureWarning: You are using `torch.load` with `weights_only=False` (the current default value), which uses the default pickle module implicitly. It is possible to construct malicious pickle data which will execute arbitrary code during unpickling (See https://github.com/pytorch/pytorch/blob/main/SECURITY.md#untrusted-models for more details). In a future release, the default value for `weights_only` will be flipped to `True`. This limits the functions that could be executed during unpickling. Arbitrary objects will no longer be allowed to be loaded via this mode unless they are explicitly allowlisted by the user via `torch.serialization.add_safe_globals`. We recommend you start setting `weights_only=True` for any use case where you don't have full control of the loaded file. Please open an issue on GitHub for any issues related to this experimental feature.\n",
      "  model_state_dict = torch.load(model_save_dir + f\"{model_name}_{idx}_{p}.pth\")\n"
     ]
    }
   ],
   "source": [
    "model_params = {\n",
    "    'input_size': 10,\n",
    "    'forecast_horizon': 35,\n",
    "    'rnn_num_layers': 3,\n",
    "    'hidden_size': 64,\n",
    "    'spatial_size': 64,\n",
    "    'model_kind': 'gru',\n",
    "    'attention' : True\n",
    "}\n",
    "\n",
    "df_dict = {\n",
    "    'train_dl' : df[df['date_value'] <= max_train_date],\n",
    "    'test_dl' : df[df['date_value'] > max_train_date],\n",
    "    'full_train_dl' : full_df[full_df['date_value'] <= max_train_date],\n",
    "    'full_test_dl' : full_df[full_df['date_value'] > max_train_date],\n",
    "}\n",
    "\n",
    "model_name = \"gat_sequence_length_test\"\n",
    "\n",
    "model_save_dir = f\"./{model_name}_dir/\"\n",
    "result_json_path = f\"{model_save_dir}{model_name}_results.json\"\n",
    "os.makedirs(model_save_dir, exist_ok=True)\n",
    "\n",
    "model_dict2 = run_grid_search_df(\n",
    "    param_grid,\n",
    "        df_dict,\n",
    "        model_name,\n",
    "        edge_index_dict,\n",
    "        img_tensor_dict,\n",
    "    model_save_dir,\n",
    "    result_json_path,\n",
    "    default_params=None,\n",
    "    model_params = model_params,\n",
    ")\n"
   ]
  },
  {
   "cell_type": "code",
   "execution_count": 42,
   "id": "24db961a",
   "metadata": {
    "execution": {
     "iopub.execute_input": "2025-04-11T15:52:54.923583Z",
     "iopub.status.busy": "2025-04-11T15:52:54.923215Z",
     "iopub.status.idle": "2025-04-11T15:52:54.932423Z",
     "shell.execute_reply": "2025-04-11T15:52:54.931491Z"
    },
    "papermill": {
     "duration": 0.130404,
     "end_time": "2025-04-11T15:52:54.933654",
     "exception": false,
     "start_time": "2025-04-11T15:52:54.803250",
     "status": "completed"
    },
    "tags": []
   },
   "outputs": [],
   "source": [
    "def run_grid_search_horizon(\n",
    "    horizon_values,\n",
    "        df_dict,\n",
    "        model_name,\n",
    "        edge_index_dict,\n",
    "        img_tensor_dict,\n",
    "    model_save_dir: str,\n",
    "    result_json_path: str,\n",
    "    df_params: dict = None,\n",
    "    model_params: dict = None,\n",
    "):    \n",
    "    model_dict = {}\n",
    "    results_list = []\n",
    "    \n",
    "    for idx, h in enumerate(horizon_values):\n",
    "        print(f\"Training model on dataset {idx} with horizon: {h}\")\n",
    "\n",
    "        model = get_model(forecast_horizon=h, \n",
    "                          img_tensor=img_tensor_dict['train_dl'], **model_params).to(device)\n",
    "\n",
    "        ds_dict = {}\n",
    "        dl_dict = {}\n",
    "        for k, v in df_dict.items():\n",
    "            dl, ds = get_dl(df = v, get_ds=True, forecast_horizon=h, **df_params)\n",
    "            ds_dict[k] = ds\n",
    "            dl_dict[k] = dl\n",
    "        \n",
    "        criterion = MaskedMSELoss().to(device)\n",
    "        optimizer = get_optimizer(model, lr = CFG.lr)\n",
    "        scheduler = get_reduce_lr(optimizer, factor=CFG.factor, patience=CFG.patience)\n",
    "\n",
    "        model.reset_img_tensor(ds_dict['train_dl'].imgs)\n",
    "        \n",
    "        loss_list, val_loss_list, all_loss_list = train(\n",
    "            model,\n",
    "            criterion,\n",
    "            optimizer,\n",
    "            num_epochs=CFG.num_epochs,\n",
    "            train_dataloader=dl_dict['train_dl'],\n",
    "            val_dataloader=dl_dict['test_dl'],\n",
    "            scheduler=scheduler,\n",
    "            do_validate=True,\n",
    "            validate_frequency=1,\n",
    "            verbose=-2,\n",
    "            model_name=model_save_dir + f\"{model_name}_{idx}_\"\n",
    "        )\n",
    "        \n",
    "        model_path = model_save_dir + f\"final_{model_name}_{idx}.pt\"\n",
    "        torch.save(model.state_dict(), model_path)\n",
    "        model_dict[idx] = model\n",
    "        \n",
    "        result_metrics = {}\n",
    "        paths = ['best', '2_5', '10']\n",
    "        for p in paths:\n",
    "            result_metrics[p] = {}\n",
    "            model.reset_index(edge_index_dict['train_dl'])\n",
    "            model_state_dict = torch.load(model_save_dir + f\"{model_name}_{idx}_{p}.pth\")\n",
    "            model.load_state_dict(model_state_dict)\n",
    "            \n",
    "            for df_name, df1 in dl_dict.items():\n",
    "                model.reset_index(edge_index_dict[df_name])\n",
    "                model.reset_img_tensor(img_tensor_dict[df_name])\n",
    "                result_metrics[p][df_name] = predict_eval(model, df1, criterion, verbose=False)\n",
    "\n",
    "        results_list.append({\n",
    "            \"model_index\": idx,\n",
    "            \"model_name\": model_path,\n",
    "            \"horizon\": h,\n",
    "            \"params\" : model_params,\n",
    "            \"results\": result_metrics\n",
    "        })\n",
    "\n",
    "    with open(result_json_path, \"w\") as f:\n",
    "        json.dump(results_list, f, indent=4)\n",
    "\n",
    "    return model_dict\n"
   ]
  },
  {
   "cell_type": "code",
   "execution_count": 43,
   "id": "dee76a5c",
   "metadata": {
    "execution": {
     "iopub.execute_input": "2025-04-11T15:52:55.167077Z",
     "iopub.status.busy": "2025-04-11T15:52:55.166849Z",
     "iopub.status.idle": "2025-04-11T15:55:34.804101Z",
     "shell.execute_reply": "2025-04-11T15:55:34.803335Z"
    },
    "papermill": {
     "duration": 159.755493,
     "end_time": "2025-04-11T15:55:34.805679",
     "exception": false,
     "start_time": "2025-04-11T15:52:55.050186",
     "status": "completed"
    },
    "tags": []
   },
   "outputs": [
    {
     "name": "stdout",
     "output_type": "stream",
     "text": [
      "Training model on dataset 0 with horizon: 35\n"
     ]
    },
    {
     "name": "stderr",
     "output_type": "stream",
     "text": [
      "100%|██████████| 50/50 [00:25<00:00,  1.95it/s]\n",
      "<ipython-input-42-de6c78830f5a>:57: FutureWarning: You are using `torch.load` with `weights_only=False` (the current default value), which uses the default pickle module implicitly. It is possible to construct malicious pickle data which will execute arbitrary code during unpickling (See https://github.com/pytorch/pytorch/blob/main/SECURITY.md#untrusted-models for more details). In a future release, the default value for `weights_only` will be flipped to `True`. This limits the functions that could be executed during unpickling. Arbitrary objects will no longer be allowed to be loaded via this mode unless they are explicitly allowlisted by the user via `torch.serialization.add_safe_globals`. We recommend you start setting `weights_only=True` for any use case where you don't have full control of the loaded file. Please open an issue on GitHub for any issues related to this experimental feature.\n",
      "  model_state_dict = torch.load(model_save_dir + f\"{model_name}_{idx}_{p}.pth\")\n"
     ]
    },
    {
     "name": "stdout",
     "output_type": "stream",
     "text": [
      "Training model on dataset 1 with horizon: 70\n"
     ]
    },
    {
     "name": "stderr",
     "output_type": "stream",
     "text": [
      "100%|██████████| 50/50 [00:25<00:00,  1.98it/s]\n",
      "<ipython-input-42-de6c78830f5a>:57: FutureWarning: You are using `torch.load` with `weights_only=False` (the current default value), which uses the default pickle module implicitly. It is possible to construct malicious pickle data which will execute arbitrary code during unpickling (See https://github.com/pytorch/pytorch/blob/main/SECURITY.md#untrusted-models for more details). In a future release, the default value for `weights_only` will be flipped to `True`. This limits the functions that could be executed during unpickling. Arbitrary objects will no longer be allowed to be loaded via this mode unless they are explicitly allowlisted by the user via `torch.serialization.add_safe_globals`. We recommend you start setting `weights_only=True` for any use case where you don't have full control of the loaded file. Please open an issue on GitHub for any issues related to this experimental feature.\n",
      "  model_state_dict = torch.load(model_save_dir + f\"{model_name}_{idx}_{p}.pth\")\n"
     ]
    },
    {
     "name": "stdout",
     "output_type": "stream",
     "text": [
      "Training model on dataset 2 with horizon: 105\n"
     ]
    },
    {
     "name": "stderr",
     "output_type": "stream",
     "text": [
      "100%|██████████| 50/50 [00:24<00:00,  2.01it/s]\n",
      "<ipython-input-42-de6c78830f5a>:57: FutureWarning: You are using `torch.load` with `weights_only=False` (the current default value), which uses the default pickle module implicitly. It is possible to construct malicious pickle data which will execute arbitrary code during unpickling (See https://github.com/pytorch/pytorch/blob/main/SECURITY.md#untrusted-models for more details). In a future release, the default value for `weights_only` will be flipped to `True`. This limits the functions that could be executed during unpickling. Arbitrary objects will no longer be allowed to be loaded via this mode unless they are explicitly allowlisted by the user via `torch.serialization.add_safe_globals`. We recommend you start setting `weights_only=True` for any use case where you don't have full control of the loaded file. Please open an issue on GitHub for any issues related to this experimental feature.\n",
      "  model_state_dict = torch.load(model_save_dir + f\"{model_name}_{idx}_{p}.pth\")\n"
     ]
    },
    {
     "name": "stdout",
     "output_type": "stream",
     "text": [
      "Training model on dataset 3 with horizon: 140\n"
     ]
    },
    {
     "name": "stderr",
     "output_type": "stream",
     "text": [
      "100%|██████████| 50/50 [00:24<00:00,  2.05it/s]\n",
      "<ipython-input-42-de6c78830f5a>:57: FutureWarning: You are using `torch.load` with `weights_only=False` (the current default value), which uses the default pickle module implicitly. It is possible to construct malicious pickle data which will execute arbitrary code during unpickling (See https://github.com/pytorch/pytorch/blob/main/SECURITY.md#untrusted-models for more details). In a future release, the default value for `weights_only` will be flipped to `True`. This limits the functions that could be executed during unpickling. Arbitrary objects will no longer be allowed to be loaded via this mode unless they are explicitly allowlisted by the user via `torch.serialization.add_safe_globals`. We recommend you start setting `weights_only=True` for any use case where you don't have full control of the loaded file. Please open an issue on GitHub for any issues related to this experimental feature.\n",
      "  model_state_dict = torch.load(model_save_dir + f\"{model_name}_{idx}_{p}.pth\")\n"
     ]
    },
    {
     "name": "stdout",
     "output_type": "stream",
     "text": [
      "Training model on dataset 4 with horizon: 175\n"
     ]
    },
    {
     "name": "stderr",
     "output_type": "stream",
     "text": [
      "100%|██████████| 50/50 [00:24<00:00,  2.07it/s]\n",
      "<ipython-input-42-de6c78830f5a>:57: FutureWarning: You are using `torch.load` with `weights_only=False` (the current default value), which uses the default pickle module implicitly. It is possible to construct malicious pickle data which will execute arbitrary code during unpickling (See https://github.com/pytorch/pytorch/blob/main/SECURITY.md#untrusted-models for more details). In a future release, the default value for `weights_only` will be flipped to `True`. This limits the functions that could be executed during unpickling. Arbitrary objects will no longer be allowed to be loaded via this mode unless they are explicitly allowlisted by the user via `torch.serialization.add_safe_globals`. We recommend you start setting `weights_only=True` for any use case where you don't have full control of the loaded file. Please open an issue on GitHub for any issues related to this experimental feature.\n",
      "  model_state_dict = torch.load(model_save_dir + f\"{model_name}_{idx}_{p}.pth\")\n"
     ]
    }
   ],
   "source": [
    "horizon_values = [35, 70, 105, 140, 175]\n",
    "\n",
    "model_params = {\n",
    "    'input_size': 10,\n",
    "    'rnn_num_layers': 3,\n",
    "    'hidden_size': 64,\n",
    "    'spatial_size': 64,\n",
    "    'model_kind': 'gru',\n",
    "    'attention' : False\n",
    "}\n",
    "\n",
    "df_dict = {\n",
    "    'train_dl' : df[df['date_value'] <= max_train_date],\n",
    "    'test_dl' : df[df['date_value'] > max_train_date],\n",
    "    'full_train_dl' : full_df[full_df['date_value'] <= max_train_date],\n",
    "    'full_test_dl' : full_df[full_df['date_value'] > max_train_date],\n",
    "}\n",
    "\n",
    "df_params = {\n",
    "    'sequence_length' : 105,\n",
    "}\n",
    "\n",
    "model_name = \"gcn_forecast_horizon_test\"\n",
    "\n",
    "model_save_dir = f\"./{model_name}_dir/\"\n",
    "result_json_path = f\"{model_save_dir}{model_name}_results.json\"\n",
    "os.makedirs(model_save_dir, exist_ok=True)\n",
    "\n",
    "model_dict3 = run_grid_search_horizon(\n",
    "    horizon_values,\n",
    "        df_dict,\n",
    "        model_name,\n",
    "        edge_index_dict,\n",
    "        img_tensor_dict,\n",
    "    model_save_dir,\n",
    "    result_json_path,\n",
    "    df_params=df_params,\n",
    "    model_params = model_params,\n",
    ")\n"
   ]
  },
  {
   "cell_type": "code",
   "execution_count": 44,
   "id": "5584e4f5",
   "metadata": {
    "execution": {
     "iopub.execute_input": "2025-04-11T15:55:35.069105Z",
     "iopub.status.busy": "2025-04-11T15:55:35.068819Z",
     "iopub.status.idle": "2025-04-11T15:58:14.934637Z",
     "shell.execute_reply": "2025-04-11T15:58:14.933649Z"
    },
    "papermill": {
     "duration": 159.997884,
     "end_time": "2025-04-11T15:58:14.936380",
     "exception": false,
     "start_time": "2025-04-11T15:55:34.938496",
     "status": "completed"
    },
    "tags": []
   },
   "outputs": [
    {
     "name": "stdout",
     "output_type": "stream",
     "text": [
      "Training model on dataset 0 with horizon: 35\n"
     ]
    },
    {
     "name": "stderr",
     "output_type": "stream",
     "text": [
      "100%|██████████| 50/50 [00:25<00:00,  1.96it/s]\n",
      "<ipython-input-42-de6c78830f5a>:57: FutureWarning: You are using `torch.load` with `weights_only=False` (the current default value), which uses the default pickle module implicitly. It is possible to construct malicious pickle data which will execute arbitrary code during unpickling (See https://github.com/pytorch/pytorch/blob/main/SECURITY.md#untrusted-models for more details). In a future release, the default value for `weights_only` will be flipped to `True`. This limits the functions that could be executed during unpickling. Arbitrary objects will no longer be allowed to be loaded via this mode unless they are explicitly allowlisted by the user via `torch.serialization.add_safe_globals`. We recommend you start setting `weights_only=True` for any use case where you don't have full control of the loaded file. Please open an issue on GitHub for any issues related to this experimental feature.\n",
      "  model_state_dict = torch.load(model_save_dir + f\"{model_name}_{idx}_{p}.pth\")\n"
     ]
    },
    {
     "name": "stdout",
     "output_type": "stream",
     "text": [
      "Training model on dataset 1 with horizon: 70\n"
     ]
    },
    {
     "name": "stderr",
     "output_type": "stream",
     "text": [
      "100%|██████████| 50/50 [00:25<00:00,  1.99it/s]\n",
      "<ipython-input-42-de6c78830f5a>:57: FutureWarning: You are using `torch.load` with `weights_only=False` (the current default value), which uses the default pickle module implicitly. It is possible to construct malicious pickle data which will execute arbitrary code during unpickling (See https://github.com/pytorch/pytorch/blob/main/SECURITY.md#untrusted-models for more details). In a future release, the default value for `weights_only` will be flipped to `True`. This limits the functions that could be executed during unpickling. Arbitrary objects will no longer be allowed to be loaded via this mode unless they are explicitly allowlisted by the user via `torch.serialization.add_safe_globals`. We recommend you start setting `weights_only=True` for any use case where you don't have full control of the loaded file. Please open an issue on GitHub for any issues related to this experimental feature.\n",
      "  model_state_dict = torch.load(model_save_dir + f\"{model_name}_{idx}_{p}.pth\")\n"
     ]
    },
    {
     "name": "stdout",
     "output_type": "stream",
     "text": [
      "Training model on dataset 2 with horizon: 105\n"
     ]
    },
    {
     "name": "stderr",
     "output_type": "stream",
     "text": [
      "100%|██████████| 50/50 [00:24<00:00,  2.00it/s]\n",
      "<ipython-input-42-de6c78830f5a>:57: FutureWarning: You are using `torch.load` with `weights_only=False` (the current default value), which uses the default pickle module implicitly. It is possible to construct malicious pickle data which will execute arbitrary code during unpickling (See https://github.com/pytorch/pytorch/blob/main/SECURITY.md#untrusted-models for more details). In a future release, the default value for `weights_only` will be flipped to `True`. This limits the functions that could be executed during unpickling. Arbitrary objects will no longer be allowed to be loaded via this mode unless they are explicitly allowlisted by the user via `torch.serialization.add_safe_globals`. We recommend you start setting `weights_only=True` for any use case where you don't have full control of the loaded file. Please open an issue on GitHub for any issues related to this experimental feature.\n",
      "  model_state_dict = torch.load(model_save_dir + f\"{model_name}_{idx}_{p}.pth\")\n"
     ]
    },
    {
     "name": "stdout",
     "output_type": "stream",
     "text": [
      "Training model on dataset 3 with horizon: 140\n"
     ]
    },
    {
     "name": "stderr",
     "output_type": "stream",
     "text": [
      "100%|██████████| 50/50 [00:24<00:00,  2.03it/s]\n",
      "<ipython-input-42-de6c78830f5a>:57: FutureWarning: You are using `torch.load` with `weights_only=False` (the current default value), which uses the default pickle module implicitly. It is possible to construct malicious pickle data which will execute arbitrary code during unpickling (See https://github.com/pytorch/pytorch/blob/main/SECURITY.md#untrusted-models for more details). In a future release, the default value for `weights_only` will be flipped to `True`. This limits the functions that could be executed during unpickling. Arbitrary objects will no longer be allowed to be loaded via this mode unless they are explicitly allowlisted by the user via `torch.serialization.add_safe_globals`. We recommend you start setting `weights_only=True` for any use case where you don't have full control of the loaded file. Please open an issue on GitHub for any issues related to this experimental feature.\n",
      "  model_state_dict = torch.load(model_save_dir + f\"{model_name}_{idx}_{p}.pth\")\n"
     ]
    },
    {
     "name": "stdout",
     "output_type": "stream",
     "text": [
      "Training model on dataset 4 with horizon: 175\n"
     ]
    },
    {
     "name": "stderr",
     "output_type": "stream",
     "text": [
      "100%|██████████| 50/50 [00:24<00:00,  2.05it/s]\n",
      "<ipython-input-42-de6c78830f5a>:57: FutureWarning: You are using `torch.load` with `weights_only=False` (the current default value), which uses the default pickle module implicitly. It is possible to construct malicious pickle data which will execute arbitrary code during unpickling (See https://github.com/pytorch/pytorch/blob/main/SECURITY.md#untrusted-models for more details). In a future release, the default value for `weights_only` will be flipped to `True`. This limits the functions that could be executed during unpickling. Arbitrary objects will no longer be allowed to be loaded via this mode unless they are explicitly allowlisted by the user via `torch.serialization.add_safe_globals`. We recommend you start setting `weights_only=True` for any use case where you don't have full control of the loaded file. Please open an issue on GitHub for any issues related to this experimental feature.\n",
      "  model_state_dict = torch.load(model_save_dir + f\"{model_name}_{idx}_{p}.pth\")\n"
     ]
    }
   ],
   "source": [
    "model_params = {\n",
    "    'input_size': 10,\n",
    "    'rnn_num_layers': 3,\n",
    "    'hidden_size': 64,\n",
    "    'spatial_size': 64,\n",
    "    'model_kind': 'gru',\n",
    "    'attention' : True\n",
    "}\n",
    "\n",
    "df_dict = {\n",
    "    'train_dl' : df[df['date_value'] <= max_train_date],\n",
    "    'test_dl' : df[df['date_value'] > max_train_date],\n",
    "    'full_train_dl' : full_df[full_df['date_value'] <= max_train_date],\n",
    "    'full_test_dl' : full_df[full_df['date_value'] > max_train_date],\n",
    "}\n",
    "\n",
    "df_params = {\n",
    "    'sequence_length' : 105,\n",
    "}\n",
    "\n",
    "model_name = \"gat_forecast_horizon_test\"\n",
    "\n",
    "model_save_dir = f\"./{model_name}_dir/\"\n",
    "result_json_path = f\"{model_save_dir}{model_name}_results.json\"\n",
    "os.makedirs(model_save_dir, exist_ok=True)\n",
    "\n",
    "model_dict3 = run_grid_search_horizon(\n",
    "    horizon_values,\n",
    "        df_dict,\n",
    "        model_name,\n",
    "        edge_index_dict,\n",
    "        img_tensor_dict,\n",
    "    model_save_dir,\n",
    "    result_json_path,\n",
    "    df_params=df_params,\n",
    "    model_params = model_params,\n",
    ")\n"
   ]
  },
  {
   "cell_type": "code",
   "execution_count": 45,
   "id": "ca2f6dd3",
   "metadata": {
    "execution": {
     "iopub.execute_input": "2025-04-11T15:58:15.227962Z",
     "iopub.status.busy": "2025-04-11T15:58:15.227649Z",
     "iopub.status.idle": "2025-04-11T15:58:15.235721Z",
     "shell.execute_reply": "2025-04-11T15:58:15.235017Z"
    },
    "papermill": {
     "duration": 0.154909,
     "end_time": "2025-04-11T15:58:15.236941",
     "exception": false,
     "start_time": "2025-04-11T15:58:15.082032",
     "status": "completed"
    },
    "tags": []
   },
   "outputs": [],
   "source": [
    "def run_grid_search_graph(\n",
    "    edge_values,\n",
    "        ds_dict,\n",
    "        dl_dict,\n",
    "        model_name,\n",
    "        edge_index_dict,\n",
    "        img_tensor_dict,\n",
    "    model_save_dir: str,\n",
    "    result_json_path: str,\n",
    "    model_params: dict = None,\n",
    "):    \n",
    "    model_dict = {}\n",
    "    results_list = []\n",
    "    \n",
    "    for idx, k in enumerate(edge_values):\n",
    "        print(f\"Training model on dataset {idx} with edges: {k}\")\n",
    "\n",
    "        model = get_model(img_tensor=img_tensor_dict['train_dl'], **model_params).to(device)\n",
    "        \n",
    "        criterion = MaskedMSELoss().to(device)\n",
    "        optimizer = get_optimizer(model, lr = CFG.lr)\n",
    "        scheduler = get_reduce_lr(optimizer, factor=CFG.factor, patience=CFG.patience)\n",
    "\n",
    "        edge_index = build_knn_graph(ds_dict['train_dl'].lat_lon_pairs, k = k)\n",
    "        model.reset_index(edge_index)\n",
    "        \n",
    "        loss_list, val_loss_list, all_loss_list = train(\n",
    "            model,\n",
    "            criterion,\n",
    "            optimizer,\n",
    "            num_epochs=CFG.num_epochs,\n",
    "            train_dataloader=dl_dict['train_dl'],\n",
    "            val_dataloader=dl_dict['test_dl'],\n",
    "            scheduler=scheduler,\n",
    "            do_validate=True,\n",
    "            validate_frequency=1,\n",
    "            verbose=-2,\n",
    "            model_name=model_save_dir + f\"{model_name}_{idx}_\"\n",
    "        )\n",
    "        \n",
    "        model_path = model_save_dir + f\"final_{model_name}_{idx}.pt\"\n",
    "        torch.save(model.state_dict(), model_path)\n",
    "        model_dict[idx] = model\n",
    "        \n",
    "        result_metrics = {}\n",
    "        paths = ['best', '2_5', '10']\n",
    "        for p in paths:\n",
    "            result_metrics[p] = {}\n",
    "            model.reset_index(edge_index_dict['train_dl'])\n",
    "            model_state_dict = torch.load(model_save_dir + f\"{model_name}_{idx}_{p}.pth\")\n",
    "            model.load_state_dict(model_state_dict)\n",
    "        \n",
    "            for df_name, df1 in dl_dict.items():\n",
    "                model.reset_index(edge_index_dict[df_name])\n",
    "                model.reset_img_tensor(img_tensor_dict[df_name])\n",
    "                result_metrics[p][df_name] = predict_eval(model, df1, criterion, verbose=False)\n",
    "\n",
    "        results_list.append({\n",
    "            \"model_index\": idx,\n",
    "            \"model_name\": model_path,\n",
    "            \"node_neighbors\": k,\n",
    "            \"params\" : model_params,\n",
    "            \"results\": result_metrics\n",
    "        })\n",
    "\n",
    "    with open(result_json_path, \"w\") as f:\n",
    "        json.dump(results_list, f, indent=4)\n",
    "\n",
    "    return model_dict\n"
   ]
  },
  {
   "cell_type": "code",
   "execution_count": 46,
   "id": "260820a0",
   "metadata": {
    "execution": {
     "iopub.execute_input": "2025-04-11T15:58:15.520922Z",
     "iopub.status.busy": "2025-04-11T15:58:15.520591Z",
     "iopub.status.idle": "2025-04-11T16:03:03.079138Z",
     "shell.execute_reply": "2025-04-11T16:03:03.078089Z"
    },
    "papermill": {
     "duration": 287.702895,
     "end_time": "2025-04-11T16:03:03.080963",
     "exception": false,
     "start_time": "2025-04-11T15:58:15.378068",
     "status": "completed"
    },
    "tags": []
   },
   "outputs": [
    {
     "name": "stdout",
     "output_type": "stream",
     "text": [
      "Training model on dataset 0 with edges: 2\n"
     ]
    },
    {
     "name": "stderr",
     "output_type": "stream",
     "text": [
      "100%|██████████| 50/50 [00:19<00:00,  2.60it/s]\n",
      "<ipython-input-45-872612561e8b>:50: FutureWarning: You are using `torch.load` with `weights_only=False` (the current default value), which uses the default pickle module implicitly. It is possible to construct malicious pickle data which will execute arbitrary code during unpickling (See https://github.com/pytorch/pytorch/blob/main/SECURITY.md#untrusted-models for more details). In a future release, the default value for `weights_only` will be flipped to `True`. This limits the functions that could be executed during unpickling. Arbitrary objects will no longer be allowed to be loaded via this mode unless they are explicitly allowlisted by the user via `torch.serialization.add_safe_globals`. We recommend you start setting `weights_only=True` for any use case where you don't have full control of the loaded file. Please open an issue on GitHub for any issues related to this experimental feature.\n",
      "  model_state_dict = torch.load(model_save_dir + f\"{model_name}_{idx}_{p}.pth\")\n"
     ]
    },
    {
     "name": "stdout",
     "output_type": "stream",
     "text": [
      "Training model on dataset 1 with edges: 3\n"
     ]
    },
    {
     "name": "stderr",
     "output_type": "stream",
     "text": [
      "100%|██████████| 50/50 [00:19<00:00,  2.59it/s]\n",
      "<ipython-input-45-872612561e8b>:50: FutureWarning: You are using `torch.load` with `weights_only=False` (the current default value), which uses the default pickle module implicitly. It is possible to construct malicious pickle data which will execute arbitrary code during unpickling (See https://github.com/pytorch/pytorch/blob/main/SECURITY.md#untrusted-models for more details). In a future release, the default value for `weights_only` will be flipped to `True`. This limits the functions that could be executed during unpickling. Arbitrary objects will no longer be allowed to be loaded via this mode unless they are explicitly allowlisted by the user via `torch.serialization.add_safe_globals`. We recommend you start setting `weights_only=True` for any use case where you don't have full control of the loaded file. Please open an issue on GitHub for any issues related to this experimental feature.\n",
      "  model_state_dict = torch.load(model_save_dir + f\"{model_name}_{idx}_{p}.pth\")\n"
     ]
    },
    {
     "name": "stdout",
     "output_type": "stream",
     "text": [
      "Training model on dataset 2 with edges: 4\n"
     ]
    },
    {
     "name": "stderr",
     "output_type": "stream",
     "text": [
      "100%|██████████| 50/50 [00:19<00:00,  2.60it/s]\n",
      "<ipython-input-45-872612561e8b>:50: FutureWarning: You are using `torch.load` with `weights_only=False` (the current default value), which uses the default pickle module implicitly. It is possible to construct malicious pickle data which will execute arbitrary code during unpickling (See https://github.com/pytorch/pytorch/blob/main/SECURITY.md#untrusted-models for more details). In a future release, the default value for `weights_only` will be flipped to `True`. This limits the functions that could be executed during unpickling. Arbitrary objects will no longer be allowed to be loaded via this mode unless they are explicitly allowlisted by the user via `torch.serialization.add_safe_globals`. We recommend you start setting `weights_only=True` for any use case where you don't have full control of the loaded file. Please open an issue on GitHub for any issues related to this experimental feature.\n",
      "  model_state_dict = torch.load(model_save_dir + f\"{model_name}_{idx}_{p}.pth\")\n"
     ]
    },
    {
     "name": "stdout",
     "output_type": "stream",
     "text": [
      "Training model on dataset 3 with edges: 5\n"
     ]
    },
    {
     "name": "stderr",
     "output_type": "stream",
     "text": [
      "100%|██████████| 50/50 [00:19<00:00,  2.59it/s]\n",
      "<ipython-input-45-872612561e8b>:50: FutureWarning: You are using `torch.load` with `weights_only=False` (the current default value), which uses the default pickle module implicitly. It is possible to construct malicious pickle data which will execute arbitrary code during unpickling (See https://github.com/pytorch/pytorch/blob/main/SECURITY.md#untrusted-models for more details). In a future release, the default value for `weights_only` will be flipped to `True`. This limits the functions that could be executed during unpickling. Arbitrary objects will no longer be allowed to be loaded via this mode unless they are explicitly allowlisted by the user via `torch.serialization.add_safe_globals`. We recommend you start setting `weights_only=True` for any use case where you don't have full control of the loaded file. Please open an issue on GitHub for any issues related to this experimental feature.\n",
      "  model_state_dict = torch.load(model_save_dir + f\"{model_name}_{idx}_{p}.pth\")\n"
     ]
    },
    {
     "name": "stdout",
     "output_type": "stream",
     "text": [
      "Training model on dataset 4 with edges: 6\n"
     ]
    },
    {
     "name": "stderr",
     "output_type": "stream",
     "text": [
      "100%|██████████| 50/50 [00:19<00:00,  2.60it/s]\n",
      "<ipython-input-45-872612561e8b>:50: FutureWarning: You are using `torch.load` with `weights_only=False` (the current default value), which uses the default pickle module implicitly. It is possible to construct malicious pickle data which will execute arbitrary code during unpickling (See https://github.com/pytorch/pytorch/blob/main/SECURITY.md#untrusted-models for more details). In a future release, the default value for `weights_only` will be flipped to `True`. This limits the functions that could be executed during unpickling. Arbitrary objects will no longer be allowed to be loaded via this mode unless they are explicitly allowlisted by the user via `torch.serialization.add_safe_globals`. We recommend you start setting `weights_only=True` for any use case where you don't have full control of the loaded file. Please open an issue on GitHub for any issues related to this experimental feature.\n",
      "  model_state_dict = torch.load(model_save_dir + f\"{model_name}_{idx}_{p}.pth\")\n"
     ]
    },
    {
     "name": "stdout",
     "output_type": "stream",
     "text": [
      "Training model on dataset 5 with edges: 7\n"
     ]
    },
    {
     "name": "stderr",
     "output_type": "stream",
     "text": [
      "100%|██████████| 50/50 [00:19<00:00,  2.61it/s]\n",
      "<ipython-input-45-872612561e8b>:50: FutureWarning: You are using `torch.load` with `weights_only=False` (the current default value), which uses the default pickle module implicitly. It is possible to construct malicious pickle data which will execute arbitrary code during unpickling (See https://github.com/pytorch/pytorch/blob/main/SECURITY.md#untrusted-models for more details). In a future release, the default value for `weights_only` will be flipped to `True`. This limits the functions that could be executed during unpickling. Arbitrary objects will no longer be allowed to be loaded via this mode unless they are explicitly allowlisted by the user via `torch.serialization.add_safe_globals`. We recommend you start setting `weights_only=True` for any use case where you don't have full control of the loaded file. Please open an issue on GitHub for any issues related to this experimental feature.\n",
      "  model_state_dict = torch.load(model_save_dir + f\"{model_name}_{idx}_{p}.pth\")\n"
     ]
    },
    {
     "name": "stdout",
     "output_type": "stream",
     "text": [
      "Training model on dataset 6 with edges: 8\n"
     ]
    },
    {
     "name": "stderr",
     "output_type": "stream",
     "text": [
      "100%|██████████| 50/50 [00:19<00:00,  2.60it/s]\n",
      "<ipython-input-45-872612561e8b>:50: FutureWarning: You are using `torch.load` with `weights_only=False` (the current default value), which uses the default pickle module implicitly. It is possible to construct malicious pickle data which will execute arbitrary code during unpickling (See https://github.com/pytorch/pytorch/blob/main/SECURITY.md#untrusted-models for more details). In a future release, the default value for `weights_only` will be flipped to `True`. This limits the functions that could be executed during unpickling. Arbitrary objects will no longer be allowed to be loaded via this mode unless they are explicitly allowlisted by the user via `torch.serialization.add_safe_globals`. We recommend you start setting `weights_only=True` for any use case where you don't have full control of the loaded file. Please open an issue on GitHub for any issues related to this experimental feature.\n",
      "  model_state_dict = torch.load(model_save_dir + f\"{model_name}_{idx}_{p}.pth\")\n"
     ]
    },
    {
     "name": "stdout",
     "output_type": "stream",
     "text": [
      "Training model on dataset 7 with edges: 9\n"
     ]
    },
    {
     "name": "stderr",
     "output_type": "stream",
     "text": [
      "100%|██████████| 50/50 [00:19<00:00,  2.60it/s]\n",
      "<ipython-input-45-872612561e8b>:50: FutureWarning: You are using `torch.load` with `weights_only=False` (the current default value), which uses the default pickle module implicitly. It is possible to construct malicious pickle data which will execute arbitrary code during unpickling (See https://github.com/pytorch/pytorch/blob/main/SECURITY.md#untrusted-models for more details). In a future release, the default value for `weights_only` will be flipped to `True`. This limits the functions that could be executed during unpickling. Arbitrary objects will no longer be allowed to be loaded via this mode unless they are explicitly allowlisted by the user via `torch.serialization.add_safe_globals`. We recommend you start setting `weights_only=True` for any use case where you don't have full control of the loaded file. Please open an issue on GitHub for any issues related to this experimental feature.\n",
      "  model_state_dict = torch.load(model_save_dir + f\"{model_name}_{idx}_{p}.pth\")\n"
     ]
    },
    {
     "name": "stdout",
     "output_type": "stream",
     "text": [
      "Training model on dataset 8 with edges: 10\n"
     ]
    },
    {
     "name": "stderr",
     "output_type": "stream",
     "text": [
      "100%|██████████| 50/50 [00:19<00:00,  2.60it/s]\n",
      "<ipython-input-45-872612561e8b>:50: FutureWarning: You are using `torch.load` with `weights_only=False` (the current default value), which uses the default pickle module implicitly. It is possible to construct malicious pickle data which will execute arbitrary code during unpickling (See https://github.com/pytorch/pytorch/blob/main/SECURITY.md#untrusted-models for more details). In a future release, the default value for `weights_only` will be flipped to `True`. This limits the functions that could be executed during unpickling. Arbitrary objects will no longer be allowed to be loaded via this mode unless they are explicitly allowlisted by the user via `torch.serialization.add_safe_globals`. We recommend you start setting `weights_only=True` for any use case where you don't have full control of the loaded file. Please open an issue on GitHub for any issues related to this experimental feature.\n",
      "  model_state_dict = torch.load(model_save_dir + f\"{model_name}_{idx}_{p}.pth\")\n"
     ]
    },
    {
     "name": "stdout",
     "output_type": "stream",
     "text": [
      "Training model on dataset 9 with edges: 11\n"
     ]
    },
    {
     "name": "stderr",
     "output_type": "stream",
     "text": [
      "100%|██████████| 50/50 [00:19<00:00,  2.60it/s]\n",
      "<ipython-input-45-872612561e8b>:50: FutureWarning: You are using `torch.load` with `weights_only=False` (the current default value), which uses the default pickle module implicitly. It is possible to construct malicious pickle data which will execute arbitrary code during unpickling (See https://github.com/pytorch/pytorch/blob/main/SECURITY.md#untrusted-models for more details). In a future release, the default value for `weights_only` will be flipped to `True`. This limits the functions that could be executed during unpickling. Arbitrary objects will no longer be allowed to be loaded via this mode unless they are explicitly allowlisted by the user via `torch.serialization.add_safe_globals`. We recommend you start setting `weights_only=True` for any use case where you don't have full control of the loaded file. Please open an issue on GitHub for any issues related to this experimental feature.\n",
      "  model_state_dict = torch.load(model_save_dir + f\"{model_name}_{idx}_{p}.pth\")\n"
     ]
    },
    {
     "name": "stdout",
     "output_type": "stream",
     "text": [
      "Training model on dataset 10 with edges: 12\n"
     ]
    },
    {
     "name": "stderr",
     "output_type": "stream",
     "text": [
      "100%|██████████| 50/50 [00:19<00:00,  2.60it/s]\n",
      "<ipython-input-45-872612561e8b>:50: FutureWarning: You are using `torch.load` with `weights_only=False` (the current default value), which uses the default pickle module implicitly. It is possible to construct malicious pickle data which will execute arbitrary code during unpickling (See https://github.com/pytorch/pytorch/blob/main/SECURITY.md#untrusted-models for more details). In a future release, the default value for `weights_only` will be flipped to `True`. This limits the functions that could be executed during unpickling. Arbitrary objects will no longer be allowed to be loaded via this mode unless they are explicitly allowlisted by the user via `torch.serialization.add_safe_globals`. We recommend you start setting `weights_only=True` for any use case where you don't have full control of the loaded file. Please open an issue on GitHub for any issues related to this experimental feature.\n",
      "  model_state_dict = torch.load(model_save_dir + f\"{model_name}_{idx}_{p}.pth\")\n"
     ]
    },
    {
     "name": "stdout",
     "output_type": "stream",
     "text": [
      "Training model on dataset 11 with edges: 13\n"
     ]
    },
    {
     "name": "stderr",
     "output_type": "stream",
     "text": [
      "100%|██████████| 50/50 [00:19<00:00,  2.61it/s]\n",
      "<ipython-input-45-872612561e8b>:50: FutureWarning: You are using `torch.load` with `weights_only=False` (the current default value), which uses the default pickle module implicitly. It is possible to construct malicious pickle data which will execute arbitrary code during unpickling (See https://github.com/pytorch/pytorch/blob/main/SECURITY.md#untrusted-models for more details). In a future release, the default value for `weights_only` will be flipped to `True`. This limits the functions that could be executed during unpickling. Arbitrary objects will no longer be allowed to be loaded via this mode unless they are explicitly allowlisted by the user via `torch.serialization.add_safe_globals`. We recommend you start setting `weights_only=True` for any use case where you don't have full control of the loaded file. Please open an issue on GitHub for any issues related to this experimental feature.\n",
      "  model_state_dict = torch.load(model_save_dir + f\"{model_name}_{idx}_{p}.pth\")\n"
     ]
    },
    {
     "name": "stdout",
     "output_type": "stream",
     "text": [
      "Training model on dataset 12 with edges: 14\n"
     ]
    },
    {
     "name": "stderr",
     "output_type": "stream",
     "text": [
      "100%|██████████| 50/50 [00:19<00:00,  2.61it/s]\n",
      "<ipython-input-45-872612561e8b>:50: FutureWarning: You are using `torch.load` with `weights_only=False` (the current default value), which uses the default pickle module implicitly. It is possible to construct malicious pickle data which will execute arbitrary code during unpickling (See https://github.com/pytorch/pytorch/blob/main/SECURITY.md#untrusted-models for more details). In a future release, the default value for `weights_only` will be flipped to `True`. This limits the functions that could be executed during unpickling. Arbitrary objects will no longer be allowed to be loaded via this mode unless they are explicitly allowlisted by the user via `torch.serialization.add_safe_globals`. We recommend you start setting `weights_only=True` for any use case where you don't have full control of the loaded file. Please open an issue on GitHub for any issues related to this experimental feature.\n",
      "  model_state_dict = torch.load(model_save_dir + f\"{model_name}_{idx}_{p}.pth\")\n"
     ]
    },
    {
     "name": "stdout",
     "output_type": "stream",
     "text": [
      "Training model on dataset 13 with edges: 15\n"
     ]
    },
    {
     "name": "stderr",
     "output_type": "stream",
     "text": [
      "100%|██████████| 50/50 [00:19<00:00,  2.61it/s]\n",
      "<ipython-input-45-872612561e8b>:50: FutureWarning: You are using `torch.load` with `weights_only=False` (the current default value), which uses the default pickle module implicitly. It is possible to construct malicious pickle data which will execute arbitrary code during unpickling (See https://github.com/pytorch/pytorch/blob/main/SECURITY.md#untrusted-models for more details). In a future release, the default value for `weights_only` will be flipped to `True`. This limits the functions that could be executed during unpickling. Arbitrary objects will no longer be allowed to be loaded via this mode unless they are explicitly allowlisted by the user via `torch.serialization.add_safe_globals`. We recommend you start setting `weights_only=True` for any use case where you don't have full control of the loaded file. Please open an issue on GitHub for any issues related to this experimental feature.\n",
      "  model_state_dict = torch.load(model_save_dir + f\"{model_name}_{idx}_{p}.pth\")\n"
     ]
    }
   ],
   "source": [
    "horizon_values = [35, 70, 105, 140, 175]\n",
    "\n",
    "model_params = {\n",
    "    'input_size': 10,\n",
    "    'rnn_num_layers': 3,\n",
    "    'hidden_size': 64,\n",
    "    'forecast_horizon': 35,\n",
    "    'spatial_size': 64,\n",
    "    'model_kind': 'gru',\n",
    "    'attention' : False\n",
    "}\n",
    "\n",
    "df_dict = {\n",
    "    'train_dl' : train_dl,\n",
    "    'test_dl' : test_dl,\n",
    "    'full_train_dl' : full_train_dl,\n",
    "    'full_test_dl' : full_test_dl\n",
    "}\n",
    "\n",
    "ds_dict = {\n",
    "    'train_dl' : train_ds,\n",
    "    'test_dl' : test_ds,\n",
    "    'full_train_dl' : full_train_ds,\n",
    "    'full_test_dl' : full_test_ds\n",
    "}\n",
    "\n",
    "df_params = {\n",
    "    'sequence_length' : 70,\n",
    "}\n",
    "\n",
    "model_name = \"gcn_edge_density_test\"\n",
    "\n",
    "model_save_dir = f\"./{model_name}_dir/\"\n",
    "result_json_path = f\"{model_save_dir}{model_name}_results.json\"\n",
    "os.makedirs(model_save_dir, exist_ok=True)\n",
    "\n",
    "edge_values = [2, 3, 4, 5, 6, 7, 8, 9, 10, 11, 12, 13, 14, 15]\n",
    "\n",
    "model_dict4 = run_grid_search_graph(\n",
    "    edge_values,\n",
    "        ds_dict,\n",
    "        df_dict,\n",
    "        model_name,\n",
    "        edge_index_dict,\n",
    "        img_tensor_dict,\n",
    "    model_save_dir,\n",
    "    result_json_path,\n",
    "    model_params,\n",
    ")\n"
   ]
  },
  {
   "cell_type": "code",
   "execution_count": 47,
   "id": "248e9a61",
   "metadata": {
    "execution": {
     "iopub.execute_input": "2025-04-11T16:03:03.435846Z",
     "iopub.status.busy": "2025-04-11T16:03:03.435485Z",
     "iopub.status.idle": "2025-04-11T16:07:50.510372Z",
     "shell.execute_reply": "2025-04-11T16:07:50.509632Z"
    },
    "papermill": {
     "duration": 287.252317,
     "end_time": "2025-04-11T16:07:50.511916",
     "exception": false,
     "start_time": "2025-04-11T16:03:03.259599",
     "status": "completed"
    },
    "tags": []
   },
   "outputs": [
    {
     "name": "stdout",
     "output_type": "stream",
     "text": [
      "Training model on dataset 0 with edges: 2\n"
     ]
    },
    {
     "name": "stderr",
     "output_type": "stream",
     "text": [
      "100%|██████████| 50/50 [00:19<00:00,  2.61it/s]\n",
      "<ipython-input-45-872612561e8b>:50: FutureWarning: You are using `torch.load` with `weights_only=False` (the current default value), which uses the default pickle module implicitly. It is possible to construct malicious pickle data which will execute arbitrary code during unpickling (See https://github.com/pytorch/pytorch/blob/main/SECURITY.md#untrusted-models for more details). In a future release, the default value for `weights_only` will be flipped to `True`. This limits the functions that could be executed during unpickling. Arbitrary objects will no longer be allowed to be loaded via this mode unless they are explicitly allowlisted by the user via `torch.serialization.add_safe_globals`. We recommend you start setting `weights_only=True` for any use case where you don't have full control of the loaded file. Please open an issue on GitHub for any issues related to this experimental feature.\n",
      "  model_state_dict = torch.load(model_save_dir + f\"{model_name}_{idx}_{p}.pth\")\n"
     ]
    },
    {
     "name": "stdout",
     "output_type": "stream",
     "text": [
      "Training model on dataset 1 with edges: 3\n"
     ]
    },
    {
     "name": "stderr",
     "output_type": "stream",
     "text": [
      "100%|██████████| 50/50 [00:19<00:00,  2.61it/s]\n",
      "<ipython-input-45-872612561e8b>:50: FutureWarning: You are using `torch.load` with `weights_only=False` (the current default value), which uses the default pickle module implicitly. It is possible to construct malicious pickle data which will execute arbitrary code during unpickling (See https://github.com/pytorch/pytorch/blob/main/SECURITY.md#untrusted-models for more details). In a future release, the default value for `weights_only` will be flipped to `True`. This limits the functions that could be executed during unpickling. Arbitrary objects will no longer be allowed to be loaded via this mode unless they are explicitly allowlisted by the user via `torch.serialization.add_safe_globals`. We recommend you start setting `weights_only=True` for any use case where you don't have full control of the loaded file. Please open an issue on GitHub for any issues related to this experimental feature.\n",
      "  model_state_dict = torch.load(model_save_dir + f\"{model_name}_{idx}_{p}.pth\")\n"
     ]
    },
    {
     "name": "stdout",
     "output_type": "stream",
     "text": [
      "Training model on dataset 2 with edges: 4\n"
     ]
    },
    {
     "name": "stderr",
     "output_type": "stream",
     "text": [
      "100%|██████████| 50/50 [00:19<00:00,  2.60it/s]\n",
      "<ipython-input-45-872612561e8b>:50: FutureWarning: You are using `torch.load` with `weights_only=False` (the current default value), which uses the default pickle module implicitly. It is possible to construct malicious pickle data which will execute arbitrary code during unpickling (See https://github.com/pytorch/pytorch/blob/main/SECURITY.md#untrusted-models for more details). In a future release, the default value for `weights_only` will be flipped to `True`. This limits the functions that could be executed during unpickling. Arbitrary objects will no longer be allowed to be loaded via this mode unless they are explicitly allowlisted by the user via `torch.serialization.add_safe_globals`. We recommend you start setting `weights_only=True` for any use case where you don't have full control of the loaded file. Please open an issue on GitHub for any issues related to this experimental feature.\n",
      "  model_state_dict = torch.load(model_save_dir + f\"{model_name}_{idx}_{p}.pth\")\n"
     ]
    },
    {
     "name": "stdout",
     "output_type": "stream",
     "text": [
      "Training model on dataset 3 with edges: 5\n"
     ]
    },
    {
     "name": "stderr",
     "output_type": "stream",
     "text": [
      "100%|██████████| 50/50 [00:19<00:00,  2.61it/s]\n",
      "<ipython-input-45-872612561e8b>:50: FutureWarning: You are using `torch.load` with `weights_only=False` (the current default value), which uses the default pickle module implicitly. It is possible to construct malicious pickle data which will execute arbitrary code during unpickling (See https://github.com/pytorch/pytorch/blob/main/SECURITY.md#untrusted-models for more details). In a future release, the default value for `weights_only` will be flipped to `True`. This limits the functions that could be executed during unpickling. Arbitrary objects will no longer be allowed to be loaded via this mode unless they are explicitly allowlisted by the user via `torch.serialization.add_safe_globals`. We recommend you start setting `weights_only=True` for any use case where you don't have full control of the loaded file. Please open an issue on GitHub for any issues related to this experimental feature.\n",
      "  model_state_dict = torch.load(model_save_dir + f\"{model_name}_{idx}_{p}.pth\")\n"
     ]
    },
    {
     "name": "stdout",
     "output_type": "stream",
     "text": [
      "Training model on dataset 4 with edges: 6\n"
     ]
    },
    {
     "name": "stderr",
     "output_type": "stream",
     "text": [
      "100%|██████████| 50/50 [00:19<00:00,  2.60it/s]\n",
      "<ipython-input-45-872612561e8b>:50: FutureWarning: You are using `torch.load` with `weights_only=False` (the current default value), which uses the default pickle module implicitly. It is possible to construct malicious pickle data which will execute arbitrary code during unpickling (See https://github.com/pytorch/pytorch/blob/main/SECURITY.md#untrusted-models for more details). In a future release, the default value for `weights_only` will be flipped to `True`. This limits the functions that could be executed during unpickling. Arbitrary objects will no longer be allowed to be loaded via this mode unless they are explicitly allowlisted by the user via `torch.serialization.add_safe_globals`. We recommend you start setting `weights_only=True` for any use case where you don't have full control of the loaded file. Please open an issue on GitHub for any issues related to this experimental feature.\n",
      "  model_state_dict = torch.load(model_save_dir + f\"{model_name}_{idx}_{p}.pth\")\n"
     ]
    },
    {
     "name": "stdout",
     "output_type": "stream",
     "text": [
      "Training model on dataset 5 with edges: 7\n"
     ]
    },
    {
     "name": "stderr",
     "output_type": "stream",
     "text": [
      "100%|██████████| 50/50 [00:19<00:00,  2.62it/s]\n",
      "<ipython-input-45-872612561e8b>:50: FutureWarning: You are using `torch.load` with `weights_only=False` (the current default value), which uses the default pickle module implicitly. It is possible to construct malicious pickle data which will execute arbitrary code during unpickling (See https://github.com/pytorch/pytorch/blob/main/SECURITY.md#untrusted-models for more details). In a future release, the default value for `weights_only` will be flipped to `True`. This limits the functions that could be executed during unpickling. Arbitrary objects will no longer be allowed to be loaded via this mode unless they are explicitly allowlisted by the user via `torch.serialization.add_safe_globals`. We recommend you start setting `weights_only=True` for any use case where you don't have full control of the loaded file. Please open an issue on GitHub for any issues related to this experimental feature.\n",
      "  model_state_dict = torch.load(model_save_dir + f\"{model_name}_{idx}_{p}.pth\")\n"
     ]
    },
    {
     "name": "stdout",
     "output_type": "stream",
     "text": [
      "Training model on dataset 6 with edges: 8\n"
     ]
    },
    {
     "name": "stderr",
     "output_type": "stream",
     "text": [
      "100%|██████████| 50/50 [00:19<00:00,  2.61it/s]\n",
      "<ipython-input-45-872612561e8b>:50: FutureWarning: You are using `torch.load` with `weights_only=False` (the current default value), which uses the default pickle module implicitly. It is possible to construct malicious pickle data which will execute arbitrary code during unpickling (See https://github.com/pytorch/pytorch/blob/main/SECURITY.md#untrusted-models for more details). In a future release, the default value for `weights_only` will be flipped to `True`. This limits the functions that could be executed during unpickling. Arbitrary objects will no longer be allowed to be loaded via this mode unless they are explicitly allowlisted by the user via `torch.serialization.add_safe_globals`. We recommend you start setting `weights_only=True` for any use case where you don't have full control of the loaded file. Please open an issue on GitHub for any issues related to this experimental feature.\n",
      "  model_state_dict = torch.load(model_save_dir + f\"{model_name}_{idx}_{p}.pth\")\n"
     ]
    },
    {
     "name": "stdout",
     "output_type": "stream",
     "text": [
      "Training model on dataset 7 with edges: 9\n"
     ]
    },
    {
     "name": "stderr",
     "output_type": "stream",
     "text": [
      "100%|██████████| 50/50 [00:19<00:00,  2.60it/s]\n",
      "<ipython-input-45-872612561e8b>:50: FutureWarning: You are using `torch.load` with `weights_only=False` (the current default value), which uses the default pickle module implicitly. It is possible to construct malicious pickle data which will execute arbitrary code during unpickling (See https://github.com/pytorch/pytorch/blob/main/SECURITY.md#untrusted-models for more details). In a future release, the default value for `weights_only` will be flipped to `True`. This limits the functions that could be executed during unpickling. Arbitrary objects will no longer be allowed to be loaded via this mode unless they are explicitly allowlisted by the user via `torch.serialization.add_safe_globals`. We recommend you start setting `weights_only=True` for any use case where you don't have full control of the loaded file. Please open an issue on GitHub for any issues related to this experimental feature.\n",
      "  model_state_dict = torch.load(model_save_dir + f\"{model_name}_{idx}_{p}.pth\")\n"
     ]
    },
    {
     "name": "stdout",
     "output_type": "stream",
     "text": [
      "Training model on dataset 8 with edges: 10\n"
     ]
    },
    {
     "name": "stderr",
     "output_type": "stream",
     "text": [
      "100%|██████████| 50/50 [00:19<00:00,  2.61it/s]\n",
      "<ipython-input-45-872612561e8b>:50: FutureWarning: You are using `torch.load` with `weights_only=False` (the current default value), which uses the default pickle module implicitly. It is possible to construct malicious pickle data which will execute arbitrary code during unpickling (See https://github.com/pytorch/pytorch/blob/main/SECURITY.md#untrusted-models for more details). In a future release, the default value for `weights_only` will be flipped to `True`. This limits the functions that could be executed during unpickling. Arbitrary objects will no longer be allowed to be loaded via this mode unless they are explicitly allowlisted by the user via `torch.serialization.add_safe_globals`. We recommend you start setting `weights_only=True` for any use case where you don't have full control of the loaded file. Please open an issue on GitHub for any issues related to this experimental feature.\n",
      "  model_state_dict = torch.load(model_save_dir + f\"{model_name}_{idx}_{p}.pth\")\n"
     ]
    },
    {
     "name": "stdout",
     "output_type": "stream",
     "text": [
      "Training model on dataset 9 with edges: 11\n"
     ]
    },
    {
     "name": "stderr",
     "output_type": "stream",
     "text": [
      "100%|██████████| 50/50 [00:19<00:00,  2.61it/s]\n",
      "<ipython-input-45-872612561e8b>:50: FutureWarning: You are using `torch.load` with `weights_only=False` (the current default value), which uses the default pickle module implicitly. It is possible to construct malicious pickle data which will execute arbitrary code during unpickling (See https://github.com/pytorch/pytorch/blob/main/SECURITY.md#untrusted-models for more details). In a future release, the default value for `weights_only` will be flipped to `True`. This limits the functions that could be executed during unpickling. Arbitrary objects will no longer be allowed to be loaded via this mode unless they are explicitly allowlisted by the user via `torch.serialization.add_safe_globals`. We recommend you start setting `weights_only=True` for any use case where you don't have full control of the loaded file. Please open an issue on GitHub for any issues related to this experimental feature.\n",
      "  model_state_dict = torch.load(model_save_dir + f\"{model_name}_{idx}_{p}.pth\")\n"
     ]
    },
    {
     "name": "stdout",
     "output_type": "stream",
     "text": [
      "Training model on dataset 10 with edges: 12\n"
     ]
    },
    {
     "name": "stderr",
     "output_type": "stream",
     "text": [
      "100%|██████████| 50/50 [00:19<00:00,  2.61it/s]\n",
      "<ipython-input-45-872612561e8b>:50: FutureWarning: You are using `torch.load` with `weights_only=False` (the current default value), which uses the default pickle module implicitly. It is possible to construct malicious pickle data which will execute arbitrary code during unpickling (See https://github.com/pytorch/pytorch/blob/main/SECURITY.md#untrusted-models for more details). In a future release, the default value for `weights_only` will be flipped to `True`. This limits the functions that could be executed during unpickling. Arbitrary objects will no longer be allowed to be loaded via this mode unless they are explicitly allowlisted by the user via `torch.serialization.add_safe_globals`. We recommend you start setting `weights_only=True` for any use case where you don't have full control of the loaded file. Please open an issue on GitHub for any issues related to this experimental feature.\n",
      "  model_state_dict = torch.load(model_save_dir + f\"{model_name}_{idx}_{p}.pth\")\n"
     ]
    },
    {
     "name": "stdout",
     "output_type": "stream",
     "text": [
      "Training model on dataset 11 with edges: 13\n"
     ]
    },
    {
     "name": "stderr",
     "output_type": "stream",
     "text": [
      "100%|██████████| 50/50 [00:19<00:00,  2.61it/s]\n",
      "<ipython-input-45-872612561e8b>:50: FutureWarning: You are using `torch.load` with `weights_only=False` (the current default value), which uses the default pickle module implicitly. It is possible to construct malicious pickle data which will execute arbitrary code during unpickling (See https://github.com/pytorch/pytorch/blob/main/SECURITY.md#untrusted-models for more details). In a future release, the default value for `weights_only` will be flipped to `True`. This limits the functions that could be executed during unpickling. Arbitrary objects will no longer be allowed to be loaded via this mode unless they are explicitly allowlisted by the user via `torch.serialization.add_safe_globals`. We recommend you start setting `weights_only=True` for any use case where you don't have full control of the loaded file. Please open an issue on GitHub for any issues related to this experimental feature.\n",
      "  model_state_dict = torch.load(model_save_dir + f\"{model_name}_{idx}_{p}.pth\")\n"
     ]
    },
    {
     "name": "stdout",
     "output_type": "stream",
     "text": [
      "Training model on dataset 12 with edges: 14\n"
     ]
    },
    {
     "name": "stderr",
     "output_type": "stream",
     "text": [
      "100%|██████████| 50/50 [00:19<00:00,  2.61it/s]\n",
      "<ipython-input-45-872612561e8b>:50: FutureWarning: You are using `torch.load` with `weights_only=False` (the current default value), which uses the default pickle module implicitly. It is possible to construct malicious pickle data which will execute arbitrary code during unpickling (See https://github.com/pytorch/pytorch/blob/main/SECURITY.md#untrusted-models for more details). In a future release, the default value for `weights_only` will be flipped to `True`. This limits the functions that could be executed during unpickling. Arbitrary objects will no longer be allowed to be loaded via this mode unless they are explicitly allowlisted by the user via `torch.serialization.add_safe_globals`. We recommend you start setting `weights_only=True` for any use case where you don't have full control of the loaded file. Please open an issue on GitHub for any issues related to this experimental feature.\n",
      "  model_state_dict = torch.load(model_save_dir + f\"{model_name}_{idx}_{p}.pth\")\n"
     ]
    },
    {
     "name": "stdout",
     "output_type": "stream",
     "text": [
      "Training model on dataset 13 with edges: 15\n"
     ]
    },
    {
     "name": "stderr",
     "output_type": "stream",
     "text": [
      "100%|██████████| 50/50 [00:19<00:00,  2.60it/s]\n",
      "<ipython-input-45-872612561e8b>:50: FutureWarning: You are using `torch.load` with `weights_only=False` (the current default value), which uses the default pickle module implicitly. It is possible to construct malicious pickle data which will execute arbitrary code during unpickling (See https://github.com/pytorch/pytorch/blob/main/SECURITY.md#untrusted-models for more details). In a future release, the default value for `weights_only` will be flipped to `True`. This limits the functions that could be executed during unpickling. Arbitrary objects will no longer be allowed to be loaded via this mode unless they are explicitly allowlisted by the user via `torch.serialization.add_safe_globals`. We recommend you start setting `weights_only=True` for any use case where you don't have full control of the loaded file. Please open an issue on GitHub for any issues related to this experimental feature.\n",
      "  model_state_dict = torch.load(model_save_dir + f\"{model_name}_{idx}_{p}.pth\")\n"
     ]
    }
   ],
   "source": [
    "horizon_values = [35, 70, 105, 140, 175]\n",
    "\n",
    "model_params = {\n",
    "    'input_size': 10,\n",
    "    'rnn_num_layers': 3,\n",
    "    'hidden_size': 64,\n",
    "    'forecast_horizon': 35,\n",
    "    'spatial_size': 64,\n",
    "    'model_kind': 'gru',\n",
    "    'attention' : True\n",
    "}\n",
    "\n",
    "df_dict = {\n",
    "    'train_dl' : train_dl,\n",
    "    'test_dl' : test_dl,\n",
    "    'full_train_dl' : full_train_dl,\n",
    "    'full_test_dl' : full_test_dl\n",
    "}\n",
    "\n",
    "ds_dict = {\n",
    "    'train_dl' : train_ds,\n",
    "    'test_dl' : test_ds,\n",
    "    'full_train_dl' : full_train_ds,\n",
    "    'full_test_dl' : full_test_ds\n",
    "}\n",
    "\n",
    "df_params = {\n",
    "    'sequence_length' : 70,\n",
    "}\n",
    "\n",
    "model_name = \"gat_edge_density_test\"\n",
    "\n",
    "model_save_dir = f\"./{model_name}_dir/\"\n",
    "result_json_path = f\"{model_save_dir}{model_name}_results.json\"\n",
    "os.makedirs(model_save_dir, exist_ok=True)\n",
    "\n",
    "edge_values = [2, 3, 4, 5, 6, 7, 8, 9, 10, 11, 12, 13, 14, 15]\n",
    "\n",
    "model_dict4 = run_grid_search_graph(\n",
    "    edge_values,\n",
    "        ds_dict,\n",
    "        df_dict,\n",
    "        model_name,\n",
    "        edge_index_dict,\n",
    "        img_tensor_dict,\n",
    "    model_save_dir,\n",
    "    result_json_path,\n",
    "    model_params,\n",
    ")\n"
   ]
  },
  {
   "cell_type": "code",
   "execution_count": null,
   "id": "ae7c36e4",
   "metadata": {
    "papermill": {
     "duration": 0.206266,
     "end_time": "2025-04-11T16:07:50.932214",
     "exception": false,
     "start_time": "2025-04-11T16:07:50.725948",
     "status": "completed"
    },
    "tags": []
   },
   "outputs": [],
   "source": []
  },
  {
   "cell_type": "code",
   "execution_count": null,
   "id": "5e2970cb",
   "metadata": {
    "papermill": {
     "duration": 0.247429,
     "end_time": "2025-04-11T16:07:51.385477",
     "exception": false,
     "start_time": "2025-04-11T16:07:51.138048",
     "status": "completed"
    },
    "tags": []
   },
   "outputs": [],
   "source": []
  },
  {
   "cell_type": "code",
   "execution_count": null,
   "id": "deb07ebe",
   "metadata": {
    "papermill": {
     "duration": 0.206056,
     "end_time": "2025-04-11T16:07:51.797216",
     "exception": false,
     "start_time": "2025-04-11T16:07:51.591160",
     "status": "completed"
    },
    "tags": []
   },
   "outputs": [],
   "source": []
  },
  {
   "cell_type": "code",
   "execution_count": null,
   "id": "e7053800",
   "metadata": {
    "papermill": {
     "duration": 0.210947,
     "end_time": "2025-04-11T16:07:52.213284",
     "exception": false,
     "start_time": "2025-04-11T16:07:52.002337",
     "status": "completed"
    },
    "tags": []
   },
   "outputs": [],
   "source": []
  }
 ],
 "metadata": {
  "kaggle": {
   "accelerator": "gpu",
   "dataSources": [
    {
     "databundleVersionId": 11553091,
     "datasetId": 6950669,
     "sourceId": 11154655,
     "sourceType": "datasetVersion"
    },
    {
     "sourceId": 226700844,
     "sourceType": "kernelVersion"
    },
    {
     "sourceId": 228118212,
     "sourceType": "kernelVersion"
    },
    {
     "sourceId": 232490461,
     "sourceType": "kernelVersion"
    }
   ],
   "dockerImageVersionId": 30918,
   "isGpuEnabled": true,
   "isInternetEnabled": true,
   "language": "python",
   "sourceType": "notebook"
  },
  "kernelspec": {
   "display_name": "Python 3",
   "language": "python",
   "name": "python3"
  },
  "language_info": {
   "codemirror_mode": {
    "name": "ipython",
    "version": 3
   },
   "file_extension": ".py",
   "mimetype": "text/x-python",
   "name": "python",
   "nbconvert_exporter": "python",
   "pygments_lexer": "ipython3",
   "version": "3.10.12"
  },
  "papermill": {
   "default_parameters": {},
   "duration": 2130.780518,
   "end_time": "2025-04-11T16:07:54.984067",
   "environment_variables": {},
   "exception": null,
   "input_path": "__notebook__.ipynb",
   "output_path": "__notebook__.ipynb",
   "parameters": {},
   "start_time": "2025-04-11T15:32:24.203549",
   "version": "2.6.0"
  }
 },
 "nbformat": 4,
 "nbformat_minor": 5
}
