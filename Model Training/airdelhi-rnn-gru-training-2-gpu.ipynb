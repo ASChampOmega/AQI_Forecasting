{
 "cells": [
  {
   "cell_type": "code",
   "execution_count": 1,
   "id": "4b964c9c",
   "metadata": {
    "execution": {
     "iopub.execute_input": "2025-04-11T16:30:35.725201Z",
     "iopub.status.busy": "2025-04-11T16:30:35.724827Z",
     "iopub.status.idle": "2025-04-11T16:30:46.265107Z",
     "shell.execute_reply": "2025-04-11T16:30:46.264316Z"
    },
    "papermill": {
     "duration": 10.551412,
     "end_time": "2025-04-11T16:30:46.266861",
     "exception": false,
     "start_time": "2025-04-11T16:30:35.715449",
     "status": "completed"
    },
    "tags": []
   },
   "outputs": [],
   "source": [
    "import numpy as np # linear algebrae\n",
    "import pandas as pd # data processing, CSV file I/O (e.g. pd.read_csv)\n",
    "from xgboost import XGBRegressor\n",
    "from lightgbm import LGBMRegressor\n",
    "from catboost import CatBoostRegressor\n",
    "from sklearn.ensemble import RandomForestRegressor\n",
    "from sklearn.linear_model import Ridge, LinearRegression\n",
    "\n",
    "import os\n",
    "\n",
    "# from polire import IDW\n",
    "\n",
    "from sklearn.metrics import mean_squared_error, r2_score, mean_absolute_error\n",
    "from sklearn.preprocessing import MinMaxScaler\n",
    "\n",
    "from datetime import date, timedelta\n",
    "import datetime\n",
    "\n",
    "import json\n",
    "import pickle as pkl\n",
    "\n",
    "import torch\n",
    "import torch.nn as nn\n",
    "import torch.nn.functional as F\n",
    "from torch.utils.data import Dataset, DataLoader\n",
    "from torch.optim import SGD, Adam\n",
    "from torch.optim.lr_scheduler import ReduceLROnPlateau\n",
    "from torch.nn import MSELoss\n",
    "\n",
    "from tqdm import tqdm"
   ]
  },
  {
   "cell_type": "code",
   "execution_count": 2,
   "id": "e8e6ab1e",
   "metadata": {
    "execution": {
     "iopub.execute_input": "2025-04-11T16:30:46.282872Z",
     "iopub.status.busy": "2025-04-11T16:30:46.282301Z",
     "iopub.status.idle": "2025-04-11T16:30:46.340282Z",
     "shell.execute_reply": "2025-04-11T16:30:46.339397Z"
    },
    "papermill": {
     "duration": 0.067127,
     "end_time": "2025-04-11T16:30:46.341803",
     "exception": false,
     "start_time": "2025-04-11T16:30:46.274676",
     "status": "completed"
    },
    "tags": []
   },
   "outputs": [],
   "source": [
    "class CFG:\n",
    "    evaluation_time_gap = 1\n",
    "    convert_numpy = False\n",
    "    target_list = ['pm2_5', 'pm10']\n",
    "    features = ['timeOfDay', 'lat', 'lon', 'distance', 'bus_count', 'day_of_week', 'pm2_5', 'pm10']\n",
    "\n",
    "    batch_size = 128\n",
    "    num_epochs = 50\n",
    "    day_len = 35\n",
    "\n",
    "    # model_size = 'vl'\n",
    "    model_dropout = 0.2\n",
    "\n",
    "    hidden_dim = 64\n",
    "    num_layers = 9\n",
    "    \n",
    "    lr = 3e-3\n",
    "    patience=2\n",
    "    factor=0.9\n",
    "\n",
    "    model_kind=\"gru\"\n",
    "    bidirectional=False\n",
    "    \n",
    "    pm2_5_thresholds = [0, 30, 60, 90, 120, 250, 2000]\n",
    "    pm10_thresholds = [0, 50, 100, 250, 350, 430, 2000]\n",
    "    aqi_category = [\"Good\", \"Satisfactory\", \"Moderate\", \"Poor\", \"Very Poor\", \"Severe\"]\n",
    "    \n",
    "device = torch.device(\"cuda\" if torch.cuda.is_available() else \"cpu\")"
   ]
  },
  {
   "cell_type": "markdown",
   "id": "4b5cf352",
   "metadata": {
    "papermill": {
     "duration": 0.006771,
     "end_time": "2025-04-11T16:30:46.356167",
     "exception": false,
     "start_time": "2025-04-11T16:30:46.349396",
     "status": "completed"
    },
    "tags": []
   },
   "source": [
    "## Dataset"
   ]
  },
  {
   "cell_type": "code",
   "execution_count": 3,
   "id": "83d6a10a",
   "metadata": {
    "execution": {
     "iopub.execute_input": "2025-04-11T16:30:46.371702Z",
     "iopub.status.busy": "2025-04-11T16:30:46.371330Z",
     "iopub.status.idle": "2025-04-11T16:30:46.381936Z",
     "shell.execute_reply": "2025-04-11T16:30:46.380976Z"
    },
    "papermill": {
     "duration": 0.019926,
     "end_time": "2025-04-11T16:30:46.383371",
     "exception": false,
     "start_time": "2025-04-11T16:30:46.363445",
     "status": "completed"
    },
    "tags": []
   },
   "outputs": [],
   "source": [
    "class SequenceDataset(Dataset):\n",
    "\n",
    "    def __init__(self, df, features = None, sequence_length=70, forecast_horizon=35):\n",
    "        \n",
    "        features = CFG.features if features is None else features\n",
    "        self.features = features\n",
    "        \n",
    "        self.sequence_length = sequence_length\n",
    "        self.forecast_horizon = forecast_horizon\n",
    "\n",
    "        self.split_df(df)\n",
    "\n",
    "    def split_df(self, df):\n",
    "        df = df.sort_values(['lat', 'lon', 'date_value', 'timeOfDay'])\n",
    "        lat_lon_pairs = df.groupby(['lat', 'lon'])['pm2_5'].count().reset_index()[['lat', 'lon']].values\n",
    "\n",
    "        self.sequences = []\n",
    "\n",
    "        for i in lat_lon_pairs:\n",
    "            lat_lon_values = df[(df['lat'] == i[0]) & (df['lon'] == i[1])]\n",
    "            self.sequences.append(lat_lon_values)\n",
    "\n",
    "        self.X_seq = []\n",
    "        self.y_seq = []\n",
    "        self.masked_seq = []\n",
    "\n",
    "        self.total_len = 0\n",
    "        \n",
    "        for s in self.sequences:\n",
    "            s = s.sort_values(['date_value', 'timeOfDay'])\n",
    "            self.X_seq.append(np.array(s[self.features].values, dtype=np.float32))\n",
    "            self.y_seq.append(np.array(s[CFG.target_list].values, dtype=np.float32))\n",
    "            self.masked_seq.append(1 - np.array(s['missing'].values, dtype=np.int8))\n",
    "            # self.masked_seq.append(np.array(s['missing'].values, dtype=np.int8))\n",
    "\n",
    "            curr_len = len(self.y_seq[-1])\n",
    "            curr_len -= self.sequence_length  + self.forecast_horizon - CFG.day_len\n",
    "            self.total_len += curr_len // CFG.day_len\n",
    "            self.per_len = curr_len // CFG.day_len\n",
    "    \n",
    "    def __len__(self):\n",
    "        return self.total_len\n",
    "\n",
    "    def get_index(self, i):\n",
    "        lat_lon = i // self.per_len\n",
    "        within_idx = i % self.per_len\n",
    "        return lat_lon, within_idx\n",
    "    \n",
    "    def __getitem__(self, i):\n",
    "        lat_lon, within_idx = self.get_index(i)\n",
    "\n",
    "        within_idx *= CFG.day_len\n",
    "        start = within_idx\n",
    "        X_end = within_idx + self.sequence_length\n",
    "        y_end = X_end + self.forecast_horizon\n",
    "        \n",
    "        \n",
    "        X = torch.tensor(self.X_seq[lat_lon][start:X_end]).to(device)\n",
    "        y = torch.tensor(self.y_seq[lat_lon][X_end:y_end]).to(device)\n",
    "        masks = torch.tensor(self.masked_seq[lat_lon][X_end:y_end] # , dtype=torch.int32\n",
    "                            ).to(device)\n",
    "        masks = torch.reshape(masks, (-1, 1))\n",
    "        return X, y, masks"
   ]
  },
  {
   "cell_type": "code",
   "execution_count": 4,
   "id": "934ef189",
   "metadata": {
    "execution": {
     "iopub.execute_input": "2025-04-11T16:30:46.398993Z",
     "iopub.status.busy": "2025-04-11T16:30:46.398736Z",
     "iopub.status.idle": "2025-04-11T16:30:47.891374Z",
     "shell.execute_reply": "2025-04-11T16:30:47.890460Z"
    },
    "papermill": {
     "duration": 1.50228,
     "end_time": "2025-04-11T16:30:47.893082",
     "exception": false,
     "start_time": "2025-04-11T16:30:46.390802",
     "status": "completed"
    },
    "tags": []
   },
   "outputs": [
    {
     "data": {
      "text/plain": [
       "(Timestamp('2020-11-01 00:00:00'), Timestamp('2021-01-07 00:00:00'))"
      ]
     },
     "execution_count": 4,
     "metadata": {},
     "output_type": "execute_result"
    }
   ],
   "source": [
    "df = pd.read_csv('/kaggle/input/airdelhi-baselines-deepengineering/dense_df.csv')\n",
    "\n",
    "df = df.drop(columns = 'Unnamed: 0')\n",
    "df['date_value'] = pd.to_datetime(df['date_value'])\n",
    "\n",
    "dates = pd.to_datetime([df['date_value'].min(), df['date_value'].max()])\n",
    "\n",
    "max_train_date = dates.min() + (dates.max() - dates.min()) * 0.75\n",
    "max_train_date = max_train_date.floor(\"D\")\n",
    "min_train_date = df['date_value'].min()\n",
    "max_date = df['date_value'].max().floor(\"D\")\n",
    "\n",
    "metrics_dict = {\n",
    "    'MSE': mean_squared_error, \n",
    "    'r2 score': r2_score, \n",
    "    'MAE': mean_absolute_error,\n",
    "}\n",
    "\n",
    "target_list = CFG.target_list\n",
    "\n",
    "features = ['date_value', 'timeOfDay', 'lat', 'lon', 'day_of_week', 'distance', 'bus_count']\n",
    "\n",
    "CFG.base_features = ['timeOfDay', 'lat', 'lon', 'day_of_week', 'distance', 'bus_count']\n",
    "CFG.features = CFG.base_features\n",
    "\n",
    "min_train_date, max_train_date"
   ]
  },
  {
   "cell_type": "code",
   "execution_count": 5,
   "id": "6c23e26a",
   "metadata": {
    "execution": {
     "iopub.execute_input": "2025-04-11T16:30:47.910137Z",
     "iopub.status.busy": "2025-04-11T16:30:47.909813Z",
     "iopub.status.idle": "2025-04-11T16:30:51.728692Z",
     "shell.execute_reply": "2025-04-11T16:30:51.727638Z"
    },
    "papermill": {
     "duration": 3.828702,
     "end_time": "2025-04-11T16:30:51.730321",
     "exception": false,
     "start_time": "2025-04-11T16:30:47.901619",
     "status": "completed"
    },
    "tags": []
   },
   "outputs": [
    {
     "name": "stderr",
     "output_type": "stream",
     "text": [
      "<ipython-input-5-a10b91631712>:35: DeprecationWarning: DataFrameGroupBy.apply operated on the grouping columns. This behavior is deprecated, and in a future version of pandas the grouping columns will be excluded from the operation. Either pass `include_groups=False` to exclude the groupings or explicitly select the grouping columns after groupby to silence this warning.\n",
      "  df = grouped.apply(fill_na_with_previous_mean)\n"
     ]
    }
   ],
   "source": [
    "def add_lag_features(df, lags = [1]):\n",
    "\n",
    "    df = df.copy()\n",
    "    \n",
    "    df.sort_values(by=[\"lat\", \"lon\", \"timeOfDay\", \"date_value\"], inplace=True)\n",
    "\n",
    "    added_features = []\n",
    "    for l in lags:\n",
    "        df[f'pm2_5_lag_{l}'] = df.groupby(\n",
    "            ['timeOfDay', 'lat', 'lon'])['pm2_5'].shift(l)\n",
    "        df[f'pm10_lag_{l}'] = df.groupby(\n",
    "            ['timeOfDay', 'lat', 'lon'])['pm10'].shift(l)\n",
    "\n",
    "        added_features.append(f'pm2_5_lag_{l}')\n",
    "        added_features.append(f'pm10_lag_{l}')\n",
    "\n",
    "        df.sort_values(by=[\"lat\", \"lon\", \"date_value\"], inplace=True)\n",
    "\n",
    "    # Group by latitude and longitude\n",
    "    grouped = df.groupby([\"lat\", \"lon\"])\n",
    "\n",
    "    # Function to fill NaN values based on previous mean\n",
    "    def fill_na_with_previous_mean(group):\n",
    "        for col in group.columns:\n",
    "            if col not in [\"date_value\", \"lat\", \"lon\"]:\n",
    "                group[col] = group[col].astype(float)  # Ensure numeric columns\n",
    "                group[col] = group[col].fillna(group[col].expanding().mean().shift())  # Previous days' mean\n",
    "                \n",
    "                # If still NaN (first row), replace with overall mean\n",
    "                overall_mean = df[col].mean(skipna=True)\n",
    "                group[col] = group[col].fillna(overall_mean)\n",
    "        return group\n",
    "\n",
    "    # Apply the function to each group\n",
    "    df = grouped.apply(fill_na_with_previous_mean)\n",
    "    df.reset_index(drop=True, inplace=True)\n",
    "    df = df.sort_values(by = ['date_value', 'timeOfDay', 'lat', 'lon'])\n",
    "    df.reset_index(drop=True, inplace=True)\n",
    "    CFG.features += added_features\n",
    "    return df\n",
    "    \n",
    "df = add_lag_features(df, lags = [7])"
   ]
  },
  {
   "cell_type": "code",
   "execution_count": 6,
   "id": "5c1bfefc",
   "metadata": {
    "execution": {
     "iopub.execute_input": "2025-04-11T16:30:51.747277Z",
     "iopub.status.busy": "2025-04-11T16:30:51.746992Z",
     "iopub.status.idle": "2025-04-11T16:30:51.834146Z",
     "shell.execute_reply": "2025-04-11T16:30:51.833360Z"
    },
    "papermill": {
     "duration": 0.096657,
     "end_time": "2025-04-11T16:30:51.835806",
     "exception": false,
     "start_time": "2025-04-11T16:30:51.739149",
     "status": "completed"
    },
    "tags": []
   },
   "outputs": [],
   "source": [
    "df = df.sort_values(by=['lat', 'lon', 'timeOfDay', 'date_value'])"
   ]
  },
  {
   "cell_type": "code",
   "execution_count": 7,
   "id": "35d9ea9e",
   "metadata": {
    "execution": {
     "iopub.execute_input": "2025-04-11T16:30:51.851377Z",
     "iopub.status.busy": "2025-04-11T16:30:51.851072Z",
     "iopub.status.idle": "2025-04-11T16:30:51.854336Z",
     "shell.execute_reply": "2025-04-11T16:30:51.853622Z"
    },
    "papermill": {
     "duration": 0.012081,
     "end_time": "2025-04-11T16:30:51.855642",
     "exception": false,
     "start_time": "2025-04-11T16:30:51.843561",
     "status": "completed"
    },
    "tags": []
   },
   "outputs": [],
   "source": [
    "# df['missing'].mean()"
   ]
  },
  {
   "cell_type": "code",
   "execution_count": 8,
   "id": "613c43aa",
   "metadata": {
    "execution": {
     "iopub.execute_input": "2025-04-11T16:30:51.870913Z",
     "iopub.status.busy": "2025-04-11T16:30:51.870669Z",
     "iopub.status.idle": "2025-04-11T16:30:51.873567Z",
     "shell.execute_reply": "2025-04-11T16:30:51.872868Z"
    },
    "papermill": {
     "duration": 0.011864,
     "end_time": "2025-04-11T16:30:51.874902",
     "exception": false,
     "start_time": "2025-04-11T16:30:51.863038",
     "status": "completed"
    },
    "tags": []
   },
   "outputs": [],
   "source": [
    "# df[df['missing'] == 0].tail(200).head(30)\n",
    "# df.tail(180).head(30)"
   ]
  },
  {
   "cell_type": "code",
   "execution_count": 9,
   "id": "a8776a03",
   "metadata": {
    "execution": {
     "iopub.execute_input": "2025-04-11T16:30:51.890387Z",
     "iopub.status.busy": "2025-04-11T16:30:51.890108Z",
     "iopub.status.idle": "2025-04-11T16:30:52.017952Z",
     "shell.execute_reply": "2025-04-11T16:30:52.017021Z"
    },
    "papermill": {
     "duration": 0.137507,
     "end_time": "2025-04-11T16:30:52.019875",
     "exception": false,
     "start_time": "2025-04-11T16:30:51.882368",
     "status": "completed"
    },
    "tags": []
   },
   "outputs": [],
   "source": [
    "class CustomScaler:\n",
    "\n",
    "    def __init__(self, df):\n",
    "        self.pm2_5_max = float(df['pm2_5'].max())\n",
    "        self.pm2_5_min = float(df['pm2_5'].min())\n",
    "        \n",
    "        self.pm10_max = float(df['pm10'].max())\n",
    "        self.pm10_min = float(df['pm10'].min())\n",
    "\n",
    "    def transform(self, df):\n",
    "        df = df.copy()\n",
    "        df['pm2_5'] = (df['pm2_5'] - self.pm2_5_min) / (self.pm2_5_max - self.pm2_5_min)\n",
    "        df['pm10'] = (df['pm10'] - self.pm10_min) / (self.pm10_max - self.pm10_min)\n",
    "        return df\n",
    "\n",
    "    def inverse_transform(self, X):\n",
    "        X[:, 0] = X[:, 0] * (self.pm2_5_max - self.pm2_5_min) + self.pm2_5_min\n",
    "        X[:, 1] = X[:, 1] * (self.pm10_max - self.pm10_min) + self.pm10_min\n",
    "        return X\n",
    "\n",
    "target_scaler = CustomScaler(df)\n",
    "df = target_scaler.transform(df)\n",
    "\n",
    "CFG.features = ['timeOfDay', 'lat', 'lon', 'distance', 'bus_count', \n",
    "                'day_of_week', 'pm2_5', 'pm10', 'pm2_5_lag_7', 'pm10_lag_7']\n",
    "\n",
    "df['day_of_week'] = df['date_value'].dt.dayofweek\n",
    "\n",
    "scaler = MinMaxScaler()\n",
    "df[CFG.features] = scaler.fit_transform(df[CFG.features])"
   ]
  },
  {
   "cell_type": "code",
   "execution_count": 10,
   "id": "45e196e2",
   "metadata": {
    "execution": {
     "iopub.execute_input": "2025-04-11T16:30:52.036404Z",
     "iopub.status.busy": "2025-04-11T16:30:52.036123Z",
     "iopub.status.idle": "2025-04-11T16:30:53.067324Z",
     "shell.execute_reply": "2025-04-11T16:30:53.066513Z"
    },
    "papermill": {
     "duration": 1.040594,
     "end_time": "2025-04-11T16:30:53.068969",
     "exception": false,
     "start_time": "2025-04-11T16:30:52.028375",
     "status": "completed"
    },
    "tags": []
   },
   "outputs": [],
   "source": [
    "train_ds = SequenceDataset(df[df['date_value'] <= max_train_date])\n",
    "test_ds = SequenceDataset(df[df['date_value'] > max_train_date])\n",
    "\n",
    "train_dl = DataLoader(train_ds, batch_size = CFG.batch_size, shuffle=True)\n",
    "test_dl = DataLoader(test_ds, batch_size = CFG.batch_size, shuffle=True)"
   ]
  },
  {
   "cell_type": "code",
   "execution_count": 11,
   "id": "c1269ca3",
   "metadata": {
    "execution": {
     "iopub.execute_input": "2025-04-11T16:30:53.085970Z",
     "iopub.status.busy": "2025-04-11T16:30:53.085680Z",
     "iopub.status.idle": "2025-04-11T16:30:53.323255Z",
     "shell.execute_reply": "2025-04-11T16:30:53.322333Z"
    },
    "papermill": {
     "duration": 0.247096,
     "end_time": "2025-04-11T16:30:53.324784",
     "exception": false,
     "start_time": "2025-04-11T16:30:53.077688",
     "status": "completed"
    },
    "tags": []
   },
   "outputs": [
    {
     "data": {
      "text/plain": [
       "(torch.Size([70, 10]), torch.Size([35, 2]), torch.Size([35, 1]))"
      ]
     },
     "execution_count": 11,
     "metadata": {},
     "output_type": "execute_result"
    }
   ],
   "source": [
    "xt, yt, mt = train_ds[0]\n",
    "xt.shape, yt.shape, mt.shape"
   ]
  },
  {
   "cell_type": "markdown",
   "id": "244f6165",
   "metadata": {
    "papermill": {
     "duration": 0.006847,
     "end_time": "2025-04-11T16:30:53.339021",
     "exception": false,
     "start_time": "2025-04-11T16:30:53.332174",
     "status": "completed"
    },
    "tags": []
   },
   "source": [
    "## RNN"
   ]
  },
  {
   "cell_type": "code",
   "execution_count": 12,
   "id": "6504d6f6",
   "metadata": {
    "execution": {
     "iopub.execute_input": "2025-04-11T16:30:53.353630Z",
     "iopub.status.busy": "2025-04-11T16:30:53.353355Z",
     "iopub.status.idle": "2025-04-11T16:30:53.363678Z",
     "shell.execute_reply": "2025-04-11T16:30:53.362936Z"
    },
    "papermill": {
     "duration": 0.019435,
     "end_time": "2025-04-11T16:30:53.365141",
     "exception": false,
     "start_time": "2025-04-11T16:30:53.345706",
     "status": "completed"
    },
    "tags": []
   },
   "outputs": [],
   "source": [
    "class DirectMultiStepPredictor(nn.Module):\n",
    "    def __init__(self, input_size, hidden_size, num_layers, dropout=0.2,\n",
    "                 output_size=2, forecast_horizon=35, model_kind = None):\n",
    "        \"\"\"\n",
    "        RNN-based model for multi-step time-series forecasting.\n",
    "\n",
    "        Args:\n",
    "            input_size (int): Number of input features.\n",
    "            hidden_size (int): Hidden state size in RNN.\n",
    "            num_layers (int): Number of stacked RNN layers.\n",
    "            output_size (int): Number of target variables.\n",
    "            forecast_horizon (int): Number of future time-steps to predict.\n",
    "        \"\"\"\n",
    "        super(DirectMultiStepPredictor, self).__init__()\n",
    "        self.hidden_size = hidden_size\n",
    "        self.num_layers = num_layers\n",
    "        self.forecast_horizon = forecast_horizon\n",
    "\n",
    "        if model_kind is None:\n",
    "            model_kind = CFG.model_kind\n",
    "\n",
    "        if model_kind == 'rnn':\n",
    "            self.rnn = nn.RNN(input_size, hidden_size, num_layers, batch_first=True, dropout=dropout)\n",
    "        elif model_kind == 'lstm':\n",
    "            self.rnn = nn.LSTM(input_size, hidden_size, num_layers, \n",
    "                               batch_first=True, dropout=dropout,\n",
    "                               bidirectional = CFG.bidirectional)\n",
    "        elif model_kind == 'gru':\n",
    "            self.rnn = nn.GRU(input_size, hidden_size, num_layers, \n",
    "                              batch_first=True, dropout=dropout,\n",
    "                              bidirectional = CFG.bidirectional)\n",
    "\n",
    "        self.rnn = self.rnn.to(device)\n",
    "\n",
    "        # Fully connected layer maps hidden state to output\n",
    "        self.fc = nn.Linear(hidden_size, forecast_horizon * output_size).to(device)\n",
    "\n",
    "        self._initialize_weights()\n",
    "\n",
    "    def _initialize_weights(self):\n",
    "        \"\"\"Initialize weights using Xavier for RNN and linear layers.\"\"\"\n",
    "        for name, param in self.named_parameters():\n",
    "            if 'weight_ih' in name:  # Input-hidden weights\n",
    "                nn.init.xavier_uniform_(param)\n",
    "            elif 'weight_hh' in name:  # Hidden-hidden weights\n",
    "                nn.init.orthogonal_(param)  # Orthogonal init for stability\n",
    "            elif 'bias' in name:\n",
    "                nn.init.zeros_(param)  # Zero bias for stability\n",
    "            elif 'fc' in name:  # Fully connected layer\n",
    "                nn.init.kaiming_uniform_(param, nonlinearity='relu')\n",
    "\n",
    "    def forward(self, x):\n",
    "        batch_size = x.size(0)\n",
    "        \n",
    "        # hidden state\n",
    "        h0 = torch.zeros(self.num_layers, batch_size, self.hidden_size).to(x.device)\n",
    "        out, _ = self.rnn(x, h0)  # out: (batch_size, sequence_length, hidden_size)\n",
    "        last_hidden_state = out[:, -1, :]  # Shape: (batch_size, hidden_size)\n",
    "\n",
    "        # Fully connected layer to map hidden state to output\n",
    "        out = self.fc(last_hidden_state)  # Shape: (batch_size, forecast_horizon * output_size)\n",
    "\n",
    "        # Reshape to (batch_size, forecast_horizon, output_size)\n",
    "        out = out.view(batch_size, self.forecast_horizon, -1)\n",
    "        return out\n",
    "\n",
    "def get_optimizer(model, lr = 1e-4, weight_decay = 1e-5):\n",
    "    optimizer = Adam(params = model.parameters(), \n",
    "                     lr = lr, weight_decay = weight_decay)\n",
    "    return optimizer\n",
    "\n",
    "def get_reduce_lr(optimizer, factor=0.1, patience=2):\n",
    "    scheduler = ReduceLROnPlateau(optimizer, mode = 'min', factor = factor, patience = patience)\n",
    "    return scheduler"
   ]
  },
  {
   "cell_type": "code",
   "execution_count": 13,
   "id": "4aafde78",
   "metadata": {
    "execution": {
     "iopub.execute_input": "2025-04-11T16:30:53.380343Z",
     "iopub.status.busy": "2025-04-11T16:30:53.380057Z",
     "iopub.status.idle": "2025-04-11T16:30:53.384061Z",
     "shell.execute_reply": "2025-04-11T16:30:53.383455Z"
    },
    "papermill": {
     "duration": 0.012927,
     "end_time": "2025-04-11T16:30:53.385469",
     "exception": false,
     "start_time": "2025-04-11T16:30:53.372542",
     "status": "completed"
    },
    "tags": []
   },
   "outputs": [],
   "source": [
    "def get_model(input_size = 10, hidden_size = 32, num_layers = 3, \n",
    "              forecast_horizon=35, model_kind=None):\n",
    "    if input_size is None:\n",
    "        input_size = len(CFG.features)\n",
    "    model = DirectMultiStepPredictor(input_size, hidden_size, num_layers, \n",
    "                               output_size=2, forecast_horizon=forecast_horizon, \n",
    "                                     model_kind=model_kind,\n",
    "                                    dropout=CFG.model_dropout)\n",
    "    return model"
   ]
  },
  {
   "cell_type": "markdown",
   "id": "39673c81",
   "metadata": {
    "papermill": {
     "duration": 0.00702,
     "end_time": "2025-04-11T16:30:53.399902",
     "exception": false,
     "start_time": "2025-04-11T16:30:53.392882",
     "status": "completed"
    },
    "tags": []
   },
   "source": [
    "## Train and Validation Functions"
   ]
  },
  {
   "cell_type": "code",
   "execution_count": 14,
   "id": "12d38dc4",
   "metadata": {
    "execution": {
     "iopub.execute_input": "2025-04-11T16:30:53.415629Z",
     "iopub.status.busy": "2025-04-11T16:30:53.415348Z",
     "iopub.status.idle": "2025-04-11T16:30:53.422948Z",
     "shell.execute_reply": "2025-04-11T16:30:53.422207Z"
    },
    "papermill": {
     "duration": 0.017065,
     "end_time": "2025-04-11T16:30:53.424302",
     "exception": false,
     "start_time": "2025-04-11T16:30:53.407237",
     "status": "completed"
    },
    "tags": []
   },
   "outputs": [],
   "source": [
    "class MaskedMSELoss(nn.Module):\n",
    "    def __init__(self, eps=1e-6):\n",
    "        super(MaskedMSELoss, self).__init__()\n",
    "        self.eps = eps\n",
    "\n",
    "    def forward(self, preds, targets, mask):\n",
    "        # print(preds.shape, targets.shape, mask.shape)\n",
    "        loss = (preds - targets) ** 2\n",
    "        masked_loss = (loss * mask).sum() / (mask.sum() + self.eps)\n",
    "        return masked_loss\n",
    "\n",
    "class MaskedMAELoss(nn.Module):\n",
    "    def __init__(self, eps=1e-6):\n",
    "        super(MaskedMAELoss, self).__init__()\n",
    "        self.eps = eps\n",
    "\n",
    "    def forward(self, preds, targets, mask):\n",
    "        loss = abs(preds - targets)\n",
    "        masked_loss = (loss * mask).sum() / (mask.sum() + self.eps)\n",
    "        return masked_loss\n",
    "\n",
    "class MaskedR2(nn.Module):\n",
    "    def __init__(self, eps=1e-6):\n",
    "        super(MaskedR2, self).__init__()\n",
    "        self.eps = eps\n",
    "\n",
    "    def forward(self, preds, targets, mask):\n",
    "        error = ((targets - preds) ** 2) * mask\n",
    "        masked_mse = error.sum() / (mask.sum() + self.eps)\n",
    "        mean_y = (targets * mask).sum() / (mask.sum() + self.eps)\n",
    "        total_var = (((targets - mean_y) ** 2) * mask).sum() / (mask.sum() + self.eps)\n",
    "        r2 = 1 - (masked_mse / (total_var + self.eps))\n",
    "        return r2\n",
    "\n",
    "masked_metrics_dict = {\n",
    "    'MSE': MaskedMSELoss(),\n",
    "    'MAE': MaskedMAELoss(),\n",
    "    'r2 score': MaskedR2(),\n",
    "}"
   ]
  },
  {
   "cell_type": "code",
   "execution_count": 15,
   "id": "a6907591",
   "metadata": {
    "execution": {
     "iopub.execute_input": "2025-04-11T16:30:53.440007Z",
     "iopub.status.busy": "2025-04-11T16:30:53.439757Z",
     "iopub.status.idle": "2025-04-11T16:30:53.445200Z",
     "shell.execute_reply": "2025-04-11T16:30:53.444609Z"
    },
    "papermill": {
     "duration": 0.015078,
     "end_time": "2025-04-11T16:30:53.446649",
     "exception": false,
     "start_time": "2025-04-11T16:30:53.431571",
     "status": "completed"
    },
    "tags": []
   },
   "outputs": [],
   "source": [
    "class RunningLoss:\n",
    "    def __init__(self, window = 10):\n",
    "        self.loss = 0\n",
    "        self.total = 0\n",
    "        self.loss_last = []\n",
    "        self.total_last = []\n",
    "\n",
    "        self.window = window\n",
    "    \n",
    "    def update(self, loss, batch_size):\n",
    "        total = 1\n",
    "        self.loss += loss\n",
    "        self.total += 1\n",
    "        \n",
    "        self.loss_last.append(loss)\n",
    "        self.total_last.append(total)\n",
    "        if len(self.loss_last) > self.window:\n",
    "            self.loss_last.pop(0)\n",
    "            self.total_last.pop(0)\n",
    "    \n",
    "    def reset(self):\n",
    "        self.loss = 0\n",
    "        self.total = 0\n",
    "        self.loss_last = []\n",
    "        self.total_last = []\n",
    "\n",
    "    def print(self):\n",
    "        print(f\"Accuracy: {self.loss / self.total}\")\n",
    "    \n",
    "    def get_curr_stats(self):\n",
    "        return sum(self.loss_last) / sum(self.total_last)\n",
    "\n",
    "    def total_stats(self):\n",
    "        return self.loss / self.total\n"
   ]
  },
  {
   "cell_type": "code",
   "execution_count": 16,
   "id": "81fbcaa8",
   "metadata": {
    "execution": {
     "iopub.execute_input": "2025-04-11T16:30:53.461937Z",
     "iopub.status.busy": "2025-04-11T16:30:53.461698Z",
     "iopub.status.idle": "2025-04-11T16:30:53.468447Z",
     "shell.execute_reply": "2025-04-11T16:30:53.467604Z"
    },
    "papermill": {
     "duration": 0.015845,
     "end_time": "2025-04-11T16:30:53.469897",
     "exception": false,
     "start_time": "2025-04-11T16:30:53.454052",
     "status": "completed"
    },
    "tags": []
   },
   "outputs": [],
   "source": [
    "def validate(\n",
    "    model,\n",
    "    test_dl,\n",
    "    criterion,\n",
    "    verbose=True,\n",
    "    get_predict=False,\n",
    "):\n",
    "    model.eval()\n",
    "    running_loss = RunningLoss()\n",
    "\n",
    "    predict_array = []\n",
    "    true_array = []\n",
    "    mask_array = []\n",
    "    \n",
    "    if verbose >= 1:\n",
    "        pbar = tqdm(total = len(test_dl), ncols = 110, desc = \"Validation Progress\") # , dynamic_ncols=True, leave=False)\n",
    "    else:\n",
    "        pbar = None\n",
    "\n",
    "    with torch.no_grad():\n",
    "        for i, (x, y, mask) in enumerate(test_dl):\n",
    "            x, y, mask = x.to(device), y.to(device), mask.to(device)\n",
    "            pred = model(x)\n",
    "\n",
    "            pred = target_scaler.inverse_transform(pred)\n",
    "            y = target_scaler.inverse_transform(y)\n",
    "\n",
    "            temp_loss = criterion(pred, y, mask)\n",
    "            running_loss.update(temp_loss.item(), batch_size=x.shape[0])\n",
    "\n",
    "            if get_predict:\n",
    "                predict_array.append(pred)\n",
    "                true_array.append(y)\n",
    "                mask_array.append(mask)\n",
    "\n",
    "            if verbose >= 1:\n",
    "                total = len(test_dl)\n",
    "                curr_loss = np.sqrt(running_loss.get_curr_stats())\n",
    "                pbar.set_description(f\"Validation Step {i} / {total}\")\n",
    "                pbar.set_postfix(Loss=f\"{curr_loss:.4f}\")\n",
    "                pbar.update(1)\n",
    "        if verbose >= 1:\n",
    "            pbar.close()\n",
    "\n",
    "    model.train()\n",
    "    if get_predict:\n",
    "        return predict_array, true_array, mask_array, np.sqrt(running_loss.total_stats())\n",
    "    \n",
    "    return np.sqrt(running_loss.total_stats())\n"
   ]
  },
  {
   "cell_type": "code",
   "execution_count": 17,
   "id": "25d62c1f",
   "metadata": {
    "execution": {
     "iopub.execute_input": "2025-04-11T16:30:53.485754Z",
     "iopub.status.busy": "2025-04-11T16:30:53.485500Z",
     "iopub.status.idle": "2025-04-11T16:30:53.498819Z",
     "shell.execute_reply": "2025-04-11T16:30:53.498004Z"
    },
    "papermill": {
     "duration": 0.022776,
     "end_time": "2025-04-11T16:30:53.500217",
     "exception": false,
     "start_time": "2025-04-11T16:30:53.477441",
     "status": "completed"
    },
    "tags": []
   },
   "outputs": [],
   "source": [
    "def train(\n",
    "        model,\n",
    "        criterion,\n",
    "        optimizer,\n",
    "        num_epochs,\n",
    "        train_dataloader,\n",
    "        val_dataloader,\n",
    "        scheduler=None,\n",
    "        do_validate=False,\n",
    "        validate_frequency=1,\n",
    "        verbose=True,\n",
    "        metrics_dict=None,\n",
    "        model_name = \"\",\n",
    "):\n",
    "    if metrics_dict is None:\n",
    "        metrics_dict = masked_metrics_dict\n",
    "    \n",
    "    loss_list = []\n",
    "    val_loss_list = []\n",
    "    all_loss_list = []\n",
    "\n",
    "    best_val_loss = 100000000\n",
    "    best_val_loss25 = 100000000\n",
    "    best_val_loss10 = 100000000\n",
    "    \n",
    "    for epoch in tqdm(range(num_epochs), disable=verbose >= -1):\n",
    "        running_loss = RunningLoss()\n",
    "        if verbose >= 1:\n",
    "            pbar = tqdm(total = len(train_dataloader), ncols = 110, desc = \"Training Progress\") # , dynamic_ncols=True, leave=False)\n",
    "        else:\n",
    "            pbar = None\n",
    "        for i, (x, y, mask) in enumerate(train_dataloader):\n",
    "            x, y, mask = x.to(device), y.to(device), mask.to(device)\n",
    "\n",
    "            optimizer.zero_grad()\n",
    "            \n",
    "            pred = model(x)\n",
    "            loss = criterion(pred, y, mask)\n",
    "            loss.backward()\n",
    "\n",
    "            optimizer.step()\n",
    "\n",
    "            all_loss_list.append(loss.item())\n",
    "\n",
    "            with torch.no_grad():\n",
    "                pred = target_scaler.inverse_transform(pred)\n",
    "                y = target_scaler.inverse_transform(y)\n",
    "                temp_loss = torch.sqrt(criterion(pred, y, mask))\n",
    "                running_loss.update(temp_loss.item(), batch_size=x.shape[0])\n",
    "\n",
    "            if verbose >= 1:\n",
    "                total = len(train_dataloader)\n",
    "                curr_loss = running_loss.get_curr_stats()\n",
    "                pbar.set_description(f\"Epoch {epoch}: Step {i} / {total}\")\n",
    "                pbar.set_postfix(Loss=f\"{curr_loss:.4f}\")\n",
    "                pbar.update(1)\n",
    "        \n",
    "        if verbose >= 1:\n",
    "            print(f\"Train Loss Total: {running_loss.total_stats()}\")\n",
    "            pbar.close()\n",
    "        \n",
    "        if do_validate and epoch % validate_frequency == validate_frequency - 1:\n",
    "            pred1, y1, mask1, val_loss = validate(model, val_dataloader, criterion, \n",
    "                                           verbose=verbose, get_predict=True)\n",
    "            pred1 = torch.concat(pred1)\n",
    "            y1 = torch.concat(y1)\n",
    "            mask1 = torch.concat(mask1)\n",
    "            \n",
    "            val_loss_list.append(val_loss)\n",
    "            if scheduler is not None:\n",
    "                scheduler.step(val_loss)\n",
    "            \n",
    "            if verbose >= 1:\n",
    "                print(f\"Val Loss Total: {val_loss}\")\n",
    "\n",
    "            if val_loss < best_val_loss:\n",
    "                if verbose >= 0:\n",
    "                    print(f\"Better Val Loss: {val_loss} < {best_val_loss}\")\n",
    "                best_val_loss = val_loss\n",
    "                torch.save(model.state_dict(), f\"./{model_name}best.pth\")\n",
    "            \n",
    "            for i, t in enumerate(CFG.target_list):\n",
    "                for n, m in metrics_dict.items():\n",
    "                    if n == 'MSE':\n",
    "                        # print(y1[:, :, i].shape, pred1[:, :, i].shape, mask1.shape)\n",
    "                        mse_loss = np.sqrt(m(pred1[:, :, i], y1[:, :, i], mask1[:, :, 0]).cpu().numpy())\n",
    "                        if verbose >= 1:\n",
    "                            print(f\"{t}: {n}: {mse_loss}\")\n",
    "                        \n",
    "                        if i == 0 and mse_loss < best_val_loss25:\n",
    "                            if verbose >= 0:\n",
    "                                print(f\"----------Better MSE on pm2_5 {mse_loss} < {best_val_loss25}\")\n",
    "                            torch.save(model.state_dict(), f\"./{model_name}2_5.pth\")\n",
    "                            best_val_loss25 = mse_loss\n",
    "                        if i == 1 and mse_loss < best_val_loss10:\n",
    "                            if verbose >= 0:\n",
    "                                print(f\"----------Better MSE on pm10 {mse_loss} < {best_val_loss10}\")\n",
    "                            torch.save(model.state_dict(), f\"./{model_name}10.pth\")\n",
    "                            best_val_loss10 = mse_loss\n",
    "                    \n",
    "                    if verbose >= 1:\n",
    "                        if n == 'MSE':\n",
    "                            mse_loss = np.sqrt(m(pred1[:, :, i], y1[:, :, i], mask1[:, :, 0]).cpu().numpy())\n",
    "                            print(f\"{t}: {n}: {mse_loss}\")\n",
    "                        else:\n",
    "                            print(f\"{t}: {n}: {(m(pred1[:, :, i], y1[:, :, i], mask1[:, :, 0]))}\")\n",
    "        \n",
    "        epoch_loss = running_loss.total_stats()\n",
    "        loss_list.append(epoch_loss)\n",
    "    \n",
    "    return loss_list, val_loss_list, all_loss_list\n"
   ]
  },
  {
   "cell_type": "code",
   "execution_count": 18,
   "id": "d0bddfa1",
   "metadata": {
    "execution": {
     "iopub.execute_input": "2025-04-11T16:30:53.516788Z",
     "iopub.status.busy": "2025-04-11T16:30:53.516538Z",
     "iopub.status.idle": "2025-04-11T16:30:53.519544Z",
     "shell.execute_reply": "2025-04-11T16:30:53.518814Z"
    },
    "papermill": {
     "duration": 0.01265,
     "end_time": "2025-04-11T16:30:53.520860",
     "exception": false,
     "start_time": "2025-04-11T16:30:53.508210",
     "status": "completed"
    },
    "tags": []
   },
   "outputs": [],
   "source": [
    "# model = get_model(hidden_size = CFG.hidden_dim, num_layers = CFG.num_layers).to(device)\n",
    "# criterion = MaskedMSELoss().to(device)\n",
    "# optimizer = get_optimizer(model, lr = CFG.lr)\n",
    "# scheduler = get_reduce_lr(optimizer, factor=CFG.factor, patience=CFG.patience)"
   ]
  },
  {
   "cell_type": "code",
   "execution_count": 19,
   "id": "fb2012d2",
   "metadata": {
    "execution": {
     "iopub.execute_input": "2025-04-11T16:30:53.536287Z",
     "iopub.status.busy": "2025-04-11T16:30:53.536021Z",
     "iopub.status.idle": "2025-04-11T16:30:53.542939Z",
     "shell.execute_reply": "2025-04-11T16:30:53.542309Z"
    },
    "papermill": {
     "duration": 0.01629,
     "end_time": "2025-04-11T16:30:53.544278",
     "exception": false,
     "start_time": "2025-04-11T16:30:53.527988",
     "status": "completed"
    },
    "tags": []
   },
   "outputs": [],
   "source": [
    "def get_aqi_category_indices(preds, thresholds):\n",
    "    indices = torch.bucketize(preds, torch.tensor(thresholds).to(device), right=False) - 1\n",
    "    return torch.clamp(indices, min=0, max=5)\n",
    "\n",
    "def compute_aqi_classification_metrics(pred, label, mask):\n",
    "    \"\"\"\n",
    "    Compute per-class accuracy, precision, and recall separately for PM2.5 and PM10.\n",
    "\n",
    "    Args:\n",
    "        pred: Tensor of predicted AQI values of shape [N, S, 2].\n",
    "        label: Tensor of ground truth AQI values of shape [N, S, 2].\n",
    "        mask: Tensor of 0s and 1s indicating valid positions of shape [N, S, 1].\n",
    "\n",
    "    Returns:\n",
    "        Dictionary with separate per-class metrics for PM2.5 and PM10.\n",
    "    \"\"\"\n",
    "    if mask.shape[-1] == 1:\n",
    "        mask = mask.expand(-1, -1, 2)\n",
    "    mask = mask.bool()\n",
    "\n",
    "    metrics = {}\n",
    "    for i, (name, thresholds) in enumerate(zip(CFG.target_list, [CFG.pm2_5_thresholds, CFG.pm10_thresholds])):\n",
    "        pred_class = get_aqi_category_indices(pred[..., i], thresholds)\n",
    "        label_class = get_aqi_category_indices(label[..., i], thresholds)\n",
    "\n",
    "        pred_class = pred_class[mask[..., i]]\n",
    "        label_class = label_class[mask[..., i]]\n",
    "\n",
    "        class_metrics = {}\n",
    "        for class_idx, class_name in enumerate(CFG.aqi_category):\n",
    "            true_pos = ((pred_class == class_idx) & (label_class == class_idx)).sum().item()\n",
    "            total_pred = (pred_class == class_idx).sum().item()\n",
    "            total_true = (label_class == class_idx).sum().item()\n",
    "\n",
    "            accuracy = true_pos / total_true if total_true else 0.0\n",
    "            precision = true_pos / total_pred if total_pred else 0.0\n",
    "            recall = true_pos / total_true if total_true else 0.0\n",
    "\n",
    "            class_metrics[class_name] = {\n",
    "                \"true\": true_pos,\n",
    "                \"total\": total_true,\n",
    "                \"accuracy\": accuracy,\n",
    "                \"precision\": precision,\n",
    "                \"recall\": recall\n",
    "            }\n",
    "\n",
    "        metrics[name] = class_metrics\n",
    "\n",
    "    return metrics\n"
   ]
  },
  {
   "cell_type": "code",
   "execution_count": 20,
   "id": "567e3bee",
   "metadata": {
    "execution": {
     "iopub.execute_input": "2025-04-11T16:30:53.559588Z",
     "iopub.status.busy": "2025-04-11T16:30:53.559328Z",
     "iopub.status.idle": "2025-04-11T16:30:53.564981Z",
     "shell.execute_reply": "2025-04-11T16:30:53.564060Z"
    },
    "papermill": {
     "duration": 0.014695,
     "end_time": "2025-04-11T16:30:53.566341",
     "exception": false,
     "start_time": "2025-04-11T16:30:53.551646",
     "status": "completed"
    },
    "tags": []
   },
   "outputs": [],
   "source": [
    "def predict_eval(model, test_dl, criterion, verbose=True):\n",
    "    o = validate(model, test_dl, criterion, verbose=verbose, get_predict=True)\n",
    "    pred = torch.concat(o[0])\n",
    "    y = torch.concat(o[1])\n",
    "    mask = torch.concat(o[2])\n",
    "    model_performance = {0 : {}, 1 : {}}\n",
    "    for i, t in enumerate(CFG.target_list):\n",
    "        for n, m in masked_metrics_dict.items():\n",
    "            l = m(pred[:, :, i], y[:, :, i], mask[:, :, 0])\n",
    "            if n == 'MSE':\n",
    "                # print(y1[:, :, i].shape, pred1[:, :, i].shape, mask1.shape)\n",
    "                l = np.sqrt(l.cpu().numpy())\n",
    "                if verbose:\n",
    "                    print(f\"{t}: {n}: {l}\")\n",
    "            elif verbose:\n",
    "                print(f\"{t}: {n}: {l}\")\n",
    "\n",
    "            model_performance[i][n] = float(l)\n",
    "\n",
    "    model_performance['classification'] = compute_aqi_classification_metrics(pred, y, mask)\n",
    "    \n",
    "    return model_performance"
   ]
  },
  {
   "cell_type": "markdown",
   "id": "f43e4cc8",
   "metadata": {
    "papermill": {
     "duration": 0.006624,
     "end_time": "2025-04-11T16:30:53.580477",
     "exception": false,
     "start_time": "2025-04-11T16:30:53.573853",
     "status": "completed"
    },
    "tags": []
   },
   "source": [
    "## 2nd DF"
   ]
  },
  {
   "cell_type": "code",
   "execution_count": 21,
   "id": "0e51bf8f",
   "metadata": {
    "execution": {
     "iopub.execute_input": "2025-04-11T16:30:53.595397Z",
     "iopub.status.busy": "2025-04-11T16:30:53.595113Z",
     "iopub.status.idle": "2025-04-11T16:31:10.272856Z",
     "shell.execute_reply": "2025-04-11T16:31:10.271794Z"
    },
    "papermill": {
     "duration": 16.687119,
     "end_time": "2025-04-11T16:31:10.274551",
     "exception": false,
     "start_time": "2025-04-11T16:30:53.587432",
     "status": "completed"
    },
    "tags": []
   },
   "outputs": [
    {
     "name": "stderr",
     "output_type": "stream",
     "text": [
      "<ipython-input-5-a10b91631712>:35: DeprecationWarning: DataFrameGroupBy.apply operated on the grouping columns. This behavior is deprecated, and in a future version of pandas the grouping columns will be excluded from the operation. Either pass `include_groups=False` to exclude the groupings or explicitly select the grouping columns after groupby to silence this warning.\n",
      "  df = grouped.apply(fill_na_with_previous_mean)\n"
     ]
    }
   ],
   "source": [
    "full_df = pd.read_csv('/kaggle/input/airdelhi-baselines-deepengineering/full_dense_df.csv')\n",
    "\n",
    "full_df = full_df.drop(columns = 'Unnamed: 0')\n",
    "full_df['date_value'] = pd.to_datetime(full_df['date_value'])\n",
    "\n",
    "full_df = add_lag_features(full_df, lags = [7])\n",
    "CFG.features = ['timeOfDay', 'lat', 'lon', 'distance', 'bus_count', \n",
    "                'day_of_week', 'pm2_5', 'pm10', 'pm2_5_lag_7', 'pm10_lag_7']\n",
    "full_df = full_df.sort_values(by=['lat', 'lon', 'timeOfDay', 'date_value'])\n",
    "\n",
    "full_df = target_scaler.transform(full_df)\n",
    "\n",
    "full_df['day_of_week'] = full_df['date_value'].dt.dayofweek\n",
    "\n",
    "scaler = MinMaxScaler()\n",
    "full_df[CFG.features] = scaler.fit_transform(full_df[CFG.features])\n",
    "\n",
    "full_train_ds= SequenceDataset(full_df[full_df['date_value'] <= max_train_date])\n",
    "full_test_ds = SequenceDataset(full_df[full_df['date_value'] > max_train_date])\n",
    "\n",
    "full_train_dl = DataLoader(full_train_ds, batch_size = CFG.batch_size, shuffle=True)\n",
    "full_test_dl = DataLoader(full_test_ds, batch_size = CFG.batch_size, shuffle=True)"
   ]
  },
  {
   "cell_type": "markdown",
   "id": "c7099a1b",
   "metadata": {
    "papermill": {
     "duration": 0.007004,
     "end_time": "2025-04-11T16:31:10.289304",
     "exception": false,
     "start_time": "2025-04-11T16:31:10.282300",
     "status": "completed"
    },
    "tags": []
   },
   "source": [
    "# Ablation Studies"
   ]
  },
  {
   "cell_type": "code",
   "execution_count": 22,
   "id": "c0df70e3",
   "metadata": {
    "execution": {
     "iopub.execute_input": "2025-04-11T16:31:10.305980Z",
     "iopub.status.busy": "2025-04-11T16:31:10.305636Z",
     "iopub.status.idle": "2025-04-11T16:31:10.314749Z",
     "shell.execute_reply": "2025-04-11T16:31:10.313810Z"
    },
    "papermill": {
     "duration": 0.019183,
     "end_time": "2025-04-11T16:31:10.316344",
     "exception": false,
     "start_time": "2025-04-11T16:31:10.297161",
     "status": "completed"
    },
    "tags": []
   },
   "outputs": [],
   "source": [
    "import itertools\n",
    "import json\n",
    "\n",
    "def run_grid_search(\n",
    "    param_grid: dict,\n",
    "        df_dict,\n",
    "        model_name,\n",
    "    model_save_dir: str,\n",
    "    result_json_path: str,\n",
    "    default_params: dict = None\n",
    "):\n",
    "    from copy import deepcopy\n",
    "\n",
    "    # Generate all parameter combinations\n",
    "    keys, values = zip(*param_grid.items())\n",
    "    \n",
    "    param_combinations = [\n",
    "        {**(default_params or {}), **dict(zip(keys, v))}\n",
    "        for v in itertools.product(*values)\n",
    "    ]\n",
    "    \n",
    "    model_dict = {}\n",
    "    results_list = []\n",
    "    \n",
    "    for idx, param_set in enumerate(param_combinations):\n",
    "        print(f\"Training model {idx} with params: {param_set}\")\n",
    "        \n",
    "        model = get_model(**param_set)\n",
    "        criterion = MaskedMSELoss().to(device)\n",
    "        optimizer = get_optimizer(model, lr = CFG.lr)\n",
    "        scheduler = get_reduce_lr(optimizer, factor=CFG.factor, patience=CFG.patience)\n",
    "        \n",
    "        loss_list, val_loss_list, all_loss_list = train(\n",
    "            model,\n",
    "            criterion,\n",
    "            optimizer,\n",
    "            num_epochs=CFG.num_epochs,\n",
    "            train_dataloader=df_dict['train_dl'],\n",
    "            val_dataloader=df_dict['test_dl'],\n",
    "            scheduler=scheduler,\n",
    "            do_validate=True,\n",
    "            validate_frequency=1,\n",
    "            verbose=-2,\n",
    "            model_name=model_save_dir + f\"{model_name}_{idx}_\"\n",
    "        )\n",
    "        \n",
    "        model_path = model_save_dir + f\"final_{model_name}_{idx}.pt\"\n",
    "        torch.save(model.state_dict(), model_path)\n",
    "        model_dict[idx] = model\n",
    "\n",
    "        result_metrics = {}\n",
    "        paths = ['best', '2_5', '10']\n",
    "        for p in paths:\n",
    "            result_metrics[p] = {}\n",
    "            model_state_dict = torch.load(model_save_dir + f\"{model_name}_{idx}_{p}.pth\")\n",
    "            model.load_state_dict(model_state_dict)\n",
    "            \n",
    "            for df_name, df1 in df_dict.items():\n",
    "                result_metrics[p][df_name] = predict_eval(model, df1, criterion, verbose=False)\n",
    "\n",
    "        results_list.append({\n",
    "            \"model_index\": idx,\n",
    "            \"model_name\": model_path,\n",
    "            \"parameters\": deepcopy(param_set),\n",
    "            \"results\": result_metrics\n",
    "        })\n",
    "\n",
    "    with open(result_json_path, \"w\") as f:\n",
    "        json.dump(results_list, f, indent=4)\n",
    "\n",
    "    return model_dict\n"
   ]
  },
  {
   "cell_type": "code",
   "execution_count": 23,
   "id": "c56da948",
   "metadata": {
    "execution": {
     "iopub.execute_input": "2025-04-11T16:31:10.333210Z",
     "iopub.status.busy": "2025-04-11T16:31:10.332911Z",
     "iopub.status.idle": "2025-04-11T17:16:31.474174Z",
     "shell.execute_reply": "2025-04-11T17:16:31.473365Z"
    },
    "papermill": {
     "duration": 2721.15152,
     "end_time": "2025-04-11T17:16:31.475926",
     "exception": false,
     "start_time": "2025-04-11T16:31:10.324406",
     "status": "completed"
    },
    "tags": []
   },
   "outputs": [
    {
     "name": "stdout",
     "output_type": "stream",
     "text": [
      "Training model 0 with params: {'input_size': 10, 'forecast_horizon': 35, 'hidden_size': 16, 'num_layers': 1, 'model_kind': 'rnn'}\n"
     ]
    },
    {
     "name": "stderr",
     "output_type": "stream",
     "text": [
      "/usr/local/lib/python3.10/dist-packages/torch/nn/modules/rnn.py:123: UserWarning: dropout option adds dropout after all but last recurrent layer, so non-zero dropout expects num_layers greater than 1, but got dropout=0.2 and num_layers=1\n",
      "  warnings.warn(\n",
      "100%|██████████| 50/50 [01:06<00:00,  1.33s/it]\n",
      "<ipython-input-22-f2bda7814586>:55: FutureWarning: You are using `torch.load` with `weights_only=False` (the current default value), which uses the default pickle module implicitly. It is possible to construct malicious pickle data which will execute arbitrary code during unpickling (See https://github.com/pytorch/pytorch/blob/main/SECURITY.md#untrusted-models for more details). In a future release, the default value for `weights_only` will be flipped to `True`. This limits the functions that could be executed during unpickling. Arbitrary objects will no longer be allowed to be loaded via this mode unless they are explicitly allowlisted by the user via `torch.serialization.add_safe_globals`. We recommend you start setting `weights_only=True` for any use case where you don't have full control of the loaded file. Please open an issue on GitHub for any issues related to this experimental feature.\n",
      "  model_state_dict = torch.load(model_save_dir + f\"{model_name}_{idx}_{p}.pth\")\n",
      "<ipython-input-19-4e72c1729806>:2: UserWarning: torch.searchsorted(): input value tensor is non-contiguous, this will lower the performance due to extra data copy when converting non-contiguous tensor to contiguous, please use contiguous input value tensor if possible. This message will only appear once per program. (Triggered internally at ../aten/src/ATen/native/BucketizationUtils.h:32.)\n",
      "  indices = torch.bucketize(preds, torch.tensor(thresholds).to(device), right=False) - 1\n",
      "/usr/local/lib/python3.10/dist-packages/torch/nn/modules/rnn.py:123: UserWarning: dropout option adds dropout after all but last recurrent layer, so non-zero dropout expects num_layers greater than 1, but got dropout=0.2 and num_layers=1\n",
      "  warnings.warn(\n"
     ]
    },
    {
     "name": "stdout",
     "output_type": "stream",
     "text": [
      "Training model 1 with params: {'input_size': 10, 'forecast_horizon': 35, 'hidden_size': 16, 'num_layers': 1, 'model_kind': 'gru'}\n"
     ]
    },
    {
     "name": "stderr",
     "output_type": "stream",
     "text": [
      "100%|██████████| 50/50 [01:06<00:00,  1.33s/it]\n"
     ]
    },
    {
     "name": "stdout",
     "output_type": "stream",
     "text": [
      "Training model 2 with params: {'input_size': 10, 'forecast_horizon': 35, 'hidden_size': 16, 'num_layers': 3, 'model_kind': 'rnn'}\n"
     ]
    },
    {
     "name": "stderr",
     "output_type": "stream",
     "text": [
      "100%|██████████| 50/50 [01:07<00:00,  1.35s/it]\n"
     ]
    },
    {
     "name": "stdout",
     "output_type": "stream",
     "text": [
      "Training model 3 with params: {'input_size': 10, 'forecast_horizon': 35, 'hidden_size': 16, 'num_layers': 3, 'model_kind': 'gru'}\n"
     ]
    },
    {
     "name": "stderr",
     "output_type": "stream",
     "text": [
      "100%|██████████| 50/50 [01:10<00:00,  1.41s/it]\n"
     ]
    },
    {
     "name": "stdout",
     "output_type": "stream",
     "text": [
      "Training model 4 with params: {'input_size': 10, 'forecast_horizon': 35, 'hidden_size': 16, 'num_layers': 6, 'model_kind': 'rnn'}\n"
     ]
    },
    {
     "name": "stderr",
     "output_type": "stream",
     "text": [
      "100%|██████████| 50/50 [01:10<00:00,  1.41s/it]\n"
     ]
    },
    {
     "name": "stdout",
     "output_type": "stream",
     "text": [
      "Training model 5 with params: {'input_size': 10, 'forecast_horizon': 35, 'hidden_size': 16, 'num_layers': 6, 'model_kind': 'gru'}\n"
     ]
    },
    {
     "name": "stderr",
     "output_type": "stream",
     "text": [
      "100%|██████████| 50/50 [01:12<00:00,  1.44s/it]\n"
     ]
    },
    {
     "name": "stdout",
     "output_type": "stream",
     "text": [
      "Training model 6 with params: {'input_size': 10, 'forecast_horizon': 35, 'hidden_size': 16, 'num_layers': 9, 'model_kind': 'rnn'}\n"
     ]
    },
    {
     "name": "stderr",
     "output_type": "stream",
     "text": [
      "100%|██████████| 50/50 [01:11<00:00,  1.43s/it]\n"
     ]
    },
    {
     "name": "stdout",
     "output_type": "stream",
     "text": [
      "Training model 7 with params: {'input_size': 10, 'forecast_horizon': 35, 'hidden_size': 16, 'num_layers': 9, 'model_kind': 'gru'}\n"
     ]
    },
    {
     "name": "stderr",
     "output_type": "stream",
     "text": [
      "100%|██████████| 50/50 [01:17<00:00,  1.56s/it]\n"
     ]
    },
    {
     "name": "stdout",
     "output_type": "stream",
     "text": [
      "Training model 8 with params: {'input_size': 10, 'forecast_horizon': 35, 'hidden_size': 32, 'num_layers': 1, 'model_kind': 'rnn'}\n"
     ]
    },
    {
     "name": "stderr",
     "output_type": "stream",
     "text": [
      "100%|██████████| 50/50 [01:07<00:00,  1.35s/it]\n"
     ]
    },
    {
     "name": "stdout",
     "output_type": "stream",
     "text": [
      "Training model 9 with params: {'input_size': 10, 'forecast_horizon': 35, 'hidden_size': 32, 'num_layers': 1, 'model_kind': 'gru'}\n"
     ]
    },
    {
     "name": "stderr",
     "output_type": "stream",
     "text": [
      "100%|██████████| 50/50 [01:08<00:00,  1.37s/it]\n"
     ]
    },
    {
     "name": "stdout",
     "output_type": "stream",
     "text": [
      "Training model 10 with params: {'input_size': 10, 'forecast_horizon': 35, 'hidden_size': 32, 'num_layers': 3, 'model_kind': 'rnn'}\n"
     ]
    },
    {
     "name": "stderr",
     "output_type": "stream",
     "text": [
      "100%|██████████| 50/50 [01:10<00:00,  1.40s/it]\n"
     ]
    },
    {
     "name": "stdout",
     "output_type": "stream",
     "text": [
      "Training model 11 with params: {'input_size': 10, 'forecast_horizon': 35, 'hidden_size': 32, 'num_layers': 3, 'model_kind': 'gru'}\n"
     ]
    },
    {
     "name": "stderr",
     "output_type": "stream",
     "text": [
      "100%|██████████| 50/50 [01:09<00:00,  1.39s/it]\n"
     ]
    },
    {
     "name": "stdout",
     "output_type": "stream",
     "text": [
      "Training model 12 with params: {'input_size': 10, 'forecast_horizon': 35, 'hidden_size': 32, 'num_layers': 6, 'model_kind': 'rnn'}\n"
     ]
    },
    {
     "name": "stderr",
     "output_type": "stream",
     "text": [
      "100%|██████████| 50/50 [01:10<00:00,  1.40s/it]\n"
     ]
    },
    {
     "name": "stdout",
     "output_type": "stream",
     "text": [
      "Training model 13 with params: {'input_size': 10, 'forecast_horizon': 35, 'hidden_size': 32, 'num_layers': 6, 'model_kind': 'gru'}\n"
     ]
    },
    {
     "name": "stderr",
     "output_type": "stream",
     "text": [
      "100%|██████████| 50/50 [01:11<00:00,  1.43s/it]\n"
     ]
    },
    {
     "name": "stdout",
     "output_type": "stream",
     "text": [
      "Training model 14 with params: {'input_size': 10, 'forecast_horizon': 35, 'hidden_size': 32, 'num_layers': 9, 'model_kind': 'rnn'}\n"
     ]
    },
    {
     "name": "stderr",
     "output_type": "stream",
     "text": [
      "100%|██████████| 50/50 [01:11<00:00,  1.44s/it]\n"
     ]
    },
    {
     "name": "stdout",
     "output_type": "stream",
     "text": [
      "Training model 15 with params: {'input_size': 10, 'forecast_horizon': 35, 'hidden_size': 32, 'num_layers': 9, 'model_kind': 'gru'}\n"
     ]
    },
    {
     "name": "stderr",
     "output_type": "stream",
     "text": [
      "100%|██████████| 50/50 [01:18<00:00,  1.57s/it]\n"
     ]
    },
    {
     "name": "stdout",
     "output_type": "stream",
     "text": [
      "Training model 16 with params: {'input_size': 10, 'forecast_horizon': 35, 'hidden_size': 64, 'num_layers': 1, 'model_kind': 'rnn'}\n"
     ]
    },
    {
     "name": "stderr",
     "output_type": "stream",
     "text": [
      "100%|██████████| 50/50 [01:02<00:00,  1.26s/it]\n"
     ]
    },
    {
     "name": "stdout",
     "output_type": "stream",
     "text": [
      "Training model 17 with params: {'input_size': 10, 'forecast_horizon': 35, 'hidden_size': 64, 'num_layers': 1, 'model_kind': 'gru'}\n"
     ]
    },
    {
     "name": "stderr",
     "output_type": "stream",
     "text": [
      "100%|██████████| 50/50 [01:03<00:00,  1.26s/it]\n"
     ]
    },
    {
     "name": "stdout",
     "output_type": "stream",
     "text": [
      "Training model 18 with params: {'input_size': 10, 'forecast_horizon': 35, 'hidden_size': 64, 'num_layers': 3, 'model_kind': 'rnn'}\n"
     ]
    },
    {
     "name": "stderr",
     "output_type": "stream",
     "text": [
      "100%|██████████| 50/50 [01:03<00:00,  1.27s/it]\n"
     ]
    },
    {
     "name": "stdout",
     "output_type": "stream",
     "text": [
      "Training model 19 with params: {'input_size': 10, 'forecast_horizon': 35, 'hidden_size': 64, 'num_layers': 3, 'model_kind': 'gru'}\n"
     ]
    },
    {
     "name": "stderr",
     "output_type": "stream",
     "text": [
      "100%|██████████| 50/50 [01:06<00:00,  1.33s/it]\n"
     ]
    },
    {
     "name": "stdout",
     "output_type": "stream",
     "text": [
      "Training model 20 with params: {'input_size': 10, 'forecast_horizon': 35, 'hidden_size': 64, 'num_layers': 6, 'model_kind': 'rnn'}\n"
     ]
    },
    {
     "name": "stderr",
     "output_type": "stream",
     "text": [
      "100%|██████████| 50/50 [01:10<00:00,  1.40s/it]\n"
     ]
    },
    {
     "name": "stdout",
     "output_type": "stream",
     "text": [
      "Training model 21 with params: {'input_size': 10, 'forecast_horizon': 35, 'hidden_size': 64, 'num_layers': 6, 'model_kind': 'gru'}\n"
     ]
    },
    {
     "name": "stderr",
     "output_type": "stream",
     "text": [
      "100%|██████████| 50/50 [01:16<00:00,  1.53s/it]\n"
     ]
    },
    {
     "name": "stdout",
     "output_type": "stream",
     "text": [
      "Training model 22 with params: {'input_size': 10, 'forecast_horizon': 35, 'hidden_size': 64, 'num_layers': 9, 'model_kind': 'rnn'}\n"
     ]
    },
    {
     "name": "stderr",
     "output_type": "stream",
     "text": [
      "100%|██████████| 50/50 [01:13<00:00,  1.46s/it]\n"
     ]
    },
    {
     "name": "stdout",
     "output_type": "stream",
     "text": [
      "Training model 23 with params: {'input_size': 10, 'forecast_horizon': 35, 'hidden_size': 64, 'num_layers': 9, 'model_kind': 'gru'}\n"
     ]
    },
    {
     "name": "stderr",
     "output_type": "stream",
     "text": [
      "100%|██████████| 50/50 [01:25<00:00,  1.71s/it]\n"
     ]
    },
    {
     "name": "stdout",
     "output_type": "stream",
     "text": [
      "Training model 24 with params: {'input_size': 10, 'forecast_horizon': 35, 'hidden_size': 128, 'num_layers': 1, 'model_kind': 'rnn'}\n"
     ]
    },
    {
     "name": "stderr",
     "output_type": "stream",
     "text": [
      "100%|██████████| 50/50 [01:02<00:00,  1.25s/it]\n"
     ]
    },
    {
     "name": "stdout",
     "output_type": "stream",
     "text": [
      "Training model 25 with params: {'input_size': 10, 'forecast_horizon': 35, 'hidden_size': 128, 'num_layers': 1, 'model_kind': 'gru'}\n"
     ]
    },
    {
     "name": "stderr",
     "output_type": "stream",
     "text": [
      "100%|██████████| 50/50 [01:06<00:00,  1.33s/it]\n"
     ]
    },
    {
     "name": "stdout",
     "output_type": "stream",
     "text": [
      "Training model 26 with params: {'input_size': 10, 'forecast_horizon': 35, 'hidden_size': 128, 'num_layers': 3, 'model_kind': 'rnn'}\n"
     ]
    },
    {
     "name": "stderr",
     "output_type": "stream",
     "text": [
      "100%|██████████| 50/50 [01:09<00:00,  1.39s/it]\n"
     ]
    },
    {
     "name": "stdout",
     "output_type": "stream",
     "text": [
      "Training model 27 with params: {'input_size': 10, 'forecast_horizon': 35, 'hidden_size': 128, 'num_layers': 3, 'model_kind': 'gru'}\n"
     ]
    },
    {
     "name": "stderr",
     "output_type": "stream",
     "text": [
      "100%|██████████| 50/50 [01:22<00:00,  1.65s/it]\n"
     ]
    },
    {
     "name": "stdout",
     "output_type": "stream",
     "text": [
      "Training model 28 with params: {'input_size': 10, 'forecast_horizon': 35, 'hidden_size': 128, 'num_layers': 6, 'model_kind': 'rnn'}\n"
     ]
    },
    {
     "name": "stderr",
     "output_type": "stream",
     "text": [
      "100%|██████████| 50/50 [01:18<00:00,  1.56s/it]\n"
     ]
    },
    {
     "name": "stdout",
     "output_type": "stream",
     "text": [
      "Training model 29 with params: {'input_size': 10, 'forecast_horizon': 35, 'hidden_size': 128, 'num_layers': 6, 'model_kind': 'gru'}\n"
     ]
    },
    {
     "name": "stderr",
     "output_type": "stream",
     "text": [
      "100%|██████████| 50/50 [01:43<00:00,  2.07s/it]\n"
     ]
    },
    {
     "name": "stdout",
     "output_type": "stream",
     "text": [
      "Training model 30 with params: {'input_size': 10, 'forecast_horizon': 35, 'hidden_size': 128, 'num_layers': 9, 'model_kind': 'rnn'}\n"
     ]
    },
    {
     "name": "stderr",
     "output_type": "stream",
     "text": [
      "100%|██████████| 50/50 [01:25<00:00,  1.71s/it]\n"
     ]
    },
    {
     "name": "stdout",
     "output_type": "stream",
     "text": [
      "Training model 31 with params: {'input_size': 10, 'forecast_horizon': 35, 'hidden_size': 128, 'num_layers': 9, 'model_kind': 'gru'}\n"
     ]
    },
    {
     "name": "stderr",
     "output_type": "stream",
     "text": [
      "100%|██████████| 50/50 [02:03<00:00,  2.46s/it]\n"
     ]
    }
   ],
   "source": [
    "param_grid = {\n",
    "    'hidden_size' : [16, 32, 64, 128], \n",
    "    'num_layers' : [1, 3, 6, 9],\n",
    "    'model_kind': ['rnn', 'gru']\n",
    "}\n",
    "\n",
    "default_params = {\n",
    "    'input_size' : 10, \n",
    "    'forecast_horizon' : 35\n",
    "}\n",
    "\n",
    "df_dict = {\n",
    "    'train_dl' : train_dl,\n",
    "    'test_dl' : test_dl,\n",
    "    'full_train_dl' : full_train_dl,\n",
    "    'full_test_dl' : full_test_dl,\n",
    "}\n",
    "\n",
    "model_name = \"model_size_test\"\n",
    "\n",
    "model_save_dir = f\"./{model_name}_dir/\"\n",
    "result_json_path = f\"{model_save_dir}{model_name}_results.json\"\n",
    "os.makedirs(model_save_dir, exist_ok=True)\n",
    "\n",
    "model_dict = run_grid_search(\n",
    "    param_grid,\n",
    "        df_dict,\n",
    "        model_name,\n",
    "    model_save_dir,\n",
    "    result_json_path,\n",
    "    default_params\n",
    ")"
   ]
  },
  {
   "cell_type": "code",
   "execution_count": 24,
   "id": "f1caeb0a",
   "metadata": {
    "execution": {
     "iopub.execute_input": "2025-04-11T17:16:31.658213Z",
     "iopub.status.busy": "2025-04-11T17:16:31.657540Z",
     "iopub.status.idle": "2025-04-11T17:16:31.661522Z",
     "shell.execute_reply": "2025-04-11T17:16:31.660731Z"
    },
    "papermill": {
     "duration": 0.096073,
     "end_time": "2025-04-11T17:16:31.662840",
     "exception": false,
     "start_time": "2025-04-11T17:16:31.566767",
     "status": "completed"
    },
    "tags": []
   },
   "outputs": [],
   "source": [
    "# with open('/kaggle/working/model_size_test_dir/model_size_test_results.json', 'r') as f:\n",
    "#     results_dict = json.load(f)"
   ]
  },
  {
   "cell_type": "code",
   "execution_count": 25,
   "id": "03a9d978",
   "metadata": {
    "execution": {
     "iopub.execute_input": "2025-04-11T17:16:31.855688Z",
     "iopub.status.busy": "2025-04-11T17:16:31.855358Z",
     "iopub.status.idle": "2025-04-11T17:16:31.858973Z",
     "shell.execute_reply": "2025-04-11T17:16:31.858149Z"
    },
    "papermill": {
     "duration": 0.10101,
     "end_time": "2025-04-11T17:16:31.860304",
     "exception": false,
     "start_time": "2025-04-11T17:16:31.759294",
     "status": "completed"
    },
    "tags": []
   },
   "outputs": [],
   "source": [
    "# def get_best_index(results_dict):\n",
    "#     best_index_rnn = 0\n",
    "#     best_index_gru = 1\n",
    "#     for i, results in enumerate(results_dict):\n",
    "#         if results['parameters']['model_kind'] == 'rnn':\n",
    "#             if results['results']['test_dl']['0']['r2 score'] > results_dict[best_index_rnn][\n",
    "#             'results']['test_dl']['0']['r2 score']:\n",
    "#                 best_index_rnn = i\n",
    "#         else:\n",
    "#             if results['results']['test_dl']['0']['r2 score'] > results_dict[best_index_rnn][\n",
    "#             'results']['test_dl']['1']['r2 score']:\n",
    "#                 best_index_gru = i\n",
    "#     return best_index_rnn, best_index_gru"
   ]
  },
  {
   "cell_type": "code",
   "execution_count": 26,
   "id": "5afa1865",
   "metadata": {
    "execution": {
     "iopub.execute_input": "2025-04-11T17:16:32.044779Z",
     "iopub.status.busy": "2025-04-11T17:16:32.044455Z",
     "iopub.status.idle": "2025-04-11T17:16:32.048043Z",
     "shell.execute_reply": "2025-04-11T17:16:32.047206Z"
    },
    "papermill": {
     "duration": 0.098199,
     "end_time": "2025-04-11T17:16:32.049510",
     "exception": false,
     "start_time": "2025-04-11T17:16:31.951311",
     "status": "completed"
    },
    "tags": []
   },
   "outputs": [],
   "source": [
    "# get_best_index(results_dict)"
   ]
  },
  {
   "cell_type": "markdown",
   "id": "d01f0f71",
   "metadata": {
    "papermill": {
     "duration": 0.087827,
     "end_time": "2025-04-11T17:16:32.276479",
     "exception": false,
     "start_time": "2025-04-11T17:16:32.188652",
     "status": "completed"
    },
    "tags": []
   },
   "source": [
    "## Ablation 2: Input Sequence Length"
   ]
  },
  {
   "cell_type": "code",
   "execution_count": 27,
   "id": "0b51663d",
   "metadata": {
    "execution": {
     "iopub.execute_input": "2025-04-11T17:16:32.462862Z",
     "iopub.status.busy": "2025-04-11T17:16:32.462539Z",
     "iopub.status.idle": "2025-04-11T17:16:32.466648Z",
     "shell.execute_reply": "2025-04-11T17:16:32.465874Z"
    },
    "papermill": {
     "duration": 0.101455,
     "end_time": "2025-04-11T17:16:32.468026",
     "exception": false,
     "start_time": "2025-04-11T17:16:32.366571",
     "status": "completed"
    },
    "tags": []
   },
   "outputs": [],
   "source": [
    "def get_dl(df, sequence_length=35, forecast_horizon=35):\n",
    "    ds = SequenceDataset(df, sequence_length = sequence_length, forecast_horizon = forecast_horizon)\n",
    "    dl = DataLoader(ds, batch_size = CFG.batch_size, shuffle=True)\n",
    "    return dl"
   ]
  },
  {
   "cell_type": "code",
   "execution_count": 28,
   "id": "3daa92a1",
   "metadata": {
    "execution": {
     "iopub.execute_input": "2025-04-11T17:16:32.648360Z",
     "iopub.status.busy": "2025-04-11T17:16:32.647986Z",
     "iopub.status.idle": "2025-04-11T17:16:32.656842Z",
     "shell.execute_reply": "2025-04-11T17:16:32.656096Z"
    },
    "papermill": {
     "duration": 0.098248,
     "end_time": "2025-04-11T17:16:32.658058",
     "exception": false,
     "start_time": "2025-04-11T17:16:32.559810",
     "status": "completed"
    },
    "tags": []
   },
   "outputs": [],
   "source": [
    "def run_grid_search_df(\n",
    "    param_grid: dict,\n",
    "        df_dict,\n",
    "        model_name,\n",
    "    model_save_dir: str,\n",
    "    result_json_path: str,\n",
    "    default_params: dict = None,\n",
    "    model_params: dict = None,\n",
    "):\n",
    "    from copy import deepcopy\n",
    "\n",
    "    # Generate all parameter combinations\n",
    "    keys, values = zip(*param_grid.items())\n",
    "    \n",
    "    param_combinations = [\n",
    "        {**(default_params or {}), **dict(zip(keys, v))}\n",
    "        for v in itertools.product(*values)\n",
    "    ]\n",
    "    \n",
    "    model_dict = {}\n",
    "    results_list = []\n",
    "    \n",
    "    for idx, param_set in enumerate(param_combinations):\n",
    "        print(f\"Training model on dataset {idx} with params: {param_set}\")\n",
    "\n",
    "        model = get_model(**model_params)\n",
    "\n",
    "        ds_dict = {\n",
    "            k : get_dl(df = v, **param_set)\n",
    "            for k, v in df_dict.items()\n",
    "        }\n",
    "        \n",
    "        criterion = MaskedMSELoss().to(device)\n",
    "        optimizer = get_optimizer(model, lr = CFG.lr)\n",
    "        scheduler = get_reduce_lr(optimizer, factor=CFG.factor, patience=CFG.patience)\n",
    "        \n",
    "        loss_list, val_loss_list, all_loss_list = train(\n",
    "            model,\n",
    "            criterion,\n",
    "            optimizer,\n",
    "            num_epochs=CFG.num_epochs,\n",
    "            train_dataloader=ds_dict['train_dl'],\n",
    "            val_dataloader=ds_dict['test_dl'],\n",
    "            scheduler=scheduler,\n",
    "            do_validate=True,\n",
    "            validate_frequency=1,\n",
    "            verbose=-2,\n",
    "            model_name=model_save_dir + f\"{model_name}_{idx}_\"\n",
    "        )\n",
    "        \n",
    "        model_path = model_save_dir + f\"final_{model_name}_{idx}.pth\"\n",
    "        torch.save(model.state_dict(), model_path)\n",
    "        model_dict[idx] = model\n",
    "        \n",
    "        result_metrics = {}\n",
    "        paths = ['best', '2_5', '10']\n",
    "        for p in paths:\n",
    "            result_metrics[p] = {}\n",
    "            model_state_dict = torch.load(model_save_dir + f\"{model_name}_{idx}_{p}.pth\")\n",
    "            model.load_state_dict(model_state_dict)\n",
    "            \n",
    "            for df_name, df1 in ds_dict.items():\n",
    "                result_metrics[p][df_name] = predict_eval(model, df1, criterion, verbose=False)\n",
    "\n",
    "        results_list.append({\n",
    "            \"model_index\": idx,\n",
    "            \"model_name\": model_path,\n",
    "            \"parameters\": deepcopy(param_set),\n",
    "            \"results\": result_metrics\n",
    "        })\n",
    "\n",
    "    with open(result_json_path, \"w\") as f:\n",
    "        json.dump(results_list, f, indent=4)\n",
    "\n",
    "    return model_dict\n"
   ]
  },
  {
   "cell_type": "code",
   "execution_count": 29,
   "id": "6c8d6533",
   "metadata": {
    "execution": {
     "iopub.execute_input": "2025-04-11T17:16:32.832987Z",
     "iopub.status.busy": "2025-04-11T17:16:32.832673Z",
     "iopub.status.idle": "2025-04-11T17:23:07.215076Z",
     "shell.execute_reply": "2025-04-11T17:23:07.214248Z"
    },
    "papermill": {
     "duration": 394.471737,
     "end_time": "2025-04-11T17:23:07.216744",
     "exception": false,
     "start_time": "2025-04-11T17:16:32.745007",
     "status": "completed"
    },
    "tags": []
   },
   "outputs": [
    {
     "name": "stdout",
     "output_type": "stream",
     "text": [
      "Training model on dataset 0 with params: {'sequence_length': 35}\n"
     ]
    },
    {
     "name": "stderr",
     "output_type": "stream",
     "text": [
      "100%|██████████| 50/50 [01:07<00:00,  1.34s/it]\n",
      "<ipython-input-28-03f43a5151d9>:59: FutureWarning: You are using `torch.load` with `weights_only=False` (the current default value), which uses the default pickle module implicitly. It is possible to construct malicious pickle data which will execute arbitrary code during unpickling (See https://github.com/pytorch/pytorch/blob/main/SECURITY.md#untrusted-models for more details). In a future release, the default value for `weights_only` will be flipped to `True`. This limits the functions that could be executed during unpickling. Arbitrary objects will no longer be allowed to be loaded via this mode unless they are explicitly allowlisted by the user via `torch.serialization.add_safe_globals`. We recommend you start setting `weights_only=True` for any use case where you don't have full control of the loaded file. Please open an issue on GitHub for any issues related to this experimental feature.\n",
      "  model_state_dict = torch.load(model_save_dir + f\"{model_name}_{idx}_{p}.pth\")\n"
     ]
    },
    {
     "name": "stdout",
     "output_type": "stream",
     "text": [
      "Training model on dataset 1 with params: {'sequence_length': 70}\n"
     ]
    },
    {
     "name": "stderr",
     "output_type": "stream",
     "text": [
      "100%|██████████| 50/50 [01:06<00:00,  1.33s/it]\n",
      "<ipython-input-28-03f43a5151d9>:59: FutureWarning: You are using `torch.load` with `weights_only=False` (the current default value), which uses the default pickle module implicitly. It is possible to construct malicious pickle data which will execute arbitrary code during unpickling (See https://github.com/pytorch/pytorch/blob/main/SECURITY.md#untrusted-models for more details). In a future release, the default value for `weights_only` will be flipped to `True`. This limits the functions that could be executed during unpickling. Arbitrary objects will no longer be allowed to be loaded via this mode unless they are explicitly allowlisted by the user via `torch.serialization.add_safe_globals`. We recommend you start setting `weights_only=True` for any use case where you don't have full control of the loaded file. Please open an issue on GitHub for any issues related to this experimental feature.\n",
      "  model_state_dict = torch.load(model_save_dir + f\"{model_name}_{idx}_{p}.pth\")\n"
     ]
    },
    {
     "name": "stdout",
     "output_type": "stream",
     "text": [
      "Training model on dataset 2 with params: {'sequence_length': 105}\n"
     ]
    },
    {
     "name": "stderr",
     "output_type": "stream",
     "text": [
      "100%|██████████| 50/50 [01:04<00:00,  1.29s/it]\n",
      "<ipython-input-28-03f43a5151d9>:59: FutureWarning: You are using `torch.load` with `weights_only=False` (the current default value), which uses the default pickle module implicitly. It is possible to construct malicious pickle data which will execute arbitrary code during unpickling (See https://github.com/pytorch/pytorch/blob/main/SECURITY.md#untrusted-models for more details). In a future release, the default value for `weights_only` will be flipped to `True`. This limits the functions that could be executed during unpickling. Arbitrary objects will no longer be allowed to be loaded via this mode unless they are explicitly allowlisted by the user via `torch.serialization.add_safe_globals`. We recommend you start setting `weights_only=True` for any use case where you don't have full control of the loaded file. Please open an issue on GitHub for any issues related to this experimental feature.\n",
      "  model_state_dict = torch.load(model_save_dir + f\"{model_name}_{idx}_{p}.pth\")\n"
     ]
    },
    {
     "name": "stdout",
     "output_type": "stream",
     "text": [
      "Training model on dataset 3 with params: {'sequence_length': 140}\n"
     ]
    },
    {
     "name": "stderr",
     "output_type": "stream",
     "text": [
      "100%|██████████| 50/50 [01:04<00:00,  1.28s/it]\n",
      "<ipython-input-28-03f43a5151d9>:59: FutureWarning: You are using `torch.load` with `weights_only=False` (the current default value), which uses the default pickle module implicitly. It is possible to construct malicious pickle data which will execute arbitrary code during unpickling (See https://github.com/pytorch/pytorch/blob/main/SECURITY.md#untrusted-models for more details). In a future release, the default value for `weights_only` will be flipped to `True`. This limits the functions that could be executed during unpickling. Arbitrary objects will no longer be allowed to be loaded via this mode unless they are explicitly allowlisted by the user via `torch.serialization.add_safe_globals`. We recommend you start setting `weights_only=True` for any use case where you don't have full control of the loaded file. Please open an issue on GitHub for any issues related to this experimental feature.\n",
      "  model_state_dict = torch.load(model_save_dir + f\"{model_name}_{idx}_{p}.pth\")\n"
     ]
    },
    {
     "name": "stdout",
     "output_type": "stream",
     "text": [
      "Training model on dataset 4 with params: {'sequence_length': 175}\n"
     ]
    },
    {
     "name": "stderr",
     "output_type": "stream",
     "text": [
      "100%|██████████| 50/50 [01:04<00:00,  1.29s/it]\n",
      "<ipython-input-28-03f43a5151d9>:59: FutureWarning: You are using `torch.load` with `weights_only=False` (the current default value), which uses the default pickle module implicitly. It is possible to construct malicious pickle data which will execute arbitrary code during unpickling (See https://github.com/pytorch/pytorch/blob/main/SECURITY.md#untrusted-models for more details). In a future release, the default value for `weights_only` will be flipped to `True`. This limits the functions that could be executed during unpickling. Arbitrary objects will no longer be allowed to be loaded via this mode unless they are explicitly allowlisted by the user via `torch.serialization.add_safe_globals`. We recommend you start setting `weights_only=True` for any use case where you don't have full control of the loaded file. Please open an issue on GitHub for any issues related to this experimental feature.\n",
      "  model_state_dict = torch.load(model_save_dir + f\"{model_name}_{idx}_{p}.pth\")\n"
     ]
    }
   ],
   "source": [
    "param_grid = {\n",
    "    'sequence_length' : [35, 70, 105, 140, 175], \n",
    "}\n",
    "\n",
    "default_params = {\n",
    "    'input_size' : 10, \n",
    "    'forecast_horizon' : 35\n",
    "}\n",
    "\n",
    "model_params = {\n",
    "    'input_size': 10,\n",
    "    'forecast_horizon': 35,\n",
    "    'num_layers': 3,\n",
    "    'hidden_size': 64,\n",
    "    'model_kind': 'rnn'\n",
    "}\n",
    "\n",
    "df_dict = {\n",
    "    'train_dl' : df[df['date_value'] <= max_train_date],\n",
    "    'test_dl' : df[df['date_value'] > max_train_date],\n",
    "    'full_train_dl' : full_df[full_df['date_value'] <= max_train_date],\n",
    "    'full_test_dl' : full_df[full_df['date_value'] > max_train_date],\n",
    "}\n",
    "\n",
    "model_name = \"rnn_sequence_length_test\"\n",
    "\n",
    "model_save_dir = f\"./{model_name}_dir/\"\n",
    "result_json_path = f\"{model_save_dir}{model_name}_results.json\"\n",
    "os.makedirs(model_save_dir, exist_ok=True)\n",
    "\n",
    "model_dict1 = run_grid_search_df(\n",
    "    param_grid,\n",
    "        df_dict,\n",
    "        model_name,\n",
    "    model_save_dir,\n",
    "    result_json_path,\n",
    "    default_params=None,\n",
    "    model_params = model_params,\n",
    ")"
   ]
  },
  {
   "cell_type": "code",
   "execution_count": 30,
   "id": "1c0fe2af",
   "metadata": {
    "execution": {
     "iopub.execute_input": "2025-04-11T17:23:07.422711Z",
     "iopub.status.busy": "2025-04-11T17:23:07.422366Z",
     "iopub.status.idle": "2025-04-11T17:30:10.643708Z",
     "shell.execute_reply": "2025-04-11T17:30:10.642735Z"
    },
    "papermill": {
     "duration": 423.324803,
     "end_time": "2025-04-11T17:30:10.645607",
     "exception": false,
     "start_time": "2025-04-11T17:23:07.320804",
     "status": "completed"
    },
    "tags": []
   },
   "outputs": [
    {
     "name": "stdout",
     "output_type": "stream",
     "text": [
      "Training model on dataset 0 with params: {'sequence_length': 35}\n"
     ]
    },
    {
     "name": "stderr",
     "output_type": "stream",
     "text": [
      "100%|██████████| 50/50 [01:08<00:00,  1.37s/it]\n",
      "<ipython-input-28-03f43a5151d9>:59: FutureWarning: You are using `torch.load` with `weights_only=False` (the current default value), which uses the default pickle module implicitly. It is possible to construct malicious pickle data which will execute arbitrary code during unpickling (See https://github.com/pytorch/pytorch/blob/main/SECURITY.md#untrusted-models for more details). In a future release, the default value for `weights_only` will be flipped to `True`. This limits the functions that could be executed during unpickling. Arbitrary objects will no longer be allowed to be loaded via this mode unless they are explicitly allowlisted by the user via `torch.serialization.add_safe_globals`. We recommend you start setting `weights_only=True` for any use case where you don't have full control of the loaded file. Please open an issue on GitHub for any issues related to this experimental feature.\n",
      "  model_state_dict = torch.load(model_save_dir + f\"{model_name}_{idx}_{p}.pth\")\n"
     ]
    },
    {
     "name": "stdout",
     "output_type": "stream",
     "text": [
      "Training model on dataset 1 with params: {'sequence_length': 70}\n"
     ]
    },
    {
     "name": "stderr",
     "output_type": "stream",
     "text": [
      "100%|██████████| 50/50 [01:07<00:00,  1.35s/it]\n",
      "<ipython-input-28-03f43a5151d9>:59: FutureWarning: You are using `torch.load` with `weights_only=False` (the current default value), which uses the default pickle module implicitly. It is possible to construct malicious pickle data which will execute arbitrary code during unpickling (See https://github.com/pytorch/pytorch/blob/main/SECURITY.md#untrusted-models for more details). In a future release, the default value for `weights_only` will be flipped to `True`. This limits the functions that could be executed during unpickling. Arbitrary objects will no longer be allowed to be loaded via this mode unless they are explicitly allowlisted by the user via `torch.serialization.add_safe_globals`. We recommend you start setting `weights_only=True` for any use case where you don't have full control of the loaded file. Please open an issue on GitHub for any issues related to this experimental feature.\n",
      "  model_state_dict = torch.load(model_save_dir + f\"{model_name}_{idx}_{p}.pth\")\n"
     ]
    },
    {
     "name": "stdout",
     "output_type": "stream",
     "text": [
      "Training model on dataset 2 with params: {'sequence_length': 105}\n"
     ]
    },
    {
     "name": "stderr",
     "output_type": "stream",
     "text": [
      "100%|██████████| 50/50 [01:09<00:00,  1.39s/it]\n",
      "<ipython-input-28-03f43a5151d9>:59: FutureWarning: You are using `torch.load` with `weights_only=False` (the current default value), which uses the default pickle module implicitly. It is possible to construct malicious pickle data which will execute arbitrary code during unpickling (See https://github.com/pytorch/pytorch/blob/main/SECURITY.md#untrusted-models for more details). In a future release, the default value for `weights_only` will be flipped to `True`. This limits the functions that could be executed during unpickling. Arbitrary objects will no longer be allowed to be loaded via this mode unless they are explicitly allowlisted by the user via `torch.serialization.add_safe_globals`. We recommend you start setting `weights_only=True` for any use case where you don't have full control of the loaded file. Please open an issue on GitHub for any issues related to this experimental feature.\n",
      "  model_state_dict = torch.load(model_save_dir + f\"{model_name}_{idx}_{p}.pth\")\n"
     ]
    },
    {
     "name": "stdout",
     "output_type": "stream",
     "text": [
      "Training model on dataset 3 with params: {'sequence_length': 140}\n"
     ]
    },
    {
     "name": "stderr",
     "output_type": "stream",
     "text": [
      "100%|██████████| 50/50 [01:12<00:00,  1.44s/it]\n",
      "<ipython-input-28-03f43a5151d9>:59: FutureWarning: You are using `torch.load` with `weights_only=False` (the current default value), which uses the default pickle module implicitly. It is possible to construct malicious pickle data which will execute arbitrary code during unpickling (See https://github.com/pytorch/pytorch/blob/main/SECURITY.md#untrusted-models for more details). In a future release, the default value for `weights_only` will be flipped to `True`. This limits the functions that could be executed during unpickling. Arbitrary objects will no longer be allowed to be loaded via this mode unless they are explicitly allowlisted by the user via `torch.serialization.add_safe_globals`. We recommend you start setting `weights_only=True` for any use case where you don't have full control of the loaded file. Please open an issue on GitHub for any issues related to this experimental feature.\n",
      "  model_state_dict = torch.load(model_save_dir + f\"{model_name}_{idx}_{p}.pth\")\n"
     ]
    },
    {
     "name": "stdout",
     "output_type": "stream",
     "text": [
      "Training model on dataset 4 with params: {'sequence_length': 175}\n"
     ]
    },
    {
     "name": "stderr",
     "output_type": "stream",
     "text": [
      "100%|██████████| 50/50 [01:15<00:00,  1.51s/it]\n",
      "<ipython-input-28-03f43a5151d9>:59: FutureWarning: You are using `torch.load` with `weights_only=False` (the current default value), which uses the default pickle module implicitly. It is possible to construct malicious pickle data which will execute arbitrary code during unpickling (See https://github.com/pytorch/pytorch/blob/main/SECURITY.md#untrusted-models for more details). In a future release, the default value for `weights_only` will be flipped to `True`. This limits the functions that could be executed during unpickling. Arbitrary objects will no longer be allowed to be loaded via this mode unless they are explicitly allowlisted by the user via `torch.serialization.add_safe_globals`. We recommend you start setting `weights_only=True` for any use case where you don't have full control of the loaded file. Please open an issue on GitHub for any issues related to this experimental feature.\n",
      "  model_state_dict = torch.load(model_save_dir + f\"{model_name}_{idx}_{p}.pth\")\n"
     ]
    }
   ],
   "source": [
    "model_params = {\n",
    "    'input_size': 10,\n",
    "    'forecast_horizon': 35,\n",
    "    'num_layers': 3,\n",
    "    'hidden_size': 64,\n",
    "    'model_kind': 'gru'\n",
    "}\n",
    "\n",
    "df_dict = {\n",
    "    'train_dl' : df[df['date_value'] <= max_train_date],\n",
    "    'test_dl' : df[df['date_value'] > max_train_date],\n",
    "    'full_train_dl' : full_df[full_df['date_value'] <= max_train_date],\n",
    "    'full_test_dl' : full_df[full_df['date_value'] > max_train_date],\n",
    "}\n",
    "\n",
    "model_name = \"gru_sequence_length_test\"\n",
    "\n",
    "model_save_dir = f\"./{model_name}_dir/\"\n",
    "result_json_path = f\"{model_save_dir}{model_name}_results.json\"\n",
    "os.makedirs(model_save_dir, exist_ok=True)\n",
    "\n",
    "model_dict1 = run_grid_search_df(\n",
    "    param_grid,\n",
    "        df_dict,\n",
    "        model_name,\n",
    "    model_save_dir,\n",
    "    result_json_path,\n",
    "    default_params=None,\n",
    "    model_params = model_params,\n",
    ")"
   ]
  },
  {
   "cell_type": "markdown",
   "id": "3cfac0d9",
   "metadata": {
    "papermill": {
     "duration": 0.12163,
     "end_time": "2025-04-11T17:30:10.889162",
     "exception": false,
     "start_time": "2025-04-11T17:30:10.767532",
     "status": "completed"
    },
    "tags": []
   },
   "source": [
    "## Ablation 3: Forecast Horizon"
   ]
  },
  {
   "cell_type": "code",
   "execution_count": 31,
   "id": "0b45468c",
   "metadata": {
    "execution": {
     "iopub.execute_input": "2025-04-11T17:30:11.133881Z",
     "iopub.status.busy": "2025-04-11T17:30:11.133549Z",
     "iopub.status.idle": "2025-04-11T17:30:11.142763Z",
     "shell.execute_reply": "2025-04-11T17:30:11.141698Z"
    },
    "papermill": {
     "duration": 0.135667,
     "end_time": "2025-04-11T17:30:11.144349",
     "exception": false,
     "start_time": "2025-04-11T17:30:11.008682",
     "status": "completed"
    },
    "tags": []
   },
   "outputs": [],
   "source": [
    "def run_grid_search_horizon(\n",
    "    horizon_values,\n",
    "        df_dict,\n",
    "        model_name,\n",
    "    model_save_dir: str,\n",
    "    result_json_path: str,\n",
    "    df_params: dict = None,\n",
    "    model_params: dict = None,\n",
    "):    \n",
    "    model_dict = {}\n",
    "    results_list = []\n",
    "    \n",
    "    for idx, h in enumerate(horizon_values):\n",
    "        print(f\"Training model on dataset {idx} with horizon: {h}\")\n",
    "\n",
    "        model = get_model(forecast_horizon=h, **model_params)\n",
    "\n",
    "        ds_dict = {\n",
    "            k : get_dl(df = v, forecast_horizon = h, **df_params)\n",
    "            for k, v in df_dict.items()\n",
    "        }\n",
    "        \n",
    "        criterion = MaskedMSELoss().to(device)\n",
    "        optimizer = get_optimizer(model, lr = CFG.lr)\n",
    "        scheduler = get_reduce_lr(optimizer, factor=CFG.factor, patience=CFG.patience)\n",
    "        \n",
    "        loss_list, val_loss_list, all_loss_list = train(\n",
    "            model,\n",
    "            criterion,\n",
    "            optimizer,\n",
    "            num_epochs=CFG.num_epochs,\n",
    "            train_dataloader=ds_dict['train_dl'],\n",
    "            val_dataloader=ds_dict['test_dl'],\n",
    "            scheduler=scheduler,\n",
    "            do_validate=True,\n",
    "            validate_frequency=1,\n",
    "            verbose=-2,\n",
    "            model_name=model_save_dir + f\"{model_name}_{idx}_\"\n",
    "        )\n",
    "        \n",
    "        model_path = model_save_dir + f\"final_{model_name}_{idx}.pt\"\n",
    "        torch.save(model.state_dict(), model_path)\n",
    "        model_dict[idx] = model\n",
    "        \n",
    "        result_metrics = {}\n",
    "        paths = ['best', '2_5', '10']\n",
    "        for p in paths:\n",
    "            result_metrics[p] = {}\n",
    "            model_state_dict = torch.load(model_save_dir + f\"{model_name}_{idx}_{p}.pth\")\n",
    "            model.load_state_dict(model_state_dict)\n",
    "            \n",
    "            for df_name, df1 in ds_dict.items():\n",
    "                result_metrics[p][df_name] = predict_eval(model, df1, criterion, verbose=False)\n",
    "\n",
    "        results_list.append({\n",
    "            \"model_index\": idx,\n",
    "            \"model_name\": model_path,\n",
    "            \"horizon\": h,\n",
    "            \"params\" : model_params,\n",
    "            \"results\": result_metrics\n",
    "        })\n",
    "\n",
    "    with open(result_json_path, \"w\") as f:\n",
    "        json.dump(results_list, f, indent=4)\n",
    "\n",
    "    return model_dict\n"
   ]
  },
  {
   "cell_type": "code",
   "execution_count": 32,
   "id": "1e82490e",
   "metadata": {
    "execution": {
     "iopub.execute_input": "2025-04-11T17:30:11.442570Z",
     "iopub.status.busy": "2025-04-11T17:30:11.442188Z",
     "iopub.status.idle": "2025-04-11T17:36:36.331987Z",
     "shell.execute_reply": "2025-04-11T17:36:36.330848Z"
    },
    "papermill": {
     "duration": 385.065595,
     "end_time": "2025-04-11T17:36:36.333682",
     "exception": false,
     "start_time": "2025-04-11T17:30:11.268087",
     "status": "completed"
    },
    "tags": []
   },
   "outputs": [
    {
     "name": "stdout",
     "output_type": "stream",
     "text": [
      "Training model on dataset 0 with horizon: 35\n"
     ]
    },
    {
     "name": "stderr",
     "output_type": "stream",
     "text": [
      "100%|██████████| 50/50 [01:07<00:00,  1.34s/it]\n",
      "<ipython-input-31-c7319f056be7>:49: FutureWarning: You are using `torch.load` with `weights_only=False` (the current default value), which uses the default pickle module implicitly. It is possible to construct malicious pickle data which will execute arbitrary code during unpickling (See https://github.com/pytorch/pytorch/blob/main/SECURITY.md#untrusted-models for more details). In a future release, the default value for `weights_only` will be flipped to `True`. This limits the functions that could be executed during unpickling. Arbitrary objects will no longer be allowed to be loaded via this mode unless they are explicitly allowlisted by the user via `torch.serialization.add_safe_globals`. We recommend you start setting `weights_only=True` for any use case where you don't have full control of the loaded file. Please open an issue on GitHub for any issues related to this experimental feature.\n",
      "  model_state_dict = torch.load(model_save_dir + f\"{model_name}_{idx}_{p}.pth\")\n"
     ]
    },
    {
     "name": "stdout",
     "output_type": "stream",
     "text": [
      "Training model on dataset 1 with horizon: 70\n"
     ]
    },
    {
     "name": "stderr",
     "output_type": "stream",
     "text": [
      "100%|██████████| 50/50 [01:06<00:00,  1.33s/it]\n",
      "<ipython-input-31-c7319f056be7>:49: FutureWarning: You are using `torch.load` with `weights_only=False` (the current default value), which uses the default pickle module implicitly. It is possible to construct malicious pickle data which will execute arbitrary code during unpickling (See https://github.com/pytorch/pytorch/blob/main/SECURITY.md#untrusted-models for more details). In a future release, the default value for `weights_only` will be flipped to `True`. This limits the functions that could be executed during unpickling. Arbitrary objects will no longer be allowed to be loaded via this mode unless they are explicitly allowlisted by the user via `torch.serialization.add_safe_globals`. We recommend you start setting `weights_only=True` for any use case where you don't have full control of the loaded file. Please open an issue on GitHub for any issues related to this experimental feature.\n",
      "  model_state_dict = torch.load(model_save_dir + f\"{model_name}_{idx}_{p}.pth\")\n"
     ]
    },
    {
     "name": "stdout",
     "output_type": "stream",
     "text": [
      "Training model on dataset 2 with horizon: 105\n"
     ]
    },
    {
     "name": "stderr",
     "output_type": "stream",
     "text": [
      "100%|██████████| 50/50 [01:03<00:00,  1.26s/it]\n",
      "<ipython-input-31-c7319f056be7>:49: FutureWarning: You are using `torch.load` with `weights_only=False` (the current default value), which uses the default pickle module implicitly. It is possible to construct malicious pickle data which will execute arbitrary code during unpickling (See https://github.com/pytorch/pytorch/blob/main/SECURITY.md#untrusted-models for more details). In a future release, the default value for `weights_only` will be flipped to `True`. This limits the functions that could be executed during unpickling. Arbitrary objects will no longer be allowed to be loaded via this mode unless they are explicitly allowlisted by the user via `torch.serialization.add_safe_globals`. We recommend you start setting `weights_only=True` for any use case where you don't have full control of the loaded file. Please open an issue on GitHub for any issues related to this experimental feature.\n",
      "  model_state_dict = torch.load(model_save_dir + f\"{model_name}_{idx}_{p}.pth\")\n"
     ]
    },
    {
     "name": "stdout",
     "output_type": "stream",
     "text": [
      "Training model on dataset 3 with horizon: 140\n"
     ]
    },
    {
     "name": "stderr",
     "output_type": "stream",
     "text": [
      "100%|██████████| 50/50 [01:01<00:00,  1.23s/it]\n",
      "<ipython-input-31-c7319f056be7>:49: FutureWarning: You are using `torch.load` with `weights_only=False` (the current default value), which uses the default pickle module implicitly. It is possible to construct malicious pickle data which will execute arbitrary code during unpickling (See https://github.com/pytorch/pytorch/blob/main/SECURITY.md#untrusted-models for more details). In a future release, the default value for `weights_only` will be flipped to `True`. This limits the functions that could be executed during unpickling. Arbitrary objects will no longer be allowed to be loaded via this mode unless they are explicitly allowlisted by the user via `torch.serialization.add_safe_globals`. We recommend you start setting `weights_only=True` for any use case where you don't have full control of the loaded file. Please open an issue on GitHub for any issues related to this experimental feature.\n",
      "  model_state_dict = torch.load(model_save_dir + f\"{model_name}_{idx}_{p}.pth\")\n"
     ]
    },
    {
     "name": "stdout",
     "output_type": "stream",
     "text": [
      "Training model on dataset 4 with horizon: 175\n"
     ]
    },
    {
     "name": "stderr",
     "output_type": "stream",
     "text": [
      "100%|██████████| 50/50 [01:00<00:00,  1.21s/it]\n",
      "<ipython-input-31-c7319f056be7>:49: FutureWarning: You are using `torch.load` with `weights_only=False` (the current default value), which uses the default pickle module implicitly. It is possible to construct malicious pickle data which will execute arbitrary code during unpickling (See https://github.com/pytorch/pytorch/blob/main/SECURITY.md#untrusted-models for more details). In a future release, the default value for `weights_only` will be flipped to `True`. This limits the functions that could be executed during unpickling. Arbitrary objects will no longer be allowed to be loaded via this mode unless they are explicitly allowlisted by the user via `torch.serialization.add_safe_globals`. We recommend you start setting `weights_only=True` for any use case where you don't have full control of the loaded file. Please open an issue on GitHub for any issues related to this experimental feature.\n",
      "  model_state_dict = torch.load(model_save_dir + f\"{model_name}_{idx}_{p}.pth\")\n"
     ]
    }
   ],
   "source": [
    "horizon_values = [35, 70, 105, 140, 175]\n",
    "\n",
    "model_params = {\n",
    "    'input_size': 10,\n",
    "    'num_layers': 3,\n",
    "    'hidden_size': 64,\n",
    "    'model_kind': 'rnn'\n",
    "}\n",
    "\n",
    "df_dict = {\n",
    "    'train_dl' : df[df['date_value'] <= max_train_date],\n",
    "    'test_dl' : df[df['date_value'] > max_train_date],\n",
    "    'full_train_dl' : full_df[full_df['date_value'] <= max_train_date],\n",
    "    'full_test_dl' : full_df[full_df['date_value'] > max_train_date],\n",
    "}\n",
    "\n",
    "df_params = {\n",
    "    'sequence_length' : 105,\n",
    "}\n",
    "\n",
    "model_name = \"rnn_forecast_horizon_test\"\n",
    "\n",
    "model_save_dir = f\"./{model_name}_dir/\"\n",
    "result_json_path = f\"{model_save_dir}{model_name}_results.json\"\n",
    "os.makedirs(model_save_dir, exist_ok=True)\n",
    "\n",
    "model_dict2 = run_grid_search_horizon(\n",
    "    horizon_values,\n",
    "        df_dict,\n",
    "        model_name,\n",
    "    model_save_dir,\n",
    "    result_json_path,\n",
    "    df_params=df_params,\n",
    "    model_params = model_params,\n",
    ")"
   ]
  },
  {
   "cell_type": "code",
   "execution_count": 33,
   "id": "56778885",
   "metadata": {
    "execution": {
     "iopub.execute_input": "2025-04-11T17:36:36.586557Z",
     "iopub.status.busy": "2025-04-11T17:36:36.586208Z",
     "iopub.status.idle": "2025-04-11T17:43:23.421698Z",
     "shell.execute_reply": "2025-04-11T17:43:23.420701Z"
    },
    "papermill": {
     "duration": 406.961287,
     "end_time": "2025-04-11T17:43:23.423447",
     "exception": false,
     "start_time": "2025-04-11T17:36:36.462160",
     "status": "completed"
    },
    "tags": []
   },
   "outputs": [
    {
     "name": "stdout",
     "output_type": "stream",
     "text": [
      "Training model on dataset 0 with horizon: 35\n"
     ]
    },
    {
     "name": "stderr",
     "output_type": "stream",
     "text": [
      "100%|██████████| 50/50 [01:09<00:00,  1.39s/it]\n",
      "<ipython-input-31-c7319f056be7>:49: FutureWarning: You are using `torch.load` with `weights_only=False` (the current default value), which uses the default pickle module implicitly. It is possible to construct malicious pickle data which will execute arbitrary code during unpickling (See https://github.com/pytorch/pytorch/blob/main/SECURITY.md#untrusted-models for more details). In a future release, the default value for `weights_only` will be flipped to `True`. This limits the functions that could be executed during unpickling. Arbitrary objects will no longer be allowed to be loaded via this mode unless they are explicitly allowlisted by the user via `torch.serialization.add_safe_globals`. We recommend you start setting `weights_only=True` for any use case where you don't have full control of the loaded file. Please open an issue on GitHub for any issues related to this experimental feature.\n",
      "  model_state_dict = torch.load(model_save_dir + f\"{model_name}_{idx}_{p}.pth\")\n"
     ]
    },
    {
     "name": "stdout",
     "output_type": "stream",
     "text": [
      "Training model on dataset 1 with horizon: 70\n"
     ]
    },
    {
     "name": "stderr",
     "output_type": "stream",
     "text": [
      "100%|██████████| 50/50 [01:10<00:00,  1.40s/it]\n",
      "<ipython-input-31-c7319f056be7>:49: FutureWarning: You are using `torch.load` with `weights_only=False` (the current default value), which uses the default pickle module implicitly. It is possible to construct malicious pickle data which will execute arbitrary code during unpickling (See https://github.com/pytorch/pytorch/blob/main/SECURITY.md#untrusted-models for more details). In a future release, the default value for `weights_only` will be flipped to `True`. This limits the functions that could be executed during unpickling. Arbitrary objects will no longer be allowed to be loaded via this mode unless they are explicitly allowlisted by the user via `torch.serialization.add_safe_globals`. We recommend you start setting `weights_only=True` for any use case where you don't have full control of the loaded file. Please open an issue on GitHub for any issues related to this experimental feature.\n",
      "  model_state_dict = torch.load(model_save_dir + f\"{model_name}_{idx}_{p}.pth\")\n"
     ]
    },
    {
     "name": "stdout",
     "output_type": "stream",
     "text": [
      "Training model on dataset 2 with horizon: 105\n"
     ]
    },
    {
     "name": "stderr",
     "output_type": "stream",
     "text": [
      "100%|██████████| 50/50 [01:07<00:00,  1.35s/it]\n",
      "<ipython-input-31-c7319f056be7>:49: FutureWarning: You are using `torch.load` with `weights_only=False` (the current default value), which uses the default pickle module implicitly. It is possible to construct malicious pickle data which will execute arbitrary code during unpickling (See https://github.com/pytorch/pytorch/blob/main/SECURITY.md#untrusted-models for more details). In a future release, the default value for `weights_only` will be flipped to `True`. This limits the functions that could be executed during unpickling. Arbitrary objects will no longer be allowed to be loaded via this mode unless they are explicitly allowlisted by the user via `torch.serialization.add_safe_globals`. We recommend you start setting `weights_only=True` for any use case where you don't have full control of the loaded file. Please open an issue on GitHub for any issues related to this experimental feature.\n",
      "  model_state_dict = torch.load(model_save_dir + f\"{model_name}_{idx}_{p}.pth\")\n"
     ]
    },
    {
     "name": "stdout",
     "output_type": "stream",
     "text": [
      "Training model on dataset 3 with horizon: 140\n"
     ]
    },
    {
     "name": "stderr",
     "output_type": "stream",
     "text": [
      "100%|██████████| 50/50 [01:06<00:00,  1.34s/it]\n",
      "<ipython-input-31-c7319f056be7>:49: FutureWarning: You are using `torch.load` with `weights_only=False` (the current default value), which uses the default pickle module implicitly. It is possible to construct malicious pickle data which will execute arbitrary code during unpickling (See https://github.com/pytorch/pytorch/blob/main/SECURITY.md#untrusted-models for more details). In a future release, the default value for `weights_only` will be flipped to `True`. This limits the functions that could be executed during unpickling. Arbitrary objects will no longer be allowed to be loaded via this mode unless they are explicitly allowlisted by the user via `torch.serialization.add_safe_globals`. We recommend you start setting `weights_only=True` for any use case where you don't have full control of the loaded file. Please open an issue on GitHub for any issues related to this experimental feature.\n",
      "  model_state_dict = torch.load(model_save_dir + f\"{model_name}_{idx}_{p}.pth\")\n"
     ]
    },
    {
     "name": "stdout",
     "output_type": "stream",
     "text": [
      "Training model on dataset 4 with horizon: 175\n"
     ]
    },
    {
     "name": "stderr",
     "output_type": "stream",
     "text": [
      "100%|██████████| 50/50 [01:05<00:00,  1.31s/it]\n",
      "<ipython-input-31-c7319f056be7>:49: FutureWarning: You are using `torch.load` with `weights_only=False` (the current default value), which uses the default pickle module implicitly. It is possible to construct malicious pickle data which will execute arbitrary code during unpickling (See https://github.com/pytorch/pytorch/blob/main/SECURITY.md#untrusted-models for more details). In a future release, the default value for `weights_only` will be flipped to `True`. This limits the functions that could be executed during unpickling. Arbitrary objects will no longer be allowed to be loaded via this mode unless they are explicitly allowlisted by the user via `torch.serialization.add_safe_globals`. We recommend you start setting `weights_only=True` for any use case where you don't have full control of the loaded file. Please open an issue on GitHub for any issues related to this experimental feature.\n",
      "  model_state_dict = torch.load(model_save_dir + f\"{model_name}_{idx}_{p}.pth\")\n"
     ]
    }
   ],
   "source": [
    "model_params = {\n",
    "    'input_size': 10,\n",
    "    'num_layers': 3,\n",
    "    'hidden_size': 64,\n",
    "    'model_kind': 'gru'\n",
    "}\n",
    "\n",
    "df_dict = {\n",
    "    'train_dl' : df[df['date_value'] <= max_train_date],\n",
    "    'test_dl' : df[df['date_value'] > max_train_date],\n",
    "    'full_train_dl' : full_df[full_df['date_value'] <= max_train_date],\n",
    "    'full_test_dl' : full_df[full_df['date_value'] > max_train_date],\n",
    "}\n",
    "\n",
    "df_params = {\n",
    "    'sequence_length' : 105,\n",
    "}\n",
    "\n",
    "model_name = \"gru_forecast_horizon_test\"\n",
    "\n",
    "model_save_dir = f\"./{model_name}_dir/\"\n",
    "result_json_path = f\"{model_save_dir}{model_name}_results.json\"\n",
    "os.makedirs(model_save_dir, exist_ok=True)\n",
    "\n",
    "model_dict2 = run_grid_search_horizon(\n",
    "    horizon_values,\n",
    "        df_dict,\n",
    "        model_name,\n",
    "    model_save_dir,\n",
    "    result_json_path,\n",
    "    df_params=df_params,\n",
    "    model_params = model_params,\n",
    ")"
   ]
  }
 ],
 "metadata": {
  "kaggle": {
   "accelerator": "gpu",
   "dataSources": [
    {
     "sourceId": 226700844,
     "sourceType": "kernelVersion"
    },
    {
     "sourceId": 228118212,
     "sourceType": "kernelVersion"
    },
    {
     "sourceId": 232490461,
     "sourceType": "kernelVersion"
    }
   ],
   "dockerImageVersionId": 30918,
   "isGpuEnabled": true,
   "isInternetEnabled": true,
   "language": "python",
   "sourceType": "notebook"
  },
  "kernelspec": {
   "display_name": "Python 3",
   "language": "python",
   "name": "python3"
  },
  "language_info": {
   "codemirror_mode": {
    "name": "ipython",
    "version": 3
   },
   "file_extension": ".py",
   "mimetype": "text/x-python",
   "name": "python",
   "nbconvert_exporter": "python",
   "pygments_lexer": "ipython3",
   "version": "3.10.12"
  },
  "papermill": {
   "default_parameters": {},
   "duration": 4374.005422,
   "end_time": "2025-04-11T17:43:26.777981",
   "environment_variables": {},
   "exception": null,
   "input_path": "__notebook__.ipynb",
   "output_path": "__notebook__.ipynb",
   "parameters": {},
   "start_time": "2025-04-11T16:30:32.772559",
   "version": "2.6.0"
  }
 },
 "nbformat": 4,
 "nbformat_minor": 5
}
