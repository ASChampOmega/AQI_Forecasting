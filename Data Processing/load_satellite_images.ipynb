{
 "cells": [
  {
   "cell_type": "code",
   "execution_count": 1,
   "metadata": {},
   "outputs": [],
   "source": [
    "import os\n",
    "import folium\n",
    "import json\n",
    "import math\n",
    "import time\n",
    "from tqdm import tqdm\n",
    "from selenium import webdriver\n",
    "from selenium.webdriver.chrome.options import Options\n",
    "from PIL import Image\n",
    "\n",
    "# Define full bounding box\n",
    "LAT_MIN, LAT_MAX = 28.462, 28.723\n",
    "LON_MIN, LON_MAX = 77.0592, 77.355\n",
    "\n",
    "ROWS, COLS = 30, 30           # Total small tiles\n",
    "BIG_ROWS, BIG_COLS = 6, 6     # Large screenshot grid\n",
    "TILES_PER_BIG = 5             # 5x5 per large tile\n",
    "\n",
    "LARGE_IMAGE_SIZE = 800        # For Selenium window\n",
    "SMALL_TILE_SIZE = 32          # Output tile size\n",
    "# SMALL_TILE_SIZE = 64          # Output tile size\n",
    "\n",
    "OUTPUT_DIR = f\"tiles_{SMALL_TILE_SIZE}x{SMALL_TILE_SIZE}\"\n",
    "BIG_DIR = \"large_tiles\"\n",
    "META_FILE = \"tile_metadata.json\"\n",
    "\n",
    "os.makedirs(OUTPUT_DIR, exist_ok=True)\n",
    "os.makedirs(BIG_DIR, exist_ok=True)\n",
    "\n",
    "# Simple lat/lon step size\n",
    "lat_step = (LAT_MAX - LAT_MIN) / ROWS\n",
    "lon_step = (LON_MAX - LON_MIN) / COLS\n",
    "\n",
    "large_tile_metadata = {}"
   ]
  },
  {
   "cell_type": "code",
   "execution_count": 17,
   "metadata": {},
   "outputs": [],
   "source": [
    "def get_bbox(row, col):\n",
    "    lat1 = LAT_MIN + row * lat_step\n",
    "    lat2 = lat1 + lat_step\n",
    "    lon1 = LON_MIN + col * lon_step\n",
    "    lon2 = lon1 + lon_step\n",
    "    return [lat1, lon1, lat2, lon2]\n"
   ]
  },
  {
   "cell_type": "code",
   "execution_count": 3,
   "metadata": {},
   "outputs": [],
   "source": [
    "# def create_map(lat1, lon1, lat2, lon2):\n",
    "#     center = [(lat1 + lat2) / 2, (lon1 + lon2) / 2]\n",
    "#     m = folium.Map(location=center, zoom_start=13, tiles=None, control_scale=False, zoom_control=False)\n",
    "#     folium.TileLayer(\n",
    "#         tiles=\"https://server.arcgisonline.com/ArcGIS/rest/services/World_Imagery/MapServer/tile/{z}/{y}/{x}\",\n",
    "#         attr=\"Esri\",\n",
    "#         name=\"Esri Satellite\",\n",
    "#         overlay=False,\n",
    "#         control=False,\n",
    "#     ).add_to(m)\n",
    "#     m.fit_bounds([[lat1, lon1], [lat2, lon2]])\n",
    "#     return m\n",
    "\n",
    "def create_map(lat1, lon1, lat2, lon2):\n",
    "    center = [(lat1 + lat2) / 2, (lon1 + lon2) / 2]\n",
    "    m = folium.Map(location=center, zoom_start=13, tiles=None, control_scale=False, zoom_control=False)\n",
    "    folium.TileLayer(\n",
    "        tiles=\"https://server.arcgisonline.com/ArcGIS/rest/services/World_Imagery/MapServer/tile/{z}/{y}/{x}\",\n",
    "        attr=\"Esri\",\n",
    "        name=\"Esri Satellite\",\n",
    "        overlay=False,\n",
    "        control=False,\n",
    "    ).add_to(m)\n",
    "    # Add a red border rectangle (1px wide)\n",
    "    folium.Rectangle(\n",
    "        bounds=[[lat1, lon1], [lat2, lon2]],\n",
    "        color=\"#ff0000\",\n",
    "        weight=1,\n",
    "        fill=False,\n",
    "    ).add_to(m)\n",
    "    m.fit_bounds([[lat1, lon1], [lat2, lon2]])\n",
    "    return m\n",
    "\n",
    "def crop_to_red_box(image: Image.Image):\n",
    "    \"\"\"Find the outer red rectangle (solid 2px border) and crop the inner content.\"\"\"\n",
    "    pixels = image.load()\n",
    "    w, h = image.size\n",
    "\n",
    "    min_x, min_y = w, h\n",
    "    max_x, max_y = 0, 0\n",
    "\n",
    "    def is_solid_red(r, g, b):\n",
    "        return r > 200 and g < 80 and b < 80\n",
    "\n",
    "    for x in range(w):\n",
    "        for y in range(h):\n",
    "            r, g, b = pixels[x, y][:3]\n",
    "            if is_solid_red(r, g, b):\n",
    "                min_x = min(min_x, x)\n",
    "                max_x = max(max_x, x)\n",
    "                min_y = min(min_y, y)\n",
    "                max_y = max(max_y, y)\n",
    "\n",
    "    if min_x >= max_x or min_y >= max_y:\n",
    "        raise ValueError(\"Red box not found – try relaxing color thresholds.\")\n",
    "\n",
    "    # Add padding to exclude the red border (crop inside the box)\n",
    "    crop_buffer = 2  # Skip the 2px red rectangle\n",
    "    return image.crop((\n",
    "        min_x + crop_buffer,\n",
    "        min_y + crop_buffer,\n",
    "        max_x - crop_buffer,\n",
    "        max_y - crop_buffer\n",
    "    ))\n"
   ]
  },
  {
   "cell_type": "code",
   "execution_count": 19,
   "metadata": {},
   "outputs": [],
   "source": [
    "def setup_driver():\n",
    "    options = Options()\n",
    "    options.add_argument(\"--headless\")\n",
    "    options.add_argument(f\"--window-size={LARGE_IMAGE_SIZE},{LARGE_IMAGE_SIZE}\")\n",
    "    driver = webdriver.Chrome(options=options)\n",
    "    return driver"
   ]
  },
  {
   "cell_type": "code",
   "execution_count": 20,
   "metadata": {},
   "outputs": [
    {
     "name": "stderr",
     "output_type": "stream",
     "text": [
      "Large Tiles: 100%|██████████| 6/6 [01:59<00:00, 19.96s/it]\n"
     ]
    },
    {
     "name": "stdout",
     "output_type": "stream",
     "text": [
      "Taking full-region screenshot...\n",
      "Done! All tiles and metadata saved.\n"
     ]
    }
   ],
   "source": [
    "metadata = {}\n",
    "driver = setup_driver()\n",
    "\n",
    "tile_idx = 0  # Keeps track of global row/col\n",
    "\n",
    "for big_row in tqdm(range(BIG_ROWS), desc=\"Large Tiles\"):\n",
    "    for big_col in range(BIG_COLS):\n",
    "        # Compute bounding box for this large tile (5x5 area)\n",
    "        # lat1, lon1 = get_bbox(big_row * TILES_PER_BIG, big_col * TILES_PER_BIG)[:2]\n",
    "        # lat2, lon2 = get_bbox((big_row+1) * TILES_PER_BIG - 1, (big_col+1) * TILES_PER_BIG - 1)[2:]\n",
    "        # Compute precise bounding box for large tile (5x5 area)\n",
    "        start_row = big_row * TILES_PER_BIG\n",
    "        end_row = (big_row + 1) * TILES_PER_BIG\n",
    "        start_col = big_col * TILES_PER_BIG\n",
    "        end_col = (big_col + 1) * TILES_PER_BIG\n",
    "\n",
    "        lat1 = LAT_MIN + start_row * lat_step\n",
    "        lat2 = LAT_MIN + end_row * lat_step\n",
    "        lon1 = LON_MIN + start_col * lon_step\n",
    "        lon2 = LON_MIN + end_col * lon_step\n",
    "\n",
    "        \n",
    "        # Create map and save to HTML\n",
    "        m = create_map(lat1, lon1, lat2, lon2)\n",
    "        html_file = f\"temp_map.html\"\n",
    "        m.save(html_file)\n",
    "        \n",
    "        # Load and screenshot\n",
    "        driver.get(\"file://\" + os.path.abspath(html_file))\n",
    "        time.sleep(2)\n",
    "        screenshot_file = os.path.join(BIG_DIR, f\"large_{big_row}_{big_col}.png\")\n",
    "        driver.save_screenshot(screenshot_file)\n",
    "\n",
    "        # Crop and split into 5x5 small tiles\n",
    "        img = Image.open(screenshot_file)\n",
    "        img = crop_to_red_box(img)  # Crop using red box\n",
    "\n",
    "        w, h = img.size\n",
    "        tile_w = w // TILES_PER_BIG\n",
    "        tile_h = h // TILES_PER_BIG\n",
    "        \n",
    "        for i in range(TILES_PER_BIG):\n",
    "            for j in range(TILES_PER_BIG):\n",
    "                crop_box = (\n",
    "                    j * tile_w,\n",
    "                    i * tile_h,\n",
    "                    (j + 1) * tile_w,\n",
    "                    (i + 1) * tile_h,\n",
    "                )\n",
    "                tile = img.crop(crop_box).resize((SMALL_TILE_SIZE, SMALL_TILE_SIZE), Image.Resampling.LANCZOS)\n",
    "\n",
    "                row = big_row * TILES_PER_BIG + (TILES_PER_BIG - i - 1)\n",
    "                col = big_col * TILES_PER_BIG + j\n",
    "                tile_name = f\"tile_{row}_{col}.png\"\n",
    "                tile.save(os.path.join(OUTPUT_DIR, tile_name))\n",
    "\n",
    "                tile_lat1, tile_lon1, tile_lat2, tile_lon2 = get_bbox(row, col)\n",
    "                metadata[f\"{row}_{col}\"] = {\n",
    "                    \"row\": row,\n",
    "                    \"col\": col,\n",
    "                    \"center\": [ (tile_lat1 + tile_lat2)/2, (tile_lon1 + tile_lon2)/2 ],\n",
    "                    \"bbox\": [tile_lat1, tile_lon1, tile_lat2, tile_lon2]\n",
    "                }\n",
    "\n",
    "# Final full-region screenshot\n",
    "print(\"Taking full-region screenshot...\")\n",
    "full_map = create_map(LAT_MIN, LON_MIN, LAT_MAX, LON_MAX)\n",
    "full_map.save(\"temp_full.html\")\n",
    "driver.get(\"file://\" + os.path.abspath(\"temp_full.html\"))\n",
    "time.sleep(3)\n",
    "driver.save_screenshot(\"full_region.png\")\n",
    "\n",
    "driver.quit()\n",
    "with open(META_FILE, \"w\") as f:\n",
    "    json.dump(metadata, f, indent=2)\n",
    "\n",
    "print(\"Done! All tiles and metadata saved.\")"
   ]
  },
  {
   "cell_type": "code",
   "execution_count": 21,
   "metadata": {},
   "outputs": [],
   "source": [
    "import os\n",
    "import folium\n",
    "import json\n",
    "import math\n",
    "import time\n",
    "from tqdm import tqdm\n",
    "from selenium import webdriver\n",
    "from selenium.webdriver.chrome.options import Options\n",
    "from PIL import Image"
   ]
  },
  {
   "cell_type": "code",
   "execution_count": 22,
   "metadata": {},
   "outputs": [],
   "source": [
    "with open(\"tile_metadata.json\", \"r\") as f:\n",
    "    metadata = json.load(f)"
   ]
  },
  {
   "cell_type": "code",
   "execution_count": 23,
   "metadata": {},
   "outputs": [
    {
     "data": {
      "text/plain": [
       "{'row': 15,\n",
       " 'col': 10,\n",
       " 'center': [28.596850000000003, 77.16273000000001],\n",
       " 'bbox': [28.5925, 77.15780000000001, 28.601200000000002, 77.16766000000001]}"
      ]
     },
     "execution_count": 23,
     "metadata": {},
     "output_type": "execute_result"
    }
   ],
   "source": [
    "metadata[\"15_10\"]"
   ]
  },
  {
   "cell_type": "code",
   "execution_count": 4,
   "metadata": {},
   "outputs": [],
   "source": [
    "img = Image.open('./full_region.png')\n",
    "\n",
    "img = crop_to_red_box(img)"
   ]
  },
  {
   "cell_type": "code",
   "execution_count": 6,
   "metadata": {},
   "outputs": [],
   "source": [
    "img.save(\"full_region_cropped.png\")"
   ]
  }
 ],
 "metadata": {
  "kernelspec": {
   "display_name": "tiger_lab_env",
   "language": "python",
   "name": "python3"
  },
  "language_info": {
   "codemirror_mode": {
    "name": "ipython",
    "version": 3
   },
   "file_extension": ".py",
   "mimetype": "text/x-python",
   "name": "python",
   "nbconvert_exporter": "python",
   "pygments_lexer": "ipython3",
   "version": "3.9.21"
  }
 },
 "nbformat": 4,
 "nbformat_minor": 2
}
