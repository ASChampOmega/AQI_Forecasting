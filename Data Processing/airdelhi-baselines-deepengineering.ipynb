{
 "cells": [
  {
   "cell_type": "code",
   "execution_count": 1,
   "id": "c6b0c73f",
   "metadata": {
    "_cell_guid": "b1076dfc-b9ad-4769-8c92-a6c4dae69d19",
    "_uuid": "8f2839f25d086af736a60e9eeb907d3b93b6e0e5",
    "execution": {
     "iopub.execute_input": "2025-04-07T17:19:01.082930Z",
     "iopub.status.busy": "2025-04-07T17:19:01.082518Z",
     "iopub.status.idle": "2025-04-07T17:19:13.390096Z",
     "shell.execute_reply": "2025-04-07T17:19:13.388363Z"
    },
    "papermill": {
     "duration": 12.329382,
     "end_time": "2025-04-07T17:19:13.392292",
     "exception": false,
     "start_time": "2025-04-07T17:19:01.062910",
     "status": "completed"
    },
    "tags": []
   },
   "outputs": [],
   "source": [
    "import numpy as np # linear algebrae\n",
    "import pandas as pd # data processing, CSV file I/O (e.g. pd.read_csv)\n",
    "from xgboost import XGBRegressor\n",
    "from lightgbm import LGBMRegressor\n",
    "from catboost import CatBoostRegressor\n",
    "from sklearn.ensemble import RandomForestRegressor\n",
    "from sklearn.linear_model import Ridge, LinearRegression\n",
    "\n",
    "import os\n",
    "\n",
    "# from polire import IDW\n",
    "\n",
    "from sklearn.metrics import mean_squared_error, r2_score, mean_absolute_error\n",
    "from sklearn.preprocessing import MinMaxScaler\n",
    "\n",
    "from datetime import date, timedelta\n",
    "import datetime\n",
    "\n",
    "import json\n",
    "import pickle as pkl\n",
    "import itertools\n",
    "\n",
    "import torch"
   ]
  },
  {
   "cell_type": "markdown",
   "id": "06b8831d",
   "metadata": {
    "papermill": {
     "duration": 0.015684,
     "end_time": "2025-04-07T17:19:13.424677",
     "exception": false,
     "start_time": "2025-04-07T17:19:13.408993",
     "status": "completed"
    },
    "tags": []
   },
   "source": [
    "Config"
   ]
  },
  {
   "cell_type": "code",
   "execution_count": 2,
   "id": "69b8eca0",
   "metadata": {
    "execution": {
     "iopub.execute_input": "2025-04-07T17:19:13.459608Z",
     "iopub.status.busy": "2025-04-07T17:19:13.458833Z",
     "iopub.status.idle": "2025-04-07T17:19:13.464087Z",
     "shell.execute_reply": "2025-04-07T17:19:13.462883Z"
    },
    "papermill": {
     "duration": 0.02508,
     "end_time": "2025-04-07T17:19:13.466123",
     "exception": false,
     "start_time": "2025-04-07T17:19:13.441043",
     "status": "completed"
    },
    "tags": []
   },
   "outputs": [],
   "source": [
    "class CFG:\n",
    "    evaluation_time_gap = 1\n",
    "    convert_numpy = False\n",
    "    target_list = ['pm2_5', 'pm10']\n",
    "    features = None"
   ]
  },
  {
   "cell_type": "markdown",
   "id": "f9a8f285",
   "metadata": {
    "papermill": {
     "duration": 0.016424,
     "end_time": "2025-04-07T17:19:13.499714",
     "exception": false,
     "start_time": "2025-04-07T17:19:13.483290",
     "status": "completed"
    },
    "tags": []
   },
   "source": [
    "## Basic Loading"
   ]
  },
  {
   "cell_type": "code",
   "execution_count": 3,
   "id": "63a91482",
   "metadata": {
    "execution": {
     "iopub.execute_input": "2025-04-07T17:19:13.537216Z",
     "iopub.status.busy": "2025-04-07T17:19:13.536833Z",
     "iopub.status.idle": "2025-04-07T17:19:14.103915Z",
     "shell.execute_reply": "2025-04-07T17:19:14.102566Z"
    },
    "papermill": {
     "duration": 0.589268,
     "end_time": "2025-04-07T17:19:14.105918",
     "exception": false,
     "start_time": "2025-04-07T17:19:13.516650",
     "status": "completed"
    },
    "tags": []
   },
   "outputs": [
    {
     "data": {
      "text/plain": [
       "(Timestamp('2021-01-07 00:00:00'), Timestamp('2020-11-01 00:00:00'))"
      ]
     },
     "execution_count": 3,
     "metadata": {},
     "output_type": "execute_result"
    }
   ],
   "source": [
    "df = pd.read_csv('/kaggle/input/airdelhi-tabularengineering/tabular_data.csv')\n",
    "\n",
    "df = df.drop(columns = 'Unnamed: 0')\n",
    "df['date_value'] = pd.to_datetime(df['date_value'])\n",
    "\n",
    "dates = pd.to_datetime([df['date_value'].min(), df['date_value'].max()])\n",
    "\n",
    "max_train_date = dates.min() + (dates.max() - dates.min()) * 0.75\n",
    "max_train_date = max_train_date.floor(\"D\")\n",
    "min_train_date = df['date_value'].min()\n",
    "max_date = df['date_value'].max().floor(\"D\")\n",
    "\n",
    "metrics_dict = {\n",
    "    'MSE': mean_squared_error, \n",
    "    'r2 score': r2_score, \n",
    "    'MAE': mean_absolute_error,\n",
    "}\n",
    "\n",
    "target_list = CFG.target_list\n",
    "\n",
    "features = ['date_value', 'timeOfDay', 'lat', 'lon', 'day_of_week', 'distance', 'bus_count']\n",
    "\n",
    "CFG.base_features = ['timeOfDay', 'lat', 'lon', 'day_of_week', 'distance', 'bus_count']\n",
    "CFG.features = CFG.base_features\n",
    "\n",
    "max_train_date, min_train_date"
   ]
  },
  {
   "cell_type": "code",
   "execution_count": 4,
   "id": "e72ce1d4",
   "metadata": {
    "execution": {
     "iopub.execute_input": "2025-04-07T17:19:14.139675Z",
     "iopub.status.busy": "2025-04-07T17:19:14.139265Z",
     "iopub.status.idle": "2025-04-07T17:19:14.182111Z",
     "shell.execute_reply": "2025-04-07T17:19:14.181015Z"
    },
    "papermill": {
     "duration": 0.061855,
     "end_time": "2025-04-07T17:19:14.184082",
     "exception": false,
     "start_time": "2025-04-07T17:19:14.122227",
     "status": "completed"
    },
    "tags": []
   },
   "outputs": [],
   "source": [
    "scaler = MinMaxScaler()\n",
    "df[['timeOfDay', 'lat', 'lon', 'day_of_week', 'distance', 'bus_count']] = scaler.fit_transform(\n",
    "    df[['timeOfDay', 'lat', 'lon', 'day_of_week', 'distance', 'bus_count']]\n",
    ")\n"
   ]
  },
  {
   "cell_type": "markdown",
   "id": "efa43149",
   "metadata": {
    "papermill": {
     "duration": 0.016696,
     "end_time": "2025-04-07T17:19:14.216366",
     "exception": false,
     "start_time": "2025-04-07T17:19:14.199670",
     "status": "completed"
    },
    "tags": []
   },
   "source": [
    "## Basic Helper Functions"
   ]
  },
  {
   "cell_type": "code",
   "execution_count": 5,
   "id": "1c09e5ff",
   "metadata": {
    "execution": {
     "iopub.execute_input": "2025-04-07T17:19:14.250440Z",
     "iopub.status.busy": "2025-04-07T17:19:14.250071Z",
     "iopub.status.idle": "2025-04-07T17:19:14.255347Z",
     "shell.execute_reply": "2025-04-07T17:19:14.254363Z"
    },
    "papermill": {
     "duration": 0.025022,
     "end_time": "2025-04-07T17:19:14.257403",
     "exception": false,
     "start_time": "2025-04-07T17:19:14.232381",
     "status": "completed"
    },
    "tags": []
   },
   "outputs": [],
   "source": [
    "def clean_df(df, features=None):\n",
    "    if features is None:\n",
    "        return df[CFG.features]\n",
    "    else:\n",
    "        return df[features]"
   ]
  },
  {
   "cell_type": "markdown",
   "id": "954556b2",
   "metadata": {
    "papermill": {
     "duration": 0.016005,
     "end_time": "2025-04-07T17:19:14.289149",
     "exception": false,
     "start_time": "2025-04-07T17:19:14.273144",
     "status": "completed"
    },
    "tags": []
   },
   "source": [
    "## Get Model Splits"
   ]
  },
  {
   "cell_type": "code",
   "execution_count": 6,
   "id": "2e90e4b6",
   "metadata": {
    "execution": {
     "iopub.execute_input": "2025-04-07T17:19:14.322771Z",
     "iopub.status.busy": "2025-04-07T17:19:14.322392Z",
     "iopub.status.idle": "2025-04-07T17:19:14.331019Z",
     "shell.execute_reply": "2025-04-07T17:19:14.329802Z"
    },
    "papermill": {
     "duration": 0.028269,
     "end_time": "2025-04-07T17:19:14.333190",
     "exception": false,
     "start_time": "2025-04-07T17:19:14.304921",
     "status": "completed"
    },
    "tags": []
   },
   "outputs": [],
   "source": [
    "class DataSplitter:\n",
    "\n",
    "    def __init__(\n",
    "        self, \n",
    "        dataset, \n",
    "        min_date, \n",
    "        max_date, \n",
    "        max_lookback=None,\n",
    "        min_lookback=None,\n",
    "    ):\n",
    "        # self.X = dataset[CFG.features if features is None else features]\n",
    "        \n",
    "        # self.target = target\n",
    "        # self.y = dataset[target]\n",
    "        \n",
    "        self.df = dataset\n",
    "        \n",
    "        self.min_train_date = min_date\n",
    "        self.max_train_date = max_date\n",
    "        self.df_max_date = self.df['date_value'].max()\n",
    "\n",
    "        self.max_lookback = max_lookback\n",
    "        self.min_lookback = min_lookback\n",
    "    \n",
    "    def get_train_test_split(self):\n",
    "        df = self.df.copy()\n",
    "        df = df[df['date_value'] >= self.min_train_date]\n",
    "        d = self.max_train_date + timedelta(days = 1)\n",
    "\n",
    "        splits = {}\n",
    "        \n",
    "        while d < self.df_max_date:\n",
    "            train_temp = df[df['date_value'] <= d]\n",
    "            if self.max_lookback is not None:\n",
    "                train_temp = train_temp[train_temp['date_value'] > d - timedelta(\n",
    "                    days = self.max_lookback)]\n",
    "\n",
    "            if self.min_lookback is not None:\n",
    "                train_temp1 = train_temp[train_temp['date_value'] <= d - timedelta(\n",
    "                    days = self.min_lookback)]\n",
    "                if len(train_temp1) > 200:\n",
    "                    train_temp = train_temp1\n",
    "            \n",
    "            train_indices = train_temp.index\n",
    "            test_indices = df[df['date_value'] == d + timedelta(days=1)].index\n",
    "\n",
    "            splits[d] = {\n",
    "                'train': train_indices,\n",
    "                'test' : test_indices\n",
    "            }\n",
    "            \n",
    "            d = d + timedelta(days = CFG.evaluation_time_gap)\n",
    "\n",
    "        return splits"
   ]
  },
  {
   "cell_type": "code",
   "execution_count": 7,
   "id": "36949f56",
   "metadata": {
    "execution": {
     "iopub.execute_input": "2025-04-07T17:19:14.366337Z",
     "iopub.status.busy": "2025-04-07T17:19:14.365970Z",
     "iopub.status.idle": "2025-04-07T17:19:14.554685Z",
     "shell.execute_reply": "2025-04-07T17:19:14.552969Z"
    },
    "papermill": {
     "duration": 0.207653,
     "end_time": "2025-04-07T17:19:14.556847",
     "exception": false,
     "start_time": "2025-04-07T17:19:14.349194",
     "status": "completed"
    },
    "tags": []
   },
   "outputs": [
    {
     "name": "stdout",
     "output_type": "stream",
     "text": [
      "2021-01-08 00:00:00 2021-01-08 00:00:00\n",
      "2021-01-08 00:00:00 [Timestamp('2021-01-09 00:00:00')]\n"
     ]
    }
   ],
   "source": [
    "data_splitter = DataSplitter(df, min_train_date, max_train_date)\n",
    "data_indices = data_splitter.get_train_test_split()\n",
    "\n",
    "# Testing:\n",
    "test_date = list(data_indices.keys())[0]\n",
    "train_indices, test_indices = list(data_indices[test_date].values())\n",
    "# test_date, list(data_indices.keys())\n",
    "train_df_1 = df.iloc[train_indices]\n",
    "print(test_date, sorted(train_df_1.date_value.unique())[-1])\n",
    "\n",
    "test_df_1 = df.iloc[test_indices]\n",
    "print(test_date, sorted(test_df_1.date_value.unique()))"
   ]
  },
  {
   "cell_type": "code",
   "execution_count": 8,
   "id": "af95f7bc",
   "metadata": {
    "execution": {
     "iopub.execute_input": "2025-04-07T17:19:14.590848Z",
     "iopub.status.busy": "2025-04-07T17:19:14.590446Z",
     "iopub.status.idle": "2025-04-07T17:19:14.761795Z",
     "shell.execute_reply": "2025-04-07T17:19:14.760383Z"
    },
    "papermill": {
     "duration": 0.190635,
     "end_time": "2025-04-07T17:19:14.763654",
     "exception": false,
     "start_time": "2025-04-07T17:19:14.573019",
     "status": "completed"
    },
    "tags": []
   },
   "outputs": [
    {
     "name": "stdout",
     "output_type": "stream",
     "text": [
      "2021-01-08 00:00:00 [Timestamp('2021-01-06 00:00:00'), Timestamp('2021-01-07 00:00:00'), Timestamp('2021-01-08 00:00:00')]\n",
      "2021-01-08 00:00:00 [Timestamp('2021-01-09 00:00:00')]\n"
     ]
    }
   ],
   "source": [
    "data_splitter = DataSplitter(df, min_train_date, max_train_date, max_lookback=3)\n",
    "data_indices = data_splitter.get_train_test_split()\n",
    "\n",
    "# Testing:\n",
    "test_date = list(data_indices.keys())[0]\n",
    "train_indices, test_indices = list(data_indices[test_date].values())\n",
    "# test_date, list(data_indices.keys())\n",
    "train_df_1 = df.iloc[train_indices]\n",
    "print(test_date, sorted(train_df_1.date_value.unique()))\n",
    "\n",
    "test_df_1 = df.iloc[test_indices]\n",
    "print(test_date, sorted(test_df_1.date_value.unique()))"
   ]
  },
  {
   "cell_type": "code",
   "execution_count": 9,
   "id": "93d7b2ab",
   "metadata": {
    "execution": {
     "iopub.execute_input": "2025-04-07T17:19:14.796424Z",
     "iopub.status.busy": "2025-04-07T17:19:14.796085Z",
     "iopub.status.idle": "2025-04-07T17:19:15.264176Z",
     "shell.execute_reply": "2025-04-07T17:19:15.262786Z"
    },
    "papermill": {
     "duration": 0.486562,
     "end_time": "2025-04-07T17:19:15.266079",
     "exception": false,
     "start_time": "2025-04-07T17:19:14.779517",
     "status": "completed"
    },
    "tags": []
   },
   "outputs": [
    {
     "name": "stdout",
     "output_type": "stream",
     "text": [
      "2020-11-02 00:00:00 [Timestamp('2020-11-01 00:00:00'), Timestamp('2020-11-02 00:00:00')]\n",
      "2020-11-02 00:00:00 [Timestamp('2020-11-03 00:00:00')]\n",
      "2020-11-01 00:00:00 2020-11-01 00:00:00\n"
     ]
    }
   ],
   "source": [
    "data_splitter = DataSplitter(df, min_train_date, min_train_date, max_lookback=2)\n",
    "data_indices = data_splitter.get_train_test_split()\n",
    "\n",
    "# Testing:\n",
    "test_date = list(data_indices.keys())[0]\n",
    "train_indices, test_indices = list(data_indices[test_date].values())\n",
    "# test_date, list(data_indices.keys())\n",
    "train_df_1 = df.iloc[train_indices]\n",
    "print(test_date, sorted(train_df_1.date_value.unique()))\n",
    "\n",
    "test_df_1 = df.iloc[test_indices]\n",
    "print(test_date, sorted(test_df_1.date_value.unique()))\n",
    "\n",
    "print(min_train_date, df.date_value.min())"
   ]
  },
  {
   "cell_type": "markdown",
   "id": "270e017b",
   "metadata": {
    "papermill": {
     "duration": 0.015912,
     "end_time": "2025-04-07T17:19:15.300626",
     "exception": false,
     "start_time": "2025-04-07T17:19:15.284714",
     "status": "completed"
    },
    "tags": []
   },
   "source": [
    "## Model Holder"
   ]
  },
  {
   "cell_type": "code",
   "execution_count": 10,
   "id": "88d3652b",
   "metadata": {
    "execution": {
     "iopub.execute_input": "2025-04-07T17:19:15.333699Z",
     "iopub.status.busy": "2025-04-07T17:19:15.333320Z",
     "iopub.status.idle": "2025-04-07T17:19:15.343039Z",
     "shell.execute_reply": "2025-04-07T17:19:15.341858Z"
    },
    "papermill": {
     "duration": 0.028506,
     "end_time": "2025-04-07T17:19:15.344934",
     "exception": false,
     "start_time": "2025-04-07T17:19:15.316428",
     "status": "completed"
    },
    "tags": []
   },
   "outputs": [],
   "source": [
    "class Model:\n",
    "\n",
    "    def __init__(\n",
    "        self,\n",
    "        model_class,\n",
    "        params=None,\n",
    "        target=\"pm2_5\",\n",
    "        features=None,\n",
    "    ):\n",
    "        self.model_class = model_class\n",
    "        \n",
    "        if params is None:\n",
    "            self.params = {}\n",
    "        else:\n",
    "            self.params = params\n",
    "\n",
    "        self.max_train_date = None\n",
    "        self.target = target\n",
    "        if features is None:\n",
    "            features = CFG.features\n",
    "\n",
    "        self.features = features\n",
    "\n",
    "    def fit(self, X, y):\n",
    "        model = self.model_class(**self.params)\n",
    "        # print(X.columns, CFG.features)\n",
    "        model.fit(X, y)\n",
    "        return model\n",
    "\n",
    "    def predict(self, X):\n",
    "        model = self.split_models[self.max_train_date]\n",
    "        return model.predict(X)\n",
    "\n",
    "    def get_df_from_split(self, df, split, split_type='train'):\n",
    "        X = df.iloc[split[split_type]].copy()\n",
    "        y = np.array(X[self.target])\n",
    "        X = clean_df(X, features=self.features)\n",
    "        return X, y\n",
    "\n",
    "    def fit_on_splits(self, df, splits):\n",
    "        self.split_models = {}\n",
    "        \n",
    "        for d, split in splits.items():\n",
    "            X, y = self.get_df_from_split(df, split)\n",
    "            self.split_models[d] = self.fit(X, y)\n",
    "\n",
    "    def predict_on_splits(self, df, splits, train=False):\n",
    "        model_predictions = {}\n",
    "        if train:\n",
    "            train = 'train'\n",
    "        else:\n",
    "            train= 'test'\n",
    "        \n",
    "        for d, split in splits.items():\n",
    "            X, y = self.get_df_from_split(df, split, split_type=train)\n",
    "            model_predictions[d] = {\n",
    "                'pred': self.split_models[d].predict(X),\n",
    "                'true': y,\n",
    "                'index': X.index\n",
    "            }\n",
    "        \n",
    "        return model_predictions"
   ]
  },
  {
   "cell_type": "markdown",
   "id": "ec26fdee",
   "metadata": {
    "papermill": {
     "duration": 0.016208,
     "end_time": "2025-04-07T17:19:15.378445",
     "exception": false,
     "start_time": "2025-04-07T17:19:15.362237",
     "status": "completed"
    },
    "tags": []
   },
   "source": [
    "## Model Evaluator"
   ]
  },
  {
   "cell_type": "code",
   "execution_count": 11,
   "id": "0c9c247b",
   "metadata": {
    "execution": {
     "iopub.execute_input": "2025-04-07T17:19:15.414581Z",
     "iopub.status.busy": "2025-04-07T17:19:15.414235Z",
     "iopub.status.idle": "2025-04-07T17:19:15.429155Z",
     "shell.execute_reply": "2025-04-07T17:19:15.427852Z"
    },
    "papermill": {
     "duration": 0.034927,
     "end_time": "2025-04-07T17:19:15.431135",
     "exception": false,
     "start_time": "2025-04-07T17:19:15.396208",
     "status": "completed"
    },
    "tags": []
   },
   "outputs": [],
   "source": [
    "class Evaluator:\n",
    "\n",
    "    def __init__(\n",
    "        self,\n",
    "        dataset,\n",
    "        min_date,\n",
    "        max_date,\n",
    "        target,\n",
    "        metrics_dict,\n",
    "        max_lookback=None\n",
    "    ):\n",
    "        self.df_splitter = DataSplitter(dataset, min_date, max_date, max_lookback=max_lookback)\n",
    "        self.metrics_dict = metrics_dict\n",
    "        self.dataset = dataset\n",
    "        self.target = target\n",
    "\n",
    "        self.splits = self.df_splitter.get_train_test_split()\n",
    "\n",
    "    def fit_predict(self, model):\n",
    "        model.fit_on_splits(self.dataset, self.splits)\n",
    "        train_preds = model.predict_on_splits(self.dataset, self.splits, train=True)\n",
    "        test_preds = model.predict_on_splits(self.dataset, self.splits, train=False)\n",
    "        return train_preds, test_preds\n",
    "\n",
    "    def evaluate_metrics(self, y_true, y_pred):\n",
    "        values = {}\n",
    "        for d, metric in metrics_dict.items():\n",
    "            values[d] = metric(y_true, y_pred)\n",
    "        return values\n",
    "\n",
    "    def merge_evaluations(self, evaluations):\n",
    "        merged_evaluations = {}\n",
    "        for d, evaluation in evaluations.items():\n",
    "            if d in ['aggregated', 'aggregated_train']:\n",
    "                continue\n",
    "            if len(merged_evaluations) == 0:\n",
    "                merged_evaluations = {\n",
    "                    k : [v]\n",
    "                    for k, v in evaluation.items()\n",
    "                }\n",
    "            else:\n",
    "                for k, v in evaluation.items():\n",
    "                    merged_evaluations[k].append(v)\n",
    "\n",
    "        merged_evaluations['aggregated'] = evaluations['aggregated']\n",
    "        # merged_evaluations['aggregated_train'] = evaluations['aggregated_train']\n",
    "        \n",
    "        return merged_evaluations\n",
    "\n",
    "    def save(self, model, evaluations, model_name):\n",
    "        with open(f'{model_name}_evaluation.json', 'w') as f:\n",
    "            json.dump(evaluations, f)\n",
    "\n",
    "        with open(f'{model_name}_model.pkl', 'wb') as f:\n",
    "            pkl.dump(model, f)\n",
    "\n",
    "    def print(self, train_evaluations, test_evaluations):\n",
    "        print(f\"\"\"Train PM {self.target}: R2 Score {train_evaluations['aggregated']['r2 score']}, \n",
    "               RMSE {np.sqrt(train_evaluations['aggregated']['MSE'])}\n",
    "        \"\"\")\n",
    "        print(f\"\"\"Test PM {self.target}: R2 Score {test_evaluations['aggregated']['r2 score']}, \n",
    "              RMSE {np.sqrt(test_evaluations['aggregated']['MSE'])}\n",
    "        \"\"\")\n",
    "        \n",
    "\n",
    "    def evaluate(self, model, daily=False, save=True, model_name=None, verbose=True):\n",
    "        train_preds, test_preds = self.fit_predict(model)\n",
    "\n",
    "        train_metrics = {}\n",
    "        train_pred_full = []\n",
    "        train_full = []\n",
    "        for d, v in train_preds.items():\n",
    "            train_metrics[d] = self.evaluate_metrics(v['true'], v['pred'])\n",
    "            train_pred_full.append(v['pred'])\n",
    "            train_full.append(v['true'])\n",
    "\n",
    "        train_pred_full = np.concatenate(train_pred_full)\n",
    "        train_full = np.concatenate(train_full)\n",
    "        \n",
    "\n",
    "        test_metrics = {}\n",
    "        test_pred_full = []\n",
    "        test_full = []\n",
    "        index_full = []\n",
    "        for d, v in test_preds.items():\n",
    "            test_metrics[d] = self.evaluate_metrics(v['true'], v['pred'])\n",
    "            test_pred_full.append(v['pred'])\n",
    "            test_full.append(v['true'])\n",
    "            index_full.append(v['index'])\n",
    "        \n",
    "        test_pred_full = np.concatenate(test_pred_full)\n",
    "        test_full = np.concatenate(test_full)\n",
    "        index_full = np.concatenate(index_full)\n",
    "\n",
    "        train_metrics['aggregated'] = self.evaluate_metrics(train_full, train_pred_full)\n",
    "        test_metrics['aggregated'] = self.evaluate_metrics(test_full, test_pred_full)\n",
    "        \n",
    "        if not daily:\n",
    "            train_metrics, test_metrics = self.merge_evaluations(train_metrics), self.merge_evaluations(test_metrics)\n",
    "\n",
    "        if save:\n",
    "            self.save(model, {'train':train_metrics,'test':test_metrics}, model_name)\n",
    "\n",
    "        if verbose:\n",
    "            self.print(train_metrics, test_metrics)\n",
    "        \n",
    "        return train_metrics, test_metrics"
   ]
  },
  {
   "cell_type": "markdown",
   "id": "7ee7f2d9",
   "metadata": {
    "papermill": {
     "duration": 0.078838,
     "end_time": "2025-04-07T17:19:15.526649",
     "exception": false,
     "start_time": "2025-04-07T17:19:15.447811",
     "status": "completed"
    },
    "tags": []
   },
   "source": [
    "## Additional Processing"
   ]
  },
  {
   "cell_type": "code",
   "execution_count": 12,
   "id": "7b320e65",
   "metadata": {
    "execution": {
     "iopub.execute_input": "2025-04-07T17:19:15.563014Z",
     "iopub.status.busy": "2025-04-07T17:19:15.562620Z",
     "iopub.status.idle": "2025-04-07T17:19:15.570251Z",
     "shell.execute_reply": "2025-04-07T17:19:15.568728Z"
    },
    "papermill": {
     "duration": 0.027399,
     "end_time": "2025-04-07T17:19:15.571962",
     "exception": false,
     "start_time": "2025-04-07T17:19:15.544563",
     "status": "completed"
    },
    "tags": []
   },
   "outputs": [],
   "source": [
    "from scipy.spatial import cKDTree\n",
    "\n",
    "class IDW:\n",
    "\n",
    "    def __init__(self, leafsize, power = 3, k = 10):\n",
    "        self.leafsize = leafsize\n",
    "        self.power = power\n",
    "        self.k = k\n",
    "\n",
    "    def fit(self, X, y):\n",
    "        self.X = X\n",
    "        # self.y = y.values\n",
    "        self.y = y\n",
    "\n",
    "        self.tree = cKDTree(self.X.values, leafsize=self.leafsize)\n",
    "\n",
    "    def predict(self, test_df):\n",
    "        X_test = test_df.values\n",
    "        \n",
    "        distances, indices = self.tree.query(X_test, k=self.k, workers=-1)\n",
    "        distances = np.maximum(distances, 1e-10)\n",
    "        \n",
    "        weights = 1 / (distances ** self.power)\n",
    "        weights /= np.sum(weights, axis=1, keepdims=True)\n",
    "        \n",
    "        interpolated_values = np.sum(weights * self.y[indices], axis=1)\n",
    "        \n",
    "        return interpolated_values"
   ]
  },
  {
   "cell_type": "markdown",
   "id": "350527fa",
   "metadata": {
    "papermill": {
     "duration": 0.015945,
     "end_time": "2025-04-07T17:19:15.604429",
     "exception": false,
     "start_time": "2025-04-07T17:19:15.588484",
     "status": "completed"
    },
    "tags": []
   },
   "source": [
    "## Lagged Features"
   ]
  },
  {
   "cell_type": "code",
   "execution_count": 13,
   "id": "ea21d148",
   "metadata": {
    "execution": {
     "iopub.execute_input": "2025-04-07T17:19:15.638385Z",
     "iopub.status.busy": "2025-04-07T17:19:15.638020Z",
     "iopub.status.idle": "2025-04-07T17:19:15.646973Z",
     "shell.execute_reply": "2025-04-07T17:19:15.645681Z"
    },
    "papermill": {
     "duration": 0.029008,
     "end_time": "2025-04-07T17:19:15.649350",
     "exception": false,
     "start_time": "2025-04-07T17:19:15.620342",
     "status": "completed"
    },
    "tags": []
   },
   "outputs": [],
   "source": [
    "def add_lag_features(df, lags = [1]):\n",
    "\n",
    "    df = df.copy()\n",
    "\n",
    "    added_features = []\n",
    "    for l in lags:\n",
    "        df[f'pm2_5_lag_{l}'] = df.groupby(\n",
    "            ['timeOfDay', 'lat', 'lon'])['pm2_5'].shift(l)\n",
    "        df[f'pm10_lag_{l}'] = df.groupby(\n",
    "            ['timeOfDay', 'lat', 'lon'])['pm10'].shift(l)\n",
    "\n",
    "        added_features.append(f'pm2_5_lag_{l}')\n",
    "        added_features.append(f'pm10_lag_{l}')\n",
    "\n",
    "        # .reset_index(drop=False)\n",
    "        \n",
    "        # shifted_pm25 = df.groupby(['timeOfDay', 'lat', 'lon'])['pm2_5'].shift(1).reset_index(drop=False)\n",
    "        # shifted_pm10 = df.groupby(['timeOfDay', 'lat', 'lon'])['pm10'].shift(1).reset_index(drop=False)\n",
    "\n",
    "        # shifted_pm25 = shifted_pm25.rename(columns = {'pm2_5' : f'pm2_5_lag_{l}'})\n",
    "        # shifted_pm10 = shifted_pm10.rename(columns = {'pm10' : f'pm10_lag_{l}'})\n",
    "\n",
    "        # df = pd.merge(df, shifted_pm25, how = 'outer', on =  ['timeOfDay', 'lat', 'lon'])\n",
    "        # df = pd.merge(df, shifted_pm10, how = 'outer', on =  ['timeOfDay', 'lat', 'lon'])\n",
    "\n",
    "\n",
    "        df.sort_values(by=[\"lat\", \"lon\", \"date_value\"], inplace=True)\n",
    "\n",
    "    # Group by latitude and longitude\n",
    "    grouped = df.groupby([\"lat\", \"lon\"])\n",
    "\n",
    "    # Function to fill NaN values based on previous mean\n",
    "    def fill_na_with_previous_mean(group):\n",
    "        for col in group.columns:\n",
    "            if col not in [\"date_value\", \"lat\", \"lon\"]:\n",
    "                group[col] = group[col].astype(float)  # Ensure numeric columns\n",
    "                group[col] = group[col].fillna(group[col].expanding().mean().shift())  # Previous days' mean\n",
    "                \n",
    "                # If still NaN (first row), replace with overall mean\n",
    "                overall_mean = df[col].mean(skipna=True)\n",
    "                group[col] = group[col].fillna(overall_mean)\n",
    "        return group\n",
    "\n",
    "    # Apply the function to each group\n",
    "    df = grouped.apply(fill_na_with_previous_mean)\n",
    "\n",
    "    df.reset_index(drop=True, inplace=True)\n",
    "\n",
    "    df = df.sort_values(by = ['date_value', 'timeOfDay', 'lat', 'lon'])\n",
    "\n",
    "    df.reset_index(drop=True, inplace=True)\n",
    "\n",
    "    CFG.features += added_features\n",
    "    \n",
    "    return df\n"
   ]
  },
  {
   "cell_type": "code",
   "execution_count": 14,
   "id": "f0909fe9",
   "metadata": {
    "execution": {
     "iopub.execute_input": "2025-04-07T17:19:15.682328Z",
     "iopub.status.busy": "2025-04-07T17:19:15.681975Z",
     "iopub.status.idle": "2025-04-07T17:19:23.363017Z",
     "shell.execute_reply": "2025-04-07T17:19:23.361732Z"
    },
    "papermill": {
     "duration": 7.70017,
     "end_time": "2025-04-07T17:19:23.365403",
     "exception": false,
     "start_time": "2025-04-07T17:19:15.665233",
     "status": "completed"
    },
    "tags": []
   },
   "outputs": [
    {
     "name": "stderr",
     "output_type": "stream",
     "text": [
      "<ipython-input-13-e4098ddd2843>:45: DeprecationWarning: DataFrameGroupBy.apply operated on the grouping columns. This behavior is deprecated, and in a future version of pandas the grouping columns will be excluded from the operation. Either pass `include_groups=False` to exclude the groupings or explicitly select the grouping columns after groupby to silence this warning.\n",
      "  df = grouped.apply(fill_na_with_previous_mean)\n"
     ]
    }
   ],
   "source": [
    "df = add_lag_features(df, lags = [1, 2, 3, 7])"
   ]
  },
  {
   "cell_type": "code",
   "execution_count": 15,
   "id": "dabbb06b",
   "metadata": {
    "execution": {
     "iopub.execute_input": "2025-04-07T17:19:23.401398Z",
     "iopub.status.busy": "2025-04-07T17:19:23.400693Z",
     "iopub.status.idle": "2025-04-07T17:19:23.410701Z",
     "shell.execute_reply": "2025-04-07T17:19:23.409491Z"
    },
    "papermill": {
     "duration": 0.030547,
     "end_time": "2025-04-07T17:19:23.412564",
     "exception": false,
     "start_time": "2025-04-07T17:19:23.382017",
     "status": "completed"
    },
    "tags": []
   },
   "outputs": [],
   "source": [
    "# IDW Interpolation\n",
    "\n",
    "def idw_interpolation(df, idw, lags):\n",
    "    df = df.copy()\n",
    "    df['lat'] = df['lat'] * 50\n",
    "    df['lon'] = df['lon'] * 50\n",
    "    \n",
    "    target = idw.target\n",
    "    added_features = []\n",
    "    \n",
    "    for lag in lags:\n",
    "        df_splitter = DataSplitter(\n",
    "            df.copy(), min_train_date, min_train_date+timedelta(days=1), \n",
    "            max_lookback=lag+1, min_lookback=lag-1\n",
    "        )\n",
    "        splits = df_splitter.get_train_test_split()\n",
    "    \n",
    "        idw.fit_on_splits(df, splits)\n",
    "        preds = idw.predict_on_splits(df, splits)\n",
    "\n",
    "        test_pred_full = []\n",
    "        test_full = []\n",
    "        index_full = []\n",
    "        \n",
    "        for d, v in preds.items():\n",
    "            test_pred_full.append(v['pred'])\n",
    "            test_full.append(v['true'])\n",
    "            index_full.append(v['index'])\n",
    "        \n",
    "        test_pred_full = np.concatenate(test_pred_full)\n",
    "        test_full = np.concatenate(test_full)\n",
    "        index_full = np.concatenate(index_full)\n",
    "\n",
    "        new_df = pd.DataFrame({\n",
    "            # f'test_lag_{lag}': test_full,\n",
    "            f'idw_lag_{lag}_{target}': test_pred_full,\n",
    "        }, index = index_full)\n",
    "        \n",
    "        df = df.merge(new_df, left_index=True, right_index=True, how='outer')\n",
    "        # df[f'test_lag_{lag}'] = df[f'test_lag_{lag}'].fillna(df[f'test_lag_{lag}'].expanding().mean())\n",
    "        df[f'idw_lag_{lag}_{target}'] = df[f'idw_lag_{lag}_{target}'].fillna(df[f'idw_lag_{lag}_{target}'].expanding().mean())\n",
    "        \n",
    "        df = df.bfill()\n",
    "\n",
    "        added_features.append(f'idw_lag_{lag}_{target}')\n",
    "\n",
    "    df['lat'] = df['lat'] / 50\n",
    "    df['lon'] = df['lon'] / 50\n",
    "\n",
    "    CFG.features = CFG.features + added_features\n",
    "    \n",
    "    return df"
   ]
  },
  {
   "cell_type": "code",
   "execution_count": 16,
   "id": "92e9384a",
   "metadata": {
    "execution": {
     "iopub.execute_input": "2025-04-07T17:19:23.447203Z",
     "iopub.status.busy": "2025-04-07T17:19:23.446736Z",
     "iopub.status.idle": "2025-04-07T17:19:31.210703Z",
     "shell.execute_reply": "2025-04-07T17:19:31.209399Z"
    },
    "papermill": {
     "duration": 7.783803,
     "end_time": "2025-04-07T17:19:31.212795",
     "exception": false,
     "start_time": "2025-04-07T17:19:23.428992",
     "status": "completed"
    },
    "tags": []
   },
   "outputs": [],
   "source": [
    "# pm2_5\n",
    "\n",
    "idw_model = Model(\n",
    "    IDW,\n",
    "    params={'leafsize': 50, 'power': 3, 'k': 3}\n",
    ")\n",
    "\n",
    "# idw_model = Model(\n",
    "#     RandomForestRegressor,\n",
    "# )\n",
    "\n",
    "df = idw_interpolation(df, idw_model, lags = [1])\n",
    "df = idw_interpolation(df, idw_model, lags = [2])\n",
    "df = idw_interpolation(df, idw_model, lags = [3])\n",
    "df = idw_interpolation(df, idw_model, lags = [7])\n",
    "\n",
    "# print(np.sqrt(mean_squared_error(df['test_lag_1'], df['idw_lag_1_pm2_5'])))\n",
    "# print(np.sqrt(mean_squared_error(df['test_lag_2'], df['idw_lag_2_pm2_5'])))\n",
    "# print(np.sqrt(mean_squared_error(df['test_lag_3'], df['idw_lag_3_pm2_5'])))"
   ]
  },
  {
   "cell_type": "code",
   "execution_count": 17,
   "id": "4d3be089",
   "metadata": {
    "execution": {
     "iopub.execute_input": "2025-04-07T17:19:31.247151Z",
     "iopub.status.busy": "2025-04-07T17:19:31.246680Z",
     "iopub.status.idle": "2025-04-07T17:19:45.380505Z",
     "shell.execute_reply": "2025-04-07T17:19:45.379342Z"
    },
    "papermill": {
     "duration": 14.153211,
     "end_time": "2025-04-07T17:19:45.382607",
     "exception": false,
     "start_time": "2025-04-07T17:19:31.229396",
     "status": "completed"
    },
    "tags": []
   },
   "outputs": [],
   "source": [
    "# pm10\n",
    "\n",
    "idw_model = Model(\n",
    "    IDW,\n",
    "    params={'leafsize': 50, 'power': 3, 'k': 3},\n",
    "    target='pm10'\n",
    ")\n",
    "\n",
    "# idw_model = Model(\n",
    "#     RandomForestRegressor,\n",
    "#     target='pm10'\n",
    "# )\n",
    "\n",
    "df = idw_interpolation(df, idw_model, lags = [1])\n",
    "df = idw_interpolation(df, idw_model, lags = [2])\n",
    "df = idw_interpolation(df, idw_model, lags = [3])\n",
    "df = idw_interpolation(df, idw_model, lags = [7])"
   ]
  },
  {
   "cell_type": "markdown",
   "id": "ae4dad2b",
   "metadata": {
    "papermill": {
     "duration": 0.016739,
     "end_time": "2025-04-07T17:19:45.417226",
     "exception": false,
     "start_time": "2025-04-07T17:19:45.400487",
     "status": "completed"
    },
    "tags": []
   },
   "source": [
    "## Evaluation"
   ]
  },
  {
   "cell_type": "code",
   "execution_count": 18,
   "id": "5d34a0bf",
   "metadata": {
    "execution": {
     "iopub.execute_input": "2025-04-07T17:19:45.453945Z",
     "iopub.status.busy": "2025-04-07T17:19:45.453506Z",
     "iopub.status.idle": "2025-04-07T17:19:45.459856Z",
     "shell.execute_reply": "2025-04-07T17:19:45.458530Z"
    },
    "papermill": {
     "duration": 0.027568,
     "end_time": "2025-04-07T17:19:45.462225",
     "exception": false,
     "start_time": "2025-04-07T17:19:45.434657",
     "status": "completed"
    },
    "tags": []
   },
   "outputs": [],
   "source": [
    "metrics_dict = {\n",
    "    'MSE': mean_squared_error, \n",
    "    'r2 score': r2_score, \n",
    "    'MAE': mean_absolute_error,\n",
    "}\n",
    "\n",
    "# pm25_evaluator = Evaluator(\n",
    "#     df,\n",
    "#     min_train_date,\n",
    "#     max_train_date,\n",
    "#     'pm2_5',\n",
    "#     metrics_dict,\n",
    "#     max_lookback=None\n",
    "# )\n",
    "\n",
    "# pm10_evaluator = Evaluator(\n",
    "#     df,\n",
    "#     min_train_date,\n",
    "#     max_train_date,\n",
    "#     'pm10',\n",
    "#     metrics_dict,\n",
    "#     max_lookback=None\n",
    "# )"
   ]
  },
  {
   "cell_type": "code",
   "execution_count": 19,
   "id": "5cf111f0",
   "metadata": {
    "execution": {
     "iopub.execute_input": "2025-04-07T17:19:45.498975Z",
     "iopub.status.busy": "2025-04-07T17:19:45.498322Z",
     "iopub.status.idle": "2025-04-07T17:19:49.260861Z",
     "shell.execute_reply": "2025-04-07T17:19:49.259390Z"
    },
    "papermill": {
     "duration": 3.783516,
     "end_time": "2025-04-07T17:19:49.263145",
     "exception": false,
     "start_time": "2025-04-07T17:19:45.479629",
     "status": "completed"
    },
    "tags": []
   },
   "outputs": [],
   "source": [
    "df.to_csv('engineered_df.csv')"
   ]
  },
  {
   "cell_type": "code",
   "execution_count": 20,
   "id": "d07c4d94",
   "metadata": {
    "execution": {
     "iopub.execute_input": "2025-04-07T17:19:49.298648Z",
     "iopub.status.busy": "2025-04-07T17:19:49.298123Z",
     "iopub.status.idle": "2025-04-07T17:19:49.334148Z",
     "shell.execute_reply": "2025-04-07T17:19:49.332776Z"
    },
    "papermill": {
     "duration": 0.055483,
     "end_time": "2025-04-07T17:19:49.335976",
     "exception": false,
     "start_time": "2025-04-07T17:19:49.280493",
     "status": "completed"
    },
    "tags": []
   },
   "outputs": [
    {
     "data": {
      "text/html": [
       "<div>\n",
       "<style scoped>\n",
       "    .dataframe tbody tr th:only-of-type {\n",
       "        vertical-align: middle;\n",
       "    }\n",
       "\n",
       "    .dataframe tbody tr th {\n",
       "        vertical-align: top;\n",
       "    }\n",
       "\n",
       "    .dataframe thead th {\n",
       "        text-align: right;\n",
       "    }\n",
       "</style>\n",
       "<table border=\"1\" class=\"dataframe\">\n",
       "  <thead>\n",
       "    <tr style=\"text-align: right;\">\n",
       "      <th></th>\n",
       "      <th>date_value</th>\n",
       "      <th>timeOfDay</th>\n",
       "      <th>lat</th>\n",
       "      <th>lon</th>\n",
       "      <th>pm2_5</th>\n",
       "      <th>pm10</th>\n",
       "      <th>day_of_week</th>\n",
       "      <th>distance</th>\n",
       "      <th>bus_count</th>\n",
       "      <th>pm2_5_lag_1</th>\n",
       "      <th>...</th>\n",
       "      <th>pm2_5_lag_7</th>\n",
       "      <th>pm10_lag_7</th>\n",
       "      <th>idw_lag_1_pm2_5</th>\n",
       "      <th>idw_lag_2_pm2_5</th>\n",
       "      <th>idw_lag_3_pm2_5</th>\n",
       "      <th>idw_lag_7_pm2_5</th>\n",
       "      <th>idw_lag_1_pm10</th>\n",
       "      <th>idw_lag_2_pm10</th>\n",
       "      <th>idw_lag_3_pm10</th>\n",
       "      <th>idw_lag_7_pm10</th>\n",
       "    </tr>\n",
       "  </thead>\n",
       "  <tbody>\n",
       "    <tr>\n",
       "      <th>0</th>\n",
       "      <td>2020-11-01</td>\n",
       "      <td>0.0</td>\n",
       "      <td>0.269231</td>\n",
       "      <td>0.809524</td>\n",
       "      <td>481.37</td>\n",
       "      <td>522.53</td>\n",
       "      <td>1.0</td>\n",
       "      <td>0.001765</td>\n",
       "      <td>0.0</td>\n",
       "      <td>197.000308</td>\n",
       "      <td>...</td>\n",
       "      <td>197.253747</td>\n",
       "      <td>214.864707</td>\n",
       "      <td>197.287118</td>\n",
       "      <td>359.376438</td>\n",
       "      <td>446.796673</td>\n",
       "      <td>197.287118</td>\n",
       "      <td>231.26935</td>\n",
       "      <td>389.966421</td>\n",
       "      <td>481.86334</td>\n",
       "      <td>231.26935</td>\n",
       "    </tr>\n",
       "    <tr>\n",
       "      <th>1</th>\n",
       "      <td>2020-11-01</td>\n",
       "      <td>0.0</td>\n",
       "      <td>0.307692</td>\n",
       "      <td>0.761905</td>\n",
       "      <td>471.18</td>\n",
       "      <td>513.50</td>\n",
       "      <td>1.0</td>\n",
       "      <td>0.001765</td>\n",
       "      <td>0.0</td>\n",
       "      <td>197.000308</td>\n",
       "      <td>...</td>\n",
       "      <td>197.253747</td>\n",
       "      <td>214.864707</td>\n",
       "      <td>197.287118</td>\n",
       "      <td>359.376438</td>\n",
       "      <td>446.796673</td>\n",
       "      <td>197.287118</td>\n",
       "      <td>231.26935</td>\n",
       "      <td>389.966421</td>\n",
       "      <td>481.86334</td>\n",
       "      <td>231.26935</td>\n",
       "    </tr>\n",
       "    <tr>\n",
       "      <th>2</th>\n",
       "      <td>2020-11-01</td>\n",
       "      <td>0.0</td>\n",
       "      <td>0.346154</td>\n",
       "      <td>0.714286</td>\n",
       "      <td>462.44</td>\n",
       "      <td>503.81</td>\n",
       "      <td>1.0</td>\n",
       "      <td>0.001765</td>\n",
       "      <td>0.0</td>\n",
       "      <td>197.000308</td>\n",
       "      <td>...</td>\n",
       "      <td>197.253747</td>\n",
       "      <td>214.864707</td>\n",
       "      <td>197.287118</td>\n",
       "      <td>359.376438</td>\n",
       "      <td>446.796673</td>\n",
       "      <td>197.287118</td>\n",
       "      <td>231.26935</td>\n",
       "      <td>389.966421</td>\n",
       "      <td>481.86334</td>\n",
       "      <td>231.26935</td>\n",
       "    </tr>\n",
       "    <tr>\n",
       "      <th>3</th>\n",
       "      <td>2020-11-01</td>\n",
       "      <td>0.0</td>\n",
       "      <td>0.346154</td>\n",
       "      <td>0.761905</td>\n",
       "      <td>468.14</td>\n",
       "      <td>507.55</td>\n",
       "      <td>1.0</td>\n",
       "      <td>0.001765</td>\n",
       "      <td>0.0</td>\n",
       "      <td>197.000308</td>\n",
       "      <td>...</td>\n",
       "      <td>197.253747</td>\n",
       "      <td>214.864707</td>\n",
       "      <td>197.287118</td>\n",
       "      <td>359.376438</td>\n",
       "      <td>446.796673</td>\n",
       "      <td>197.287118</td>\n",
       "      <td>231.26935</td>\n",
       "      <td>389.966421</td>\n",
       "      <td>481.86334</td>\n",
       "      <td>231.26935</td>\n",
       "    </tr>\n",
       "    <tr>\n",
       "      <th>4</th>\n",
       "      <td>2020-11-01</td>\n",
       "      <td>0.0</td>\n",
       "      <td>0.384615</td>\n",
       "      <td>0.714286</td>\n",
       "      <td>462.68</td>\n",
       "      <td>505.21</td>\n",
       "      <td>1.0</td>\n",
       "      <td>0.001765</td>\n",
       "      <td>0.0</td>\n",
       "      <td>197.000308</td>\n",
       "      <td>...</td>\n",
       "      <td>197.253747</td>\n",
       "      <td>214.864707</td>\n",
       "      <td>197.287118</td>\n",
       "      <td>359.376438</td>\n",
       "      <td>446.796673</td>\n",
       "      <td>197.287118</td>\n",
       "      <td>231.26935</td>\n",
       "      <td>389.966421</td>\n",
       "      <td>481.86334</td>\n",
       "      <td>231.26935</td>\n",
       "    </tr>\n",
       "  </tbody>\n",
       "</table>\n",
       "<p>5 rows × 25 columns</p>\n",
       "</div>"
      ],
      "text/plain": [
       "  date_value  timeOfDay       lat       lon   pm2_5    pm10  day_of_week  \\\n",
       "0 2020-11-01        0.0  0.269231  0.809524  481.37  522.53          1.0   \n",
       "1 2020-11-01        0.0  0.307692  0.761905  471.18  513.50          1.0   \n",
       "2 2020-11-01        0.0  0.346154  0.714286  462.44  503.81          1.0   \n",
       "3 2020-11-01        0.0  0.346154  0.761905  468.14  507.55          1.0   \n",
       "4 2020-11-01        0.0  0.384615  0.714286  462.68  505.21          1.0   \n",
       "\n",
       "   distance  bus_count  pm2_5_lag_1  ...  pm2_5_lag_7  pm10_lag_7  \\\n",
       "0  0.001765        0.0   197.000308  ...   197.253747  214.864707   \n",
       "1  0.001765        0.0   197.000308  ...   197.253747  214.864707   \n",
       "2  0.001765        0.0   197.000308  ...   197.253747  214.864707   \n",
       "3  0.001765        0.0   197.000308  ...   197.253747  214.864707   \n",
       "4  0.001765        0.0   197.000308  ...   197.253747  214.864707   \n",
       "\n",
       "   idw_lag_1_pm2_5  idw_lag_2_pm2_5  idw_lag_3_pm2_5  idw_lag_7_pm2_5  \\\n",
       "0       197.287118       359.376438       446.796673       197.287118   \n",
       "1       197.287118       359.376438       446.796673       197.287118   \n",
       "2       197.287118       359.376438       446.796673       197.287118   \n",
       "3       197.287118       359.376438       446.796673       197.287118   \n",
       "4       197.287118       359.376438       446.796673       197.287118   \n",
       "\n",
       "   idw_lag_1_pm10  idw_lag_2_pm10  idw_lag_3_pm10  idw_lag_7_pm10  \n",
       "0       231.26935      389.966421       481.86334       231.26935  \n",
       "1       231.26935      389.966421       481.86334       231.26935  \n",
       "2       231.26935      389.966421       481.86334       231.26935  \n",
       "3       231.26935      389.966421       481.86334       231.26935  \n",
       "4       231.26935      389.966421       481.86334       231.26935  \n",
       "\n",
       "[5 rows x 25 columns]"
      ]
     },
     "execution_count": 20,
     "metadata": {},
     "output_type": "execute_result"
    }
   ],
   "source": [
    "df.head()"
   ]
  },
  {
   "cell_type": "code",
   "execution_count": 21,
   "id": "d56286d1",
   "metadata": {
    "execution": {
     "iopub.execute_input": "2025-04-07T17:19:49.370816Z",
     "iopub.status.busy": "2025-04-07T17:19:49.370385Z",
     "iopub.status.idle": "2025-04-07T17:19:49.376854Z",
     "shell.execute_reply": "2025-04-07T17:19:49.375630Z"
    },
    "papermill": {
     "duration": 0.026112,
     "end_time": "2025-04-07T17:19:49.378838",
     "exception": false,
     "start_time": "2025-04-07T17:19:49.352726",
     "status": "completed"
    },
    "tags": []
   },
   "outputs": [
    {
     "data": {
      "text/plain": [
       "['timeOfDay',\n",
       " 'lat',\n",
       " 'lon',\n",
       " 'day_of_week',\n",
       " 'distance',\n",
       " 'bus_count',\n",
       " 'pm2_5_lag_1',\n",
       " 'pm10_lag_1',\n",
       " 'pm2_5_lag_2',\n",
       " 'pm10_lag_2',\n",
       " 'pm2_5_lag_3',\n",
       " 'pm10_lag_3',\n",
       " 'pm2_5_lag_7',\n",
       " 'pm10_lag_7',\n",
       " 'idw_lag_1_pm2_5',\n",
       " 'idw_lag_2_pm2_5',\n",
       " 'idw_lag_3_pm2_5',\n",
       " 'idw_lag_7_pm2_5',\n",
       " 'idw_lag_1_pm10',\n",
       " 'idw_lag_2_pm10',\n",
       " 'idw_lag_3_pm10',\n",
       " 'idw_lag_7_pm10']"
      ]
     },
     "execution_count": 21,
     "metadata": {},
     "output_type": "execute_result"
    }
   ],
   "source": [
    "CFG.features"
   ]
  },
  {
   "cell_type": "markdown",
   "id": "cd854d84",
   "metadata": {
    "papermill": {
     "duration": 0.017224,
     "end_time": "2025-04-07T17:19:49.413135",
     "exception": false,
     "start_time": "2025-04-07T17:19:49.395911",
     "status": "completed"
    },
    "tags": []
   },
   "source": [
    "## Full Interpolation"
   ]
  },
  {
   "cell_type": "code",
   "execution_count": 22,
   "id": "01f256b8",
   "metadata": {
    "execution": {
     "iopub.execute_input": "2025-04-07T17:19:49.448563Z",
     "iopub.status.busy": "2025-04-07T17:19:49.448210Z",
     "iopub.status.idle": "2025-04-07T17:19:49.453196Z",
     "shell.execute_reply": "2025-04-07T17:19:49.452056Z"
    },
    "papermill": {
     "duration": 0.024691,
     "end_time": "2025-04-07T17:19:49.454912",
     "exception": false,
     "start_time": "2025-04-07T17:19:49.430221",
     "status": "completed"
    },
    "tags": []
   },
   "outputs": [],
   "source": [
    "lat_lon_pairs = df.groupby(by=['lat', 'lon'])"
   ]
  },
  {
   "cell_type": "code",
   "execution_count": 23,
   "id": "417515f4",
   "metadata": {
    "execution": {
     "iopub.execute_input": "2025-04-07T17:19:49.489799Z",
     "iopub.status.busy": "2025-04-07T17:19:49.489405Z",
     "iopub.status.idle": "2025-04-07T17:19:49.510100Z",
     "shell.execute_reply": "2025-04-07T17:19:49.509057Z"
    },
    "papermill": {
     "duration": 0.040593,
     "end_time": "2025-04-07T17:19:49.512125",
     "exception": false,
     "start_time": "2025-04-07T17:19:49.471532",
     "status": "completed"
    },
    "tags": []
   },
   "outputs": [
    {
     "data": {
      "text/html": [
       "<div>\n",
       "<style scoped>\n",
       "    .dataframe tbody tr th:only-of-type {\n",
       "        vertical-align: middle;\n",
       "    }\n",
       "\n",
       "    .dataframe tbody tr th {\n",
       "        vertical-align: top;\n",
       "    }\n",
       "\n",
       "    .dataframe thead th {\n",
       "        text-align: right;\n",
       "    }\n",
       "</style>\n",
       "<table border=\"1\" class=\"dataframe\">\n",
       "  <thead>\n",
       "    <tr style=\"text-align: right;\">\n",
       "      <th></th>\n",
       "      <th>lat</th>\n",
       "      <th>lon</th>\n",
       "      <th>pm2_5</th>\n",
       "    </tr>\n",
       "  </thead>\n",
       "  <tbody>\n",
       "    <tr>\n",
       "      <th>0</th>\n",
       "      <td>0.000000</td>\n",
       "      <td>0.904762</td>\n",
       "      <td>4</td>\n",
       "    </tr>\n",
       "    <tr>\n",
       "      <th>1</th>\n",
       "      <td>0.000000</td>\n",
       "      <td>0.952381</td>\n",
       "      <td>4</td>\n",
       "    </tr>\n",
       "    <tr>\n",
       "      <th>2</th>\n",
       "      <td>0.038462</td>\n",
       "      <td>0.904762</td>\n",
       "      <td>2618</td>\n",
       "    </tr>\n",
       "    <tr>\n",
       "      <th>3</th>\n",
       "      <td>0.038462</td>\n",
       "      <td>0.952381</td>\n",
       "      <td>1927</td>\n",
       "    </tr>\n",
       "    <tr>\n",
       "      <th>4</th>\n",
       "      <td>0.076923</td>\n",
       "      <td>0.809524</td>\n",
       "      <td>292</td>\n",
       "    </tr>\n",
       "    <tr>\n",
       "      <th>...</th>\n",
       "      <td>...</td>\n",
       "      <td>...</td>\n",
       "      <td>...</td>\n",
       "    </tr>\n",
       "    <tr>\n",
       "      <th>257</th>\n",
       "      <td>1.000000</td>\n",
       "      <td>0.285714</td>\n",
       "      <td>3</td>\n",
       "    </tr>\n",
       "    <tr>\n",
       "      <th>258</th>\n",
       "      <td>1.000000</td>\n",
       "      <td>0.333333</td>\n",
       "      <td>3</td>\n",
       "    </tr>\n",
       "    <tr>\n",
       "      <th>259</th>\n",
       "      <td>1.000000</td>\n",
       "      <td>0.380952</td>\n",
       "      <td>1</td>\n",
       "    </tr>\n",
       "    <tr>\n",
       "      <th>260</th>\n",
       "      <td>1.000000</td>\n",
       "      <td>0.523810</td>\n",
       "      <td>1</td>\n",
       "    </tr>\n",
       "    <tr>\n",
       "      <th>261</th>\n",
       "      <td>1.000000</td>\n",
       "      <td>0.571429</td>\n",
       "      <td>5</td>\n",
       "    </tr>\n",
       "  </tbody>\n",
       "</table>\n",
       "<p>262 rows × 3 columns</p>\n",
       "</div>"
      ],
      "text/plain": [
       "          lat       lon  pm2_5\n",
       "0    0.000000  0.904762      4\n",
       "1    0.000000  0.952381      4\n",
       "2    0.038462  0.904762   2618\n",
       "3    0.038462  0.952381   1927\n",
       "4    0.076923  0.809524    292\n",
       "..        ...       ...    ...\n",
       "257  1.000000  0.285714      3\n",
       "258  1.000000  0.333333      3\n",
       "259  1.000000  0.380952      1\n",
       "260  1.000000  0.523810      1\n",
       "261  1.000000  0.571429      5\n",
       "\n",
       "[262 rows x 3 columns]"
      ]
     },
     "execution_count": 23,
     "metadata": {},
     "output_type": "execute_result"
    }
   ],
   "source": [
    "lat_lon_pairs['pm2_5'].count().reset_index()# [['lat', 'lon']]"
   ]
  },
  {
   "cell_type": "code",
   "execution_count": 24,
   "id": "7b83b3b8",
   "metadata": {
    "execution": {
     "iopub.execute_input": "2025-04-07T17:19:49.547562Z",
     "iopub.status.busy": "2025-04-07T17:19:49.547199Z",
     "iopub.status.idle": "2025-04-07T17:19:49.562067Z",
     "shell.execute_reply": "2025-04-07T17:19:49.560880Z"
    },
    "papermill": {
     "duration": 0.034987,
     "end_time": "2025-04-07T17:19:49.564399",
     "exception": false,
     "start_time": "2025-04-07T17:19:49.529412",
     "status": "completed"
    },
    "tags": []
   },
   "outputs": [
    {
     "data": {
      "text/plain": [
       "count     262.000000\n",
       "mean      470.095420\n",
       "std       633.341018\n",
       "min         1.000000\n",
       "25%         3.250000\n",
       "50%       175.500000\n",
       "75%       762.000000\n",
       "max      2618.000000\n",
       "Name: pm2_5, dtype: float64"
      ]
     },
     "execution_count": 24,
     "metadata": {},
     "output_type": "execute_result"
    }
   ],
   "source": [
    "lat_lon_pairs['pm2_5'].count().describe()"
   ]
  },
  {
   "cell_type": "code",
   "execution_count": 25,
   "id": "29da90f3",
   "metadata": {
    "execution": {
     "iopub.execute_input": "2025-04-07T17:19:49.599998Z",
     "iopub.status.busy": "2025-04-07T17:19:49.599580Z",
     "iopub.status.idle": "2025-04-07T17:19:49.607387Z",
     "shell.execute_reply": "2025-04-07T17:19:49.606299Z"
    },
    "papermill": {
     "duration": 0.027545,
     "end_time": "2025-04-07T17:19:49.609158",
     "exception": false,
     "start_time": "2025-04-07T17:19:49.581613",
     "status": "completed"
    },
    "tags": []
   },
   "outputs": [],
   "source": [
    "def filter_sparse_data(df, count):\n",
    "    df = df.copy()\n",
    "    lat_lon_pairs = df.groupby(by=['lat', 'lon'])['pm2_5'].count().reset_index()\n",
    "    lat_lon_pairs = lat_lon_pairs[lat_lon_pairs['pm2_5'] >= count]\n",
    "\n",
    "    df = pd.merge(df, lat_lon_pairs[['lat', 'lon']], on = ['lat', 'lon'], how = 'inner')\n",
    "    return df, lat_lon_pairs[['lat', 'lon']]\n",
    "\n",
    "def make_dataset(lat_lon_pairs, df):\n",
    "    times_of_day = np.sort(df['timeOfDay'].unique())\n",
    "    dates = df['date_value'].unique()\n",
    "    \n",
    "    lat_lon_pairs = np.array(lat_lon_pairs)\n",
    "    lat_lon_list = list(map(tuple, lat_lon_pairs))\n",
    "    \n",
    "    # Generate all possible combinations\n",
    "    combinations = list(itertools.product(lat_lon_list, times_of_day, dates))\n",
    "    \n",
    "    # Convert to DataFrame\n",
    "    new_df = pd.DataFrame(combinations, columns=['lat_lon', 'timeOfDay', 'date_value'])\n",
    "    \n",
    "    # Split lat_lon tuple into separate columns\n",
    "    new_df[['lat', 'lon']] = pd.DataFrame(new_df['lat_lon'].tolist(), index=new_df.index)\n",
    "    \n",
    "    # Drop the combined lat_lon column\n",
    "    new_df.drop(columns=['lat_lon'], inplace=True)\n",
    "\n",
    "    new_df = new_df.sort_values(by = ['date_value', 'timeOfDay']).reset_index(drop=True)\n",
    "    \n",
    "    return new_df"
   ]
  },
  {
   "cell_type": "code",
   "execution_count": 26,
   "id": "a79a3886",
   "metadata": {
    "execution": {
     "iopub.execute_input": "2025-04-07T17:19:49.645384Z",
     "iopub.status.busy": "2025-04-07T17:19:49.645016Z",
     "iopub.status.idle": "2025-04-07T17:19:51.025470Z",
     "shell.execute_reply": "2025-04-07T17:19:51.023028Z"
    },
    "papermill": {
     "duration": 1.402381,
     "end_time": "2025-04-07T17:19:51.028952",
     "exception": false,
     "start_time": "2025-04-07T17:19:49.626571",
     "status": "completed"
    },
    "tags": []
   },
   "outputs": [],
   "source": [
    "dense_df, lat_lon_pairs = filter_sparse_data(df, 150)\n",
    "dense_df_empty = make_dataset(lat_lon_pairs, dense_df)"
   ]
  },
  {
   "cell_type": "code",
   "execution_count": 27,
   "id": "b26c1214",
   "metadata": {
    "execution": {
     "iopub.execute_input": "2025-04-07T17:19:51.070079Z",
     "iopub.status.busy": "2025-04-07T17:19:51.069621Z",
     "iopub.status.idle": "2025-04-07T17:19:51.076256Z",
     "shell.execute_reply": "2025-04-07T17:19:51.074678Z"
    },
    "papermill": {
     "duration": 0.029694,
     "end_time": "2025-04-07T17:19:51.078314",
     "exception": false,
     "start_time": "2025-04-07T17:19:51.048620",
     "status": "completed"
    },
    "tags": []
   },
   "outputs": [
    {
     "data": {
      "text/plain": [
       "423605"
      ]
     },
     "execution_count": 27,
     "metadata": {},
     "output_type": "execute_result"
    }
   ],
   "source": [
    "# dense_df_empty.head()\n",
    "len(dense_df_empty)"
   ]
  },
  {
   "cell_type": "code",
   "execution_count": 28,
   "id": "f925196d",
   "metadata": {
    "execution": {
     "iopub.execute_input": "2025-04-07T17:19:51.119541Z",
     "iopub.status.busy": "2025-04-07T17:19:51.118938Z",
     "iopub.status.idle": "2025-04-07T17:19:51.132644Z",
     "shell.execute_reply": "2025-04-07T17:19:51.131177Z"
    },
    "papermill": {
     "duration": 0.03766,
     "end_time": "2025-04-07T17:19:51.134662",
     "exception": false,
     "start_time": "2025-04-07T17:19:51.097002",
     "status": "completed"
    },
    "tags": []
   },
   "outputs": [],
   "source": [
    "def idw_dense_interpolate(df, df_original, idw):\n",
    "    df = df.copy()\n",
    "    df['lat'] = df['lat'] * 50\n",
    "    df['lon'] = df['lon'] * 50\n",
    "    # df['timeOfDay'] = df['timeOfDay'] * 50\n",
    "\n",
    "    df_original = df_original.copy()\n",
    "    df_original['lat'] = df_original['lat'] * 50\n",
    "    df_original['lon'] = df_original['lon'] * 50\n",
    "    # df_original['timeOfDay'] = df['timeOfDay'] * 50\n",
    "\n",
    "    target = idw.target\n",
    "\n",
    "    df_splitter = DataSplitter(\n",
    "        df_original.copy(), min_train_date, min_train_date+timedelta(days=1), \n",
    "        max_lookback=3, min_lookback=1\n",
    "    )\n",
    "    train_splits = df_splitter.get_train_test_split()\n",
    "    \n",
    "    test_df_splitter = DataSplitter(\n",
    "        df.copy(), min_train_date, min_train_date+timedelta(days=1), \n",
    "        max_lookback=3, min_lookback=None\n",
    "    )\n",
    "    test_splits = df_splitter.get_train_test_split()\n",
    "\n",
    "    df[target] = np.nan\n",
    "\n",
    "    idw.fit_on_splits(df_original, train_splits)\n",
    "    preds = idw.predict_on_splits(df, test_splits)\n",
    "\n",
    "    test_pred_full = []\n",
    "    test_full = []\n",
    "    index_full = []\n",
    "    for d, v in preds.items():\n",
    "        test_pred_full.append(v['pred'])\n",
    "        test_full.append(v['true'])\n",
    "        index_full.append(v['index'])\n",
    "    \n",
    "    test_pred_full = np.concatenate(test_pred_full)\n",
    "    test_full = np.concatenate(test_full)\n",
    "    index_full = np.concatenate(index_full)\n",
    "\n",
    "    new_df = pd.DataFrame({\n",
    "        # f'test_lag_{lag}': test_full,\n",
    "        f'filled_{target}': test_pred_full,\n",
    "    }, index = index_full)\n",
    "\n",
    "    print(df.shape, new_df.shape)\n",
    "    \n",
    "    df = pd.merge(df, new_df, left_index=True, right_index=True, how='outer')\n",
    "    \n",
    "    print(df.shape)\n",
    "    \n",
    "    # df[f'test_lag_{lag}'] = df[f'test_lag_{lag}'].fillna(df[f'test_lag_{lag}'].expanding().mean())\n",
    "    df[f'filled_{target}'] = df[f'filled_{target}'].fillna(df[f'filled_{target}'].expanding().mean())\n",
    "\n",
    "    df = df.ffill()\n",
    "    df = df.bfill()\n",
    "    \n",
    "    df = df.drop(columns = [target])\n",
    "\n",
    "    print(df.shape)\n",
    "\n",
    "    df = pd.merge(df, df_original[['date_value', 'timeOfDay', 'lat', 'lon', target]], \n",
    "                  how = 'left', on = ['date_value', 'timeOfDay', 'lat', 'lon'])\n",
    "\n",
    "    print(df.shape, df_original.shape)\n",
    "    \n",
    "    # return df, target\n",
    "    # return df.where(df[target].notna(), other= df[target], axis=1)\n",
    "    # df[f'filled_{target}'] = df.where(df[target].notna(), \n",
    "    #                                   other= df[target], axis=1)[f'filled_{target}']\n",
    "    \n",
    "    # df = df.where(df.notna(), df[target], axis=0)\n",
    "    # df = df.apply(lambda row: row.fillna(row[target]), axis=1)\n",
    "    df[f'filled_{target}'] = df[target].combine_first(df[f'filled_{target}'])\n",
    "    \n",
    "    df[f'missing_{target}'] = df[target].isna()\n",
    "\n",
    "    df[target] = df[f'filled_{target}']\n",
    "    df = df.drop(columns = [f'filled_{target}'])\n",
    "\n",
    "    df['lat'] = df['lat'] / 50\n",
    "    df['lon'] = df['lon'] / 50\n",
    "    # df['timeOfDay'] = df['timeOfDay'] / 50\n",
    "\n",
    "    df = df.sort_values(by=['lat', 'lon', 'date_value', 'timeOfDay'])\n",
    "\n",
    "    # df[target] = df[f'filled_{target}']\n",
    "    # df = df.drop(columns = [f'filled_{target}'])\n",
    "\n",
    "    return df"
   ]
  },
  {
   "cell_type": "code",
   "execution_count": 29,
   "id": "aa66ff14",
   "metadata": {
    "execution": {
     "iopub.execute_input": "2025-04-07T17:19:51.175440Z",
     "iopub.status.busy": "2025-04-07T17:19:51.175064Z",
     "iopub.status.idle": "2025-04-07T17:20:01.848543Z",
     "shell.execute_reply": "2025-04-07T17:20:01.846909Z"
    },
    "papermill": {
     "duration": 10.696647,
     "end_time": "2025-04-07T17:20:01.851576",
     "exception": false,
     "start_time": "2025-04-07T17:19:51.154929",
     "status": "completed"
    },
    "tags": []
   },
   "outputs": [
    {
     "name": "stdout",
     "output_type": "stream",
     "text": [
      "(423605, 5) (121036, 1)\n",
      "(423605, 6)\n",
      "(423605, 5)\n",
      "(423605, 6) (123165, 25)\n",
      "(423605, 7) (121036, 1)\n",
      "(423605, 8)\n",
      "(423605, 7)\n",
      "(423605, 8) (123165, 25)\n",
      "(423605, 9) (121036, 1)\n",
      "(423605, 10)\n",
      "(423605, 9)\n",
      "(423605, 10) (123165, 25)\n",
      "(423605, 11) (121036, 1)\n",
      "(423605, 12)\n",
      "(423605, 11)\n",
      "(423605, 12) (123165, 25)\n"
     ]
    }
   ],
   "source": [
    "traffic_idw_model = Model(\n",
    "    IDW,\n",
    "    params={'leafsize': 50, 'power': 3, 'k': 3},\n",
    "    target='distance',\n",
    "    features = ['timeOfDay', 'lat', 'lon']\n",
    ")\n",
    "\n",
    "bus_idw_model = Model(\n",
    "    IDW,\n",
    "    params={'leafsize': 50, 'power': 3, 'k': 3},\n",
    "    target='bus_count',\n",
    "    features = ['timeOfDay', 'lat', 'lon']\n",
    ")\n",
    "\n",
    "pm25_idw_model = Model(\n",
    "    IDW,\n",
    "    params={'leafsize': 50, 'power': 3, 'k': 3},\n",
    "    target='pm2_5',\n",
    "    features = ['timeOfDay', 'lat', 'lon']\n",
    ")\n",
    "\n",
    "pm10_idw_model = Model(\n",
    "    IDW,\n",
    "    params={'leafsize': 50, 'power': 3, 'k': 3},\n",
    "    target='pm10',\n",
    "    features = ['timeOfDay', 'lat', 'lon']\n",
    ")\n",
    "\n",
    "idw_models = [traffic_idw_model, bus_idw_model, pm25_idw_model, pm10_idw_model]\n",
    "\n",
    "for idw_model in idw_models:\n",
    "    dense_df_empty = idw_dense_interpolate(dense_df_empty, df, idw_model)"
   ]
  },
  {
   "cell_type": "code",
   "execution_count": 30,
   "id": "c5470383",
   "metadata": {
    "execution": {
     "iopub.execute_input": "2025-04-07T17:20:01.896045Z",
     "iopub.status.busy": "2025-04-07T17:20:01.895640Z",
     "iopub.status.idle": "2025-04-07T17:20:01.903123Z",
     "shell.execute_reply": "2025-04-07T17:20:01.901678Z"
    },
    "papermill": {
     "duration": 0.033274,
     "end_time": "2025-04-07T17:20:01.905877",
     "exception": false,
     "start_time": "2025-04-07T17:20:01.872603",
     "status": "completed"
    },
    "tags": []
   },
   "outputs": [
    {
     "data": {
      "text/plain": [
       "423605"
      ]
     },
     "execution_count": 30,
     "metadata": {},
     "output_type": "execute_result"
    }
   ],
   "source": [
    "dense_df = dense_df_empty\n",
    "len(dense_df)"
   ]
  },
  {
   "cell_type": "code",
   "execution_count": 31,
   "id": "efa4c7ab",
   "metadata": {
    "execution": {
     "iopub.execute_input": "2025-04-07T17:20:01.948253Z",
     "iopub.status.busy": "2025-04-07T17:20:01.947787Z",
     "iopub.status.idle": "2025-04-07T17:20:01.973093Z",
     "shell.execute_reply": "2025-04-07T17:20:01.971599Z"
    },
    "papermill": {
     "duration": 0.052652,
     "end_time": "2025-04-07T17:20:01.977782",
     "exception": false,
     "start_time": "2025-04-07T17:20:01.925130",
     "status": "completed"
    },
    "tags": []
   },
   "outputs": [
    {
     "data": {
      "text/html": [
       "<div>\n",
       "<style scoped>\n",
       "    .dataframe tbody tr th:only-of-type {\n",
       "        vertical-align: middle;\n",
       "    }\n",
       "\n",
       "    .dataframe tbody tr th {\n",
       "        vertical-align: top;\n",
       "    }\n",
       "\n",
       "    .dataframe thead th {\n",
       "        text-align: right;\n",
       "    }\n",
       "</style>\n",
       "<table border=\"1\" class=\"dataframe\">\n",
       "  <thead>\n",
       "    <tr style=\"text-align: right;\">\n",
       "      <th></th>\n",
       "      <th>timeOfDay</th>\n",
       "      <th>date_value</th>\n",
       "      <th>lat</th>\n",
       "      <th>lon</th>\n",
       "      <th>distance</th>\n",
       "      <th>missing_distance</th>\n",
       "      <th>bus_count</th>\n",
       "      <th>missing_bus_count</th>\n",
       "      <th>pm2_5</th>\n",
       "      <th>missing_pm2_5</th>\n",
       "      <th>pm10</th>\n",
       "      <th>missing_pm10</th>\n",
       "    </tr>\n",
       "  </thead>\n",
       "  <tbody>\n",
       "    <tr>\n",
       "      <th>423072</th>\n",
       "      <td>0.882353</td>\n",
       "      <td>2021-01-30</td>\n",
       "      <td>0.807692</td>\n",
       "      <td>0.857143</td>\n",
       "      <td>0.004846</td>\n",
       "      <td>True</td>\n",
       "      <td>0.057328</td>\n",
       "      <td>True</td>\n",
       "      <td>198.275431</td>\n",
       "      <td>True</td>\n",
       "      <td>217.936466</td>\n",
       "      <td>True</td>\n",
       "    </tr>\n",
       "    <tr>\n",
       "      <th>423205</th>\n",
       "      <td>0.911765</td>\n",
       "      <td>2021-01-30</td>\n",
       "      <td>0.807692</td>\n",
       "      <td>0.857143</td>\n",
       "      <td>0.004846</td>\n",
       "      <td>True</td>\n",
       "      <td>0.057322</td>\n",
       "      <td>True</td>\n",
       "      <td>198.282628</td>\n",
       "      <td>True</td>\n",
       "      <td>217.943753</td>\n",
       "      <td>True</td>\n",
       "    </tr>\n",
       "    <tr>\n",
       "      <th>423338</th>\n",
       "      <td>0.941176</td>\n",
       "      <td>2021-01-30</td>\n",
       "      <td>0.807692</td>\n",
       "      <td>0.857143</td>\n",
       "      <td>0.001140</td>\n",
       "      <td>False</td>\n",
       "      <td>0.000000</td>\n",
       "      <td>False</td>\n",
       "      <td>314.110000</td>\n",
       "      <td>False</td>\n",
       "      <td>338.780000</td>\n",
       "      <td>False</td>\n",
       "    </tr>\n",
       "    <tr>\n",
       "      <th>423471</th>\n",
       "      <td>0.970588</td>\n",
       "      <td>2021-01-30</td>\n",
       "      <td>0.807692</td>\n",
       "      <td>0.857143</td>\n",
       "      <td>0.001308</td>\n",
       "      <td>False</td>\n",
       "      <td>0.000000</td>\n",
       "      <td>False</td>\n",
       "      <td>429.870000</td>\n",
       "      <td>False</td>\n",
       "      <td>462.330000</td>\n",
       "      <td>False</td>\n",
       "    </tr>\n",
       "    <tr>\n",
       "      <th>423604</th>\n",
       "      <td>1.000000</td>\n",
       "      <td>2021-01-30</td>\n",
       "      <td>0.807692</td>\n",
       "      <td>0.857143</td>\n",
       "      <td>0.004846</td>\n",
       "      <td>True</td>\n",
       "      <td>0.057306</td>\n",
       "      <td>True</td>\n",
       "      <td>198.308631</td>\n",
       "      <td>True</td>\n",
       "      <td>217.970851</td>\n",
       "      <td>True</td>\n",
       "    </tr>\n",
       "  </tbody>\n",
       "</table>\n",
       "</div>"
      ],
      "text/plain": [
       "        timeOfDay date_value       lat       lon  distance  missing_distance  \\\n",
       "423072   0.882353 2021-01-30  0.807692  0.857143  0.004846              True   \n",
       "423205   0.911765 2021-01-30  0.807692  0.857143  0.004846              True   \n",
       "423338   0.941176 2021-01-30  0.807692  0.857143  0.001140             False   \n",
       "423471   0.970588 2021-01-30  0.807692  0.857143  0.001308             False   \n",
       "423604   1.000000 2021-01-30  0.807692  0.857143  0.004846              True   \n",
       "\n",
       "        bus_count  missing_bus_count       pm2_5  missing_pm2_5        pm10  \\\n",
       "423072   0.057328               True  198.275431           True  217.936466   \n",
       "423205   0.057322               True  198.282628           True  217.943753   \n",
       "423338   0.000000              False  314.110000          False  338.780000   \n",
       "423471   0.000000              False  429.870000          False  462.330000   \n",
       "423604   0.057306               True  198.308631           True  217.970851   \n",
       "\n",
       "        missing_pm10  \n",
       "423072          True  \n",
       "423205          True  \n",
       "423338         False  \n",
       "423471         False  \n",
       "423604          True  "
      ]
     },
     "execution_count": 31,
     "metadata": {},
     "output_type": "execute_result"
    }
   ],
   "source": [
    "dense_df.tail()"
   ]
  },
  {
   "cell_type": "code",
   "execution_count": 32,
   "id": "b969c364",
   "metadata": {
    "execution": {
     "iopub.execute_input": "2025-04-07T17:20:02.029132Z",
     "iopub.status.busy": "2025-04-07T17:20:02.028429Z",
     "iopub.status.idle": "2025-04-07T17:20:02.312145Z",
     "shell.execute_reply": "2025-04-07T17:20:02.310832Z"
    },
    "papermill": {
     "duration": 0.313498,
     "end_time": "2025-04-07T17:20:02.314363",
     "exception": false,
     "start_time": "2025-04-07T17:20:02.000865",
     "status": "completed"
    },
    "tags": []
   },
   "outputs": [],
   "source": [
    "dense_df = dense_df.sort_values(by = ['date_value', 'timeOfDay', 'lat', 'lon'])\n",
    "df = df.sort_values(by = ['date_value', 'timeOfDay', 'lat', 'lon'])\n",
    "\n",
    "combined_df = pd.merge(dense_df[['date_value', 'timeOfDay', 'lat', 'lon', 'pm2_5', 'pm10']], \n",
    "                       df[['date_value', 'timeOfDay', 'lat', 'lon', 'pm2_5', 'pm10']], \n",
    "                       on = ['date_value', 'timeOfDay', 'lat', 'lon'],\n",
    "                      how = 'inner')"
   ]
  },
  {
   "cell_type": "code",
   "execution_count": 33,
   "id": "330d97bd",
   "metadata": {
    "execution": {
     "iopub.execute_input": "2025-04-07T17:20:02.359497Z",
     "iopub.status.busy": "2025-04-07T17:20:02.359086Z",
     "iopub.status.idle": "2025-04-07T17:20:02.379176Z",
     "shell.execute_reply": "2025-04-07T17:20:02.377909Z"
    },
    "papermill": {
     "duration": 0.047389,
     "end_time": "2025-04-07T17:20:02.381236",
     "exception": false,
     "start_time": "2025-04-07T17:20:02.333847",
     "status": "completed"
    },
    "tags": []
   },
   "outputs": [
    {
     "data": {
      "text/html": [
       "<div>\n",
       "<style scoped>\n",
       "    .dataframe tbody tr th:only-of-type {\n",
       "        vertical-align: middle;\n",
       "    }\n",
       "\n",
       "    .dataframe tbody tr th {\n",
       "        vertical-align: top;\n",
       "    }\n",
       "\n",
       "    .dataframe thead th {\n",
       "        text-align: right;\n",
       "    }\n",
       "</style>\n",
       "<table border=\"1\" class=\"dataframe\">\n",
       "  <thead>\n",
       "    <tr style=\"text-align: right;\">\n",
       "      <th></th>\n",
       "      <th>date_value</th>\n",
       "      <th>timeOfDay</th>\n",
       "      <th>lat</th>\n",
       "      <th>lon</th>\n",
       "      <th>pm2_5_x</th>\n",
       "      <th>pm10_x</th>\n",
       "      <th>pm2_5_y</th>\n",
       "      <th>pm10_y</th>\n",
       "    </tr>\n",
       "  </thead>\n",
       "  <tbody>\n",
       "    <tr>\n",
       "      <th>0</th>\n",
       "      <td>2020-11-01</td>\n",
       "      <td>0.0</td>\n",
       "      <td>0.269231</td>\n",
       "      <td>0.809524</td>\n",
       "      <td>481.37</td>\n",
       "      <td>522.53</td>\n",
       "      <td>481.37</td>\n",
       "      <td>522.53</td>\n",
       "    </tr>\n",
       "    <tr>\n",
       "      <th>1</th>\n",
       "      <td>2020-11-01</td>\n",
       "      <td>0.0</td>\n",
       "      <td>0.307692</td>\n",
       "      <td>0.761905</td>\n",
       "      <td>471.18</td>\n",
       "      <td>513.50</td>\n",
       "      <td>471.18</td>\n",
       "      <td>513.50</td>\n",
       "    </tr>\n",
       "    <tr>\n",
       "      <th>2</th>\n",
       "      <td>2020-11-01</td>\n",
       "      <td>0.0</td>\n",
       "      <td>0.346154</td>\n",
       "      <td>0.714286</td>\n",
       "      <td>462.44</td>\n",
       "      <td>503.81</td>\n",
       "      <td>462.44</td>\n",
       "      <td>503.81</td>\n",
       "    </tr>\n",
       "    <tr>\n",
       "      <th>3</th>\n",
       "      <td>2020-11-01</td>\n",
       "      <td>0.0</td>\n",
       "      <td>0.346154</td>\n",
       "      <td>0.761905</td>\n",
       "      <td>468.14</td>\n",
       "      <td>507.55</td>\n",
       "      <td>468.14</td>\n",
       "      <td>507.55</td>\n",
       "    </tr>\n",
       "    <tr>\n",
       "      <th>4</th>\n",
       "      <td>2020-11-01</td>\n",
       "      <td>0.0</td>\n",
       "      <td>0.384615</td>\n",
       "      <td>0.714286</td>\n",
       "      <td>462.68</td>\n",
       "      <td>505.21</td>\n",
       "      <td>462.68</td>\n",
       "      <td>505.21</td>\n",
       "    </tr>\n",
       "    <tr>\n",
       "      <th>...</th>\n",
       "      <td>...</td>\n",
       "      <td>...</td>\n",
       "      <td>...</td>\n",
       "      <td>...</td>\n",
       "      <td>...</td>\n",
       "      <td>...</td>\n",
       "      <td>...</td>\n",
       "      <td>...</td>\n",
       "    </tr>\n",
       "    <tr>\n",
       "      <th>121411</th>\n",
       "      <td>2021-01-30</td>\n",
       "      <td>1.0</td>\n",
       "      <td>0.615385</td>\n",
       "      <td>0.714286</td>\n",
       "      <td>248.29</td>\n",
       "      <td>268.74</td>\n",
       "      <td>248.29</td>\n",
       "      <td>268.74</td>\n",
       "    </tr>\n",
       "    <tr>\n",
       "      <th>121412</th>\n",
       "      <td>2021-01-30</td>\n",
       "      <td>1.0</td>\n",
       "      <td>0.615385</td>\n",
       "      <td>0.761905</td>\n",
       "      <td>262.03</td>\n",
       "      <td>285.68</td>\n",
       "      <td>262.03</td>\n",
       "      <td>285.68</td>\n",
       "    </tr>\n",
       "    <tr>\n",
       "      <th>121413</th>\n",
       "      <td>2021-01-30</td>\n",
       "      <td>1.0</td>\n",
       "      <td>0.615385</td>\n",
       "      <td>0.809524</td>\n",
       "      <td>259.75</td>\n",
       "      <td>279.04</td>\n",
       "      <td>259.75</td>\n",
       "      <td>279.04</td>\n",
       "    </tr>\n",
       "    <tr>\n",
       "      <th>121414</th>\n",
       "      <td>2021-01-30</td>\n",
       "      <td>1.0</td>\n",
       "      <td>0.653846</td>\n",
       "      <td>0.809524</td>\n",
       "      <td>269.06</td>\n",
       "      <td>289.19</td>\n",
       "      <td>269.06</td>\n",
       "      <td>289.19</td>\n",
       "    </tr>\n",
       "    <tr>\n",
       "      <th>121415</th>\n",
       "      <td>2021-01-30</td>\n",
       "      <td>1.0</td>\n",
       "      <td>0.653846</td>\n",
       "      <td>0.857143</td>\n",
       "      <td>287.00</td>\n",
       "      <td>310.00</td>\n",
       "      <td>287.00</td>\n",
       "      <td>310.00</td>\n",
       "    </tr>\n",
       "  </tbody>\n",
       "</table>\n",
       "<p>121416 rows × 8 columns</p>\n",
       "</div>"
      ],
      "text/plain": [
       "       date_value  timeOfDay       lat       lon  pm2_5_x  pm10_x  pm2_5_y  \\\n",
       "0      2020-11-01        0.0  0.269231  0.809524   481.37  522.53   481.37   \n",
       "1      2020-11-01        0.0  0.307692  0.761905   471.18  513.50   471.18   \n",
       "2      2020-11-01        0.0  0.346154  0.714286   462.44  503.81   462.44   \n",
       "3      2020-11-01        0.0  0.346154  0.761905   468.14  507.55   468.14   \n",
       "4      2020-11-01        0.0  0.384615  0.714286   462.68  505.21   462.68   \n",
       "...           ...        ...       ...       ...      ...     ...      ...   \n",
       "121411 2021-01-30        1.0  0.615385  0.714286   248.29  268.74   248.29   \n",
       "121412 2021-01-30        1.0  0.615385  0.761905   262.03  285.68   262.03   \n",
       "121413 2021-01-30        1.0  0.615385  0.809524   259.75  279.04   259.75   \n",
       "121414 2021-01-30        1.0  0.653846  0.809524   269.06  289.19   269.06   \n",
       "121415 2021-01-30        1.0  0.653846  0.857143   287.00  310.00   287.00   \n",
       "\n",
       "        pm10_y  \n",
       "0       522.53  \n",
       "1       513.50  \n",
       "2       503.81  \n",
       "3       507.55  \n",
       "4       505.21  \n",
       "...        ...  \n",
       "121411  268.74  \n",
       "121412  285.68  \n",
       "121413  279.04  \n",
       "121414  289.19  \n",
       "121415  310.00  \n",
       "\n",
       "[121416 rows x 8 columns]"
      ]
     },
     "execution_count": 33,
     "metadata": {},
     "output_type": "execute_result"
    }
   ],
   "source": [
    "combined_df"
   ]
  },
  {
   "cell_type": "code",
   "execution_count": 34,
   "id": "2ab2c4a4",
   "metadata": {
    "execution": {
     "iopub.execute_input": "2025-04-07T17:20:02.420929Z",
     "iopub.status.busy": "2025-04-07T17:20:02.420495Z",
     "iopub.status.idle": "2025-04-07T17:20:02.439846Z",
     "shell.execute_reply": "2025-04-07T17:20:02.437842Z"
    },
    "papermill": {
     "duration": 0.040873,
     "end_time": "2025-04-07T17:20:02.442046",
     "exception": false,
     "start_time": "2025-04-07T17:20:02.401173",
     "status": "completed"
    },
    "tags": []
   },
   "outputs": [],
   "source": [
    "dense_df['missing'] = dense_df['missing_pm10']\n",
    "dense_df.drop(columns = ['missing_distance', 'missing_bus_count', 'missing_pm10', 'missing_pm2_5'], \n",
    "              inplace=True)"
   ]
  },
  {
   "cell_type": "code",
   "execution_count": 35,
   "id": "e7669764",
   "metadata": {
    "execution": {
     "iopub.execute_input": "2025-04-07T17:20:02.481784Z",
     "iopub.status.busy": "2025-04-07T17:20:02.481349Z",
     "iopub.status.idle": "2025-04-07T17:20:02.491122Z",
     "shell.execute_reply": "2025-04-07T17:20:02.489358Z"
    },
    "papermill": {
     "duration": 0.031913,
     "end_time": "2025-04-07T17:20:02.493538",
     "exception": false,
     "start_time": "2025-04-07T17:20:02.461625",
     "status": "completed"
    },
    "tags": []
   },
   "outputs": [
    {
     "data": {
      "text/plain": [
       "0.713374488025401"
      ]
     },
     "execution_count": 35,
     "metadata": {},
     "output_type": "execute_result"
    }
   ],
   "source": [
    "dense_df['missing'].mean()"
   ]
  },
  {
   "cell_type": "code",
   "execution_count": 36,
   "id": "58a426b1",
   "metadata": {
    "execution": {
     "iopub.execute_input": "2025-04-07T17:20:02.534104Z",
     "iopub.status.busy": "2025-04-07T17:20:02.533546Z",
     "iopub.status.idle": "2025-04-07T17:20:08.039172Z",
     "shell.execute_reply": "2025-04-07T17:20:08.037885Z"
    },
    "papermill": {
     "duration": 5.52864,
     "end_time": "2025-04-07T17:20:08.041868",
     "exception": false,
     "start_time": "2025-04-07T17:20:02.513228",
     "status": "completed"
    },
    "tags": []
   },
   "outputs": [],
   "source": [
    "dense_df.to_csv('dense_df.csv')"
   ]
  },
  {
   "cell_type": "code",
   "execution_count": 37,
   "id": "26e6dc9d",
   "metadata": {
    "execution": {
     "iopub.execute_input": "2025-04-07T17:20:08.080973Z",
     "iopub.status.busy": "2025-04-07T17:20:08.080546Z",
     "iopub.status.idle": "2025-04-07T17:20:08.085008Z",
     "shell.execute_reply": "2025-04-07T17:20:08.083789Z"
    },
    "papermill": {
     "duration": 0.025873,
     "end_time": "2025-04-07T17:20:08.086996",
     "exception": false,
     "start_time": "2025-04-07T17:20:08.061123",
     "status": "completed"
    },
    "tags": []
   },
   "outputs": [],
   "source": [
    "# df['day_of_week'] = pd.to_datetime(df[date_column]).dt.day_name()"
   ]
  },
  {
   "cell_type": "code",
   "execution_count": 38,
   "id": "5077287e",
   "metadata": {
    "execution": {
     "iopub.execute_input": "2025-04-07T17:20:08.129182Z",
     "iopub.status.busy": "2025-04-07T17:20:08.128717Z",
     "iopub.status.idle": "2025-04-07T17:20:08.143577Z",
     "shell.execute_reply": "2025-04-07T17:20:08.142213Z"
    },
    "papermill": {
     "duration": 0.037389,
     "end_time": "2025-04-07T17:20:08.145806",
     "exception": false,
     "start_time": "2025-04-07T17:20:08.108417",
     "status": "completed"
    },
    "tags": []
   },
   "outputs": [
    {
     "data": {
      "text/html": [
       "<div>\n",
       "<style scoped>\n",
       "    .dataframe tbody tr th:only-of-type {\n",
       "        vertical-align: middle;\n",
       "    }\n",
       "\n",
       "    .dataframe tbody tr th {\n",
       "        vertical-align: top;\n",
       "    }\n",
       "\n",
       "    .dataframe thead th {\n",
       "        text-align: right;\n",
       "    }\n",
       "</style>\n",
       "<table border=\"1\" class=\"dataframe\">\n",
       "  <thead>\n",
       "    <tr style=\"text-align: right;\">\n",
       "      <th></th>\n",
       "      <th>timeOfDay</th>\n",
       "      <th>date_value</th>\n",
       "      <th>lat</th>\n",
       "      <th>lon</th>\n",
       "      <th>distance</th>\n",
       "      <th>bus_count</th>\n",
       "      <th>pm2_5</th>\n",
       "      <th>pm10</th>\n",
       "      <th>missing</th>\n",
       "    </tr>\n",
       "  </thead>\n",
       "  <tbody>\n",
       "    <tr>\n",
       "      <th>0</th>\n",
       "      <td>0.0</td>\n",
       "      <td>2020-11-01</td>\n",
       "      <td>0.038462</td>\n",
       "      <td>0.904762</td>\n",
       "      <td>0.000447</td>\n",
       "      <td>0.000000</td>\n",
       "      <td>133.123529</td>\n",
       "      <td>148.118824</td>\n",
       "      <td>True</td>\n",
       "    </tr>\n",
       "    <tr>\n",
       "      <th>1</th>\n",
       "      <td>0.0</td>\n",
       "      <td>2020-11-01</td>\n",
       "      <td>0.038462</td>\n",
       "      <td>0.952381</td>\n",
       "      <td>0.000447</td>\n",
       "      <td>0.000000</td>\n",
       "      <td>133.123529</td>\n",
       "      <td>148.118824</td>\n",
       "      <td>True</td>\n",
       "    </tr>\n",
       "    <tr>\n",
       "      <th>2</th>\n",
       "      <td>0.0</td>\n",
       "      <td>2020-11-01</td>\n",
       "      <td>0.076923</td>\n",
       "      <td>0.809524</td>\n",
       "      <td>0.000447</td>\n",
       "      <td>0.047577</td>\n",
       "      <td>246.319707</td>\n",
       "      <td>273.117459</td>\n",
       "      <td>True</td>\n",
       "    </tr>\n",
       "    <tr>\n",
       "      <th>3</th>\n",
       "      <td>0.0</td>\n",
       "      <td>2020-11-01</td>\n",
       "      <td>0.076923</td>\n",
       "      <td>0.857143</td>\n",
       "      <td>0.000447</td>\n",
       "      <td>0.000000</td>\n",
       "      <td>272.947254</td>\n",
       "      <td>296.924339</td>\n",
       "      <td>True</td>\n",
       "    </tr>\n",
       "    <tr>\n",
       "      <th>4</th>\n",
       "      <td>0.0</td>\n",
       "      <td>2020-11-01</td>\n",
       "      <td>0.076923</td>\n",
       "      <td>0.904762</td>\n",
       "      <td>0.000447</td>\n",
       "      <td>0.142857</td>\n",
       "      <td>333.510000</td>\n",
       "      <td>367.575000</td>\n",
       "      <td>True</td>\n",
       "    </tr>\n",
       "  </tbody>\n",
       "</table>\n",
       "</div>"
      ],
      "text/plain": [
       "   timeOfDay date_value       lat       lon  distance  bus_count       pm2_5  \\\n",
       "0        0.0 2020-11-01  0.038462  0.904762  0.000447   0.000000  133.123529   \n",
       "1        0.0 2020-11-01  0.038462  0.952381  0.000447   0.000000  133.123529   \n",
       "2        0.0 2020-11-01  0.076923  0.809524  0.000447   0.047577  246.319707   \n",
       "3        0.0 2020-11-01  0.076923  0.857143  0.000447   0.000000  272.947254   \n",
       "4        0.0 2020-11-01  0.076923  0.904762  0.000447   0.142857  333.510000   \n",
       "\n",
       "         pm10  missing  \n",
       "0  148.118824     True  \n",
       "1  148.118824     True  \n",
       "2  273.117459     True  \n",
       "3  296.924339     True  \n",
       "4  367.575000     True  "
      ]
     },
     "execution_count": 38,
     "metadata": {},
     "output_type": "execute_result"
    }
   ],
   "source": [
    "dense_df.head()"
   ]
  },
  {
   "cell_type": "code",
   "execution_count": 39,
   "id": "083aeddf",
   "metadata": {
    "execution": {
     "iopub.execute_input": "2025-04-07T17:20:08.188844Z",
     "iopub.status.busy": "2025-04-07T17:20:08.188339Z",
     "iopub.status.idle": "2025-04-07T17:20:08.201903Z",
     "shell.execute_reply": "2025-04-07T17:20:08.199618Z"
    },
    "papermill": {
     "duration": 0.037423,
     "end_time": "2025-04-07T17:20:08.204409",
     "exception": false,
     "start_time": "2025-04-07T17:20:08.166986",
     "status": "completed"
    },
    "tags": []
   },
   "outputs": [
    {
     "data": {
      "text/plain": [
       "35"
      ]
     },
     "execution_count": 39,
     "metadata": {},
     "output_type": "execute_result"
    }
   ],
   "source": [
    "len(dense_df.timeOfDay.unique())"
   ]
  },
  {
   "cell_type": "markdown",
   "id": "880885d0",
   "metadata": {
    "papermill": {
     "duration": 0.019643,
     "end_time": "2025-04-07T17:20:08.245658",
     "exception": false,
     "start_time": "2025-04-07T17:20:08.226015",
     "status": "completed"
    },
    "tags": []
   },
   "source": [
    "## Full Dense for Evaluation"
   ]
  },
  {
   "cell_type": "code",
   "execution_count": 40,
   "id": "5af08119",
   "metadata": {
    "execution": {
     "iopub.execute_input": "2025-04-07T17:20:08.290068Z",
     "iopub.status.busy": "2025-04-07T17:20:08.289633Z",
     "iopub.status.idle": "2025-04-07T17:20:33.642125Z",
     "shell.execute_reply": "2025-04-07T17:20:33.640258Z"
    },
    "papermill": {
     "duration": 25.378043,
     "end_time": "2025-04-07T17:20:33.644497",
     "exception": false,
     "start_time": "2025-04-07T17:20:08.266454",
     "status": "completed"
    },
    "tags": []
   },
   "outputs": [
    {
     "name": "stdout",
     "output_type": "stream",
     "text": [
      "834470\n",
      "(834470, 5) (121036, 1)\n",
      "(834470, 6)\n",
      "(834470, 5)\n",
      "(834470, 6) (123165, 25)\n",
      "(834470, 7) (121036, 1)\n",
      "(834470, 8)\n",
      "(834470, 7)\n",
      "(834470, 8) (123165, 25)\n",
      "(834470, 9) (121036, 1)\n",
      "(834470, 10)\n",
      "(834470, 9)\n",
      "(834470, 10) (123165, 25)\n",
      "(834470, 11) (121036, 1)\n",
      "(834470, 12)\n",
      "(834470, 11)\n",
      "(834470, 12) (123165, 25)\n",
      "834470\n",
      "0.8524033218689707\n"
     ]
    }
   ],
   "source": [
    "full_dense_df, lat_lon_pairs = filter_sparse_data(df, 0)\n",
    "full_dense_df_empty = make_dataset(lat_lon_pairs, full_dense_df)\n",
    "print(len(full_dense_df_empty))\n",
    "\n",
    "traffic_idw_model = Model(\n",
    "    IDW,\n",
    "    params={'leafsize': 50, 'power': 3, 'k': 3},\n",
    "    target='distance',\n",
    "    features = ['timeOfDay', 'lat', 'lon']\n",
    ")\n",
    "\n",
    "bus_idw_model = Model(\n",
    "    IDW,\n",
    "    params={'leafsize': 50, 'power': 3, 'k': 3},\n",
    "    target='bus_count',\n",
    "    features = ['timeOfDay', 'lat', 'lon']\n",
    ")\n",
    "\n",
    "pm25_idw_model = Model(\n",
    "    IDW,\n",
    "    params={'leafsize': 50, 'power': 3, 'k': 3},\n",
    "    target='pm2_5',\n",
    "    features = ['timeOfDay', 'lat', 'lon']\n",
    ")\n",
    "\n",
    "pm10_idw_model = Model(\n",
    "    IDW,\n",
    "    params={'leafsize': 50, 'power': 3, 'k': 3},\n",
    "    target='pm10',\n",
    "    features = ['timeOfDay', 'lat', 'lon']\n",
    ")\n",
    "\n",
    "idw_models = [traffic_idw_model, bus_idw_model, pm25_idw_model, pm10_idw_model]\n",
    "\n",
    "for idw_model in idw_models:\n",
    "    full_dense_df_empty = idw_dense_interpolate(full_dense_df_empty, df, idw_model)\n",
    "\n",
    "full_dense_df = full_dense_df_empty\n",
    "print(len(full_dense_df))\n",
    "\n",
    "full_dense_df['missing'] = full_dense_df['missing_pm10']\n",
    "full_dense_df.drop(columns = ['missing_distance', 'missing_bus_count', 'missing_pm10', 'missing_pm2_5'], \n",
    "              inplace=True)\n",
    "\n",
    "print(full_dense_df['missing'].mean())\n",
    "\n",
    "full_dense_df.to_csv('full_dense_df.csv')"
   ]
  },
  {
   "cell_type": "code",
   "execution_count": 41,
   "id": "a4595c98",
   "metadata": {
    "execution": {
     "iopub.execute_input": "2025-04-07T17:20:33.690105Z",
     "iopub.status.busy": "2025-04-07T17:20:33.689639Z",
     "iopub.status.idle": "2025-04-07T17:20:34.073886Z",
     "shell.execute_reply": "2025-04-07T17:20:34.072627Z"
    },
    "papermill": {
     "duration": 0.4103,
     "end_time": "2025-04-07T17:20:34.075933",
     "exception": false,
     "start_time": "2025-04-07T17:20:33.665633",
     "status": "completed"
    },
    "tags": []
   },
   "outputs": [],
   "source": [
    "full_dense_df = full_dense_df.sort_values(by = ['date_value', 'timeOfDay', 'lat', 'lon'])\n",
    "df = df.sort_values(by = ['date_value', 'timeOfDay', 'lat', 'lon'])\n",
    "\n",
    "combined_df = pd.merge(full_dense_df[['date_value', 'timeOfDay', 'lat', 'lon', 'pm2_5', 'pm10']], \n",
    "                       df[['date_value', 'timeOfDay', 'lat', 'lon', 'pm2_5', 'pm10']], \n",
    "                       on = ['date_value', 'timeOfDay', 'lat', 'lon'],\n",
    "                      how = 'inner')"
   ]
  },
  {
   "cell_type": "code",
   "execution_count": 42,
   "id": "8eac097c",
   "metadata": {
    "execution": {
     "iopub.execute_input": "2025-04-07T17:20:34.117131Z",
     "iopub.status.busy": "2025-04-07T17:20:34.116718Z",
     "iopub.status.idle": "2025-04-07T17:20:34.132010Z",
     "shell.execute_reply": "2025-04-07T17:20:34.130887Z"
    },
    "papermill": {
     "duration": 0.03931,
     "end_time": "2025-04-07T17:20:34.134643",
     "exception": false,
     "start_time": "2025-04-07T17:20:34.095333",
     "status": "completed"
    },
    "tags": []
   },
   "outputs": [
    {
     "data": {
      "text/html": [
       "<div>\n",
       "<style scoped>\n",
       "    .dataframe tbody tr th:only-of-type {\n",
       "        vertical-align: middle;\n",
       "    }\n",
       "\n",
       "    .dataframe tbody tr th {\n",
       "        vertical-align: top;\n",
       "    }\n",
       "\n",
       "    .dataframe thead th {\n",
       "        text-align: right;\n",
       "    }\n",
       "</style>\n",
       "<table border=\"1\" class=\"dataframe\">\n",
       "  <thead>\n",
       "    <tr style=\"text-align: right;\">\n",
       "      <th></th>\n",
       "      <th>date_value</th>\n",
       "      <th>timeOfDay</th>\n",
       "      <th>lat</th>\n",
       "      <th>lon</th>\n",
       "      <th>pm2_5_x</th>\n",
       "      <th>pm10_x</th>\n",
       "      <th>pm2_5_y</th>\n",
       "      <th>pm10_y</th>\n",
       "    </tr>\n",
       "  </thead>\n",
       "  <tbody>\n",
       "    <tr>\n",
       "      <th>0</th>\n",
       "      <td>2020-11-01</td>\n",
       "      <td>0.0</td>\n",
       "      <td>0.269231</td>\n",
       "      <td>0.809524</td>\n",
       "      <td>481.37</td>\n",
       "      <td>522.53</td>\n",
       "      <td>481.37</td>\n",
       "      <td>522.53</td>\n",
       "    </tr>\n",
       "    <tr>\n",
       "      <th>1</th>\n",
       "      <td>2020-11-01</td>\n",
       "      <td>0.0</td>\n",
       "      <td>0.307692</td>\n",
       "      <td>0.761905</td>\n",
       "      <td>471.18</td>\n",
       "      <td>513.50</td>\n",
       "      <td>471.18</td>\n",
       "      <td>513.50</td>\n",
       "    </tr>\n",
       "    <tr>\n",
       "      <th>2</th>\n",
       "      <td>2020-11-01</td>\n",
       "      <td>0.0</td>\n",
       "      <td>0.346154</td>\n",
       "      <td>0.714286</td>\n",
       "      <td>462.44</td>\n",
       "      <td>503.81</td>\n",
       "      <td>462.44</td>\n",
       "      <td>503.81</td>\n",
       "    </tr>\n",
       "    <tr>\n",
       "      <th>3</th>\n",
       "      <td>2020-11-01</td>\n",
       "      <td>0.0</td>\n",
       "      <td>0.346154</td>\n",
       "      <td>0.761905</td>\n",
       "      <td>468.14</td>\n",
       "      <td>507.55</td>\n",
       "      <td>468.14</td>\n",
       "      <td>507.55</td>\n",
       "    </tr>\n",
       "    <tr>\n",
       "      <th>4</th>\n",
       "      <td>2020-11-01</td>\n",
       "      <td>0.0</td>\n",
       "      <td>0.384615</td>\n",
       "      <td>0.714286</td>\n",
       "      <td>462.68</td>\n",
       "      <td>505.21</td>\n",
       "      <td>462.68</td>\n",
       "      <td>505.21</td>\n",
       "    </tr>\n",
       "  </tbody>\n",
       "</table>\n",
       "</div>"
      ],
      "text/plain": [
       "  date_value  timeOfDay       lat       lon  pm2_5_x  pm10_x  pm2_5_y  pm10_y\n",
       "0 2020-11-01        0.0  0.269231  0.809524   481.37  522.53   481.37  522.53\n",
       "1 2020-11-01        0.0  0.307692  0.761905   471.18  513.50   471.18  513.50\n",
       "2 2020-11-01        0.0  0.346154  0.714286   462.44  503.81   462.44  503.81\n",
       "3 2020-11-01        0.0  0.346154  0.761905   468.14  507.55   468.14  507.55\n",
       "4 2020-11-01        0.0  0.384615  0.714286   462.68  505.21   462.68  505.21"
      ]
     },
     "execution_count": 42,
     "metadata": {},
     "output_type": "execute_result"
    }
   ],
   "source": [
    "combined_df.head()"
   ]
  },
  {
   "cell_type": "code",
   "execution_count": 43,
   "id": "26905b75",
   "metadata": {
    "execution": {
     "iopub.execute_input": "2025-04-07T17:20:34.176795Z",
     "iopub.status.busy": "2025-04-07T17:20:34.176407Z",
     "iopub.status.idle": "2025-04-07T17:20:34.184122Z",
     "shell.execute_reply": "2025-04-07T17:20:34.182789Z"
    },
    "papermill": {
     "duration": 0.030779,
     "end_time": "2025-04-07T17:20:34.185964",
     "exception": false,
     "start_time": "2025-04-07T17:20:34.155185",
     "status": "completed"
    },
    "tags": []
   },
   "outputs": [
    {
     "data": {
      "text/plain": [
       "['full_dense_df.csv',\n",
       " 'dense_df.csv',\n",
       " '__notebook__.ipynb',\n",
       " 'engineered_df.csv']"
      ]
     },
     "execution_count": 43,
     "metadata": {},
     "output_type": "execute_result"
    }
   ],
   "source": [
    "os.listdir()"
   ]
  },
  {
   "cell_type": "markdown",
   "id": "53272085",
   "metadata": {
    "papermill": {
     "duration": 0.02055,
     "end_time": "2025-04-07T17:20:34.225799",
     "exception": false,
     "start_time": "2025-04-07T17:20:34.205249",
     "status": "completed"
    },
    "tags": []
   },
   "source": [
    "## Sanity Check"
   ]
  },
  {
   "cell_type": "code",
   "execution_count": 44,
   "id": "998b4a1d",
   "metadata": {
    "execution": {
     "iopub.execute_input": "2025-04-07T17:20:34.268890Z",
     "iopub.status.busy": "2025-04-07T17:20:34.268477Z",
     "iopub.status.idle": "2025-04-07T17:20:36.458939Z",
     "shell.execute_reply": "2025-04-07T17:20:36.457800Z"
    },
    "papermill": {
     "duration": 2.215271,
     "end_time": "2025-04-07T17:20:36.461515",
     "exception": false,
     "start_time": "2025-04-07T17:20:34.246244",
     "status": "completed"
    },
    "tags": []
   },
   "outputs": [],
   "source": [
    "test_df1 = pd.read_csv('/kaggle/working/dense_df.csv')\n",
    "test_df2 = pd.read_csv('/kaggle/working/full_dense_df.csv')"
   ]
  },
  {
   "cell_type": "markdown",
   "id": "f8f6328b",
   "metadata": {
    "papermill": {
     "duration": 0.019969,
     "end_time": "2025-04-07T17:20:36.501119",
     "exception": false,
     "start_time": "2025-04-07T17:20:36.481150",
     "status": "completed"
    },
    "tags": []
   },
   "source": [
    "## Convert To Grid"
   ]
  },
  {
   "cell_type": "code",
   "execution_count": 45,
   "id": "2190611e",
   "metadata": {
    "execution": {
     "iopub.execute_input": "2025-04-07T17:20:36.544004Z",
     "iopub.status.busy": "2025-04-07T17:20:36.543605Z",
     "iopub.status.idle": "2025-04-07T17:20:36.556382Z",
     "shell.execute_reply": "2025-04-07T17:20:36.554790Z"
    },
    "papermill": {
     "duration": 0.036841,
     "end_time": "2025-04-07T17:20:36.558229",
     "exception": false,
     "start_time": "2025-04-07T17:20:36.521388",
     "status": "completed"
    },
    "tags": []
   },
   "outputs": [
    {
     "name": "stdout",
     "output_type": "stream",
     "text": [
      "0.038461538461518785\n",
      "0.04761904761903679\n"
     ]
    }
   ],
   "source": [
    "lat = df['lat'].unique()\n",
    "lon = df['lon'].unique()\n",
    "\n",
    "lat = np.sort(lat)\n",
    "lon = np.sort(lon)\n",
    "\n",
    "min_dist_lat = 1000\n",
    "for i in range(len(lat) - 1):\n",
    "    min_dist_lat = min(min_dist_lat, lat[i+1] - lat[i])\n",
    "print(min_dist_lat)\n",
    "\n",
    "for i in range(len(lat)):\n",
    "    assert (lat[i] / min_dist_lat - round(lat[i] / min_dist_lat)) < 1e-6\n",
    "\n",
    "min_dist_lon = 1000\n",
    "for i in range(len(lon) - 1):\n",
    "    min_dist_lon = min(min_dist_lon, lon[i+1] - lon[i])\n",
    "print(min_dist_lon)\n",
    "\n",
    "for i in range(len(lon)):\n",
    "    assert (lon[i] / min_dist_lon - round(lon[i] / min_dist_lon)) < 1e-6"
   ]
  },
  {
   "cell_type": "code",
   "execution_count": 46,
   "id": "30cc4015",
   "metadata": {
    "execution": {
     "iopub.execute_input": "2025-04-07T17:20:36.599504Z",
     "iopub.status.busy": "2025-04-07T17:20:36.599155Z",
     "iopub.status.idle": "2025-04-07T17:20:36.605358Z",
     "shell.execute_reply": "2025-04-07T17:20:36.604360Z"
    },
    "papermill": {
     "duration": 0.029026,
     "end_time": "2025-04-07T17:20:36.607118",
     "exception": false,
     "start_time": "2025-04-07T17:20:36.578092",
     "status": "completed"
    },
    "tags": []
   },
   "outputs": [
    {
     "data": {
      "text/plain": [
       "(26, 21)"
      ]
     },
     "execution_count": 46,
     "metadata": {},
     "output_type": "execute_result"
    }
   ],
   "source": [
    "grid_dimensions = round(lat[-1] / min_dist_lat), round(lon[-1] / min_dist_lon)\n",
    "grid_dimensions"
   ]
  },
  {
   "cell_type": "code",
   "execution_count": 47,
   "id": "7d75882b",
   "metadata": {
    "execution": {
     "iopub.execute_input": "2025-04-07T17:20:36.649354Z",
     "iopub.status.busy": "2025-04-07T17:20:36.648995Z",
     "iopub.status.idle": "2025-04-07T17:20:36.742996Z",
     "shell.execute_reply": "2025-04-07T17:20:36.741646Z"
    },
    "papermill": {
     "duration": 0.117842,
     "end_time": "2025-04-07T17:20:36.745107",
     "exception": false,
     "start_time": "2025-04-07T17:20:36.627265",
     "status": "completed"
    },
    "tags": []
   },
   "outputs": [
    {
     "name": "stdout",
     "output_type": "stream",
     "text": [
      "423605 834470\n"
     ]
    }
   ],
   "source": [
    "def get_grid():\n",
    "    return np.zeros((30, 30))\n",
    "\n",
    "def rounded_lat_lon(df):\n",
    "    df = df.copy()\n",
    "    df['lat'] = np.round(df['lat'] / min_dist_lat) + 2\n",
    "    df['lon'] = np.round(df['lon'] / min_dist_lon) + 4\n",
    "\n",
    "    return df\n",
    "\n",
    "dense_df1 = rounded_lat_lon(dense_df)\n",
    "full_dense_df1 = rounded_lat_lon(full_dense_df)\n",
    "print(len(dense_df1), len(full_dense_df1))"
   ]
  },
  {
   "cell_type": "code",
   "execution_count": 48,
   "id": "a6f49041",
   "metadata": {
    "execution": {
     "iopub.execute_input": "2025-04-07T17:20:36.787258Z",
     "iopub.status.busy": "2025-04-07T17:20:36.786883Z",
     "iopub.status.idle": "2025-04-07T17:20:36.802101Z",
     "shell.execute_reply": "2025-04-07T17:20:36.800859Z"
    },
    "papermill": {
     "duration": 0.037937,
     "end_time": "2025-04-07T17:20:36.804114",
     "exception": false,
     "start_time": "2025-04-07T17:20:36.766177",
     "status": "completed"
    },
    "tags": []
   },
   "outputs": [
    {
     "data": {
      "text/html": [
       "<div>\n",
       "<style scoped>\n",
       "    .dataframe tbody tr th:only-of-type {\n",
       "        vertical-align: middle;\n",
       "    }\n",
       "\n",
       "    .dataframe tbody tr th {\n",
       "        vertical-align: top;\n",
       "    }\n",
       "\n",
       "    .dataframe thead th {\n",
       "        text-align: right;\n",
       "    }\n",
       "</style>\n",
       "<table border=\"1\" class=\"dataframe\">\n",
       "  <thead>\n",
       "    <tr style=\"text-align: right;\">\n",
       "      <th></th>\n",
       "      <th>timeOfDay</th>\n",
       "      <th>date_value</th>\n",
       "      <th>lat</th>\n",
       "      <th>lon</th>\n",
       "      <th>distance</th>\n",
       "      <th>bus_count</th>\n",
       "      <th>pm2_5</th>\n",
       "      <th>pm10</th>\n",
       "      <th>missing</th>\n",
       "    </tr>\n",
       "  </thead>\n",
       "  <tbody>\n",
       "    <tr>\n",
       "      <th>0</th>\n",
       "      <td>0.0</td>\n",
       "      <td>2020-11-01</td>\n",
       "      <td>3.0</td>\n",
       "      <td>23.0</td>\n",
       "      <td>0.000447</td>\n",
       "      <td>0.000000</td>\n",
       "      <td>133.123529</td>\n",
       "      <td>148.118824</td>\n",
       "      <td>True</td>\n",
       "    </tr>\n",
       "    <tr>\n",
       "      <th>1</th>\n",
       "      <td>0.0</td>\n",
       "      <td>2020-11-01</td>\n",
       "      <td>3.0</td>\n",
       "      <td>24.0</td>\n",
       "      <td>0.000447</td>\n",
       "      <td>0.000000</td>\n",
       "      <td>133.123529</td>\n",
       "      <td>148.118824</td>\n",
       "      <td>True</td>\n",
       "    </tr>\n",
       "    <tr>\n",
       "      <th>2</th>\n",
       "      <td>0.0</td>\n",
       "      <td>2020-11-01</td>\n",
       "      <td>4.0</td>\n",
       "      <td>21.0</td>\n",
       "      <td>0.000447</td>\n",
       "      <td>0.047577</td>\n",
       "      <td>246.319707</td>\n",
       "      <td>273.117459</td>\n",
       "      <td>True</td>\n",
       "    </tr>\n",
       "    <tr>\n",
       "      <th>3</th>\n",
       "      <td>0.0</td>\n",
       "      <td>2020-11-01</td>\n",
       "      <td>4.0</td>\n",
       "      <td>22.0</td>\n",
       "      <td>0.000447</td>\n",
       "      <td>0.000000</td>\n",
       "      <td>272.947254</td>\n",
       "      <td>296.924339</td>\n",
       "      <td>True</td>\n",
       "    </tr>\n",
       "    <tr>\n",
       "      <th>4</th>\n",
       "      <td>0.0</td>\n",
       "      <td>2020-11-01</td>\n",
       "      <td>4.0</td>\n",
       "      <td>23.0</td>\n",
       "      <td>0.000447</td>\n",
       "      <td>0.142857</td>\n",
       "      <td>333.510000</td>\n",
       "      <td>367.575000</td>\n",
       "      <td>True</td>\n",
       "    </tr>\n",
       "  </tbody>\n",
       "</table>\n",
       "</div>"
      ],
      "text/plain": [
       "   timeOfDay date_value  lat   lon  distance  bus_count       pm2_5  \\\n",
       "0        0.0 2020-11-01  3.0  23.0  0.000447   0.000000  133.123529   \n",
       "1        0.0 2020-11-01  3.0  24.0  0.000447   0.000000  133.123529   \n",
       "2        0.0 2020-11-01  4.0  21.0  0.000447   0.047577  246.319707   \n",
       "3        0.0 2020-11-01  4.0  22.0  0.000447   0.000000  272.947254   \n",
       "4        0.0 2020-11-01  4.0  23.0  0.000447   0.142857  333.510000   \n",
       "\n",
       "         pm10  missing  \n",
       "0  148.118824     True  \n",
       "1  148.118824     True  \n",
       "2  273.117459     True  \n",
       "3  296.924339     True  \n",
       "4  367.575000     True  "
      ]
     },
     "execution_count": 48,
     "metadata": {},
     "output_type": "execute_result"
    }
   ],
   "source": [
    "dense_df1.head()"
   ]
  },
  {
   "cell_type": "code",
   "execution_count": 49,
   "id": "bac2cdae",
   "metadata": {
    "execution": {
     "iopub.execute_input": "2025-04-07T17:20:36.845375Z",
     "iopub.status.busy": "2025-04-07T17:20:36.845002Z",
     "iopub.status.idle": "2025-04-07T17:20:36.901307Z",
     "shell.execute_reply": "2025-04-07T17:20:36.900084Z"
    },
    "papermill": {
     "duration": 0.078901,
     "end_time": "2025-04-07T17:20:36.903223",
     "exception": false,
     "start_time": "2025-04-07T17:20:36.824322",
     "status": "completed"
    },
    "tags": []
   },
   "outputs": [
    {
     "name": "stderr",
     "output_type": "stream",
     "text": [
      "/usr/local/lib/python3.10/dist-packages/pandas/io/formats/format.py:1458: RuntimeWarning: invalid value encountered in greater\n",
      "  has_large_values = (abs_vals > 1e6).any()\n",
      "/usr/local/lib/python3.10/dist-packages/pandas/io/formats/format.py:1459: RuntimeWarning: invalid value encountered in less\n",
      "  has_small_values = ((abs_vals < 10 ** (-self.digits)) & (abs_vals > 0)).any()\n",
      "/usr/local/lib/python3.10/dist-packages/pandas/io/formats/format.py:1459: RuntimeWarning: invalid value encountered in greater\n",
      "  has_small_values = ((abs_vals < 10 ** (-self.digits)) & (abs_vals > 0)).any()\n"
     ]
    },
    {
     "data": {
      "text/html": [
       "<div>\n",
       "<style scoped>\n",
       "    .dataframe tbody tr th:only-of-type {\n",
       "        vertical-align: middle;\n",
       "    }\n",
       "\n",
       "    .dataframe tbody tr th {\n",
       "        vertical-align: top;\n",
       "    }\n",
       "\n",
       "    .dataframe thead th {\n",
       "        text-align: right;\n",
       "    }\n",
       "</style>\n",
       "<table border=\"1\" class=\"dataframe\">\n",
       "  <thead>\n",
       "    <tr style=\"text-align: right;\">\n",
       "      <th>lon</th>\n",
       "      <th>6.0</th>\n",
       "      <th>7.0</th>\n",
       "      <th>8.0</th>\n",
       "      <th>9.0</th>\n",
       "      <th>10.0</th>\n",
       "      <th>11.0</th>\n",
       "      <th>12.0</th>\n",
       "      <th>13.0</th>\n",
       "      <th>14.0</th>\n",
       "      <th>15.0</th>\n",
       "      <th>16.0</th>\n",
       "      <th>17.0</th>\n",
       "      <th>18.0</th>\n",
       "      <th>19.0</th>\n",
       "      <th>20.0</th>\n",
       "      <th>21.0</th>\n",
       "      <th>22.0</th>\n",
       "      <th>23.0</th>\n",
       "      <th>24.0</th>\n",
       "      <th>25.0</th>\n",
       "    </tr>\n",
       "    <tr>\n",
       "      <th>lat</th>\n",
       "      <th></th>\n",
       "      <th></th>\n",
       "      <th></th>\n",
       "      <th></th>\n",
       "      <th></th>\n",
       "      <th></th>\n",
       "      <th></th>\n",
       "      <th></th>\n",
       "      <th></th>\n",
       "      <th></th>\n",
       "      <th></th>\n",
       "      <th></th>\n",
       "      <th></th>\n",
       "      <th></th>\n",
       "      <th></th>\n",
       "      <th></th>\n",
       "      <th></th>\n",
       "      <th></th>\n",
       "      <th></th>\n",
       "      <th></th>\n",
       "    </tr>\n",
       "  </thead>\n",
       "  <tbody>\n",
       "    <tr>\n",
       "      <th>3.0</th>\n",
       "      <td>NaN</td>\n",
       "      <td>NaN</td>\n",
       "      <td>NaN</td>\n",
       "      <td>NaN</td>\n",
       "      <td>NaN</td>\n",
       "      <td>NaN</td>\n",
       "      <td>NaN</td>\n",
       "      <td>NaN</td>\n",
       "      <td>NaN</td>\n",
       "      <td>NaN</td>\n",
       "      <td>NaN</td>\n",
       "      <td>NaN</td>\n",
       "      <td>NaN</td>\n",
       "      <td>NaN</td>\n",
       "      <td>NaN</td>\n",
       "      <td>NaN</td>\n",
       "      <td>NaN</td>\n",
       "      <td>133.123529</td>\n",
       "      <td>133.123529</td>\n",
       "      <td>NaN</td>\n",
       "    </tr>\n",
       "    <tr>\n",
       "      <th>4.0</th>\n",
       "      <td>NaN</td>\n",
       "      <td>NaN</td>\n",
       "      <td>NaN</td>\n",
       "      <td>NaN</td>\n",
       "      <td>NaN</td>\n",
       "      <td>NaN</td>\n",
       "      <td>NaN</td>\n",
       "      <td>NaN</td>\n",
       "      <td>NaN</td>\n",
       "      <td>NaN</td>\n",
       "      <td>NaN</td>\n",
       "      <td>NaN</td>\n",
       "      <td>NaN</td>\n",
       "      <td>NaN</td>\n",
       "      <td>NaN</td>\n",
       "      <td>246.319707</td>\n",
       "      <td>272.947254</td>\n",
       "      <td>333.510000</td>\n",
       "      <td>NaN</td>\n",
       "      <td>NaN</td>\n",
       "    </tr>\n",
       "    <tr>\n",
       "      <th>5.0</th>\n",
       "      <td>NaN</td>\n",
       "      <td>NaN</td>\n",
       "      <td>NaN</td>\n",
       "      <td>NaN</td>\n",
       "      <td>NaN</td>\n",
       "      <td>NaN</td>\n",
       "      <td>NaN</td>\n",
       "      <td>NaN</td>\n",
       "      <td>NaN</td>\n",
       "      <td>NaN</td>\n",
       "      <td>NaN</td>\n",
       "      <td>NaN</td>\n",
       "      <td>NaN</td>\n",
       "      <td>NaN</td>\n",
       "      <td>NaN</td>\n",
       "      <td>151.062105</td>\n",
       "      <td>NaN</td>\n",
       "      <td>207.228235</td>\n",
       "      <td>NaN</td>\n",
       "      <td>NaN</td>\n",
       "    </tr>\n",
       "    <tr>\n",
       "      <th>6.0</th>\n",
       "      <td>NaN</td>\n",
       "      <td>NaN</td>\n",
       "      <td>NaN</td>\n",
       "      <td>NaN</td>\n",
       "      <td>NaN</td>\n",
       "      <td>NaN</td>\n",
       "      <td>NaN</td>\n",
       "      <td>NaN</td>\n",
       "      <td>NaN</td>\n",
       "      <td>NaN</td>\n",
       "      <td>NaN</td>\n",
       "      <td>NaN</td>\n",
       "      <td>NaN</td>\n",
       "      <td>NaN</td>\n",
       "      <td>NaN</td>\n",
       "      <td>224.174988</td>\n",
       "      <td>97.211000</td>\n",
       "      <td>199.000000</td>\n",
       "      <td>NaN</td>\n",
       "      <td>NaN</td>\n",
       "    </tr>\n",
       "    <tr>\n",
       "      <th>7.0</th>\n",
       "      <td>NaN</td>\n",
       "      <td>NaN</td>\n",
       "      <td>NaN</td>\n",
       "      <td>NaN</td>\n",
       "      <td>NaN</td>\n",
       "      <td>NaN</td>\n",
       "      <td>NaN</td>\n",
       "      <td>NaN</td>\n",
       "      <td>NaN</td>\n",
       "      <td>NaN</td>\n",
       "      <td>NaN</td>\n",
       "      <td>NaN</td>\n",
       "      <td>NaN</td>\n",
       "      <td>NaN</td>\n",
       "      <td>286.132833</td>\n",
       "      <td>308.915792</td>\n",
       "      <td>288.566471</td>\n",
       "      <td>NaN</td>\n",
       "      <td>NaN</td>\n",
       "      <td>NaN</td>\n",
       "    </tr>\n",
       "    <tr>\n",
       "      <th>8.0</th>\n",
       "      <td>NaN</td>\n",
       "      <td>NaN</td>\n",
       "      <td>NaN</td>\n",
       "      <td>NaN</td>\n",
       "      <td>NaN</td>\n",
       "      <td>NaN</td>\n",
       "      <td>NaN</td>\n",
       "      <td>NaN</td>\n",
       "      <td>NaN</td>\n",
       "      <td>NaN</td>\n",
       "      <td>NaN</td>\n",
       "      <td>NaN</td>\n",
       "      <td>NaN</td>\n",
       "      <td>NaN</td>\n",
       "      <td>179.345791</td>\n",
       "      <td>235.970000</td>\n",
       "      <td>94.225000</td>\n",
       "      <td>NaN</td>\n",
       "      <td>NaN</td>\n",
       "      <td>NaN</td>\n",
       "    </tr>\n",
       "    <tr>\n",
       "      <th>9.0</th>\n",
       "      <td>NaN</td>\n",
       "      <td>NaN</td>\n",
       "      <td>NaN</td>\n",
       "      <td>NaN</td>\n",
       "      <td>NaN</td>\n",
       "      <td>NaN</td>\n",
       "      <td>169.818216</td>\n",
       "      <td>161.144278</td>\n",
       "      <td>216.367643</td>\n",
       "      <td>NaN</td>\n",
       "      <td>NaN</td>\n",
       "      <td>NaN</td>\n",
       "      <td>NaN</td>\n",
       "      <td>284.635294</td>\n",
       "      <td>411.600000</td>\n",
       "      <td>481.370000</td>\n",
       "      <td>NaN</td>\n",
       "      <td>355.829045</td>\n",
       "      <td>161.809123</td>\n",
       "      <td>NaN</td>\n",
       "    </tr>\n",
       "    <tr>\n",
       "      <th>10.0</th>\n",
       "      <td>NaN</td>\n",
       "      <td>NaN</td>\n",
       "      <td>NaN</td>\n",
       "      <td>NaN</td>\n",
       "      <td>182.968127</td>\n",
       "      <td>275.291739</td>\n",
       "      <td>NaN</td>\n",
       "      <td>NaN</td>\n",
       "      <td>142.747852</td>\n",
       "      <td>NaN</td>\n",
       "      <td>NaN</td>\n",
       "      <td>NaN</td>\n",
       "      <td>NaN</td>\n",
       "      <td>45.850000</td>\n",
       "      <td>471.180000</td>\n",
       "      <td>124.500000</td>\n",
       "      <td>NaN</td>\n",
       "      <td>171.081717</td>\n",
       "      <td>NaN</td>\n",
       "      <td>NaN</td>\n",
       "    </tr>\n",
       "    <tr>\n",
       "      <th>11.0</th>\n",
       "      <td>NaN</td>\n",
       "      <td>NaN</td>\n",
       "      <td>NaN</td>\n",
       "      <td>NaN</td>\n",
       "      <td>207.511392</td>\n",
       "      <td>NaN</td>\n",
       "      <td>578.791176</td>\n",
       "      <td>209.465814</td>\n",
       "      <td>322.310000</td>\n",
       "      <td>142.255000</td>\n",
       "      <td>160.090000</td>\n",
       "      <td>325.140000</td>\n",
       "      <td>269.425000</td>\n",
       "      <td>462.440000</td>\n",
       "      <td>468.140000</td>\n",
       "      <td>224.174187</td>\n",
       "      <td>224.174187</td>\n",
       "      <td>224.174187</td>\n",
       "      <td>NaN</td>\n",
       "      <td>NaN</td>\n",
       "    </tr>\n",
       "    <tr>\n",
       "      <th>12.0</th>\n",
       "      <td>NaN</td>\n",
       "      <td>NaN</td>\n",
       "      <td>NaN</td>\n",
       "      <td>NaN</td>\n",
       "      <td>224.174187</td>\n",
       "      <td>224.174187</td>\n",
       "      <td>224.174187</td>\n",
       "      <td>NaN</td>\n",
       "      <td>224.174187</td>\n",
       "      <td>NaN</td>\n",
       "      <td>224.174187</td>\n",
       "      <td>224.174187</td>\n",
       "      <td>NaN</td>\n",
       "      <td>462.680000</td>\n",
       "      <td>467.500000</td>\n",
       "      <td>NaN</td>\n",
       "      <td>NaN</td>\n",
       "      <td>NaN</td>\n",
       "      <td>NaN</td>\n",
       "      <td>NaN</td>\n",
       "    </tr>\n",
       "    <tr>\n",
       "      <th>13.0</th>\n",
       "      <td>NaN</td>\n",
       "      <td>NaN</td>\n",
       "      <td>NaN</td>\n",
       "      <td>NaN</td>\n",
       "      <td>224.174187</td>\n",
       "      <td>224.174187</td>\n",
       "      <td>NaN</td>\n",
       "      <td>NaN</td>\n",
       "      <td>224.174187</td>\n",
       "      <td>224.174187</td>\n",
       "      <td>224.174187</td>\n",
       "      <td>506.300000</td>\n",
       "      <td>224.174187</td>\n",
       "      <td>460.540000</td>\n",
       "      <td>464.620000</td>\n",
       "      <td>NaN</td>\n",
       "      <td>NaN</td>\n",
       "      <td>NaN</td>\n",
       "      <td>NaN</td>\n",
       "      <td>NaN</td>\n",
       "    </tr>\n",
       "    <tr>\n",
       "      <th>14.0</th>\n",
       "      <td>NaN</td>\n",
       "      <td>NaN</td>\n",
       "      <td>NaN</td>\n",
       "      <td>NaN</td>\n",
       "      <td>224.174187</td>\n",
       "      <td>NaN</td>\n",
       "      <td>NaN</td>\n",
       "      <td>NaN</td>\n",
       "      <td>224.174187</td>\n",
       "      <td>224.174187</td>\n",
       "      <td>224.174187</td>\n",
       "      <td>224.174187</td>\n",
       "      <td>224.174187</td>\n",
       "      <td>469.900000</td>\n",
       "      <td>NaN</td>\n",
       "      <td>NaN</td>\n",
       "      <td>NaN</td>\n",
       "      <td>NaN</td>\n",
       "      <td>NaN</td>\n",
       "      <td>NaN</td>\n",
       "    </tr>\n",
       "    <tr>\n",
       "      <th>15.0</th>\n",
       "      <td>NaN</td>\n",
       "      <td>NaN</td>\n",
       "      <td>224.174187</td>\n",
       "      <td>224.174187</td>\n",
       "      <td>224.174187</td>\n",
       "      <td>NaN</td>\n",
       "      <td>NaN</td>\n",
       "      <td>NaN</td>\n",
       "      <td>224.174187</td>\n",
       "      <td>NaN</td>\n",
       "      <td>NaN</td>\n",
       "      <td>224.174187</td>\n",
       "      <td>NaN</td>\n",
       "      <td>458.560000</td>\n",
       "      <td>224.174187</td>\n",
       "      <td>224.174187</td>\n",
       "      <td>NaN</td>\n",
       "      <td>NaN</td>\n",
       "      <td>NaN</td>\n",
       "      <td>NaN</td>\n",
       "    </tr>\n",
       "    <tr>\n",
       "      <th>16.0</th>\n",
       "      <td>NaN</td>\n",
       "      <td>224.174187</td>\n",
       "      <td>224.174187</td>\n",
       "      <td>NaN</td>\n",
       "      <td>NaN</td>\n",
       "      <td>NaN</td>\n",
       "      <td>NaN</td>\n",
       "      <td>NaN</td>\n",
       "      <td>224.174187</td>\n",
       "      <td>224.174187</td>\n",
       "      <td>NaN</td>\n",
       "      <td>224.174187</td>\n",
       "      <td>NaN</td>\n",
       "      <td>NaN</td>\n",
       "      <td>224.174187</td>\n",
       "      <td>224.174187</td>\n",
       "      <td>224.174187</td>\n",
       "      <td>NaN</td>\n",
       "      <td>NaN</td>\n",
       "      <td>NaN</td>\n",
       "    </tr>\n",
       "    <tr>\n",
       "      <th>17.0</th>\n",
       "      <td>NaN</td>\n",
       "      <td>224.174187</td>\n",
       "      <td>NaN</td>\n",
       "      <td>NaN</td>\n",
       "      <td>NaN</td>\n",
       "      <td>NaN</td>\n",
       "      <td>NaN</td>\n",
       "      <td>NaN</td>\n",
       "      <td>224.174187</td>\n",
       "      <td>224.174187</td>\n",
       "      <td>NaN</td>\n",
       "      <td>224.174187</td>\n",
       "      <td>NaN</td>\n",
       "      <td>NaN</td>\n",
       "      <td>NaN</td>\n",
       "      <td>224.174187</td>\n",
       "      <td>224.174187</td>\n",
       "      <td>224.174187</td>\n",
       "      <td>NaN</td>\n",
       "      <td>NaN</td>\n",
       "    </tr>\n",
       "    <tr>\n",
       "      <th>18.0</th>\n",
       "      <td>NaN</td>\n",
       "      <td>224.174187</td>\n",
       "      <td>NaN</td>\n",
       "      <td>NaN</td>\n",
       "      <td>NaN</td>\n",
       "      <td>NaN</td>\n",
       "      <td>NaN</td>\n",
       "      <td>NaN</td>\n",
       "      <td>NaN</td>\n",
       "      <td>224.174187</td>\n",
       "      <td>224.174187</td>\n",
       "      <td>224.174187</td>\n",
       "      <td>224.174187</td>\n",
       "      <td>224.174187</td>\n",
       "      <td>224.174187</td>\n",
       "      <td>224.174187</td>\n",
       "      <td>NaN</td>\n",
       "      <td>NaN</td>\n",
       "      <td>NaN</td>\n",
       "      <td>NaN</td>\n",
       "    </tr>\n",
       "    <tr>\n",
       "      <th>19.0</th>\n",
       "      <td>224.174187</td>\n",
       "      <td>224.174187</td>\n",
       "      <td>NaN</td>\n",
       "      <td>NaN</td>\n",
       "      <td>NaN</td>\n",
       "      <td>NaN</td>\n",
       "      <td>NaN</td>\n",
       "      <td>NaN</td>\n",
       "      <td>NaN</td>\n",
       "      <td>224.174187</td>\n",
       "      <td>224.174187</td>\n",
       "      <td>224.174187</td>\n",
       "      <td>NaN</td>\n",
       "      <td>NaN</td>\n",
       "      <td>NaN</td>\n",
       "      <td>224.174187</td>\n",
       "      <td>224.174187</td>\n",
       "      <td>224.174187</td>\n",
       "      <td>NaN</td>\n",
       "      <td>224.174187</td>\n",
       "    </tr>\n",
       "    <tr>\n",
       "      <th>20.0</th>\n",
       "      <td>224.174187</td>\n",
       "      <td>NaN</td>\n",
       "      <td>NaN</td>\n",
       "      <td>NaN</td>\n",
       "      <td>NaN</td>\n",
       "      <td>NaN</td>\n",
       "      <td>NaN</td>\n",
       "      <td>NaN</td>\n",
       "      <td>NaN</td>\n",
       "      <td>NaN</td>\n",
       "      <td>224.174187</td>\n",
       "      <td>224.174187</td>\n",
       "      <td>NaN</td>\n",
       "      <td>NaN</td>\n",
       "      <td>NaN</td>\n",
       "      <td>NaN</td>\n",
       "      <td>224.174187</td>\n",
       "      <td>224.174187</td>\n",
       "      <td>224.174187</td>\n",
       "      <td>224.174187</td>\n",
       "    </tr>\n",
       "    <tr>\n",
       "      <th>21.0</th>\n",
       "      <td>224.174187</td>\n",
       "      <td>NaN</td>\n",
       "      <td>NaN</td>\n",
       "      <td>NaN</td>\n",
       "      <td>NaN</td>\n",
       "      <td>NaN</td>\n",
       "      <td>NaN</td>\n",
       "      <td>NaN</td>\n",
       "      <td>NaN</td>\n",
       "      <td>NaN</td>\n",
       "      <td>224.174187</td>\n",
       "      <td>224.174187</td>\n",
       "      <td>NaN</td>\n",
       "      <td>NaN</td>\n",
       "      <td>NaN</td>\n",
       "      <td>NaN</td>\n",
       "      <td>224.174187</td>\n",
       "      <td>NaN</td>\n",
       "      <td>224.174187</td>\n",
       "      <td>224.174187</td>\n",
       "    </tr>\n",
       "    <tr>\n",
       "      <th>22.0</th>\n",
       "      <td>224.174187</td>\n",
       "      <td>224.174187</td>\n",
       "      <td>NaN</td>\n",
       "      <td>NaN</td>\n",
       "      <td>NaN</td>\n",
       "      <td>NaN</td>\n",
       "      <td>NaN</td>\n",
       "      <td>NaN</td>\n",
       "      <td>NaN</td>\n",
       "      <td>224.174187</td>\n",
       "      <td>224.174187</td>\n",
       "      <td>224.174187</td>\n",
       "      <td>NaN</td>\n",
       "      <td>NaN</td>\n",
       "      <td>NaN</td>\n",
       "      <td>224.174187</td>\n",
       "      <td>224.174187</td>\n",
       "      <td>NaN</td>\n",
       "      <td>224.174187</td>\n",
       "      <td>224.174187</td>\n",
       "    </tr>\n",
       "    <tr>\n",
       "      <th>23.0</th>\n",
       "      <td>NaN</td>\n",
       "      <td>NaN</td>\n",
       "      <td>NaN</td>\n",
       "      <td>NaN</td>\n",
       "      <td>NaN</td>\n",
       "      <td>NaN</td>\n",
       "      <td>NaN</td>\n",
       "      <td>NaN</td>\n",
       "      <td>NaN</td>\n",
       "      <td>NaN</td>\n",
       "      <td>224.174187</td>\n",
       "      <td>NaN</td>\n",
       "      <td>NaN</td>\n",
       "      <td>NaN</td>\n",
       "      <td>NaN</td>\n",
       "      <td>224.174187</td>\n",
       "      <td>224.174187</td>\n",
       "      <td>NaN</td>\n",
       "      <td>NaN</td>\n",
       "      <td>NaN</td>\n",
       "    </tr>\n",
       "  </tbody>\n",
       "</table>\n",
       "</div>"
      ],
      "text/plain": [
       "lon         6.0         7.0         8.0         9.0         10.0        11.0  \\\n",
       "lat                                                                            \n",
       "3.0          NaN         NaN         NaN         NaN         NaN         NaN   \n",
       "4.0          NaN         NaN         NaN         NaN         NaN         NaN   \n",
       "5.0          NaN         NaN         NaN         NaN         NaN         NaN   \n",
       "6.0          NaN         NaN         NaN         NaN         NaN         NaN   \n",
       "7.0          NaN         NaN         NaN         NaN         NaN         NaN   \n",
       "8.0          NaN         NaN         NaN         NaN         NaN         NaN   \n",
       "9.0          NaN         NaN         NaN         NaN         NaN         NaN   \n",
       "10.0         NaN         NaN         NaN         NaN  182.968127  275.291739   \n",
       "11.0         NaN         NaN         NaN         NaN  207.511392         NaN   \n",
       "12.0         NaN         NaN         NaN         NaN  224.174187  224.174187   \n",
       "13.0         NaN         NaN         NaN         NaN  224.174187  224.174187   \n",
       "14.0         NaN         NaN         NaN         NaN  224.174187         NaN   \n",
       "15.0         NaN         NaN  224.174187  224.174187  224.174187         NaN   \n",
       "16.0         NaN  224.174187  224.174187         NaN         NaN         NaN   \n",
       "17.0         NaN  224.174187         NaN         NaN         NaN         NaN   \n",
       "18.0         NaN  224.174187         NaN         NaN         NaN         NaN   \n",
       "19.0  224.174187  224.174187         NaN         NaN         NaN         NaN   \n",
       "20.0  224.174187         NaN         NaN         NaN         NaN         NaN   \n",
       "21.0  224.174187         NaN         NaN         NaN         NaN         NaN   \n",
       "22.0  224.174187  224.174187         NaN         NaN         NaN         NaN   \n",
       "23.0         NaN         NaN         NaN         NaN         NaN         NaN   \n",
       "\n",
       "lon         12.0        13.0        14.0        15.0        16.0        17.0  \\\n",
       "lat                                                                            \n",
       "3.0          NaN         NaN         NaN         NaN         NaN         NaN   \n",
       "4.0          NaN         NaN         NaN         NaN         NaN         NaN   \n",
       "5.0          NaN         NaN         NaN         NaN         NaN         NaN   \n",
       "6.0          NaN         NaN         NaN         NaN         NaN         NaN   \n",
       "7.0          NaN         NaN         NaN         NaN         NaN         NaN   \n",
       "8.0          NaN         NaN         NaN         NaN         NaN         NaN   \n",
       "9.0   169.818216  161.144278  216.367643         NaN         NaN         NaN   \n",
       "10.0         NaN         NaN  142.747852         NaN         NaN         NaN   \n",
       "11.0  578.791176  209.465814  322.310000  142.255000  160.090000  325.140000   \n",
       "12.0  224.174187         NaN  224.174187         NaN  224.174187  224.174187   \n",
       "13.0         NaN         NaN  224.174187  224.174187  224.174187  506.300000   \n",
       "14.0         NaN         NaN  224.174187  224.174187  224.174187  224.174187   \n",
       "15.0         NaN         NaN  224.174187         NaN         NaN  224.174187   \n",
       "16.0         NaN         NaN  224.174187  224.174187         NaN  224.174187   \n",
       "17.0         NaN         NaN  224.174187  224.174187         NaN  224.174187   \n",
       "18.0         NaN         NaN         NaN  224.174187  224.174187  224.174187   \n",
       "19.0         NaN         NaN         NaN  224.174187  224.174187  224.174187   \n",
       "20.0         NaN         NaN         NaN         NaN  224.174187  224.174187   \n",
       "21.0         NaN         NaN         NaN         NaN  224.174187  224.174187   \n",
       "22.0         NaN         NaN         NaN  224.174187  224.174187  224.174187   \n",
       "23.0         NaN         NaN         NaN         NaN  224.174187         NaN   \n",
       "\n",
       "lon         18.0        19.0        20.0        21.0        22.0        23.0  \\\n",
       "lat                                                                            \n",
       "3.0          NaN         NaN         NaN         NaN         NaN  133.123529   \n",
       "4.0          NaN         NaN         NaN  246.319707  272.947254  333.510000   \n",
       "5.0          NaN         NaN         NaN  151.062105         NaN  207.228235   \n",
       "6.0          NaN         NaN         NaN  224.174988   97.211000  199.000000   \n",
       "7.0          NaN         NaN  286.132833  308.915792  288.566471         NaN   \n",
       "8.0          NaN         NaN  179.345791  235.970000   94.225000         NaN   \n",
       "9.0          NaN  284.635294  411.600000  481.370000         NaN  355.829045   \n",
       "10.0         NaN   45.850000  471.180000  124.500000         NaN  171.081717   \n",
       "11.0  269.425000  462.440000  468.140000  224.174187  224.174187  224.174187   \n",
       "12.0         NaN  462.680000  467.500000         NaN         NaN         NaN   \n",
       "13.0  224.174187  460.540000  464.620000         NaN         NaN         NaN   \n",
       "14.0  224.174187  469.900000         NaN         NaN         NaN         NaN   \n",
       "15.0         NaN  458.560000  224.174187  224.174187         NaN         NaN   \n",
       "16.0         NaN         NaN  224.174187  224.174187  224.174187         NaN   \n",
       "17.0         NaN         NaN         NaN  224.174187  224.174187  224.174187   \n",
       "18.0  224.174187  224.174187  224.174187  224.174187         NaN         NaN   \n",
       "19.0         NaN         NaN         NaN  224.174187  224.174187  224.174187   \n",
       "20.0         NaN         NaN         NaN         NaN  224.174187  224.174187   \n",
       "21.0         NaN         NaN         NaN         NaN  224.174187         NaN   \n",
       "22.0         NaN         NaN         NaN  224.174187  224.174187         NaN   \n",
       "23.0         NaN         NaN         NaN  224.174187  224.174187         NaN   \n",
       "\n",
       "lon         24.0        25.0  \n",
       "lat                           \n",
       "3.0   133.123529         NaN  \n",
       "4.0          NaN         NaN  \n",
       "5.0          NaN         NaN  \n",
       "6.0          NaN         NaN  \n",
       "7.0          NaN         NaN  \n",
       "8.0          NaN         NaN  \n",
       "9.0   161.809123         NaN  \n",
       "10.0         NaN         NaN  \n",
       "11.0         NaN         NaN  \n",
       "12.0         NaN         NaN  \n",
       "13.0         NaN         NaN  \n",
       "14.0         NaN         NaN  \n",
       "15.0         NaN         NaN  \n",
       "16.0         NaN         NaN  \n",
       "17.0         NaN         NaN  \n",
       "18.0         NaN         NaN  \n",
       "19.0         NaN  224.174187  \n",
       "20.0  224.174187  224.174187  \n",
       "21.0  224.174187  224.174187  \n",
       "22.0  224.174187  224.174187  \n",
       "23.0         NaN         NaN  "
      ]
     },
     "execution_count": 49,
     "metadata": {},
     "output_type": "execute_result"
    }
   ],
   "source": [
    "t = dense_df1[(dense_df1['date_value'] == '2020-11-01') & (dense_df1['timeOfDay'] == 0)]\n",
    "t.pivot(index='lat', columns = 'lon', values='pm2_5') # [['lat', 'lon', 'pm2_5']]"
   ]
  },
  {
   "cell_type": "code",
   "execution_count": 50,
   "id": "26262fbe",
   "metadata": {
    "execution": {
     "iopub.execute_input": "2025-04-07T17:20:36.946999Z",
     "iopub.status.busy": "2025-04-07T17:20:36.946584Z",
     "iopub.status.idle": "2025-04-07T17:20:36.952277Z",
     "shell.execute_reply": "2025-04-07T17:20:36.950911Z"
    },
    "papermill": {
     "duration": 0.030276,
     "end_time": "2025-04-07T17:20:36.954129",
     "exception": false,
     "start_time": "2025-04-07T17:20:36.923853",
     "status": "completed"
    },
    "tags": []
   },
   "outputs": [],
   "source": [
    "# def get_grids(df):\n",
    "#     grids = {}\n",
    "\n",
    "#     grids = {}  # Dictionary to hold all generated grids\n",
    "    \n",
    "#     # Get all unique combinations of date and time\n",
    "#     grouped = df.groupby([date_col, time_col])\n",
    "    \n",
    "#     for (date_val, time_val), group in grouped:\n",
    "#         # Pivot to grid with lat as rows (Y), lon as columns (X)\n",
    "#         pivot = group.pivot(index=lat_col, columns=lon_col, values=target_col)\n",
    "\n",
    "#         # Ensure sorted index/columns\n",
    "#         pivot = pivot.sort_index(axis=0).sort_index(axis=1)\n",
    "        \n",
    "#         # Create an empty 30x30 grid filled with 0 (or np.nan if you prefer)\n",
    "#         grid = np.zeros((grid_size, grid_size))\n",
    "        \n",
    "#         # Determine start indices to center your data\n",
    "#         lat_start = (grid_size - pivot.shape[0]) // 2\n",
    "#         lon_start = (grid_size - pivot.shape[1]) // 2\n",
    "        \n",
    "#         # Insert data into the middle of the 30x30 grid\n",
    "#         lat_end = lat_start + pivot.shape[0]\n",
    "#         lon_end = lon_start + pivot.shape[1]\n",
    "        \n",
    "#         # Handle edge cases where data is bigger than 30x30 (clip)\n",
    "#         if lat_end > grid_size or lon_end > grid_size:\n",
    "#             raise ValueError(f\"Data too big to fit in {grid_size}x{grid_size} grid\")\n",
    "\n",
    "#         grid[lat_start:lat_end, lon_start:lon_end] = pivot.values\n",
    "        \n",
    "#         # Store grid with key (date, time)\n",
    "#         grids[(date_val, time_val)] = grid\n",
    "\n",
    "\n",
    "#     for (date, time), group in df.groupby(['date_value', 'timeOfDay']):\n",
    "#         pm2_5_grid = group.pivot(index='lat', columns='lon', values='pm2_5')\n",
    "#         pm10_grid = group.pivot(index='lat', columns='lon', values='pm10')\n",
    "#         missing_grid = group.pivot(index='lat', columns='lon', values='pm10')\n",
    "#         missing_grid = missing_grid.fillna(True)\n",
    "#         grids[(date, time)] = {\n",
    "#             'pm2_5': pm2_5_grid,\n",
    "#             'pm10': pm10_grid,\n",
    "#             'missing': missing_grid,\n",
    "#         }\n",
    "\n",
    "#     keys = sorted(grids.keys())  # Sort to keep ordering consistent\n",
    "#     tensors = []\n",
    "\n",
    "#     for key in keys:\n",
    "#         A = grids[key]['pm2_5'] # .fillna(fill_value).values\n",
    "#         B = grids[key]['pm10'] # .fillna(fill_value).values\n",
    "#         M = grids[key]['missing'] # .fillna(fill_value).values\n",
    "\n",
    "#         # Stack the three channels: shape becomes (3, height, width)\n",
    "#         stacked = np.stack([A, B, M])\n",
    "#         tensors.append(stacked)\n",
    "\n",
    "#     # Final tensor: shape (num_grids, 3, height, width)\n",
    "#     return np.stack(tensors), keys"
   ]
  },
  {
   "cell_type": "code",
   "execution_count": 51,
   "id": "877eeff4",
   "metadata": {
    "execution": {
     "iopub.execute_input": "2025-04-07T17:20:36.997326Z",
     "iopub.status.busy": "2025-04-07T17:20:36.996794Z",
     "iopub.status.idle": "2025-04-07T17:20:37.009655Z",
     "shell.execute_reply": "2025-04-07T17:20:37.008450Z"
    },
    "papermill": {
     "duration": 0.036994,
     "end_time": "2025-04-07T17:20:37.011657",
     "exception": false,
     "start_time": "2025-04-07T17:20:36.974663",
     "status": "completed"
    },
    "tags": []
   },
   "outputs": [],
   "source": [
    "import pandas as pd\n",
    "import numpy as np\n",
    "\n",
    "def create_grids_for_cnn(df, i_col='lon', j_col='lat', date_col='date_value', time_col='timeOfDay',\n",
    "                         value_cols=['pm2_5', 'pm10', 'timeOfDay', 'day_of_week', 'distance',\n",
    "                                     'bus_count', 'missing'], grid_size=30):\n",
    "    \"\"\"\n",
    "    Create 30x30 grids for each (date_value, timeOfDay) combination.\n",
    "    \n",
    "    Parameters:\n",
    "    - df: Input DataFrame\n",
    "    - i_col, j_col: columns for longitude (x) and latitude (y)\n",
    "    - date_col, time_col: columns to group by\n",
    "    - value_cols: list of value columns to create channels for (e.g., ['A', 'B', 'missing'])\n",
    "    - grid_size: size of the output grid (default 30x30)\n",
    "\n",
    "    Returns:\n",
    "    - grids_array: numpy array of shape (num_samples, channels, grid_size, grid_size)\n",
    "    - keys: list of (date_value, timeOfDay) tuples\n",
    "    \"\"\"\n",
    "\n",
    "    grouped = df.groupby([date_col, time_col])\n",
    "    keys = []\n",
    "    grid_list = []\n",
    "\n",
    "    for key, group in grouped:\n",
    "        keys.append(key)\n",
    "        channels = []\n",
    "        \n",
    "        for val_col in value_cols:\n",
    "            pivot = group.pivot(index=j_col, columns=i_col, values=val_col)\n",
    "            pivot = pivot.sort_index(axis=0).sort_index(axis=1)\n",
    "\n",
    "            lat_vals = pivot.index.to_numpy()\n",
    "            lon_vals = pivot.columns.to_numpy()\n",
    "            \n",
    "            h, w = len(lat_vals), len(lon_vals)\n",
    "            \n",
    "            # Calculate start positions to center the data\n",
    "            y_start = (grid_size - h) // 2\n",
    "            x_start = (grid_size - w) // 2\n",
    "            \n",
    "            # Initialize empty grid\n",
    "            grid = np.full((grid_size, grid_size), np.nan if val_col != 'missing' else 1, dtype=np.float32)\n",
    "\n",
    "            # # Create an empty grid\n",
    "            # grid = np.ones((grid_size, grid_size), dtype=np.float32)\n",
    "\n",
    "            # h, w = pivot.shape\n",
    "            # y_start = (grid_size - h) // 2\n",
    "            # x_start = (grid_size - w) // 2\n",
    "\n",
    "            y_end = y_start + h\n",
    "            x_end = x_start + w\n",
    "\n",
    "            if y_end > grid_size or x_end > grid_size:\n",
    "                raise ValueError(f\"Data for {key} too large to fit in {grid_size}x{grid_size} grid\")\n",
    "\n",
    "            # if val_col != 'missing':\n",
    "            #     grid[y_start:y_end, x_start:x_end] = pivot.values\n",
    "            # else:\n",
    "            #     # For 'missing': treat any present (i, j) as 1 (True), others remain 0\n",
    "            #     grid[y_start:y_end, x_start:x_end] = ~pivot.isna().values.astype(np.uint8)\n",
    "\n",
    "            for yi, lat in enumerate(lat_vals):\n",
    "                for xi, lon in enumerate(lon_vals):\n",
    "                    value = pivot.at[lat, lon]\n",
    "                    # if pd.isna(value):\n",
    "                    #     continue\n",
    "                    \n",
    "                    grid[int(lat), int(lon)] = value\n",
    "\n",
    "\n",
    "            channels.append(grid)\n",
    "        \n",
    "        # Stack channels (shape: 3 x 30 x 30)\n",
    "        stacked = np.stack(channels, axis=0)\n",
    "        grid_list.append(stacked)\n",
    "\n",
    "    # Final output: (num_samples, channels, height, width)\n",
    "    grids_array = np.stack(grid_list, axis=0)\n",
    "    grids_array[:, :2, :, :] = np.where(\n",
    "        grids_array[:, :2, :, :] == 1,\n",
    "        np.nan,\n",
    "        grids_array[:, :2, :, :]\n",
    "    )\n",
    "\n",
    "    grids_array[:, 2, :, :] = np.where(\n",
    "        np.isnan(grids_array[:, 2, :, :]),\n",
    "        1,\n",
    "        grids_array[:, 2, :, :]\n",
    "    )\n",
    "    \n",
    "    return grids_array, keys\n"
   ]
  },
  {
   "cell_type": "code",
   "execution_count": 52,
   "id": "04f12497",
   "metadata": {
    "execution": {
     "iopub.execute_input": "2025-04-07T17:20:37.058290Z",
     "iopub.status.busy": "2025-04-07T17:20:37.057911Z",
     "iopub.status.idle": "2025-04-07T17:20:37.106110Z",
     "shell.execute_reply": "2025-04-07T17:20:37.104873Z"
    },
    "papermill": {
     "duration": 0.07343,
     "end_time": "2025-04-07T17:20:37.107999",
     "exception": false,
     "start_time": "2025-04-07T17:20:37.034569",
     "status": "completed"
    },
    "tags": []
   },
   "outputs": [],
   "source": [
    "dense_df1['day_of_week'] = dense_df1['date_value'].dt.dayofweek\n",
    "full_dense_df1['day_of_week'] = full_dense_df1['date_value'].dt.dayofweek"
   ]
  },
  {
   "cell_type": "code",
   "execution_count": 53,
   "id": "2cbcbac9",
   "metadata": {
    "execution": {
     "iopub.execute_input": "2025-04-07T17:20:37.153953Z",
     "iopub.status.busy": "2025-04-07T17:20:37.153542Z",
     "iopub.status.idle": "2025-04-07T17:22:37.475242Z",
     "shell.execute_reply": "2025-04-07T17:22:37.473513Z"
    },
    "papermill": {
     "duration": 120.348532,
     "end_time": "2025-04-07T17:22:37.478135",
     "exception": false,
     "start_time": "2025-04-07T17:20:37.129603",
     "status": "completed"
    },
    "tags": []
   },
   "outputs": [],
   "source": [
    "dense_data_1, dates1 = create_grids_for_cnn(dense_df1)"
   ]
  },
  {
   "cell_type": "code",
   "execution_count": 54,
   "id": "d1f24807",
   "metadata": {
    "execution": {
     "iopub.execute_input": "2025-04-07T17:22:37.528227Z",
     "iopub.status.busy": "2025-04-07T17:22:37.527829Z",
     "iopub.status.idle": "2025-04-07T17:22:37.535338Z",
     "shell.execute_reply": "2025-04-07T17:22:37.534046Z"
    },
    "papermill": {
     "duration": 0.033612,
     "end_time": "2025-04-07T17:22:37.537141",
     "exception": false,
     "start_time": "2025-04-07T17:22:37.503529",
     "status": "completed"
    },
    "tags": []
   },
   "outputs": [
    {
     "data": {
      "text/plain": [
       "(3185, 7, 30, 30)"
      ]
     },
     "execution_count": 54,
     "metadata": {},
     "output_type": "execute_result"
    }
   ],
   "source": [
    "dense_data_1.shape"
   ]
  },
  {
   "cell_type": "code",
   "execution_count": 55,
   "id": "d3f47657",
   "metadata": {
    "execution": {
     "iopub.execute_input": "2025-04-07T17:22:37.583164Z",
     "iopub.status.busy": "2025-04-07T17:22:37.582723Z",
     "iopub.status.idle": "2025-04-07T17:22:37.604767Z",
     "shell.execute_reply": "2025-04-07T17:22:37.603574Z"
    },
    "papermill": {
     "duration": 0.047577,
     "end_time": "2025-04-07T17:22:37.606814",
     "exception": false,
     "start_time": "2025-04-07T17:22:37.559237",
     "status": "completed"
    },
    "tags": []
   },
   "outputs": [
    {
     "data": {
      "text/html": [
       "<div>\n",
       "<style scoped>\n",
       "    .dataframe tbody tr th:only-of-type {\n",
       "        vertical-align: middle;\n",
       "    }\n",
       "\n",
       "    .dataframe tbody tr th {\n",
       "        vertical-align: top;\n",
       "    }\n",
       "\n",
       "    .dataframe thead th {\n",
       "        text-align: right;\n",
       "    }\n",
       "</style>\n",
       "<table border=\"1\" class=\"dataframe\">\n",
       "  <thead>\n",
       "    <tr style=\"text-align: right;\">\n",
       "      <th></th>\n",
       "      <th>timeOfDay</th>\n",
       "      <th>date_value</th>\n",
       "      <th>lat</th>\n",
       "      <th>lon</th>\n",
       "      <th>distance</th>\n",
       "      <th>bus_count</th>\n",
       "      <th>pm2_5</th>\n",
       "      <th>pm10</th>\n",
       "      <th>missing</th>\n",
       "      <th>day_of_week</th>\n",
       "    </tr>\n",
       "  </thead>\n",
       "  <tbody>\n",
       "    <tr>\n",
       "      <th>0</th>\n",
       "      <td>0.0</td>\n",
       "      <td>2020-11-01</td>\n",
       "      <td>3.0</td>\n",
       "      <td>23.0</td>\n",
       "      <td>0.000447</td>\n",
       "      <td>0.000000</td>\n",
       "      <td>133.123529</td>\n",
       "      <td>148.118824</td>\n",
       "      <td>True</td>\n",
       "      <td>6</td>\n",
       "    </tr>\n",
       "    <tr>\n",
       "      <th>4</th>\n",
       "      <td>0.0</td>\n",
       "      <td>2020-11-01</td>\n",
       "      <td>4.0</td>\n",
       "      <td>23.0</td>\n",
       "      <td>0.000447</td>\n",
       "      <td>0.142857</td>\n",
       "      <td>333.510000</td>\n",
       "      <td>367.575000</td>\n",
       "      <td>True</td>\n",
       "      <td>6</td>\n",
       "    </tr>\n",
       "    <tr>\n",
       "      <th>6</th>\n",
       "      <td>0.0</td>\n",
       "      <td>2020-11-01</td>\n",
       "      <td>5.0</td>\n",
       "      <td>23.0</td>\n",
       "      <td>0.000447</td>\n",
       "      <td>0.008403</td>\n",
       "      <td>207.228235</td>\n",
       "      <td>226.503529</td>\n",
       "      <td>True</td>\n",
       "      <td>6</td>\n",
       "    </tr>\n",
       "    <tr>\n",
       "      <th>9</th>\n",
       "      <td>0.0</td>\n",
       "      <td>2020-11-01</td>\n",
       "      <td>6.0</td>\n",
       "      <td>23.0</td>\n",
       "      <td>0.000447</td>\n",
       "      <td>0.000000</td>\n",
       "      <td>199.000000</td>\n",
       "      <td>219.410000</td>\n",
       "      <td>True</td>\n",
       "      <td>6</td>\n",
       "    </tr>\n",
       "    <tr>\n",
       "      <th>22</th>\n",
       "      <td>0.0</td>\n",
       "      <td>2020-11-01</td>\n",
       "      <td>9.0</td>\n",
       "      <td>23.0</td>\n",
       "      <td>0.000447</td>\n",
       "      <td>0.000000</td>\n",
       "      <td>355.829045</td>\n",
       "      <td>403.913058</td>\n",
       "      <td>True</td>\n",
       "      <td>6</td>\n",
       "    </tr>\n",
       "    <tr>\n",
       "      <th>30</th>\n",
       "      <td>0.0</td>\n",
       "      <td>2020-11-01</td>\n",
       "      <td>10.0</td>\n",
       "      <td>23.0</td>\n",
       "      <td>0.000447</td>\n",
       "      <td>0.000000</td>\n",
       "      <td>171.081717</td>\n",
       "      <td>212.435964</td>\n",
       "      <td>True</td>\n",
       "      <td>6</td>\n",
       "    </tr>\n",
       "    <tr>\n",
       "      <th>43</th>\n",
       "      <td>0.0</td>\n",
       "      <td>2020-11-01</td>\n",
       "      <td>11.0</td>\n",
       "      <td>23.0</td>\n",
       "      <td>0.000447</td>\n",
       "      <td>0.033649</td>\n",
       "      <td>224.174187</td>\n",
       "      <td>249.394728</td>\n",
       "      <td>True</td>\n",
       "      <td>6</td>\n",
       "    </tr>\n",
       "    <tr>\n",
       "      <th>90</th>\n",
       "      <td>0.0</td>\n",
       "      <td>2020-11-01</td>\n",
       "      <td>17.0</td>\n",
       "      <td>23.0</td>\n",
       "      <td>0.000447</td>\n",
       "      <td>0.033649</td>\n",
       "      <td>224.174187</td>\n",
       "      <td>249.394728</td>\n",
       "      <td>True</td>\n",
       "      <td>6</td>\n",
       "    </tr>\n",
       "    <tr>\n",
       "      <th>106</th>\n",
       "      <td>0.0</td>\n",
       "      <td>2020-11-01</td>\n",
       "      <td>19.0</td>\n",
       "      <td>23.0</td>\n",
       "      <td>0.000447</td>\n",
       "      <td>0.033649</td>\n",
       "      <td>224.174187</td>\n",
       "      <td>249.394728</td>\n",
       "      <td>True</td>\n",
       "      <td>6</td>\n",
       "    </tr>\n",
       "    <tr>\n",
       "      <th>112</th>\n",
       "      <td>0.0</td>\n",
       "      <td>2020-11-01</td>\n",
       "      <td>20.0</td>\n",
       "      <td>23.0</td>\n",
       "      <td>0.000447</td>\n",
       "      <td>0.033649</td>\n",
       "      <td>224.174187</td>\n",
       "      <td>249.394728</td>\n",
       "      <td>True</td>\n",
       "      <td>6</td>\n",
       "    </tr>\n",
       "  </tbody>\n",
       "</table>\n",
       "</div>"
      ],
      "text/plain": [
       "     timeOfDay date_value   lat   lon  distance  bus_count       pm2_5  \\\n",
       "0          0.0 2020-11-01   3.0  23.0  0.000447   0.000000  133.123529   \n",
       "4          0.0 2020-11-01   4.0  23.0  0.000447   0.142857  333.510000   \n",
       "6          0.0 2020-11-01   5.0  23.0  0.000447   0.008403  207.228235   \n",
       "9          0.0 2020-11-01   6.0  23.0  0.000447   0.000000  199.000000   \n",
       "22         0.0 2020-11-01   9.0  23.0  0.000447   0.000000  355.829045   \n",
       "30         0.0 2020-11-01  10.0  23.0  0.000447   0.000000  171.081717   \n",
       "43         0.0 2020-11-01  11.0  23.0  0.000447   0.033649  224.174187   \n",
       "90         0.0 2020-11-01  17.0  23.0  0.000447   0.033649  224.174187   \n",
       "106        0.0 2020-11-01  19.0  23.0  0.000447   0.033649  224.174187   \n",
       "112        0.0 2020-11-01  20.0  23.0  0.000447   0.033649  224.174187   \n",
       "\n",
       "           pm10  missing  day_of_week  \n",
       "0    148.118824     True            6  \n",
       "4    367.575000     True            6  \n",
       "6    226.503529     True            6  \n",
       "9    219.410000     True            6  \n",
       "22   403.913058     True            6  \n",
       "30   212.435964     True            6  \n",
       "43   249.394728     True            6  \n",
       "90   249.394728     True            6  \n",
       "106  249.394728     True            6  \n",
       "112  249.394728     True            6  "
      ]
     },
     "execution_count": 55,
     "metadata": {},
     "output_type": "execute_result"
    }
   ],
   "source": [
    "dense_df1[(dense_df1['date_value'] == '2020-11-01') & (dense_df1['timeOfDay'] == 0) & (\n",
    "    dense_df1['lon'] == 23\n",
    ")]"
   ]
  },
  {
   "cell_type": "code",
   "execution_count": 56,
   "id": "e909af75",
   "metadata": {
    "execution": {
     "iopub.execute_input": "2025-04-07T17:22:37.673113Z",
     "iopub.status.busy": "2025-04-07T17:22:37.672596Z",
     "iopub.status.idle": "2025-04-07T17:22:37.681123Z",
     "shell.execute_reply": "2025-04-07T17:22:37.679962Z"
    },
    "papermill": {
     "duration": 0.043981,
     "end_time": "2025-04-07T17:22:37.683212",
     "exception": false,
     "start_time": "2025-04-07T17:22:37.639231",
     "status": "completed"
    },
    "tags": []
   },
   "outputs": [
    {
     "data": {
      "text/plain": [
       "array([      nan,       nan,       nan, 133.12354, 333.51   , 207.22824,\n",
       "       199.     ,       nan,       nan, 355.82904, 171.08171, 224.1742 ,\n",
       "             nan,       nan,       nan,       nan,       nan, 224.1742 ,\n",
       "             nan, 224.1742 , 224.1742 ,       nan,       nan,       nan,\n",
       "             nan,       nan,       nan,       nan,       nan,       nan],\n",
       "      dtype=float32)"
      ]
     },
     "execution_count": 56,
     "metadata": {},
     "output_type": "execute_result"
    }
   ],
   "source": [
    "dense_data_1[0, 0, :, 23]"
   ]
  },
  {
   "cell_type": "code",
   "execution_count": 57,
   "id": "e723a7f4",
   "metadata": {
    "execution": {
     "iopub.execute_input": "2025-04-07T17:22:37.741801Z",
     "iopub.status.busy": "2025-04-07T17:22:37.741296Z",
     "iopub.status.idle": "2025-04-07T17:22:37.750325Z",
     "shell.execute_reply": "2025-04-07T17:22:37.749103Z"
    },
    "papermill": {
     "duration": 0.038313,
     "end_time": "2025-04-07T17:22:37.752505",
     "exception": false,
     "start_time": "2025-04-07T17:22:37.714192",
     "status": "completed"
    },
    "tags": []
   },
   "outputs": [
    {
     "data": {
      "text/plain": [
       "array([      nan,       nan,       nan, 148.11882, 367.575  , 226.50352,\n",
       "       219.41   ,       nan,       nan, 403.91306, 212.43596, 249.39473,\n",
       "             nan,       nan,       nan,       nan,       nan, 249.39473,\n",
       "             nan, 249.39473, 249.39473,       nan,       nan,       nan,\n",
       "             nan,       nan,       nan,       nan,       nan,       nan],\n",
       "      dtype=float32)"
      ]
     },
     "execution_count": 57,
     "metadata": {},
     "output_type": "execute_result"
    }
   ],
   "source": [
    "dense_data_1[0, 1, :, 23]"
   ]
  },
  {
   "cell_type": "code",
   "execution_count": 58,
   "id": "13108f9d",
   "metadata": {
    "execution": {
     "iopub.execute_input": "2025-04-07T17:22:37.805454Z",
     "iopub.status.busy": "2025-04-07T17:22:37.804950Z",
     "iopub.status.idle": "2025-04-07T17:22:37.814182Z",
     "shell.execute_reply": "2025-04-07T17:22:37.812998Z"
    },
    "papermill": {
     "duration": 0.039779,
     "end_time": "2025-04-07T17:22:37.816895",
     "exception": false,
     "start_time": "2025-04-07T17:22:37.777116",
     "status": "completed"
    },
    "tags": []
   },
   "outputs": [
    {
     "data": {
      "text/plain": [
       "array([1., 1., 1., 0., 0., 0., 0., 1., 1., 0., 0., 0., 1., 1., 1., 1., 1.,\n",
       "       0., 1., 0., 0., 1., 1., 1., 1., 1., 1., 1., 1., 1.], dtype=float32)"
      ]
     },
     "execution_count": 58,
     "metadata": {},
     "output_type": "execute_result"
    }
   ],
   "source": [
    "dense_data_1[0, 2, :, 23]"
   ]
  },
  {
   "cell_type": "code",
   "execution_count": 59,
   "id": "dffe49ea",
   "metadata": {
    "execution": {
     "iopub.execute_input": "2025-04-07T17:22:37.900723Z",
     "iopub.status.busy": "2025-04-07T17:22:37.900372Z",
     "iopub.status.idle": "2025-04-07T17:22:37.908155Z",
     "shell.execute_reply": "2025-04-07T17:22:37.905945Z"
    },
    "papermill": {
     "duration": 0.050945,
     "end_time": "2025-04-07T17:22:37.910187",
     "exception": false,
     "start_time": "2025-04-07T17:22:37.859242",
     "status": "completed"
    },
    "tags": []
   },
   "outputs": [
    {
     "data": {
      "text/plain": [
       "(Timestamp('2020-11-29 00:00:00'), 0.588235294117647)"
      ]
     },
     "execution_count": 59,
     "metadata": {},
     "output_type": "execute_result"
    }
   ],
   "source": [
    "dates1[1000]"
   ]
  },
  {
   "cell_type": "code",
   "execution_count": 60,
   "id": "3518193b",
   "metadata": {
    "execution": {
     "iopub.execute_input": "2025-04-07T17:22:37.965258Z",
     "iopub.status.busy": "2025-04-07T17:22:37.964721Z",
     "iopub.status.idle": "2025-04-07T17:22:37.995165Z",
     "shell.execute_reply": "2025-04-07T17:22:37.993226Z"
    },
    "papermill": {
     "duration": 0.064861,
     "end_time": "2025-04-07T17:22:37.997217",
     "exception": false,
     "start_time": "2025-04-07T17:22:37.932356",
     "status": "completed"
    },
    "tags": []
   },
   "outputs": [
    {
     "data": {
      "text/html": [
       "<div>\n",
       "<style scoped>\n",
       "    .dataframe tbody tr th:only-of-type {\n",
       "        vertical-align: middle;\n",
       "    }\n",
       "\n",
       "    .dataframe tbody tr th {\n",
       "        vertical-align: top;\n",
       "    }\n",
       "\n",
       "    .dataframe thead th {\n",
       "        text-align: right;\n",
       "    }\n",
       "</style>\n",
       "<table border=\"1\" class=\"dataframe\">\n",
       "  <thead>\n",
       "    <tr style=\"text-align: right;\">\n",
       "      <th></th>\n",
       "      <th>timeOfDay</th>\n",
       "      <th>date_value</th>\n",
       "      <th>lat</th>\n",
       "      <th>lon</th>\n",
       "      <th>distance</th>\n",
       "      <th>bus_count</th>\n",
       "      <th>pm2_5</th>\n",
       "      <th>pm10</th>\n",
       "      <th>missing</th>\n",
       "      <th>day_of_week</th>\n",
       "    </tr>\n",
       "  </thead>\n",
       "  <tbody>\n",
       "    <tr>\n",
       "      <th>133035</th>\n",
       "      <td>0.588235</td>\n",
       "      <td>2020-11-29</td>\n",
       "      <td>11.0</td>\n",
       "      <td>15.0</td>\n",
       "      <td>0.003087</td>\n",
       "      <td>0.142857</td>\n",
       "      <td>78.560000</td>\n",
       "      <td>85.520000</td>\n",
       "      <td>False</td>\n",
       "      <td>6</td>\n",
       "    </tr>\n",
       "    <tr>\n",
       "      <th>133055</th>\n",
       "      <td>0.588235</td>\n",
       "      <td>2020-11-29</td>\n",
       "      <td>13.0</td>\n",
       "      <td>15.0</td>\n",
       "      <td>0.002648</td>\n",
       "      <td>0.000000</td>\n",
       "      <td>98.620000</td>\n",
       "      <td>103.850000</td>\n",
       "      <td>False</td>\n",
       "      <td>6</td>\n",
       "    </tr>\n",
       "    <tr>\n",
       "      <th>133063</th>\n",
       "      <td>0.588235</td>\n",
       "      <td>2020-11-29</td>\n",
       "      <td>14.0</td>\n",
       "      <td>15.0</td>\n",
       "      <td>0.002648</td>\n",
       "      <td>0.000000</td>\n",
       "      <td>95.000000</td>\n",
       "      <td>100.000000</td>\n",
       "      <td>False</td>\n",
       "      <td>6</td>\n",
       "    </tr>\n",
       "    <tr>\n",
       "      <th>133079</th>\n",
       "      <td>0.588235</td>\n",
       "      <td>2020-11-29</td>\n",
       "      <td>16.0</td>\n",
       "      <td>15.0</td>\n",
       "      <td>0.004846</td>\n",
       "      <td>0.058219</td>\n",
       "      <td>197.255572</td>\n",
       "      <td>216.856721</td>\n",
       "      <td>True</td>\n",
       "      <td>6</td>\n",
       "    </tr>\n",
       "    <tr>\n",
       "      <th>133086</th>\n",
       "      <td>0.588235</td>\n",
       "      <td>2020-11-29</td>\n",
       "      <td>17.0</td>\n",
       "      <td>15.0</td>\n",
       "      <td>0.004846</td>\n",
       "      <td>0.058219</td>\n",
       "      <td>197.255572</td>\n",
       "      <td>216.856721</td>\n",
       "      <td>True</td>\n",
       "      <td>6</td>\n",
       "    </tr>\n",
       "    <tr>\n",
       "      <th>133092</th>\n",
       "      <td>0.588235</td>\n",
       "      <td>2020-11-29</td>\n",
       "      <td>18.0</td>\n",
       "      <td>15.0</td>\n",
       "      <td>0.002648</td>\n",
       "      <td>0.000000</td>\n",
       "      <td>103.250000</td>\n",
       "      <td>109.860000</td>\n",
       "      <td>False</td>\n",
       "      <td>6</td>\n",
       "    </tr>\n",
       "    <tr>\n",
       "      <th>133101</th>\n",
       "      <td>0.588235</td>\n",
       "      <td>2020-11-29</td>\n",
       "      <td>19.0</td>\n",
       "      <td>15.0</td>\n",
       "      <td>0.004846</td>\n",
       "      <td>0.058219</td>\n",
       "      <td>197.255572</td>\n",
       "      <td>216.856721</td>\n",
       "      <td>True</td>\n",
       "      <td>6</td>\n",
       "    </tr>\n",
       "    <tr>\n",
       "      <th>133123</th>\n",
       "      <td>0.588235</td>\n",
       "      <td>2020-11-29</td>\n",
       "      <td>22.0</td>\n",
       "      <td>15.0</td>\n",
       "      <td>0.004846</td>\n",
       "      <td>0.058219</td>\n",
       "      <td>197.255572</td>\n",
       "      <td>216.856721</td>\n",
       "      <td>True</td>\n",
       "      <td>6</td>\n",
       "    </tr>\n",
       "  </tbody>\n",
       "</table>\n",
       "</div>"
      ],
      "text/plain": [
       "        timeOfDay date_value   lat   lon  distance  bus_count       pm2_5  \\\n",
       "133035   0.588235 2020-11-29  11.0  15.0  0.003087   0.142857   78.560000   \n",
       "133055   0.588235 2020-11-29  13.0  15.0  0.002648   0.000000   98.620000   \n",
       "133063   0.588235 2020-11-29  14.0  15.0  0.002648   0.000000   95.000000   \n",
       "133079   0.588235 2020-11-29  16.0  15.0  0.004846   0.058219  197.255572   \n",
       "133086   0.588235 2020-11-29  17.0  15.0  0.004846   0.058219  197.255572   \n",
       "133092   0.588235 2020-11-29  18.0  15.0  0.002648   0.000000  103.250000   \n",
       "133101   0.588235 2020-11-29  19.0  15.0  0.004846   0.058219  197.255572   \n",
       "133123   0.588235 2020-11-29  22.0  15.0  0.004846   0.058219  197.255572   \n",
       "\n",
       "              pm10  missing  day_of_week  \n",
       "133035   85.520000    False            6  \n",
       "133055  103.850000    False            6  \n",
       "133063  100.000000    False            6  \n",
       "133079  216.856721     True            6  \n",
       "133086  216.856721     True            6  \n",
       "133092  109.860000    False            6  \n",
       "133101  216.856721     True            6  \n",
       "133123  216.856721     True            6  "
      ]
     },
     "execution_count": 60,
     "metadata": {},
     "output_type": "execute_result"
    }
   ],
   "source": [
    "dense_df1[(dense_df1['date_value'] == '2020-11-29') & (dense_df1['timeOfDay'] == 0.588235294117647) & (\n",
    "    # dense_df1['missing'] == False\n",
    "    dense_df1['lon'] == 15\n",
    ")]"
   ]
  },
  {
   "cell_type": "code",
   "execution_count": 61,
   "id": "191c0e15",
   "metadata": {
    "execution": {
     "iopub.execute_input": "2025-04-07T17:22:38.047708Z",
     "iopub.status.busy": "2025-04-07T17:22:38.047344Z",
     "iopub.status.idle": "2025-04-07T17:22:38.054522Z",
     "shell.execute_reply": "2025-04-07T17:22:38.053223Z"
    },
    "papermill": {
     "duration": 0.034064,
     "end_time": "2025-04-07T17:22:38.056794",
     "exception": false,
     "start_time": "2025-04-07T17:22:38.022730",
     "status": "completed"
    },
    "tags": []
   },
   "outputs": [
    {
     "data": {
      "text/plain": [
       "array([      nan,       nan,       nan,       nan,       nan,       nan,\n",
       "             nan,       nan,       nan,       nan,       nan,  85.52   ,\n",
       "             nan, 103.85   , 100.     ,       nan, 216.85672, 216.85672,\n",
       "       109.86   , 216.85672,       nan,       nan, 216.85672,       nan,\n",
       "             nan,       nan,       nan,       nan,       nan,       nan],\n",
       "      dtype=float32)"
      ]
     },
     "execution_count": 61,
     "metadata": {},
     "output_type": "execute_result"
    }
   ],
   "source": [
    "dense_data_1[1000, 1, :, 15]"
   ]
  },
  {
   "cell_type": "markdown",
   "id": "d5bc8217",
   "metadata": {
    "papermill": {
     "duration": 0.024223,
     "end_time": "2025-04-07T17:22:38.115039",
     "exception": false,
     "start_time": "2025-04-07T17:22:38.090816",
     "status": "completed"
    },
    "tags": []
   },
   "source": [
    "## Saving the grids"
   ]
  },
  {
   "cell_type": "code",
   "execution_count": 62,
   "id": "81680939",
   "metadata": {
    "execution": {
     "iopub.execute_input": "2025-04-07T17:22:38.162154Z",
     "iopub.status.busy": "2025-04-07T17:22:38.161717Z",
     "iopub.status.idle": "2025-04-07T17:24:36.292870Z",
     "shell.execute_reply": "2025-04-07T17:24:36.291576Z"
    },
    "papermill": {
     "duration": 118.157107,
     "end_time": "2025-04-07T17:24:36.295186",
     "exception": false,
     "start_time": "2025-04-07T17:22:38.138079",
     "status": "completed"
    },
    "tags": []
   },
   "outputs": [],
   "source": [
    "dense_data_1, dates1 = create_grids_for_cnn(dense_df1)"
   ]
  },
  {
   "cell_type": "code",
   "execution_count": 63,
   "id": "e064c06a",
   "metadata": {
    "execution": {
     "iopub.execute_input": "2025-04-07T17:24:36.341307Z",
     "iopub.status.busy": "2025-04-07T17:24:36.340917Z",
     "iopub.status.idle": "2025-04-07T17:27:01.262892Z",
     "shell.execute_reply": "2025-04-07T17:27:01.261284Z"
    },
    "papermill": {
     "duration": 144.947677,
     "end_time": "2025-04-07T17:27:01.265448",
     "exception": false,
     "start_time": "2025-04-07T17:24:36.317771",
     "status": "completed"
    },
    "tags": []
   },
   "outputs": [],
   "source": [
    "full_dense_data_1, full_dates1 = create_grids_for_cnn(full_dense_df1)"
   ]
  },
  {
   "cell_type": "code",
   "execution_count": 64,
   "id": "50fff4fc",
   "metadata": {
    "execution": {
     "iopub.execute_input": "2025-04-07T17:27:01.316670Z",
     "iopub.status.busy": "2025-04-07T17:27:01.316261Z",
     "iopub.status.idle": "2025-04-07T17:27:04.726674Z",
     "shell.execute_reply": "2025-04-07T17:27:04.725466Z"
    },
    "papermill": {
     "duration": 3.437944,
     "end_time": "2025-04-07T17:27:04.728967",
     "exception": false,
     "start_time": "2025-04-07T17:27:01.291023",
     "status": "completed"
    },
    "tags": []
   },
   "outputs": [],
   "source": [
    "np.savez_compressed(\"dense_grid.npz\", grids=dense_data_1, keys=np.array(dates1, dtype=object))\n",
    "np.savez_compressed(\"full_dense_grid.npz\", \n",
    "                    grids=full_dense_data_1, keys=np.array(full_dates1, dtype=object))"
   ]
  },
  {
   "cell_type": "code",
   "execution_count": 65,
   "id": "ab0af271",
   "metadata": {
    "execution": {
     "iopub.execute_input": "2025-04-07T17:27:04.775152Z",
     "iopub.status.busy": "2025-04-07T17:27:04.774792Z",
     "iopub.status.idle": "2025-04-07T17:27:04.845522Z",
     "shell.execute_reply": "2025-04-07T17:27:04.844181Z"
    },
    "papermill": {
     "duration": 0.096237,
     "end_time": "2025-04-07T17:27:04.847522",
     "exception": false,
     "start_time": "2025-04-07T17:27:04.751285",
     "status": "completed"
    },
    "tags": []
   },
   "outputs": [
    {
     "data": {
      "text/plain": [
       "0.7571306969674316"
      ]
     },
     "execution_count": 65,
     "metadata": {},
     "output_type": "execute_result"
    }
   ],
   "source": [
    "(full_dense_data_1 != dense_data_1).mean()"
   ]
  },
  {
   "cell_type": "markdown",
   "id": "5b80ac19",
   "metadata": {
    "papermill": {
     "duration": 0.022257,
     "end_time": "2025-04-07T17:27:04.893056",
     "exception": false,
     "start_time": "2025-04-07T17:27:04.870799",
     "status": "completed"
    },
    "tags": []
   },
   "source": [
    "## Imputing Grid with IDW"
   ]
  },
  {
   "cell_type": "code",
   "execution_count": 66,
   "id": "556dec21",
   "metadata": {
    "execution": {
     "iopub.execute_input": "2025-04-07T17:27:04.940783Z",
     "iopub.status.busy": "2025-04-07T17:27:04.940387Z",
     "iopub.status.idle": "2025-04-07T17:27:04.949091Z",
     "shell.execute_reply": "2025-04-07T17:27:04.947860Z"
    },
    "papermill": {
     "duration": 0.03552,
     "end_time": "2025-04-07T17:27:04.951114",
     "exception": false,
     "start_time": "2025-04-07T17:27:04.915594",
     "status": "completed"
    },
    "tags": []
   },
   "outputs": [],
   "source": [
    "from scipy.spatial import cKDTree\n",
    "import numpy as np\n",
    "\n",
    "def fill_nans_with_idw(grid, mask, k=3):\n",
    "    \"\"\"\n",
    "    Fill NaNs in a 2D grid using Inverse Distance Weighting based on k nearest neighbors.\n",
    "\n",
    "    Parameters:\n",
    "    - grid: 2D NumPy array with NaNs\n",
    "    - mask: 2D boolean array where True indicates valid data locations (same for all grids)\n",
    "    - k: number of neighbors to consider (default 3)\n",
    "\n",
    "    Returns:\n",
    "    - Filled 2D NumPy array\n",
    "    \"\"\"\n",
    "    filled = grid.copy()\n",
    "    valid_coords = np.argwhere(mask)\n",
    "    # print(valid_coords)\n",
    "    tree = cKDTree(valid_coords)\n",
    "\n",
    "    nan_coords = np.argwhere(1 - mask)\n",
    "    # print(nan_coords)\n",
    "\n",
    "    # for y, x in nan_coords:\n",
    "    #     # Find k nearest neighbors from valid_coords\n",
    "    #     dists, idxs = tree.query([y, x], k=k)\n",
    "    #     if np.any(dists == 0):  # Just in case of exact match\n",
    "    #         filled[y, x] = grid[tuple(valid_coords[idxs[dists == 0][0]])]\n",
    "    #     else:\n",
    "    #         weights = 1 / dists\n",
    "    #         values = np.array([grid[tuple(valid_coords[i])] for i in idxs])\n",
    "    #         filled[y, x] = np.sum(weights * values) / np.sum(weights)\n",
    "\n",
    "    # return filled\n",
    "\n",
    "    for y, x in nan_coords:\n",
    "        # Adjust k if there are fewer valid points\n",
    "        k_actual = min(k, len(valid_coords))\n",
    "        dists, idxs = tree.query([y, x], k=k_actual)\n",
    "\n",
    "        # Ensure both dists and idxs are arrays\n",
    "        if k_actual == 1:\n",
    "            dists = np.array([dists])\n",
    "            idxs = np.array([idxs])\n",
    "\n",
    "        # Handle exact match (distance 0)\n",
    "        if np.any(dists == 0):\n",
    "            filled[y, x] = grid[:, :, valid_coords[idxs[dists == 0][0]][0], valid_coords[idxs[dists == 0][0]][1]]\n",
    "        else:\n",
    "            # print(dists)\n",
    "            weights = 1 / np.reshape(dists, (1, len(dists), 1, 1))\n",
    "            # print(weights.shape)\n",
    "            values = np.array([grid[:, :, valid_coords[i][0], valid_coords[i][1]] for i in idxs])\n",
    "            filled[:, :, y, x] = np.sum(weights * values, axis=(0, 1)) / np.sum(weights)\n",
    "\n",
    "    return filled\n",
    "\n"
   ]
  },
  {
   "cell_type": "code",
   "execution_count": 67,
   "id": "1a2043f8",
   "metadata": {
    "execution": {
     "iopub.execute_input": "2025-04-07T17:27:05.011039Z",
     "iopub.status.busy": "2025-04-07T17:27:05.010596Z",
     "iopub.status.idle": "2025-04-07T17:27:06.068056Z",
     "shell.execute_reply": "2025-04-07T17:27:06.066889Z"
    },
    "papermill": {
     "duration": 1.095481,
     "end_time": "2025-04-07T17:27:06.070399",
     "exception": false,
     "start_time": "2025-04-07T17:27:04.974918",
     "status": "completed"
    },
    "tags": []
   },
   "outputs": [],
   "source": [
    "dense_data_2 = dense_data_1.copy()\n",
    "dense_data_2[:, :-1, :, :] = fill_nans_with_idw(dense_data_1[:, :-1, :, :], 1 - np.isnan(dense_data_1[0][0]))"
   ]
  },
  {
   "cell_type": "code",
   "execution_count": 68,
   "id": "54d77c36",
   "metadata": {
    "execution": {
     "iopub.execute_input": "2025-04-07T17:27:06.119387Z",
     "iopub.status.busy": "2025-04-07T17:27:06.118983Z",
     "iopub.status.idle": "2025-04-07T17:27:06.126571Z",
     "shell.execute_reply": "2025-04-07T17:27:06.125457Z"
    },
    "papermill": {
     "duration": 0.034885,
     "end_time": "2025-04-07T17:27:06.128359",
     "exception": false,
     "start_time": "2025-04-07T17:27:06.093474",
     "status": "completed"
    },
    "tags": []
   },
   "outputs": [
    {
     "data": {
      "text/plain": [
       "(array([      nan,       nan,       nan,       nan,       nan,       nan,\n",
       "              nan,       nan,       nan,       nan,       nan,  78.56   ,\n",
       "              nan,  98.62   ,  95.     ,       nan, 197.25557, 197.25557,\n",
       "        103.25   , 197.25557,       nan,       nan, 197.25557,       nan,\n",
       "              nan,       nan,       nan,       nan,       nan,       nan],\n",
       "       dtype=float32),\n",
       " array([113.19196 , 112.989876, 129.17752 , 130.79805 , 138.70482 ,\n",
       "        139.60683 , 147.44933 , 148.72855 , 150.93924 , 138.45573 ,\n",
       "         93.885445,  78.56    , 157.69038 ,  98.62    ,  95.      ,\n",
       "        163.17038 , 197.25557 , 197.25557 , 103.25    , 197.25557 ,\n",
       "        197.25557 , 197.25557 , 197.25557 , 197.25557 , 197.25557 ,\n",
       "        197.25557 , 197.25557 , 197.25557 , 197.25557 , 197.25557 ],\n",
       "       dtype=float32))"
      ]
     },
     "execution_count": 68,
     "metadata": {},
     "output_type": "execute_result"
    }
   ],
   "source": [
    "r = 15\n",
    "i = 1000\n",
    "dense_data_1[i, 0, :, r], dense_data_2[i, 0, :, r]"
   ]
  },
  {
   "cell_type": "code",
   "execution_count": 69,
   "id": "7c4bd88f",
   "metadata": {
    "execution": {
     "iopub.execute_input": "2025-04-07T17:27:06.175146Z",
     "iopub.status.busy": "2025-04-07T17:27:06.174661Z",
     "iopub.status.idle": "2025-04-07T17:27:07.045810Z",
     "shell.execute_reply": "2025-04-07T17:27:07.044444Z"
    },
    "papermill": {
     "duration": 0.89754,
     "end_time": "2025-04-07T17:27:07.048023",
     "exception": false,
     "start_time": "2025-04-07T17:27:06.150483",
     "status": "completed"
    },
    "tags": []
   },
   "outputs": [],
   "source": [
    "full_dense_data_2 = full_dense_data_1.copy()\n",
    "full_dense_data_2[:, :-1, :, :] = fill_nans_with_idw(\n",
    "    full_dense_data_1[:, :-1, :, :], 1 - np.isnan(full_dense_data_1[0][0])\n",
    ")"
   ]
  },
  {
   "cell_type": "code",
   "execution_count": 70,
   "id": "98d7632d",
   "metadata": {
    "execution": {
     "iopub.execute_input": "2025-04-07T17:27:07.095289Z",
     "iopub.status.busy": "2025-04-07T17:27:07.094909Z",
     "iopub.status.idle": "2025-04-07T17:27:07.550196Z",
     "shell.execute_reply": "2025-04-07T17:27:07.548897Z"
    },
    "papermill": {
     "duration": 0.480914,
     "end_time": "2025-04-07T17:27:07.552395",
     "exception": false,
     "start_time": "2025-04-07T17:27:07.071481",
     "status": "completed"
    },
    "tags": []
   },
   "outputs": [],
   "source": [
    "dense_data_2 = np.nan_to_num(dense_data_2, nan = 1)\n",
    "full_dense_data_2 = np.nan_to_num(full_dense_data_2, nan = 1)"
   ]
  },
  {
   "cell_type": "code",
   "execution_count": 71,
   "id": "92ff10e4",
   "metadata": {
    "execution": {
     "iopub.execute_input": "2025-04-07T17:27:07.597531Z",
     "iopub.status.busy": "2025-04-07T17:27:07.597178Z",
     "iopub.status.idle": "2025-04-07T17:27:09.512506Z",
     "shell.execute_reply": "2025-04-07T17:27:09.511275Z"
    },
    "papermill": {
     "duration": 1.93995,
     "end_time": "2025-04-07T17:27:09.514436",
     "exception": false,
     "start_time": "2025-04-07T17:27:07.574486",
     "status": "completed"
    },
    "tags": []
   },
   "outputs": [
    {
     "name": "stdout",
     "output_type": "stream",
     "text": [
      "0 [ 9.95     12.08     12.68     13.570306 13.93    ]\n",
      "1 [10.06     13.07     13.76     13.946713 14.      ]\n",
      "2 [0.         0.02941176 0.05882353 0.0882353  0.11764706]\n",
      "3 [0. 1. 2. 3. 4.]\n",
      "4 [0.0000000e+00 3.2889571e-07 3.9015936e-07 6.2648985e-07 6.5237157e-07]\n",
      "5 [0.0000000e+00 1.3015766e-33 1.5994865e-33 1.6558399e-33 1.7867520e-33]\n",
      "6 [0. 1.]\n",
      "0 [ 9.95 12.08 12.68 13.93 14.11]\n",
      "1 [10.06 13.07 13.76 14.   15.08]\n",
      "2 [0.         0.02941176 0.05882353 0.0882353  0.11764706]\n",
      "3 [0. 1. 2. 3. 4.]\n",
      "4 [0.0000000e+00 3.2889571e-07 3.9015936e-07 6.2648985e-07 6.5237157e-07]\n",
      "5 [0.0000000e+00 1.7546429e-28 3.5092858e-28 4.1591536e-28 6.3599749e-28]\n",
      "6 [0. 1.]\n"
     ]
    }
   ],
   "source": [
    "for i in range(7):\n",
    "    print(i, np.unique(dense_data_2[:, i, :, :])[:5])\n",
    "for i in range(7):\n",
    "    print(i, np.unique(full_dense_data_2[:, i, :, :])[:5])"
   ]
  },
  {
   "cell_type": "code",
   "execution_count": 72,
   "id": "98f9dfdb",
   "metadata": {
    "execution": {
     "iopub.execute_input": "2025-04-07T17:27:09.561086Z",
     "iopub.status.busy": "2025-04-07T17:27:09.560650Z",
     "iopub.status.idle": "2025-04-07T17:27:13.037139Z",
     "shell.execute_reply": "2025-04-07T17:27:13.035887Z"
    },
    "papermill": {
     "duration": 3.502559,
     "end_time": "2025-04-07T17:27:13.039898",
     "exception": false,
     "start_time": "2025-04-07T17:27:09.537339",
     "status": "completed"
    },
    "tags": []
   },
   "outputs": [],
   "source": [
    "np.savez_compressed(\"idw_dense_grid.npz\", grids=dense_data_2, keys=np.array(dates1, dtype=object))\n",
    "np.savez_compressed(\"idw_full_dense_grid.npz\", \n",
    "                    grids=full_dense_data_2, keys=np.array(full_dates1, dtype=object))"
   ]
  },
  {
   "cell_type": "markdown",
   "id": "6718fe15",
   "metadata": {
    "papermill": {
     "duration": 0.022991,
     "end_time": "2025-04-07T17:27:13.088325",
     "exception": false,
     "start_time": "2025-04-07T17:27:13.065334",
     "status": "completed"
    },
    "tags": []
   },
   "source": [
    "## Calculations for Satellite Image"
   ]
  },
  {
   "cell_type": "code",
   "execution_count": 73,
   "id": "2853e400",
   "metadata": {
    "execution": {
     "iopub.execute_input": "2025-04-07T17:27:13.137187Z",
     "iopub.status.busy": "2025-04-07T17:27:13.136790Z",
     "iopub.status.idle": "2025-04-07T17:27:13.279377Z",
     "shell.execute_reply": "2025-04-07T17:27:13.278120Z"
    },
    "papermill": {
     "duration": 0.170479,
     "end_time": "2025-04-07T17:27:13.282103",
     "exception": false,
     "start_time": "2025-04-07T17:27:13.111624",
     "status": "completed"
    },
    "tags": []
   },
   "outputs": [],
   "source": [
    "df1 = pd.read_csv('/kaggle/input/airdelhi-tabularengineering/tabular_data.csv')"
   ]
  },
  {
   "cell_type": "code",
   "execution_count": 74,
   "id": "1d7cff77",
   "metadata": {
    "execution": {
     "iopub.execute_input": "2025-04-07T17:27:13.332208Z",
     "iopub.status.busy": "2025-04-07T17:27:13.331815Z",
     "iopub.status.idle": "2025-04-07T17:27:13.340676Z",
     "shell.execute_reply": "2025-04-07T17:27:13.339279Z"
    },
    "papermill": {
     "duration": 0.036316,
     "end_time": "2025-04-07T17:27:13.342731",
     "exception": false,
     "start_time": "2025-04-07T17:27:13.306415",
     "status": "completed"
    },
    "tags": []
   },
   "outputs": [],
   "source": [
    "lat = np.sort(df1['lat'].unique())\n",
    "lon = np.sort(df1['lon'].unique())"
   ]
  },
  {
   "cell_type": "code",
   "execution_count": 75,
   "id": "7b4cf811",
   "metadata": {
    "execution": {
     "iopub.execute_input": "2025-04-07T17:27:13.394199Z",
     "iopub.status.busy": "2025-04-07T17:27:13.393801Z",
     "iopub.status.idle": "2025-04-07T17:27:13.401899Z",
     "shell.execute_reply": "2025-04-07T17:27:13.400723Z"
    },
    "papermill": {
     "duration": 0.035519,
     "end_time": "2025-04-07T17:27:13.403920",
     "exception": false,
     "start_time": "2025-04-07T17:27:13.368401",
     "status": "completed"
    },
    "tags": []
   },
   "outputs": [
    {
     "data": {
      "text/plain": [
       "(0.008999999999996788, 0.010199999999997544)"
      ]
     },
     "execution_count": 75,
     "metadata": {},
     "output_type": "execute_result"
    }
   ],
   "source": [
    "lat1 = lat - np.roll(lat, 1)\n",
    "lon1 = lon - np.roll(lon, 1)\n",
    "np.min(lat1[1:]), np.min(lon1[1:])"
   ]
  },
  {
   "cell_type": "code",
   "execution_count": 76,
   "id": "ed8ca474",
   "metadata": {
    "execution": {
     "iopub.execute_input": "2025-04-07T17:27:13.452346Z",
     "iopub.status.busy": "2025-04-07T17:27:13.451964Z",
     "iopub.status.idle": "2025-04-07T17:27:13.459796Z",
     "shell.execute_reply": "2025-04-07T17:27:13.458400Z"
    },
    "papermill": {
     "duration": 0.035274,
     "end_time": "2025-04-07T17:27:13.462491",
     "exception": false,
     "start_time": "2025-04-07T17:27:13.427217",
     "status": "completed"
    },
    "tags": []
   },
   "outputs": [
    {
     "data": {
      "text/plain": [
       "(28.462, 28.723)"
      ]
     },
     "execution_count": 76,
     "metadata": {},
     "output_type": "execute_result"
    }
   ],
   "source": [
    "lat.min() - 0.009 * 2, lat.max() + 0.009"
   ]
  },
  {
   "cell_type": "code",
   "execution_count": 77,
   "id": "e045b606",
   "metadata": {
    "execution": {
     "iopub.execute_input": "2025-04-07T17:27:13.514782Z",
     "iopub.status.busy": "2025-04-07T17:27:13.514392Z",
     "iopub.status.idle": "2025-04-07T17:27:13.521454Z",
     "shell.execute_reply": "2025-04-07T17:27:13.520277Z"
    },
    "papermill": {
     "duration": 0.035179,
     "end_time": "2025-04-07T17:27:13.523506",
     "exception": false,
     "start_time": "2025-04-07T17:27:13.488327",
     "status": "completed"
    },
    "tags": []
   },
   "outputs": [
    {
     "data": {
      "text/plain": [
       "(77.05919999999999, 77.355)"
      ]
     },
     "execution_count": 77,
     "metadata": {},
     "output_type": "execute_result"
    }
   ],
   "source": [
    "lon.min() - 0.0102 * 4, lon.max() + 0.0102 * 4"
   ]
  }
 ],
 "metadata": {
  "kaggle": {
   "accelerator": "none",
   "dataSources": [
    {
     "sourceId": 226700844,
     "sourceType": "kernelVersion"
    }
   ],
   "dockerImageVersionId": 30918,
   "isGpuEnabled": false,
   "isInternetEnabled": true,
   "language": "python",
   "sourceType": "notebook"
  },
  "kernelspec": {
   "display_name": "Python 3",
   "language": "python",
   "name": "python3"
  },
  "language_info": {
   "codemirror_mode": {
    "name": "ipython",
    "version": 3
   },
   "file_extension": ".py",
   "mimetype": "text/x-python",
   "name": "python",
   "nbconvert_exporter": "python",
   "pygments_lexer": "ipython3",
   "version": "3.10.12"
  },
  "papermill": {
   "default_parameters": {},
   "duration": 497.973417,
   "end_time": "2025-04-07T17:27:15.946138",
   "environment_variables": {},
   "exception": null,
   "input_path": "__notebook__.ipynb",
   "output_path": "__notebook__.ipynb",
   "parameters": {},
   "start_time": "2025-04-07T17:18:57.972721",
   "version": "2.6.0"
  }
 },
 "nbformat": 4,
 "nbformat_minor": 5
}
