{
 "cells": [
  {
   "cell_type": "markdown",
   "id": "53e0ba04",
   "metadata": {
    "papermill": {
     "duration": 0.00485,
     "end_time": "2025-03-09T23:22:53.918874",
     "exception": false,
     "start_time": "2025-03-09T23:22:53.914024",
     "status": "completed"
    },
    "tags": []
   },
   "source": [
    "# Air Delhi Dataset Modeling\n",
    "\n",
    "The purpose of this notebook is to model additional parameters such as traffic, greenery, etc.\n",
    "\n",
    "For statistical models, I will be only adding traffic"
   ]
  },
  {
   "cell_type": "markdown",
   "id": "e4bb0df3",
   "metadata": {
    "papermill": {
     "duration": 0.003952,
     "end_time": "2025-03-09T23:22:53.927622",
     "exception": false,
     "start_time": "2025-03-09T23:22:53.923670",
     "status": "completed"
    },
    "tags": []
   },
   "source": [
    "**Config**"
   ]
  },
  {
   "cell_type": "code",
   "execution_count": 1,
   "id": "7de8e74a",
   "metadata": {
    "execution": {
     "iopub.execute_input": "2025-03-09T23:22:53.938082Z",
     "iopub.status.busy": "2025-03-09T23:22:53.937577Z",
     "iopub.status.idle": "2025-03-09T23:22:53.943406Z",
     "shell.execute_reply": "2025-03-09T23:22:53.942362Z"
    },
    "papermill": {
     "duration": 0.013169,
     "end_time": "2025-03-09T23:22:53.945171",
     "exception": false,
     "start_time": "2025-03-09T23:22:53.932002",
     "status": "completed"
    },
    "tags": []
   },
   "outputs": [],
   "source": [
    "DATA_FOLDER = '/kaggle/input/airdelhi-dataset/PM Datasets/'\n",
    "TIME_INTERVAL = 30\n",
    "TRAFFIC_LAG = 15"
   ]
  },
  {
   "cell_type": "code",
   "execution_count": 2,
   "id": "e460e4d7",
   "metadata": {
    "execution": {
     "iopub.execute_input": "2025-03-09T23:22:53.955009Z",
     "iopub.status.busy": "2025-03-09T23:22:53.954631Z",
     "iopub.status.idle": "2025-03-09T23:23:02.478828Z",
     "shell.execute_reply": "2025-03-09T23:23:02.477662Z"
    },
    "papermill": {
     "duration": 8.531261,
     "end_time": "2025-03-09T23:23:02.480816",
     "exception": false,
     "start_time": "2025-03-09T23:22:53.949555",
     "status": "completed"
    },
    "tags": []
   },
   "outputs": [],
   "source": [
    "import tqdm\n",
    "import torch\n",
    "import argparse\n",
    "import os\n",
    "import math\n",
    "import pickle as pkl\n",
    "import pandas as pd\n",
    "import numpy as np\n",
    "from haversine import haversine, haversine_vector, Unit\n",
    "from sklearn.model_selection import KFold\n",
    "\n",
    "mytqdm = tqdm.notebook.tqdm if 0 else tqdm.tqdm\n"
   ]
  },
  {
   "cell_type": "code",
   "execution_count": 3,
   "id": "fb01004f",
   "metadata": {
    "execution": {
     "iopub.execute_input": "2025-03-09T23:23:02.491211Z",
     "iopub.status.busy": "2025-03-09T23:23:02.490606Z",
     "iopub.status.idle": "2025-03-09T23:23:02.936617Z",
     "shell.execute_reply": "2025-03-09T23:23:02.935487Z"
    },
    "papermill": {
     "duration": 0.453009,
     "end_time": "2025-03-09T23:23:02.938364",
     "exception": false,
     "start_time": "2025-03-09T23:23:02.485355",
     "status": "completed"
    },
    "tags": []
   },
   "outputs": [
    {
     "data": {
      "text/html": [
       "<div>\n",
       "<style scoped>\n",
       "    .dataframe tbody tr th:only-of-type {\n",
       "        vertical-align: middle;\n",
       "    }\n",
       "\n",
       "    .dataframe tbody tr th {\n",
       "        vertical-align: top;\n",
       "    }\n",
       "\n",
       "    .dataframe thead th {\n",
       "        text-align: right;\n",
       "    }\n",
       "</style>\n",
       "<table border=\"1\" class=\"dataframe\">\n",
       "  <thead>\n",
       "    <tr style=\"text-align: right;\">\n",
       "      <th></th>\n",
       "      <th>Unnamed: 0</th>\n",
       "      <th>uid</th>\n",
       "      <th>dateTime</th>\n",
       "      <th>deviceId</th>\n",
       "      <th>lat</th>\n",
       "      <th>long</th>\n",
       "      <th>pm1_0</th>\n",
       "      <th>pm2_5</th>\n",
       "      <th>pm10</th>\n",
       "    </tr>\n",
       "  </thead>\n",
       "  <tbody>\n",
       "    <tr>\n",
       "      <th>0</th>\n",
       "      <td>0</td>\n",
       "      <td>2c9b97a9-be40-416e-8c95-da9b53533eea</td>\n",
       "      <td>2020-11-03 00:00:02+05:30</td>\n",
       "      <td>0000000024568afd</td>\n",
       "      <td>28.579224</td>\n",
       "      <td>77.226570</td>\n",
       "      <td>113.0</td>\n",
       "      <td>185.0</td>\n",
       "      <td>198.0</td>\n",
       "    </tr>\n",
       "    <tr>\n",
       "      <th>1</th>\n",
       "      <td>1</td>\n",
       "      <td>e5b872ff-b4e6-400e-aabf-7db7cbce5ce7</td>\n",
       "      <td>2020-11-03 00:00:05+05:30</td>\n",
       "      <td>0000000024568afd</td>\n",
       "      <td>28.579226</td>\n",
       "      <td>77.226565</td>\n",
       "      <td>117.0</td>\n",
       "      <td>187.0</td>\n",
       "      <td>201.0</td>\n",
       "    </tr>\n",
       "    <tr>\n",
       "      <th>2</th>\n",
       "      <td>2</td>\n",
       "      <td>6e8cd4f9-6b88-43ec-8831-22b3ea576e34</td>\n",
       "      <td>2020-11-03 00:00:06+05:30</td>\n",
       "      <td>00000000d4bc37f2</td>\n",
       "      <td>28.579350</td>\n",
       "      <td>77.234810</td>\n",
       "      <td>121.0</td>\n",
       "      <td>183.0</td>\n",
       "      <td>195.0</td>\n",
       "    </tr>\n",
       "    <tr>\n",
       "      <th>3</th>\n",
       "      <td>3</td>\n",
       "      <td>66bdf0ae-866d-4603-bb7a-35b20baacd7f</td>\n",
       "      <td>2020-11-03 00:00:07+05:30</td>\n",
       "      <td>0000000024568afd</td>\n",
       "      <td>28.579227</td>\n",
       "      <td>77.226562</td>\n",
       "      <td>117.0</td>\n",
       "      <td>187.0</td>\n",
       "      <td>203.0</td>\n",
       "    </tr>\n",
       "    <tr>\n",
       "      <th>4</th>\n",
       "      <td>4</td>\n",
       "      <td>e6bfb221-13c1-4062-95e5-71a96701c919</td>\n",
       "      <td>2020-11-03 00:00:09+05:30</td>\n",
       "      <td>00000000d4bc37f2</td>\n",
       "      <td>28.579350</td>\n",
       "      <td>77.234810</td>\n",
       "      <td>119.0</td>\n",
       "      <td>181.0</td>\n",
       "      <td>198.0</td>\n",
       "    </tr>\n",
       "  </tbody>\n",
       "</table>\n",
       "</div>"
      ],
      "text/plain": [
       "   Unnamed: 0                                   uid  \\\n",
       "0           0  2c9b97a9-be40-416e-8c95-da9b53533eea   \n",
       "1           1  e5b872ff-b4e6-400e-aabf-7db7cbce5ce7   \n",
       "2           2  6e8cd4f9-6b88-43ec-8831-22b3ea576e34   \n",
       "3           3  66bdf0ae-866d-4603-bb7a-35b20baacd7f   \n",
       "4           4  e6bfb221-13c1-4062-95e5-71a96701c919   \n",
       "\n",
       "                    dateTime          deviceId        lat       long  pm1_0  \\\n",
       "0  2020-11-03 00:00:02+05:30  0000000024568afd  28.579224  77.226570  113.0   \n",
       "1  2020-11-03 00:00:05+05:30  0000000024568afd  28.579226  77.226565  117.0   \n",
       "2  2020-11-03 00:00:06+05:30  00000000d4bc37f2  28.579350  77.234810  121.0   \n",
       "3  2020-11-03 00:00:07+05:30  0000000024568afd  28.579227  77.226562  117.0   \n",
       "4  2020-11-03 00:00:09+05:30  00000000d4bc37f2  28.579350  77.234810  119.0   \n",
       "\n",
       "   pm2_5   pm10  \n",
       "0  185.0  198.0  \n",
       "1  187.0  201.0  \n",
       "2  183.0  195.0  \n",
       "3  187.0  203.0  \n",
       "4  181.0  198.0  "
      ]
     },
     "execution_count": 3,
     "metadata": {},
     "output_type": "execute_result"
    }
   ],
   "source": [
    "df = pd.read_csv('/kaggle/input/airdelhi-dataset/PM Datasets/2020-11-03_all.csv')\n",
    "df.head()"
   ]
  },
  {
   "cell_type": "code",
   "execution_count": 4,
   "id": "9fc64f6a",
   "metadata": {
    "execution": {
     "iopub.execute_input": "2025-03-09T23:23:02.949152Z",
     "iopub.status.busy": "2025-03-09T23:23:02.948490Z",
     "iopub.status.idle": "2025-03-09T23:23:02.955176Z",
     "shell.execute_reply": "2025-03-09T23:23:02.953982Z"
    },
    "papermill": {
     "duration": 0.013861,
     "end_time": "2025-03-09T23:23:02.956908",
     "exception": false,
     "start_time": "2025-03-09T23:23:02.943047",
     "status": "completed"
    },
    "tags": []
   },
   "outputs": [
    {
     "data": {
      "text/plain": [
       "(96213, 9)"
      ]
     },
     "execution_count": 4,
     "metadata": {},
     "output_type": "execute_result"
    }
   ],
   "source": [
    "df.shape"
   ]
  },
  {
   "cell_type": "code",
   "execution_count": 5,
   "id": "480f3d94",
   "metadata": {
    "execution": {
     "iopub.execute_input": "2025-03-09T23:23:02.967521Z",
     "iopub.status.busy": "2025-03-09T23:23:02.967164Z",
     "iopub.status.idle": "2025-03-09T23:23:02.973084Z",
     "shell.execute_reply": "2025-03-09T23:23:02.972081Z"
    },
    "papermill": {
     "duration": 0.013245,
     "end_time": "2025-03-09T23:23:02.975019",
     "exception": false,
     "start_time": "2025-03-09T23:23:02.961774",
     "status": "completed"
    },
    "tags": []
   },
   "outputs": [],
   "source": [
    "rand_sensor_locs = 1\n",
    "\n",
    "fold = [3,5][rand_sensor_locs]\n",
    "\n",
    "heatmap = 0\n",
    "datadir = DATA_FOLDER\n",
    "pm = ['pm10','pm2_5'][1]\n",
    "pm2 = ['pm10','pm2_5'][0]\n",
    "sensorTyp = ['random'][0]\n",
    "\n",
    "km = 1\n",
    "grouptime = 30\n",
    "latlongprecise = 4\n",
    "metricprecise = 3\n",
    "\n",
    "ll_min, ll_max = [11.0, 28.48, 77.1], [45.0, 28.72, 77.33]\n",
    "ll_off = [1, np.round(0.00902*km,latlongprecise), np.round(0.01017*km,latlongprecise)]"
   ]
  },
  {
   "cell_type": "markdown",
   "id": "a9cf7fbb",
   "metadata": {
    "papermill": {
     "duration": 0.004712,
     "end_time": "2025-03-09T23:23:02.984480",
     "exception": false,
     "start_time": "2025-03-09T23:23:02.979768",
     "status": "completed"
    },
    "tags": []
   },
   "source": [
    "## Preprocessing"
   ]
  },
  {
   "cell_type": "code",
   "execution_count": 6,
   "id": "5c49143e",
   "metadata": {
    "execution": {
     "iopub.execute_input": "2025-03-09T23:23:02.995731Z",
     "iopub.status.busy": "2025-03-09T23:23:02.995320Z",
     "iopub.status.idle": "2025-03-09T23:23:03.019275Z",
     "shell.execute_reply": "2025-03-09T23:23:03.018051Z"
    },
    "papermill": {
     "duration": 0.032041,
     "end_time": "2025-03-09T23:23:03.021218",
     "exception": false,
     "start_time": "2025-03-09T23:23:02.989177",
     "status": "completed"
    },
    "tags": []
   },
   "outputs": [],
   "source": [
    "def to_dt(time_string):\n",
    "    return pd.to_datetime(time_string).tz_localize('UTC').tz_convert('Asia/Kolkata')\n",
    "\n",
    "def filter_fields(df):\n",
    "    df = df[['dateTime', 'deviceId', 'lat','long',pm,pm2]]\n",
    "    df = df.rename(columns = {'long' : 'lon'})\n",
    "    return df\n",
    "\n",
    "def process_time(df, hour=None):\n",
    "    df = df.copy()\n",
    "    df['timeOfDay'] = df['dateTime'].copy()\n",
    "    if hour:\n",
    "        df[\"hour\"] = df.timeOfDay.dt.hour\n",
    "        df = df[df.hour.isin(hour)]\n",
    "        df = df.drop(\"hour\", axis = 1)\n",
    "\n",
    "    df.timeOfDay = df.timeOfDay.dt.round('{}min'.format(grouptime))\n",
    "    df.timeOfDay = pd.to_datetime(df.timeOfDay)\n",
    "    df.timeOfDay = df.timeOfDay.dt.hour*60+df.timeOfDay.dt.minute\n",
    "    df.timeOfDay %= 1440\n",
    "    df = df[(df.timeOfDay>=300) & (df.timeOfDay<=1350)]\n",
    "    df = df.sort_values(by = ['dateTime', 'deviceId']) # , 'lat','long'\n",
    "    df = df.reset_index(drop = True)\n",
    "\n",
    "    df.dateTime = pd.to_datetime(df.dateTime)\n",
    "    df['day_of_week'] = df.dateTime.dt.weekday\n",
    "    df['date_value'] = df.dateTime.dt.date\n",
    "\n",
    "    df = df.drop(columns = ['dateTime'])\n",
    "\n",
    "    return df\n",
    "\n",
    "def distance_approximation(lat1, lon1, lat2, lon2):\n",
    "    \"\"\"\n",
    "    Computes the approximate distance (in km) between two close latitude/longitude points using\n",
    "    the Euclidean approximation.\n",
    "    \"\"\"\n",
    "\n",
    "    def to_radians(x):\n",
    "        x = x / 360 * 2 * np.pi\n",
    "        return x\n",
    "\n",
    "    lat1 = to_radians(lat1)\n",
    "    lat2 = to_radians(lat2)\n",
    "    lon1 = to_radians(lon1)\n",
    "    lon2 = to_radians(lon2)\n",
    "    \n",
    "    lat_factor = 110.57  # Approximate km per degree latitude\n",
    "    lon_factor = 111.32 * np.cos((lat1 + lat2) / 2)\n",
    "    \n",
    "    dlat = (lat2 - lat1) * lat_factor\n",
    "    dlon = (lon2 - lon1) * lon_factor\n",
    "    \n",
    "    return np.sqrt(dlat**2 + dlon**2)\n",
    "\n",
    "def haversine(lat1, lon1, lat2, lon2):\n",
    "    \"\"\"\n",
    "    Computes the distance (in km) between two latitude/longitude points using the Haversine formula.\n",
    "    \"\"\"\n",
    "    R = 6371  # Radius of the Earth in km\n",
    "    \n",
    "    # Convert degrees to radians\n",
    "    def to_radians(x):\n",
    "        x = x / 180 * np.pi\n",
    "        return x\n",
    "\n",
    "    lat1 = to_radians(lat1)\n",
    "    lat2 = to_radians(lat2)\n",
    "    lon1 = to_radians(lon1)\n",
    "    lon2 = to_radians(lon2)\n",
    "    \n",
    "    # Differences\n",
    "    dlat = lat2 - lat1\n",
    "    dlon = lon2 - lon1\n",
    "    \n",
    "    # Haversine formula\n",
    "    a = np.sin(dlat/2)**2 + np.cos(lat1) * np.cos(lat2) * np.sin(dlon/2)**2\n",
    "    c = 2 * np.arctan2(np.sqrt(a), np.sqrt(1 - a))\n",
    "    \n",
    "    return R * c  # Distance in km\n",
    "\n",
    "def record_distance(df):\n",
    "\n",
    "    speed_df = df.copy()\n",
    "    speed_df = speed_df.sort_values(by = ['deviceId', 'dateTime'])\n",
    "    speed_df['next_lat'] = speed_df.groupby(['deviceId'])['lat'].shift(-1)\n",
    "    speed_df['next_lon'] = speed_df.groupby(['deviceId'])['lon'].shift(-1)\n",
    "    speed_df['is_na'] = speed_df['next_lon'].notna()\n",
    "\n",
    "    speed_df['next_lat'] = speed_df['next_lat'].where(speed_df['next_lat'].notna(), speed_df['lat'])\n",
    "    speed_df['next_lon'] = speed_df['next_lon'].where(speed_df['next_lon'].notna(), speed_df['lon'])\n",
    "\n",
    "    distance = haversine( # distance_approximation( # \n",
    "        np.array(speed_df['lat']), np.array(speed_df['lon']),\n",
    "        np.array(speed_df['next_lat']), np.array(speed_df['next_lon'])\n",
    "    )\n",
    "\n",
    "    speed_df['distance'] = distance\n",
    "\n",
    "    return speed_df[['dateTime', 'deviceId', 'distance']] # 'lat', 'lon',\n",
    "\n",
    "def aggregate_speed(speed_df):\n",
    "    # After time is processed\n",
    "    speed_data = speed_df[['timeOfDay', 'deviceId', 'distance']].groupby(\n",
    "        ['timeOfDay', 'deviceId'])['distance'].sum()\n",
    "    \n",
    "    speed_data = speed_data.reset_index()\n",
    "    speed_df = speed_df.drop(columns = ['distance'])\n",
    "    speed_df = pd.merge(speed_df, speed_data, how='outer', on = ['timeOfDay', 'deviceId'])\n",
    "\n",
    "    speed_df_mean_distance = speed_df[['deviceId', 'distance']].groupby(\n",
    "        ['deviceId'])['distance'].mean().reset_index()\n",
    "    speed_df_mean_distance = speed_df_mean_distance.rename(columns = {'distance': 'mean_dist'})\n",
    "    speed_df = pd.merge(speed_df, speed_df_mean_distance, how = 'outer', on = 'deviceId')\n",
    "\n",
    "    speed_df['distance'] = speed_df['distance'].where(\n",
    "        speed_df['distance'] > 1, \n",
    "        speed_df['mean_dist']\n",
    "    )\n",
    "\n",
    "    speed_df = speed_df.drop(columns = ['mean_dist'])\n",
    "    \n",
    "    return speed_df\n",
    "\n",
    "def round_coordinates(df):\n",
    "    def round_val(val, min, off):\n",
    "        val1 = ((val - min) / off).astype(int)\n",
    "        val2 = (val1 * off) + min\n",
    "        return round(val2, latlongprecise)\n",
    "    df.lat = round_val(df.lat.astype(float), ll_min[1], ll_off[1])\n",
    "    df.lon = round_val(df.lon.astype(float), ll_min[2], ll_off[2])\n",
    "\n",
    "    return df\n",
    "\n",
    "def count_buses(df):\n",
    "    bus_count = df.groupby(['timeOfDay', 'lat', 'lon'])['deviceId'].nunique().reset_index()\n",
    "    bus_count = bus_count.rename(columns = {'deviceId' : 'bus_count'})\n",
    "    return bus_count\n",
    "\n",
    "def preprocess_data(date, data_dir = \"./data/\", hour = None):\n",
    "    file = date + \"_all.csv\"\n",
    "    print('Reading', file)\n",
    "    df = pd.read_csv(data_dir + file, index_col = 0, parse_dates = [\"dateTime\"])\n",
    "    df = df[(df.dateTime >= to_dt(date)) & (df.dateTime <= to_dt(date+ \" 18:00:00\"))].reset_index(drop = True)\n",
    "    df = filter_fields(df)\n",
    "    \n",
    "    speed_data = record_distance(df)\n",
    "\n",
    "    df = pd.merge(df, speed_data, how='outer', on = ['dateTime', 'deviceId'])\n",
    "\n",
    "    df = process_time(df)\n",
    "\n",
    "    df = aggregate_speed(df)\n",
    "\n",
    "    df = round_coordinates(df)\n",
    "\n",
    "    bus_count = count_buses(df)\n",
    "    # return bus_count\n",
    "\n",
    "    # meaning pm values\n",
    "    df = df.drop(columns = ['deviceId'])\n",
    "    # 'deviceId', \n",
    "    df = df.groupby(['date_value', 'timeOfDay', 'lat','lon']).mean().reset_index()\n",
    "    df = pd.merge(df, bus_count, how = 'outer', on = ['timeOfDay', 'lat', 'lon'])\n",
    "\n",
    "    # df = df.groupby(['dateTime','lat','long']).mean().reset_index()\n",
    "    \n",
    "    df.loc[:, pm] = df.loc[:, pm].round(2)\n",
    "    df.loc[:, pm2] = df.loc[:, pm2].round(2)\n",
    "\n",
    "    return df\n"
   ]
  },
  {
   "cell_type": "code",
   "execution_count": 7,
   "id": "0ace8dac",
   "metadata": {
    "execution": {
     "iopub.execute_input": "2025-03-09T23:23:03.032743Z",
     "iopub.status.busy": "2025-03-09T23:23:03.032350Z",
     "iopub.status.idle": "2025-03-09T23:23:05.258459Z",
     "shell.execute_reply": "2025-03-09T23:23:05.257340Z"
    },
    "papermill": {
     "duration": 2.234252,
     "end_time": "2025-03-09T23:23:05.260512",
     "exception": false,
     "start_time": "2025-03-09T23:23:03.026260",
     "status": "completed"
    },
    "tags": []
   },
   "outputs": [
    {
     "name": "stdout",
     "output_type": "stream",
     "text": [
      "Reading 2020-11-12_all.csv\n"
     ]
    }
   ],
   "source": [
    "df = preprocess_data('2020-11-12', data_dir = datadir, hour = None)"
   ]
  },
  {
   "cell_type": "code",
   "execution_count": 8,
   "id": "0b521bcf",
   "metadata": {
    "execution": {
     "iopub.execute_input": "2025-03-09T23:23:05.271236Z",
     "iopub.status.busy": "2025-03-09T23:23:05.270893Z",
     "iopub.status.idle": "2025-03-09T23:23:05.284875Z",
     "shell.execute_reply": "2025-03-09T23:23:05.283910Z"
    },
    "papermill": {
     "duration": 0.021191,
     "end_time": "2025-03-09T23:23:05.286547",
     "exception": false,
     "start_time": "2025-03-09T23:23:05.265356",
     "status": "completed"
    },
    "tags": []
   },
   "outputs": [
    {
     "data": {
      "text/html": [
       "<div>\n",
       "<style scoped>\n",
       "    .dataframe tbody tr th:only-of-type {\n",
       "        vertical-align: middle;\n",
       "    }\n",
       "\n",
       "    .dataframe tbody tr th {\n",
       "        vertical-align: top;\n",
       "    }\n",
       "\n",
       "    .dataframe thead th {\n",
       "        text-align: right;\n",
       "    }\n",
       "</style>\n",
       "<table border=\"1\" class=\"dataframe\">\n",
       "  <thead>\n",
       "    <tr style=\"text-align: right;\">\n",
       "      <th></th>\n",
       "      <th>date_value</th>\n",
       "      <th>timeOfDay</th>\n",
       "      <th>lat</th>\n",
       "      <th>lon</th>\n",
       "      <th>pm2_5</th>\n",
       "      <th>pm10</th>\n",
       "      <th>day_of_week</th>\n",
       "      <th>distance</th>\n",
       "      <th>bus_count</th>\n",
       "    </tr>\n",
       "  </thead>\n",
       "  <tbody>\n",
       "    <tr>\n",
       "      <th>0</th>\n",
       "      <td>2020-11-12</td>\n",
       "      <td>330</td>\n",
       "      <td>28.489</td>\n",
       "      <td>77.2938</td>\n",
       "      <td>165.02</td>\n",
       "      <td>177.14</td>\n",
       "      <td>3.0</td>\n",
       "      <td>6.505617</td>\n",
       "      <td>1</td>\n",
       "    </tr>\n",
       "    <tr>\n",
       "      <th>1</th>\n",
       "      <td>2020-11-12</td>\n",
       "      <td>330</td>\n",
       "      <td>28.525</td>\n",
       "      <td>77.2836</td>\n",
       "      <td>214.07</td>\n",
       "      <td>233.64</td>\n",
       "      <td>3.0</td>\n",
       "      <td>7.710880</td>\n",
       "      <td>1</td>\n",
       "    </tr>\n",
       "    <tr>\n",
       "      <th>2</th>\n",
       "      <td>2020-11-12</td>\n",
       "      <td>330</td>\n",
       "      <td>28.534</td>\n",
       "      <td>77.2836</td>\n",
       "      <td>219.00</td>\n",
       "      <td>243.00</td>\n",
       "      <td>3.0</td>\n",
       "      <td>7.710880</td>\n",
       "      <td>1</td>\n",
       "    </tr>\n",
       "    <tr>\n",
       "      <th>3</th>\n",
       "      <td>2020-11-12</td>\n",
       "      <td>330</td>\n",
       "      <td>28.543</td>\n",
       "      <td>77.2734</td>\n",
       "      <td>239.44</td>\n",
       "      <td>264.48</td>\n",
       "      <td>3.0</td>\n",
       "      <td>7.710880</td>\n",
       "      <td>1</td>\n",
       "    </tr>\n",
       "    <tr>\n",
       "      <th>4</th>\n",
       "      <td>2020-11-12</td>\n",
       "      <td>330</td>\n",
       "      <td>28.552</td>\n",
       "      <td>77.2530</td>\n",
       "      <td>212.07</td>\n",
       "      <td>228.00</td>\n",
       "      <td>3.0</td>\n",
       "      <td>7.890497</td>\n",
       "      <td>1</td>\n",
       "    </tr>\n",
       "  </tbody>\n",
       "</table>\n",
       "</div>"
      ],
      "text/plain": [
       "   date_value  timeOfDay     lat      lon   pm2_5    pm10  day_of_week  \\\n",
       "0  2020-11-12        330  28.489  77.2938  165.02  177.14          3.0   \n",
       "1  2020-11-12        330  28.525  77.2836  214.07  233.64          3.0   \n",
       "2  2020-11-12        330  28.534  77.2836  219.00  243.00          3.0   \n",
       "3  2020-11-12        330  28.543  77.2734  239.44  264.48          3.0   \n",
       "4  2020-11-12        330  28.552  77.2530  212.07  228.00          3.0   \n",
       "\n",
       "   distance  bus_count  \n",
       "0  6.505617          1  \n",
       "1  7.710880          1  \n",
       "2  7.710880          1  \n",
       "3  7.710880          1  \n",
       "4  7.890497          1  "
      ]
     },
     "execution_count": 8,
     "metadata": {},
     "output_type": "execute_result"
    }
   ],
   "source": [
    "df.head(5)"
   ]
  },
  {
   "cell_type": "code",
   "execution_count": 9,
   "id": "3a665491",
   "metadata": {
    "execution": {
     "iopub.execute_input": "2025-03-09T23:23:05.298225Z",
     "iopub.status.busy": "2025-03-09T23:23:05.297762Z",
     "iopub.status.idle": "2025-03-09T23:23:05.303624Z",
     "shell.execute_reply": "2025-03-09T23:23:05.302711Z"
    },
    "papermill": {
     "duration": 0.013271,
     "end_time": "2025-03-09T23:23:05.305226",
     "exception": false,
     "start_time": "2025-03-09T23:23:05.291955",
     "status": "completed"
    },
    "tags": []
   },
   "outputs": [],
   "source": [
    "def get_tabular_dataset(datadir = None):\n",
    "    if datadir is None:\n",
    "        datadir = DATA_FOLDER\n",
    "    files = files = [f.name for f in os.scandir(datadir) if f.is_file()]\n",
    "\n",
    "    df = None\n",
    "    for f in files:\n",
    "        date_val = f[:10]\n",
    "        # print(f\"Reading {f}\")\n",
    "        if df is None:\n",
    "            df = preprocess_data(date_val, data_dir = datadir, hour = None)\n",
    "        else:\n",
    "            df1 = preprocess_data(date_val, data_dir = datadir, hour = None)\n",
    "            df = pd.concat([df, df1])\n",
    "    return df.reset_index()   "
   ]
  },
  {
   "cell_type": "code",
   "execution_count": 10,
   "id": "ffee6187",
   "metadata": {
    "execution": {
     "iopub.execute_input": "2025-03-09T23:23:05.316183Z",
     "iopub.status.busy": "2025-03-09T23:23:05.315770Z",
     "iopub.status.idle": "2025-03-09T23:27:33.775188Z",
     "shell.execute_reply": "2025-03-09T23:27:33.773752Z"
    },
    "papermill": {
     "duration": 268.467209,
     "end_time": "2025-03-09T23:27:33.777293",
     "exception": false,
     "start_time": "2025-03-09T23:23:05.310084",
     "status": "completed"
    },
    "tags": []
   },
   "outputs": [
    {
     "name": "stdout",
     "output_type": "stream",
     "text": [
      "Reading 2020-12-09_all.csv\n",
      "Reading 2020-11-26_all.csv\n",
      "Reading 2021-01-29_all.csv\n",
      "Reading 2020-12-26_all.csv\n",
      "Reading 2020-12-25_all.csv\n",
      "Reading 2020-12-05_all.csv\n",
      "Reading 2020-12-27_all.csv\n",
      "Reading 2020-11-07_all.csv\n",
      "Reading 2020-12-21_all.csv\n",
      "Reading 2020-12-16_all.csv\n",
      "Reading 2021-01-15_all.csv\n",
      "Reading 2020-12-06_all.csv\n",
      "Reading 2020-12-13_all.csv\n",
      "Reading 2021-01-04_all.csv\n",
      "Reading 2020-11-22_all.csv\n",
      "Reading 2020-11-09_all.csv\n",
      "Reading 2021-01-23_all.csv\n",
      "Reading 2020-11-03_all.csv\n",
      "Reading 2020-11-28_all.csv\n",
      "Reading 2020-11-27_all.csv\n",
      "Reading 2021-01-20_all.csv\n",
      "Reading 2020-12-11_all.csv\n",
      "Reading 2020-12-31_all.csv\n",
      "Reading 2020-12-17_all.csv\n",
      "Reading 2020-12-08_all.csv\n",
      "Reading 2020-11-23_all.csv\n",
      "Reading 2021-01-21_all.csv\n",
      "Reading 2021-01-17_all.csv\n",
      "Reading 2020-12-02_all.csv\n",
      "Reading 2020-11-10_all.csv\n",
      "Reading 2020-11-19_all.csv\n",
      "Reading 2021-01-26_all.csv\n",
      "Reading 2021-01-14_all.csv\n",
      "Reading 2020-11-21_all.csv\n",
      "Reading 2021-01-08_all.csv\n",
      "Reading 2020-11-15_all.csv\n",
      "Reading 2020-11-06_all.csv\n",
      "Reading 2021-01-06_all.csv\n",
      "Reading 2020-11-08_all.csv\n",
      "Reading 2020-11-12_all.csv\n",
      "Reading 2020-11-18_all.csv\n",
      "Reading 2020-11-01_all.csv\n",
      "Reading 2020-11-30_all.csv\n",
      "Reading 2020-12-14_all.csv\n",
      "Reading 2021-01-11_all.csv\n",
      "Reading 2020-11-13_all.csv\n",
      "Reading 2021-01-18_all.csv\n",
      "Reading 2020-11-29_all.csv\n",
      "Reading 2021-01-07_all.csv\n",
      "Reading 2020-12-28_all.csv\n",
      "Reading 2020-12-04_all.csv\n",
      "Reading 2020-12-12_all.csv\n",
      "Reading 2020-12-18_all.csv\n",
      "Reading 2021-01-13_all.csv\n",
      "Reading 2021-01-12_all.csv\n",
      "Reading 2020-11-20_all.csv\n",
      "Reading 2020-11-24_all.csv\n",
      "Reading 2020-12-01_all.csv\n",
      "Reading 2021-01-02_all.csv\n",
      "Reading 2021-01-30_all.csv\n",
      "Reading 2020-11-14_all.csv\n",
      "Reading 2021-01-03_all.csv\n",
      "Reading 2020-11-11_all.csv\n",
      "Reading 2021-01-01_all.csv\n",
      "Reading 2020-11-16_all.csv\n",
      "Reading 2020-12-22_all.csv\n",
      "Reading 2021-01-25_all.csv\n",
      "Reading 2020-11-25_all.csv\n",
      "Reading 2020-12-24_all.csv\n",
      "Reading 2021-01-05_all.csv\n",
      "Reading 2020-11-04_all.csv\n",
      "Reading 2021-01-27_all.csv\n",
      "Reading 2021-01-24_all.csv\n",
      "Reading 2020-11-02_all.csv\n",
      "Reading 2020-12-23_all.csv\n",
      "Reading 2021-01-22_all.csv\n",
      "Reading 2020-11-17_all.csv\n",
      "Reading 2020-12-07_all.csv\n",
      "Reading 2021-01-16_all.csv\n",
      "Reading 2020-12-30_all.csv\n",
      "Reading 2021-01-09_all.csv\n",
      "Reading 2021-01-19_all.csv\n",
      "Reading 2020-11-05_all.csv\n",
      "Reading 2020-12-15_all.csv\n",
      "Reading 2021-01-10_all.csv\n",
      "Reading 2020-12-03_all.csv\n",
      "Reading 2020-12-20_all.csv\n",
      "Reading 2021-01-28_all.csv\n",
      "Reading 2020-12-29_all.csv\n",
      "Reading 2020-12-10_all.csv\n",
      "Reading 2020-12-19_all.csv\n"
     ]
    }
   ],
   "source": [
    "df = get_tabular_dataset()"
   ]
  },
  {
   "cell_type": "code",
   "execution_count": 11,
   "id": "63e7ffdf",
   "metadata": {
    "execution": {
     "iopub.execute_input": "2025-03-09T23:27:33.797589Z",
     "iopub.status.busy": "2025-03-09T23:27:33.797147Z",
     "iopub.status.idle": "2025-03-09T23:27:33.823553Z",
     "shell.execute_reply": "2025-03-09T23:27:33.822311Z"
    },
    "papermill": {
     "duration": 0.038607,
     "end_time": "2025-03-09T23:27:33.825423",
     "exception": false,
     "start_time": "2025-03-09T23:27:33.786816",
     "status": "completed"
    },
    "tags": []
   },
   "outputs": [],
   "source": [
    "df = df.sort_values(by = ['date_value', 'timeOfDay', 'lat', 'lon'])"
   ]
  },
  {
   "cell_type": "code",
   "execution_count": 12,
   "id": "1a196598",
   "metadata": {
    "execution": {
     "iopub.execute_input": "2025-03-09T23:27:33.845866Z",
     "iopub.status.busy": "2025-03-09T23:27:33.845478Z",
     "iopub.status.idle": "2025-03-09T23:27:33.851076Z",
     "shell.execute_reply": "2025-03-09T23:27:33.850172Z"
    },
    "papermill": {
     "duration": 0.017595,
     "end_time": "2025-03-09T23:27:33.852722",
     "exception": false,
     "start_time": "2025-03-09T23:27:33.835127",
     "status": "completed"
    },
    "tags": []
   },
   "outputs": [
    {
     "data": {
      "text/plain": [
       "(123165, 10)"
      ]
     },
     "execution_count": 12,
     "metadata": {},
     "output_type": "execute_result"
    }
   ],
   "source": [
    "df.shape"
   ]
  },
  {
   "cell_type": "code",
   "execution_count": 13,
   "id": "ec5350f9",
   "metadata": {
    "execution": {
     "iopub.execute_input": "2025-03-09T23:27:33.873459Z",
     "iopub.status.busy": "2025-03-09T23:27:33.873129Z",
     "iopub.status.idle": "2025-03-09T23:27:33.882140Z",
     "shell.execute_reply": "2025-03-09T23:27:33.880899Z"
    },
    "papermill": {
     "duration": 0.021862,
     "end_time": "2025-03-09T23:27:33.884076",
     "exception": false,
     "start_time": "2025-03-09T23:27:33.862214",
     "status": "completed"
    },
    "tags": []
   },
   "outputs": [],
   "source": [
    "try:\n",
    "    df = df.drop(columns = ['index'])\n",
    "except:\n",
    "    pass"
   ]
  },
  {
   "cell_type": "code",
   "execution_count": 14,
   "id": "bb3d1b3c",
   "metadata": {
    "execution": {
     "iopub.execute_input": "2025-03-09T23:27:33.904191Z",
     "iopub.status.busy": "2025-03-09T23:27:33.903815Z",
     "iopub.status.idle": "2025-03-09T23:27:33.920771Z",
     "shell.execute_reply": "2025-03-09T23:27:33.919456Z"
    },
    "papermill": {
     "duration": 0.02881,
     "end_time": "2025-03-09T23:27:33.922538",
     "exception": false,
     "start_time": "2025-03-09T23:27:33.893728",
     "status": "completed"
    },
    "tags": []
   },
   "outputs": [
    {
     "data": {
      "text/html": [
       "<div>\n",
       "<style scoped>\n",
       "    .dataframe tbody tr th:only-of-type {\n",
       "        vertical-align: middle;\n",
       "    }\n",
       "\n",
       "    .dataframe tbody tr th {\n",
       "        vertical-align: top;\n",
       "    }\n",
       "\n",
       "    .dataframe thead th {\n",
       "        text-align: right;\n",
       "    }\n",
       "</style>\n",
       "<table border=\"1\" class=\"dataframe\">\n",
       "  <thead>\n",
       "    <tr style=\"text-align: right;\">\n",
       "      <th></th>\n",
       "      <th>date_value</th>\n",
       "      <th>timeOfDay</th>\n",
       "      <th>lat</th>\n",
       "      <th>lon</th>\n",
       "      <th>pm2_5</th>\n",
       "      <th>pm10</th>\n",
       "      <th>day_of_week</th>\n",
       "      <th>distance</th>\n",
       "      <th>bus_count</th>\n",
       "    </tr>\n",
       "  </thead>\n",
       "  <tbody>\n",
       "    <tr>\n",
       "      <th>0</th>\n",
       "      <td>2020-11-01</td>\n",
       "      <td>330</td>\n",
       "      <td>28.543</td>\n",
       "      <td>77.2734</td>\n",
       "      <td>481.37</td>\n",
       "      <td>522.53</td>\n",
       "      <td>6.0</td>\n",
       "      <td>7.76689</td>\n",
       "      <td>1</td>\n",
       "    </tr>\n",
       "    <tr>\n",
       "      <th>1</th>\n",
       "      <td>2020-11-01</td>\n",
       "      <td>330</td>\n",
       "      <td>28.552</td>\n",
       "      <td>77.2632</td>\n",
       "      <td>471.18</td>\n",
       "      <td>513.50</td>\n",
       "      <td>6.0</td>\n",
       "      <td>7.76689</td>\n",
       "      <td>1</td>\n",
       "    </tr>\n",
       "    <tr>\n",
       "      <th>2</th>\n",
       "      <td>2020-11-01</td>\n",
       "      <td>330</td>\n",
       "      <td>28.561</td>\n",
       "      <td>77.2530</td>\n",
       "      <td>462.44</td>\n",
       "      <td>503.81</td>\n",
       "      <td>6.0</td>\n",
       "      <td>7.76689</td>\n",
       "      <td>1</td>\n",
       "    </tr>\n",
       "    <tr>\n",
       "      <th>3</th>\n",
       "      <td>2020-11-01</td>\n",
       "      <td>330</td>\n",
       "      <td>28.561</td>\n",
       "      <td>77.2632</td>\n",
       "      <td>468.14</td>\n",
       "      <td>507.55</td>\n",
       "      <td>6.0</td>\n",
       "      <td>7.76689</td>\n",
       "      <td>1</td>\n",
       "    </tr>\n",
       "    <tr>\n",
       "      <th>4</th>\n",
       "      <td>2020-11-01</td>\n",
       "      <td>330</td>\n",
       "      <td>28.570</td>\n",
       "      <td>77.2530</td>\n",
       "      <td>462.68</td>\n",
       "      <td>505.21</td>\n",
       "      <td>6.0</td>\n",
       "      <td>7.76689</td>\n",
       "      <td>1</td>\n",
       "    </tr>\n",
       "  </tbody>\n",
       "</table>\n",
       "</div>"
      ],
      "text/plain": [
       "   date_value  timeOfDay     lat      lon   pm2_5    pm10  day_of_week  \\\n",
       "0  2020-11-01        330  28.543  77.2734  481.37  522.53          6.0   \n",
       "1  2020-11-01        330  28.552  77.2632  471.18  513.50          6.0   \n",
       "2  2020-11-01        330  28.561  77.2530  462.44  503.81          6.0   \n",
       "3  2020-11-01        330  28.561  77.2632  468.14  507.55          6.0   \n",
       "4  2020-11-01        330  28.570  77.2530  462.68  505.21          6.0   \n",
       "\n",
       "   distance  bus_count  \n",
       "0   7.76689          1  \n",
       "1   7.76689          1  \n",
       "2   7.76689          1  \n",
       "3   7.76689          1  \n",
       "4   7.76689          1  "
      ]
     },
     "execution_count": 14,
     "metadata": {},
     "output_type": "execute_result"
    }
   ],
   "source": [
    "df = df.reset_index(drop=True)\n",
    "df.head()"
   ]
  },
  {
   "cell_type": "code",
   "execution_count": 15,
   "id": "6b8e8ff1",
   "metadata": {
    "execution": {
     "iopub.execute_input": "2025-03-09T23:27:33.943026Z",
     "iopub.status.busy": "2025-03-09T23:27:33.942606Z",
     "iopub.status.idle": "2025-03-09T23:27:34.852539Z",
     "shell.execute_reply": "2025-03-09T23:27:34.851453Z"
    },
    "papermill": {
     "duration": 0.922497,
     "end_time": "2025-03-09T23:27:34.854775",
     "exception": false,
     "start_time": "2025-03-09T23:27:33.932278",
     "status": "completed"
    },
    "tags": []
   },
   "outputs": [],
   "source": [
    "df.to_csv('tabular_data.csv')"
   ]
  },
  {
   "cell_type": "code",
   "execution_count": null,
   "id": "8acb9d0e",
   "metadata": {
    "papermill": {
     "duration": 0.009388,
     "end_time": "2025-03-09T23:27:34.874078",
     "exception": false,
     "start_time": "2025-03-09T23:27:34.864690",
     "status": "completed"
    },
    "tags": []
   },
   "outputs": [],
   "source": []
  }
 ],
 "metadata": {
  "kaggle": {
   "accelerator": "none",
   "dataSources": [
    {
     "datasetId": 6749422,
     "sourceId": 10864383,
     "sourceType": "datasetVersion"
    }
   ],
   "dockerImageVersionId": 30918,
   "isGpuEnabled": false,
   "isInternetEnabled": true,
   "language": "python",
   "sourceType": "notebook"
  },
  "kernelspec": {
   "display_name": "Python 3",
   "language": "python",
   "name": "python3"
  },
  "language_info": {
   "codemirror_mode": {
    "name": "ipython",
    "version": 3
   },
   "file_extension": ".py",
   "mimetype": "text/x-python",
   "name": "python",
   "nbconvert_exporter": "python",
   "pygments_lexer": "ipython3",
   "version": "3.10.12"
  },
  "papermill": {
   "default_parameters": {},
   "duration": 285.691173,
   "end_time": "2025-03-09T23:27:36.710891",
   "environment_variables": {},
   "exception": null,
   "input_path": "__notebook__.ipynb",
   "output_path": "__notebook__.ipynb",
   "parameters": {},
   "start_time": "2025-03-09T23:22:51.019718",
   "version": "2.6.0"
  }
 },
 "nbformat": 4,
 "nbformat_minor": 5
}
