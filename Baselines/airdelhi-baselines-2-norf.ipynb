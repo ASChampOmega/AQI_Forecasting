{
 "cells": [
  {
   "cell_type": "code",
   "execution_count": 1,
   "id": "8b76a0d2",
   "metadata": {
    "_cell_guid": "b1076dfc-b9ad-4769-8c92-a6c4dae69d19",
    "_uuid": "8f2839f25d086af736a60e9eeb907d3b93b6e0e5",
    "execution": {
     "iopub.execute_input": "2025-03-17T16:48:21.360218Z",
     "iopub.status.busy": "2025-03-17T16:48:21.359820Z",
     "iopub.status.idle": "2025-03-17T16:48:28.101384Z",
     "shell.execute_reply": "2025-03-17T16:48:28.100373Z"
    },
    "papermill": {
     "duration": 6.756171,
     "end_time": "2025-03-17T16:48:28.103640",
     "exception": false,
     "start_time": "2025-03-17T16:48:21.347469",
     "status": "completed"
    },
    "tags": []
   },
   "outputs": [],
   "source": [
    "import numpy as np # linear algebrae\n",
    "import pandas as pd # data processing, CSV file I/O (e.g. pd.read_csv)\n",
    "from xgboost import XGBRegressor\n",
    "from lightgbm import LGBMRegressor\n",
    "from catboost import CatBoostRegressor\n",
    "from sklearn.ensemble import RandomForestRegressor\n",
    "from sklearn.linear_model import Ridge, LinearRegression\n",
    "\n",
    "import os\n",
    "\n",
    "# from polire import IDW\n",
    "\n",
    "from sklearn.metrics import mean_squared_error, r2_score, mean_absolute_error\n",
    "from sklearn.preprocessing import MinMaxScaler\n",
    "\n",
    "from datetime import date, timedelta\n",
    "import datetime\n",
    "\n",
    "import json\n",
    "import pickle as pkl\n",
    "import itertools"
   ]
  },
  {
   "cell_type": "markdown",
   "id": "3f4b8a63",
   "metadata": {
    "papermill": {
     "duration": 0.009664,
     "end_time": "2025-03-17T16:48:28.128876",
     "exception": false,
     "start_time": "2025-03-17T16:48:28.119212",
     "status": "completed"
    },
    "tags": []
   },
   "source": [
    "Config"
   ]
  },
  {
   "cell_type": "code",
   "execution_count": 2,
   "id": "68b5121c",
   "metadata": {
    "execution": {
     "iopub.execute_input": "2025-03-17T16:48:28.150271Z",
     "iopub.status.busy": "2025-03-17T16:48:28.149581Z",
     "iopub.status.idle": "2025-03-17T16:48:28.154494Z",
     "shell.execute_reply": "2025-03-17T16:48:28.153387Z"
    },
    "papermill": {
     "duration": 0.017382,
     "end_time": "2025-03-17T16:48:28.156257",
     "exception": false,
     "start_time": "2025-03-17T16:48:28.138875",
     "status": "completed"
    },
    "tags": []
   },
   "outputs": [],
   "source": [
    "class CFG:\n",
    "    evaluation_time_gap = 1\n",
    "    convert_numpy = False\n",
    "    target_list = ['pm2_5', 'pm10']\n",
    "    features = None"
   ]
  },
  {
   "cell_type": "markdown",
   "id": "a9371f4e",
   "metadata": {
    "papermill": {
     "duration": 0.009578,
     "end_time": "2025-03-17T16:48:28.175990",
     "exception": false,
     "start_time": "2025-03-17T16:48:28.166412",
     "status": "completed"
    },
    "tags": []
   },
   "source": [
    "## Basic Loading"
   ]
  },
  {
   "cell_type": "code",
   "execution_count": 3,
   "id": "fec15fdf",
   "metadata": {
    "execution": {
     "iopub.execute_input": "2025-03-17T16:48:28.197965Z",
     "iopub.status.busy": "2025-03-17T16:48:28.197568Z",
     "iopub.status.idle": "2025-03-17T16:48:28.586141Z",
     "shell.execute_reply": "2025-03-17T16:48:28.584953Z"
    },
    "papermill": {
     "duration": 0.401884,
     "end_time": "2025-03-17T16:48:28.588253",
     "exception": false,
     "start_time": "2025-03-17T16:48:28.186369",
     "status": "completed"
    },
    "tags": []
   },
   "outputs": [
    {
     "data": {
      "text/plain": [
       "(Timestamp('2021-01-07 00:00:00'), Timestamp('2020-11-01 00:00:00'))"
      ]
     },
     "execution_count": 3,
     "metadata": {},
     "output_type": "execute_result"
    }
   ],
   "source": [
    "df = pd.read_csv('/kaggle/input/airdelhi-tabularengineering/tabular_data.csv')\n",
    "\n",
    "df = df.drop(columns = 'Unnamed: 0')\n",
    "df['date_value'] = pd.to_datetime(df['date_value'])\n",
    "\n",
    "dates = pd.to_datetime([df['date_value'].min(), df['date_value'].max()])\n",
    "\n",
    "max_train_date = dates.min() + (dates.max() - dates.min()) * 0.75\n",
    "max_train_date = max_train_date.floor(\"D\")\n",
    "min_train_date = df['date_value'].min()\n",
    "max_date = df['date_value'].max().floor(\"D\")\n",
    "\n",
    "metrics_dict = {\n",
    "    'MSE': mean_squared_error, \n",
    "    'r2 score': r2_score, \n",
    "    'MAE': mean_absolute_error,\n",
    "}\n",
    "\n",
    "target_list = CFG.target_list\n",
    "\n",
    "features = ['date_value', 'timeOfDay', 'lat', 'lon', 'day_of_week', 'distance', 'bus_count']\n",
    "\n",
    "CFG.base_features = ['timeOfDay', 'lat', 'lon', 'day_of_week', 'distance', 'bus_count']\n",
    "CFG.features = CFG.base_features\n",
    "\n",
    "max_train_date, min_train_date"
   ]
  },
  {
   "cell_type": "code",
   "execution_count": 4,
   "id": "4e537110",
   "metadata": {
    "execution": {
     "iopub.execute_input": "2025-03-17T16:48:28.617020Z",
     "iopub.status.busy": "2025-03-17T16:48:28.616510Z",
     "iopub.status.idle": "2025-03-17T16:48:28.657912Z",
     "shell.execute_reply": "2025-03-17T16:48:28.656834Z"
    },
    "papermill": {
     "duration": 0.055421,
     "end_time": "2025-03-17T16:48:28.660154",
     "exception": false,
     "start_time": "2025-03-17T16:48:28.604733",
     "status": "completed"
    },
    "tags": []
   },
   "outputs": [],
   "source": [
    "scaler = MinMaxScaler()\n",
    "df[['timeOfDay', 'lat', 'lon', 'day_of_week', 'distance', 'bus_count']] = scaler.fit_transform(\n",
    "    df[['timeOfDay', 'lat', 'lon', 'day_of_week', 'distance', 'bus_count']]\n",
    ")\n"
   ]
  },
  {
   "cell_type": "markdown",
   "id": "b48e2332",
   "metadata": {
    "papermill": {
     "duration": 0.011008,
     "end_time": "2025-03-17T16:48:28.690247",
     "exception": false,
     "start_time": "2025-03-17T16:48:28.679239",
     "status": "completed"
    },
    "tags": []
   },
   "source": [
    "## Basic Helper Functions"
   ]
  },
  {
   "cell_type": "code",
   "execution_count": 5,
   "id": "509a023c",
   "metadata": {
    "execution": {
     "iopub.execute_input": "2025-03-17T16:48:28.713026Z",
     "iopub.status.busy": "2025-03-17T16:48:28.712536Z",
     "iopub.status.idle": "2025-03-17T16:48:28.718060Z",
     "shell.execute_reply": "2025-03-17T16:48:28.716923Z"
    },
    "papermill": {
     "duration": 0.01834,
     "end_time": "2025-03-17T16:48:28.719803",
     "exception": false,
     "start_time": "2025-03-17T16:48:28.701463",
     "status": "completed"
    },
    "tags": []
   },
   "outputs": [],
   "source": [
    "def clean_df(df, features=None):\n",
    "    if features is None:\n",
    "        return df[CFG.features]\n",
    "    else:\n",
    "        return df[features]"
   ]
  },
  {
   "cell_type": "markdown",
   "id": "ddce3f00",
   "metadata": {
    "papermill": {
     "duration": 0.009851,
     "end_time": "2025-03-17T16:48:28.740375",
     "exception": false,
     "start_time": "2025-03-17T16:48:28.730524",
     "status": "completed"
    },
    "tags": []
   },
   "source": [
    "## Get Model Splits"
   ]
  },
  {
   "cell_type": "code",
   "execution_count": 6,
   "id": "7b77b86f",
   "metadata": {
    "execution": {
     "iopub.execute_input": "2025-03-17T16:48:28.762630Z",
     "iopub.status.busy": "2025-03-17T16:48:28.762120Z",
     "iopub.status.idle": "2025-03-17T16:48:28.774323Z",
     "shell.execute_reply": "2025-03-17T16:48:28.773263Z"
    },
    "papermill": {
     "duration": 0.025711,
     "end_time": "2025-03-17T16:48:28.776148",
     "exception": false,
     "start_time": "2025-03-17T16:48:28.750437",
     "status": "completed"
    },
    "tags": []
   },
   "outputs": [],
   "source": [
    "class DataSplitter:\n",
    "\n",
    "    def __init__(\n",
    "        self, \n",
    "        dataset, \n",
    "        min_date, \n",
    "        max_date, \n",
    "        max_lookback=None,\n",
    "        min_lookback=None,\n",
    "    ):\n",
    "        # self.X = dataset[CFG.features if features is None else features]\n",
    "        \n",
    "        # self.target = target\n",
    "        # self.y = dataset[target]\n",
    "        \n",
    "        self.df = dataset\n",
    "        \n",
    "        self.min_train_date = min_date\n",
    "        self.max_train_date = max_date\n",
    "        self.df_max_date = self.df['date_value'].max()\n",
    "\n",
    "        self.max_lookback = max_lookback\n",
    "        self.min_lookback = min_lookback\n",
    "    \n",
    "    def get_train_test_split(self):\n",
    "        df = self.df.copy()\n",
    "        df = df[df['date_value'] >= self.min_train_date]\n",
    "        d = self.max_train_date + timedelta(days = 1)\n",
    "\n",
    "        splits = {}\n",
    "        \n",
    "        while d < self.df_max_date:\n",
    "            train_temp = df[df['date_value'] <= d]\n",
    "            if self.max_lookback is not None:\n",
    "                train_temp = train_temp[train_temp['date_value'] > d - timedelta(\n",
    "                    days = self.max_lookback)]\n",
    "\n",
    "            if self.min_lookback is not None:\n",
    "                train_temp1 = train_temp[train_temp['date_value'] <= d - timedelta(\n",
    "                    days = self.min_lookback)]\n",
    "                if len(train_temp1) > 200:\n",
    "                    train_temp = train_temp1\n",
    "            \n",
    "            train_indices = train_temp.index\n",
    "            test_indices = df[df['date_value'] == d + timedelta(days=1)].index\n",
    "\n",
    "            splits[d] = {\n",
    "                'train': train_indices,\n",
    "                'test' : test_indices\n",
    "            }\n",
    "            \n",
    "            d = d + timedelta(days = CFG.evaluation_time_gap)\n",
    "\n",
    "        return splits"
   ]
  },
  {
   "cell_type": "code",
   "execution_count": 7,
   "id": "2934d94c",
   "metadata": {
    "execution": {
     "iopub.execute_input": "2025-03-17T16:48:28.797739Z",
     "iopub.status.busy": "2025-03-17T16:48:28.797212Z",
     "iopub.status.idle": "2025-03-17T16:48:28.971877Z",
     "shell.execute_reply": "2025-03-17T16:48:28.970516Z"
    },
    "papermill": {
     "duration": 0.187665,
     "end_time": "2025-03-17T16:48:28.973849",
     "exception": false,
     "start_time": "2025-03-17T16:48:28.786184",
     "status": "completed"
    },
    "tags": []
   },
   "outputs": [
    {
     "name": "stdout",
     "output_type": "stream",
     "text": [
      "2021-01-08 00:00:00 2021-01-08 00:00:00\n",
      "2021-01-08 00:00:00 [Timestamp('2021-01-09 00:00:00')]\n"
     ]
    }
   ],
   "source": [
    "data_splitter = DataSplitter(df, min_train_date, max_train_date)\n",
    "data_indices = data_splitter.get_train_test_split()\n",
    "\n",
    "# Testing:\n",
    "test_date = list(data_indices.keys())[0]\n",
    "train_indices, test_indices = list(data_indices[test_date].values())\n",
    "# test_date, list(data_indices.keys())\n",
    "train_df_1 = df.iloc[train_indices]\n",
    "print(test_date, sorted(train_df_1.date_value.unique())[-1])\n",
    "\n",
    "test_df_1 = df.iloc[test_indices]\n",
    "print(test_date, sorted(test_df_1.date_value.unique()))"
   ]
  },
  {
   "cell_type": "code",
   "execution_count": 8,
   "id": "2f19d87c",
   "metadata": {
    "execution": {
     "iopub.execute_input": "2025-03-17T16:48:28.995414Z",
     "iopub.status.busy": "2025-03-17T16:48:28.995046Z",
     "iopub.status.idle": "2025-03-17T16:48:29.149743Z",
     "shell.execute_reply": "2025-03-17T16:48:29.148485Z"
    },
    "papermill": {
     "duration": 0.167401,
     "end_time": "2025-03-17T16:48:29.151483",
     "exception": false,
     "start_time": "2025-03-17T16:48:28.984082",
     "status": "completed"
    },
    "tags": []
   },
   "outputs": [
    {
     "name": "stdout",
     "output_type": "stream",
     "text": [
      "2021-01-08 00:00:00 [Timestamp('2021-01-06 00:00:00'), Timestamp('2021-01-07 00:00:00'), Timestamp('2021-01-08 00:00:00')]\n",
      "2021-01-08 00:00:00 [Timestamp('2021-01-09 00:00:00')]\n"
     ]
    }
   ],
   "source": [
    "data_splitter = DataSplitter(df, min_train_date, max_train_date, max_lookback=3)\n",
    "data_indices = data_splitter.get_train_test_split()\n",
    "\n",
    "# Testing:\n",
    "test_date = list(data_indices.keys())[0]\n",
    "train_indices, test_indices = list(data_indices[test_date].values())\n",
    "# test_date, list(data_indices.keys())\n",
    "train_df_1 = df.iloc[train_indices]\n",
    "print(test_date, sorted(train_df_1.date_value.unique()))\n",
    "\n",
    "test_df_1 = df.iloc[test_indices]\n",
    "print(test_date, sorted(test_df_1.date_value.unique()))"
   ]
  },
  {
   "cell_type": "code",
   "execution_count": 9,
   "id": "83d407c6",
   "metadata": {
    "execution": {
     "iopub.execute_input": "2025-03-17T16:48:29.173265Z",
     "iopub.status.busy": "2025-03-17T16:48:29.172642Z",
     "iopub.status.idle": "2025-03-17T16:48:29.550951Z",
     "shell.execute_reply": "2025-03-17T16:48:29.549601Z"
    },
    "papermill": {
     "duration": 0.391065,
     "end_time": "2025-03-17T16:48:29.552767",
     "exception": false,
     "start_time": "2025-03-17T16:48:29.161702",
     "status": "completed"
    },
    "tags": []
   },
   "outputs": [
    {
     "name": "stdout",
     "output_type": "stream",
     "text": [
      "2020-11-02 00:00:00 [Timestamp('2020-11-01 00:00:00'), Timestamp('2020-11-02 00:00:00')]\n",
      "2020-11-02 00:00:00 [Timestamp('2020-11-03 00:00:00')]\n",
      "2020-11-01 00:00:00 2020-11-01 00:00:00\n"
     ]
    }
   ],
   "source": [
    "data_splitter = DataSplitter(df, min_train_date, min_train_date, max_lookback=2)\n",
    "data_indices = data_splitter.get_train_test_split()\n",
    "\n",
    "# Testing:\n",
    "test_date = list(data_indices.keys())[0]\n",
    "train_indices, test_indices = list(data_indices[test_date].values())\n",
    "# test_date, list(data_indices.keys())\n",
    "train_df_1 = df.iloc[train_indices]\n",
    "print(test_date, sorted(train_df_1.date_value.unique()))\n",
    "\n",
    "test_df_1 = df.iloc[test_indices]\n",
    "print(test_date, sorted(test_df_1.date_value.unique()))\n",
    "\n",
    "print(min_train_date, df.date_value.min())"
   ]
  },
  {
   "cell_type": "markdown",
   "id": "3ee03f7a",
   "metadata": {
    "papermill": {
     "duration": 0.00965,
     "end_time": "2025-03-17T16:48:29.572444",
     "exception": false,
     "start_time": "2025-03-17T16:48:29.562794",
     "status": "completed"
    },
    "tags": []
   },
   "source": [
    "## Model Holder"
   ]
  },
  {
   "cell_type": "code",
   "execution_count": 10,
   "id": "9337d57b",
   "metadata": {
    "execution": {
     "iopub.execute_input": "2025-03-17T16:48:29.593730Z",
     "iopub.status.busy": "2025-03-17T16:48:29.593373Z",
     "iopub.status.idle": "2025-03-17T16:48:29.602343Z",
     "shell.execute_reply": "2025-03-17T16:48:29.601451Z"
    },
    "papermill": {
     "duration": 0.021519,
     "end_time": "2025-03-17T16:48:29.604001",
     "exception": false,
     "start_time": "2025-03-17T16:48:29.582482",
     "status": "completed"
    },
    "tags": []
   },
   "outputs": [],
   "source": [
    "class Model:\n",
    "\n",
    "    def __init__(\n",
    "        self,\n",
    "        model_class,\n",
    "        params=None,\n",
    "        target=\"pm2_5\",\n",
    "        features=None,\n",
    "    ):\n",
    "        self.model_class = model_class\n",
    "        \n",
    "        if params is None:\n",
    "            self.params = {}\n",
    "        else:\n",
    "            self.params = params\n",
    "\n",
    "        self.max_train_date = None\n",
    "        self.target = target\n",
    "        if features is None:\n",
    "            features = CFG.features\n",
    "\n",
    "        self.features = features\n",
    "\n",
    "    def fit(self, X, y):\n",
    "        model = self.model_class(**self.params)\n",
    "        # print(X.columns, CFG.features)\n",
    "        model.fit(X, y)\n",
    "        return model\n",
    "\n",
    "    def predict(self, X):\n",
    "        model = self.split_models[self.max_train_date]\n",
    "        return model.predict(X)\n",
    "\n",
    "    def get_df_from_split(self, df, split, split_type='train'):\n",
    "        X = df.iloc[split[split_type]].copy()\n",
    "        y = np.array(X[self.target])\n",
    "        X = clean_df(X, features=self.features)\n",
    "        return X, y\n",
    "\n",
    "    def fit_on_splits(self, df, splits):\n",
    "        self.split_models = {}\n",
    "        \n",
    "        for d, split in splits.items():\n",
    "            X, y = self.get_df_from_split(df, split)\n",
    "            self.split_models[d] = self.fit(X, y)\n",
    "\n",
    "    def predict_on_splits(self, df, splits, train=False):\n",
    "        model_predictions = {}\n",
    "        if train:\n",
    "            train = 'train'\n",
    "        else:\n",
    "            train= 'test'\n",
    "        \n",
    "        for d, split in splits.items():\n",
    "            X, y = self.get_df_from_split(df, split, split_type=train)\n",
    "            model_predictions[d] = {\n",
    "                'pred': self.split_models[d].predict(X),\n",
    "                'true': y,\n",
    "                'index': X.index\n",
    "            }\n",
    "        \n",
    "        return model_predictions"
   ]
  },
  {
   "cell_type": "markdown",
   "id": "3625d0ae",
   "metadata": {
    "papermill": {
     "duration": 0.009651,
     "end_time": "2025-03-17T16:48:29.623756",
     "exception": false,
     "start_time": "2025-03-17T16:48:29.614105",
     "status": "completed"
    },
    "tags": []
   },
   "source": [
    "## Model Evaluator"
   ]
  },
  {
   "cell_type": "code",
   "execution_count": 11,
   "id": "9b4631f7",
   "metadata": {
    "execution": {
     "iopub.execute_input": "2025-03-17T16:48:29.645357Z",
     "iopub.status.busy": "2025-03-17T16:48:29.645018Z",
     "iopub.status.idle": "2025-03-17T16:48:29.659392Z",
     "shell.execute_reply": "2025-03-17T16:48:29.658293Z"
    },
    "papermill": {
     "duration": 0.027203,
     "end_time": "2025-03-17T16:48:29.661107",
     "exception": false,
     "start_time": "2025-03-17T16:48:29.633904",
     "status": "completed"
    },
    "tags": []
   },
   "outputs": [],
   "source": [
    "class Evaluator:\n",
    "\n",
    "    def __init__(\n",
    "        self,\n",
    "        dataset,\n",
    "        min_date,\n",
    "        max_date,\n",
    "        target,\n",
    "        metrics_dict,\n",
    "        max_lookback=None\n",
    "    ):\n",
    "        self.df_splitter = DataSplitter(dataset, min_date, max_date, max_lookback=max_lookback)\n",
    "        self.metrics_dict = metrics_dict\n",
    "        self.dataset = dataset\n",
    "        self.target = target\n",
    "\n",
    "        self.splits = self.df_splitter.get_train_test_split()\n",
    "\n",
    "    def fit_predict(self, model):\n",
    "        model.fit_on_splits(self.dataset, self.splits)\n",
    "        train_preds = model.predict_on_splits(self.dataset, self.splits, train=True)\n",
    "        test_preds = model.predict_on_splits(self.dataset, self.splits, train=False)\n",
    "        return train_preds, test_preds\n",
    "\n",
    "    def evaluate_metrics(self, y_true, y_pred):\n",
    "        values = {}\n",
    "        for d, metric in metrics_dict.items():\n",
    "            values[d] = metric(y_true, y_pred)\n",
    "        return values\n",
    "\n",
    "    def merge_evaluations(self, evaluations):\n",
    "        merged_evaluations = {}\n",
    "        for d, evaluation in evaluations.items():\n",
    "            if d in ['aggregated', 'aggregated_train']:\n",
    "                continue\n",
    "            if len(merged_evaluations) == 0:\n",
    "                merged_evaluations = {\n",
    "                    k : [v]\n",
    "                    for k, v in evaluation.items()\n",
    "                }\n",
    "            else:\n",
    "                for k, v in evaluation.items():\n",
    "                    merged_evaluations[k].append(v)\n",
    "\n",
    "        merged_evaluations['aggregated'] = evaluations['aggregated']\n",
    "        # merged_evaluations['aggregated_train'] = evaluations['aggregated_train']\n",
    "        \n",
    "        return merged_evaluations\n",
    "\n",
    "    def save(self, model, evaluations, model_name):\n",
    "        with open(f'{model_name}_evaluation.json', 'w') as f:\n",
    "            json.dump(evaluations, f)\n",
    "\n",
    "        with open(f'{model_name}_model.pkl', 'wb') as f:\n",
    "            pkl.dump(model, f)\n",
    "\n",
    "    def print(self, train_evaluations, test_evaluations):\n",
    "        print(f\"\"\"Train PM {self.target}: R2 Score {train_evaluations['aggregated']['r2 score']}, \n",
    "               RMSE {np.sqrt(train_evaluations['aggregated']['MSE'])}\n",
    "        \"\"\")\n",
    "        print(f\"\"\"Test PM {self.target}: R2 Score {test_evaluations['aggregated']['r2 score']}, \n",
    "              RMSE {np.sqrt(test_evaluations['aggregated']['MSE'])}\n",
    "        \"\"\")\n",
    "        \n",
    "\n",
    "    def evaluate(self, model, daily=False, save=True, model_name=None, verbose=True):\n",
    "        train_preds, test_preds = self.fit_predict(model)\n",
    "\n",
    "        train_metrics = {}\n",
    "        train_pred_full = []\n",
    "        train_full = []\n",
    "        for d, v in train_preds.items():\n",
    "            train_metrics[d] = self.evaluate_metrics(v['true'], v['pred'])\n",
    "            train_pred_full.append(v['pred'])\n",
    "            train_full.append(v['true'])\n",
    "\n",
    "        train_pred_full = np.concatenate(train_pred_full)\n",
    "        train_full = np.concatenate(train_full)\n",
    "        \n",
    "\n",
    "        test_metrics = {}\n",
    "        test_pred_full = []\n",
    "        test_full = []\n",
    "        index_full = []\n",
    "        for d, v in test_preds.items():\n",
    "            test_metrics[d] = self.evaluate_metrics(v['true'], v['pred'])\n",
    "            test_pred_full.append(v['pred'])\n",
    "            test_full.append(v['true'])\n",
    "            index_full.append(v['index'])\n",
    "        \n",
    "        test_pred_full = np.concatenate(test_pred_full)\n",
    "        test_full = np.concatenate(test_full)\n",
    "        index_full = np.concatenate(index_full)\n",
    "\n",
    "        train_metrics['aggregated'] = self.evaluate_metrics(train_full, train_pred_full)\n",
    "        test_metrics['aggregated'] = self.evaluate_metrics(test_full, test_pred_full)\n",
    "        \n",
    "        if not daily:\n",
    "            train_metrics, test_metrics = self.merge_evaluations(train_metrics), self.merge_evaluations(test_metrics)\n",
    "\n",
    "        if save:\n",
    "            self.save(model, {'train':train_metrics,'test':test_metrics}, model_name)\n",
    "\n",
    "        if verbose:\n",
    "            self.print(train_metrics, test_metrics)\n",
    "        \n",
    "        return train_metrics, test_metrics"
   ]
  },
  {
   "cell_type": "markdown",
   "id": "2545b268",
   "metadata": {
    "papermill": {
     "duration": 0.00996,
     "end_time": "2025-03-17T16:48:29.681231",
     "exception": false,
     "start_time": "2025-03-17T16:48:29.671271",
     "status": "completed"
    },
    "tags": []
   },
   "source": [
    "## Additional Processing"
   ]
  },
  {
   "cell_type": "code",
   "execution_count": 12,
   "id": "01cdc276",
   "metadata": {
    "execution": {
     "iopub.execute_input": "2025-03-17T16:48:29.702822Z",
     "iopub.status.busy": "2025-03-17T16:48:29.702406Z",
     "iopub.status.idle": "2025-03-17T16:48:29.708930Z",
     "shell.execute_reply": "2025-03-17T16:48:29.708091Z"
    },
    "papermill": {
     "duration": 0.019066,
     "end_time": "2025-03-17T16:48:29.710471",
     "exception": false,
     "start_time": "2025-03-17T16:48:29.691405",
     "status": "completed"
    },
    "tags": []
   },
   "outputs": [],
   "source": [
    "from scipy.spatial import cKDTree\n",
    "\n",
    "class IDW:\n",
    "\n",
    "    def __init__(self, leafsize, power = 3, k = 10):\n",
    "        self.leafsize = leafsize\n",
    "        self.power = power\n",
    "        self.k = k\n",
    "\n",
    "    def fit(self, X, y):\n",
    "        self.X = X\n",
    "        # self.y = y.values\n",
    "        self.y = y\n",
    "\n",
    "        self.tree = cKDTree(self.X.values, leafsize=self.leafsize)\n",
    "\n",
    "    def predict(self, test_df):\n",
    "        X_test = test_df.values\n",
    "        \n",
    "        distances, indices = self.tree.query(X_test, k=self.k, workers=-1)\n",
    "        distances = np.maximum(distances, 1e-10)\n",
    "        \n",
    "        weights = 1 / (distances ** self.power)\n",
    "        weights /= np.sum(weights, axis=1, keepdims=True)\n",
    "        \n",
    "        interpolated_values = np.sum(weights * self.y[indices], axis=1)\n",
    "        \n",
    "        return interpolated_values"
   ]
  },
  {
   "cell_type": "markdown",
   "id": "200499c3",
   "metadata": {
    "papermill": {
     "duration": 0.009752,
     "end_time": "2025-03-17T16:48:29.730300",
     "exception": false,
     "start_time": "2025-03-17T16:48:29.720548",
     "status": "completed"
    },
    "tags": []
   },
   "source": [
    "## Lagged Features"
   ]
  },
  {
   "cell_type": "code",
   "execution_count": 13,
   "id": "4fdf31a9",
   "metadata": {
    "execution": {
     "iopub.execute_input": "2025-03-17T16:48:29.752036Z",
     "iopub.status.busy": "2025-03-17T16:48:29.751590Z",
     "iopub.status.idle": "2025-03-17T16:48:29.759716Z",
     "shell.execute_reply": "2025-03-17T16:48:29.758722Z"
    },
    "papermill": {
     "duration": 0.021278,
     "end_time": "2025-03-17T16:48:29.761473",
     "exception": false,
     "start_time": "2025-03-17T16:48:29.740195",
     "status": "completed"
    },
    "tags": []
   },
   "outputs": [],
   "source": [
    "def add_lag_features(df, lags = [1]):\n",
    "\n",
    "    df = df.copy()\n",
    "\n",
    "    added_features = []\n",
    "    for l in lags:\n",
    "        df[f'pm2_5_lag_{l}'] = df.groupby(\n",
    "            ['timeOfDay', 'lat', 'lon'])['pm2_5'].shift(l)\n",
    "        df[f'pm10_lag_{l}'] = df.groupby(\n",
    "            ['timeOfDay', 'lat', 'lon'])['pm10'].shift(l)\n",
    "\n",
    "        added_features.append(f'pm2_5_lag_{l}')\n",
    "        added_features.append(f'pm10_lag_{l}')\n",
    "\n",
    "        # .reset_index(drop=False)\n",
    "        \n",
    "        # shifted_pm25 = df.groupby(['timeOfDay', 'lat', 'lon'])['pm2_5'].shift(1).reset_index(drop=False)\n",
    "        # shifted_pm10 = df.groupby(['timeOfDay', 'lat', 'lon'])['pm10'].shift(1).reset_index(drop=False)\n",
    "\n",
    "        # shifted_pm25 = shifted_pm25.rename(columns = {'pm2_5' : f'pm2_5_lag_{l}'})\n",
    "        # shifted_pm10 = shifted_pm10.rename(columns = {'pm10' : f'pm10_lag_{l}'})\n",
    "\n",
    "        # df = pd.merge(df, shifted_pm25, how = 'outer', on =  ['timeOfDay', 'lat', 'lon'])\n",
    "        # df = pd.merge(df, shifted_pm10, how = 'outer', on =  ['timeOfDay', 'lat', 'lon'])\n",
    "\n",
    "\n",
    "        df.sort_values(by=[\"lat\", \"lon\", \"date_value\"], inplace=True)\n",
    "\n",
    "    # Group by latitude and longitude\n",
    "    grouped = df.groupby([\"lat\", \"lon\"])\n",
    "\n",
    "    # Function to fill NaN values based on previous mean\n",
    "    def fill_na_with_previous_mean(group):\n",
    "        for col in group.columns:\n",
    "            if col not in [\"date_value\", \"lat\", \"lon\"]:\n",
    "                group[col] = group[col].astype(float)  # Ensure numeric columns\n",
    "                group[col] = group[col].fillna(group[col].expanding().mean().shift())  # Previous days' mean\n",
    "                \n",
    "                # If still NaN (first row), replace with overall mean\n",
    "                overall_mean = df[col].mean(skipna=True)\n",
    "                group[col] = group[col].fillna(overall_mean)\n",
    "        return group\n",
    "\n",
    "    # Apply the function to each group\n",
    "    df = grouped.apply(fill_na_with_previous_mean)\n",
    "\n",
    "    df.reset_index(drop=True, inplace=True)\n",
    "\n",
    "    df = df.sort_values(by = ['date_value', 'timeOfDay', 'lat', 'lon'])\n",
    "\n",
    "    df.reset_index(drop=True, inplace=True)\n",
    "\n",
    "    CFG.features += added_features\n",
    "    \n",
    "    return df\n"
   ]
  },
  {
   "cell_type": "code",
   "execution_count": 14,
   "id": "8860bca4",
   "metadata": {
    "execution": {
     "iopub.execute_input": "2025-03-17T16:48:29.782828Z",
     "iopub.status.busy": "2025-03-17T16:48:29.782444Z",
     "iopub.status.idle": "2025-03-17T16:48:36.286144Z",
     "shell.execute_reply": "2025-03-17T16:48:36.284887Z"
    },
    "papermill": {
     "duration": 6.516449,
     "end_time": "2025-03-17T16:48:36.287978",
     "exception": false,
     "start_time": "2025-03-17T16:48:29.771529",
     "status": "completed"
    },
    "tags": []
   },
   "outputs": [
    {
     "name": "stderr",
     "output_type": "stream",
     "text": [
      "<ipython-input-13-e4098ddd2843>:45: DeprecationWarning: DataFrameGroupBy.apply operated on the grouping columns. This behavior is deprecated, and in a future version of pandas the grouping columns will be excluded from the operation. Either pass `include_groups=False` to exclude the groupings or explicitly select the grouping columns after groupby to silence this warning.\n",
      "  df = grouped.apply(fill_na_with_previous_mean)\n"
     ]
    }
   ],
   "source": [
    "df = add_lag_features(df, lags = [1, 2, 3, 7])"
   ]
  },
  {
   "cell_type": "code",
   "execution_count": 15,
   "id": "c7f509f2",
   "metadata": {
    "execution": {
     "iopub.execute_input": "2025-03-17T16:48:36.309813Z",
     "iopub.status.busy": "2025-03-17T16:48:36.309407Z",
     "iopub.status.idle": "2025-03-17T16:48:36.313394Z",
     "shell.execute_reply": "2025-03-17T16:48:36.312246Z"
    },
    "papermill": {
     "duration": 0.016999,
     "end_time": "2025-03-17T16:48:36.315252",
     "exception": false,
     "start_time": "2025-03-17T16:48:36.298253",
     "status": "completed"
    },
    "tags": []
   },
   "outputs": [],
   "source": [
    "# idw_model = Model(\n",
    "#     IDW,\n",
    "#     params={'leafsize': 25, 'power': 0.5, 'k': 3}\n",
    "# )\n",
    "\n",
    "# df_splitter = DataSplitter(\n",
    "#             df, min_train_date, min_train_date, \n",
    "#             max_lookback=2, min_lookback=None\n",
    "#         )\n",
    "# splits = df_splitter.get_train_test_split()\n",
    "\n",
    "# idw_model.fit_on_splits(df, splits)\n",
    "# preds = idw_model.predict_on_splits(df, splits)"
   ]
  },
  {
   "cell_type": "code",
   "execution_count": 16,
   "id": "685dbd4c",
   "metadata": {
    "execution": {
     "iopub.execute_input": "2025-03-17T16:48:36.339185Z",
     "iopub.status.busy": "2025-03-17T16:48:36.338777Z",
     "iopub.status.idle": "2025-03-17T16:48:36.347099Z",
     "shell.execute_reply": "2025-03-17T16:48:36.346058Z"
    },
    "papermill": {
     "duration": 0.023104,
     "end_time": "2025-03-17T16:48:36.348836",
     "exception": false,
     "start_time": "2025-03-17T16:48:36.325732",
     "status": "completed"
    },
    "tags": []
   },
   "outputs": [],
   "source": [
    "# IDW Interpolation\n",
    "\n",
    "def idw_interpolation(df, idw, lags):\n",
    "    df = df.copy()\n",
    "    df['lat'] = df['lat'] * 50\n",
    "    df['lon'] = df['lon'] * 50\n",
    "    \n",
    "    target = idw.target\n",
    "    added_features = []\n",
    "    \n",
    "    for lag in lags:\n",
    "        df_splitter = DataSplitter(\n",
    "            df.copy(), min_train_date, min_train_date+timedelta(days=1), \n",
    "            max_lookback=lag+1, min_lookback=lag-1\n",
    "        )\n",
    "        splits = df_splitter.get_train_test_split()\n",
    "    \n",
    "        idw.fit_on_splits(df, splits)\n",
    "        preds = idw.predict_on_splits(df, splits)\n",
    "\n",
    "        test_pred_full = []\n",
    "        test_full = []\n",
    "        index_full = []\n",
    "        \n",
    "        for d, v in preds.items():\n",
    "            test_pred_full.append(v['pred'])\n",
    "            test_full.append(v['true'])\n",
    "            index_full.append(v['index'])\n",
    "        \n",
    "        test_pred_full = np.concatenate(test_pred_full)\n",
    "        test_full = np.concatenate(test_full)\n",
    "        index_full = np.concatenate(index_full)\n",
    "\n",
    "        new_df = pd.DataFrame({\n",
    "            # f'test_lag_{lag}': test_full,\n",
    "            f'idw_lag_{lag}_{target}': test_pred_full,\n",
    "        }, index = index_full)\n",
    "        \n",
    "        df = df.merge(new_df, left_index=True, right_index=True, how='outer')\n",
    "        # df[f'test_lag_{lag}'] = df[f'test_lag_{lag}'].fillna(df[f'test_lag_{lag}'].expanding().mean())\n",
    "        df[f'idw_lag_{lag}_{target}'] = df[f'idw_lag_{lag}_{target}'].fillna(df[f'idw_lag_{lag}_{target}'].expanding().mean())\n",
    "        \n",
    "        df = df.bfill()\n",
    "\n",
    "        added_features.append(f'idw_lag_{lag}_{target}')\n",
    "\n",
    "    df['lat'] = df['lat'] / 50\n",
    "    df['lon'] = df['lon'] / 50\n",
    "\n",
    "    CFG.features = CFG.features + added_features\n",
    "    \n",
    "    return df"
   ]
  },
  {
   "cell_type": "code",
   "execution_count": 17,
   "id": "faf3fc35",
   "metadata": {
    "execution": {
     "iopub.execute_input": "2025-03-17T16:48:36.370758Z",
     "iopub.status.busy": "2025-03-17T16:48:36.370341Z",
     "iopub.status.idle": "2025-03-17T16:48:42.716223Z",
     "shell.execute_reply": "2025-03-17T16:48:42.715101Z"
    },
    "papermill": {
     "duration": 6.359044,
     "end_time": "2025-03-17T16:48:42.718161",
     "exception": false,
     "start_time": "2025-03-17T16:48:36.359117",
     "status": "completed"
    },
    "tags": []
   },
   "outputs": [],
   "source": [
    "# pm2_5\n",
    "\n",
    "idw_model = Model(\n",
    "    IDW,\n",
    "    params={'leafsize': 50, 'power': 3, 'k': 3}\n",
    ")\n",
    "\n",
    "# idw_model = Model(\n",
    "#     RandomForestRegressor,\n",
    "# )\n",
    "\n",
    "df = idw_interpolation(df, idw_model, lags = [1])\n",
    "df = idw_interpolation(df, idw_model, lags = [2])\n",
    "df = idw_interpolation(df, idw_model, lags = [3])\n",
    "df = idw_interpolation(df, idw_model, lags = [7])\n",
    "\n",
    "# print(np.sqrt(mean_squared_error(df['test_lag_1'], df['idw_lag_1_pm2_5'])))\n",
    "# print(np.sqrt(mean_squared_error(df['test_lag_2'], df['idw_lag_2_pm2_5'])))\n",
    "# print(np.sqrt(mean_squared_error(df['test_lag_3'], df['idw_lag_3_pm2_5'])))"
   ]
  },
  {
   "cell_type": "code",
   "execution_count": 18,
   "id": "13c2f526",
   "metadata": {
    "execution": {
     "iopub.execute_input": "2025-03-17T16:48:42.739908Z",
     "iopub.status.busy": "2025-03-17T16:48:42.739458Z",
     "iopub.status.idle": "2025-03-17T16:48:55.369789Z",
     "shell.execute_reply": "2025-03-17T16:48:55.368686Z"
    },
    "papermill": {
     "duration": 12.643188,
     "end_time": "2025-03-17T16:48:55.371619",
     "exception": false,
     "start_time": "2025-03-17T16:48:42.728431",
     "status": "completed"
    },
    "tags": []
   },
   "outputs": [],
   "source": [
    "# pm10\n",
    "\n",
    "idw_model = Model(\n",
    "    IDW,\n",
    "    params={'leafsize': 50, 'power': 3, 'k': 3},\n",
    "    target='pm10'\n",
    ")\n",
    "\n",
    "# idw_model = Model(\n",
    "#     RandomForestRegressor,\n",
    "#     target='pm10'\n",
    "# )\n",
    "\n",
    "df = idw_interpolation(df, idw_model, lags = [1])\n",
    "df = idw_interpolation(df, idw_model, lags = [2])\n",
    "df = idw_interpolation(df, idw_model, lags = [3])\n",
    "df = idw_interpolation(df, idw_model, lags = [7])"
   ]
  },
  {
   "cell_type": "markdown",
   "id": "a7fe51fe",
   "metadata": {
    "papermill": {
     "duration": 0.009586,
     "end_time": "2025-03-17T16:48:55.391568",
     "exception": false,
     "start_time": "2025-03-17T16:48:55.381982",
     "status": "completed"
    },
    "tags": []
   },
   "source": [
    "## Feature Selection"
   ]
  },
  {
   "cell_type": "code",
   "execution_count": null,
   "id": "358d0db4",
   "metadata": {
    "papermill": {
     "duration": 0.009678,
     "end_time": "2025-03-17T16:48:55.412309",
     "exception": false,
     "start_time": "2025-03-17T16:48:55.402631",
     "status": "completed"
    },
    "tags": []
   },
   "outputs": [],
   "source": []
  },
  {
   "cell_type": "markdown",
   "id": "8798e90c",
   "metadata": {
    "papermill": {
     "duration": 0.009591,
     "end_time": "2025-03-17T16:48:55.431885",
     "exception": false,
     "start_time": "2025-03-17T16:48:55.422294",
     "status": "completed"
    },
    "tags": []
   },
   "source": [
    "## Evaluation"
   ]
  },
  {
   "cell_type": "code",
   "execution_count": 19,
   "id": "aae98098",
   "metadata": {
    "execution": {
     "iopub.execute_input": "2025-03-17T16:48:55.453276Z",
     "iopub.status.busy": "2025-03-17T16:48:55.452881Z",
     "iopub.status.idle": "2025-03-17T16:48:55.887127Z",
     "shell.execute_reply": "2025-03-17T16:48:55.885766Z"
    },
    "papermill": {
     "duration": 0.447111,
     "end_time": "2025-03-17T16:48:55.889082",
     "exception": false,
     "start_time": "2025-03-17T16:48:55.441971",
     "status": "completed"
    },
    "tags": []
   },
   "outputs": [],
   "source": [
    "metrics_dict = {\n",
    "    'MSE': mean_squared_error, \n",
    "    'r2 score': r2_score, \n",
    "    'MAE': mean_absolute_error,\n",
    "}\n",
    "\n",
    "pm25_evaluator = Evaluator(\n",
    "    df,\n",
    "    min_train_date,\n",
    "    max_train_date,\n",
    "    'pm2_5',\n",
    "    metrics_dict,\n",
    "    max_lookback=None\n",
    ")\n",
    "\n",
    "pm10_evaluator = Evaluator(\n",
    "    df,\n",
    "    min_train_date,\n",
    "    max_train_date,\n",
    "    'pm10',\n",
    "    metrics_dict,\n",
    "    max_lookback=None\n",
    ")"
   ]
  },
  {
   "cell_type": "code",
   "execution_count": 20,
   "id": "684f1b75",
   "metadata": {
    "execution": {
     "iopub.execute_input": "2025-03-17T16:48:55.910749Z",
     "iopub.status.busy": "2025-03-17T16:48:55.910271Z",
     "iopub.status.idle": "2025-03-17T16:48:55.914948Z",
     "shell.execute_reply": "2025-03-17T16:48:55.913984Z"
    },
    "papermill": {
     "duration": 0.017174,
     "end_time": "2025-03-17T16:48:55.916536",
     "exception": false,
     "start_time": "2025-03-17T16:48:55.899362",
     "status": "completed"
    },
    "tags": []
   },
   "outputs": [],
   "source": [
    "model_list = {\n",
    "    \"XGB\" : [XGBRegressor, {}],\n",
    "    \"LightGBM\" : [LGBMRegressor, {'verbose':0}],\n",
    "    \"Ridge\" : [Ridge, {}],\n",
    "    # \"RandomForest\" : [RandomForestRegressor, {}],\n",
    "    \"CatBoostRegressor\": [CatBoostRegressor, {'verbose' : 0}],\n",
    "    # \"IDW\" : [IDW, {'leafsize': 50, 'k': 20, 'power': 0.25}]\n",
    "}"
   ]
  },
  {
   "cell_type": "code",
   "execution_count": 21,
   "id": "bd9cf5d8",
   "metadata": {
    "execution": {
     "iopub.execute_input": "2025-03-17T16:48:55.938256Z",
     "iopub.status.busy": "2025-03-17T16:48:55.937836Z",
     "iopub.status.idle": "2025-03-17T17:00:02.083608Z",
     "shell.execute_reply": "2025-03-17T17:00:02.082452Z"
    },
    "papermill": {
     "duration": 666.227638,
     "end_time": "2025-03-17T17:00:02.154506",
     "exception": false,
     "start_time": "2025-03-17T16:48:55.926868",
     "status": "completed"
    },
    "tags": []
   },
   "outputs": [
    {
     "name": "stdout",
     "output_type": "stream",
     "text": [
      "Running Model XGB\n",
      "Train PM pm2_5: R2 Score 0.7859136433820467, \n",
      "               RMSE 48.02828176849066\n",
      "        \n",
      "Test PM pm2_5: R2 Score 0.05303557564343031, \n",
      "              RMSE 98.11367177220335\n",
      "        \n",
      "Train PM pm10: R2 Score 0.7850737879552527, \n",
      "               RMSE 52.13196593121911\n",
      "        \n",
      "Test PM pm10: R2 Score 0.11454106635125783, \n",
      "              RMSE 102.9935025786704\n",
      "        \n",
      "-------------------------------------------------------------------------------\n",
      "Running Model LightGBM\n",
      "Train PM pm2_5: R2 Score 0.6976477005298432, \n",
      "               RMSE 57.076744232220406\n",
      "        \n",
      "Test PM pm2_5: R2 Score 0.18978115457804012, \n",
      "              RMSE 90.75360119824882\n",
      "        \n",
      "Train PM pm10: R2 Score 0.6965043355375742, \n",
      "               RMSE 61.94919341632914\n",
      "        \n",
      "Test PM pm10: R2 Score 0.19059976650541566, \n",
      "              RMSE 98.47075741779098\n",
      "        \n",
      "-------------------------------------------------------------------------------\n",
      "Running Model Ridge\n",
      "Train PM pm2_5: R2 Score 0.28898440484502197, \n",
      "               RMSE 87.52701496185051\n",
      "        \n",
      "Test PM pm2_5: R2 Score 0.19226212867704529, \n",
      "              RMSE 90.61454619883963\n",
      "        \n",
      "Train PM pm10: R2 Score 0.28813889433882334, \n",
      "               RMSE 94.87614778188987\n",
      "        \n",
      "Test PM pm10: R2 Score 0.19598785225823268, \n",
      "              RMSE 98.14245579479719\n",
      "        \n",
      "-------------------------------------------------------------------------------\n",
      "Running Model CatBoostRegressor\n",
      "Train PM pm2_5: R2 Score 0.7807069605735133, \n",
      "               RMSE 48.60880871558736\n",
      "        \n",
      "Test PM pm2_5: R2 Score 0.1137640514589997, \n",
      "              RMSE 94.91555209999375\n",
      "        \n",
      "Train PM pm10: R2 Score 0.779515812357394, \n",
      "               RMSE 52.80172791901881\n",
      "        \n",
      "Test PM pm10: R2 Score 0.13514432793520226, \n",
      "              RMSE 101.78820007577971\n",
      "        \n",
      "-------------------------------------------------------------------------------\n"
     ]
    }
   ],
   "source": [
    "for model_name, [model, params] in model_list.items():\n",
    "    print(f\"Running Model {model_name}\")\n",
    "    model_wrapper = Model(model, params, target='pm2_5')\n",
    "    pm25_evaluator.evaluate(\n",
    "        model_wrapper, daily=False, save=True, model_name=model_name, verbose=True\n",
    "    )\n",
    "\n",
    "    model_wrapper = Model(model, params, target='pm10')\n",
    "    pm10_evaluator.evaluate(\n",
    "        model_wrapper, daily=False, save=True, model_name=model_name, verbose=True\n",
    "    )\n",
    "    print(\"-------------------------------------------------------------------------------\")"
   ]
  },
  {
   "cell_type": "code",
   "execution_count": 22,
   "id": "e9cdef98",
   "metadata": {
    "execution": {
     "iopub.execute_input": "2025-03-17T17:00:02.178296Z",
     "iopub.status.busy": "2025-03-17T17:00:02.177900Z",
     "iopub.status.idle": "2025-03-17T17:00:05.751582Z",
     "shell.execute_reply": "2025-03-17T17:00:05.750221Z"
    },
    "papermill": {
     "duration": 3.587619,
     "end_time": "2025-03-17T17:00:05.753422",
     "exception": false,
     "start_time": "2025-03-17T17:00:02.165803",
     "status": "completed"
    },
    "tags": []
   },
   "outputs": [],
   "source": [
    "df.to_csv('engineered_df.csv')"
   ]
  },
  {
   "cell_type": "code",
   "execution_count": 23,
   "id": "631a9bd1",
   "metadata": {
    "execution": {
     "iopub.execute_input": "2025-03-17T17:00:05.776445Z",
     "iopub.status.busy": "2025-03-17T17:00:05.776046Z",
     "iopub.status.idle": "2025-03-17T17:00:05.812904Z",
     "shell.execute_reply": "2025-03-17T17:00:05.811735Z"
    },
    "papermill": {
     "duration": 0.050332,
     "end_time": "2025-03-17T17:00:05.814701",
     "exception": false,
     "start_time": "2025-03-17T17:00:05.764369",
     "status": "completed"
    },
    "tags": []
   },
   "outputs": [
    {
     "data": {
      "text/html": [
       "<div>\n",
       "<style scoped>\n",
       "    .dataframe tbody tr th:only-of-type {\n",
       "        vertical-align: middle;\n",
       "    }\n",
       "\n",
       "    .dataframe tbody tr th {\n",
       "        vertical-align: top;\n",
       "    }\n",
       "\n",
       "    .dataframe thead th {\n",
       "        text-align: right;\n",
       "    }\n",
       "</style>\n",
       "<table border=\"1\" class=\"dataframe\">\n",
       "  <thead>\n",
       "    <tr style=\"text-align: right;\">\n",
       "      <th></th>\n",
       "      <th>date_value</th>\n",
       "      <th>timeOfDay</th>\n",
       "      <th>lat</th>\n",
       "      <th>lon</th>\n",
       "      <th>pm2_5</th>\n",
       "      <th>pm10</th>\n",
       "      <th>day_of_week</th>\n",
       "      <th>distance</th>\n",
       "      <th>bus_count</th>\n",
       "      <th>pm2_5_lag_1</th>\n",
       "      <th>...</th>\n",
       "      <th>pm2_5_lag_7</th>\n",
       "      <th>pm10_lag_7</th>\n",
       "      <th>idw_lag_1_pm2_5</th>\n",
       "      <th>idw_lag_2_pm2_5</th>\n",
       "      <th>idw_lag_3_pm2_5</th>\n",
       "      <th>idw_lag_7_pm2_5</th>\n",
       "      <th>idw_lag_1_pm10</th>\n",
       "      <th>idw_lag_2_pm10</th>\n",
       "      <th>idw_lag_3_pm10</th>\n",
       "      <th>idw_lag_7_pm10</th>\n",
       "    </tr>\n",
       "  </thead>\n",
       "  <tbody>\n",
       "    <tr>\n",
       "      <th>0</th>\n",
       "      <td>2020-11-01</td>\n",
       "      <td>0.0</td>\n",
       "      <td>0.269231</td>\n",
       "      <td>0.809524</td>\n",
       "      <td>481.37</td>\n",
       "      <td>522.53</td>\n",
       "      <td>1.0</td>\n",
       "      <td>0.001765</td>\n",
       "      <td>0.0</td>\n",
       "      <td>197.000308</td>\n",
       "      <td>...</td>\n",
       "      <td>197.253747</td>\n",
       "      <td>214.864707</td>\n",
       "      <td>197.287118</td>\n",
       "      <td>359.376438</td>\n",
       "      <td>446.796673</td>\n",
       "      <td>197.287118</td>\n",
       "      <td>231.26935</td>\n",
       "      <td>389.966421</td>\n",
       "      <td>481.86334</td>\n",
       "      <td>231.26935</td>\n",
       "    </tr>\n",
       "    <tr>\n",
       "      <th>1</th>\n",
       "      <td>2020-11-01</td>\n",
       "      <td>0.0</td>\n",
       "      <td>0.307692</td>\n",
       "      <td>0.761905</td>\n",
       "      <td>471.18</td>\n",
       "      <td>513.50</td>\n",
       "      <td>1.0</td>\n",
       "      <td>0.001765</td>\n",
       "      <td>0.0</td>\n",
       "      <td>197.000308</td>\n",
       "      <td>...</td>\n",
       "      <td>197.253747</td>\n",
       "      <td>214.864707</td>\n",
       "      <td>197.287118</td>\n",
       "      <td>359.376438</td>\n",
       "      <td>446.796673</td>\n",
       "      <td>197.287118</td>\n",
       "      <td>231.26935</td>\n",
       "      <td>389.966421</td>\n",
       "      <td>481.86334</td>\n",
       "      <td>231.26935</td>\n",
       "    </tr>\n",
       "    <tr>\n",
       "      <th>2</th>\n",
       "      <td>2020-11-01</td>\n",
       "      <td>0.0</td>\n",
       "      <td>0.346154</td>\n",
       "      <td>0.714286</td>\n",
       "      <td>462.44</td>\n",
       "      <td>503.81</td>\n",
       "      <td>1.0</td>\n",
       "      <td>0.001765</td>\n",
       "      <td>0.0</td>\n",
       "      <td>197.000308</td>\n",
       "      <td>...</td>\n",
       "      <td>197.253747</td>\n",
       "      <td>214.864707</td>\n",
       "      <td>197.287118</td>\n",
       "      <td>359.376438</td>\n",
       "      <td>446.796673</td>\n",
       "      <td>197.287118</td>\n",
       "      <td>231.26935</td>\n",
       "      <td>389.966421</td>\n",
       "      <td>481.86334</td>\n",
       "      <td>231.26935</td>\n",
       "    </tr>\n",
       "    <tr>\n",
       "      <th>3</th>\n",
       "      <td>2020-11-01</td>\n",
       "      <td>0.0</td>\n",
       "      <td>0.346154</td>\n",
       "      <td>0.761905</td>\n",
       "      <td>468.14</td>\n",
       "      <td>507.55</td>\n",
       "      <td>1.0</td>\n",
       "      <td>0.001765</td>\n",
       "      <td>0.0</td>\n",
       "      <td>197.000308</td>\n",
       "      <td>...</td>\n",
       "      <td>197.253747</td>\n",
       "      <td>214.864707</td>\n",
       "      <td>197.287118</td>\n",
       "      <td>359.376438</td>\n",
       "      <td>446.796673</td>\n",
       "      <td>197.287118</td>\n",
       "      <td>231.26935</td>\n",
       "      <td>389.966421</td>\n",
       "      <td>481.86334</td>\n",
       "      <td>231.26935</td>\n",
       "    </tr>\n",
       "    <tr>\n",
       "      <th>4</th>\n",
       "      <td>2020-11-01</td>\n",
       "      <td>0.0</td>\n",
       "      <td>0.384615</td>\n",
       "      <td>0.714286</td>\n",
       "      <td>462.68</td>\n",
       "      <td>505.21</td>\n",
       "      <td>1.0</td>\n",
       "      <td>0.001765</td>\n",
       "      <td>0.0</td>\n",
       "      <td>197.000308</td>\n",
       "      <td>...</td>\n",
       "      <td>197.253747</td>\n",
       "      <td>214.864707</td>\n",
       "      <td>197.287118</td>\n",
       "      <td>359.376438</td>\n",
       "      <td>446.796673</td>\n",
       "      <td>197.287118</td>\n",
       "      <td>231.26935</td>\n",
       "      <td>389.966421</td>\n",
       "      <td>481.86334</td>\n",
       "      <td>231.26935</td>\n",
       "    </tr>\n",
       "  </tbody>\n",
       "</table>\n",
       "<p>5 rows × 25 columns</p>\n",
       "</div>"
      ],
      "text/plain": [
       "  date_value  timeOfDay       lat       lon   pm2_5    pm10  day_of_week  \\\n",
       "0 2020-11-01        0.0  0.269231  0.809524  481.37  522.53          1.0   \n",
       "1 2020-11-01        0.0  0.307692  0.761905  471.18  513.50          1.0   \n",
       "2 2020-11-01        0.0  0.346154  0.714286  462.44  503.81          1.0   \n",
       "3 2020-11-01        0.0  0.346154  0.761905  468.14  507.55          1.0   \n",
       "4 2020-11-01        0.0  0.384615  0.714286  462.68  505.21          1.0   \n",
       "\n",
       "   distance  bus_count  pm2_5_lag_1  ...  pm2_5_lag_7  pm10_lag_7  \\\n",
       "0  0.001765        0.0   197.000308  ...   197.253747  214.864707   \n",
       "1  0.001765        0.0   197.000308  ...   197.253747  214.864707   \n",
       "2  0.001765        0.0   197.000308  ...   197.253747  214.864707   \n",
       "3  0.001765        0.0   197.000308  ...   197.253747  214.864707   \n",
       "4  0.001765        0.0   197.000308  ...   197.253747  214.864707   \n",
       "\n",
       "   idw_lag_1_pm2_5  idw_lag_2_pm2_5  idw_lag_3_pm2_5  idw_lag_7_pm2_5  \\\n",
       "0       197.287118       359.376438       446.796673       197.287118   \n",
       "1       197.287118       359.376438       446.796673       197.287118   \n",
       "2       197.287118       359.376438       446.796673       197.287118   \n",
       "3       197.287118       359.376438       446.796673       197.287118   \n",
       "4       197.287118       359.376438       446.796673       197.287118   \n",
       "\n",
       "   idw_lag_1_pm10  idw_lag_2_pm10  idw_lag_3_pm10  idw_lag_7_pm10  \n",
       "0       231.26935      389.966421       481.86334       231.26935  \n",
       "1       231.26935      389.966421       481.86334       231.26935  \n",
       "2       231.26935      389.966421       481.86334       231.26935  \n",
       "3       231.26935      389.966421       481.86334       231.26935  \n",
       "4       231.26935      389.966421       481.86334       231.26935  \n",
       "\n",
       "[5 rows x 25 columns]"
      ]
     },
     "execution_count": 23,
     "metadata": {},
     "output_type": "execute_result"
    }
   ],
   "source": [
    "df.head()"
   ]
  },
  {
   "cell_type": "code",
   "execution_count": 24,
   "id": "5b0e2a60",
   "metadata": {
    "execution": {
     "iopub.execute_input": "2025-03-17T17:00:05.838321Z",
     "iopub.status.busy": "2025-03-17T17:00:05.837885Z",
     "iopub.status.idle": "2025-03-17T17:00:05.844233Z",
     "shell.execute_reply": "2025-03-17T17:00:05.843225Z"
    },
    "papermill": {
     "duration": 0.020277,
     "end_time": "2025-03-17T17:00:05.846147",
     "exception": false,
     "start_time": "2025-03-17T17:00:05.825870",
     "status": "completed"
    },
    "tags": []
   },
   "outputs": [
    {
     "data": {
      "text/plain": [
       "['timeOfDay',\n",
       " 'lat',\n",
       " 'lon',\n",
       " 'day_of_week',\n",
       " 'distance',\n",
       " 'bus_count',\n",
       " 'pm2_5_lag_1',\n",
       " 'pm10_lag_1',\n",
       " 'pm2_5_lag_2',\n",
       " 'pm10_lag_2',\n",
       " 'pm2_5_lag_3',\n",
       " 'pm10_lag_3',\n",
       " 'pm2_5_lag_7',\n",
       " 'pm10_lag_7',\n",
       " 'idw_lag_1_pm2_5',\n",
       " 'idw_lag_2_pm2_5',\n",
       " 'idw_lag_3_pm2_5',\n",
       " 'idw_lag_7_pm2_5',\n",
       " 'idw_lag_1_pm10',\n",
       " 'idw_lag_2_pm10',\n",
       " 'idw_lag_3_pm10',\n",
       " 'idw_lag_7_pm10']"
      ]
     },
     "execution_count": 24,
     "metadata": {},
     "output_type": "execute_result"
    }
   ],
   "source": [
    "CFG.features"
   ]
  },
  {
   "cell_type": "markdown",
   "id": "bd73408b",
   "metadata": {
    "papermill": {
     "duration": 0.010904,
     "end_time": "2025-03-17T17:00:05.868430",
     "exception": false,
     "start_time": "2025-03-17T17:00:05.857526",
     "status": "completed"
    },
    "tags": []
   },
   "source": [
    "## Full Interpolation"
   ]
  },
  {
   "cell_type": "code",
   "execution_count": 25,
   "id": "0301516d",
   "metadata": {
    "execution": {
     "iopub.execute_input": "2025-03-17T17:00:05.891982Z",
     "iopub.status.busy": "2025-03-17T17:00:05.891575Z",
     "iopub.status.idle": "2025-03-17T17:00:05.896015Z",
     "shell.execute_reply": "2025-03-17T17:00:05.894984Z"
    },
    "papermill": {
     "duration": 0.018072,
     "end_time": "2025-03-17T17:00:05.897586",
     "exception": false,
     "start_time": "2025-03-17T17:00:05.879514",
     "status": "completed"
    },
    "tags": []
   },
   "outputs": [],
   "source": [
    "lat_lon_pairs = df.groupby(by=['lat', 'lon'])"
   ]
  },
  {
   "cell_type": "code",
   "execution_count": 26,
   "id": "7426ec45",
   "metadata": {
    "execution": {
     "iopub.execute_input": "2025-03-17T17:00:05.921832Z",
     "iopub.status.busy": "2025-03-17T17:00:05.921446Z",
     "iopub.status.idle": "2025-03-17T17:00:05.940342Z",
     "shell.execute_reply": "2025-03-17T17:00:05.939252Z"
    },
    "papermill": {
     "duration": 0.03294,
     "end_time": "2025-03-17T17:00:05.941977",
     "exception": false,
     "start_time": "2025-03-17T17:00:05.909037",
     "status": "completed"
    },
    "tags": []
   },
   "outputs": [
    {
     "data": {
      "text/html": [
       "<div>\n",
       "<style scoped>\n",
       "    .dataframe tbody tr th:only-of-type {\n",
       "        vertical-align: middle;\n",
       "    }\n",
       "\n",
       "    .dataframe tbody tr th {\n",
       "        vertical-align: top;\n",
       "    }\n",
       "\n",
       "    .dataframe thead th {\n",
       "        text-align: right;\n",
       "    }\n",
       "</style>\n",
       "<table border=\"1\" class=\"dataframe\">\n",
       "  <thead>\n",
       "    <tr style=\"text-align: right;\">\n",
       "      <th></th>\n",
       "      <th>lat</th>\n",
       "      <th>lon</th>\n",
       "      <th>pm2_5</th>\n",
       "    </tr>\n",
       "  </thead>\n",
       "  <tbody>\n",
       "    <tr>\n",
       "      <th>0</th>\n",
       "      <td>0.000000</td>\n",
       "      <td>0.904762</td>\n",
       "      <td>4</td>\n",
       "    </tr>\n",
       "    <tr>\n",
       "      <th>1</th>\n",
       "      <td>0.000000</td>\n",
       "      <td>0.952381</td>\n",
       "      <td>4</td>\n",
       "    </tr>\n",
       "    <tr>\n",
       "      <th>2</th>\n",
       "      <td>0.038462</td>\n",
       "      <td>0.904762</td>\n",
       "      <td>2618</td>\n",
       "    </tr>\n",
       "    <tr>\n",
       "      <th>3</th>\n",
       "      <td>0.038462</td>\n",
       "      <td>0.952381</td>\n",
       "      <td>1927</td>\n",
       "    </tr>\n",
       "    <tr>\n",
       "      <th>4</th>\n",
       "      <td>0.076923</td>\n",
       "      <td>0.809524</td>\n",
       "      <td>292</td>\n",
       "    </tr>\n",
       "    <tr>\n",
       "      <th>...</th>\n",
       "      <td>...</td>\n",
       "      <td>...</td>\n",
       "      <td>...</td>\n",
       "    </tr>\n",
       "    <tr>\n",
       "      <th>257</th>\n",
       "      <td>1.000000</td>\n",
       "      <td>0.285714</td>\n",
       "      <td>3</td>\n",
       "    </tr>\n",
       "    <tr>\n",
       "      <th>258</th>\n",
       "      <td>1.000000</td>\n",
       "      <td>0.333333</td>\n",
       "      <td>3</td>\n",
       "    </tr>\n",
       "    <tr>\n",
       "      <th>259</th>\n",
       "      <td>1.000000</td>\n",
       "      <td>0.380952</td>\n",
       "      <td>1</td>\n",
       "    </tr>\n",
       "    <tr>\n",
       "      <th>260</th>\n",
       "      <td>1.000000</td>\n",
       "      <td>0.523810</td>\n",
       "      <td>1</td>\n",
       "    </tr>\n",
       "    <tr>\n",
       "      <th>261</th>\n",
       "      <td>1.000000</td>\n",
       "      <td>0.571429</td>\n",
       "      <td>5</td>\n",
       "    </tr>\n",
       "  </tbody>\n",
       "</table>\n",
       "<p>262 rows × 3 columns</p>\n",
       "</div>"
      ],
      "text/plain": [
       "          lat       lon  pm2_5\n",
       "0    0.000000  0.904762      4\n",
       "1    0.000000  0.952381      4\n",
       "2    0.038462  0.904762   2618\n",
       "3    0.038462  0.952381   1927\n",
       "4    0.076923  0.809524    292\n",
       "..        ...       ...    ...\n",
       "257  1.000000  0.285714      3\n",
       "258  1.000000  0.333333      3\n",
       "259  1.000000  0.380952      1\n",
       "260  1.000000  0.523810      1\n",
       "261  1.000000  0.571429      5\n",
       "\n",
       "[262 rows x 3 columns]"
      ]
     },
     "execution_count": 26,
     "metadata": {},
     "output_type": "execute_result"
    }
   ],
   "source": [
    "lat_lon_pairs['pm2_5'].count().reset_index()# [['lat', 'lon']]"
   ]
  },
  {
   "cell_type": "code",
   "execution_count": 27,
   "id": "d03ba60f",
   "metadata": {
    "execution": {
     "iopub.execute_input": "2025-03-17T17:00:05.966696Z",
     "iopub.status.busy": "2025-03-17T17:00:05.966322Z",
     "iopub.status.idle": "2025-03-17T17:00:05.980825Z",
     "shell.execute_reply": "2025-03-17T17:00:05.979682Z"
    },
    "papermill": {
     "duration": 0.029079,
     "end_time": "2025-03-17T17:00:05.982592",
     "exception": false,
     "start_time": "2025-03-17T17:00:05.953513",
     "status": "completed"
    },
    "tags": []
   },
   "outputs": [
    {
     "data": {
      "text/plain": [
       "count     262.000000\n",
       "mean      470.095420\n",
       "std       633.341018\n",
       "min         1.000000\n",
       "25%         3.250000\n",
       "50%       175.500000\n",
       "75%       762.000000\n",
       "max      2618.000000\n",
       "Name: pm2_5, dtype: float64"
      ]
     },
     "execution_count": 27,
     "metadata": {},
     "output_type": "execute_result"
    }
   ],
   "source": [
    "# lat_lon_pairs['pm2_5'].count().plot(kind='hist', bins=20)\n",
    "# (lat_lon_pairs['pm2_5'].count() < 200).sum()\n",
    "lat_lon_pairs['pm2_5'].count().describe()"
   ]
  },
  {
   "cell_type": "code",
   "execution_count": 28,
   "id": "142848e6",
   "metadata": {
    "execution": {
     "iopub.execute_input": "2025-03-17T17:00:06.007202Z",
     "iopub.status.busy": "2025-03-17T17:00:06.006846Z",
     "iopub.status.idle": "2025-03-17T17:00:06.014701Z",
     "shell.execute_reply": "2025-03-17T17:00:06.013594Z"
    },
    "papermill": {
     "duration": 0.022358,
     "end_time": "2025-03-17T17:00:06.016643",
     "exception": false,
     "start_time": "2025-03-17T17:00:05.994285",
     "status": "completed"
    },
    "tags": []
   },
   "outputs": [],
   "source": [
    "def filter_sparse_data(df, count):\n",
    "    df = df.copy()\n",
    "    lat_lon_pairs = df.groupby(by=['lat', 'lon'])['pm2_5'].count().reset_index()\n",
    "    lat_lon_pairs = lat_lon_pairs[lat_lon_pairs['pm2_5'] >= count]\n",
    "\n",
    "    df = pd.merge(df, lat_lon_pairs[['lat', 'lon']], on = ['lat', 'lon'], how = 'inner')\n",
    "    return df, lat_lon_pairs[['lat', 'lon']]\n",
    "\n",
    "def make_dataset(lat_lon_pairs, df):\n",
    "    times_of_day = np.sort(df['timeOfDay'].unique())\n",
    "    dates = df['date_value'].unique()\n",
    "    \n",
    "    lat_lon_pairs = np.array(lat_lon_pairs)\n",
    "    lat_lon_list = list(map(tuple, lat_lon_pairs))\n",
    "    \n",
    "    # Generate all possible combinations\n",
    "    combinations = list(itertools.product(lat_lon_list, times_of_day, dates))\n",
    "    \n",
    "    # Convert to DataFrame\n",
    "    new_df = pd.DataFrame(combinations, columns=['lat_lon', 'timeOfDay', 'date_value'])\n",
    "    \n",
    "    # Split lat_lon tuple into separate columns\n",
    "    new_df[['lat', 'lon']] = pd.DataFrame(new_df['lat_lon'].tolist(), index=new_df.index)\n",
    "    \n",
    "    # Drop the combined lat_lon column\n",
    "    new_df.drop(columns=['lat_lon'], inplace=True)\n",
    "\n",
    "    new_df = new_df.sort_values(by = ['date_value', 'timeOfDay']).reset_index(drop=True)\n",
    "    \n",
    "    return new_df"
   ]
  },
  {
   "cell_type": "code",
   "execution_count": 29,
   "id": "d4805d0d",
   "metadata": {
    "execution": {
     "iopub.execute_input": "2025-03-17T17:00:06.041299Z",
     "iopub.status.busy": "2025-03-17T17:00:06.040927Z",
     "iopub.status.idle": "2025-03-17T17:00:07.343488Z",
     "shell.execute_reply": "2025-03-17T17:00:07.342324Z"
    },
    "papermill": {
     "duration": 1.316841,
     "end_time": "2025-03-17T17:00:07.345306",
     "exception": false,
     "start_time": "2025-03-17T17:00:06.028465",
     "status": "completed"
    },
    "tags": []
   },
   "outputs": [],
   "source": [
    "dense_df, lat_lon_pairs = filter_sparse_data(df, 150)\n",
    "dense_df_empty = make_dataset(lat_lon_pairs, dense_df)"
   ]
  },
  {
   "cell_type": "code",
   "execution_count": 30,
   "id": "65a3a8c5",
   "metadata": {
    "execution": {
     "iopub.execute_input": "2025-03-17T17:00:07.370358Z",
     "iopub.status.busy": "2025-03-17T17:00:07.370004Z",
     "iopub.status.idle": "2025-03-17T17:00:07.375504Z",
     "shell.execute_reply": "2025-03-17T17:00:07.374472Z"
    },
    "papermill": {
     "duration": 0.019657,
     "end_time": "2025-03-17T17:00:07.376969",
     "exception": false,
     "start_time": "2025-03-17T17:00:07.357312",
     "status": "completed"
    },
    "tags": []
   },
   "outputs": [
    {
     "data": {
      "text/plain": [
       "423605"
      ]
     },
     "execution_count": 30,
     "metadata": {},
     "output_type": "execute_result"
    }
   ],
   "source": [
    "# dense_df_empty.head()\n",
    "len(dense_df_empty)"
   ]
  },
  {
   "cell_type": "code",
   "execution_count": 31,
   "id": "3d410a89",
   "metadata": {
    "execution": {
     "iopub.execute_input": "2025-03-17T17:00:07.408999Z",
     "iopub.status.busy": "2025-03-17T17:00:07.408589Z",
     "iopub.status.idle": "2025-03-17T17:00:07.420463Z",
     "shell.execute_reply": "2025-03-17T17:00:07.419358Z"
    },
    "papermill": {
     "duration": 0.034645,
     "end_time": "2025-03-17T17:00:07.423480",
     "exception": false,
     "start_time": "2025-03-17T17:00:07.388835",
     "status": "completed"
    },
    "tags": []
   },
   "outputs": [],
   "source": [
    "def idw_dense_interpolate(df, df_original, idw):\n",
    "    df = df.copy()\n",
    "    # df['lat'] = df['lat'] * 50\n",
    "    # df['lon'] = df['lon'] * 50\n",
    "    # df['timeOfDay'] = df['timeOfDay'] * 50\n",
    "\n",
    "    df_original = df_original.copy()\n",
    "    # df_original['lat'] = df_original['lat'] * 50\n",
    "    # df_original['lon'] = df_original['lon'] * 50\n",
    "    # df_original['timeOfDay'] = df['timeOfDay'] * 50\n",
    "\n",
    "    target = idw.target\n",
    "\n",
    "    df_splitter = DataSplitter(\n",
    "        df_original.copy(), min_train_date, min_train_date+timedelta(days=1), \n",
    "        max_lookback=3, min_lookback=1\n",
    "    )\n",
    "    train_splits = df_splitter.get_train_test_split()\n",
    "    \n",
    "    test_df_splitter = DataSplitter(\n",
    "        df.copy(), min_train_date, min_train_date+timedelta(days=1), \n",
    "        max_lookback=3, min_lookback=None\n",
    "    )\n",
    "    test_splits = df_splitter.get_train_test_split()\n",
    "\n",
    "    df[target] = np.nan\n",
    "\n",
    "    idw.fit_on_splits(df_original, train_splits)\n",
    "    preds = idw.predict_on_splits(df, test_splits)\n",
    "\n",
    "    test_pred_full = []\n",
    "    test_full = []\n",
    "    index_full = []\n",
    "    for d, v in preds.items():\n",
    "        test_pred_full.append(v['pred'])\n",
    "        test_full.append(v['true'])\n",
    "        index_full.append(v['index'])\n",
    "    \n",
    "    test_pred_full = np.concatenate(test_pred_full)\n",
    "    test_full = np.concatenate(test_full)\n",
    "    index_full = np.concatenate(index_full)\n",
    "\n",
    "    new_df = pd.DataFrame({\n",
    "        # f'test_lag_{lag}': test_full,\n",
    "        f'filled_{target}': test_pred_full,\n",
    "    }, index = index_full)\n",
    "\n",
    "    print(df.shape, new_df.shape)\n",
    "    \n",
    "    df = pd.merge(df, new_df, left_index=True, right_index=True, how='outer')\n",
    "    \n",
    "    print(df.shape)\n",
    "    \n",
    "    # df[f'test_lag_{lag}'] = df[f'test_lag_{lag}'].fillna(df[f'test_lag_{lag}'].expanding().mean())\n",
    "    df[f'filled_{target}'] = df[f'filled_{target}'].fillna(df[f'filled_{target}'].expanding().mean())\n",
    "\n",
    "    df = df.ffill()\n",
    "    df = df.bfill()\n",
    "    \n",
    "    df = df.drop(columns = [target])\n",
    "\n",
    "    print(df.shape)\n",
    "\n",
    "    df = pd.merge(df, df_original[['date_value', 'timeOfDay', 'lat', 'lon', target]], \n",
    "                  how = 'left', on = ['date_value', 'timeOfDay', 'lat', 'lon'])\n",
    "\n",
    "    print(df.shape, df_original.shape)\n",
    "    \n",
    "    # return df, target\n",
    "    df[f'filled_{target}'] = df.where(df[target].isna(), df[target], axis=1)[f'filled_{target}']\n",
    "    df[f'missing_{target}'] = df[target].isna()\n",
    "\n",
    "    df[target] = df[f'filled_{target}']\n",
    "    df = df.drop(columns = [f'filled_{target}'])\n",
    "\n",
    "    # df['lat'] = df['lat'] / 50\n",
    "    # df['lon'] = df['lon'] / 50\n",
    "    # df['timeOfDay'] = df['timeOfDay'] / 50\n",
    "\n",
    "    df = df.sort_values(by=['lat', 'lon', 'date_value', 'timeOfDay'])\n",
    "\n",
    "    # df[target] = df[f'filled_{target}']\n",
    "    # df = df.drop(columns = [f'filled_{target}'])\n",
    "\n",
    "    return df"
   ]
  },
  {
   "cell_type": "code",
   "execution_count": 32,
   "id": "2030a708",
   "metadata": {
    "execution": {
     "iopub.execute_input": "2025-03-17T17:00:07.458348Z",
     "iopub.status.busy": "2025-03-17T17:00:07.457962Z",
     "iopub.status.idle": "2025-03-17T17:00:07.489219Z",
     "shell.execute_reply": "2025-03-17T17:00:07.488201Z"
    },
    "papermill": {
     "duration": 0.04873,
     "end_time": "2025-03-17T17:00:07.491039",
     "exception": false,
     "start_time": "2025-03-17T17:00:07.442309",
     "status": "completed"
    },
    "tags": []
   },
   "outputs": [
    {
     "data": {
      "text/html": [
       "<div>\n",
       "<style scoped>\n",
       "    .dataframe tbody tr th:only-of-type {\n",
       "        vertical-align: middle;\n",
       "    }\n",
       "\n",
       "    .dataframe tbody tr th {\n",
       "        vertical-align: top;\n",
       "    }\n",
       "\n",
       "    .dataframe thead th {\n",
       "        text-align: right;\n",
       "    }\n",
       "</style>\n",
       "<table border=\"1\" class=\"dataframe\">\n",
       "  <thead>\n",
       "    <tr style=\"text-align: right;\">\n",
       "      <th></th>\n",
       "      <th>date_value</th>\n",
       "      <th>timeOfDay</th>\n",
       "      <th>lat</th>\n",
       "      <th>lon</th>\n",
       "      <th>pm2_5</th>\n",
       "      <th>pm10</th>\n",
       "      <th>day_of_week</th>\n",
       "      <th>distance</th>\n",
       "      <th>bus_count</th>\n",
       "      <th>pm2_5_lag_1</th>\n",
       "      <th>...</th>\n",
       "      <th>pm2_5_lag_7</th>\n",
       "      <th>pm10_lag_7</th>\n",
       "      <th>idw_lag_1_pm2_5</th>\n",
       "      <th>idw_lag_2_pm2_5</th>\n",
       "      <th>idw_lag_3_pm2_5</th>\n",
       "      <th>idw_lag_7_pm2_5</th>\n",
       "      <th>idw_lag_1_pm10</th>\n",
       "      <th>idw_lag_2_pm10</th>\n",
       "      <th>idw_lag_3_pm10</th>\n",
       "      <th>idw_lag_7_pm10</th>\n",
       "    </tr>\n",
       "  </thead>\n",
       "  <tbody>\n",
       "    <tr>\n",
       "      <th>0</th>\n",
       "      <td>2020-11-01</td>\n",
       "      <td>0.0</td>\n",
       "      <td>0.269231</td>\n",
       "      <td>0.809524</td>\n",
       "      <td>481.37</td>\n",
       "      <td>522.53</td>\n",
       "      <td>1.0</td>\n",
       "      <td>0.001765</td>\n",
       "      <td>0.0</td>\n",
       "      <td>197.000308</td>\n",
       "      <td>...</td>\n",
       "      <td>197.253747</td>\n",
       "      <td>214.864707</td>\n",
       "      <td>197.287118</td>\n",
       "      <td>359.376438</td>\n",
       "      <td>446.796673</td>\n",
       "      <td>197.287118</td>\n",
       "      <td>231.26935</td>\n",
       "      <td>389.966421</td>\n",
       "      <td>481.86334</td>\n",
       "      <td>231.26935</td>\n",
       "    </tr>\n",
       "    <tr>\n",
       "      <th>1</th>\n",
       "      <td>2020-11-01</td>\n",
       "      <td>0.0</td>\n",
       "      <td>0.307692</td>\n",
       "      <td>0.761905</td>\n",
       "      <td>471.18</td>\n",
       "      <td>513.50</td>\n",
       "      <td>1.0</td>\n",
       "      <td>0.001765</td>\n",
       "      <td>0.0</td>\n",
       "      <td>197.000308</td>\n",
       "      <td>...</td>\n",
       "      <td>197.253747</td>\n",
       "      <td>214.864707</td>\n",
       "      <td>197.287118</td>\n",
       "      <td>359.376438</td>\n",
       "      <td>446.796673</td>\n",
       "      <td>197.287118</td>\n",
       "      <td>231.26935</td>\n",
       "      <td>389.966421</td>\n",
       "      <td>481.86334</td>\n",
       "      <td>231.26935</td>\n",
       "    </tr>\n",
       "    <tr>\n",
       "      <th>2</th>\n",
       "      <td>2020-11-01</td>\n",
       "      <td>0.0</td>\n",
       "      <td>0.346154</td>\n",
       "      <td>0.714286</td>\n",
       "      <td>462.44</td>\n",
       "      <td>503.81</td>\n",
       "      <td>1.0</td>\n",
       "      <td>0.001765</td>\n",
       "      <td>0.0</td>\n",
       "      <td>197.000308</td>\n",
       "      <td>...</td>\n",
       "      <td>197.253747</td>\n",
       "      <td>214.864707</td>\n",
       "      <td>197.287118</td>\n",
       "      <td>359.376438</td>\n",
       "      <td>446.796673</td>\n",
       "      <td>197.287118</td>\n",
       "      <td>231.26935</td>\n",
       "      <td>389.966421</td>\n",
       "      <td>481.86334</td>\n",
       "      <td>231.26935</td>\n",
       "    </tr>\n",
       "    <tr>\n",
       "      <th>3</th>\n",
       "      <td>2020-11-01</td>\n",
       "      <td>0.0</td>\n",
       "      <td>0.346154</td>\n",
       "      <td>0.761905</td>\n",
       "      <td>468.14</td>\n",
       "      <td>507.55</td>\n",
       "      <td>1.0</td>\n",
       "      <td>0.001765</td>\n",
       "      <td>0.0</td>\n",
       "      <td>197.000308</td>\n",
       "      <td>...</td>\n",
       "      <td>197.253747</td>\n",
       "      <td>214.864707</td>\n",
       "      <td>197.287118</td>\n",
       "      <td>359.376438</td>\n",
       "      <td>446.796673</td>\n",
       "      <td>197.287118</td>\n",
       "      <td>231.26935</td>\n",
       "      <td>389.966421</td>\n",
       "      <td>481.86334</td>\n",
       "      <td>231.26935</td>\n",
       "    </tr>\n",
       "    <tr>\n",
       "      <th>4</th>\n",
       "      <td>2020-11-01</td>\n",
       "      <td>0.0</td>\n",
       "      <td>0.384615</td>\n",
       "      <td>0.714286</td>\n",
       "      <td>462.68</td>\n",
       "      <td>505.21</td>\n",
       "      <td>1.0</td>\n",
       "      <td>0.001765</td>\n",
       "      <td>0.0</td>\n",
       "      <td>197.000308</td>\n",
       "      <td>...</td>\n",
       "      <td>197.253747</td>\n",
       "      <td>214.864707</td>\n",
       "      <td>197.287118</td>\n",
       "      <td>359.376438</td>\n",
       "      <td>446.796673</td>\n",
       "      <td>197.287118</td>\n",
       "      <td>231.26935</td>\n",
       "      <td>389.966421</td>\n",
       "      <td>481.86334</td>\n",
       "      <td>231.26935</td>\n",
       "    </tr>\n",
       "  </tbody>\n",
       "</table>\n",
       "<p>5 rows × 25 columns</p>\n",
       "</div>"
      ],
      "text/plain": [
       "  date_value  timeOfDay       lat       lon   pm2_5    pm10  day_of_week  \\\n",
       "0 2020-11-01        0.0  0.269231  0.809524  481.37  522.53          1.0   \n",
       "1 2020-11-01        0.0  0.307692  0.761905  471.18  513.50          1.0   \n",
       "2 2020-11-01        0.0  0.346154  0.714286  462.44  503.81          1.0   \n",
       "3 2020-11-01        0.0  0.346154  0.761905  468.14  507.55          1.0   \n",
       "4 2020-11-01        0.0  0.384615  0.714286  462.68  505.21          1.0   \n",
       "\n",
       "   distance  bus_count  pm2_5_lag_1  ...  pm2_5_lag_7  pm10_lag_7  \\\n",
       "0  0.001765        0.0   197.000308  ...   197.253747  214.864707   \n",
       "1  0.001765        0.0   197.000308  ...   197.253747  214.864707   \n",
       "2  0.001765        0.0   197.000308  ...   197.253747  214.864707   \n",
       "3  0.001765        0.0   197.000308  ...   197.253747  214.864707   \n",
       "4  0.001765        0.0   197.000308  ...   197.253747  214.864707   \n",
       "\n",
       "   idw_lag_1_pm2_5  idw_lag_2_pm2_5  idw_lag_3_pm2_5  idw_lag_7_pm2_5  \\\n",
       "0       197.287118       359.376438       446.796673       197.287118   \n",
       "1       197.287118       359.376438       446.796673       197.287118   \n",
       "2       197.287118       359.376438       446.796673       197.287118   \n",
       "3       197.287118       359.376438       446.796673       197.287118   \n",
       "4       197.287118       359.376438       446.796673       197.287118   \n",
       "\n",
       "   idw_lag_1_pm10  idw_lag_2_pm10  idw_lag_3_pm10  idw_lag_7_pm10  \n",
       "0       231.26935      389.966421       481.86334       231.26935  \n",
       "1       231.26935      389.966421       481.86334       231.26935  \n",
       "2       231.26935      389.966421       481.86334       231.26935  \n",
       "3       231.26935      389.966421       481.86334       231.26935  \n",
       "4       231.26935      389.966421       481.86334       231.26935  \n",
       "\n",
       "[5 rows x 25 columns]"
      ]
     },
     "execution_count": 32,
     "metadata": {},
     "output_type": "execute_result"
    }
   ],
   "source": [
    "df.head()"
   ]
  },
  {
   "cell_type": "code",
   "execution_count": 33,
   "id": "f21c6bdf",
   "metadata": {
    "execution": {
     "iopub.execute_input": "2025-03-17T17:00:07.516334Z",
     "iopub.status.busy": "2025-03-17T17:00:07.515931Z",
     "iopub.status.idle": "2025-03-17T17:00:19.668863Z",
     "shell.execute_reply": "2025-03-17T17:00:19.667743Z"
    },
    "papermill": {
     "duration": 12.167711,
     "end_time": "2025-03-17T17:00:19.670678",
     "exception": false,
     "start_time": "2025-03-17T17:00:07.502967",
     "status": "completed"
    },
    "tags": []
   },
   "outputs": [
    {
     "name": "stdout",
     "output_type": "stream",
     "text": [
      "(423605, 5) (121036, 1)\n",
      "(423605, 6)\n",
      "(423605, 5)\n",
      "(423605, 6) (123165, 25)\n",
      "(423605, 7) (121036, 1)\n",
      "(423605, 8)\n",
      "(423605, 7)\n",
      "(423605, 8) (123165, 25)\n",
      "(423605, 9) (121036, 1)\n",
      "(423605, 10)\n",
      "(423605, 9)\n",
      "(423605, 10) (123165, 25)\n",
      "(423605, 11) (121036, 1)\n",
      "(423605, 12)\n",
      "(423605, 11)\n",
      "(423605, 12) (123165, 25)\n"
     ]
    }
   ],
   "source": [
    "traffic_idw_model = Model(\n",
    "    IDW,\n",
    "    params={'leafsize': 50, 'power': 3, 'k': 3},\n",
    "    target='distance',\n",
    "    features = ['timeOfDay', 'lat', 'lon']\n",
    ")\n",
    "\n",
    "bus_idw_model = Model(\n",
    "    IDW,\n",
    "    params={'leafsize': 50, 'power': 3, 'k': 3},\n",
    "    target='bus_count',\n",
    "    features = ['timeOfDay', 'lat', 'lon']\n",
    ")\n",
    "\n",
    "pm25_idw_model = Model(\n",
    "    IDW,\n",
    "    params={'leafsize': 50, 'power': 3, 'k': 3},\n",
    "    target='pm2_5',\n",
    "    features = ['timeOfDay', 'lat', 'lon']\n",
    ")\n",
    "\n",
    "pm10_idw_model = Model(\n",
    "    IDW,\n",
    "    params={'leafsize': 50, 'power': 3, 'k': 3},\n",
    "    target='pm10',\n",
    "    features = ['timeOfDay', 'lat', 'lon']\n",
    ")\n",
    "\n",
    "idw_models = [traffic_idw_model, bus_idw_model, pm25_idw_model, pm10_idw_model]\n",
    "\n",
    "for idw_model in idw_models:\n",
    "    dense_df_empty = idw_dense_interpolate(dense_df_empty, df, idw_model)"
   ]
  },
  {
   "cell_type": "code",
   "execution_count": 34,
   "id": "4e48be4e",
   "metadata": {
    "execution": {
     "iopub.execute_input": "2025-03-17T17:00:19.696960Z",
     "iopub.status.busy": "2025-03-17T17:00:19.696560Z",
     "iopub.status.idle": "2025-03-17T17:00:19.702153Z",
     "shell.execute_reply": "2025-03-17T17:00:19.701163Z"
    },
    "papermill": {
     "duration": 0.020544,
     "end_time": "2025-03-17T17:00:19.703880",
     "exception": false,
     "start_time": "2025-03-17T17:00:19.683336",
     "status": "completed"
    },
    "tags": []
   },
   "outputs": [
    {
     "data": {
      "text/plain": [
       "423605"
      ]
     },
     "execution_count": 34,
     "metadata": {},
     "output_type": "execute_result"
    }
   ],
   "source": [
    "dense_df = dense_df_empty\n",
    "len(dense_df)"
   ]
  },
  {
   "cell_type": "code",
   "execution_count": 35,
   "id": "e6d7171d",
   "metadata": {
    "execution": {
     "iopub.execute_input": "2025-03-17T17:00:19.729999Z",
     "iopub.status.busy": "2025-03-17T17:00:19.729601Z",
     "iopub.status.idle": "2025-03-17T17:00:19.744116Z",
     "shell.execute_reply": "2025-03-17T17:00:19.742986Z"
    },
    "papermill": {
     "duration": 0.029597,
     "end_time": "2025-03-17T17:00:19.745989",
     "exception": false,
     "start_time": "2025-03-17T17:00:19.716392",
     "status": "completed"
    },
    "tags": []
   },
   "outputs": [],
   "source": [
    "dense_df['missing'] = dense_df['missing_pm10']\n",
    "dense_df.drop(columns = ['missing_distance', 'missing_bus_count', 'missing_pm10', 'missing_pm2_5'], \n",
    "              inplace=True)"
   ]
  },
  {
   "cell_type": "code",
   "execution_count": 36,
   "id": "e8f7ed3c",
   "metadata": {
    "execution": {
     "iopub.execute_input": "2025-03-17T17:00:19.772705Z",
     "iopub.status.busy": "2025-03-17T17:00:19.772294Z",
     "iopub.status.idle": "2025-03-17T17:00:19.779028Z",
     "shell.execute_reply": "2025-03-17T17:00:19.778012Z"
    },
    "papermill": {
     "duration": 0.021671,
     "end_time": "2025-03-17T17:00:19.780571",
     "exception": false,
     "start_time": "2025-03-17T17:00:19.758900",
     "status": "completed"
    },
    "tags": []
   },
   "outputs": [
    {
     "data": {
      "text/plain": [
       "0.713374488025401"
      ]
     },
     "execution_count": 36,
     "metadata": {},
     "output_type": "execute_result"
    }
   ],
   "source": [
    "dense_df['missing'].mean()"
   ]
  },
  {
   "cell_type": "code",
   "execution_count": 37,
   "id": "0867a1dc",
   "metadata": {
    "execution": {
     "iopub.execute_input": "2025-03-17T17:00:19.807127Z",
     "iopub.status.busy": "2025-03-17T17:00:19.806703Z",
     "iopub.status.idle": "2025-03-17T17:00:24.742569Z",
     "shell.execute_reply": "2025-03-17T17:00:24.741430Z"
    },
    "papermill": {
     "duration": 4.951146,
     "end_time": "2025-03-17T17:00:24.744458",
     "exception": false,
     "start_time": "2025-03-17T17:00:19.793312",
     "status": "completed"
    },
    "tags": []
   },
   "outputs": [],
   "source": [
    "dense_df.to_csv('dense_df.csv')"
   ]
  },
  {
   "cell_type": "code",
   "execution_count": 38,
   "id": "1949dc7d",
   "metadata": {
    "execution": {
     "iopub.execute_input": "2025-03-17T17:00:24.772775Z",
     "iopub.status.busy": "2025-03-17T17:00:24.772386Z",
     "iopub.status.idle": "2025-03-17T17:00:24.776346Z",
     "shell.execute_reply": "2025-03-17T17:00:24.775412Z"
    },
    "papermill": {
     "duration": 0.018957,
     "end_time": "2025-03-17T17:00:24.777939",
     "exception": false,
     "start_time": "2025-03-17T17:00:24.758982",
     "status": "completed"
    },
    "tags": []
   },
   "outputs": [],
   "source": [
    "# df['day_of_week'] = pd.to_datetime(df[date_column]).dt.day_name()"
   ]
  },
  {
   "cell_type": "code",
   "execution_count": 39,
   "id": "336619f6",
   "metadata": {
    "execution": {
     "iopub.execute_input": "2025-03-17T17:00:24.805451Z",
     "iopub.status.busy": "2025-03-17T17:00:24.805121Z",
     "iopub.status.idle": "2025-03-17T17:00:24.821946Z",
     "shell.execute_reply": "2025-03-17T17:00:24.820738Z"
    },
    "papermill": {
     "duration": 0.032288,
     "end_time": "2025-03-17T17:00:24.823402",
     "exception": false,
     "start_time": "2025-03-17T17:00:24.791114",
     "status": "completed"
    },
    "tags": []
   },
   "outputs": [
    {
     "name": "stderr",
     "output_type": "stream",
     "text": [
      "/usr/local/lib/python3.10/dist-packages/pandas/io/formats/format.py:1458: RuntimeWarning: invalid value encountered in greater\n",
      "  has_large_values = (abs_vals > 1e6).any()\n",
      "/usr/local/lib/python3.10/dist-packages/pandas/io/formats/format.py:1459: RuntimeWarning: invalid value encountered in less\n",
      "  has_small_values = ((abs_vals < 10 ** (-self.digits)) & (abs_vals > 0)).any()\n",
      "/usr/local/lib/python3.10/dist-packages/pandas/io/formats/format.py:1459: RuntimeWarning: invalid value encountered in greater\n",
      "  has_small_values = ((abs_vals < 10 ** (-self.digits)) & (abs_vals > 0)).any()\n"
     ]
    },
    {
     "data": {
      "text/html": [
       "<div>\n",
       "<style scoped>\n",
       "    .dataframe tbody tr th:only-of-type {\n",
       "        vertical-align: middle;\n",
       "    }\n",
       "\n",
       "    .dataframe tbody tr th {\n",
       "        vertical-align: top;\n",
       "    }\n",
       "\n",
       "    .dataframe thead th {\n",
       "        text-align: right;\n",
       "    }\n",
       "</style>\n",
       "<table border=\"1\" class=\"dataframe\">\n",
       "  <thead>\n",
       "    <tr style=\"text-align: right;\">\n",
       "      <th></th>\n",
       "      <th>timeOfDay</th>\n",
       "      <th>date_value</th>\n",
       "      <th>lat</th>\n",
       "      <th>lon</th>\n",
       "      <th>distance</th>\n",
       "      <th>bus_count</th>\n",
       "      <th>pm2_5</th>\n",
       "      <th>pm10</th>\n",
       "      <th>missing</th>\n",
       "    </tr>\n",
       "  </thead>\n",
       "  <tbody>\n",
       "    <tr>\n",
       "      <th>0</th>\n",
       "      <td>0.000000</td>\n",
       "      <td>2020-11-01</td>\n",
       "      <td>0.038462</td>\n",
       "      <td>0.904762</td>\n",
       "      <td>0.000447</td>\n",
       "      <td>0.000000</td>\n",
       "      <td>134.703256</td>\n",
       "      <td>149.744402</td>\n",
       "      <td>True</td>\n",
       "    </tr>\n",
       "    <tr>\n",
       "      <th>133</th>\n",
       "      <td>0.029412</td>\n",
       "      <td>2020-11-01</td>\n",
       "      <td>0.038462</td>\n",
       "      <td>0.904762</td>\n",
       "      <td>0.000447</td>\n",
       "      <td>0.039709</td>\n",
       "      <td>224.655876</td>\n",
       "      <td>249.598959</td>\n",
       "      <td>True</td>\n",
       "    </tr>\n",
       "    <tr>\n",
       "      <th>266</th>\n",
       "      <td>0.058824</td>\n",
       "      <td>2020-11-01</td>\n",
       "      <td>0.038462</td>\n",
       "      <td>0.904762</td>\n",
       "      <td>0.000447</td>\n",
       "      <td>0.042062</td>\n",
       "      <td>225.761553</td>\n",
       "      <td>NaN</td>\n",
       "      <td>False</td>\n",
       "    </tr>\n",
       "    <tr>\n",
       "      <th>399</th>\n",
       "      <td>0.088235</td>\n",
       "      <td>2020-11-01</td>\n",
       "      <td>0.038462</td>\n",
       "      <td>0.904762</td>\n",
       "      <td>0.000447</td>\n",
       "      <td>0.055838</td>\n",
       "      <td>228.781863</td>\n",
       "      <td>251.861934</td>\n",
       "      <td>True</td>\n",
       "    </tr>\n",
       "    <tr>\n",
       "      <th>532</th>\n",
       "      <td>0.117647</td>\n",
       "      <td>2020-11-01</td>\n",
       "      <td>0.038462</td>\n",
       "      <td>0.904762</td>\n",
       "      <td>0.000447</td>\n",
       "      <td>0.061136</td>\n",
       "      <td>231.063874</td>\n",
       "      <td>253.796266</td>\n",
       "      <td>True</td>\n",
       "    </tr>\n",
       "  </tbody>\n",
       "</table>\n",
       "</div>"
      ],
      "text/plain": [
       "     timeOfDay date_value       lat       lon  distance  bus_count  \\\n",
       "0     0.000000 2020-11-01  0.038462  0.904762  0.000447   0.000000   \n",
       "133   0.029412 2020-11-01  0.038462  0.904762  0.000447   0.039709   \n",
       "266   0.058824 2020-11-01  0.038462  0.904762  0.000447   0.042062   \n",
       "399   0.088235 2020-11-01  0.038462  0.904762  0.000447   0.055838   \n",
       "532   0.117647 2020-11-01  0.038462  0.904762  0.000447   0.061136   \n",
       "\n",
       "          pm2_5        pm10  missing  \n",
       "0    134.703256  149.744402     True  \n",
       "133  224.655876  249.598959     True  \n",
       "266  225.761553         NaN    False  \n",
       "399  228.781863  251.861934     True  \n",
       "532  231.063874  253.796266     True  "
      ]
     },
     "execution_count": 39,
     "metadata": {},
     "output_type": "execute_result"
    }
   ],
   "source": [
    "dense_df.head()"
   ]
  },
  {
   "cell_type": "code",
   "execution_count": 40,
   "id": "c7914089",
   "metadata": {
    "execution": {
     "iopub.execute_input": "2025-03-17T17:00:24.850125Z",
     "iopub.status.busy": "2025-03-17T17:00:24.849738Z",
     "iopub.status.idle": "2025-03-17T17:00:24.860122Z",
     "shell.execute_reply": "2025-03-17T17:00:24.858863Z"
    },
    "papermill": {
     "duration": 0.025721,
     "end_time": "2025-03-17T17:00:24.861886",
     "exception": false,
     "start_time": "2025-03-17T17:00:24.836165",
     "status": "completed"
    },
    "tags": []
   },
   "outputs": [
    {
     "data": {
      "text/plain": [
       "35"
      ]
     },
     "execution_count": 40,
     "metadata": {},
     "output_type": "execute_result"
    }
   ],
   "source": [
    "len(dense_df.timeOfDay.unique())"
   ]
  },
  {
   "cell_type": "markdown",
   "id": "5326d66d",
   "metadata": {
    "papermill": {
     "duration": 0.012373,
     "end_time": "2025-03-17T17:00:24.887221",
     "exception": false,
     "start_time": "2025-03-17T17:00:24.874848",
     "status": "completed"
    },
    "tags": []
   },
   "source": [
    "## Full Dense for Evaluation"
   ]
  },
  {
   "cell_type": "code",
   "execution_count": 41,
   "id": "5c9ff276",
   "metadata": {
    "execution": {
     "iopub.execute_input": "2025-03-17T17:00:24.914038Z",
     "iopub.status.busy": "2025-03-17T17:00:24.913616Z",
     "iopub.status.idle": "2025-03-17T17:00:54.178530Z",
     "shell.execute_reply": "2025-03-17T17:00:54.177472Z"
    },
    "papermill": {
     "duration": 29.280619,
     "end_time": "2025-03-17T17:00:54.180494",
     "exception": false,
     "start_time": "2025-03-17T17:00:24.899875",
     "status": "completed"
    },
    "tags": []
   },
   "outputs": [
    {
     "name": "stdout",
     "output_type": "stream",
     "text": [
      "834470\n",
      "(834470, 5) (121036, 1)\n",
      "(834470, 6)\n",
      "(834470, 5)\n",
      "(834470, 6) (123165, 25)\n",
      "(834470, 7) (121036, 1)\n",
      "(834470, 8)\n",
      "(834470, 7)\n",
      "(834470, 8) (123165, 25)\n",
      "(834470, 9) (121036, 1)\n",
      "(834470, 10)\n",
      "(834470, 9)\n",
      "(834470, 10) (123165, 25)\n",
      "(834470, 11) (121036, 1)\n",
      "(834470, 12)\n",
      "(834470, 11)\n",
      "(834470, 12) (123165, 25)\n",
      "834470\n",
      "0.8524033218689707\n"
     ]
    }
   ],
   "source": [
    "dense_df, lat_lon_pairs = filter_sparse_data(df, 0)\n",
    "dense_df_empty = make_dataset(lat_lon_pairs, dense_df)\n",
    "print(len(dense_df_empty))\n",
    "\n",
    "traffic_idw_model = Model(\n",
    "    IDW,\n",
    "    params={'leafsize': 50, 'power': 3, 'k': 3},\n",
    "    target='distance',\n",
    "    features = ['timeOfDay', 'lat', 'lon']\n",
    ")\n",
    "\n",
    "bus_idw_model = Model(\n",
    "    IDW,\n",
    "    params={'leafsize': 50, 'power': 3, 'k': 3},\n",
    "    target='bus_count',\n",
    "    features = ['timeOfDay', 'lat', 'lon']\n",
    ")\n",
    "\n",
    "pm25_idw_model = Model(\n",
    "    IDW,\n",
    "    params={'leafsize': 50, 'power': 3, 'k': 3},\n",
    "    target='pm2_5',\n",
    "    features = ['timeOfDay', 'lat', 'lon']\n",
    ")\n",
    "\n",
    "pm10_idw_model = Model(\n",
    "    IDW,\n",
    "    params={'leafsize': 50, 'power': 3, 'k': 3},\n",
    "    target='pm10',\n",
    "    features = ['timeOfDay', 'lat', 'lon']\n",
    ")\n",
    "\n",
    "idw_models = [traffic_idw_model, bus_idw_model, pm25_idw_model, pm10_idw_model]\n",
    "\n",
    "for idw_model in idw_models:\n",
    "    dense_df_empty = idw_dense_interpolate(dense_df_empty, df, idw_model)\n",
    "\n",
    "dense_df = dense_df_empty\n",
    "print(len(dense_df))\n",
    "\n",
    "dense_df['missing'] = dense_df['missing_pm10']\n",
    "dense_df.drop(columns = ['missing_distance', 'missing_bus_count', 'missing_pm10', 'missing_pm2_5'], \n",
    "              inplace=True)\n",
    "\n",
    "print(dense_df['missing'].mean())\n",
    "\n",
    "dense_df.to_csv('full_dense_df.csv')"
   ]
  },
  {
   "cell_type": "code",
   "execution_count": 42,
   "id": "ab33e1b8",
   "metadata": {
    "execution": {
     "iopub.execute_input": "2025-03-17T17:00:54.208995Z",
     "iopub.status.busy": "2025-03-17T17:00:54.208557Z",
     "iopub.status.idle": "2025-03-17T17:00:54.214693Z",
     "shell.execute_reply": "2025-03-17T17:00:54.213567Z"
    },
    "papermill": {
     "duration": 0.02219,
     "end_time": "2025-03-17T17:00:54.216438",
     "exception": false,
     "start_time": "2025-03-17T17:00:54.194248",
     "status": "completed"
    },
    "tags": []
   },
   "outputs": [
    {
     "data": {
      "text/plain": [
       "['LightGBM_evaluation.json',\n",
       " 'Ridge_evaluation.json',\n",
       " 'LightGBM_model.pkl',\n",
       " 'XGB_evaluation.json',\n",
       " 'dense_df.csv',\n",
       " 'full_dense_df.csv',\n",
       " '__notebook__.ipynb',\n",
       " 'Ridge_model.pkl',\n",
       " 'CatBoostRegressor_evaluation.json',\n",
       " 'catboost_info',\n",
       " 'engineered_df.csv',\n",
       " 'CatBoostRegressor_model.pkl',\n",
       " 'XGB_model.pkl']"
      ]
     },
     "execution_count": 42,
     "metadata": {},
     "output_type": "execute_result"
    }
   ],
   "source": [
    "os.listdir()"
   ]
  },
  {
   "cell_type": "code",
   "execution_count": null,
   "id": "e8cd8276",
   "metadata": {
    "papermill": {
     "duration": 0.013214,
     "end_time": "2025-03-17T17:00:54.243721",
     "exception": false,
     "start_time": "2025-03-17T17:00:54.230507",
     "status": "completed"
    },
    "tags": []
   },
   "outputs": [],
   "source": []
  }
 ],
 "metadata": {
  "kaggle": {
   "accelerator": "none",
   "dataSources": [
    {
     "sourceId": 226700844,
     "sourceType": "kernelVersion"
    }
   ],
   "dockerImageVersionId": 30918,
   "isGpuEnabled": false,
   "isInternetEnabled": true,
   "language": "python",
   "sourceType": "notebook"
  },
  "kernelspec": {
   "display_name": "Python 3",
   "language": "python",
   "name": "python3"
  },
  "language_info": {
   "codemirror_mode": {
    "name": "ipython",
    "version": 3
   },
   "file_extension": ".py",
   "mimetype": "text/x-python",
   "name": "python",
   "nbconvert_exporter": "python",
   "pygments_lexer": "ipython3",
   "version": "3.10.12"
  },
  "papermill": {
   "default_parameters": {},
   "duration": 756.686798,
   "end_time": "2025-03-17T17:00:55.281384",
   "environment_variables": {},
   "exception": null,
   "input_path": "__notebook__.ipynb",
   "output_path": "__notebook__.ipynb",
   "parameters": {},
   "start_time": "2025-03-17T16:48:18.594586",
   "version": "2.6.0"
  }
 },
 "nbformat": 4,
 "nbformat_minor": 5
}
