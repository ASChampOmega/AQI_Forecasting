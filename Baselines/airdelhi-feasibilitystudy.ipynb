{
 "cells": [
  {
   "cell_type": "markdown",
   "id": "8e12bd44",
   "metadata": {
    "papermill": {
     "duration": 0.007245,
     "end_time": "2025-03-07T23:29:11.103782",
     "exception": false,
     "start_time": "2025-03-07T23:29:11.096537",
     "status": "completed"
    },
    "tags": []
   },
   "source": [
    "# Air Delhi Dataset Reproducibility Study\n",
    "\n",
    "The purpose of this notebook is to assess the feasibility of developing further models on this dataset\n"
   ]
  },
  {
   "cell_type": "markdown",
   "id": "0708747a",
   "metadata": {
    "papermill": {
     "duration": 0.006498,
     "end_time": "2025-03-07T23:29:11.117045",
     "exception": false,
     "start_time": "2025-03-07T23:29:11.110547",
     "status": "completed"
    },
    "tags": []
   },
   "source": [
    "**Config**"
   ]
  },
  {
   "cell_type": "code",
   "execution_count": 1,
   "id": "fe427a26",
   "metadata": {
    "execution": {
     "iopub.execute_input": "2025-03-07T23:29:11.133273Z",
     "iopub.status.busy": "2025-03-07T23:29:11.132814Z",
     "iopub.status.idle": "2025-03-07T23:29:11.138498Z",
     "shell.execute_reply": "2025-03-07T23:29:11.137534Z"
    },
    "papermill": {
     "duration": 0.014837,
     "end_time": "2025-03-07T23:29:11.140191",
     "exception": false,
     "start_time": "2025-03-07T23:29:11.125354",
     "status": "completed"
    },
    "tags": []
   },
   "outputs": [],
   "source": [
    "DATA_FOLDER = '/kaggle/input/airdelhi-dataset/PM Datasets/'\n",
    "datadir = DATA_FOLDER"
   ]
  },
  {
   "cell_type": "markdown",
   "id": "1065f15b",
   "metadata": {
    "papermill": {
     "duration": 0.006232,
     "end_time": "2025-03-07T23:29:11.153061",
     "exception": false,
     "start_time": "2025-03-07T23:29:11.146829",
     "status": "completed"
    },
    "tags": []
   },
   "source": [
    "## Preprocessing"
   ]
  },
  {
   "cell_type": "code",
   "execution_count": 2,
   "id": "660e288e",
   "metadata": {
    "_kg_hide-input": true,
    "_kg_hide-output": true,
    "execution": {
     "iopub.execute_input": "2025-03-07T23:29:11.167654Z",
     "iopub.status.busy": "2025-03-07T23:29:11.167302Z",
     "iopub.status.idle": "2025-03-07T23:33:11.637816Z",
     "shell.execute_reply": "2025-03-07T23:33:11.636579Z"
    },
    "papermill": {
     "duration": 240.48008,
     "end_time": "2025-03-07T23:33:11.639653",
     "exception": false,
     "start_time": "2025-03-07T23:29:11.159573",
     "status": "completed"
    },
    "tags": []
   },
   "outputs": [
    {
     "name": "stdout",
     "output_type": "stream",
     "text": [
      "Cuda: False | Device: cpu\n",
      "Num Sensors: 60\n",
      "Policy: random\n",
      "Reading 2020-11-12_all.csv\n"
     ]
    },
    {
     "name": "stderr",
     "output_type": "stream",
     "text": [
      "<ipython-input-2-622e561bc805>:92: SettingWithCopyWarning: \n",
      "A value is trying to be set on a copy of a slice from a DataFrame.\n",
      "Try using .loc[row_indexer,col_indexer] = value instead\n",
      "\n",
      "See the caveats in the documentation: https://pandas.pydata.org/pandas-docs/stable/user_guide/indexing.html#returning-a-view-versus-a-copy\n",
      "  dfHour.dateTime = dfHour.dateTime.dt.round('{}min'.format(grouptime))\n",
      "<ipython-input-2-622e561bc805>:93: SettingWithCopyWarning: \n",
      "A value is trying to be set on a copy of a slice from a DataFrame.\n",
      "Try using .loc[row_indexer,col_indexer] = value instead\n",
      "\n",
      "See the caveats in the documentation: https://pandas.pydata.org/pandas-docs/stable/user_guide/indexing.html#returning-a-view-versus-a-copy\n",
      "  dfHour.dateTime = pd.to_datetime(dfHour.dateTime)\n",
      "<ipython-input-2-622e561bc805>:95: SettingWithCopyWarning: \n",
      "A value is trying to be set on a copy of a slice from a DataFrame.\n",
      "Try using .loc[row_indexer,col_indexer] = value instead\n",
      "\n",
      "See the caveats in the documentation: https://pandas.pydata.org/pandas-docs/stable/user_guide/indexing.html#returning-a-view-versus-a-copy\n",
      "  dfHour.dateTime = dfHour.dateTime.dt.hour*60+dfHour.dateTime.dt.minute\n",
      "<ipython-input-2-622e561bc805>:96: SettingWithCopyWarning: \n",
      "A value is trying to be set on a copy of a slice from a DataFrame.\n",
      "Try using .loc[row_indexer,col_indexer] = value instead\n",
      "\n",
      "See the caveats in the documentation: https://pandas.pydata.org/pandas-docs/stable/user_guide/indexing.html#returning-a-view-versus-a-copy\n",
      "  dfHour.dateTime %= 1440\n"
     ]
    },
    {
     "name": "stdout",
     "output_type": "stream",
     "text": [
      "Reading 2020-11-13_all.csv\n"
     ]
    },
    {
     "name": "stderr",
     "output_type": "stream",
     "text": [
      "<ipython-input-2-622e561bc805>:92: SettingWithCopyWarning: \n",
      "A value is trying to be set on a copy of a slice from a DataFrame.\n",
      "Try using .loc[row_indexer,col_indexer] = value instead\n",
      "\n",
      "See the caveats in the documentation: https://pandas.pydata.org/pandas-docs/stable/user_guide/indexing.html#returning-a-view-versus-a-copy\n",
      "  dfHour.dateTime = dfHour.dateTime.dt.round('{}min'.format(grouptime))\n",
      "<ipython-input-2-622e561bc805>:93: SettingWithCopyWarning: \n",
      "A value is trying to be set on a copy of a slice from a DataFrame.\n",
      "Try using .loc[row_indexer,col_indexer] = value instead\n",
      "\n",
      "See the caveats in the documentation: https://pandas.pydata.org/pandas-docs/stable/user_guide/indexing.html#returning-a-view-versus-a-copy\n",
      "  dfHour.dateTime = pd.to_datetime(dfHour.dateTime)\n",
      "<ipython-input-2-622e561bc805>:95: SettingWithCopyWarning: \n",
      "A value is trying to be set on a copy of a slice from a DataFrame.\n",
      "Try using .loc[row_indexer,col_indexer] = value instead\n",
      "\n",
      "See the caveats in the documentation: https://pandas.pydata.org/pandas-docs/stable/user_guide/indexing.html#returning-a-view-versus-a-copy\n",
      "  dfHour.dateTime = dfHour.dateTime.dt.hour*60+dfHour.dateTime.dt.minute\n",
      "<ipython-input-2-622e561bc805>:96: SettingWithCopyWarning: \n",
      "A value is trying to be set on a copy of a slice from a DataFrame.\n",
      "Try using .loc[row_indexer,col_indexer] = value instead\n",
      "\n",
      "See the caveats in the documentation: https://pandas.pydata.org/pandas-docs/stable/user_guide/indexing.html#returning-a-view-versus-a-copy\n",
      "  dfHour.dateTime %= 1440\n"
     ]
    },
    {
     "name": "stdout",
     "output_type": "stream",
     "text": [
      "Reading 2020-11-14_all.csv\n"
     ]
    },
    {
     "name": "stderr",
     "output_type": "stream",
     "text": [
      "<ipython-input-2-622e561bc805>:92: SettingWithCopyWarning: \n",
      "A value is trying to be set on a copy of a slice from a DataFrame.\n",
      "Try using .loc[row_indexer,col_indexer] = value instead\n",
      "\n",
      "See the caveats in the documentation: https://pandas.pydata.org/pandas-docs/stable/user_guide/indexing.html#returning-a-view-versus-a-copy\n",
      "  dfHour.dateTime = dfHour.dateTime.dt.round('{}min'.format(grouptime))\n",
      "<ipython-input-2-622e561bc805>:93: SettingWithCopyWarning: \n",
      "A value is trying to be set on a copy of a slice from a DataFrame.\n",
      "Try using .loc[row_indexer,col_indexer] = value instead\n",
      "\n",
      "See the caveats in the documentation: https://pandas.pydata.org/pandas-docs/stable/user_guide/indexing.html#returning-a-view-versus-a-copy\n",
      "  dfHour.dateTime = pd.to_datetime(dfHour.dateTime)\n",
      "<ipython-input-2-622e561bc805>:95: SettingWithCopyWarning: \n",
      "A value is trying to be set on a copy of a slice from a DataFrame.\n",
      "Try using .loc[row_indexer,col_indexer] = value instead\n",
      "\n",
      "See the caveats in the documentation: https://pandas.pydata.org/pandas-docs/stable/user_guide/indexing.html#returning-a-view-versus-a-copy\n",
      "  dfHour.dateTime = dfHour.dateTime.dt.hour*60+dfHour.dateTime.dt.minute\n",
      "<ipython-input-2-622e561bc805>:96: SettingWithCopyWarning: \n",
      "A value is trying to be set on a copy of a slice from a DataFrame.\n",
      "Try using .loc[row_indexer,col_indexer] = value instead\n",
      "\n",
      "See the caveats in the documentation: https://pandas.pydata.org/pandas-docs/stable/user_guide/indexing.html#returning-a-view-versus-a-copy\n",
      "  dfHour.dateTime %= 1440\n"
     ]
    },
    {
     "name": "stdout",
     "output_type": "stream",
     "text": [
      "Reading 2020-11-15_all.csv\n"
     ]
    },
    {
     "name": "stderr",
     "output_type": "stream",
     "text": [
      "<ipython-input-2-622e561bc805>:92: SettingWithCopyWarning: \n",
      "A value is trying to be set on a copy of a slice from a DataFrame.\n",
      "Try using .loc[row_indexer,col_indexer] = value instead\n",
      "\n",
      "See the caveats in the documentation: https://pandas.pydata.org/pandas-docs/stable/user_guide/indexing.html#returning-a-view-versus-a-copy\n",
      "  dfHour.dateTime = dfHour.dateTime.dt.round('{}min'.format(grouptime))\n",
      "<ipython-input-2-622e561bc805>:93: SettingWithCopyWarning: \n",
      "A value is trying to be set on a copy of a slice from a DataFrame.\n",
      "Try using .loc[row_indexer,col_indexer] = value instead\n",
      "\n",
      "See the caveats in the documentation: https://pandas.pydata.org/pandas-docs/stable/user_guide/indexing.html#returning-a-view-versus-a-copy\n",
      "  dfHour.dateTime = pd.to_datetime(dfHour.dateTime)\n",
      "<ipython-input-2-622e561bc805>:95: SettingWithCopyWarning: \n",
      "A value is trying to be set on a copy of a slice from a DataFrame.\n",
      "Try using .loc[row_indexer,col_indexer] = value instead\n",
      "\n",
      "See the caveats in the documentation: https://pandas.pydata.org/pandas-docs/stable/user_guide/indexing.html#returning-a-view-versus-a-copy\n",
      "  dfHour.dateTime = dfHour.dateTime.dt.hour*60+dfHour.dateTime.dt.minute\n",
      "<ipython-input-2-622e561bc805>:96: SettingWithCopyWarning: \n",
      "A value is trying to be set on a copy of a slice from a DataFrame.\n",
      "Try using .loc[row_indexer,col_indexer] = value instead\n",
      "\n",
      "See the caveats in the documentation: https://pandas.pydata.org/pandas-docs/stable/user_guide/indexing.html#returning-a-view-versus-a-copy\n",
      "  dfHour.dateTime %= 1440\n"
     ]
    },
    {
     "name": "stdout",
     "output_type": "stream",
     "text": [
      "Reading 2020-11-16_all.csv\n"
     ]
    },
    {
     "name": "stderr",
     "output_type": "stream",
     "text": [
      "<ipython-input-2-622e561bc805>:92: SettingWithCopyWarning: \n",
      "A value is trying to be set on a copy of a slice from a DataFrame.\n",
      "Try using .loc[row_indexer,col_indexer] = value instead\n",
      "\n",
      "See the caveats in the documentation: https://pandas.pydata.org/pandas-docs/stable/user_guide/indexing.html#returning-a-view-versus-a-copy\n",
      "  dfHour.dateTime = dfHour.dateTime.dt.round('{}min'.format(grouptime))\n",
      "<ipython-input-2-622e561bc805>:93: SettingWithCopyWarning: \n",
      "A value is trying to be set on a copy of a slice from a DataFrame.\n",
      "Try using .loc[row_indexer,col_indexer] = value instead\n",
      "\n",
      "See the caveats in the documentation: https://pandas.pydata.org/pandas-docs/stable/user_guide/indexing.html#returning-a-view-versus-a-copy\n",
      "  dfHour.dateTime = pd.to_datetime(dfHour.dateTime)\n",
      "<ipython-input-2-622e561bc805>:95: SettingWithCopyWarning: \n",
      "A value is trying to be set on a copy of a slice from a DataFrame.\n",
      "Try using .loc[row_indexer,col_indexer] = value instead\n",
      "\n",
      "See the caveats in the documentation: https://pandas.pydata.org/pandas-docs/stable/user_guide/indexing.html#returning-a-view-versus-a-copy\n",
      "  dfHour.dateTime = dfHour.dateTime.dt.hour*60+dfHour.dateTime.dt.minute\n",
      "<ipython-input-2-622e561bc805>:96: SettingWithCopyWarning: \n",
      "A value is trying to be set on a copy of a slice from a DataFrame.\n",
      "Try using .loc[row_indexer,col_indexer] = value instead\n",
      "\n",
      "See the caveats in the documentation: https://pandas.pydata.org/pandas-docs/stable/user_guide/indexing.html#returning-a-view-versus-a-copy\n",
      "  dfHour.dateTime %= 1440\n"
     ]
    },
    {
     "name": "stdout",
     "output_type": "stream",
     "text": [
      "Reading 2020-11-17_all.csv\n"
     ]
    },
    {
     "name": "stderr",
     "output_type": "stream",
     "text": [
      "<ipython-input-2-622e561bc805>:92: SettingWithCopyWarning: \n",
      "A value is trying to be set on a copy of a slice from a DataFrame.\n",
      "Try using .loc[row_indexer,col_indexer] = value instead\n",
      "\n",
      "See the caveats in the documentation: https://pandas.pydata.org/pandas-docs/stable/user_guide/indexing.html#returning-a-view-versus-a-copy\n",
      "  dfHour.dateTime = dfHour.dateTime.dt.round('{}min'.format(grouptime))\n",
      "<ipython-input-2-622e561bc805>:93: SettingWithCopyWarning: \n",
      "A value is trying to be set on a copy of a slice from a DataFrame.\n",
      "Try using .loc[row_indexer,col_indexer] = value instead\n",
      "\n",
      "See the caveats in the documentation: https://pandas.pydata.org/pandas-docs/stable/user_guide/indexing.html#returning-a-view-versus-a-copy\n",
      "  dfHour.dateTime = pd.to_datetime(dfHour.dateTime)\n",
      "<ipython-input-2-622e561bc805>:95: SettingWithCopyWarning: \n",
      "A value is trying to be set on a copy of a slice from a DataFrame.\n",
      "Try using .loc[row_indexer,col_indexer] = value instead\n",
      "\n",
      "See the caveats in the documentation: https://pandas.pydata.org/pandas-docs/stable/user_guide/indexing.html#returning-a-view-versus-a-copy\n",
      "  dfHour.dateTime = dfHour.dateTime.dt.hour*60+dfHour.dateTime.dt.minute\n",
      "<ipython-input-2-622e561bc805>:96: SettingWithCopyWarning: \n",
      "A value is trying to be set on a copy of a slice from a DataFrame.\n",
      "Try using .loc[row_indexer,col_indexer] = value instead\n",
      "\n",
      "See the caveats in the documentation: https://pandas.pydata.org/pandas-docs/stable/user_guide/indexing.html#returning-a-view-versus-a-copy\n",
      "  dfHour.dateTime %= 1440\n"
     ]
    },
    {
     "name": "stdout",
     "output_type": "stream",
     "text": [
      "Reading 2020-11-18_all.csv\n"
     ]
    },
    {
     "name": "stderr",
     "output_type": "stream",
     "text": [
      "<ipython-input-2-622e561bc805>:92: SettingWithCopyWarning: \n",
      "A value is trying to be set on a copy of a slice from a DataFrame.\n",
      "Try using .loc[row_indexer,col_indexer] = value instead\n",
      "\n",
      "See the caveats in the documentation: https://pandas.pydata.org/pandas-docs/stable/user_guide/indexing.html#returning-a-view-versus-a-copy\n",
      "  dfHour.dateTime = dfHour.dateTime.dt.round('{}min'.format(grouptime))\n",
      "<ipython-input-2-622e561bc805>:93: SettingWithCopyWarning: \n",
      "A value is trying to be set on a copy of a slice from a DataFrame.\n",
      "Try using .loc[row_indexer,col_indexer] = value instead\n",
      "\n",
      "See the caveats in the documentation: https://pandas.pydata.org/pandas-docs/stable/user_guide/indexing.html#returning-a-view-versus-a-copy\n",
      "  dfHour.dateTime = pd.to_datetime(dfHour.dateTime)\n",
      "<ipython-input-2-622e561bc805>:95: SettingWithCopyWarning: \n",
      "A value is trying to be set on a copy of a slice from a DataFrame.\n",
      "Try using .loc[row_indexer,col_indexer] = value instead\n",
      "\n",
      "See the caveats in the documentation: https://pandas.pydata.org/pandas-docs/stable/user_guide/indexing.html#returning-a-view-versus-a-copy\n",
      "  dfHour.dateTime = dfHour.dateTime.dt.hour*60+dfHour.dateTime.dt.minute\n",
      "<ipython-input-2-622e561bc805>:96: SettingWithCopyWarning: \n",
      "A value is trying to be set on a copy of a slice from a DataFrame.\n",
      "Try using .loc[row_indexer,col_indexer] = value instead\n",
      "\n",
      "See the caveats in the documentation: https://pandas.pydata.org/pandas-docs/stable/user_guide/indexing.html#returning-a-view-versus-a-copy\n",
      "  dfHour.dateTime %= 1440\n"
     ]
    },
    {
     "name": "stdout",
     "output_type": "stream",
     "text": [
      "Reading 2020-11-19_all.csv\n"
     ]
    },
    {
     "name": "stderr",
     "output_type": "stream",
     "text": [
      "<ipython-input-2-622e561bc805>:92: SettingWithCopyWarning: \n",
      "A value is trying to be set on a copy of a slice from a DataFrame.\n",
      "Try using .loc[row_indexer,col_indexer] = value instead\n",
      "\n",
      "See the caveats in the documentation: https://pandas.pydata.org/pandas-docs/stable/user_guide/indexing.html#returning-a-view-versus-a-copy\n",
      "  dfHour.dateTime = dfHour.dateTime.dt.round('{}min'.format(grouptime))\n",
      "<ipython-input-2-622e561bc805>:93: SettingWithCopyWarning: \n",
      "A value is trying to be set on a copy of a slice from a DataFrame.\n",
      "Try using .loc[row_indexer,col_indexer] = value instead\n",
      "\n",
      "See the caveats in the documentation: https://pandas.pydata.org/pandas-docs/stable/user_guide/indexing.html#returning-a-view-versus-a-copy\n",
      "  dfHour.dateTime = pd.to_datetime(dfHour.dateTime)\n",
      "<ipython-input-2-622e561bc805>:95: SettingWithCopyWarning: \n",
      "A value is trying to be set on a copy of a slice from a DataFrame.\n",
      "Try using .loc[row_indexer,col_indexer] = value instead\n",
      "\n",
      "See the caveats in the documentation: https://pandas.pydata.org/pandas-docs/stable/user_guide/indexing.html#returning-a-view-versus-a-copy\n",
      "  dfHour.dateTime = dfHour.dateTime.dt.hour*60+dfHour.dateTime.dt.minute\n",
      "<ipython-input-2-622e561bc805>:96: SettingWithCopyWarning: \n",
      "A value is trying to be set on a copy of a slice from a DataFrame.\n",
      "Try using .loc[row_indexer,col_indexer] = value instead\n",
      "\n",
      "See the caveats in the documentation: https://pandas.pydata.org/pandas-docs/stable/user_guide/indexing.html#returning-a-view-versus-a-copy\n",
      "  dfHour.dateTime %= 1440\n"
     ]
    },
    {
     "name": "stdout",
     "output_type": "stream",
     "text": [
      "Reading 2020-11-20_all.csv\n"
     ]
    },
    {
     "name": "stderr",
     "output_type": "stream",
     "text": [
      "<ipython-input-2-622e561bc805>:92: SettingWithCopyWarning: \n",
      "A value is trying to be set on a copy of a slice from a DataFrame.\n",
      "Try using .loc[row_indexer,col_indexer] = value instead\n",
      "\n",
      "See the caveats in the documentation: https://pandas.pydata.org/pandas-docs/stable/user_guide/indexing.html#returning-a-view-versus-a-copy\n",
      "  dfHour.dateTime = dfHour.dateTime.dt.round('{}min'.format(grouptime))\n",
      "<ipython-input-2-622e561bc805>:93: SettingWithCopyWarning: \n",
      "A value is trying to be set on a copy of a slice from a DataFrame.\n",
      "Try using .loc[row_indexer,col_indexer] = value instead\n",
      "\n",
      "See the caveats in the documentation: https://pandas.pydata.org/pandas-docs/stable/user_guide/indexing.html#returning-a-view-versus-a-copy\n",
      "  dfHour.dateTime = pd.to_datetime(dfHour.dateTime)\n",
      "<ipython-input-2-622e561bc805>:95: SettingWithCopyWarning: \n",
      "A value is trying to be set on a copy of a slice from a DataFrame.\n",
      "Try using .loc[row_indexer,col_indexer] = value instead\n",
      "\n",
      "See the caveats in the documentation: https://pandas.pydata.org/pandas-docs/stable/user_guide/indexing.html#returning-a-view-versus-a-copy\n",
      "  dfHour.dateTime = dfHour.dateTime.dt.hour*60+dfHour.dateTime.dt.minute\n",
      "<ipython-input-2-622e561bc805>:96: SettingWithCopyWarning: \n",
      "A value is trying to be set on a copy of a slice from a DataFrame.\n",
      "Try using .loc[row_indexer,col_indexer] = value instead\n",
      "\n",
      "See the caveats in the documentation: https://pandas.pydata.org/pandas-docs/stable/user_guide/indexing.html#returning-a-view-versus-a-copy\n",
      "  dfHour.dateTime %= 1440\n"
     ]
    },
    {
     "name": "stdout",
     "output_type": "stream",
     "text": [
      "Reading 2020-11-21_all.csv\n"
     ]
    },
    {
     "name": "stderr",
     "output_type": "stream",
     "text": [
      "<ipython-input-2-622e561bc805>:92: SettingWithCopyWarning: \n",
      "A value is trying to be set on a copy of a slice from a DataFrame.\n",
      "Try using .loc[row_indexer,col_indexer] = value instead\n",
      "\n",
      "See the caveats in the documentation: https://pandas.pydata.org/pandas-docs/stable/user_guide/indexing.html#returning-a-view-versus-a-copy\n",
      "  dfHour.dateTime = dfHour.dateTime.dt.round('{}min'.format(grouptime))\n",
      "<ipython-input-2-622e561bc805>:93: SettingWithCopyWarning: \n",
      "A value is trying to be set on a copy of a slice from a DataFrame.\n",
      "Try using .loc[row_indexer,col_indexer] = value instead\n",
      "\n",
      "See the caveats in the documentation: https://pandas.pydata.org/pandas-docs/stable/user_guide/indexing.html#returning-a-view-versus-a-copy\n",
      "  dfHour.dateTime = pd.to_datetime(dfHour.dateTime)\n",
      "<ipython-input-2-622e561bc805>:95: SettingWithCopyWarning: \n",
      "A value is trying to be set on a copy of a slice from a DataFrame.\n",
      "Try using .loc[row_indexer,col_indexer] = value instead\n",
      "\n",
      "See the caveats in the documentation: https://pandas.pydata.org/pandas-docs/stable/user_guide/indexing.html#returning-a-view-versus-a-copy\n",
      "  dfHour.dateTime = dfHour.dateTime.dt.hour*60+dfHour.dateTime.dt.minute\n",
      "<ipython-input-2-622e561bc805>:96: SettingWithCopyWarning: \n",
      "A value is trying to be set on a copy of a slice from a DataFrame.\n",
      "Try using .loc[row_indexer,col_indexer] = value instead\n",
      "\n",
      "See the caveats in the documentation: https://pandas.pydata.org/pandas-docs/stable/user_guide/indexing.html#returning-a-view-versus-a-copy\n",
      "  dfHour.dateTime %= 1440\n"
     ]
    },
    {
     "name": "stdout",
     "output_type": "stream",
     "text": [
      "Reading 2020-11-22_all.csv\n"
     ]
    },
    {
     "name": "stderr",
     "output_type": "stream",
     "text": [
      "<ipython-input-2-622e561bc805>:92: SettingWithCopyWarning: \n",
      "A value is trying to be set on a copy of a slice from a DataFrame.\n",
      "Try using .loc[row_indexer,col_indexer] = value instead\n",
      "\n",
      "See the caveats in the documentation: https://pandas.pydata.org/pandas-docs/stable/user_guide/indexing.html#returning-a-view-versus-a-copy\n",
      "  dfHour.dateTime = dfHour.dateTime.dt.round('{}min'.format(grouptime))\n",
      "<ipython-input-2-622e561bc805>:93: SettingWithCopyWarning: \n",
      "A value is trying to be set on a copy of a slice from a DataFrame.\n",
      "Try using .loc[row_indexer,col_indexer] = value instead\n",
      "\n",
      "See the caveats in the documentation: https://pandas.pydata.org/pandas-docs/stable/user_guide/indexing.html#returning-a-view-versus-a-copy\n",
      "  dfHour.dateTime = pd.to_datetime(dfHour.dateTime)\n",
      "<ipython-input-2-622e561bc805>:95: SettingWithCopyWarning: \n",
      "A value is trying to be set on a copy of a slice from a DataFrame.\n",
      "Try using .loc[row_indexer,col_indexer] = value instead\n",
      "\n",
      "See the caveats in the documentation: https://pandas.pydata.org/pandas-docs/stable/user_guide/indexing.html#returning-a-view-versus-a-copy\n",
      "  dfHour.dateTime = dfHour.dateTime.dt.hour*60+dfHour.dateTime.dt.minute\n",
      "<ipython-input-2-622e561bc805>:96: SettingWithCopyWarning: \n",
      "A value is trying to be set on a copy of a slice from a DataFrame.\n",
      "Try using .loc[row_indexer,col_indexer] = value instead\n",
      "\n",
      "See the caveats in the documentation: https://pandas.pydata.org/pandas-docs/stable/user_guide/indexing.html#returning-a-view-versus-a-copy\n",
      "  dfHour.dateTime %= 1440\n"
     ]
    },
    {
     "name": "stdout",
     "output_type": "stream",
     "text": [
      "Reading 2020-11-23_all.csv\n"
     ]
    },
    {
     "name": "stderr",
     "output_type": "stream",
     "text": [
      "<ipython-input-2-622e561bc805>:92: SettingWithCopyWarning: \n",
      "A value is trying to be set on a copy of a slice from a DataFrame.\n",
      "Try using .loc[row_indexer,col_indexer] = value instead\n",
      "\n",
      "See the caveats in the documentation: https://pandas.pydata.org/pandas-docs/stable/user_guide/indexing.html#returning-a-view-versus-a-copy\n",
      "  dfHour.dateTime = dfHour.dateTime.dt.round('{}min'.format(grouptime))\n",
      "<ipython-input-2-622e561bc805>:93: SettingWithCopyWarning: \n",
      "A value is trying to be set on a copy of a slice from a DataFrame.\n",
      "Try using .loc[row_indexer,col_indexer] = value instead\n",
      "\n",
      "See the caveats in the documentation: https://pandas.pydata.org/pandas-docs/stable/user_guide/indexing.html#returning-a-view-versus-a-copy\n",
      "  dfHour.dateTime = pd.to_datetime(dfHour.dateTime)\n",
      "<ipython-input-2-622e561bc805>:95: SettingWithCopyWarning: \n",
      "A value is trying to be set on a copy of a slice from a DataFrame.\n",
      "Try using .loc[row_indexer,col_indexer] = value instead\n",
      "\n",
      "See the caveats in the documentation: https://pandas.pydata.org/pandas-docs/stable/user_guide/indexing.html#returning-a-view-versus-a-copy\n",
      "  dfHour.dateTime = dfHour.dateTime.dt.hour*60+dfHour.dateTime.dt.minute\n",
      "<ipython-input-2-622e561bc805>:96: SettingWithCopyWarning: \n",
      "A value is trying to be set on a copy of a slice from a DataFrame.\n",
      "Try using .loc[row_indexer,col_indexer] = value instead\n",
      "\n",
      "See the caveats in the documentation: https://pandas.pydata.org/pandas-docs/stable/user_guide/indexing.html#returning-a-view-versus-a-copy\n",
      "  dfHour.dateTime %= 1440\n"
     ]
    },
    {
     "name": "stdout",
     "output_type": "stream",
     "text": [
      "Reading 2020-11-24_all.csv\n"
     ]
    },
    {
     "name": "stderr",
     "output_type": "stream",
     "text": [
      "<ipython-input-2-622e561bc805>:92: SettingWithCopyWarning: \n",
      "A value is trying to be set on a copy of a slice from a DataFrame.\n",
      "Try using .loc[row_indexer,col_indexer] = value instead\n",
      "\n",
      "See the caveats in the documentation: https://pandas.pydata.org/pandas-docs/stable/user_guide/indexing.html#returning-a-view-versus-a-copy\n",
      "  dfHour.dateTime = dfHour.dateTime.dt.round('{}min'.format(grouptime))\n",
      "<ipython-input-2-622e561bc805>:93: SettingWithCopyWarning: \n",
      "A value is trying to be set on a copy of a slice from a DataFrame.\n",
      "Try using .loc[row_indexer,col_indexer] = value instead\n",
      "\n",
      "See the caveats in the documentation: https://pandas.pydata.org/pandas-docs/stable/user_guide/indexing.html#returning-a-view-versus-a-copy\n",
      "  dfHour.dateTime = pd.to_datetime(dfHour.dateTime)\n",
      "<ipython-input-2-622e561bc805>:95: SettingWithCopyWarning: \n",
      "A value is trying to be set on a copy of a slice from a DataFrame.\n",
      "Try using .loc[row_indexer,col_indexer] = value instead\n",
      "\n",
      "See the caveats in the documentation: https://pandas.pydata.org/pandas-docs/stable/user_guide/indexing.html#returning-a-view-versus-a-copy\n",
      "  dfHour.dateTime = dfHour.dateTime.dt.hour*60+dfHour.dateTime.dt.minute\n",
      "<ipython-input-2-622e561bc805>:96: SettingWithCopyWarning: \n",
      "A value is trying to be set on a copy of a slice from a DataFrame.\n",
      "Try using .loc[row_indexer,col_indexer] = value instead\n",
      "\n",
      "See the caveats in the documentation: https://pandas.pydata.org/pandas-docs/stable/user_guide/indexing.html#returning-a-view-versus-a-copy\n",
      "  dfHour.dateTime %= 1440\n"
     ]
    },
    {
     "name": "stdout",
     "output_type": "stream",
     "text": [
      "Reading 2020-11-25_all.csv\n"
     ]
    },
    {
     "name": "stderr",
     "output_type": "stream",
     "text": [
      "<ipython-input-2-622e561bc805>:92: SettingWithCopyWarning: \n",
      "A value is trying to be set on a copy of a slice from a DataFrame.\n",
      "Try using .loc[row_indexer,col_indexer] = value instead\n",
      "\n",
      "See the caveats in the documentation: https://pandas.pydata.org/pandas-docs/stable/user_guide/indexing.html#returning-a-view-versus-a-copy\n",
      "  dfHour.dateTime = dfHour.dateTime.dt.round('{}min'.format(grouptime))\n",
      "<ipython-input-2-622e561bc805>:93: SettingWithCopyWarning: \n",
      "A value is trying to be set on a copy of a slice from a DataFrame.\n",
      "Try using .loc[row_indexer,col_indexer] = value instead\n",
      "\n",
      "See the caveats in the documentation: https://pandas.pydata.org/pandas-docs/stable/user_guide/indexing.html#returning-a-view-versus-a-copy\n",
      "  dfHour.dateTime = pd.to_datetime(dfHour.dateTime)\n",
      "<ipython-input-2-622e561bc805>:95: SettingWithCopyWarning: \n",
      "A value is trying to be set on a copy of a slice from a DataFrame.\n",
      "Try using .loc[row_indexer,col_indexer] = value instead\n",
      "\n",
      "See the caveats in the documentation: https://pandas.pydata.org/pandas-docs/stable/user_guide/indexing.html#returning-a-view-versus-a-copy\n",
      "  dfHour.dateTime = dfHour.dateTime.dt.hour*60+dfHour.dateTime.dt.minute\n",
      "<ipython-input-2-622e561bc805>:96: SettingWithCopyWarning: \n",
      "A value is trying to be set on a copy of a slice from a DataFrame.\n",
      "Try using .loc[row_indexer,col_indexer] = value instead\n",
      "\n",
      "See the caveats in the documentation: https://pandas.pydata.org/pandas-docs/stable/user_guide/indexing.html#returning-a-view-versus-a-copy\n",
      "  dfHour.dateTime %= 1440\n"
     ]
    },
    {
     "name": "stdout",
     "output_type": "stream",
     "text": [
      "Reading 2020-11-26_all.csv\n"
     ]
    },
    {
     "name": "stderr",
     "output_type": "stream",
     "text": [
      "<ipython-input-2-622e561bc805>:92: SettingWithCopyWarning: \n",
      "A value is trying to be set on a copy of a slice from a DataFrame.\n",
      "Try using .loc[row_indexer,col_indexer] = value instead\n",
      "\n",
      "See the caveats in the documentation: https://pandas.pydata.org/pandas-docs/stable/user_guide/indexing.html#returning-a-view-versus-a-copy\n",
      "  dfHour.dateTime = dfHour.dateTime.dt.round('{}min'.format(grouptime))\n",
      "<ipython-input-2-622e561bc805>:93: SettingWithCopyWarning: \n",
      "A value is trying to be set on a copy of a slice from a DataFrame.\n",
      "Try using .loc[row_indexer,col_indexer] = value instead\n",
      "\n",
      "See the caveats in the documentation: https://pandas.pydata.org/pandas-docs/stable/user_guide/indexing.html#returning-a-view-versus-a-copy\n",
      "  dfHour.dateTime = pd.to_datetime(dfHour.dateTime)\n",
      "<ipython-input-2-622e561bc805>:95: SettingWithCopyWarning: \n",
      "A value is trying to be set on a copy of a slice from a DataFrame.\n",
      "Try using .loc[row_indexer,col_indexer] = value instead\n",
      "\n",
      "See the caveats in the documentation: https://pandas.pydata.org/pandas-docs/stable/user_guide/indexing.html#returning-a-view-versus-a-copy\n",
      "  dfHour.dateTime = dfHour.dateTime.dt.hour*60+dfHour.dateTime.dt.minute\n",
      "<ipython-input-2-622e561bc805>:96: SettingWithCopyWarning: \n",
      "A value is trying to be set on a copy of a slice from a DataFrame.\n",
      "Try using .loc[row_indexer,col_indexer] = value instead\n",
      "\n",
      "See the caveats in the documentation: https://pandas.pydata.org/pandas-docs/stable/user_guide/indexing.html#returning-a-view-versus-a-copy\n",
      "  dfHour.dateTime %= 1440\n"
     ]
    },
    {
     "name": "stdout",
     "output_type": "stream",
     "text": [
      "Reading 2020-11-27_all.csv\n"
     ]
    },
    {
     "name": "stderr",
     "output_type": "stream",
     "text": [
      "<ipython-input-2-622e561bc805>:92: SettingWithCopyWarning: \n",
      "A value is trying to be set on a copy of a slice from a DataFrame.\n",
      "Try using .loc[row_indexer,col_indexer] = value instead\n",
      "\n",
      "See the caveats in the documentation: https://pandas.pydata.org/pandas-docs/stable/user_guide/indexing.html#returning-a-view-versus-a-copy\n",
      "  dfHour.dateTime = dfHour.dateTime.dt.round('{}min'.format(grouptime))\n",
      "<ipython-input-2-622e561bc805>:93: SettingWithCopyWarning: \n",
      "A value is trying to be set on a copy of a slice from a DataFrame.\n",
      "Try using .loc[row_indexer,col_indexer] = value instead\n",
      "\n",
      "See the caveats in the documentation: https://pandas.pydata.org/pandas-docs/stable/user_guide/indexing.html#returning-a-view-versus-a-copy\n",
      "  dfHour.dateTime = pd.to_datetime(dfHour.dateTime)\n",
      "<ipython-input-2-622e561bc805>:95: SettingWithCopyWarning: \n",
      "A value is trying to be set on a copy of a slice from a DataFrame.\n",
      "Try using .loc[row_indexer,col_indexer] = value instead\n",
      "\n",
      "See the caveats in the documentation: https://pandas.pydata.org/pandas-docs/stable/user_guide/indexing.html#returning-a-view-versus-a-copy\n",
      "  dfHour.dateTime = dfHour.dateTime.dt.hour*60+dfHour.dateTime.dt.minute\n",
      "<ipython-input-2-622e561bc805>:96: SettingWithCopyWarning: \n",
      "A value is trying to be set on a copy of a slice from a DataFrame.\n",
      "Try using .loc[row_indexer,col_indexer] = value instead\n",
      "\n",
      "See the caveats in the documentation: https://pandas.pydata.org/pandas-docs/stable/user_guide/indexing.html#returning-a-view-versus-a-copy\n",
      "  dfHour.dateTime %= 1440\n"
     ]
    },
    {
     "name": "stdout",
     "output_type": "stream",
     "text": [
      "Reading 2020-11-28_all.csv\n"
     ]
    },
    {
     "name": "stderr",
     "output_type": "stream",
     "text": [
      "<ipython-input-2-622e561bc805>:92: SettingWithCopyWarning: \n",
      "A value is trying to be set on a copy of a slice from a DataFrame.\n",
      "Try using .loc[row_indexer,col_indexer] = value instead\n",
      "\n",
      "See the caveats in the documentation: https://pandas.pydata.org/pandas-docs/stable/user_guide/indexing.html#returning-a-view-versus-a-copy\n",
      "  dfHour.dateTime = dfHour.dateTime.dt.round('{}min'.format(grouptime))\n",
      "<ipython-input-2-622e561bc805>:93: SettingWithCopyWarning: \n",
      "A value is trying to be set on a copy of a slice from a DataFrame.\n",
      "Try using .loc[row_indexer,col_indexer] = value instead\n",
      "\n",
      "See the caveats in the documentation: https://pandas.pydata.org/pandas-docs/stable/user_guide/indexing.html#returning-a-view-versus-a-copy\n",
      "  dfHour.dateTime = pd.to_datetime(dfHour.dateTime)\n",
      "<ipython-input-2-622e561bc805>:95: SettingWithCopyWarning: \n",
      "A value is trying to be set on a copy of a slice from a DataFrame.\n",
      "Try using .loc[row_indexer,col_indexer] = value instead\n",
      "\n",
      "See the caveats in the documentation: https://pandas.pydata.org/pandas-docs/stable/user_guide/indexing.html#returning-a-view-versus-a-copy\n",
      "  dfHour.dateTime = dfHour.dateTime.dt.hour*60+dfHour.dateTime.dt.minute\n",
      "<ipython-input-2-622e561bc805>:96: SettingWithCopyWarning: \n",
      "A value is trying to be set on a copy of a slice from a DataFrame.\n",
      "Try using .loc[row_indexer,col_indexer] = value instead\n",
      "\n",
      "See the caveats in the documentation: https://pandas.pydata.org/pandas-docs/stable/user_guide/indexing.html#returning-a-view-versus-a-copy\n",
      "  dfHour.dateTime %= 1440\n"
     ]
    },
    {
     "name": "stdout",
     "output_type": "stream",
     "text": [
      "Reading 2020-11-29_all.csv\n"
     ]
    },
    {
     "name": "stderr",
     "output_type": "stream",
     "text": [
      "<ipython-input-2-622e561bc805>:92: SettingWithCopyWarning: \n",
      "A value is trying to be set on a copy of a slice from a DataFrame.\n",
      "Try using .loc[row_indexer,col_indexer] = value instead\n",
      "\n",
      "See the caveats in the documentation: https://pandas.pydata.org/pandas-docs/stable/user_guide/indexing.html#returning-a-view-versus-a-copy\n",
      "  dfHour.dateTime = dfHour.dateTime.dt.round('{}min'.format(grouptime))\n",
      "<ipython-input-2-622e561bc805>:93: SettingWithCopyWarning: \n",
      "A value is trying to be set on a copy of a slice from a DataFrame.\n",
      "Try using .loc[row_indexer,col_indexer] = value instead\n",
      "\n",
      "See the caveats in the documentation: https://pandas.pydata.org/pandas-docs/stable/user_guide/indexing.html#returning-a-view-versus-a-copy\n",
      "  dfHour.dateTime = pd.to_datetime(dfHour.dateTime)\n",
      "<ipython-input-2-622e561bc805>:95: SettingWithCopyWarning: \n",
      "A value is trying to be set on a copy of a slice from a DataFrame.\n",
      "Try using .loc[row_indexer,col_indexer] = value instead\n",
      "\n",
      "See the caveats in the documentation: https://pandas.pydata.org/pandas-docs/stable/user_guide/indexing.html#returning-a-view-versus-a-copy\n",
      "  dfHour.dateTime = dfHour.dateTime.dt.hour*60+dfHour.dateTime.dt.minute\n",
      "<ipython-input-2-622e561bc805>:96: SettingWithCopyWarning: \n",
      "A value is trying to be set on a copy of a slice from a DataFrame.\n",
      "Try using .loc[row_indexer,col_indexer] = value instead\n",
      "\n",
      "See the caveats in the documentation: https://pandas.pydata.org/pandas-docs/stable/user_guide/indexing.html#returning-a-view-versus-a-copy\n",
      "  dfHour.dateTime %= 1440\n"
     ]
    },
    {
     "name": "stdout",
     "output_type": "stream",
     "text": [
      "Reading 2020-11-30_all.csv\n"
     ]
    },
    {
     "name": "stderr",
     "output_type": "stream",
     "text": [
      "<ipython-input-2-622e561bc805>:92: SettingWithCopyWarning: \n",
      "A value is trying to be set on a copy of a slice from a DataFrame.\n",
      "Try using .loc[row_indexer,col_indexer] = value instead\n",
      "\n",
      "See the caveats in the documentation: https://pandas.pydata.org/pandas-docs/stable/user_guide/indexing.html#returning-a-view-versus-a-copy\n",
      "  dfHour.dateTime = dfHour.dateTime.dt.round('{}min'.format(grouptime))\n",
      "<ipython-input-2-622e561bc805>:93: SettingWithCopyWarning: \n",
      "A value is trying to be set on a copy of a slice from a DataFrame.\n",
      "Try using .loc[row_indexer,col_indexer] = value instead\n",
      "\n",
      "See the caveats in the documentation: https://pandas.pydata.org/pandas-docs/stable/user_guide/indexing.html#returning-a-view-versus-a-copy\n",
      "  dfHour.dateTime = pd.to_datetime(dfHour.dateTime)\n",
      "<ipython-input-2-622e561bc805>:95: SettingWithCopyWarning: \n",
      "A value is trying to be set on a copy of a slice from a DataFrame.\n",
      "Try using .loc[row_indexer,col_indexer] = value instead\n",
      "\n",
      "See the caveats in the documentation: https://pandas.pydata.org/pandas-docs/stable/user_guide/indexing.html#returning-a-view-versus-a-copy\n",
      "  dfHour.dateTime = dfHour.dateTime.dt.hour*60+dfHour.dateTime.dt.minute\n",
      "<ipython-input-2-622e561bc805>:96: SettingWithCopyWarning: \n",
      "A value is trying to be set on a copy of a slice from a DataFrame.\n",
      "Try using .loc[row_indexer,col_indexer] = value instead\n",
      "\n",
      "See the caveats in the documentation: https://pandas.pydata.org/pandas-docs/stable/user_guide/indexing.html#returning-a-view-versus-a-copy\n",
      "  dfHour.dateTime %= 1440\n"
     ]
    },
    {
     "name": "stdout",
     "output_type": "stream",
     "text": [
      "Reading 2020-12-01_all.csv\n"
     ]
    },
    {
     "name": "stderr",
     "output_type": "stream",
     "text": [
      "<ipython-input-2-622e561bc805>:92: SettingWithCopyWarning: \n",
      "A value is trying to be set on a copy of a slice from a DataFrame.\n",
      "Try using .loc[row_indexer,col_indexer] = value instead\n",
      "\n",
      "See the caveats in the documentation: https://pandas.pydata.org/pandas-docs/stable/user_guide/indexing.html#returning-a-view-versus-a-copy\n",
      "  dfHour.dateTime = dfHour.dateTime.dt.round('{}min'.format(grouptime))\n",
      "<ipython-input-2-622e561bc805>:93: SettingWithCopyWarning: \n",
      "A value is trying to be set on a copy of a slice from a DataFrame.\n",
      "Try using .loc[row_indexer,col_indexer] = value instead\n",
      "\n",
      "See the caveats in the documentation: https://pandas.pydata.org/pandas-docs/stable/user_guide/indexing.html#returning-a-view-versus-a-copy\n",
      "  dfHour.dateTime = pd.to_datetime(dfHour.dateTime)\n",
      "<ipython-input-2-622e561bc805>:95: SettingWithCopyWarning: \n",
      "A value is trying to be set on a copy of a slice from a DataFrame.\n",
      "Try using .loc[row_indexer,col_indexer] = value instead\n",
      "\n",
      "See the caveats in the documentation: https://pandas.pydata.org/pandas-docs/stable/user_guide/indexing.html#returning-a-view-versus-a-copy\n",
      "  dfHour.dateTime = dfHour.dateTime.dt.hour*60+dfHour.dateTime.dt.minute\n",
      "<ipython-input-2-622e561bc805>:96: SettingWithCopyWarning: \n",
      "A value is trying to be set on a copy of a slice from a DataFrame.\n",
      "Try using .loc[row_indexer,col_indexer] = value instead\n",
      "\n",
      "See the caveats in the documentation: https://pandas.pydata.org/pandas-docs/stable/user_guide/indexing.html#returning-a-view-versus-a-copy\n",
      "  dfHour.dateTime %= 1440\n"
     ]
    },
    {
     "name": "stdout",
     "output_type": "stream",
     "text": [
      "Reading 2020-12-02_all.csv\n"
     ]
    },
    {
     "name": "stderr",
     "output_type": "stream",
     "text": [
      "<ipython-input-2-622e561bc805>:92: SettingWithCopyWarning: \n",
      "A value is trying to be set on a copy of a slice from a DataFrame.\n",
      "Try using .loc[row_indexer,col_indexer] = value instead\n",
      "\n",
      "See the caveats in the documentation: https://pandas.pydata.org/pandas-docs/stable/user_guide/indexing.html#returning-a-view-versus-a-copy\n",
      "  dfHour.dateTime = dfHour.dateTime.dt.round('{}min'.format(grouptime))\n",
      "<ipython-input-2-622e561bc805>:93: SettingWithCopyWarning: \n",
      "A value is trying to be set on a copy of a slice from a DataFrame.\n",
      "Try using .loc[row_indexer,col_indexer] = value instead\n",
      "\n",
      "See the caveats in the documentation: https://pandas.pydata.org/pandas-docs/stable/user_guide/indexing.html#returning-a-view-versus-a-copy\n",
      "  dfHour.dateTime = pd.to_datetime(dfHour.dateTime)\n",
      "<ipython-input-2-622e561bc805>:95: SettingWithCopyWarning: \n",
      "A value is trying to be set on a copy of a slice from a DataFrame.\n",
      "Try using .loc[row_indexer,col_indexer] = value instead\n",
      "\n",
      "See the caveats in the documentation: https://pandas.pydata.org/pandas-docs/stable/user_guide/indexing.html#returning-a-view-versus-a-copy\n",
      "  dfHour.dateTime = dfHour.dateTime.dt.hour*60+dfHour.dateTime.dt.minute\n",
      "<ipython-input-2-622e561bc805>:96: SettingWithCopyWarning: \n",
      "A value is trying to be set on a copy of a slice from a DataFrame.\n",
      "Try using .loc[row_indexer,col_indexer] = value instead\n",
      "\n",
      "See the caveats in the documentation: https://pandas.pydata.org/pandas-docs/stable/user_guide/indexing.html#returning-a-view-versus-a-copy\n",
      "  dfHour.dateTime %= 1440\n"
     ]
    },
    {
     "name": "stdout",
     "output_type": "stream",
     "text": [
      "Reading 2020-12-03_all.csv\n"
     ]
    },
    {
     "name": "stderr",
     "output_type": "stream",
     "text": [
      "<ipython-input-2-622e561bc805>:92: SettingWithCopyWarning: \n",
      "A value is trying to be set on a copy of a slice from a DataFrame.\n",
      "Try using .loc[row_indexer,col_indexer] = value instead\n",
      "\n",
      "See the caveats in the documentation: https://pandas.pydata.org/pandas-docs/stable/user_guide/indexing.html#returning-a-view-versus-a-copy\n",
      "  dfHour.dateTime = dfHour.dateTime.dt.round('{}min'.format(grouptime))\n",
      "<ipython-input-2-622e561bc805>:93: SettingWithCopyWarning: \n",
      "A value is trying to be set on a copy of a slice from a DataFrame.\n",
      "Try using .loc[row_indexer,col_indexer] = value instead\n",
      "\n",
      "See the caveats in the documentation: https://pandas.pydata.org/pandas-docs/stable/user_guide/indexing.html#returning-a-view-versus-a-copy\n",
      "  dfHour.dateTime = pd.to_datetime(dfHour.dateTime)\n",
      "<ipython-input-2-622e561bc805>:95: SettingWithCopyWarning: \n",
      "A value is trying to be set on a copy of a slice from a DataFrame.\n",
      "Try using .loc[row_indexer,col_indexer] = value instead\n",
      "\n",
      "See the caveats in the documentation: https://pandas.pydata.org/pandas-docs/stable/user_guide/indexing.html#returning-a-view-versus-a-copy\n",
      "  dfHour.dateTime = dfHour.dateTime.dt.hour*60+dfHour.dateTime.dt.minute\n",
      "<ipython-input-2-622e561bc805>:96: SettingWithCopyWarning: \n",
      "A value is trying to be set on a copy of a slice from a DataFrame.\n",
      "Try using .loc[row_indexer,col_indexer] = value instead\n",
      "\n",
      "See the caveats in the documentation: https://pandas.pydata.org/pandas-docs/stable/user_guide/indexing.html#returning-a-view-versus-a-copy\n",
      "  dfHour.dateTime %= 1440\n"
     ]
    },
    {
     "name": "stdout",
     "output_type": "stream",
     "text": [
      "Reading 2020-12-04_all.csv\n"
     ]
    },
    {
     "name": "stderr",
     "output_type": "stream",
     "text": [
      "<ipython-input-2-622e561bc805>:92: SettingWithCopyWarning: \n",
      "A value is trying to be set on a copy of a slice from a DataFrame.\n",
      "Try using .loc[row_indexer,col_indexer] = value instead\n",
      "\n",
      "See the caveats in the documentation: https://pandas.pydata.org/pandas-docs/stable/user_guide/indexing.html#returning-a-view-versus-a-copy\n",
      "  dfHour.dateTime = dfHour.dateTime.dt.round('{}min'.format(grouptime))\n",
      "<ipython-input-2-622e561bc805>:93: SettingWithCopyWarning: \n",
      "A value is trying to be set on a copy of a slice from a DataFrame.\n",
      "Try using .loc[row_indexer,col_indexer] = value instead\n",
      "\n",
      "See the caveats in the documentation: https://pandas.pydata.org/pandas-docs/stable/user_guide/indexing.html#returning-a-view-versus-a-copy\n",
      "  dfHour.dateTime = pd.to_datetime(dfHour.dateTime)\n",
      "<ipython-input-2-622e561bc805>:95: SettingWithCopyWarning: \n",
      "A value is trying to be set on a copy of a slice from a DataFrame.\n",
      "Try using .loc[row_indexer,col_indexer] = value instead\n",
      "\n",
      "See the caveats in the documentation: https://pandas.pydata.org/pandas-docs/stable/user_guide/indexing.html#returning-a-view-versus-a-copy\n",
      "  dfHour.dateTime = dfHour.dateTime.dt.hour*60+dfHour.dateTime.dt.minute\n",
      "<ipython-input-2-622e561bc805>:96: SettingWithCopyWarning: \n",
      "A value is trying to be set on a copy of a slice from a DataFrame.\n",
      "Try using .loc[row_indexer,col_indexer] = value instead\n",
      "\n",
      "See the caveats in the documentation: https://pandas.pydata.org/pandas-docs/stable/user_guide/indexing.html#returning-a-view-versus-a-copy\n",
      "  dfHour.dateTime %= 1440\n"
     ]
    },
    {
     "name": "stdout",
     "output_type": "stream",
     "text": [
      "Reading 2020-12-05_all.csv\n"
     ]
    },
    {
     "name": "stderr",
     "output_type": "stream",
     "text": [
      "<ipython-input-2-622e561bc805>:92: SettingWithCopyWarning: \n",
      "A value is trying to be set on a copy of a slice from a DataFrame.\n",
      "Try using .loc[row_indexer,col_indexer] = value instead\n",
      "\n",
      "See the caveats in the documentation: https://pandas.pydata.org/pandas-docs/stable/user_guide/indexing.html#returning-a-view-versus-a-copy\n",
      "  dfHour.dateTime = dfHour.dateTime.dt.round('{}min'.format(grouptime))\n",
      "<ipython-input-2-622e561bc805>:93: SettingWithCopyWarning: \n",
      "A value is trying to be set on a copy of a slice from a DataFrame.\n",
      "Try using .loc[row_indexer,col_indexer] = value instead\n",
      "\n",
      "See the caveats in the documentation: https://pandas.pydata.org/pandas-docs/stable/user_guide/indexing.html#returning-a-view-versus-a-copy\n",
      "  dfHour.dateTime = pd.to_datetime(dfHour.dateTime)\n",
      "<ipython-input-2-622e561bc805>:95: SettingWithCopyWarning: \n",
      "A value is trying to be set on a copy of a slice from a DataFrame.\n",
      "Try using .loc[row_indexer,col_indexer] = value instead\n",
      "\n",
      "See the caveats in the documentation: https://pandas.pydata.org/pandas-docs/stable/user_guide/indexing.html#returning-a-view-versus-a-copy\n",
      "  dfHour.dateTime = dfHour.dateTime.dt.hour*60+dfHour.dateTime.dt.minute\n",
      "<ipython-input-2-622e561bc805>:96: SettingWithCopyWarning: \n",
      "A value is trying to be set on a copy of a slice from a DataFrame.\n",
      "Try using .loc[row_indexer,col_indexer] = value instead\n",
      "\n",
      "See the caveats in the documentation: https://pandas.pydata.org/pandas-docs/stable/user_guide/indexing.html#returning-a-view-versus-a-copy\n",
      "  dfHour.dateTime %= 1440\n"
     ]
    },
    {
     "name": "stdout",
     "output_type": "stream",
     "text": [
      "Reading 2020-12-06_all.csv\n"
     ]
    },
    {
     "name": "stderr",
     "output_type": "stream",
     "text": [
      "<ipython-input-2-622e561bc805>:92: SettingWithCopyWarning: \n",
      "A value is trying to be set on a copy of a slice from a DataFrame.\n",
      "Try using .loc[row_indexer,col_indexer] = value instead\n",
      "\n",
      "See the caveats in the documentation: https://pandas.pydata.org/pandas-docs/stable/user_guide/indexing.html#returning-a-view-versus-a-copy\n",
      "  dfHour.dateTime = dfHour.dateTime.dt.round('{}min'.format(grouptime))\n",
      "<ipython-input-2-622e561bc805>:93: SettingWithCopyWarning: \n",
      "A value is trying to be set on a copy of a slice from a DataFrame.\n",
      "Try using .loc[row_indexer,col_indexer] = value instead\n",
      "\n",
      "See the caveats in the documentation: https://pandas.pydata.org/pandas-docs/stable/user_guide/indexing.html#returning-a-view-versus-a-copy\n",
      "  dfHour.dateTime = pd.to_datetime(dfHour.dateTime)\n",
      "<ipython-input-2-622e561bc805>:95: SettingWithCopyWarning: \n",
      "A value is trying to be set on a copy of a slice from a DataFrame.\n",
      "Try using .loc[row_indexer,col_indexer] = value instead\n",
      "\n",
      "See the caveats in the documentation: https://pandas.pydata.org/pandas-docs/stable/user_guide/indexing.html#returning-a-view-versus-a-copy\n",
      "  dfHour.dateTime = dfHour.dateTime.dt.hour*60+dfHour.dateTime.dt.minute\n",
      "<ipython-input-2-622e561bc805>:96: SettingWithCopyWarning: \n",
      "A value is trying to be set on a copy of a slice from a DataFrame.\n",
      "Try using .loc[row_indexer,col_indexer] = value instead\n",
      "\n",
      "See the caveats in the documentation: https://pandas.pydata.org/pandas-docs/stable/user_guide/indexing.html#returning-a-view-versus-a-copy\n",
      "  dfHour.dateTime %= 1440\n"
     ]
    },
    {
     "name": "stdout",
     "output_type": "stream",
     "text": [
      "Reading 2020-12-07_all.csv\n"
     ]
    },
    {
     "name": "stderr",
     "output_type": "stream",
     "text": [
      "<ipython-input-2-622e561bc805>:92: SettingWithCopyWarning: \n",
      "A value is trying to be set on a copy of a slice from a DataFrame.\n",
      "Try using .loc[row_indexer,col_indexer] = value instead\n",
      "\n",
      "See the caveats in the documentation: https://pandas.pydata.org/pandas-docs/stable/user_guide/indexing.html#returning-a-view-versus-a-copy\n",
      "  dfHour.dateTime = dfHour.dateTime.dt.round('{}min'.format(grouptime))\n",
      "<ipython-input-2-622e561bc805>:93: SettingWithCopyWarning: \n",
      "A value is trying to be set on a copy of a slice from a DataFrame.\n",
      "Try using .loc[row_indexer,col_indexer] = value instead\n",
      "\n",
      "See the caveats in the documentation: https://pandas.pydata.org/pandas-docs/stable/user_guide/indexing.html#returning-a-view-versus-a-copy\n",
      "  dfHour.dateTime = pd.to_datetime(dfHour.dateTime)\n",
      "<ipython-input-2-622e561bc805>:95: SettingWithCopyWarning: \n",
      "A value is trying to be set on a copy of a slice from a DataFrame.\n",
      "Try using .loc[row_indexer,col_indexer] = value instead\n",
      "\n",
      "See the caveats in the documentation: https://pandas.pydata.org/pandas-docs/stable/user_guide/indexing.html#returning-a-view-versus-a-copy\n",
      "  dfHour.dateTime = dfHour.dateTime.dt.hour*60+dfHour.dateTime.dt.minute\n",
      "<ipython-input-2-622e561bc805>:96: SettingWithCopyWarning: \n",
      "A value is trying to be set on a copy of a slice from a DataFrame.\n",
      "Try using .loc[row_indexer,col_indexer] = value instead\n",
      "\n",
      "See the caveats in the documentation: https://pandas.pydata.org/pandas-docs/stable/user_guide/indexing.html#returning-a-view-versus-a-copy\n",
      "  dfHour.dateTime %= 1440\n"
     ]
    },
    {
     "name": "stdout",
     "output_type": "stream",
     "text": [
      "Reading 2020-12-08_all.csv\n"
     ]
    },
    {
     "name": "stderr",
     "output_type": "stream",
     "text": [
      "<ipython-input-2-622e561bc805>:92: SettingWithCopyWarning: \n",
      "A value is trying to be set on a copy of a slice from a DataFrame.\n",
      "Try using .loc[row_indexer,col_indexer] = value instead\n",
      "\n",
      "See the caveats in the documentation: https://pandas.pydata.org/pandas-docs/stable/user_guide/indexing.html#returning-a-view-versus-a-copy\n",
      "  dfHour.dateTime = dfHour.dateTime.dt.round('{}min'.format(grouptime))\n",
      "<ipython-input-2-622e561bc805>:93: SettingWithCopyWarning: \n",
      "A value is trying to be set on a copy of a slice from a DataFrame.\n",
      "Try using .loc[row_indexer,col_indexer] = value instead\n",
      "\n",
      "See the caveats in the documentation: https://pandas.pydata.org/pandas-docs/stable/user_guide/indexing.html#returning-a-view-versus-a-copy\n",
      "  dfHour.dateTime = pd.to_datetime(dfHour.dateTime)\n",
      "<ipython-input-2-622e561bc805>:95: SettingWithCopyWarning: \n",
      "A value is trying to be set on a copy of a slice from a DataFrame.\n",
      "Try using .loc[row_indexer,col_indexer] = value instead\n",
      "\n",
      "See the caveats in the documentation: https://pandas.pydata.org/pandas-docs/stable/user_guide/indexing.html#returning-a-view-versus-a-copy\n",
      "  dfHour.dateTime = dfHour.dateTime.dt.hour*60+dfHour.dateTime.dt.minute\n",
      "<ipython-input-2-622e561bc805>:96: SettingWithCopyWarning: \n",
      "A value is trying to be set on a copy of a slice from a DataFrame.\n",
      "Try using .loc[row_indexer,col_indexer] = value instead\n",
      "\n",
      "See the caveats in the documentation: https://pandas.pydata.org/pandas-docs/stable/user_guide/indexing.html#returning-a-view-versus-a-copy\n",
      "  dfHour.dateTime %= 1440\n"
     ]
    },
    {
     "name": "stdout",
     "output_type": "stream",
     "text": [
      "Reading 2020-12-09_all.csv\n"
     ]
    },
    {
     "name": "stderr",
     "output_type": "stream",
     "text": [
      "<ipython-input-2-622e561bc805>:92: SettingWithCopyWarning: \n",
      "A value is trying to be set on a copy of a slice from a DataFrame.\n",
      "Try using .loc[row_indexer,col_indexer] = value instead\n",
      "\n",
      "See the caveats in the documentation: https://pandas.pydata.org/pandas-docs/stable/user_guide/indexing.html#returning-a-view-versus-a-copy\n",
      "  dfHour.dateTime = dfHour.dateTime.dt.round('{}min'.format(grouptime))\n",
      "<ipython-input-2-622e561bc805>:93: SettingWithCopyWarning: \n",
      "A value is trying to be set on a copy of a slice from a DataFrame.\n",
      "Try using .loc[row_indexer,col_indexer] = value instead\n",
      "\n",
      "See the caveats in the documentation: https://pandas.pydata.org/pandas-docs/stable/user_guide/indexing.html#returning-a-view-versus-a-copy\n",
      "  dfHour.dateTime = pd.to_datetime(dfHour.dateTime)\n",
      "<ipython-input-2-622e561bc805>:95: SettingWithCopyWarning: \n",
      "A value is trying to be set on a copy of a slice from a DataFrame.\n",
      "Try using .loc[row_indexer,col_indexer] = value instead\n",
      "\n",
      "See the caveats in the documentation: https://pandas.pydata.org/pandas-docs/stable/user_guide/indexing.html#returning-a-view-versus-a-copy\n",
      "  dfHour.dateTime = dfHour.dateTime.dt.hour*60+dfHour.dateTime.dt.minute\n",
      "<ipython-input-2-622e561bc805>:96: SettingWithCopyWarning: \n",
      "A value is trying to be set on a copy of a slice from a DataFrame.\n",
      "Try using .loc[row_indexer,col_indexer] = value instead\n",
      "\n",
      "See the caveats in the documentation: https://pandas.pydata.org/pandas-docs/stable/user_guide/indexing.html#returning-a-view-versus-a-copy\n",
      "  dfHour.dateTime %= 1440\n"
     ]
    },
    {
     "name": "stdout",
     "output_type": "stream",
     "text": [
      "Reading 2020-12-10_all.csv\n"
     ]
    },
    {
     "name": "stderr",
     "output_type": "stream",
     "text": [
      "<ipython-input-2-622e561bc805>:92: SettingWithCopyWarning: \n",
      "A value is trying to be set on a copy of a slice from a DataFrame.\n",
      "Try using .loc[row_indexer,col_indexer] = value instead\n",
      "\n",
      "See the caveats in the documentation: https://pandas.pydata.org/pandas-docs/stable/user_guide/indexing.html#returning-a-view-versus-a-copy\n",
      "  dfHour.dateTime = dfHour.dateTime.dt.round('{}min'.format(grouptime))\n",
      "<ipython-input-2-622e561bc805>:93: SettingWithCopyWarning: \n",
      "A value is trying to be set on a copy of a slice from a DataFrame.\n",
      "Try using .loc[row_indexer,col_indexer] = value instead\n",
      "\n",
      "See the caveats in the documentation: https://pandas.pydata.org/pandas-docs/stable/user_guide/indexing.html#returning-a-view-versus-a-copy\n",
      "  dfHour.dateTime = pd.to_datetime(dfHour.dateTime)\n",
      "<ipython-input-2-622e561bc805>:95: SettingWithCopyWarning: \n",
      "A value is trying to be set on a copy of a slice from a DataFrame.\n",
      "Try using .loc[row_indexer,col_indexer] = value instead\n",
      "\n",
      "See the caveats in the documentation: https://pandas.pydata.org/pandas-docs/stable/user_guide/indexing.html#returning-a-view-versus-a-copy\n",
      "  dfHour.dateTime = dfHour.dateTime.dt.hour*60+dfHour.dateTime.dt.minute\n",
      "<ipython-input-2-622e561bc805>:96: SettingWithCopyWarning: \n",
      "A value is trying to be set on a copy of a slice from a DataFrame.\n",
      "Try using .loc[row_indexer,col_indexer] = value instead\n",
      "\n",
      "See the caveats in the documentation: https://pandas.pydata.org/pandas-docs/stable/user_guide/indexing.html#returning-a-view-versus-a-copy\n",
      "  dfHour.dateTime %= 1440\n"
     ]
    },
    {
     "name": "stdout",
     "output_type": "stream",
     "text": [
      "Reading 2020-12-11_all.csv\n"
     ]
    },
    {
     "name": "stderr",
     "output_type": "stream",
     "text": [
      "<ipython-input-2-622e561bc805>:92: SettingWithCopyWarning: \n",
      "A value is trying to be set on a copy of a slice from a DataFrame.\n",
      "Try using .loc[row_indexer,col_indexer] = value instead\n",
      "\n",
      "See the caveats in the documentation: https://pandas.pydata.org/pandas-docs/stable/user_guide/indexing.html#returning-a-view-versus-a-copy\n",
      "  dfHour.dateTime = dfHour.dateTime.dt.round('{}min'.format(grouptime))\n",
      "<ipython-input-2-622e561bc805>:93: SettingWithCopyWarning: \n",
      "A value is trying to be set on a copy of a slice from a DataFrame.\n",
      "Try using .loc[row_indexer,col_indexer] = value instead\n",
      "\n",
      "See the caveats in the documentation: https://pandas.pydata.org/pandas-docs/stable/user_guide/indexing.html#returning-a-view-versus-a-copy\n",
      "  dfHour.dateTime = pd.to_datetime(dfHour.dateTime)\n",
      "<ipython-input-2-622e561bc805>:95: SettingWithCopyWarning: \n",
      "A value is trying to be set on a copy of a slice from a DataFrame.\n",
      "Try using .loc[row_indexer,col_indexer] = value instead\n",
      "\n",
      "See the caveats in the documentation: https://pandas.pydata.org/pandas-docs/stable/user_guide/indexing.html#returning-a-view-versus-a-copy\n",
      "  dfHour.dateTime = dfHour.dateTime.dt.hour*60+dfHour.dateTime.dt.minute\n",
      "<ipython-input-2-622e561bc805>:96: SettingWithCopyWarning: \n",
      "A value is trying to be set on a copy of a slice from a DataFrame.\n",
      "Try using .loc[row_indexer,col_indexer] = value instead\n",
      "\n",
      "See the caveats in the documentation: https://pandas.pydata.org/pandas-docs/stable/user_guide/indexing.html#returning-a-view-versus-a-copy\n",
      "  dfHour.dateTime %= 1440\n"
     ]
    },
    {
     "name": "stdout",
     "output_type": "stream",
     "text": [
      "Reading 2020-12-12_all.csv\n"
     ]
    },
    {
     "name": "stderr",
     "output_type": "stream",
     "text": [
      "<ipython-input-2-622e561bc805>:92: SettingWithCopyWarning: \n",
      "A value is trying to be set on a copy of a slice from a DataFrame.\n",
      "Try using .loc[row_indexer,col_indexer] = value instead\n",
      "\n",
      "See the caveats in the documentation: https://pandas.pydata.org/pandas-docs/stable/user_guide/indexing.html#returning-a-view-versus-a-copy\n",
      "  dfHour.dateTime = dfHour.dateTime.dt.round('{}min'.format(grouptime))\n",
      "<ipython-input-2-622e561bc805>:93: SettingWithCopyWarning: \n",
      "A value is trying to be set on a copy of a slice from a DataFrame.\n",
      "Try using .loc[row_indexer,col_indexer] = value instead\n",
      "\n",
      "See the caveats in the documentation: https://pandas.pydata.org/pandas-docs/stable/user_guide/indexing.html#returning-a-view-versus-a-copy\n",
      "  dfHour.dateTime = pd.to_datetime(dfHour.dateTime)\n",
      "<ipython-input-2-622e561bc805>:95: SettingWithCopyWarning: \n",
      "A value is trying to be set on a copy of a slice from a DataFrame.\n",
      "Try using .loc[row_indexer,col_indexer] = value instead\n",
      "\n",
      "See the caveats in the documentation: https://pandas.pydata.org/pandas-docs/stable/user_guide/indexing.html#returning-a-view-versus-a-copy\n",
      "  dfHour.dateTime = dfHour.dateTime.dt.hour*60+dfHour.dateTime.dt.minute\n",
      "<ipython-input-2-622e561bc805>:96: SettingWithCopyWarning: \n",
      "A value is trying to be set on a copy of a slice from a DataFrame.\n",
      "Try using .loc[row_indexer,col_indexer] = value instead\n",
      "\n",
      "See the caveats in the documentation: https://pandas.pydata.org/pandas-docs/stable/user_guide/indexing.html#returning-a-view-versus-a-copy\n",
      "  dfHour.dateTime %= 1440\n"
     ]
    },
    {
     "name": "stdout",
     "output_type": "stream",
     "text": [
      "Reading 2020-12-13_all.csv\n"
     ]
    },
    {
     "name": "stderr",
     "output_type": "stream",
     "text": [
      "<ipython-input-2-622e561bc805>:92: SettingWithCopyWarning: \n",
      "A value is trying to be set on a copy of a slice from a DataFrame.\n",
      "Try using .loc[row_indexer,col_indexer] = value instead\n",
      "\n",
      "See the caveats in the documentation: https://pandas.pydata.org/pandas-docs/stable/user_guide/indexing.html#returning-a-view-versus-a-copy\n",
      "  dfHour.dateTime = dfHour.dateTime.dt.round('{}min'.format(grouptime))\n",
      "<ipython-input-2-622e561bc805>:93: SettingWithCopyWarning: \n",
      "A value is trying to be set on a copy of a slice from a DataFrame.\n",
      "Try using .loc[row_indexer,col_indexer] = value instead\n",
      "\n",
      "See the caveats in the documentation: https://pandas.pydata.org/pandas-docs/stable/user_guide/indexing.html#returning-a-view-versus-a-copy\n",
      "  dfHour.dateTime = pd.to_datetime(dfHour.dateTime)\n",
      "<ipython-input-2-622e561bc805>:95: SettingWithCopyWarning: \n",
      "A value is trying to be set on a copy of a slice from a DataFrame.\n",
      "Try using .loc[row_indexer,col_indexer] = value instead\n",
      "\n",
      "See the caveats in the documentation: https://pandas.pydata.org/pandas-docs/stable/user_guide/indexing.html#returning-a-view-versus-a-copy\n",
      "  dfHour.dateTime = dfHour.dateTime.dt.hour*60+dfHour.dateTime.dt.minute\n",
      "<ipython-input-2-622e561bc805>:96: SettingWithCopyWarning: \n",
      "A value is trying to be set on a copy of a slice from a DataFrame.\n",
      "Try using .loc[row_indexer,col_indexer] = value instead\n",
      "\n",
      "See the caveats in the documentation: https://pandas.pydata.org/pandas-docs/stable/user_guide/indexing.html#returning-a-view-versus-a-copy\n",
      "  dfHour.dateTime %= 1440\n"
     ]
    },
    {
     "name": "stdout",
     "output_type": "stream",
     "text": [
      "Reading 2020-12-14_all.csv\n"
     ]
    },
    {
     "name": "stderr",
     "output_type": "stream",
     "text": [
      "<ipython-input-2-622e561bc805>:92: SettingWithCopyWarning: \n",
      "A value is trying to be set on a copy of a slice from a DataFrame.\n",
      "Try using .loc[row_indexer,col_indexer] = value instead\n",
      "\n",
      "See the caveats in the documentation: https://pandas.pydata.org/pandas-docs/stable/user_guide/indexing.html#returning-a-view-versus-a-copy\n",
      "  dfHour.dateTime = dfHour.dateTime.dt.round('{}min'.format(grouptime))\n",
      "<ipython-input-2-622e561bc805>:93: SettingWithCopyWarning: \n",
      "A value is trying to be set on a copy of a slice from a DataFrame.\n",
      "Try using .loc[row_indexer,col_indexer] = value instead\n",
      "\n",
      "See the caveats in the documentation: https://pandas.pydata.org/pandas-docs/stable/user_guide/indexing.html#returning-a-view-versus-a-copy\n",
      "  dfHour.dateTime = pd.to_datetime(dfHour.dateTime)\n",
      "<ipython-input-2-622e561bc805>:95: SettingWithCopyWarning: \n",
      "A value is trying to be set on a copy of a slice from a DataFrame.\n",
      "Try using .loc[row_indexer,col_indexer] = value instead\n",
      "\n",
      "See the caveats in the documentation: https://pandas.pydata.org/pandas-docs/stable/user_guide/indexing.html#returning-a-view-versus-a-copy\n",
      "  dfHour.dateTime = dfHour.dateTime.dt.hour*60+dfHour.dateTime.dt.minute\n",
      "<ipython-input-2-622e561bc805>:96: SettingWithCopyWarning: \n",
      "A value is trying to be set on a copy of a slice from a DataFrame.\n",
      "Try using .loc[row_indexer,col_indexer] = value instead\n",
      "\n",
      "See the caveats in the documentation: https://pandas.pydata.org/pandas-docs/stable/user_guide/indexing.html#returning-a-view-versus-a-copy\n",
      "  dfHour.dateTime %= 1440\n"
     ]
    },
    {
     "name": "stdout",
     "output_type": "stream",
     "text": [
      "Reading 2020-12-15_all.csv\n"
     ]
    },
    {
     "name": "stderr",
     "output_type": "stream",
     "text": [
      "<ipython-input-2-622e561bc805>:92: SettingWithCopyWarning: \n",
      "A value is trying to be set on a copy of a slice from a DataFrame.\n",
      "Try using .loc[row_indexer,col_indexer] = value instead\n",
      "\n",
      "See the caveats in the documentation: https://pandas.pydata.org/pandas-docs/stable/user_guide/indexing.html#returning-a-view-versus-a-copy\n",
      "  dfHour.dateTime = dfHour.dateTime.dt.round('{}min'.format(grouptime))\n",
      "<ipython-input-2-622e561bc805>:93: SettingWithCopyWarning: \n",
      "A value is trying to be set on a copy of a slice from a DataFrame.\n",
      "Try using .loc[row_indexer,col_indexer] = value instead\n",
      "\n",
      "See the caveats in the documentation: https://pandas.pydata.org/pandas-docs/stable/user_guide/indexing.html#returning-a-view-versus-a-copy\n",
      "  dfHour.dateTime = pd.to_datetime(dfHour.dateTime)\n",
      "<ipython-input-2-622e561bc805>:95: SettingWithCopyWarning: \n",
      "A value is trying to be set on a copy of a slice from a DataFrame.\n",
      "Try using .loc[row_indexer,col_indexer] = value instead\n",
      "\n",
      "See the caveats in the documentation: https://pandas.pydata.org/pandas-docs/stable/user_guide/indexing.html#returning-a-view-versus-a-copy\n",
      "  dfHour.dateTime = dfHour.dateTime.dt.hour*60+dfHour.dateTime.dt.minute\n",
      "<ipython-input-2-622e561bc805>:96: SettingWithCopyWarning: \n",
      "A value is trying to be set on a copy of a slice from a DataFrame.\n",
      "Try using .loc[row_indexer,col_indexer] = value instead\n",
      "\n",
      "See the caveats in the documentation: https://pandas.pydata.org/pandas-docs/stable/user_guide/indexing.html#returning-a-view-versus-a-copy\n",
      "  dfHour.dateTime %= 1440\n"
     ]
    },
    {
     "name": "stdout",
     "output_type": "stream",
     "text": [
      "Reading 2020-12-16_all.csv\n"
     ]
    },
    {
     "name": "stderr",
     "output_type": "stream",
     "text": [
      "<ipython-input-2-622e561bc805>:92: SettingWithCopyWarning: \n",
      "A value is trying to be set on a copy of a slice from a DataFrame.\n",
      "Try using .loc[row_indexer,col_indexer] = value instead\n",
      "\n",
      "See the caveats in the documentation: https://pandas.pydata.org/pandas-docs/stable/user_guide/indexing.html#returning-a-view-versus-a-copy\n",
      "  dfHour.dateTime = dfHour.dateTime.dt.round('{}min'.format(grouptime))\n",
      "<ipython-input-2-622e561bc805>:93: SettingWithCopyWarning: \n",
      "A value is trying to be set on a copy of a slice from a DataFrame.\n",
      "Try using .loc[row_indexer,col_indexer] = value instead\n",
      "\n",
      "See the caveats in the documentation: https://pandas.pydata.org/pandas-docs/stable/user_guide/indexing.html#returning-a-view-versus-a-copy\n",
      "  dfHour.dateTime = pd.to_datetime(dfHour.dateTime)\n",
      "<ipython-input-2-622e561bc805>:95: SettingWithCopyWarning: \n",
      "A value is trying to be set on a copy of a slice from a DataFrame.\n",
      "Try using .loc[row_indexer,col_indexer] = value instead\n",
      "\n",
      "See the caveats in the documentation: https://pandas.pydata.org/pandas-docs/stable/user_guide/indexing.html#returning-a-view-versus-a-copy\n",
      "  dfHour.dateTime = dfHour.dateTime.dt.hour*60+dfHour.dateTime.dt.minute\n",
      "<ipython-input-2-622e561bc805>:96: SettingWithCopyWarning: \n",
      "A value is trying to be set on a copy of a slice from a DataFrame.\n",
      "Try using .loc[row_indexer,col_indexer] = value instead\n",
      "\n",
      "See the caveats in the documentation: https://pandas.pydata.org/pandas-docs/stable/user_guide/indexing.html#returning-a-view-versus-a-copy\n",
      "  dfHour.dateTime %= 1440\n"
     ]
    },
    {
     "name": "stdout",
     "output_type": "stream",
     "text": [
      "Reading 2020-12-17_all.csv\n"
     ]
    },
    {
     "name": "stderr",
     "output_type": "stream",
     "text": [
      "<ipython-input-2-622e561bc805>:92: SettingWithCopyWarning: \n",
      "A value is trying to be set on a copy of a slice from a DataFrame.\n",
      "Try using .loc[row_indexer,col_indexer] = value instead\n",
      "\n",
      "See the caveats in the documentation: https://pandas.pydata.org/pandas-docs/stable/user_guide/indexing.html#returning-a-view-versus-a-copy\n",
      "  dfHour.dateTime = dfHour.dateTime.dt.round('{}min'.format(grouptime))\n",
      "<ipython-input-2-622e561bc805>:93: SettingWithCopyWarning: \n",
      "A value is trying to be set on a copy of a slice from a DataFrame.\n",
      "Try using .loc[row_indexer,col_indexer] = value instead\n",
      "\n",
      "See the caveats in the documentation: https://pandas.pydata.org/pandas-docs/stable/user_guide/indexing.html#returning-a-view-versus-a-copy\n",
      "  dfHour.dateTime = pd.to_datetime(dfHour.dateTime)\n",
      "<ipython-input-2-622e561bc805>:95: SettingWithCopyWarning: \n",
      "A value is trying to be set on a copy of a slice from a DataFrame.\n",
      "Try using .loc[row_indexer,col_indexer] = value instead\n",
      "\n",
      "See the caveats in the documentation: https://pandas.pydata.org/pandas-docs/stable/user_guide/indexing.html#returning-a-view-versus-a-copy\n",
      "  dfHour.dateTime = dfHour.dateTime.dt.hour*60+dfHour.dateTime.dt.minute\n",
      "<ipython-input-2-622e561bc805>:96: SettingWithCopyWarning: \n",
      "A value is trying to be set on a copy of a slice from a DataFrame.\n",
      "Try using .loc[row_indexer,col_indexer] = value instead\n",
      "\n",
      "See the caveats in the documentation: https://pandas.pydata.org/pandas-docs/stable/user_guide/indexing.html#returning-a-view-versus-a-copy\n",
      "  dfHour.dateTime %= 1440\n"
     ]
    },
    {
     "name": "stdout",
     "output_type": "stream",
     "text": [
      "Reading 2020-12-18_all.csv\n"
     ]
    },
    {
     "name": "stderr",
     "output_type": "stream",
     "text": [
      "<ipython-input-2-622e561bc805>:92: SettingWithCopyWarning: \n",
      "A value is trying to be set on a copy of a slice from a DataFrame.\n",
      "Try using .loc[row_indexer,col_indexer] = value instead\n",
      "\n",
      "See the caveats in the documentation: https://pandas.pydata.org/pandas-docs/stable/user_guide/indexing.html#returning-a-view-versus-a-copy\n",
      "  dfHour.dateTime = dfHour.dateTime.dt.round('{}min'.format(grouptime))\n",
      "<ipython-input-2-622e561bc805>:93: SettingWithCopyWarning: \n",
      "A value is trying to be set on a copy of a slice from a DataFrame.\n",
      "Try using .loc[row_indexer,col_indexer] = value instead\n",
      "\n",
      "See the caveats in the documentation: https://pandas.pydata.org/pandas-docs/stable/user_guide/indexing.html#returning-a-view-versus-a-copy\n",
      "  dfHour.dateTime = pd.to_datetime(dfHour.dateTime)\n",
      "<ipython-input-2-622e561bc805>:95: SettingWithCopyWarning: \n",
      "A value is trying to be set on a copy of a slice from a DataFrame.\n",
      "Try using .loc[row_indexer,col_indexer] = value instead\n",
      "\n",
      "See the caveats in the documentation: https://pandas.pydata.org/pandas-docs/stable/user_guide/indexing.html#returning-a-view-versus-a-copy\n",
      "  dfHour.dateTime = dfHour.dateTime.dt.hour*60+dfHour.dateTime.dt.minute\n",
      "<ipython-input-2-622e561bc805>:96: SettingWithCopyWarning: \n",
      "A value is trying to be set on a copy of a slice from a DataFrame.\n",
      "Try using .loc[row_indexer,col_indexer] = value instead\n",
      "\n",
      "See the caveats in the documentation: https://pandas.pydata.org/pandas-docs/stable/user_guide/indexing.html#returning-a-view-versus-a-copy\n",
      "  dfHour.dateTime %= 1440\n"
     ]
    },
    {
     "name": "stdout",
     "output_type": "stream",
     "text": [
      "Reading 2020-12-19_all.csv\n"
     ]
    },
    {
     "name": "stderr",
     "output_type": "stream",
     "text": [
      "<ipython-input-2-622e561bc805>:92: SettingWithCopyWarning: \n",
      "A value is trying to be set on a copy of a slice from a DataFrame.\n",
      "Try using .loc[row_indexer,col_indexer] = value instead\n",
      "\n",
      "See the caveats in the documentation: https://pandas.pydata.org/pandas-docs/stable/user_guide/indexing.html#returning-a-view-versus-a-copy\n",
      "  dfHour.dateTime = dfHour.dateTime.dt.round('{}min'.format(grouptime))\n",
      "<ipython-input-2-622e561bc805>:93: SettingWithCopyWarning: \n",
      "A value is trying to be set on a copy of a slice from a DataFrame.\n",
      "Try using .loc[row_indexer,col_indexer] = value instead\n",
      "\n",
      "See the caveats in the documentation: https://pandas.pydata.org/pandas-docs/stable/user_guide/indexing.html#returning-a-view-versus-a-copy\n",
      "  dfHour.dateTime = pd.to_datetime(dfHour.dateTime)\n",
      "<ipython-input-2-622e561bc805>:95: SettingWithCopyWarning: \n",
      "A value is trying to be set on a copy of a slice from a DataFrame.\n",
      "Try using .loc[row_indexer,col_indexer] = value instead\n",
      "\n",
      "See the caveats in the documentation: https://pandas.pydata.org/pandas-docs/stable/user_guide/indexing.html#returning-a-view-versus-a-copy\n",
      "  dfHour.dateTime = dfHour.dateTime.dt.hour*60+dfHour.dateTime.dt.minute\n",
      "<ipython-input-2-622e561bc805>:96: SettingWithCopyWarning: \n",
      "A value is trying to be set on a copy of a slice from a DataFrame.\n",
      "Try using .loc[row_indexer,col_indexer] = value instead\n",
      "\n",
      "See the caveats in the documentation: https://pandas.pydata.org/pandas-docs/stable/user_guide/indexing.html#returning-a-view-versus-a-copy\n",
      "  dfHour.dateTime %= 1440\n"
     ]
    },
    {
     "name": "stdout",
     "output_type": "stream",
     "text": [
      "Reading 2020-12-20_all.csv\n"
     ]
    },
    {
     "name": "stderr",
     "output_type": "stream",
     "text": [
      "<ipython-input-2-622e561bc805>:92: SettingWithCopyWarning: \n",
      "A value is trying to be set on a copy of a slice from a DataFrame.\n",
      "Try using .loc[row_indexer,col_indexer] = value instead\n",
      "\n",
      "See the caveats in the documentation: https://pandas.pydata.org/pandas-docs/stable/user_guide/indexing.html#returning-a-view-versus-a-copy\n",
      "  dfHour.dateTime = dfHour.dateTime.dt.round('{}min'.format(grouptime))\n",
      "<ipython-input-2-622e561bc805>:93: SettingWithCopyWarning: \n",
      "A value is trying to be set on a copy of a slice from a DataFrame.\n",
      "Try using .loc[row_indexer,col_indexer] = value instead\n",
      "\n",
      "See the caveats in the documentation: https://pandas.pydata.org/pandas-docs/stable/user_guide/indexing.html#returning-a-view-versus-a-copy\n",
      "  dfHour.dateTime = pd.to_datetime(dfHour.dateTime)\n",
      "<ipython-input-2-622e561bc805>:95: SettingWithCopyWarning: \n",
      "A value is trying to be set on a copy of a slice from a DataFrame.\n",
      "Try using .loc[row_indexer,col_indexer] = value instead\n",
      "\n",
      "See the caveats in the documentation: https://pandas.pydata.org/pandas-docs/stable/user_guide/indexing.html#returning-a-view-versus-a-copy\n",
      "  dfHour.dateTime = dfHour.dateTime.dt.hour*60+dfHour.dateTime.dt.minute\n",
      "<ipython-input-2-622e561bc805>:96: SettingWithCopyWarning: \n",
      "A value is trying to be set on a copy of a slice from a DataFrame.\n",
      "Try using .loc[row_indexer,col_indexer] = value instead\n",
      "\n",
      "See the caveats in the documentation: https://pandas.pydata.org/pandas-docs/stable/user_guide/indexing.html#returning-a-view-versus-a-copy\n",
      "  dfHour.dateTime %= 1440\n"
     ]
    },
    {
     "name": "stdout",
     "output_type": "stream",
     "text": [
      "Reading 2020-12-21_all.csv\n"
     ]
    },
    {
     "name": "stderr",
     "output_type": "stream",
     "text": [
      "<ipython-input-2-622e561bc805>:92: SettingWithCopyWarning: \n",
      "A value is trying to be set on a copy of a slice from a DataFrame.\n",
      "Try using .loc[row_indexer,col_indexer] = value instead\n",
      "\n",
      "See the caveats in the documentation: https://pandas.pydata.org/pandas-docs/stable/user_guide/indexing.html#returning-a-view-versus-a-copy\n",
      "  dfHour.dateTime = dfHour.dateTime.dt.round('{}min'.format(grouptime))\n",
      "<ipython-input-2-622e561bc805>:93: SettingWithCopyWarning: \n",
      "A value is trying to be set on a copy of a slice from a DataFrame.\n",
      "Try using .loc[row_indexer,col_indexer] = value instead\n",
      "\n",
      "See the caveats in the documentation: https://pandas.pydata.org/pandas-docs/stable/user_guide/indexing.html#returning-a-view-versus-a-copy\n",
      "  dfHour.dateTime = pd.to_datetime(dfHour.dateTime)\n",
      "<ipython-input-2-622e561bc805>:95: SettingWithCopyWarning: \n",
      "A value is trying to be set on a copy of a slice from a DataFrame.\n",
      "Try using .loc[row_indexer,col_indexer] = value instead\n",
      "\n",
      "See the caveats in the documentation: https://pandas.pydata.org/pandas-docs/stable/user_guide/indexing.html#returning-a-view-versus-a-copy\n",
      "  dfHour.dateTime = dfHour.dateTime.dt.hour*60+dfHour.dateTime.dt.minute\n",
      "<ipython-input-2-622e561bc805>:96: SettingWithCopyWarning: \n",
      "A value is trying to be set on a copy of a slice from a DataFrame.\n",
      "Try using .loc[row_indexer,col_indexer] = value instead\n",
      "\n",
      "See the caveats in the documentation: https://pandas.pydata.org/pandas-docs/stable/user_guide/indexing.html#returning-a-view-versus-a-copy\n",
      "  dfHour.dateTime %= 1440\n"
     ]
    },
    {
     "name": "stdout",
     "output_type": "stream",
     "text": [
      "Reading 2020-12-22_all.csv\n"
     ]
    },
    {
     "name": "stderr",
     "output_type": "stream",
     "text": [
      "<ipython-input-2-622e561bc805>:92: SettingWithCopyWarning: \n",
      "A value is trying to be set on a copy of a slice from a DataFrame.\n",
      "Try using .loc[row_indexer,col_indexer] = value instead\n",
      "\n",
      "See the caveats in the documentation: https://pandas.pydata.org/pandas-docs/stable/user_guide/indexing.html#returning-a-view-versus-a-copy\n",
      "  dfHour.dateTime = dfHour.dateTime.dt.round('{}min'.format(grouptime))\n",
      "<ipython-input-2-622e561bc805>:93: SettingWithCopyWarning: \n",
      "A value is trying to be set on a copy of a slice from a DataFrame.\n",
      "Try using .loc[row_indexer,col_indexer] = value instead\n",
      "\n",
      "See the caveats in the documentation: https://pandas.pydata.org/pandas-docs/stable/user_guide/indexing.html#returning-a-view-versus-a-copy\n",
      "  dfHour.dateTime = pd.to_datetime(dfHour.dateTime)\n",
      "<ipython-input-2-622e561bc805>:95: SettingWithCopyWarning: \n",
      "A value is trying to be set on a copy of a slice from a DataFrame.\n",
      "Try using .loc[row_indexer,col_indexer] = value instead\n",
      "\n",
      "See the caveats in the documentation: https://pandas.pydata.org/pandas-docs/stable/user_guide/indexing.html#returning-a-view-versus-a-copy\n",
      "  dfHour.dateTime = dfHour.dateTime.dt.hour*60+dfHour.dateTime.dt.minute\n",
      "<ipython-input-2-622e561bc805>:96: SettingWithCopyWarning: \n",
      "A value is trying to be set on a copy of a slice from a DataFrame.\n",
      "Try using .loc[row_indexer,col_indexer] = value instead\n",
      "\n",
      "See the caveats in the documentation: https://pandas.pydata.org/pandas-docs/stable/user_guide/indexing.html#returning-a-view-versus-a-copy\n",
      "  dfHour.dateTime %= 1440\n"
     ]
    },
    {
     "name": "stdout",
     "output_type": "stream",
     "text": [
      "Reading 2020-12-23_all.csv\n"
     ]
    },
    {
     "name": "stderr",
     "output_type": "stream",
     "text": [
      "<ipython-input-2-622e561bc805>:92: SettingWithCopyWarning: \n",
      "A value is trying to be set on a copy of a slice from a DataFrame.\n",
      "Try using .loc[row_indexer,col_indexer] = value instead\n",
      "\n",
      "See the caveats in the documentation: https://pandas.pydata.org/pandas-docs/stable/user_guide/indexing.html#returning-a-view-versus-a-copy\n",
      "  dfHour.dateTime = dfHour.dateTime.dt.round('{}min'.format(grouptime))\n",
      "<ipython-input-2-622e561bc805>:93: SettingWithCopyWarning: \n",
      "A value is trying to be set on a copy of a slice from a DataFrame.\n",
      "Try using .loc[row_indexer,col_indexer] = value instead\n",
      "\n",
      "See the caveats in the documentation: https://pandas.pydata.org/pandas-docs/stable/user_guide/indexing.html#returning-a-view-versus-a-copy\n",
      "  dfHour.dateTime = pd.to_datetime(dfHour.dateTime)\n",
      "<ipython-input-2-622e561bc805>:95: SettingWithCopyWarning: \n",
      "A value is trying to be set on a copy of a slice from a DataFrame.\n",
      "Try using .loc[row_indexer,col_indexer] = value instead\n",
      "\n",
      "See the caveats in the documentation: https://pandas.pydata.org/pandas-docs/stable/user_guide/indexing.html#returning-a-view-versus-a-copy\n",
      "  dfHour.dateTime = dfHour.dateTime.dt.hour*60+dfHour.dateTime.dt.minute\n",
      "<ipython-input-2-622e561bc805>:96: SettingWithCopyWarning: \n",
      "A value is trying to be set on a copy of a slice from a DataFrame.\n",
      "Try using .loc[row_indexer,col_indexer] = value instead\n",
      "\n",
      "See the caveats in the documentation: https://pandas.pydata.org/pandas-docs/stable/user_guide/indexing.html#returning-a-view-versus-a-copy\n",
      "  dfHour.dateTime %= 1440\n"
     ]
    },
    {
     "name": "stdout",
     "output_type": "stream",
     "text": [
      "Reading 2020-12-24_all.csv\n"
     ]
    },
    {
     "name": "stderr",
     "output_type": "stream",
     "text": [
      "<ipython-input-2-622e561bc805>:92: SettingWithCopyWarning: \n",
      "A value is trying to be set on a copy of a slice from a DataFrame.\n",
      "Try using .loc[row_indexer,col_indexer] = value instead\n",
      "\n",
      "See the caveats in the documentation: https://pandas.pydata.org/pandas-docs/stable/user_guide/indexing.html#returning-a-view-versus-a-copy\n",
      "  dfHour.dateTime = dfHour.dateTime.dt.round('{}min'.format(grouptime))\n",
      "<ipython-input-2-622e561bc805>:93: SettingWithCopyWarning: \n",
      "A value is trying to be set on a copy of a slice from a DataFrame.\n",
      "Try using .loc[row_indexer,col_indexer] = value instead\n",
      "\n",
      "See the caveats in the documentation: https://pandas.pydata.org/pandas-docs/stable/user_guide/indexing.html#returning-a-view-versus-a-copy\n",
      "  dfHour.dateTime = pd.to_datetime(dfHour.dateTime)\n",
      "<ipython-input-2-622e561bc805>:95: SettingWithCopyWarning: \n",
      "A value is trying to be set on a copy of a slice from a DataFrame.\n",
      "Try using .loc[row_indexer,col_indexer] = value instead\n",
      "\n",
      "See the caveats in the documentation: https://pandas.pydata.org/pandas-docs/stable/user_guide/indexing.html#returning-a-view-versus-a-copy\n",
      "  dfHour.dateTime = dfHour.dateTime.dt.hour*60+dfHour.dateTime.dt.minute\n",
      "<ipython-input-2-622e561bc805>:96: SettingWithCopyWarning: \n",
      "A value is trying to be set on a copy of a slice from a DataFrame.\n",
      "Try using .loc[row_indexer,col_indexer] = value instead\n",
      "\n",
      "See the caveats in the documentation: https://pandas.pydata.org/pandas-docs/stable/user_guide/indexing.html#returning-a-view-versus-a-copy\n",
      "  dfHour.dateTime %= 1440\n"
     ]
    },
    {
     "name": "stdout",
     "output_type": "stream",
     "text": [
      "Reading 2020-12-25_all.csv\n"
     ]
    },
    {
     "name": "stderr",
     "output_type": "stream",
     "text": [
      "<ipython-input-2-622e561bc805>:92: SettingWithCopyWarning: \n",
      "A value is trying to be set on a copy of a slice from a DataFrame.\n",
      "Try using .loc[row_indexer,col_indexer] = value instead\n",
      "\n",
      "See the caveats in the documentation: https://pandas.pydata.org/pandas-docs/stable/user_guide/indexing.html#returning-a-view-versus-a-copy\n",
      "  dfHour.dateTime = dfHour.dateTime.dt.round('{}min'.format(grouptime))\n",
      "<ipython-input-2-622e561bc805>:93: SettingWithCopyWarning: \n",
      "A value is trying to be set on a copy of a slice from a DataFrame.\n",
      "Try using .loc[row_indexer,col_indexer] = value instead\n",
      "\n",
      "See the caveats in the documentation: https://pandas.pydata.org/pandas-docs/stable/user_guide/indexing.html#returning-a-view-versus-a-copy\n",
      "  dfHour.dateTime = pd.to_datetime(dfHour.dateTime)\n",
      "<ipython-input-2-622e561bc805>:95: SettingWithCopyWarning: \n",
      "A value is trying to be set on a copy of a slice from a DataFrame.\n",
      "Try using .loc[row_indexer,col_indexer] = value instead\n",
      "\n",
      "See the caveats in the documentation: https://pandas.pydata.org/pandas-docs/stable/user_guide/indexing.html#returning-a-view-versus-a-copy\n",
      "  dfHour.dateTime = dfHour.dateTime.dt.hour*60+dfHour.dateTime.dt.minute\n",
      "<ipython-input-2-622e561bc805>:96: SettingWithCopyWarning: \n",
      "A value is trying to be set on a copy of a slice from a DataFrame.\n",
      "Try using .loc[row_indexer,col_indexer] = value instead\n",
      "\n",
      "See the caveats in the documentation: https://pandas.pydata.org/pandas-docs/stable/user_guide/indexing.html#returning-a-view-versus-a-copy\n",
      "  dfHour.dateTime %= 1440\n"
     ]
    },
    {
     "name": "stdout",
     "output_type": "stream",
     "text": [
      "Reading 2020-12-26_all.csv\n"
     ]
    },
    {
     "name": "stderr",
     "output_type": "stream",
     "text": [
      "<ipython-input-2-622e561bc805>:92: SettingWithCopyWarning: \n",
      "A value is trying to be set on a copy of a slice from a DataFrame.\n",
      "Try using .loc[row_indexer,col_indexer] = value instead\n",
      "\n",
      "See the caveats in the documentation: https://pandas.pydata.org/pandas-docs/stable/user_guide/indexing.html#returning-a-view-versus-a-copy\n",
      "  dfHour.dateTime = dfHour.dateTime.dt.round('{}min'.format(grouptime))\n",
      "<ipython-input-2-622e561bc805>:93: SettingWithCopyWarning: \n",
      "A value is trying to be set on a copy of a slice from a DataFrame.\n",
      "Try using .loc[row_indexer,col_indexer] = value instead\n",
      "\n",
      "See the caveats in the documentation: https://pandas.pydata.org/pandas-docs/stable/user_guide/indexing.html#returning-a-view-versus-a-copy\n",
      "  dfHour.dateTime = pd.to_datetime(dfHour.dateTime)\n",
      "<ipython-input-2-622e561bc805>:95: SettingWithCopyWarning: \n",
      "A value is trying to be set on a copy of a slice from a DataFrame.\n",
      "Try using .loc[row_indexer,col_indexer] = value instead\n",
      "\n",
      "See the caveats in the documentation: https://pandas.pydata.org/pandas-docs/stable/user_guide/indexing.html#returning-a-view-versus-a-copy\n",
      "  dfHour.dateTime = dfHour.dateTime.dt.hour*60+dfHour.dateTime.dt.minute\n",
      "<ipython-input-2-622e561bc805>:96: SettingWithCopyWarning: \n",
      "A value is trying to be set on a copy of a slice from a DataFrame.\n",
      "Try using .loc[row_indexer,col_indexer] = value instead\n",
      "\n",
      "See the caveats in the documentation: https://pandas.pydata.org/pandas-docs/stable/user_guide/indexing.html#returning-a-view-versus-a-copy\n",
      "  dfHour.dateTime %= 1440\n"
     ]
    },
    {
     "name": "stdout",
     "output_type": "stream",
     "text": [
      "Reading 2020-12-27_all.csv\n"
     ]
    },
    {
     "name": "stderr",
     "output_type": "stream",
     "text": [
      "<ipython-input-2-622e561bc805>:92: SettingWithCopyWarning: \n",
      "A value is trying to be set on a copy of a slice from a DataFrame.\n",
      "Try using .loc[row_indexer,col_indexer] = value instead\n",
      "\n",
      "See the caveats in the documentation: https://pandas.pydata.org/pandas-docs/stable/user_guide/indexing.html#returning-a-view-versus-a-copy\n",
      "  dfHour.dateTime = dfHour.dateTime.dt.round('{}min'.format(grouptime))\n",
      "<ipython-input-2-622e561bc805>:93: SettingWithCopyWarning: \n",
      "A value is trying to be set on a copy of a slice from a DataFrame.\n",
      "Try using .loc[row_indexer,col_indexer] = value instead\n",
      "\n",
      "See the caveats in the documentation: https://pandas.pydata.org/pandas-docs/stable/user_guide/indexing.html#returning-a-view-versus-a-copy\n",
      "  dfHour.dateTime = pd.to_datetime(dfHour.dateTime)\n",
      "<ipython-input-2-622e561bc805>:95: SettingWithCopyWarning: \n",
      "A value is trying to be set on a copy of a slice from a DataFrame.\n",
      "Try using .loc[row_indexer,col_indexer] = value instead\n",
      "\n",
      "See the caveats in the documentation: https://pandas.pydata.org/pandas-docs/stable/user_guide/indexing.html#returning-a-view-versus-a-copy\n",
      "  dfHour.dateTime = dfHour.dateTime.dt.hour*60+dfHour.dateTime.dt.minute\n",
      "<ipython-input-2-622e561bc805>:96: SettingWithCopyWarning: \n",
      "A value is trying to be set on a copy of a slice from a DataFrame.\n",
      "Try using .loc[row_indexer,col_indexer] = value instead\n",
      "\n",
      "See the caveats in the documentation: https://pandas.pydata.org/pandas-docs/stable/user_guide/indexing.html#returning-a-view-versus-a-copy\n",
      "  dfHour.dateTime %= 1440\n"
     ]
    },
    {
     "name": "stdout",
     "output_type": "stream",
     "text": [
      "Reading 2020-12-28_all.csv\n"
     ]
    },
    {
     "name": "stderr",
     "output_type": "stream",
     "text": [
      "<ipython-input-2-622e561bc805>:92: SettingWithCopyWarning: \n",
      "A value is trying to be set on a copy of a slice from a DataFrame.\n",
      "Try using .loc[row_indexer,col_indexer] = value instead\n",
      "\n",
      "See the caveats in the documentation: https://pandas.pydata.org/pandas-docs/stable/user_guide/indexing.html#returning-a-view-versus-a-copy\n",
      "  dfHour.dateTime = dfHour.dateTime.dt.round('{}min'.format(grouptime))\n",
      "<ipython-input-2-622e561bc805>:93: SettingWithCopyWarning: \n",
      "A value is trying to be set on a copy of a slice from a DataFrame.\n",
      "Try using .loc[row_indexer,col_indexer] = value instead\n",
      "\n",
      "See the caveats in the documentation: https://pandas.pydata.org/pandas-docs/stable/user_guide/indexing.html#returning-a-view-versus-a-copy\n",
      "  dfHour.dateTime = pd.to_datetime(dfHour.dateTime)\n",
      "<ipython-input-2-622e561bc805>:95: SettingWithCopyWarning: \n",
      "A value is trying to be set on a copy of a slice from a DataFrame.\n",
      "Try using .loc[row_indexer,col_indexer] = value instead\n",
      "\n",
      "See the caveats in the documentation: https://pandas.pydata.org/pandas-docs/stable/user_guide/indexing.html#returning-a-view-versus-a-copy\n",
      "  dfHour.dateTime = dfHour.dateTime.dt.hour*60+dfHour.dateTime.dt.minute\n",
      "<ipython-input-2-622e561bc805>:96: SettingWithCopyWarning: \n",
      "A value is trying to be set on a copy of a slice from a DataFrame.\n",
      "Try using .loc[row_indexer,col_indexer] = value instead\n",
      "\n",
      "See the caveats in the documentation: https://pandas.pydata.org/pandas-docs/stable/user_guide/indexing.html#returning-a-view-versus-a-copy\n",
      "  dfHour.dateTime %= 1440\n"
     ]
    },
    {
     "name": "stdout",
     "output_type": "stream",
     "text": [
      "Reading 2020-12-29_all.csv\n"
     ]
    },
    {
     "name": "stderr",
     "output_type": "stream",
     "text": [
      "<ipython-input-2-622e561bc805>:92: SettingWithCopyWarning: \n",
      "A value is trying to be set on a copy of a slice from a DataFrame.\n",
      "Try using .loc[row_indexer,col_indexer] = value instead\n",
      "\n",
      "See the caveats in the documentation: https://pandas.pydata.org/pandas-docs/stable/user_guide/indexing.html#returning-a-view-versus-a-copy\n",
      "  dfHour.dateTime = dfHour.dateTime.dt.round('{}min'.format(grouptime))\n",
      "<ipython-input-2-622e561bc805>:93: SettingWithCopyWarning: \n",
      "A value is trying to be set on a copy of a slice from a DataFrame.\n",
      "Try using .loc[row_indexer,col_indexer] = value instead\n",
      "\n",
      "See the caveats in the documentation: https://pandas.pydata.org/pandas-docs/stable/user_guide/indexing.html#returning-a-view-versus-a-copy\n",
      "  dfHour.dateTime = pd.to_datetime(dfHour.dateTime)\n",
      "<ipython-input-2-622e561bc805>:95: SettingWithCopyWarning: \n",
      "A value is trying to be set on a copy of a slice from a DataFrame.\n",
      "Try using .loc[row_indexer,col_indexer] = value instead\n",
      "\n",
      "See the caveats in the documentation: https://pandas.pydata.org/pandas-docs/stable/user_guide/indexing.html#returning-a-view-versus-a-copy\n",
      "  dfHour.dateTime = dfHour.dateTime.dt.hour*60+dfHour.dateTime.dt.minute\n",
      "<ipython-input-2-622e561bc805>:96: SettingWithCopyWarning: \n",
      "A value is trying to be set on a copy of a slice from a DataFrame.\n",
      "Try using .loc[row_indexer,col_indexer] = value instead\n",
      "\n",
      "See the caveats in the documentation: https://pandas.pydata.org/pandas-docs/stable/user_guide/indexing.html#returning-a-view-versus-a-copy\n",
      "  dfHour.dateTime %= 1440\n"
     ]
    },
    {
     "name": "stdout",
     "output_type": "stream",
     "text": [
      "Reading 2020-12-30_all.csv\n"
     ]
    },
    {
     "name": "stderr",
     "output_type": "stream",
     "text": [
      "<ipython-input-2-622e561bc805>:92: SettingWithCopyWarning: \n",
      "A value is trying to be set on a copy of a slice from a DataFrame.\n",
      "Try using .loc[row_indexer,col_indexer] = value instead\n",
      "\n",
      "See the caveats in the documentation: https://pandas.pydata.org/pandas-docs/stable/user_guide/indexing.html#returning-a-view-versus-a-copy\n",
      "  dfHour.dateTime = dfHour.dateTime.dt.round('{}min'.format(grouptime))\n",
      "<ipython-input-2-622e561bc805>:93: SettingWithCopyWarning: \n",
      "A value is trying to be set on a copy of a slice from a DataFrame.\n",
      "Try using .loc[row_indexer,col_indexer] = value instead\n",
      "\n",
      "See the caveats in the documentation: https://pandas.pydata.org/pandas-docs/stable/user_guide/indexing.html#returning-a-view-versus-a-copy\n",
      "  dfHour.dateTime = pd.to_datetime(dfHour.dateTime)\n",
      "<ipython-input-2-622e561bc805>:95: SettingWithCopyWarning: \n",
      "A value is trying to be set on a copy of a slice from a DataFrame.\n",
      "Try using .loc[row_indexer,col_indexer] = value instead\n",
      "\n",
      "See the caveats in the documentation: https://pandas.pydata.org/pandas-docs/stable/user_guide/indexing.html#returning-a-view-versus-a-copy\n",
      "  dfHour.dateTime = dfHour.dateTime.dt.hour*60+dfHour.dateTime.dt.minute\n",
      "<ipython-input-2-622e561bc805>:96: SettingWithCopyWarning: \n",
      "A value is trying to be set on a copy of a slice from a DataFrame.\n",
      "Try using .loc[row_indexer,col_indexer] = value instead\n",
      "\n",
      "See the caveats in the documentation: https://pandas.pydata.org/pandas-docs/stable/user_guide/indexing.html#returning-a-view-versus-a-copy\n",
      "  dfHour.dateTime %= 1440\n"
     ]
    },
    {
     "name": "stdout",
     "output_type": "stream",
     "text": [
      "Reading 2020-12-31_all.csv\n"
     ]
    },
    {
     "name": "stderr",
     "output_type": "stream",
     "text": [
      "<ipython-input-2-622e561bc805>:92: SettingWithCopyWarning: \n",
      "A value is trying to be set on a copy of a slice from a DataFrame.\n",
      "Try using .loc[row_indexer,col_indexer] = value instead\n",
      "\n",
      "See the caveats in the documentation: https://pandas.pydata.org/pandas-docs/stable/user_guide/indexing.html#returning-a-view-versus-a-copy\n",
      "  dfHour.dateTime = dfHour.dateTime.dt.round('{}min'.format(grouptime))\n",
      "<ipython-input-2-622e561bc805>:93: SettingWithCopyWarning: \n",
      "A value is trying to be set on a copy of a slice from a DataFrame.\n",
      "Try using .loc[row_indexer,col_indexer] = value instead\n",
      "\n",
      "See the caveats in the documentation: https://pandas.pydata.org/pandas-docs/stable/user_guide/indexing.html#returning-a-view-versus-a-copy\n",
      "  dfHour.dateTime = pd.to_datetime(dfHour.dateTime)\n",
      "<ipython-input-2-622e561bc805>:95: SettingWithCopyWarning: \n",
      "A value is trying to be set on a copy of a slice from a DataFrame.\n",
      "Try using .loc[row_indexer,col_indexer] = value instead\n",
      "\n",
      "See the caveats in the documentation: https://pandas.pydata.org/pandas-docs/stable/user_guide/indexing.html#returning-a-view-versus-a-copy\n",
      "  dfHour.dateTime = dfHour.dateTime.dt.hour*60+dfHour.dateTime.dt.minute\n",
      "<ipython-input-2-622e561bc805>:96: SettingWithCopyWarning: \n",
      "A value is trying to be set on a copy of a slice from a DataFrame.\n",
      "Try using .loc[row_indexer,col_indexer] = value instead\n",
      "\n",
      "See the caveats in the documentation: https://pandas.pydata.org/pandas-docs/stable/user_guide/indexing.html#returning-a-view-versus-a-copy\n",
      "  dfHour.dateTime %= 1440\n"
     ]
    },
    {
     "name": "stdout",
     "output_type": "stream",
     "text": [
      "Reading 2021-01-01_all.csv\n"
     ]
    },
    {
     "name": "stderr",
     "output_type": "stream",
     "text": [
      "<ipython-input-2-622e561bc805>:92: SettingWithCopyWarning: \n",
      "A value is trying to be set on a copy of a slice from a DataFrame.\n",
      "Try using .loc[row_indexer,col_indexer] = value instead\n",
      "\n",
      "See the caveats in the documentation: https://pandas.pydata.org/pandas-docs/stable/user_guide/indexing.html#returning-a-view-versus-a-copy\n",
      "  dfHour.dateTime = dfHour.dateTime.dt.round('{}min'.format(grouptime))\n",
      "<ipython-input-2-622e561bc805>:93: SettingWithCopyWarning: \n",
      "A value is trying to be set on a copy of a slice from a DataFrame.\n",
      "Try using .loc[row_indexer,col_indexer] = value instead\n",
      "\n",
      "See the caveats in the documentation: https://pandas.pydata.org/pandas-docs/stable/user_guide/indexing.html#returning-a-view-versus-a-copy\n",
      "  dfHour.dateTime = pd.to_datetime(dfHour.dateTime)\n",
      "<ipython-input-2-622e561bc805>:95: SettingWithCopyWarning: \n",
      "A value is trying to be set on a copy of a slice from a DataFrame.\n",
      "Try using .loc[row_indexer,col_indexer] = value instead\n",
      "\n",
      "See the caveats in the documentation: https://pandas.pydata.org/pandas-docs/stable/user_guide/indexing.html#returning-a-view-versus-a-copy\n",
      "  dfHour.dateTime = dfHour.dateTime.dt.hour*60+dfHour.dateTime.dt.minute\n",
      "<ipython-input-2-622e561bc805>:96: SettingWithCopyWarning: \n",
      "A value is trying to be set on a copy of a slice from a DataFrame.\n",
      "Try using .loc[row_indexer,col_indexer] = value instead\n",
      "\n",
      "See the caveats in the documentation: https://pandas.pydata.org/pandas-docs/stable/user_guide/indexing.html#returning-a-view-versus-a-copy\n",
      "  dfHour.dateTime %= 1440\n"
     ]
    },
    {
     "name": "stdout",
     "output_type": "stream",
     "text": [
      "Reading 2021-01-02_all.csv\n"
     ]
    },
    {
     "name": "stderr",
     "output_type": "stream",
     "text": [
      "<ipython-input-2-622e561bc805>:92: SettingWithCopyWarning: \n",
      "A value is trying to be set on a copy of a slice from a DataFrame.\n",
      "Try using .loc[row_indexer,col_indexer] = value instead\n",
      "\n",
      "See the caveats in the documentation: https://pandas.pydata.org/pandas-docs/stable/user_guide/indexing.html#returning-a-view-versus-a-copy\n",
      "  dfHour.dateTime = dfHour.dateTime.dt.round('{}min'.format(grouptime))\n",
      "<ipython-input-2-622e561bc805>:93: SettingWithCopyWarning: \n",
      "A value is trying to be set on a copy of a slice from a DataFrame.\n",
      "Try using .loc[row_indexer,col_indexer] = value instead\n",
      "\n",
      "See the caveats in the documentation: https://pandas.pydata.org/pandas-docs/stable/user_guide/indexing.html#returning-a-view-versus-a-copy\n",
      "  dfHour.dateTime = pd.to_datetime(dfHour.dateTime)\n",
      "<ipython-input-2-622e561bc805>:95: SettingWithCopyWarning: \n",
      "A value is trying to be set on a copy of a slice from a DataFrame.\n",
      "Try using .loc[row_indexer,col_indexer] = value instead\n",
      "\n",
      "See the caveats in the documentation: https://pandas.pydata.org/pandas-docs/stable/user_guide/indexing.html#returning-a-view-versus-a-copy\n",
      "  dfHour.dateTime = dfHour.dateTime.dt.hour*60+dfHour.dateTime.dt.minute\n",
      "<ipython-input-2-622e561bc805>:96: SettingWithCopyWarning: \n",
      "A value is trying to be set on a copy of a slice from a DataFrame.\n",
      "Try using .loc[row_indexer,col_indexer] = value instead\n",
      "\n",
      "See the caveats in the documentation: https://pandas.pydata.org/pandas-docs/stable/user_guide/indexing.html#returning-a-view-versus-a-copy\n",
      "  dfHour.dateTime %= 1440\n"
     ]
    },
    {
     "name": "stdout",
     "output_type": "stream",
     "text": [
      "Reading 2021-01-03_all.csv\n"
     ]
    },
    {
     "name": "stderr",
     "output_type": "stream",
     "text": [
      "<ipython-input-2-622e561bc805>:92: SettingWithCopyWarning: \n",
      "A value is trying to be set on a copy of a slice from a DataFrame.\n",
      "Try using .loc[row_indexer,col_indexer] = value instead\n",
      "\n",
      "See the caveats in the documentation: https://pandas.pydata.org/pandas-docs/stable/user_guide/indexing.html#returning-a-view-versus-a-copy\n",
      "  dfHour.dateTime = dfHour.dateTime.dt.round('{}min'.format(grouptime))\n",
      "<ipython-input-2-622e561bc805>:93: SettingWithCopyWarning: \n",
      "A value is trying to be set on a copy of a slice from a DataFrame.\n",
      "Try using .loc[row_indexer,col_indexer] = value instead\n",
      "\n",
      "See the caveats in the documentation: https://pandas.pydata.org/pandas-docs/stable/user_guide/indexing.html#returning-a-view-versus-a-copy\n",
      "  dfHour.dateTime = pd.to_datetime(dfHour.dateTime)\n",
      "<ipython-input-2-622e561bc805>:95: SettingWithCopyWarning: \n",
      "A value is trying to be set on a copy of a slice from a DataFrame.\n",
      "Try using .loc[row_indexer,col_indexer] = value instead\n",
      "\n",
      "See the caveats in the documentation: https://pandas.pydata.org/pandas-docs/stable/user_guide/indexing.html#returning-a-view-versus-a-copy\n",
      "  dfHour.dateTime = dfHour.dateTime.dt.hour*60+dfHour.dateTime.dt.minute\n",
      "<ipython-input-2-622e561bc805>:96: SettingWithCopyWarning: \n",
      "A value is trying to be set on a copy of a slice from a DataFrame.\n",
      "Try using .loc[row_indexer,col_indexer] = value instead\n",
      "\n",
      "See the caveats in the documentation: https://pandas.pydata.org/pandas-docs/stable/user_guide/indexing.html#returning-a-view-versus-a-copy\n",
      "  dfHour.dateTime %= 1440\n"
     ]
    },
    {
     "name": "stdout",
     "output_type": "stream",
     "text": [
      "Reading 2021-01-04_all.csv\n"
     ]
    },
    {
     "name": "stderr",
     "output_type": "stream",
     "text": [
      "<ipython-input-2-622e561bc805>:92: SettingWithCopyWarning: \n",
      "A value is trying to be set on a copy of a slice from a DataFrame.\n",
      "Try using .loc[row_indexer,col_indexer] = value instead\n",
      "\n",
      "See the caveats in the documentation: https://pandas.pydata.org/pandas-docs/stable/user_guide/indexing.html#returning-a-view-versus-a-copy\n",
      "  dfHour.dateTime = dfHour.dateTime.dt.round('{}min'.format(grouptime))\n",
      "<ipython-input-2-622e561bc805>:93: SettingWithCopyWarning: \n",
      "A value is trying to be set on a copy of a slice from a DataFrame.\n",
      "Try using .loc[row_indexer,col_indexer] = value instead\n",
      "\n",
      "See the caveats in the documentation: https://pandas.pydata.org/pandas-docs/stable/user_guide/indexing.html#returning-a-view-versus-a-copy\n",
      "  dfHour.dateTime = pd.to_datetime(dfHour.dateTime)\n",
      "<ipython-input-2-622e561bc805>:95: SettingWithCopyWarning: \n",
      "A value is trying to be set on a copy of a slice from a DataFrame.\n",
      "Try using .loc[row_indexer,col_indexer] = value instead\n",
      "\n",
      "See the caveats in the documentation: https://pandas.pydata.org/pandas-docs/stable/user_guide/indexing.html#returning-a-view-versus-a-copy\n",
      "  dfHour.dateTime = dfHour.dateTime.dt.hour*60+dfHour.dateTime.dt.minute\n",
      "<ipython-input-2-622e561bc805>:96: SettingWithCopyWarning: \n",
      "A value is trying to be set on a copy of a slice from a DataFrame.\n",
      "Try using .loc[row_indexer,col_indexer] = value instead\n",
      "\n",
      "See the caveats in the documentation: https://pandas.pydata.org/pandas-docs/stable/user_guide/indexing.html#returning-a-view-versus-a-copy\n",
      "  dfHour.dateTime %= 1440\n"
     ]
    },
    {
     "name": "stdout",
     "output_type": "stream",
     "text": [
      "Reading 2021-01-05_all.csv\n"
     ]
    },
    {
     "name": "stderr",
     "output_type": "stream",
     "text": [
      "<ipython-input-2-622e561bc805>:92: SettingWithCopyWarning: \n",
      "A value is trying to be set on a copy of a slice from a DataFrame.\n",
      "Try using .loc[row_indexer,col_indexer] = value instead\n",
      "\n",
      "See the caveats in the documentation: https://pandas.pydata.org/pandas-docs/stable/user_guide/indexing.html#returning-a-view-versus-a-copy\n",
      "  dfHour.dateTime = dfHour.dateTime.dt.round('{}min'.format(grouptime))\n",
      "<ipython-input-2-622e561bc805>:93: SettingWithCopyWarning: \n",
      "A value is trying to be set on a copy of a slice from a DataFrame.\n",
      "Try using .loc[row_indexer,col_indexer] = value instead\n",
      "\n",
      "See the caveats in the documentation: https://pandas.pydata.org/pandas-docs/stable/user_guide/indexing.html#returning-a-view-versus-a-copy\n",
      "  dfHour.dateTime = pd.to_datetime(dfHour.dateTime)\n",
      "<ipython-input-2-622e561bc805>:95: SettingWithCopyWarning: \n",
      "A value is trying to be set on a copy of a slice from a DataFrame.\n",
      "Try using .loc[row_indexer,col_indexer] = value instead\n",
      "\n",
      "See the caveats in the documentation: https://pandas.pydata.org/pandas-docs/stable/user_guide/indexing.html#returning-a-view-versus-a-copy\n",
      "  dfHour.dateTime = dfHour.dateTime.dt.hour*60+dfHour.dateTime.dt.minute\n",
      "<ipython-input-2-622e561bc805>:96: SettingWithCopyWarning: \n",
      "A value is trying to be set on a copy of a slice from a DataFrame.\n",
      "Try using .loc[row_indexer,col_indexer] = value instead\n",
      "\n",
      "See the caveats in the documentation: https://pandas.pydata.org/pandas-docs/stable/user_guide/indexing.html#returning-a-view-versus-a-copy\n",
      "  dfHour.dateTime %= 1440\n"
     ]
    },
    {
     "name": "stdout",
     "output_type": "stream",
     "text": [
      "Reading 2021-01-06_all.csv\n"
     ]
    },
    {
     "name": "stderr",
     "output_type": "stream",
     "text": [
      "<ipython-input-2-622e561bc805>:92: SettingWithCopyWarning: \n",
      "A value is trying to be set on a copy of a slice from a DataFrame.\n",
      "Try using .loc[row_indexer,col_indexer] = value instead\n",
      "\n",
      "See the caveats in the documentation: https://pandas.pydata.org/pandas-docs/stable/user_guide/indexing.html#returning-a-view-versus-a-copy\n",
      "  dfHour.dateTime = dfHour.dateTime.dt.round('{}min'.format(grouptime))\n",
      "<ipython-input-2-622e561bc805>:93: SettingWithCopyWarning: \n",
      "A value is trying to be set on a copy of a slice from a DataFrame.\n",
      "Try using .loc[row_indexer,col_indexer] = value instead\n",
      "\n",
      "See the caveats in the documentation: https://pandas.pydata.org/pandas-docs/stable/user_guide/indexing.html#returning-a-view-versus-a-copy\n",
      "  dfHour.dateTime = pd.to_datetime(dfHour.dateTime)\n",
      "<ipython-input-2-622e561bc805>:95: SettingWithCopyWarning: \n",
      "A value is trying to be set on a copy of a slice from a DataFrame.\n",
      "Try using .loc[row_indexer,col_indexer] = value instead\n",
      "\n",
      "See the caveats in the documentation: https://pandas.pydata.org/pandas-docs/stable/user_guide/indexing.html#returning-a-view-versus-a-copy\n",
      "  dfHour.dateTime = dfHour.dateTime.dt.hour*60+dfHour.dateTime.dt.minute\n",
      "<ipython-input-2-622e561bc805>:96: SettingWithCopyWarning: \n",
      "A value is trying to be set on a copy of a slice from a DataFrame.\n",
      "Try using .loc[row_indexer,col_indexer] = value instead\n",
      "\n",
      "See the caveats in the documentation: https://pandas.pydata.org/pandas-docs/stable/user_guide/indexing.html#returning-a-view-versus-a-copy\n",
      "  dfHour.dateTime %= 1440\n"
     ]
    },
    {
     "name": "stdout",
     "output_type": "stream",
     "text": [
      "Reading 2021-01-07_all.csv\n"
     ]
    },
    {
     "name": "stderr",
     "output_type": "stream",
     "text": [
      "<ipython-input-2-622e561bc805>:92: SettingWithCopyWarning: \n",
      "A value is trying to be set on a copy of a slice from a DataFrame.\n",
      "Try using .loc[row_indexer,col_indexer] = value instead\n",
      "\n",
      "See the caveats in the documentation: https://pandas.pydata.org/pandas-docs/stable/user_guide/indexing.html#returning-a-view-versus-a-copy\n",
      "  dfHour.dateTime = dfHour.dateTime.dt.round('{}min'.format(grouptime))\n",
      "<ipython-input-2-622e561bc805>:93: SettingWithCopyWarning: \n",
      "A value is trying to be set on a copy of a slice from a DataFrame.\n",
      "Try using .loc[row_indexer,col_indexer] = value instead\n",
      "\n",
      "See the caveats in the documentation: https://pandas.pydata.org/pandas-docs/stable/user_guide/indexing.html#returning-a-view-versus-a-copy\n",
      "  dfHour.dateTime = pd.to_datetime(dfHour.dateTime)\n",
      "<ipython-input-2-622e561bc805>:95: SettingWithCopyWarning: \n",
      "A value is trying to be set on a copy of a slice from a DataFrame.\n",
      "Try using .loc[row_indexer,col_indexer] = value instead\n",
      "\n",
      "See the caveats in the documentation: https://pandas.pydata.org/pandas-docs/stable/user_guide/indexing.html#returning-a-view-versus-a-copy\n",
      "  dfHour.dateTime = dfHour.dateTime.dt.hour*60+dfHour.dateTime.dt.minute\n",
      "<ipython-input-2-622e561bc805>:96: SettingWithCopyWarning: \n",
      "A value is trying to be set on a copy of a slice from a DataFrame.\n",
      "Try using .loc[row_indexer,col_indexer] = value instead\n",
      "\n",
      "See the caveats in the documentation: https://pandas.pydata.org/pandas-docs/stable/user_guide/indexing.html#returning-a-view-versus-a-copy\n",
      "  dfHour.dateTime %= 1440\n"
     ]
    },
    {
     "name": "stdout",
     "output_type": "stream",
     "text": [
      "Reading 2021-01-08_all.csv\n"
     ]
    },
    {
     "name": "stderr",
     "output_type": "stream",
     "text": [
      "<ipython-input-2-622e561bc805>:92: SettingWithCopyWarning: \n",
      "A value is trying to be set on a copy of a slice from a DataFrame.\n",
      "Try using .loc[row_indexer,col_indexer] = value instead\n",
      "\n",
      "See the caveats in the documentation: https://pandas.pydata.org/pandas-docs/stable/user_guide/indexing.html#returning-a-view-versus-a-copy\n",
      "  dfHour.dateTime = dfHour.dateTime.dt.round('{}min'.format(grouptime))\n",
      "<ipython-input-2-622e561bc805>:93: SettingWithCopyWarning: \n",
      "A value is trying to be set on a copy of a slice from a DataFrame.\n",
      "Try using .loc[row_indexer,col_indexer] = value instead\n",
      "\n",
      "See the caveats in the documentation: https://pandas.pydata.org/pandas-docs/stable/user_guide/indexing.html#returning-a-view-versus-a-copy\n",
      "  dfHour.dateTime = pd.to_datetime(dfHour.dateTime)\n",
      "<ipython-input-2-622e561bc805>:95: SettingWithCopyWarning: \n",
      "A value is trying to be set on a copy of a slice from a DataFrame.\n",
      "Try using .loc[row_indexer,col_indexer] = value instead\n",
      "\n",
      "See the caveats in the documentation: https://pandas.pydata.org/pandas-docs/stable/user_guide/indexing.html#returning-a-view-versus-a-copy\n",
      "  dfHour.dateTime = dfHour.dateTime.dt.hour*60+dfHour.dateTime.dt.minute\n",
      "<ipython-input-2-622e561bc805>:96: SettingWithCopyWarning: \n",
      "A value is trying to be set on a copy of a slice from a DataFrame.\n",
      "Try using .loc[row_indexer,col_indexer] = value instead\n",
      "\n",
      "See the caveats in the documentation: https://pandas.pydata.org/pandas-docs/stable/user_guide/indexing.html#returning-a-view-versus-a-copy\n",
      "  dfHour.dateTime %= 1440\n"
     ]
    },
    {
     "name": "stdout",
     "output_type": "stream",
     "text": [
      "Reading 2021-01-09_all.csv\n"
     ]
    },
    {
     "name": "stderr",
     "output_type": "stream",
     "text": [
      "<ipython-input-2-622e561bc805>:92: SettingWithCopyWarning: \n",
      "A value is trying to be set on a copy of a slice from a DataFrame.\n",
      "Try using .loc[row_indexer,col_indexer] = value instead\n",
      "\n",
      "See the caveats in the documentation: https://pandas.pydata.org/pandas-docs/stable/user_guide/indexing.html#returning-a-view-versus-a-copy\n",
      "  dfHour.dateTime = dfHour.dateTime.dt.round('{}min'.format(grouptime))\n",
      "<ipython-input-2-622e561bc805>:93: SettingWithCopyWarning: \n",
      "A value is trying to be set on a copy of a slice from a DataFrame.\n",
      "Try using .loc[row_indexer,col_indexer] = value instead\n",
      "\n",
      "See the caveats in the documentation: https://pandas.pydata.org/pandas-docs/stable/user_guide/indexing.html#returning-a-view-versus-a-copy\n",
      "  dfHour.dateTime = pd.to_datetime(dfHour.dateTime)\n",
      "<ipython-input-2-622e561bc805>:95: SettingWithCopyWarning: \n",
      "A value is trying to be set on a copy of a slice from a DataFrame.\n",
      "Try using .loc[row_indexer,col_indexer] = value instead\n",
      "\n",
      "See the caveats in the documentation: https://pandas.pydata.org/pandas-docs/stable/user_guide/indexing.html#returning-a-view-versus-a-copy\n",
      "  dfHour.dateTime = dfHour.dateTime.dt.hour*60+dfHour.dateTime.dt.minute\n",
      "<ipython-input-2-622e561bc805>:96: SettingWithCopyWarning: \n",
      "A value is trying to be set on a copy of a slice from a DataFrame.\n",
      "Try using .loc[row_indexer,col_indexer] = value instead\n",
      "\n",
      "See the caveats in the documentation: https://pandas.pydata.org/pandas-docs/stable/user_guide/indexing.html#returning-a-view-versus-a-copy\n",
      "  dfHour.dateTime %= 1440\n"
     ]
    },
    {
     "name": "stdout",
     "output_type": "stream",
     "text": [
      "Reading 2021-01-10_all.csv\n"
     ]
    },
    {
     "name": "stderr",
     "output_type": "stream",
     "text": [
      "<ipython-input-2-622e561bc805>:92: SettingWithCopyWarning: \n",
      "A value is trying to be set on a copy of a slice from a DataFrame.\n",
      "Try using .loc[row_indexer,col_indexer] = value instead\n",
      "\n",
      "See the caveats in the documentation: https://pandas.pydata.org/pandas-docs/stable/user_guide/indexing.html#returning-a-view-versus-a-copy\n",
      "  dfHour.dateTime = dfHour.dateTime.dt.round('{}min'.format(grouptime))\n",
      "<ipython-input-2-622e561bc805>:93: SettingWithCopyWarning: \n",
      "A value is trying to be set on a copy of a slice from a DataFrame.\n",
      "Try using .loc[row_indexer,col_indexer] = value instead\n",
      "\n",
      "See the caveats in the documentation: https://pandas.pydata.org/pandas-docs/stable/user_guide/indexing.html#returning-a-view-versus-a-copy\n",
      "  dfHour.dateTime = pd.to_datetime(dfHour.dateTime)\n",
      "<ipython-input-2-622e561bc805>:95: SettingWithCopyWarning: \n",
      "A value is trying to be set on a copy of a slice from a DataFrame.\n",
      "Try using .loc[row_indexer,col_indexer] = value instead\n",
      "\n",
      "See the caveats in the documentation: https://pandas.pydata.org/pandas-docs/stable/user_guide/indexing.html#returning-a-view-versus-a-copy\n",
      "  dfHour.dateTime = dfHour.dateTime.dt.hour*60+dfHour.dateTime.dt.minute\n",
      "<ipython-input-2-622e561bc805>:96: SettingWithCopyWarning: \n",
      "A value is trying to be set on a copy of a slice from a DataFrame.\n",
      "Try using .loc[row_indexer,col_indexer] = value instead\n",
      "\n",
      "See the caveats in the documentation: https://pandas.pydata.org/pandas-docs/stable/user_guide/indexing.html#returning-a-view-versus-a-copy\n",
      "  dfHour.dateTime %= 1440\n"
     ]
    },
    {
     "name": "stdout",
     "output_type": "stream",
     "text": [
      "Reading 2021-01-11_all.csv\n"
     ]
    },
    {
     "name": "stderr",
     "output_type": "stream",
     "text": [
      "<ipython-input-2-622e561bc805>:92: SettingWithCopyWarning: \n",
      "A value is trying to be set on a copy of a slice from a DataFrame.\n",
      "Try using .loc[row_indexer,col_indexer] = value instead\n",
      "\n",
      "See the caveats in the documentation: https://pandas.pydata.org/pandas-docs/stable/user_guide/indexing.html#returning-a-view-versus-a-copy\n",
      "  dfHour.dateTime = dfHour.dateTime.dt.round('{}min'.format(grouptime))\n",
      "<ipython-input-2-622e561bc805>:93: SettingWithCopyWarning: \n",
      "A value is trying to be set on a copy of a slice from a DataFrame.\n",
      "Try using .loc[row_indexer,col_indexer] = value instead\n",
      "\n",
      "See the caveats in the documentation: https://pandas.pydata.org/pandas-docs/stable/user_guide/indexing.html#returning-a-view-versus-a-copy\n",
      "  dfHour.dateTime = pd.to_datetime(dfHour.dateTime)\n",
      "<ipython-input-2-622e561bc805>:95: SettingWithCopyWarning: \n",
      "A value is trying to be set on a copy of a slice from a DataFrame.\n",
      "Try using .loc[row_indexer,col_indexer] = value instead\n",
      "\n",
      "See the caveats in the documentation: https://pandas.pydata.org/pandas-docs/stable/user_guide/indexing.html#returning-a-view-versus-a-copy\n",
      "  dfHour.dateTime = dfHour.dateTime.dt.hour*60+dfHour.dateTime.dt.minute\n",
      "<ipython-input-2-622e561bc805>:96: SettingWithCopyWarning: \n",
      "A value is trying to be set on a copy of a slice from a DataFrame.\n",
      "Try using .loc[row_indexer,col_indexer] = value instead\n",
      "\n",
      "See the caveats in the documentation: https://pandas.pydata.org/pandas-docs/stable/user_guide/indexing.html#returning-a-view-versus-a-copy\n",
      "  dfHour.dateTime %= 1440\n"
     ]
    },
    {
     "name": "stdout",
     "output_type": "stream",
     "text": [
      "Reading 2021-01-12_all.csv\n"
     ]
    },
    {
     "name": "stderr",
     "output_type": "stream",
     "text": [
      "<ipython-input-2-622e561bc805>:92: SettingWithCopyWarning: \n",
      "A value is trying to be set on a copy of a slice from a DataFrame.\n",
      "Try using .loc[row_indexer,col_indexer] = value instead\n",
      "\n",
      "See the caveats in the documentation: https://pandas.pydata.org/pandas-docs/stable/user_guide/indexing.html#returning-a-view-versus-a-copy\n",
      "  dfHour.dateTime = dfHour.dateTime.dt.round('{}min'.format(grouptime))\n",
      "<ipython-input-2-622e561bc805>:93: SettingWithCopyWarning: \n",
      "A value is trying to be set on a copy of a slice from a DataFrame.\n",
      "Try using .loc[row_indexer,col_indexer] = value instead\n",
      "\n",
      "See the caveats in the documentation: https://pandas.pydata.org/pandas-docs/stable/user_guide/indexing.html#returning-a-view-versus-a-copy\n",
      "  dfHour.dateTime = pd.to_datetime(dfHour.dateTime)\n",
      "<ipython-input-2-622e561bc805>:95: SettingWithCopyWarning: \n",
      "A value is trying to be set on a copy of a slice from a DataFrame.\n",
      "Try using .loc[row_indexer,col_indexer] = value instead\n",
      "\n",
      "See the caveats in the documentation: https://pandas.pydata.org/pandas-docs/stable/user_guide/indexing.html#returning-a-view-versus-a-copy\n",
      "  dfHour.dateTime = dfHour.dateTime.dt.hour*60+dfHour.dateTime.dt.minute\n",
      "<ipython-input-2-622e561bc805>:96: SettingWithCopyWarning: \n",
      "A value is trying to be set on a copy of a slice from a DataFrame.\n",
      "Try using .loc[row_indexer,col_indexer] = value instead\n",
      "\n",
      "See the caveats in the documentation: https://pandas.pydata.org/pandas-docs/stable/user_guide/indexing.html#returning-a-view-versus-a-copy\n",
      "  dfHour.dateTime %= 1440\n"
     ]
    },
    {
     "name": "stdout",
     "output_type": "stream",
     "text": [
      "Reading 2021-01-13_all.csv\n"
     ]
    },
    {
     "name": "stderr",
     "output_type": "stream",
     "text": [
      "<ipython-input-2-622e561bc805>:92: SettingWithCopyWarning: \n",
      "A value is trying to be set on a copy of a slice from a DataFrame.\n",
      "Try using .loc[row_indexer,col_indexer] = value instead\n",
      "\n",
      "See the caveats in the documentation: https://pandas.pydata.org/pandas-docs/stable/user_guide/indexing.html#returning-a-view-versus-a-copy\n",
      "  dfHour.dateTime = dfHour.dateTime.dt.round('{}min'.format(grouptime))\n",
      "<ipython-input-2-622e561bc805>:93: SettingWithCopyWarning: \n",
      "A value is trying to be set on a copy of a slice from a DataFrame.\n",
      "Try using .loc[row_indexer,col_indexer] = value instead\n",
      "\n",
      "See the caveats in the documentation: https://pandas.pydata.org/pandas-docs/stable/user_guide/indexing.html#returning-a-view-versus-a-copy\n",
      "  dfHour.dateTime = pd.to_datetime(dfHour.dateTime)\n",
      "<ipython-input-2-622e561bc805>:95: SettingWithCopyWarning: \n",
      "A value is trying to be set on a copy of a slice from a DataFrame.\n",
      "Try using .loc[row_indexer,col_indexer] = value instead\n",
      "\n",
      "See the caveats in the documentation: https://pandas.pydata.org/pandas-docs/stable/user_guide/indexing.html#returning-a-view-versus-a-copy\n",
      "  dfHour.dateTime = dfHour.dateTime.dt.hour*60+dfHour.dateTime.dt.minute\n",
      "<ipython-input-2-622e561bc805>:96: SettingWithCopyWarning: \n",
      "A value is trying to be set on a copy of a slice from a DataFrame.\n",
      "Try using .loc[row_indexer,col_indexer] = value instead\n",
      "\n",
      "See the caveats in the documentation: https://pandas.pydata.org/pandas-docs/stable/user_guide/indexing.html#returning-a-view-versus-a-copy\n",
      "  dfHour.dateTime %= 1440\n"
     ]
    },
    {
     "name": "stdout",
     "output_type": "stream",
     "text": [
      "Reading 2021-01-14_all.csv\n"
     ]
    },
    {
     "name": "stderr",
     "output_type": "stream",
     "text": [
      "<ipython-input-2-622e561bc805>:92: SettingWithCopyWarning: \n",
      "A value is trying to be set on a copy of a slice from a DataFrame.\n",
      "Try using .loc[row_indexer,col_indexer] = value instead\n",
      "\n",
      "See the caveats in the documentation: https://pandas.pydata.org/pandas-docs/stable/user_guide/indexing.html#returning-a-view-versus-a-copy\n",
      "  dfHour.dateTime = dfHour.dateTime.dt.round('{}min'.format(grouptime))\n",
      "<ipython-input-2-622e561bc805>:93: SettingWithCopyWarning: \n",
      "A value is trying to be set on a copy of a slice from a DataFrame.\n",
      "Try using .loc[row_indexer,col_indexer] = value instead\n",
      "\n",
      "See the caveats in the documentation: https://pandas.pydata.org/pandas-docs/stable/user_guide/indexing.html#returning-a-view-versus-a-copy\n",
      "  dfHour.dateTime = pd.to_datetime(dfHour.dateTime)\n",
      "<ipython-input-2-622e561bc805>:95: SettingWithCopyWarning: \n",
      "A value is trying to be set on a copy of a slice from a DataFrame.\n",
      "Try using .loc[row_indexer,col_indexer] = value instead\n",
      "\n",
      "See the caveats in the documentation: https://pandas.pydata.org/pandas-docs/stable/user_guide/indexing.html#returning-a-view-versus-a-copy\n",
      "  dfHour.dateTime = dfHour.dateTime.dt.hour*60+dfHour.dateTime.dt.minute\n",
      "<ipython-input-2-622e561bc805>:96: SettingWithCopyWarning: \n",
      "A value is trying to be set on a copy of a slice from a DataFrame.\n",
      "Try using .loc[row_indexer,col_indexer] = value instead\n",
      "\n",
      "See the caveats in the documentation: https://pandas.pydata.org/pandas-docs/stable/user_guide/indexing.html#returning-a-view-versus-a-copy\n",
      "  dfHour.dateTime %= 1440\n"
     ]
    },
    {
     "name": "stdout",
     "output_type": "stream",
     "text": [
      "Reading 2021-01-15_all.csv\n"
     ]
    },
    {
     "name": "stderr",
     "output_type": "stream",
     "text": [
      "<ipython-input-2-622e561bc805>:92: SettingWithCopyWarning: \n",
      "A value is trying to be set on a copy of a slice from a DataFrame.\n",
      "Try using .loc[row_indexer,col_indexer] = value instead\n",
      "\n",
      "See the caveats in the documentation: https://pandas.pydata.org/pandas-docs/stable/user_guide/indexing.html#returning-a-view-versus-a-copy\n",
      "  dfHour.dateTime = dfHour.dateTime.dt.round('{}min'.format(grouptime))\n",
      "<ipython-input-2-622e561bc805>:93: SettingWithCopyWarning: \n",
      "A value is trying to be set on a copy of a slice from a DataFrame.\n",
      "Try using .loc[row_indexer,col_indexer] = value instead\n",
      "\n",
      "See the caveats in the documentation: https://pandas.pydata.org/pandas-docs/stable/user_guide/indexing.html#returning-a-view-versus-a-copy\n",
      "  dfHour.dateTime = pd.to_datetime(dfHour.dateTime)\n",
      "<ipython-input-2-622e561bc805>:95: SettingWithCopyWarning: \n",
      "A value is trying to be set on a copy of a slice from a DataFrame.\n",
      "Try using .loc[row_indexer,col_indexer] = value instead\n",
      "\n",
      "See the caveats in the documentation: https://pandas.pydata.org/pandas-docs/stable/user_guide/indexing.html#returning-a-view-versus-a-copy\n",
      "  dfHour.dateTime = dfHour.dateTime.dt.hour*60+dfHour.dateTime.dt.minute\n",
      "<ipython-input-2-622e561bc805>:96: SettingWithCopyWarning: \n",
      "A value is trying to be set on a copy of a slice from a DataFrame.\n",
      "Try using .loc[row_indexer,col_indexer] = value instead\n",
      "\n",
      "See the caveats in the documentation: https://pandas.pydata.org/pandas-docs/stable/user_guide/indexing.html#returning-a-view-versus-a-copy\n",
      "  dfHour.dateTime %= 1440\n"
     ]
    },
    {
     "name": "stdout",
     "output_type": "stream",
     "text": [
      "Reading 2021-01-16_all.csv\n"
     ]
    },
    {
     "name": "stderr",
     "output_type": "stream",
     "text": [
      "<ipython-input-2-622e561bc805>:92: SettingWithCopyWarning: \n",
      "A value is trying to be set on a copy of a slice from a DataFrame.\n",
      "Try using .loc[row_indexer,col_indexer] = value instead\n",
      "\n",
      "See the caveats in the documentation: https://pandas.pydata.org/pandas-docs/stable/user_guide/indexing.html#returning-a-view-versus-a-copy\n",
      "  dfHour.dateTime = dfHour.dateTime.dt.round('{}min'.format(grouptime))\n",
      "<ipython-input-2-622e561bc805>:93: SettingWithCopyWarning: \n",
      "A value is trying to be set on a copy of a slice from a DataFrame.\n",
      "Try using .loc[row_indexer,col_indexer] = value instead\n",
      "\n",
      "See the caveats in the documentation: https://pandas.pydata.org/pandas-docs/stable/user_guide/indexing.html#returning-a-view-versus-a-copy\n",
      "  dfHour.dateTime = pd.to_datetime(dfHour.dateTime)\n",
      "<ipython-input-2-622e561bc805>:95: SettingWithCopyWarning: \n",
      "A value is trying to be set on a copy of a slice from a DataFrame.\n",
      "Try using .loc[row_indexer,col_indexer] = value instead\n",
      "\n",
      "See the caveats in the documentation: https://pandas.pydata.org/pandas-docs/stable/user_guide/indexing.html#returning-a-view-versus-a-copy\n",
      "  dfHour.dateTime = dfHour.dateTime.dt.hour*60+dfHour.dateTime.dt.minute\n",
      "<ipython-input-2-622e561bc805>:96: SettingWithCopyWarning: \n",
      "A value is trying to be set on a copy of a slice from a DataFrame.\n",
      "Try using .loc[row_indexer,col_indexer] = value instead\n",
      "\n",
      "See the caveats in the documentation: https://pandas.pydata.org/pandas-docs/stable/user_guide/indexing.html#returning-a-view-versus-a-copy\n",
      "  dfHour.dateTime %= 1440\n"
     ]
    },
    {
     "name": "stdout",
     "output_type": "stream",
     "text": [
      "Reading 2021-01-17_all.csv\n"
     ]
    },
    {
     "name": "stderr",
     "output_type": "stream",
     "text": [
      "<ipython-input-2-622e561bc805>:92: SettingWithCopyWarning: \n",
      "A value is trying to be set on a copy of a slice from a DataFrame.\n",
      "Try using .loc[row_indexer,col_indexer] = value instead\n",
      "\n",
      "See the caveats in the documentation: https://pandas.pydata.org/pandas-docs/stable/user_guide/indexing.html#returning-a-view-versus-a-copy\n",
      "  dfHour.dateTime = dfHour.dateTime.dt.round('{}min'.format(grouptime))\n",
      "<ipython-input-2-622e561bc805>:93: SettingWithCopyWarning: \n",
      "A value is trying to be set on a copy of a slice from a DataFrame.\n",
      "Try using .loc[row_indexer,col_indexer] = value instead\n",
      "\n",
      "See the caveats in the documentation: https://pandas.pydata.org/pandas-docs/stable/user_guide/indexing.html#returning-a-view-versus-a-copy\n",
      "  dfHour.dateTime = pd.to_datetime(dfHour.dateTime)\n",
      "<ipython-input-2-622e561bc805>:95: SettingWithCopyWarning: \n",
      "A value is trying to be set on a copy of a slice from a DataFrame.\n",
      "Try using .loc[row_indexer,col_indexer] = value instead\n",
      "\n",
      "See the caveats in the documentation: https://pandas.pydata.org/pandas-docs/stable/user_guide/indexing.html#returning-a-view-versus-a-copy\n",
      "  dfHour.dateTime = dfHour.dateTime.dt.hour*60+dfHour.dateTime.dt.minute\n",
      "<ipython-input-2-622e561bc805>:96: SettingWithCopyWarning: \n",
      "A value is trying to be set on a copy of a slice from a DataFrame.\n",
      "Try using .loc[row_indexer,col_indexer] = value instead\n",
      "\n",
      "See the caveats in the documentation: https://pandas.pydata.org/pandas-docs/stable/user_guide/indexing.html#returning-a-view-versus-a-copy\n",
      "  dfHour.dateTime %= 1440\n"
     ]
    },
    {
     "name": "stdout",
     "output_type": "stream",
     "text": [
      "Reading 2021-01-18_all.csv\n"
     ]
    },
    {
     "name": "stderr",
     "output_type": "stream",
     "text": [
      "<ipython-input-2-622e561bc805>:92: SettingWithCopyWarning: \n",
      "A value is trying to be set on a copy of a slice from a DataFrame.\n",
      "Try using .loc[row_indexer,col_indexer] = value instead\n",
      "\n",
      "See the caveats in the documentation: https://pandas.pydata.org/pandas-docs/stable/user_guide/indexing.html#returning-a-view-versus-a-copy\n",
      "  dfHour.dateTime = dfHour.dateTime.dt.round('{}min'.format(grouptime))\n",
      "<ipython-input-2-622e561bc805>:93: SettingWithCopyWarning: \n",
      "A value is trying to be set on a copy of a slice from a DataFrame.\n",
      "Try using .loc[row_indexer,col_indexer] = value instead\n",
      "\n",
      "See the caveats in the documentation: https://pandas.pydata.org/pandas-docs/stable/user_guide/indexing.html#returning-a-view-versus-a-copy\n",
      "  dfHour.dateTime = pd.to_datetime(dfHour.dateTime)\n",
      "<ipython-input-2-622e561bc805>:95: SettingWithCopyWarning: \n",
      "A value is trying to be set on a copy of a slice from a DataFrame.\n",
      "Try using .loc[row_indexer,col_indexer] = value instead\n",
      "\n",
      "See the caveats in the documentation: https://pandas.pydata.org/pandas-docs/stable/user_guide/indexing.html#returning-a-view-versus-a-copy\n",
      "  dfHour.dateTime = dfHour.dateTime.dt.hour*60+dfHour.dateTime.dt.minute\n",
      "<ipython-input-2-622e561bc805>:96: SettingWithCopyWarning: \n",
      "A value is trying to be set on a copy of a slice from a DataFrame.\n",
      "Try using .loc[row_indexer,col_indexer] = value instead\n",
      "\n",
      "See the caveats in the documentation: https://pandas.pydata.org/pandas-docs/stable/user_guide/indexing.html#returning-a-view-versus-a-copy\n",
      "  dfHour.dateTime %= 1440\n"
     ]
    },
    {
     "name": "stdout",
     "output_type": "stream",
     "text": [
      "Reading 2021-01-19_all.csv\n"
     ]
    },
    {
     "name": "stderr",
     "output_type": "stream",
     "text": [
      "<ipython-input-2-622e561bc805>:92: SettingWithCopyWarning: \n",
      "A value is trying to be set on a copy of a slice from a DataFrame.\n",
      "Try using .loc[row_indexer,col_indexer] = value instead\n",
      "\n",
      "See the caveats in the documentation: https://pandas.pydata.org/pandas-docs/stable/user_guide/indexing.html#returning-a-view-versus-a-copy\n",
      "  dfHour.dateTime = dfHour.dateTime.dt.round('{}min'.format(grouptime))\n",
      "<ipython-input-2-622e561bc805>:93: SettingWithCopyWarning: \n",
      "A value is trying to be set on a copy of a slice from a DataFrame.\n",
      "Try using .loc[row_indexer,col_indexer] = value instead\n",
      "\n",
      "See the caveats in the documentation: https://pandas.pydata.org/pandas-docs/stable/user_guide/indexing.html#returning-a-view-versus-a-copy\n",
      "  dfHour.dateTime = pd.to_datetime(dfHour.dateTime)\n",
      "<ipython-input-2-622e561bc805>:95: SettingWithCopyWarning: \n",
      "A value is trying to be set on a copy of a slice from a DataFrame.\n",
      "Try using .loc[row_indexer,col_indexer] = value instead\n",
      "\n",
      "See the caveats in the documentation: https://pandas.pydata.org/pandas-docs/stable/user_guide/indexing.html#returning-a-view-versus-a-copy\n",
      "  dfHour.dateTime = dfHour.dateTime.dt.hour*60+dfHour.dateTime.dt.minute\n",
      "<ipython-input-2-622e561bc805>:96: SettingWithCopyWarning: \n",
      "A value is trying to be set on a copy of a slice from a DataFrame.\n",
      "Try using .loc[row_indexer,col_indexer] = value instead\n",
      "\n",
      "See the caveats in the documentation: https://pandas.pydata.org/pandas-docs/stable/user_guide/indexing.html#returning-a-view-versus-a-copy\n",
      "  dfHour.dateTime %= 1440\n"
     ]
    },
    {
     "name": "stdout",
     "output_type": "stream",
     "text": [
      "Reading 2021-01-20_all.csv\n"
     ]
    },
    {
     "name": "stderr",
     "output_type": "stream",
     "text": [
      "<ipython-input-2-622e561bc805>:92: SettingWithCopyWarning: \n",
      "A value is trying to be set on a copy of a slice from a DataFrame.\n",
      "Try using .loc[row_indexer,col_indexer] = value instead\n",
      "\n",
      "See the caveats in the documentation: https://pandas.pydata.org/pandas-docs/stable/user_guide/indexing.html#returning-a-view-versus-a-copy\n",
      "  dfHour.dateTime = dfHour.dateTime.dt.round('{}min'.format(grouptime))\n",
      "<ipython-input-2-622e561bc805>:93: SettingWithCopyWarning: \n",
      "A value is trying to be set on a copy of a slice from a DataFrame.\n",
      "Try using .loc[row_indexer,col_indexer] = value instead\n",
      "\n",
      "See the caveats in the documentation: https://pandas.pydata.org/pandas-docs/stable/user_guide/indexing.html#returning-a-view-versus-a-copy\n",
      "  dfHour.dateTime = pd.to_datetime(dfHour.dateTime)\n",
      "<ipython-input-2-622e561bc805>:95: SettingWithCopyWarning: \n",
      "A value is trying to be set on a copy of a slice from a DataFrame.\n",
      "Try using .loc[row_indexer,col_indexer] = value instead\n",
      "\n",
      "See the caveats in the documentation: https://pandas.pydata.org/pandas-docs/stable/user_guide/indexing.html#returning-a-view-versus-a-copy\n",
      "  dfHour.dateTime = dfHour.dateTime.dt.hour*60+dfHour.dateTime.dt.minute\n",
      "<ipython-input-2-622e561bc805>:96: SettingWithCopyWarning: \n",
      "A value is trying to be set on a copy of a slice from a DataFrame.\n",
      "Try using .loc[row_indexer,col_indexer] = value instead\n",
      "\n",
      "See the caveats in the documentation: https://pandas.pydata.org/pandas-docs/stable/user_guide/indexing.html#returning-a-view-versus-a-copy\n",
      "  dfHour.dateTime %= 1440\n"
     ]
    },
    {
     "name": "stdout",
     "output_type": "stream",
     "text": [
      "Reading 2021-01-21_all.csv\n"
     ]
    },
    {
     "name": "stderr",
     "output_type": "stream",
     "text": [
      "<ipython-input-2-622e561bc805>:92: SettingWithCopyWarning: \n",
      "A value is trying to be set on a copy of a slice from a DataFrame.\n",
      "Try using .loc[row_indexer,col_indexer] = value instead\n",
      "\n",
      "See the caveats in the documentation: https://pandas.pydata.org/pandas-docs/stable/user_guide/indexing.html#returning-a-view-versus-a-copy\n",
      "  dfHour.dateTime = dfHour.dateTime.dt.round('{}min'.format(grouptime))\n",
      "<ipython-input-2-622e561bc805>:93: SettingWithCopyWarning: \n",
      "A value is trying to be set on a copy of a slice from a DataFrame.\n",
      "Try using .loc[row_indexer,col_indexer] = value instead\n",
      "\n",
      "See the caveats in the documentation: https://pandas.pydata.org/pandas-docs/stable/user_guide/indexing.html#returning-a-view-versus-a-copy\n",
      "  dfHour.dateTime = pd.to_datetime(dfHour.dateTime)\n",
      "<ipython-input-2-622e561bc805>:95: SettingWithCopyWarning: \n",
      "A value is trying to be set on a copy of a slice from a DataFrame.\n",
      "Try using .loc[row_indexer,col_indexer] = value instead\n",
      "\n",
      "See the caveats in the documentation: https://pandas.pydata.org/pandas-docs/stable/user_guide/indexing.html#returning-a-view-versus-a-copy\n",
      "  dfHour.dateTime = dfHour.dateTime.dt.hour*60+dfHour.dateTime.dt.minute\n",
      "<ipython-input-2-622e561bc805>:96: SettingWithCopyWarning: \n",
      "A value is trying to be set on a copy of a slice from a DataFrame.\n",
      "Try using .loc[row_indexer,col_indexer] = value instead\n",
      "\n",
      "See the caveats in the documentation: https://pandas.pydata.org/pandas-docs/stable/user_guide/indexing.html#returning-a-view-versus-a-copy\n",
      "  dfHour.dateTime %= 1440\n"
     ]
    },
    {
     "name": "stdout",
     "output_type": "stream",
     "text": [
      "Reading 2021-01-22_all.csv\n"
     ]
    },
    {
     "name": "stderr",
     "output_type": "stream",
     "text": [
      "<ipython-input-2-622e561bc805>:92: SettingWithCopyWarning: \n",
      "A value is trying to be set on a copy of a slice from a DataFrame.\n",
      "Try using .loc[row_indexer,col_indexer] = value instead\n",
      "\n",
      "See the caveats in the documentation: https://pandas.pydata.org/pandas-docs/stable/user_guide/indexing.html#returning-a-view-versus-a-copy\n",
      "  dfHour.dateTime = dfHour.dateTime.dt.round('{}min'.format(grouptime))\n",
      "<ipython-input-2-622e561bc805>:93: SettingWithCopyWarning: \n",
      "A value is trying to be set on a copy of a slice from a DataFrame.\n",
      "Try using .loc[row_indexer,col_indexer] = value instead\n",
      "\n",
      "See the caveats in the documentation: https://pandas.pydata.org/pandas-docs/stable/user_guide/indexing.html#returning-a-view-versus-a-copy\n",
      "  dfHour.dateTime = pd.to_datetime(dfHour.dateTime)\n",
      "<ipython-input-2-622e561bc805>:95: SettingWithCopyWarning: \n",
      "A value is trying to be set on a copy of a slice from a DataFrame.\n",
      "Try using .loc[row_indexer,col_indexer] = value instead\n",
      "\n",
      "See the caveats in the documentation: https://pandas.pydata.org/pandas-docs/stable/user_guide/indexing.html#returning-a-view-versus-a-copy\n",
      "  dfHour.dateTime = dfHour.dateTime.dt.hour*60+dfHour.dateTime.dt.minute\n",
      "<ipython-input-2-622e561bc805>:96: SettingWithCopyWarning: \n",
      "A value is trying to be set on a copy of a slice from a DataFrame.\n",
      "Try using .loc[row_indexer,col_indexer] = value instead\n",
      "\n",
      "See the caveats in the documentation: https://pandas.pydata.org/pandas-docs/stable/user_guide/indexing.html#returning-a-view-versus-a-copy\n",
      "  dfHour.dateTime %= 1440\n"
     ]
    },
    {
     "name": "stdout",
     "output_type": "stream",
     "text": [
      "Reading 2021-01-23_all.csv\n"
     ]
    },
    {
     "name": "stderr",
     "output_type": "stream",
     "text": [
      "<ipython-input-2-622e561bc805>:92: SettingWithCopyWarning: \n",
      "A value is trying to be set on a copy of a slice from a DataFrame.\n",
      "Try using .loc[row_indexer,col_indexer] = value instead\n",
      "\n",
      "See the caveats in the documentation: https://pandas.pydata.org/pandas-docs/stable/user_guide/indexing.html#returning-a-view-versus-a-copy\n",
      "  dfHour.dateTime = dfHour.dateTime.dt.round('{}min'.format(grouptime))\n",
      "<ipython-input-2-622e561bc805>:93: SettingWithCopyWarning: \n",
      "A value is trying to be set on a copy of a slice from a DataFrame.\n",
      "Try using .loc[row_indexer,col_indexer] = value instead\n",
      "\n",
      "See the caveats in the documentation: https://pandas.pydata.org/pandas-docs/stable/user_guide/indexing.html#returning-a-view-versus-a-copy\n",
      "  dfHour.dateTime = pd.to_datetime(dfHour.dateTime)\n",
      "<ipython-input-2-622e561bc805>:95: SettingWithCopyWarning: \n",
      "A value is trying to be set on a copy of a slice from a DataFrame.\n",
      "Try using .loc[row_indexer,col_indexer] = value instead\n",
      "\n",
      "See the caveats in the documentation: https://pandas.pydata.org/pandas-docs/stable/user_guide/indexing.html#returning-a-view-versus-a-copy\n",
      "  dfHour.dateTime = dfHour.dateTime.dt.hour*60+dfHour.dateTime.dt.minute\n",
      "<ipython-input-2-622e561bc805>:96: SettingWithCopyWarning: \n",
      "A value is trying to be set on a copy of a slice from a DataFrame.\n",
      "Try using .loc[row_indexer,col_indexer] = value instead\n",
      "\n",
      "See the caveats in the documentation: https://pandas.pydata.org/pandas-docs/stable/user_guide/indexing.html#returning-a-view-versus-a-copy\n",
      "  dfHour.dateTime %= 1440\n"
     ]
    },
    {
     "name": "stdout",
     "output_type": "stream",
     "text": [
      "Reading 2021-01-24_all.csv\n"
     ]
    },
    {
     "name": "stderr",
     "output_type": "stream",
     "text": [
      "<ipython-input-2-622e561bc805>:92: SettingWithCopyWarning: \n",
      "A value is trying to be set on a copy of a slice from a DataFrame.\n",
      "Try using .loc[row_indexer,col_indexer] = value instead\n",
      "\n",
      "See the caveats in the documentation: https://pandas.pydata.org/pandas-docs/stable/user_guide/indexing.html#returning-a-view-versus-a-copy\n",
      "  dfHour.dateTime = dfHour.dateTime.dt.round('{}min'.format(grouptime))\n",
      "<ipython-input-2-622e561bc805>:93: SettingWithCopyWarning: \n",
      "A value is trying to be set on a copy of a slice from a DataFrame.\n",
      "Try using .loc[row_indexer,col_indexer] = value instead\n",
      "\n",
      "See the caveats in the documentation: https://pandas.pydata.org/pandas-docs/stable/user_guide/indexing.html#returning-a-view-versus-a-copy\n",
      "  dfHour.dateTime = pd.to_datetime(dfHour.dateTime)\n",
      "<ipython-input-2-622e561bc805>:95: SettingWithCopyWarning: \n",
      "A value is trying to be set on a copy of a slice from a DataFrame.\n",
      "Try using .loc[row_indexer,col_indexer] = value instead\n",
      "\n",
      "See the caveats in the documentation: https://pandas.pydata.org/pandas-docs/stable/user_guide/indexing.html#returning-a-view-versus-a-copy\n",
      "  dfHour.dateTime = dfHour.dateTime.dt.hour*60+dfHour.dateTime.dt.minute\n",
      "<ipython-input-2-622e561bc805>:96: SettingWithCopyWarning: \n",
      "A value is trying to be set on a copy of a slice from a DataFrame.\n",
      "Try using .loc[row_indexer,col_indexer] = value instead\n",
      "\n",
      "See the caveats in the documentation: https://pandas.pydata.org/pandas-docs/stable/user_guide/indexing.html#returning-a-view-versus-a-copy\n",
      "  dfHour.dateTime %= 1440\n"
     ]
    },
    {
     "name": "stdout",
     "output_type": "stream",
     "text": [
      "Reading 2021-01-25_all.csv\n"
     ]
    },
    {
     "name": "stderr",
     "output_type": "stream",
     "text": [
      "<ipython-input-2-622e561bc805>:92: SettingWithCopyWarning: \n",
      "A value is trying to be set on a copy of a slice from a DataFrame.\n",
      "Try using .loc[row_indexer,col_indexer] = value instead\n",
      "\n",
      "See the caveats in the documentation: https://pandas.pydata.org/pandas-docs/stable/user_guide/indexing.html#returning-a-view-versus-a-copy\n",
      "  dfHour.dateTime = dfHour.dateTime.dt.round('{}min'.format(grouptime))\n",
      "<ipython-input-2-622e561bc805>:93: SettingWithCopyWarning: \n",
      "A value is trying to be set on a copy of a slice from a DataFrame.\n",
      "Try using .loc[row_indexer,col_indexer] = value instead\n",
      "\n",
      "See the caveats in the documentation: https://pandas.pydata.org/pandas-docs/stable/user_guide/indexing.html#returning-a-view-versus-a-copy\n",
      "  dfHour.dateTime = pd.to_datetime(dfHour.dateTime)\n",
      "<ipython-input-2-622e561bc805>:95: SettingWithCopyWarning: \n",
      "A value is trying to be set on a copy of a slice from a DataFrame.\n",
      "Try using .loc[row_indexer,col_indexer] = value instead\n",
      "\n",
      "See the caveats in the documentation: https://pandas.pydata.org/pandas-docs/stable/user_guide/indexing.html#returning-a-view-versus-a-copy\n",
      "  dfHour.dateTime = dfHour.dateTime.dt.hour*60+dfHour.dateTime.dt.minute\n",
      "<ipython-input-2-622e561bc805>:96: SettingWithCopyWarning: \n",
      "A value is trying to be set on a copy of a slice from a DataFrame.\n",
      "Try using .loc[row_indexer,col_indexer] = value instead\n",
      "\n",
      "See the caveats in the documentation: https://pandas.pydata.org/pandas-docs/stable/user_guide/indexing.html#returning-a-view-versus-a-copy\n",
      "  dfHour.dateTime %= 1440\n"
     ]
    },
    {
     "name": "stdout",
     "output_type": "stream",
     "text": [
      "Reading 2021-01-26_all.csv\n"
     ]
    },
    {
     "name": "stderr",
     "output_type": "stream",
     "text": [
      "<ipython-input-2-622e561bc805>:92: SettingWithCopyWarning: \n",
      "A value is trying to be set on a copy of a slice from a DataFrame.\n",
      "Try using .loc[row_indexer,col_indexer] = value instead\n",
      "\n",
      "See the caveats in the documentation: https://pandas.pydata.org/pandas-docs/stable/user_guide/indexing.html#returning-a-view-versus-a-copy\n",
      "  dfHour.dateTime = dfHour.dateTime.dt.round('{}min'.format(grouptime))\n",
      "<ipython-input-2-622e561bc805>:93: SettingWithCopyWarning: \n",
      "A value is trying to be set on a copy of a slice from a DataFrame.\n",
      "Try using .loc[row_indexer,col_indexer] = value instead\n",
      "\n",
      "See the caveats in the documentation: https://pandas.pydata.org/pandas-docs/stable/user_guide/indexing.html#returning-a-view-versus-a-copy\n",
      "  dfHour.dateTime = pd.to_datetime(dfHour.dateTime)\n",
      "<ipython-input-2-622e561bc805>:95: SettingWithCopyWarning: \n",
      "A value is trying to be set on a copy of a slice from a DataFrame.\n",
      "Try using .loc[row_indexer,col_indexer] = value instead\n",
      "\n",
      "See the caveats in the documentation: https://pandas.pydata.org/pandas-docs/stable/user_guide/indexing.html#returning-a-view-versus-a-copy\n",
      "  dfHour.dateTime = dfHour.dateTime.dt.hour*60+dfHour.dateTime.dt.minute\n",
      "<ipython-input-2-622e561bc805>:96: SettingWithCopyWarning: \n",
      "A value is trying to be set on a copy of a slice from a DataFrame.\n",
      "Try using .loc[row_indexer,col_indexer] = value instead\n",
      "\n",
      "See the caveats in the documentation: https://pandas.pydata.org/pandas-docs/stable/user_guide/indexing.html#returning-a-view-versus-a-copy\n",
      "  dfHour.dateTime %= 1440\n"
     ]
    },
    {
     "name": "stdout",
     "output_type": "stream",
     "text": [
      "Reading 2021-01-27_all.csv\n"
     ]
    },
    {
     "name": "stderr",
     "output_type": "stream",
     "text": [
      "<ipython-input-2-622e561bc805>:92: SettingWithCopyWarning: \n",
      "A value is trying to be set on a copy of a slice from a DataFrame.\n",
      "Try using .loc[row_indexer,col_indexer] = value instead\n",
      "\n",
      "See the caveats in the documentation: https://pandas.pydata.org/pandas-docs/stable/user_guide/indexing.html#returning-a-view-versus-a-copy\n",
      "  dfHour.dateTime = dfHour.dateTime.dt.round('{}min'.format(grouptime))\n",
      "<ipython-input-2-622e561bc805>:93: SettingWithCopyWarning: \n",
      "A value is trying to be set on a copy of a slice from a DataFrame.\n",
      "Try using .loc[row_indexer,col_indexer] = value instead\n",
      "\n",
      "See the caveats in the documentation: https://pandas.pydata.org/pandas-docs/stable/user_guide/indexing.html#returning-a-view-versus-a-copy\n",
      "  dfHour.dateTime = pd.to_datetime(dfHour.dateTime)\n",
      "<ipython-input-2-622e561bc805>:95: SettingWithCopyWarning: \n",
      "A value is trying to be set on a copy of a slice from a DataFrame.\n",
      "Try using .loc[row_indexer,col_indexer] = value instead\n",
      "\n",
      "See the caveats in the documentation: https://pandas.pydata.org/pandas-docs/stable/user_guide/indexing.html#returning-a-view-versus-a-copy\n",
      "  dfHour.dateTime = dfHour.dateTime.dt.hour*60+dfHour.dateTime.dt.minute\n",
      "<ipython-input-2-622e561bc805>:96: SettingWithCopyWarning: \n",
      "A value is trying to be set on a copy of a slice from a DataFrame.\n",
      "Try using .loc[row_indexer,col_indexer] = value instead\n",
      "\n",
      "See the caveats in the documentation: https://pandas.pydata.org/pandas-docs/stable/user_guide/indexing.html#returning-a-view-versus-a-copy\n",
      "  dfHour.dateTime %= 1440\n"
     ]
    },
    {
     "name": "stdout",
     "output_type": "stream",
     "text": [
      "Reading 2021-01-28_all.csv\n"
     ]
    },
    {
     "name": "stderr",
     "output_type": "stream",
     "text": [
      "<ipython-input-2-622e561bc805>:92: SettingWithCopyWarning: \n",
      "A value is trying to be set on a copy of a slice from a DataFrame.\n",
      "Try using .loc[row_indexer,col_indexer] = value instead\n",
      "\n",
      "See the caveats in the documentation: https://pandas.pydata.org/pandas-docs/stable/user_guide/indexing.html#returning-a-view-versus-a-copy\n",
      "  dfHour.dateTime = dfHour.dateTime.dt.round('{}min'.format(grouptime))\n",
      "<ipython-input-2-622e561bc805>:93: SettingWithCopyWarning: \n",
      "A value is trying to be set on a copy of a slice from a DataFrame.\n",
      "Try using .loc[row_indexer,col_indexer] = value instead\n",
      "\n",
      "See the caveats in the documentation: https://pandas.pydata.org/pandas-docs/stable/user_guide/indexing.html#returning-a-view-versus-a-copy\n",
      "  dfHour.dateTime = pd.to_datetime(dfHour.dateTime)\n",
      "<ipython-input-2-622e561bc805>:95: SettingWithCopyWarning: \n",
      "A value is trying to be set on a copy of a slice from a DataFrame.\n",
      "Try using .loc[row_indexer,col_indexer] = value instead\n",
      "\n",
      "See the caveats in the documentation: https://pandas.pydata.org/pandas-docs/stable/user_guide/indexing.html#returning-a-view-versus-a-copy\n",
      "  dfHour.dateTime = dfHour.dateTime.dt.hour*60+dfHour.dateTime.dt.minute\n",
      "<ipython-input-2-622e561bc805>:96: SettingWithCopyWarning: \n",
      "A value is trying to be set on a copy of a slice from a DataFrame.\n",
      "Try using .loc[row_indexer,col_indexer] = value instead\n",
      "\n",
      "See the caveats in the documentation: https://pandas.pydata.org/pandas-docs/stable/user_guide/indexing.html#returning-a-view-versus-a-copy\n",
      "  dfHour.dateTime %= 1440\n"
     ]
    },
    {
     "name": "stdout",
     "output_type": "stream",
     "text": [
      "Reading 2021-01-29_all.csv\n"
     ]
    },
    {
     "name": "stderr",
     "output_type": "stream",
     "text": [
      "<ipython-input-2-622e561bc805>:92: SettingWithCopyWarning: \n",
      "A value is trying to be set on a copy of a slice from a DataFrame.\n",
      "Try using .loc[row_indexer,col_indexer] = value instead\n",
      "\n",
      "See the caveats in the documentation: https://pandas.pydata.org/pandas-docs/stable/user_guide/indexing.html#returning-a-view-versus-a-copy\n",
      "  dfHour.dateTime = dfHour.dateTime.dt.round('{}min'.format(grouptime))\n",
      "<ipython-input-2-622e561bc805>:93: SettingWithCopyWarning: \n",
      "A value is trying to be set on a copy of a slice from a DataFrame.\n",
      "Try using .loc[row_indexer,col_indexer] = value instead\n",
      "\n",
      "See the caveats in the documentation: https://pandas.pydata.org/pandas-docs/stable/user_guide/indexing.html#returning-a-view-versus-a-copy\n",
      "  dfHour.dateTime = pd.to_datetime(dfHour.dateTime)\n",
      "<ipython-input-2-622e561bc805>:95: SettingWithCopyWarning: \n",
      "A value is trying to be set on a copy of a slice from a DataFrame.\n",
      "Try using .loc[row_indexer,col_indexer] = value instead\n",
      "\n",
      "See the caveats in the documentation: https://pandas.pydata.org/pandas-docs/stable/user_guide/indexing.html#returning-a-view-versus-a-copy\n",
      "  dfHour.dateTime = dfHour.dateTime.dt.hour*60+dfHour.dateTime.dt.minute\n",
      "<ipython-input-2-622e561bc805>:96: SettingWithCopyWarning: \n",
      "A value is trying to be set on a copy of a slice from a DataFrame.\n",
      "Try using .loc[row_indexer,col_indexer] = value instead\n",
      "\n",
      "See the caveats in the documentation: https://pandas.pydata.org/pandas-docs/stable/user_guide/indexing.html#returning-a-view-versus-a-copy\n",
      "  dfHour.dateTime %= 1440\n"
     ]
    },
    {
     "name": "stdout",
     "output_type": "stream",
     "text": [
      "Reading 2021-01-30_all.csv\n"
     ]
    },
    {
     "name": "stderr",
     "output_type": "stream",
     "text": [
      "<ipython-input-2-622e561bc805>:92: SettingWithCopyWarning: \n",
      "A value is trying to be set on a copy of a slice from a DataFrame.\n",
      "Try using .loc[row_indexer,col_indexer] = value instead\n",
      "\n",
      "See the caveats in the documentation: https://pandas.pydata.org/pandas-docs/stable/user_guide/indexing.html#returning-a-view-versus-a-copy\n",
      "  dfHour.dateTime = dfHour.dateTime.dt.round('{}min'.format(grouptime))\n",
      "<ipython-input-2-622e561bc805>:93: SettingWithCopyWarning: \n",
      "A value is trying to be set on a copy of a slice from a DataFrame.\n",
      "Try using .loc[row_indexer,col_indexer] = value instead\n",
      "\n",
      "See the caveats in the documentation: https://pandas.pydata.org/pandas-docs/stable/user_guide/indexing.html#returning-a-view-versus-a-copy\n",
      "  dfHour.dateTime = pd.to_datetime(dfHour.dateTime)\n",
      "<ipython-input-2-622e561bc805>:95: SettingWithCopyWarning: \n",
      "A value is trying to be set on a copy of a slice from a DataFrame.\n",
      "Try using .loc[row_indexer,col_indexer] = value instead\n",
      "\n",
      "See the caveats in the documentation: https://pandas.pydata.org/pandas-docs/stable/user_guide/indexing.html#returning-a-view-versus-a-copy\n",
      "  dfHour.dateTime = dfHour.dateTime.dt.hour*60+dfHour.dateTime.dt.minute\n",
      "<ipython-input-2-622e561bc805>:96: SettingWithCopyWarning: \n",
      "A value is trying to be set on a copy of a slice from a DataFrame.\n",
      "Try using .loc[row_indexer,col_indexer] = value instead\n",
      "\n",
      "See the caveats in the documentation: https://pandas.pydata.org/pandas-docs/stable/user_guide/indexing.html#returning-a-view-versus-a-copy\n",
      "  dfHour.dateTime %= 1440\n"
     ]
    },
    {
     "name": "stdout",
     "output_type": "stream",
     "text": [
      "Data Shape (118310, 5)\n",
      "Done\n"
     ]
    }
   ],
   "source": [
    "import tqdm\n",
    "import torch\n",
    "import argparse\n",
    "import math\n",
    "import pickle as pkl\n",
    "import pandas as pd\n",
    "import numpy as np\n",
    "from haversine import haversine, haversine_vector, Unit\n",
    "from sklearn.model_selection import KFold\n",
    "\n",
    "mytqdm = tqdm.notebook.tqdm if 0 else tqdm.tqdm\n",
    "\n",
    "class Args:\n",
    "    num_sensors = 60\n",
    "    train_start_day = 12\n",
    "    date=None\n",
    "    mfile=None\n",
    "    datadir=DATA_FOLDER\n",
    "    canada=0\n",
    "    usa=0\n",
    "    spatiotemporal=1\n",
    "args = Args()\n",
    "\n",
    "if args.usa:\n",
    "    args.canada = 3\n",
    "\n",
    "canada = args.canada\n",
    "rand_sensor_locs = 1\n",
    "\n",
    "fold = [3,5][rand_sensor_locs]\n",
    "\n",
    "heatmap = 0\n",
    "datadir = args.datadir\n",
    "pm = ['pm10','pm2_5'][1]\n",
    "pm2 = ['pm10','pm2_5'][0]\n",
    "sensorTyp = ['random'][0]\n",
    "\n",
    "km = 1\n",
    "grouptime = 30\n",
    "\n",
    "if canada == 1:\n",
    "    nTotalDays = nTrainStartDay = 15\n",
    "    args.num_sensors = 10\n",
    "elif canada == 2:\n",
    "    nTrainStartDay = 6\n",
    "    nTotalDays = 16\n",
    "elif canada == 3: # USA\n",
    "    nTrainStartDay = 1\n",
    "    nTotalDays = 10\n",
    "else:\n",
    "    nTrainStartDay = args.train_start_day\n",
    "    nTotalDays = 91\n",
    "\n",
    "nTestStartDay = nTrainStartDay           # The first test day, overridden by 'next'\n",
    "skipdays = None\n",
    "latlongprecise = 4\n",
    "metricprecise = 3\n",
    "if canada:\n",
    "    ll_min, ll_max = [0, 43.135, -80.025], [0, 43.35, -79.638]\n",
    "else:\n",
    "    ll_min, ll_max = [11.0, 28.48, 77.1], [45.0, 28.72, 77.33]\n",
    "ll_off = [1, np.round(0.00902*km,latlongprecise), np.round(0.01017*km,latlongprecise)]\n",
    "g_lim = 0\n",
    "\n",
    "date = 'all,next'\n",
    "if args.date is not None:\n",
    "    date = args.date\n",
    "\n",
    "###############################################################################\n",
    "\n",
    "def to_dt(time_string):\n",
    "    return pd.to_datetime(time_string).tz_localize('UTC').tz_convert('Asia/Kolkata')\n",
    "\n",
    "def preprocess_data(date, data_dir = \"./data/\", hour = None):\n",
    "    file = date + \"{}.csv\".format('_all' if canada == 0 else '')\n",
    "    print('Reading', file)\n",
    "    df = pd.read_csv(data_dir + file, index_col = 0, parse_dates = [\"dateTime\"])\n",
    "    # filter time\n",
    "    if not canada:\n",
    "        df = df[(df.dateTime >= to_dt(date)) & (df.dateTime <= to_dt(date+ \" 18:00:00\"))].reset_index(drop = True)\n",
    "\n",
    "    # day subset\n",
    "    dfHour = df[['dateTime','lat','long',pm,pm2]]\n",
    "\n",
    "    # hour subset\n",
    "    if hour:\n",
    "        dfHour[\"hour\"] = dfHour.dateTime.dt.hour\n",
    "        dfHour = dfHour[dfHour.hour.isin(hour)]\n",
    "        dfHour = dfHour.drop(\"hour\", axis = 1)\n",
    "\n",
    "    # preprocessing time\n",
    "    dfHour.dateTime = dfHour.dateTime.dt.round('{}min'.format(grouptime))\n",
    "    dfHour.dateTime = pd.to_datetime(dfHour.dateTime)\n",
    "    if canada != 1:\n",
    "        dfHour.dateTime = dfHour.dateTime.dt.hour*60+dfHour.dateTime.dt.minute\n",
    "        dfHour.dateTime %= 1440\n",
    "        dfHour = dfHour[(dfHour.dateTime>=300) & (dfHour.dateTime<=1350)]\n",
    "    dfHour = dfHour.sort_values(by = ['dateTime','lat','long'])\n",
    "    dfHour = dfHour.reset_index(drop = True)\n",
    "\n",
    "    def round_val(val, min, off):\n",
    "        val1 = ((val - min) / off).astype(int)\n",
    "        val2 = (val1 * off) + min\n",
    "        return round(val2, latlongprecise)\n",
    "    dfHour.lat = round_val(dfHour.lat.astype(float), ll_min[1], ll_off[1])\n",
    "    dfHour.long = round_val(dfHour.long.astype(float), ll_min[2], ll_off[2])\n",
    "\n",
    "    # meaning pm values\n",
    "    df = dfHour.groupby(['dateTime','lat','long']).mean().reset_index()\n",
    "    df.loc[:, pm] = df.loc[:, pm].round(2)\n",
    "    df.loc[:, pm2] = df.loc[:, pm2].round(2)\n",
    "\n",
    "    return df.values\n",
    "\n",
    "def find_best_sensor_loc(data, lim=0):\n",
    "    loc = dict()\n",
    "    for i,d in enumerate(data):\n",
    "        if d[1] not in loc.keys():\n",
    "            loc[d[1]] = dict()\n",
    "        if d[2] not in loc[d[1]].keys():\n",
    "            loc[d[1]][d[2]] = []\n",
    "        loc[d[1]][d[2]].append(i)\n",
    "    L = []\n",
    "    for d1 in loc.keys():\n",
    "        for d2 in loc[d1].keys():\n",
    "            L.append([d1, d2, len(loc[d1][d2])])\n",
    "    L = np.array(L)\n",
    "    Lall = L.copy()\n",
    "    if sensorTyp.startswith('rand'):\n",
    "        L = L[L[:, 2] > lim]\n",
    "        if len(L) > args.num_sensors:\n",
    "            idx = np.random.choice(len(L), args.num_sensors)\n",
    "            LL = L[idx, :2]\n",
    "        else:\n",
    "            LL = L[:, :2]\n",
    "    else:\n",
    "        LL = L[L[:, 2].argsort()][::-1]\n",
    "        LL = LL[:args.num_sensors,:2]\n",
    "    return LL, Lall\n",
    "\n",
    "def num_sensor_loc(sensors, data):\n",
    "    loc = dict()\n",
    "    for i,d in enumerate(data):\n",
    "        if d[1] not in loc.keys():\n",
    "            loc[d[1]] = dict()\n",
    "        if d[2] not in loc[d[1]].keys():\n",
    "            loc[d[1]][d[2]] = []\n",
    "        loc[d[1]][d[2]].append(i)\n",
    "    L = []\n",
    "    for d1 in loc.keys():\n",
    "        for d2 in loc[d1].keys():\n",
    "            L.append([d1, d2, len(loc[d1][d2])])\n",
    "    L = np.array(L)\n",
    "    lim, cnt = 0, 0\n",
    "    L = L[L[:, 2] > lim]\n",
    "    for s in sensors:\n",
    "        for LL in L:\n",
    "            if s[0] == LL[0] and s[1] == LL[1]:\n",
    "                cnt += 1\n",
    "                break\n",
    "    return cnt\n",
    "\n",
    "def save(data, file):\n",
    "    pkl.dump(data, open(file,\"wb\"))\n",
    "\n",
    "#####################################################################################\n",
    "\n",
    "def xform_day(day):\n",
    "    if canada:\n",
    "        return 'canada_20{:02d}'.format(day)\n",
    "    arr = [0, 30, 61]\n",
    "    w = 0 if day <= 30 else 1 if day <= 61 else 2\n",
    "    mon = ['2020-11-', '2020-12-', '2021-01-'][w]\n",
    "    date = mon + '{:02d}'.format(day - arr[w])\n",
    "    return date\n",
    "\n",
    "#####################################################################################\n",
    "\n",
    "cuda = torch.cuda.is_available()\n",
    "device = torch.device('cuda' if cuda else 'cpu')\n",
    "print('Cuda:', cuda, '| Device:', device)\n",
    "print('Num Sensors:', args.num_sensors)\n",
    "print('Policy:', sensorTyp)\n",
    "\n",
    "dates_in = date.split(',')\n",
    "dates_train = []\n",
    "\n",
    "# Preprocess\n",
    "wy = 3\n",
    "all_data = dict()\n",
    "\n",
    "for day in range(min(nTrainStartDay,nTestStartDay), 1+nTotalDays):\n",
    "    if skipdays is None or day not in skipdays:\n",
    "        d = xform_day(day)\n",
    "        dates_train.append(d)\n",
    "        all_data[d] = preprocess_data(d, DATA_FOLDER)\n",
    "\n",
    "if canada == 1:\n",
    "    print('For 2015 data')\n",
    "    dates_train = ['2015-02-12', '2015-02-13', '2015-03-19', '2015-03-25', '2015-03-27', '2015-04-01', '2015-04-10', '2015-04-15',\n",
    "     '2015-04-17', '2015-04-21', '2015-04-24', '2015-05-12',  '2015-05-14', '2015-05-20', '2015-05-22', '2015-09-10', '2015-09-23', '2015-11-23']\n",
    "\n",
    "if args.usa:\n",
    "    df = pd.read_csv('city_pollution_data.csv')\n",
    "    df = df[['Date', 'Time', 'latitude', 'longitude', 'pm25_median', 'pm10_median']]\n",
    "    df.columns = ['Date', 'Time', 'lat', 'long', 'pm2_5', 'pm10']\n",
    "    ll_min, ll_max = [0, 21.3, -157.9], [0, 47.6, -71.0]\n",
    "    not_nan = [not math.isnan(i) for i in df.pm2_5.values]\n",
    "    df = df[not_nan]\n",
    "\n",
    "    def round_val(val, min, off):\n",
    "        val1 = ((val - min) / off).astype(int)\n",
    "        val2 = (val1 * off) + min\n",
    "        return round(val2, latlongprecise)\n",
    "    df.lat = round_val(df.lat.astype(float), ll_min[1], ll_off[1])\n",
    "    df.long = round_val(df.long.astype(float), ll_min[2], ll_off[2])\n",
    "\n",
    "    all_data = dict()\n",
    "    dates_train = df.Date.unique().tolist()\n",
    "    for dt in dates_train:\n",
    "        D = df[df.Date == dt]\n",
    "        all_data[dt] = D[['Time', 'lat', 'long', 'pm2_5', 'pm10']].values\n",
    "if 1:\n",
    "    # Gather All Data, and have independent sensors\n",
    "    testData = np.zeros((0, 5))\n",
    "    gloc = dict()\n",
    "    for dateIdx, dt in enumerate(dates_train):\n",
    "        testData = np.concatenate((testData, all_data[dt]), axis=0)\n",
    "        loc = dict()\n",
    "        for i, d in enumerate(all_data[dt]):\n",
    "            if d[1] not in loc.keys():\n",
    "                loc[d[1]] = dict()\n",
    "            if d[2] not in loc[d[1]].keys():\n",
    "                loc[d[1]][d[2]] = 1\n",
    "                if d[1] not in gloc.keys():\n",
    "                    gloc[d[1]] = dict()\n",
    "                if d[2] not in gloc[d[1]].keys():\n",
    "                    gloc[d[1]][d[2]] = 0\n",
    "                gloc[d[1]][d[2]] += 1\n",
    "            else:\n",
    "                loc[d[1]][d[2]] += 1\n",
    "\n",
    "    print('Data Shape', testData.shape)\n",
    "    sensors, allsensors = find_best_sensor_loc(testData, lim=g_lim)\n",
    "\n",
    "def get_spatial_locs(X):\n",
    "    dstr = [\"{}_{}\".format(x[1], x[2]) for x in X]\n",
    "    L = list(set(dstr))\n",
    "    return np.array(L)\n",
    "\n",
    "S = dict()\n",
    "seen, unseen = 0, 1\n",
    "for dateIdx, dt in enumerate(dates_train):\n",
    "    dt2 = dt\n",
    "    if args.usa:\n",
    "        dt2 = dt.split('/')\n",
    "        dt2 = '{}-{:02d}-{:02d}'.format(dt2[2], int(dt2[0]), int(dt2[1]))\n",
    "        print('\\'{}\\','.format(dt2))\n",
    "    S[dt2] = []\n",
    "    data = []\n",
    "\n",
    "    kf = KFold(n_splits=fold, shuffle=True, random_state=0)\n",
    "    X = all_data[dt]\n",
    "    if args.spatiotemporal:\n",
    "        for train, test in kf.split(X):\n",
    "            data.append([X[train], X[test]])\n",
    "            S[dt2].append(X[train][:, :3])\n",
    "    else:\n",
    "        L = get_spatial_locs(X)\n",
    "        for trainL, testL in kf.split(L):\n",
    "            trainLL = L[trainL]\n",
    "            testLL = L[testL]\n",
    "            train, test = [],[]\n",
    "            for i, x in enumerate(X):\n",
    "                k = \"{}_{}\".format(x[1], x[2])\n",
    "                if k in trainLL:\n",
    "                    train.append(i)\n",
    "                elif k in testLL:\n",
    "                    test.append(i)\n",
    "                else:\n",
    "                    raise 'Error'\n",
    "            data.append([X[train],X[test]])\n",
    "            S[dt2].append(X[train][:,1:3])\n",
    "\n",
    "    output_datadir = \"/kaggle/working/\"\n",
    "\n",
    "    for f in range(fold):\n",
    "        if rand_sensor_locs == 0:\n",
    "            data.append([[], []])\n",
    "            for d in all_data[dt]:\n",
    "                dd = '{}_{}'.format(d[1], d[2])\n",
    "                w = seen if dd in SS[f] else unseen\n",
    "                data[f][w].append(d)\n",
    "        header = ['dateTime', 'lat', 'long', 'pm2_5', 'pm10']\n",
    "        df = pd.DataFrame(data[f][seen])\n",
    "        df.columns = header\n",
    "        df.to_csv('{}/{}_f{}_train.csv'.format(output_datadir,dt2,f), header=header)\n",
    "        df = pd.DataFrame(data[f][unseen])\n",
    "        df.columns = header\n",
    "        df.to_csv('{}/{}_f{}_test.csv'.format(output_datadir,dt2,f), header=header)\n",
    "\n",
    "pre = 'rand-sensors-'\n",
    "mid = 'usa' if args.usa else 'delhi' if not canada else 'canada-days' if canada == 1 else 'canada-year' if canada == 2 else ''\n",
    "post = '-st' if args.spatiotemporal else ''\n",
    "save(S, pre + mid + post + '.bin')\n",
    "print('Done')"
   ]
  },
  {
   "cell_type": "markdown",
   "id": "0586fa84",
   "metadata": {
    "papermill": {
     "duration": 0.016726,
     "end_time": "2025-03-07T23:33:11.673619",
     "exception": false,
     "start_time": "2025-03-07T23:33:11.656893",
     "status": "completed"
    },
    "tags": []
   },
   "source": [
    "## ARIMA"
   ]
  },
  {
   "cell_type": "code",
   "execution_count": 3,
   "id": "91faec13",
   "metadata": {
    "collapsed": true,
    "execution": {
     "iopub.execute_input": "2025-03-07T23:33:11.708902Z",
     "iopub.status.busy": "2025-03-07T23:33:11.708563Z",
     "iopub.status.idle": "2025-03-07T23:57:23.026649Z",
     "shell.execute_reply": "2025-03-07T23:57:23.025109Z"
    },
    "jupyter": {
     "outputs_hidden": true
    },
    "papermill": {
     "duration": 1451.337374,
     "end_time": "2025-03-07T23:57:23.028068",
     "exception": true,
     "start_time": "2025-03-07T23:33:11.690694",
     "status": "failed"
    },
    "tags": []
   },
   "outputs": [
    {
     "name": "stdout",
     "output_type": "stream",
     "text": [
      "data /kaggle/input/airdelhi-dataset/PM Datasets//2020-11-12_all.csv\n",
      "data /kaggle/input/airdelhi-dataset/PM Datasets//2020-11-13_all.csv\n",
      "data /kaggle/input/airdelhi-dataset/PM Datasets//2020-11-14_all.csv\n",
      "data /kaggle/input/airdelhi-dataset/PM Datasets//2020-11-15_all.csv\n",
      "15 Nov 161.7865304164225\n",
      "data /kaggle/input/airdelhi-dataset/PM Datasets//2020-11-13_all.csv\n",
      "data /kaggle/input/airdelhi-dataset/PM Datasets//2020-11-14_all.csv\n",
      "data /kaggle/input/airdelhi-dataset/PM Datasets//2020-11-15_all.csv\n",
      "data /kaggle/input/airdelhi-dataset/PM Datasets//2020-11-16_all.csv\n",
      "16 Nov 62.29633395800709\n",
      "data /kaggle/input/airdelhi-dataset/PM Datasets//2020-11-14_all.csv\n",
      "data /kaggle/input/airdelhi-dataset/PM Datasets//2020-11-15_all.csv\n",
      "data /kaggle/input/airdelhi-dataset/PM Datasets//2020-11-16_all.csv\n",
      "data /kaggle/input/airdelhi-dataset/PM Datasets//2020-11-17_all.csv\n",
      "17 Nov 56.388332193976815\n",
      "data /kaggle/input/airdelhi-dataset/PM Datasets//2020-11-15_all.csv\n",
      "data /kaggle/input/airdelhi-dataset/PM Datasets//2020-11-16_all.csv\n",
      "data /kaggle/input/airdelhi-dataset/PM Datasets//2020-11-17_all.csv\n",
      "data /kaggle/input/airdelhi-dataset/PM Datasets//2020-11-18_all.csv\n",
      "18 Nov 105.45921424697082\n",
      "data /kaggle/input/airdelhi-dataset/PM Datasets//2020-11-16_all.csv\n",
      "data /kaggle/input/airdelhi-dataset/PM Datasets//2020-11-17_all.csv\n",
      "data /kaggle/input/airdelhi-dataset/PM Datasets//2020-11-18_all.csv\n",
      "data /kaggle/input/airdelhi-dataset/PM Datasets//2020-11-19_all.csv\n",
      "19 Nov 117.20587808321638\n",
      "data /kaggle/input/airdelhi-dataset/PM Datasets//2020-11-17_all.csv\n",
      "data /kaggle/input/airdelhi-dataset/PM Datasets//2020-11-18_all.csv\n",
      "data /kaggle/input/airdelhi-dataset/PM Datasets//2020-11-19_all.csv\n",
      "data /kaggle/input/airdelhi-dataset/PM Datasets//2020-11-20_all.csv\n",
      "20 Nov 118.03632678729866\n",
      "data /kaggle/input/airdelhi-dataset/PM Datasets//2020-11-18_all.csv\n",
      "data /kaggle/input/airdelhi-dataset/PM Datasets//2020-11-19_all.csv\n",
      "data /kaggle/input/airdelhi-dataset/PM Datasets//2020-11-20_all.csv\n",
      "data /kaggle/input/airdelhi-dataset/PM Datasets//2020-11-21_all.csv\n",
      "21 Nov 104.40553682165132\n",
      "data /kaggle/input/airdelhi-dataset/PM Datasets//2020-11-19_all.csv\n",
      "data /kaggle/input/airdelhi-dataset/PM Datasets//2020-11-20_all.csv\n",
      "data /kaggle/input/airdelhi-dataset/PM Datasets//2020-11-21_all.csv\n",
      "data /kaggle/input/airdelhi-dataset/PM Datasets//2020-11-22_all.csv\n",
      "22 Nov 114.0837155265859\n",
      "data /kaggle/input/airdelhi-dataset/PM Datasets//2020-11-20_all.csv\n",
      "data /kaggle/input/airdelhi-dataset/PM Datasets//2020-11-21_all.csv\n",
      "data /kaggle/input/airdelhi-dataset/PM Datasets//2020-11-22_all.csv\n",
      "data /kaggle/input/airdelhi-dataset/PM Datasets//2020-11-23_all.csv\n",
      "23 Nov 175.97283424513898\n",
      "data /kaggle/input/airdelhi-dataset/PM Datasets//2020-11-21_all.csv\n",
      "data /kaggle/input/airdelhi-dataset/PM Datasets//2020-11-22_all.csv\n",
      "data /kaggle/input/airdelhi-dataset/PM Datasets//2020-11-23_all.csv\n",
      "data /kaggle/input/airdelhi-dataset/PM Datasets//2020-11-24_all.csv\n",
      "24 Nov 236.24736182220937\n",
      "data /kaggle/input/airdelhi-dataset/PM Datasets//2020-11-22_all.csv\n",
      "data /kaggle/input/airdelhi-dataset/PM Datasets//2020-11-23_all.csv\n",
      "data /kaggle/input/airdelhi-dataset/PM Datasets//2020-11-24_all.csv\n",
      "data /kaggle/input/airdelhi-dataset/PM Datasets//2020-11-25_all.csv\n",
      "25 Nov 241.33266007112513\n",
      "data /kaggle/input/airdelhi-dataset/PM Datasets//2020-11-23_all.csv\n",
      "data /kaggle/input/airdelhi-dataset/PM Datasets//2020-11-24_all.csv\n",
      "data /kaggle/input/airdelhi-dataset/PM Datasets//2020-11-25_all.csv\n",
      "data /kaggle/input/airdelhi-dataset/PM Datasets//2020-11-26_all.csv\n",
      "26 Nov 59.90175517153398\n",
      "data /kaggle/input/airdelhi-dataset/PM Datasets//2020-11-24_all.csv\n",
      "data /kaggle/input/airdelhi-dataset/PM Datasets//2020-11-25_all.csv\n",
      "data /kaggle/input/airdelhi-dataset/PM Datasets//2020-11-26_all.csv\n",
      "data /kaggle/input/airdelhi-dataset/PM Datasets//2020-11-27_all.csv\n",
      "27 Nov 76.85251808876316\n",
      "data /kaggle/input/airdelhi-dataset/PM Datasets//2020-11-25_all.csv\n",
      "data /kaggle/input/airdelhi-dataset/PM Datasets//2020-11-26_all.csv\n",
      "data /kaggle/input/airdelhi-dataset/PM Datasets//2020-11-27_all.csv\n",
      "data /kaggle/input/airdelhi-dataset/PM Datasets//2020-11-28_all.csv\n",
      "28 Nov 110.63267715594347\n",
      "data /kaggle/input/airdelhi-dataset/PM Datasets//2020-11-26_all.csv\n",
      "data /kaggle/input/airdelhi-dataset/PM Datasets//2020-11-27_all.csv\n",
      "data /kaggle/input/airdelhi-dataset/PM Datasets//2020-11-28_all.csv\n",
      "data /kaggle/input/airdelhi-dataset/PM Datasets//2020-11-29_all.csv\n",
      "29 Nov 130.36402202433706\n",
      "data /kaggle/input/airdelhi-dataset/PM Datasets//2020-11-27_all.csv\n",
      "data /kaggle/input/airdelhi-dataset/PM Datasets//2020-11-28_all.csv\n",
      "data /kaggle/input/airdelhi-dataset/PM Datasets//2020-11-29_all.csv\n",
      "data /kaggle/input/airdelhi-dataset/PM Datasets//2020-11-30_all.csv\n",
      "30 Nov 155.08899091543873\n",
      "data /kaggle/input/airdelhi-dataset/PM Datasets//2020-11-28_all.csv\n",
      "data /kaggle/input/airdelhi-dataset/PM Datasets//2020-11-29_all.csv\n",
      "data /kaggle/input/airdelhi-dataset/PM Datasets//2020-11-30_all.csv\n",
      "data /kaggle/input/airdelhi-dataset/PM Datasets//2020-12-01_all.csv\n",
      "1 Dec 172.17920467231949\n",
      "data /kaggle/input/airdelhi-dataset/PM Datasets//2020-11-29_all.csv\n",
      "data /kaggle/input/airdelhi-dataset/PM Datasets//2020-11-30_all.csv\n",
      "data /kaggle/input/airdelhi-dataset/PM Datasets//2020-12-01_all.csv\n",
      "data /kaggle/input/airdelhi-dataset/PM Datasets//2020-12-02_all.csv\n",
      "2 Dec 155.2990017811376\n",
      "data /kaggle/input/airdelhi-dataset/PM Datasets//2020-11-30_all.csv\n",
      "data /kaggle/input/airdelhi-dataset/PM Datasets//2020-12-01_all.csv\n",
      "data /kaggle/input/airdelhi-dataset/PM Datasets//2020-12-02_all.csv\n",
      "data /kaggle/input/airdelhi-dataset/PM Datasets//2020-12-03_all.csv\n",
      "3 Dec 188.60738949448603\n",
      "data /kaggle/input/airdelhi-dataset/PM Datasets//2020-12-01_all.csv\n",
      "data /kaggle/input/airdelhi-dataset/PM Datasets//2020-12-02_all.csv\n",
      "data /kaggle/input/airdelhi-dataset/PM Datasets//2020-12-03_all.csv\n",
      "data /kaggle/input/airdelhi-dataset/PM Datasets//2020-12-04_all.csv\n",
      "4 Dec 213.01899755739188\n",
      "data /kaggle/input/airdelhi-dataset/PM Datasets//2020-12-02_all.csv\n",
      "data /kaggle/input/airdelhi-dataset/PM Datasets//2020-12-03_all.csv\n",
      "data /kaggle/input/airdelhi-dataset/PM Datasets//2020-12-04_all.csv\n",
      "data /kaggle/input/airdelhi-dataset/PM Datasets//2020-12-05_all.csv\n",
      "5 Dec 213.57980362705484\n",
      "data /kaggle/input/airdelhi-dataset/PM Datasets//2020-12-03_all.csv\n",
      "data /kaggle/input/airdelhi-dataset/PM Datasets//2020-12-04_all.csv\n",
      "data /kaggle/input/airdelhi-dataset/PM Datasets//2020-12-05_all.csv\n",
      "data /kaggle/input/airdelhi-dataset/PM Datasets//2020-12-06_all.csv\n",
      "6 Dec 190.11718396501283\n",
      "data /kaggle/input/airdelhi-dataset/PM Datasets//2020-12-04_all.csv\n",
      "data /kaggle/input/airdelhi-dataset/PM Datasets//2020-12-05_all.csv\n",
      "data /kaggle/input/airdelhi-dataset/PM Datasets//2020-12-06_all.csv\n",
      "data /kaggle/input/airdelhi-dataset/PM Datasets//2020-12-07_all.csv\n",
      "7 Dec 203.76786745647493\n",
      "data /kaggle/input/airdelhi-dataset/PM Datasets//2020-12-05_all.csv\n",
      "data /kaggle/input/airdelhi-dataset/PM Datasets//2020-12-06_all.csv\n",
      "data /kaggle/input/airdelhi-dataset/PM Datasets//2020-12-07_all.csv\n",
      "data /kaggle/input/airdelhi-dataset/PM Datasets//2020-12-08_all.csv\n",
      "8 Dec 154.85739910276308\n",
      "data /kaggle/input/airdelhi-dataset/PM Datasets//2020-12-06_all.csv\n",
      "data /kaggle/input/airdelhi-dataset/PM Datasets//2020-12-07_all.csv\n",
      "data /kaggle/input/airdelhi-dataset/PM Datasets//2020-12-08_all.csv\n",
      "data /kaggle/input/airdelhi-dataset/PM Datasets//2020-12-09_all.csv\n",
      "9 Dec 164.54839972969012\n",
      "data /kaggle/input/airdelhi-dataset/PM Datasets//2020-12-07_all.csv\n",
      "data /kaggle/input/airdelhi-dataset/PM Datasets//2020-12-08_all.csv\n",
      "data /kaggle/input/airdelhi-dataset/PM Datasets//2020-12-09_all.csv\n",
      "data /kaggle/input/airdelhi-dataset/PM Datasets//2020-12-10_all.csv\n",
      "10 Dec 106.92051354200106\n",
      "data /kaggle/input/airdelhi-dataset/PM Datasets//2020-12-08_all.csv\n",
      "data /kaggle/input/airdelhi-dataset/PM Datasets//2020-12-09_all.csv\n",
      "data /kaggle/input/airdelhi-dataset/PM Datasets//2020-12-10_all.csv\n",
      "data /kaggle/input/airdelhi-dataset/PM Datasets//2020-12-11_all.csv\n"
     ]
    },
    {
     "ename": "LinAlgError",
     "evalue": "LU decomposition error.",
     "output_type": "error",
     "traceback": [
      "\u001b[0;31m---------------------------------------------------------------------------\u001b[0m",
      "\u001b[0;31mLinAlgError\u001b[0m                               Traceback (most recent call last)",
      "\u001b[0;32m<ipython-input-3-fd6a1f9c64af>\u001b[0m in \u001b[0;36m<cell line: 197>\u001b[0;34m()\u001b[0m\n\u001b[1;32m    198\u001b[0m     \u001b[0mproc_usa\u001b[0m\u001b[0;34m(\u001b[0m\u001b[0;34m)\u001b[0m\u001b[0;34m\u001b[0m\u001b[0;34m\u001b[0m\u001b[0m\n\u001b[1;32m    199\u001b[0m \u001b[0;32melse\u001b[0m\u001b[0;34m:\u001b[0m\u001b[0;34m\u001b[0m\u001b[0;34m\u001b[0m\u001b[0m\n\u001b[0;32m--> 200\u001b[0;31m     \u001b[0mproc_delhi\u001b[0m\u001b[0;34m(\u001b[0m\u001b[0;34m)\u001b[0m\u001b[0;34m\u001b[0m\u001b[0;34m\u001b[0m\u001b[0m\n\u001b[0m\u001b[1;32m    201\u001b[0m \u001b[0;34m\u001b[0m\u001b[0m\n\u001b[1;32m    202\u001b[0m \u001b[0mout\u001b[0m \u001b[0;34m=\u001b[0m \u001b[0mpd\u001b[0m\u001b[0;34m.\u001b[0m\u001b[0mDataFrame\u001b[0m\u001b[0;34m(\u001b[0m\u001b[0;34m)\u001b[0m\u001b[0;34m\u001b[0m\u001b[0;34m\u001b[0m\u001b[0m\n",
      "\u001b[0;32m<ipython-input-3-fd6a1f9c64af>\u001b[0m in \u001b[0;36mproc_delhi\u001b[0;34m()\u001b[0m\n\u001b[1;32m    164\u001b[0m \u001b[0;34m\u001b[0m\u001b[0m\n\u001b[1;32m    165\u001b[0m         \u001b[0mtm_data\u001b[0m\u001b[0;34m.\u001b[0m\u001b[0mappend\u001b[0m\u001b[0;34m(\u001b[0m\u001b[0mtmsecs\u001b[0m\u001b[0;34m(\u001b[0m\u001b[0mdatetime\u001b[0m\u001b[0;34m.\u001b[0m\u001b[0mdatetime\u001b[0m\u001b[0;34m.\u001b[0m\u001b[0mnow\u001b[0m\u001b[0;34m(\u001b[0m\u001b[0;34m)\u001b[0m\u001b[0;34m,\u001b[0m \u001b[0mtmStart\u001b[0m\u001b[0;34m)\u001b[0m\u001b[0;34m)\u001b[0m\u001b[0;34m\u001b[0m\u001b[0;34m\u001b[0m\u001b[0m\n\u001b[0;32m--> 166\u001b[0;31m         \u001b[0mproc\u001b[0m\u001b[0;34m(\u001b[0m\u001b[0mdf\u001b[0m\u001b[0;34m,\u001b[0m \u001b[0mstart\u001b[0m\u001b[0;34m)\u001b[0m\u001b[0;34m\u001b[0m\u001b[0;34m\u001b[0m\u001b[0m\n\u001b[0m\u001b[1;32m    167\u001b[0m \u001b[0;34m\u001b[0m\u001b[0m\n\u001b[1;32m    168\u001b[0m \u001b[0;34m\u001b[0m\u001b[0m\n",
      "\u001b[0;32m<ipython-input-3-fd6a1f9c64af>\u001b[0m in \u001b[0;36mproc\u001b[0;34m(df, idx)\u001b[0m\n\u001b[1;32m    114\u001b[0m         \u001b[0mtm1\u001b[0m \u001b[0;34m=\u001b[0m \u001b[0mdatetime\u001b[0m\u001b[0;34m.\u001b[0m\u001b[0mdatetime\u001b[0m\u001b[0;34m.\u001b[0m\u001b[0mnow\u001b[0m\u001b[0;34m(\u001b[0m\u001b[0;34m)\u001b[0m\u001b[0;34m\u001b[0m\u001b[0;34m\u001b[0m\u001b[0m\n\u001b[1;32m    115\u001b[0m         \u001b[0mmodel\u001b[0m \u001b[0;34m=\u001b[0m \u001b[0mARIMA\u001b[0m\u001b[0;34m(\u001b[0m\u001b[0mdf_row\u001b[0m\u001b[0;34m[\u001b[0m\u001b[0;34m'pm2_5'\u001b[0m\u001b[0;34m]\u001b[0m\u001b[0;34m[\u001b[0m\u001b[0;34m:\u001b[0m\u001b[0mtrain_size\u001b[0m\u001b[0;34m]\u001b[0m\u001b[0;34m,\u001b[0m \u001b[0morder\u001b[0m\u001b[0;34m=\u001b[0m\u001b[0;34m(\u001b[0m\u001b[0;36m3\u001b[0m\u001b[0;34m,\u001b[0m \u001b[0;36m1\u001b[0m\u001b[0;34m,\u001b[0m \u001b[0;36m1\u001b[0m\u001b[0;34m)\u001b[0m\u001b[0;34m)\u001b[0m\u001b[0;34m\u001b[0m\u001b[0;34m\u001b[0m\u001b[0m\n\u001b[0;32m--> 116\u001b[0;31m         \u001b[0mmodel_fit\u001b[0m \u001b[0;34m=\u001b[0m \u001b[0mmodel\u001b[0m\u001b[0;34m.\u001b[0m\u001b[0mfit\u001b[0m\u001b[0;34m(\u001b[0m\u001b[0;34m)\u001b[0m\u001b[0;34m\u001b[0m\u001b[0;34m\u001b[0m\u001b[0m\n\u001b[0m\u001b[1;32m    117\u001b[0m         \u001b[0mtm2\u001b[0m \u001b[0;34m=\u001b[0m \u001b[0mdatetime\u001b[0m\u001b[0;34m.\u001b[0m\u001b[0mdatetime\u001b[0m\u001b[0;34m.\u001b[0m\u001b[0mnow\u001b[0m\u001b[0;34m(\u001b[0m\u001b[0;34m)\u001b[0m\u001b[0;34m\u001b[0m\u001b[0;34m\u001b[0m\u001b[0m\n\u001b[1;32m    118\u001b[0m         \u001b[0mdf_row\u001b[0m\u001b[0;34m[\u001b[0m\u001b[0;34m'forecast'\u001b[0m\u001b[0;34m]\u001b[0m \u001b[0;34m=\u001b[0m \u001b[0mmodel_fit\u001b[0m\u001b[0;34m.\u001b[0m\u001b[0mpredict\u001b[0m\u001b[0;34m(\u001b[0m\u001b[0mstart\u001b[0m\u001b[0;34m=\u001b[0m\u001b[0mtrain_size\u001b[0m\u001b[0;34m,\u001b[0m \u001b[0mend\u001b[0m\u001b[0;34m=\u001b[0m\u001b[0mdf\u001b[0m\u001b[0;34m.\u001b[0m\u001b[0mshape\u001b[0m\u001b[0;34m[\u001b[0m\u001b[0;36m1\u001b[0m\u001b[0;34m]\u001b[0m \u001b[0;34m+\u001b[0m \u001b[0;36m1\u001b[0m\u001b[0;34m,\u001b[0m \u001b[0mdynamic\u001b[0m\u001b[0;34m=\u001b[0m\u001b[0;32mTrue\u001b[0m\u001b[0;34m)\u001b[0m\u001b[0;34m\u001b[0m\u001b[0;34m\u001b[0m\u001b[0m\n",
      "\u001b[0;32m/usr/local/lib/python3.10/dist-packages/statsmodels/tsa/arima/model.py\u001b[0m in \u001b[0;36mfit\u001b[0;34m(self, start_params, transformed, includes_fixed, method, method_kwargs, gls, gls_kwargs, cov_type, cov_kwds, return_params, low_memory)\u001b[0m\n\u001b[1;32m    393\u001b[0m                 \u001b[0mmethod_kwargs\u001b[0m\u001b[0;34m.\u001b[0m\u001b[0msetdefault\u001b[0m\u001b[0;34m(\u001b[0m\u001b[0;34m'disp'\u001b[0m\u001b[0;34m,\u001b[0m \u001b[0;36m0\u001b[0m\u001b[0;34m)\u001b[0m\u001b[0;34m\u001b[0m\u001b[0;34m\u001b[0m\u001b[0m\n\u001b[1;32m    394\u001b[0m \u001b[0;34m\u001b[0m\u001b[0m\n\u001b[0;32m--> 395\u001b[0;31m                 res = super().fit(\n\u001b[0m\u001b[1;32m    396\u001b[0m                     \u001b[0mreturn_params\u001b[0m\u001b[0;34m=\u001b[0m\u001b[0mreturn_params\u001b[0m\u001b[0;34m,\u001b[0m \u001b[0mlow_memory\u001b[0m\u001b[0;34m=\u001b[0m\u001b[0mlow_memory\u001b[0m\u001b[0;34m,\u001b[0m\u001b[0;34m\u001b[0m\u001b[0;34m\u001b[0m\u001b[0m\n\u001b[1;32m    397\u001b[0m                     cov_type=cov_type, cov_kwds=cov_kwds, **method_kwargs)\n",
      "\u001b[0;32m/usr/local/lib/python3.10/dist-packages/statsmodels/tsa/statespace/mlemodel.py\u001b[0m in \u001b[0;36mfit\u001b[0;34m(self, start_params, transformed, includes_fixed, cov_type, cov_kwds, method, maxiter, full_output, disp, callback, return_params, optim_score, optim_complex_step, optim_hessian, flags, low_memory, **kwargs)\u001b[0m\n\u001b[1;32m    703\u001b[0m                 \u001b[0mflags\u001b[0m\u001b[0;34m[\u001b[0m\u001b[0;34m'hessian_method'\u001b[0m\u001b[0;34m]\u001b[0m \u001b[0;34m=\u001b[0m \u001b[0moptim_hessian\u001b[0m\u001b[0;34m\u001b[0m\u001b[0;34m\u001b[0m\u001b[0m\n\u001b[1;32m    704\u001b[0m             \u001b[0mfargs\u001b[0m \u001b[0;34m=\u001b[0m \u001b[0;34m(\u001b[0m\u001b[0mflags\u001b[0m\u001b[0;34m,\u001b[0m\u001b[0;34m)\u001b[0m\u001b[0;34m\u001b[0m\u001b[0;34m\u001b[0m\u001b[0m\n\u001b[0;32m--> 705\u001b[0;31m             mlefit = super().fit(start_params, method=method,\n\u001b[0m\u001b[1;32m    706\u001b[0m                                  \u001b[0mfargs\u001b[0m\u001b[0;34m=\u001b[0m\u001b[0mfargs\u001b[0m\u001b[0;34m,\u001b[0m\u001b[0;34m\u001b[0m\u001b[0;34m\u001b[0m\u001b[0m\n\u001b[1;32m    707\u001b[0m                                  \u001b[0mmaxiter\u001b[0m\u001b[0;34m=\u001b[0m\u001b[0mmaxiter\u001b[0m\u001b[0;34m,\u001b[0m\u001b[0;34m\u001b[0m\u001b[0;34m\u001b[0m\u001b[0m\n",
      "\u001b[0;32m/usr/local/lib/python3.10/dist-packages/statsmodels/base/model.py\u001b[0m in \u001b[0;36mfit\u001b[0;34m(self, start_params, method, maxiter, full_output, disp, fargs, callback, retall, skip_hessian, **kwargs)\u001b[0m\n\u001b[1;32m    564\u001b[0m \u001b[0;34m\u001b[0m\u001b[0m\n\u001b[1;32m    565\u001b[0m         \u001b[0moptimizer\u001b[0m \u001b[0;34m=\u001b[0m \u001b[0mOptimizer\u001b[0m\u001b[0;34m(\u001b[0m\u001b[0;34m)\u001b[0m\u001b[0;34m\u001b[0m\u001b[0;34m\u001b[0m\u001b[0m\n\u001b[0;32m--> 566\u001b[0;31m         xopt, retvals, optim_settings = optimizer._fit(f, score, start_params,\n\u001b[0m\u001b[1;32m    567\u001b[0m                                                        \u001b[0mfargs\u001b[0m\u001b[0;34m,\u001b[0m \u001b[0mkwargs\u001b[0m\u001b[0;34m,\u001b[0m\u001b[0;34m\u001b[0m\u001b[0;34m\u001b[0m\u001b[0m\n\u001b[1;32m    568\u001b[0m                                                        \u001b[0mhessian\u001b[0m\u001b[0;34m=\u001b[0m\u001b[0mhess\u001b[0m\u001b[0;34m,\u001b[0m\u001b[0;34m\u001b[0m\u001b[0;34m\u001b[0m\u001b[0m\n",
      "\u001b[0;32m/usr/local/lib/python3.10/dist-packages/statsmodels/base/optimizer.py\u001b[0m in \u001b[0;36m_fit\u001b[0;34m(self, objective, gradient, start_params, fargs, kwargs, hessian, method, maxiter, full_output, disp, callback, retall)\u001b[0m\n\u001b[1;32m    241\u001b[0m \u001b[0;34m\u001b[0m\u001b[0m\n\u001b[1;32m    242\u001b[0m         \u001b[0mfunc\u001b[0m \u001b[0;34m=\u001b[0m \u001b[0mfit_funcs\u001b[0m\u001b[0;34m[\u001b[0m\u001b[0mmethod\u001b[0m\u001b[0;34m]\u001b[0m\u001b[0;34m\u001b[0m\u001b[0;34m\u001b[0m\u001b[0m\n\u001b[0;32m--> 243\u001b[0;31m         xopt, retvals = func(objective, gradient, start_params, fargs, kwargs,\n\u001b[0m\u001b[1;32m    244\u001b[0m                              \u001b[0mdisp\u001b[0m\u001b[0;34m=\u001b[0m\u001b[0mdisp\u001b[0m\u001b[0;34m,\u001b[0m \u001b[0mmaxiter\u001b[0m\u001b[0;34m=\u001b[0m\u001b[0mmaxiter\u001b[0m\u001b[0;34m,\u001b[0m \u001b[0mcallback\u001b[0m\u001b[0;34m=\u001b[0m\u001b[0mcallback\u001b[0m\u001b[0;34m,\u001b[0m\u001b[0;34m\u001b[0m\u001b[0;34m\u001b[0m\u001b[0m\n\u001b[1;32m    245\u001b[0m                              \u001b[0mretall\u001b[0m\u001b[0;34m=\u001b[0m\u001b[0mretall\u001b[0m\u001b[0;34m,\u001b[0m \u001b[0mfull_output\u001b[0m\u001b[0;34m=\u001b[0m\u001b[0mfull_output\u001b[0m\u001b[0;34m,\u001b[0m\u001b[0;34m\u001b[0m\u001b[0;34m\u001b[0m\u001b[0m\n",
      "\u001b[0;32m/usr/local/lib/python3.10/dist-packages/statsmodels/base/optimizer.py\u001b[0m in \u001b[0;36m_fit_lbfgs\u001b[0;34m(f, score, start_params, fargs, kwargs, disp, maxiter, callback, retall, full_output, hess)\u001b[0m\n\u001b[1;32m    658\u001b[0m         \u001b[0mfunc\u001b[0m \u001b[0;34m=\u001b[0m \u001b[0mf\u001b[0m\u001b[0;34m\u001b[0m\u001b[0;34m\u001b[0m\u001b[0m\n\u001b[1;32m    659\u001b[0m \u001b[0;34m\u001b[0m\u001b[0m\n\u001b[0;32m--> 660\u001b[0;31m     retvals = optimize.fmin_l_bfgs_b(func, start_params, maxiter=maxiter,\n\u001b[0m\u001b[1;32m    661\u001b[0m                                      \u001b[0mcallback\u001b[0m\u001b[0;34m=\u001b[0m\u001b[0mcallback\u001b[0m\u001b[0;34m,\u001b[0m \u001b[0margs\u001b[0m\u001b[0;34m=\u001b[0m\u001b[0mfargs\u001b[0m\u001b[0;34m,\u001b[0m\u001b[0;34m\u001b[0m\u001b[0;34m\u001b[0m\u001b[0m\n\u001b[1;32m    662\u001b[0m                                      \u001b[0mbounds\u001b[0m\u001b[0;34m=\u001b[0m\u001b[0mbounds\u001b[0m\u001b[0;34m,\u001b[0m \u001b[0mdisp\u001b[0m\u001b[0;34m=\u001b[0m\u001b[0mdisp\u001b[0m\u001b[0;34m,\u001b[0m\u001b[0;34m\u001b[0m\u001b[0;34m\u001b[0m\u001b[0m\n",
      "\u001b[0;32m/usr/local/lib/python3.10/dist-packages/scipy/optimize/_lbfgsb_py.py\u001b[0m in \u001b[0;36mfmin_l_bfgs_b\u001b[0;34m(func, x0, fprime, args, approx_grad, bounds, m, factr, pgtol, epsilon, iprint, maxfun, maxiter, disp, callback, maxls)\u001b[0m\n\u001b[1;32m    235\u001b[0m             'maxls': maxls}\n\u001b[1;32m    236\u001b[0m \u001b[0;34m\u001b[0m\u001b[0m\n\u001b[0;32m--> 237\u001b[0;31m     res = _minimize_lbfgsb(fun, x0, args=args, jac=jac, bounds=bounds,\n\u001b[0m\u001b[1;32m    238\u001b[0m                            **opts)\n\u001b[1;32m    239\u001b[0m     d = {'grad': res['jac'],\n",
      "\u001b[0;32m/usr/local/lib/python3.10/dist-packages/scipy/optimize/_lbfgsb_py.py\u001b[0m in \u001b[0;36m_minimize_lbfgsb\u001b[0;34m(fun, x0, args, jac, bounds, disp, maxcor, ftol, gtol, eps, maxfun, maxiter, iprint, callback, maxls, finite_diff_rel_step, **unknown_options)\u001b[0m\n\u001b[1;32m    405\u001b[0m             \u001b[0;31m# until the completion of the current minimization iteration.\u001b[0m\u001b[0;34m\u001b[0m\u001b[0;34m\u001b[0m\u001b[0m\n\u001b[1;32m    406\u001b[0m             \u001b[0;31m# Overwrite f and g:\u001b[0m\u001b[0;34m\u001b[0m\u001b[0;34m\u001b[0m\u001b[0m\n\u001b[0;32m--> 407\u001b[0;31m             \u001b[0mf\u001b[0m\u001b[0;34m,\u001b[0m \u001b[0mg\u001b[0m \u001b[0;34m=\u001b[0m \u001b[0mfunc_and_grad\u001b[0m\u001b[0;34m(\u001b[0m\u001b[0mx\u001b[0m\u001b[0;34m)\u001b[0m\u001b[0;34m\u001b[0m\u001b[0;34m\u001b[0m\u001b[0m\n\u001b[0m\u001b[1;32m    408\u001b[0m         \u001b[0;32melif\u001b[0m \u001b[0mtask_str\u001b[0m\u001b[0;34m.\u001b[0m\u001b[0mstartswith\u001b[0m\u001b[0;34m(\u001b[0m\u001b[0;34mb'NEW_X'\u001b[0m\u001b[0;34m)\u001b[0m\u001b[0;34m:\u001b[0m\u001b[0;34m\u001b[0m\u001b[0;34m\u001b[0m\u001b[0m\n\u001b[1;32m    409\u001b[0m             \u001b[0;31m# new iteration\u001b[0m\u001b[0;34m\u001b[0m\u001b[0;34m\u001b[0m\u001b[0m\n",
      "\u001b[0;32m/usr/local/lib/python3.10/dist-packages/scipy/optimize/_differentiable_functions.py\u001b[0m in \u001b[0;36mfun_and_grad\u001b[0;34m(self, x)\u001b[0m\n\u001b[1;32m    295\u001b[0m             \u001b[0mself\u001b[0m\u001b[0;34m.\u001b[0m\u001b[0m_update_x_impl\u001b[0m\u001b[0;34m(\u001b[0m\u001b[0mx\u001b[0m\u001b[0;34m)\u001b[0m\u001b[0;34m\u001b[0m\u001b[0;34m\u001b[0m\u001b[0m\n\u001b[1;32m    296\u001b[0m         \u001b[0mself\u001b[0m\u001b[0;34m.\u001b[0m\u001b[0m_update_fun\u001b[0m\u001b[0;34m(\u001b[0m\u001b[0;34m)\u001b[0m\u001b[0;34m\u001b[0m\u001b[0;34m\u001b[0m\u001b[0m\n\u001b[0;32m--> 297\u001b[0;31m         \u001b[0mself\u001b[0m\u001b[0;34m.\u001b[0m\u001b[0m_update_grad\u001b[0m\u001b[0;34m(\u001b[0m\u001b[0;34m)\u001b[0m\u001b[0;34m\u001b[0m\u001b[0;34m\u001b[0m\u001b[0m\n\u001b[0m\u001b[1;32m    298\u001b[0m         \u001b[0;32mreturn\u001b[0m \u001b[0mself\u001b[0m\u001b[0;34m.\u001b[0m\u001b[0mf\u001b[0m\u001b[0;34m,\u001b[0m \u001b[0mself\u001b[0m\u001b[0;34m.\u001b[0m\u001b[0mg\u001b[0m\u001b[0;34m\u001b[0m\u001b[0;34m\u001b[0m\u001b[0m\n\u001b[1;32m    299\u001b[0m \u001b[0;34m\u001b[0m\u001b[0m\n",
      "\u001b[0;32m/usr/local/lib/python3.10/dist-packages/scipy/optimize/_differentiable_functions.py\u001b[0m in \u001b[0;36m_update_grad\u001b[0;34m(self)\u001b[0m\n\u001b[1;32m    265\u001b[0m     \u001b[0;32mdef\u001b[0m \u001b[0m_update_grad\u001b[0m\u001b[0;34m(\u001b[0m\u001b[0mself\u001b[0m\u001b[0;34m)\u001b[0m\u001b[0;34m:\u001b[0m\u001b[0;34m\u001b[0m\u001b[0;34m\u001b[0m\u001b[0m\n\u001b[1;32m    266\u001b[0m         \u001b[0;32mif\u001b[0m \u001b[0;32mnot\u001b[0m \u001b[0mself\u001b[0m\u001b[0;34m.\u001b[0m\u001b[0mg_updated\u001b[0m\u001b[0;34m:\u001b[0m\u001b[0;34m\u001b[0m\u001b[0;34m\u001b[0m\u001b[0m\n\u001b[0;32m--> 267\u001b[0;31m             \u001b[0mself\u001b[0m\u001b[0;34m.\u001b[0m\u001b[0m_update_grad_impl\u001b[0m\u001b[0;34m(\u001b[0m\u001b[0;34m)\u001b[0m\u001b[0;34m\u001b[0m\u001b[0;34m\u001b[0m\u001b[0m\n\u001b[0m\u001b[1;32m    268\u001b[0m             \u001b[0mself\u001b[0m\u001b[0;34m.\u001b[0m\u001b[0mg_updated\u001b[0m \u001b[0;34m=\u001b[0m \u001b[0;32mTrue\u001b[0m\u001b[0;34m\u001b[0m\u001b[0;34m\u001b[0m\u001b[0m\n\u001b[1;32m    269\u001b[0m \u001b[0;34m\u001b[0m\u001b[0m\n",
      "\u001b[0;32m/usr/local/lib/python3.10/dist-packages/scipy/optimize/_differentiable_functions.py\u001b[0m in \u001b[0;36mupdate_grad\u001b[0;34m()\u001b[0m\n\u001b[1;32m    179\u001b[0m                 \u001b[0mself\u001b[0m\u001b[0;34m.\u001b[0m\u001b[0m_update_fun\u001b[0m\u001b[0;34m(\u001b[0m\u001b[0;34m)\u001b[0m\u001b[0;34m\u001b[0m\u001b[0;34m\u001b[0m\u001b[0m\n\u001b[1;32m    180\u001b[0m                 \u001b[0mself\u001b[0m\u001b[0;34m.\u001b[0m\u001b[0mngev\u001b[0m \u001b[0;34m+=\u001b[0m \u001b[0;36m1\u001b[0m\u001b[0;34m\u001b[0m\u001b[0;34m\u001b[0m\u001b[0m\n\u001b[0;32m--> 181\u001b[0;31m                 self.g = approx_derivative(fun_wrapped, self.x, f0=self.f,\n\u001b[0m\u001b[1;32m    182\u001b[0m                                            **finite_diff_options)\n\u001b[1;32m    183\u001b[0m \u001b[0;34m\u001b[0m\u001b[0m\n",
      "\u001b[0;32m/usr/local/lib/python3.10/dist-packages/scipy/optimize/_numdiff.py\u001b[0m in \u001b[0;36mapprox_derivative\u001b[0;34m(fun, x0, method, rel_step, abs_step, f0, bounds, sparsity, as_linear_operator, args, kwargs)\u001b[0m\n\u001b[1;32m    517\u001b[0m \u001b[0;34m\u001b[0m\u001b[0m\n\u001b[1;32m    518\u001b[0m         \u001b[0;32mif\u001b[0m \u001b[0msparsity\u001b[0m \u001b[0;32mis\u001b[0m \u001b[0;32mNone\u001b[0m\u001b[0;34m:\u001b[0m\u001b[0;34m\u001b[0m\u001b[0;34m\u001b[0m\u001b[0m\n\u001b[0;32m--> 519\u001b[0;31m             return _dense_difference(fun_wrapped, x0, f0, h,\n\u001b[0m\u001b[1;32m    520\u001b[0m                                      use_one_sided, method)\n\u001b[1;32m    521\u001b[0m         \u001b[0;32melse\u001b[0m\u001b[0;34m:\u001b[0m\u001b[0;34m\u001b[0m\u001b[0;34m\u001b[0m\u001b[0m\n",
      "\u001b[0;32m/usr/local/lib/python3.10/dist-packages/scipy/optimize/_numdiff.py\u001b[0m in \u001b[0;36m_dense_difference\u001b[0;34m(fun, x0, f0, h, use_one_sided, method)\u001b[0m\n\u001b[1;32m    588\u001b[0m             \u001b[0mx\u001b[0m \u001b[0;34m=\u001b[0m \u001b[0mx0\u001b[0m \u001b[0;34m+\u001b[0m \u001b[0mh_vecs\u001b[0m\u001b[0;34m[\u001b[0m\u001b[0mi\u001b[0m\u001b[0;34m]\u001b[0m\u001b[0;34m\u001b[0m\u001b[0;34m\u001b[0m\u001b[0m\n\u001b[1;32m    589\u001b[0m             \u001b[0mdx\u001b[0m \u001b[0;34m=\u001b[0m \u001b[0mx\u001b[0m\u001b[0;34m[\u001b[0m\u001b[0mi\u001b[0m\u001b[0;34m]\u001b[0m \u001b[0;34m-\u001b[0m \u001b[0mx0\u001b[0m\u001b[0;34m[\u001b[0m\u001b[0mi\u001b[0m\u001b[0;34m]\u001b[0m  \u001b[0;31m# Recompute dx as exactly representable number.\u001b[0m\u001b[0;34m\u001b[0m\u001b[0;34m\u001b[0m\u001b[0m\n\u001b[0;32m--> 590\u001b[0;31m             \u001b[0mdf\u001b[0m \u001b[0;34m=\u001b[0m \u001b[0mfun\u001b[0m\u001b[0;34m(\u001b[0m\u001b[0mx\u001b[0m\u001b[0;34m)\u001b[0m \u001b[0;34m-\u001b[0m \u001b[0mf0\u001b[0m\u001b[0;34m\u001b[0m\u001b[0;34m\u001b[0m\u001b[0m\n\u001b[0m\u001b[1;32m    591\u001b[0m         \u001b[0;32melif\u001b[0m \u001b[0mmethod\u001b[0m \u001b[0;34m==\u001b[0m \u001b[0;34m'3-point'\u001b[0m \u001b[0;32mand\u001b[0m \u001b[0muse_one_sided\u001b[0m\u001b[0;34m[\u001b[0m\u001b[0mi\u001b[0m\u001b[0;34m]\u001b[0m\u001b[0;34m:\u001b[0m\u001b[0;34m\u001b[0m\u001b[0;34m\u001b[0m\u001b[0m\n\u001b[1;32m    592\u001b[0m             \u001b[0mx1\u001b[0m \u001b[0;34m=\u001b[0m \u001b[0mx0\u001b[0m \u001b[0;34m+\u001b[0m \u001b[0mh_vecs\u001b[0m\u001b[0;34m[\u001b[0m\u001b[0mi\u001b[0m\u001b[0;34m]\u001b[0m\u001b[0;34m\u001b[0m\u001b[0;34m\u001b[0m\u001b[0m\n",
      "\u001b[0;32m/usr/local/lib/python3.10/dist-packages/scipy/optimize/_numdiff.py\u001b[0m in \u001b[0;36mfun_wrapped\u001b[0;34m(x)\u001b[0m\n\u001b[1;32m    468\u001b[0m             \u001b[0mx\u001b[0m \u001b[0;34m=\u001b[0m \u001b[0mxp\u001b[0m\u001b[0;34m.\u001b[0m\u001b[0mastype\u001b[0m\u001b[0;34m(\u001b[0m\u001b[0mx\u001b[0m\u001b[0;34m,\u001b[0m \u001b[0mx0\u001b[0m\u001b[0;34m.\u001b[0m\u001b[0mdtype\u001b[0m\u001b[0;34m)\u001b[0m\u001b[0;34m\u001b[0m\u001b[0;34m\u001b[0m\u001b[0m\n\u001b[1;32m    469\u001b[0m \u001b[0;34m\u001b[0m\u001b[0m\n\u001b[0;32m--> 470\u001b[0;31m         \u001b[0mf\u001b[0m \u001b[0;34m=\u001b[0m \u001b[0mnp\u001b[0m\u001b[0;34m.\u001b[0m\u001b[0matleast_1d\u001b[0m\u001b[0;34m(\u001b[0m\u001b[0mfun\u001b[0m\u001b[0;34m(\u001b[0m\u001b[0mx\u001b[0m\u001b[0;34m,\u001b[0m \u001b[0;34m*\u001b[0m\u001b[0margs\u001b[0m\u001b[0;34m,\u001b[0m \u001b[0;34m**\u001b[0m\u001b[0mkwargs\u001b[0m\u001b[0;34m)\u001b[0m\u001b[0;34m)\u001b[0m\u001b[0;34m\u001b[0m\u001b[0;34m\u001b[0m\u001b[0m\n\u001b[0m\u001b[1;32m    471\u001b[0m         \u001b[0;32mif\u001b[0m \u001b[0mf\u001b[0m\u001b[0;34m.\u001b[0m\u001b[0mndim\u001b[0m \u001b[0;34m>\u001b[0m \u001b[0;36m1\u001b[0m\u001b[0;34m:\u001b[0m\u001b[0;34m\u001b[0m\u001b[0;34m\u001b[0m\u001b[0m\n\u001b[1;32m    472\u001b[0m             raise RuntimeError(\"`fun` return value has \"\n",
      "\u001b[0;32m/usr/local/lib/python3.10/dist-packages/scipy/optimize/_differentiable_functions.py\u001b[0m in \u001b[0;36mfun_wrapped\u001b[0;34m(x)\u001b[0m\n\u001b[1;32m    143\u001b[0m             \u001b[0;31m# Overwriting results in undefined behaviour because\u001b[0m\u001b[0;34m\u001b[0m\u001b[0;34m\u001b[0m\u001b[0m\n\u001b[1;32m    144\u001b[0m             \u001b[0;31m# fun(self.x) will change self.x, with the two no longer linked.\u001b[0m\u001b[0;34m\u001b[0m\u001b[0;34m\u001b[0m\u001b[0m\n\u001b[0;32m--> 145\u001b[0;31m             \u001b[0mfx\u001b[0m \u001b[0;34m=\u001b[0m \u001b[0mfun\u001b[0m\u001b[0;34m(\u001b[0m\u001b[0mnp\u001b[0m\u001b[0;34m.\u001b[0m\u001b[0mcopy\u001b[0m\u001b[0;34m(\u001b[0m\u001b[0mx\u001b[0m\u001b[0;34m)\u001b[0m\u001b[0;34m,\u001b[0m \u001b[0;34m*\u001b[0m\u001b[0margs\u001b[0m\u001b[0;34m)\u001b[0m\u001b[0;34m\u001b[0m\u001b[0;34m\u001b[0m\u001b[0m\n\u001b[0m\u001b[1;32m    146\u001b[0m             \u001b[0;31m# Make sure the function returns a true scalar\u001b[0m\u001b[0;34m\u001b[0m\u001b[0;34m\u001b[0m\u001b[0m\n\u001b[1;32m    147\u001b[0m             \u001b[0;32mif\u001b[0m \u001b[0;32mnot\u001b[0m \u001b[0mnp\u001b[0m\u001b[0;34m.\u001b[0m\u001b[0misscalar\u001b[0m\u001b[0;34m(\u001b[0m\u001b[0mfx\u001b[0m\u001b[0;34m)\u001b[0m\u001b[0;34m:\u001b[0m\u001b[0;34m\u001b[0m\u001b[0;34m\u001b[0m\u001b[0m\n",
      "\u001b[0;32m/usr/local/lib/python3.10/dist-packages/statsmodels/base/model.py\u001b[0m in \u001b[0;36mf\u001b[0;34m(params, *args)\u001b[0m\n\u001b[1;32m    532\u001b[0m \u001b[0;34m\u001b[0m\u001b[0m\n\u001b[1;32m    533\u001b[0m         \u001b[0;32mdef\u001b[0m \u001b[0mf\u001b[0m\u001b[0;34m(\u001b[0m\u001b[0mparams\u001b[0m\u001b[0;34m,\u001b[0m \u001b[0;34m*\u001b[0m\u001b[0margs\u001b[0m\u001b[0;34m)\u001b[0m\u001b[0;34m:\u001b[0m\u001b[0;34m\u001b[0m\u001b[0;34m\u001b[0m\u001b[0m\n\u001b[0;32m--> 534\u001b[0;31m             \u001b[0;32mreturn\u001b[0m \u001b[0;34m-\u001b[0m\u001b[0mself\u001b[0m\u001b[0;34m.\u001b[0m\u001b[0mloglike\u001b[0m\u001b[0;34m(\u001b[0m\u001b[0mparams\u001b[0m\u001b[0;34m,\u001b[0m \u001b[0;34m*\u001b[0m\u001b[0margs\u001b[0m\u001b[0;34m)\u001b[0m \u001b[0;34m/\u001b[0m \u001b[0mnobs\u001b[0m\u001b[0;34m\u001b[0m\u001b[0;34m\u001b[0m\u001b[0m\n\u001b[0m\u001b[1;32m    535\u001b[0m \u001b[0;34m\u001b[0m\u001b[0m\n\u001b[1;32m    536\u001b[0m         \u001b[0;32mif\u001b[0m \u001b[0mmethod\u001b[0m \u001b[0;34m==\u001b[0m \u001b[0;34m'newton'\u001b[0m\u001b[0;34m:\u001b[0m\u001b[0;34m\u001b[0m\u001b[0;34m\u001b[0m\u001b[0m\n",
      "\u001b[0;32m/usr/local/lib/python3.10/dist-packages/statsmodels/tsa/statespace/mlemodel.py\u001b[0m in \u001b[0;36mloglike\u001b[0;34m(self, params, *args, **kwargs)\u001b[0m\n\u001b[1;32m    938\u001b[0m             \u001b[0mkwargs\u001b[0m\u001b[0;34m[\u001b[0m\u001b[0;34m'inversion_method'\u001b[0m\u001b[0;34m]\u001b[0m \u001b[0;34m=\u001b[0m \u001b[0mINVERT_UNIVARIATE\u001b[0m \u001b[0;34m|\u001b[0m \u001b[0mSOLVE_LU\u001b[0m\u001b[0;34m\u001b[0m\u001b[0;34m\u001b[0m\u001b[0m\n\u001b[1;32m    939\u001b[0m \u001b[0;34m\u001b[0m\u001b[0m\n\u001b[0;32m--> 940\u001b[0;31m         \u001b[0mloglike\u001b[0m \u001b[0;34m=\u001b[0m \u001b[0mself\u001b[0m\u001b[0;34m.\u001b[0m\u001b[0mssm\u001b[0m\u001b[0;34m.\u001b[0m\u001b[0mloglike\u001b[0m\u001b[0;34m(\u001b[0m\u001b[0mcomplex_step\u001b[0m\u001b[0;34m=\u001b[0m\u001b[0mcomplex_step\u001b[0m\u001b[0;34m,\u001b[0m \u001b[0;34m**\u001b[0m\u001b[0mkwargs\u001b[0m\u001b[0;34m)\u001b[0m\u001b[0;34m\u001b[0m\u001b[0;34m\u001b[0m\u001b[0m\n\u001b[0m\u001b[1;32m    941\u001b[0m \u001b[0;34m\u001b[0m\u001b[0m\n\u001b[1;32m    942\u001b[0m         \u001b[0;31m# Koopman, Shephard, and Doornik recommend maximizing the average\u001b[0m\u001b[0;34m\u001b[0m\u001b[0;34m\u001b[0m\u001b[0m\n",
      "\u001b[0;32m/usr/local/lib/python3.10/dist-packages/statsmodels/tsa/statespace/kalman_filter.py\u001b[0m in \u001b[0;36mloglike\u001b[0;34m(self, **kwargs)\u001b[0m\n\u001b[1;32m    999\u001b[0m         kwargs.setdefault('conserve_memory',\n\u001b[1;32m   1000\u001b[0m                           MEMORY_CONSERVE ^ MEMORY_NO_LIKELIHOOD)\n\u001b[0;32m-> 1001\u001b[0;31m         \u001b[0mkfilter\u001b[0m \u001b[0;34m=\u001b[0m \u001b[0mself\u001b[0m\u001b[0;34m.\u001b[0m\u001b[0m_filter\u001b[0m\u001b[0;34m(\u001b[0m\u001b[0;34m**\u001b[0m\u001b[0mkwargs\u001b[0m\u001b[0;34m)\u001b[0m\u001b[0;34m\u001b[0m\u001b[0;34m\u001b[0m\u001b[0m\n\u001b[0m\u001b[1;32m   1002\u001b[0m         loglikelihood_burn = kwargs.get('loglikelihood_burn',\n\u001b[1;32m   1003\u001b[0m                                         self.loglikelihood_burn)\n",
      "\u001b[0;32m/usr/local/lib/python3.10/dist-packages/statsmodels/tsa/statespace/kalman_filter.py\u001b[0m in \u001b[0;36m_filter\u001b[0;34m(self, filter_method, inversion_method, stability_method, conserve_memory, filter_timing, tolerance, loglikelihood_burn, complex_step)\u001b[0m\n\u001b[1;32m    919\u001b[0m \u001b[0;34m\u001b[0m\u001b[0m\n\u001b[1;32m    920\u001b[0m         \u001b[0;31m# Initialize the state\u001b[0m\u001b[0;34m\u001b[0m\u001b[0;34m\u001b[0m\u001b[0m\n\u001b[0;32m--> 921\u001b[0;31m         \u001b[0mself\u001b[0m\u001b[0;34m.\u001b[0m\u001b[0m_initialize_state\u001b[0m\u001b[0;34m(\u001b[0m\u001b[0mprefix\u001b[0m\u001b[0;34m=\u001b[0m\u001b[0mprefix\u001b[0m\u001b[0;34m,\u001b[0m \u001b[0mcomplex_step\u001b[0m\u001b[0;34m=\u001b[0m\u001b[0mcomplex_step\u001b[0m\u001b[0;34m)\u001b[0m\u001b[0;34m\u001b[0m\u001b[0;34m\u001b[0m\u001b[0m\n\u001b[0m\u001b[1;32m    922\u001b[0m \u001b[0;34m\u001b[0m\u001b[0m\n\u001b[1;32m    923\u001b[0m         \u001b[0;31m# Run the filter\u001b[0m\u001b[0;34m\u001b[0m\u001b[0;34m\u001b[0m\u001b[0m\n",
      "\u001b[0;32m/usr/local/lib/python3.10/dist-packages/statsmodels/tsa/statespace/representation.py\u001b[0m in \u001b[0;36m_initialize_state\u001b[0;34m(self, prefix, complex_step)\u001b[0m\n\u001b[1;32m   1056\u001b[0m             \u001b[0;32mif\u001b[0m \u001b[0;32mnot\u001b[0m \u001b[0mself\u001b[0m\u001b[0;34m.\u001b[0m\u001b[0minitialization\u001b[0m\u001b[0;34m.\u001b[0m\u001b[0minitialized\u001b[0m\u001b[0;34m:\u001b[0m\u001b[0;34m\u001b[0m\u001b[0;34m\u001b[0m\u001b[0m\n\u001b[1;32m   1057\u001b[0m                 \u001b[0;32mraise\u001b[0m \u001b[0mRuntimeError\u001b[0m\u001b[0;34m(\u001b[0m\u001b[0;34m'Initialization is incomplete.'\u001b[0m\u001b[0;34m)\u001b[0m\u001b[0;34m\u001b[0m\u001b[0;34m\u001b[0m\u001b[0m\n\u001b[0;32m-> 1058\u001b[0;31m             self._statespaces[prefix].initialize(self.initialization,\n\u001b[0m\u001b[1;32m   1059\u001b[0m                                                  complex_step=complex_step)\n\u001b[1;32m   1060\u001b[0m         \u001b[0;32melse\u001b[0m\u001b[0;34m:\u001b[0m\u001b[0;34m\u001b[0m\u001b[0;34m\u001b[0m\u001b[0m\n",
      "\u001b[0;32mstatsmodels/tsa/statespace/_representation.pyx\u001b[0m in \u001b[0;36mstatsmodels.tsa.statespace._representation.dStatespace.initialize\u001b[0;34m()\u001b[0m\n",
      "\u001b[0;32mstatsmodels/tsa/statespace/_representation.pyx\u001b[0m in \u001b[0;36mstatsmodels.tsa.statespace._representation.dStatespace.initialize\u001b[0;34m()\u001b[0m\n",
      "\u001b[0;32mstatsmodels/tsa/statespace/_initialization.pyx\u001b[0m in \u001b[0;36mstatsmodels.tsa.statespace._initialization.dInitialization.initialize\u001b[0;34m()\u001b[0m\n",
      "\u001b[0;32mstatsmodels/tsa/statespace/_initialization.pyx\u001b[0m in \u001b[0;36mstatsmodels.tsa.statespace._initialization.dInitialization.initialize_stationary_stationary_cov\u001b[0;34m()\u001b[0m\n",
      "\u001b[0;32mstatsmodels/tsa/statespace/_tools.pyx\u001b[0m in \u001b[0;36mstatsmodels.tsa.statespace._tools._dsolve_discrete_lyapunov\u001b[0;34m()\u001b[0m\n",
      "\u001b[0;31mLinAlgError\u001b[0m: LU decomposition error."
     ]
    }
   ],
   "source": [
    "import numpy as np\n",
    "import pandas as pd\n",
    "import datetime\n",
    "import random\n",
    "from statsmodels.tsa.arima.model import ARIMA\n",
    "from sklearn.metrics import mean_squared_error\n",
    "from math import sqrt\n",
    "import warnings\n",
    "warnings.filterwarnings(\"ignore\")\n",
    "random.seed(10)\n",
    "\n",
    "usa = 0\n",
    "mon_str = ['2020-11','2020-12','2021-01']\n",
    "mons = ['Nov', 'Dec', 'Jan']\n",
    "days = [0, 30, 61]\n",
    "\n",
    "test_start = 15\n",
    "grouptime = 30\n",
    "km = 1\n",
    "history = 3\n",
    "test_portion = 36\n",
    "\n",
    "lat_range = {'min': 28.486547, 'max': 28.719998, 'diff': 0.00451}\n",
    "long_range = {'min': 77.100136, 'max': 77.320763, 'diff': 0.005085}\n",
    "\n",
    "def data_preparation(datafile):\n",
    "    #Put the file location\n",
    "    df = pd.read_csv(datafile)\n",
    "    #type casting\n",
    "    df.pm1_0 = df.pm1_0.astype(float)\n",
    "    df.pm2_5 = df.pm2_5.astype(float)\n",
    "    df.pm10 = df.pm10.astype(float)\n",
    "\n",
    "    # Ensuring Delhi region and removing outliers from data\n",
    "    df = df[(df.lat.astype(int) == 28) &(df.long.astype(int) == 77)]\n",
    "    df = df[(df.pm1_0<=1500) & (df.pm2_5<=1500) & (df.pm10<=1500) & (df.pm1_0>=20) & (df.pm2_5>=30) & (df.pm10>=30)]\n",
    "\n",
    "    # rounding @30min\n",
    "    df.dateTime = pd.to_datetime(df.dateTime)\n",
    "    df.dateTime = df.dateTime.dt.round('{}min'.format(grouptime))\n",
    "    # use time as a feature as well\n",
    "    df.dateTime = df.dateTime.dt.hour*60 + df.dateTime.dt.minute\n",
    "    df.dateTime %= 1440\n",
    "\n",
    "    df = df[(df.dateTime>=300) & (df.dateTime<=1350)]\n",
    "    def round_val(val, min, off):\n",
    "        val1 = ((val - min) / off).astype(int)\n",
    "        val2 = (val1 * off) + min\n",
    "        return val2\n",
    "    df.lat = round_val(df.lat.astype(float), lat_range['min'], lat_range['diff'])\n",
    "    df.long = round_val(df.long.astype(float), long_range['min'], long_range['diff'])\n",
    "    df['lat_grid'] = df.apply(\n",
    "        lambda row: int(((row.lat - lat_range['min']) / lat_range['diff']) + 0.1),\n",
    "        axis=1)\n",
    "    df['long_grid'] = df.apply(\n",
    "        lambda row: int(((row.long - long_range['min']) / long_range['diff']) + 0.1),\n",
    "        axis=1)\n",
    "\n",
    "    df = df.drop(columns = ['uid', 'deviceId'])\n",
    "\n",
    "    df = df.pivot_table(index=['lat_grid','long_grid'], columns='dateTime', aggfunc='mean')['pm2_5']\n",
    "    return df\n",
    "\n",
    "def data_preparation_usa(DF, datafile):\n",
    "    #Put the file location\n",
    "    df = DF[pd.DatetimeIndex(DF.dateTime)==datafile]\n",
    "    #type casting\n",
    "    df.pm2_5 = df.pm2_5.astype(float)\n",
    "    df.pm10 = df.pm10.astype(float)\n",
    "\n",
    "    # rounding @30min\n",
    "    df.dateTime = pd.to_datetime(df.dateTime)\n",
    "    df.dateTime = df.dateTime.dt.round('{}min'.format(grouptime))\n",
    "    # use time as a feature as well\n",
    "    df.dateTime = df.dateTime.dt.hour*60 + df.dateTime.dt.minute\n",
    "    df.dateTime %= 1440\n",
    "\n",
    "    def round_val(val, min, off):\n",
    "        val1 = ((val - min) / off).astype(int)\n",
    "        val2 = (val1 * off) + min\n",
    "        return val2\n",
    "    df.lat = round_val(df.lat.astype(float), lat_range['min'], lat_range['diff'])\n",
    "    df.long = round_val(df.long.astype(float), long_range['min'], long_range['diff'])\n",
    "    df['lat_grid'] = df.apply(\n",
    "        lambda row: int(((row.lat - lat_range['min']) / lat_range['diff']) + 0.1),\n",
    "        axis=1)\n",
    "    df['long_grid'] = df.apply(\n",
    "        lambda row: int(((row.long - long_range['min']) / long_range['diff']) + 0.1),\n",
    "        axis=1)\n",
    "\n",
    "    df = df.drop(columns = ['uid', 'deviceId'])\n",
    "    \n",
    "    df = df.pivot_table(index=['lat_grid','long_grid'], columns='dateTime', aggfunc='mean')['pm2_5']\n",
    "    return df\n",
    "\n",
    "test_rmse = []\n",
    "test_days = []\n",
    "df_shape = []\n",
    "tm_data, tm_train, tm_infer, tm_eval = [],[],[],[]\n",
    "\n",
    "def tmsecs(tm2, tm1):\n",
    "    return int((tm2 - tm1).total_seconds() * 1000)\n",
    "\n",
    "\n",
    "def proc(df, idx=0):\n",
    "    tm_train.append(0)\n",
    "    tm_infer.append(0)\n",
    "    random.seed(10)\n",
    "    train_size = test_portion * history\n",
    "    actual_test, predicted_test = pd.DataFrame(), pd.DataFrame()\n",
    "    for i, row in df.iterrows():\n",
    "        df_row = row.to_frame().reset_index()\n",
    "        df_row.columns = [['time', 'pm2_5']]\n",
    "        tm1 = datetime.datetime.now()\n",
    "        model = ARIMA(df_row['pm2_5'][:train_size], order=(3, 1, 1))\n",
    "        model_fit = model.fit()\n",
    "        tm2 = datetime.datetime.now()\n",
    "        df_row['forecast'] = model_fit.predict(start=train_size, end=df.shape[1] + 1, dynamic=True)\n",
    "        tm3 = datetime.datetime.now()\n",
    "        tm_train[-1] += tmsecs(tm2, tm1)\n",
    "        tm_infer[-1] += tmsecs(tm3, tm2)\n",
    "        # df_row[['pm2_5','forecast']].plot(figsize=(12,8))\n",
    "        actual_row = df_row['pm2_5'][train_size:]\n",
    "        predicted_row = df_row['forecast'][train_size:]\n",
    "        actual_test = pd.concat([actual_test, actual_row]) # .append(actual_row)\n",
    "        predicted_test = pd.concat([predicted_test, predicted_row])\n",
    "        # predicted_test = predicted_test.append(predicted_row)\n",
    "\n",
    "    tmStart = datetime.datetime.now()\n",
    "    actual_test = np.array(actual_test)\n",
    "    predicted_test = np.array(predicted_test)\n",
    "    rmse = sqrt(mean_squared_error(actual_test[actual_test > 0], predicted_test[actual_test > 0]))\n",
    "    tm_eval.append(tmsecs(datetime.datetime.now(), tmStart))\n",
    "    test_rmse.append(rmse)\n",
    "    df_shape.append(df.shape)\n",
    "    print(test_days[-1], rmse)\n",
    "    if 1:\n",
    "        out = pd.DataFrame()\n",
    "        out['day'] = test_days[-1:]\n",
    "        out['rmse'] = test_rmse[-1:]\n",
    "        out['DF'] = df_shape[-1:]\n",
    "        out['tmData'] = tm_data[-1:]\n",
    "        out['tmTrain'] = tm_train[-1:]\n",
    "        out['tmInfer'] = tm_infer[-1:]\n",
    "        out['tmEval'] = tm_eval[-1:]\n",
    "        out['idx'] = idx\n",
    "        out.to_csv('arima_results_1.csv', mode='a', header=None)\n",
    "\n",
    "def proc_delhi():\n",
    "    for test_idx in range(test_start,30+31+30+1):\n",
    "        start = test_idx - history\n",
    "        df = None\n",
    "        tmStart = datetime.datetime.now()\n",
    "        for i in range(start, start + history + 1):\n",
    "            mon_idx = 2 if i > days[2] else 1 if i > days[1] else 0\n",
    "            datafile = '{}/{}-{:02d}_all.csv'.format(DATA_FOLDER, mon_str[mon_idx], i - days[mon_idx])\n",
    "            print('data', datafile)\n",
    "            df1 = data_preparation(datafile)\n",
    "            df = pd.concat([df, df1], axis=1)\n",
    "\n",
    "        df = df.fillna(0)\n",
    "        test_days.append('{} {}'.format(i - days[mon_idx], mons[mon_idx]))\n",
    "        # df = df.set_index(['lat_grid','long_grid'])\n",
    "\n",
    "        tm_data.append(tmsecs(datetime.datetime.now(), tmStart))\n",
    "        proc(df, start)\n",
    "\n",
    "\n",
    "def proc_usa():\n",
    "    from dates import dates_usa\n",
    "\n",
    "    DF = pd.read_csv('city_pollution_data.csv')\n",
    "    DF = DF[['Date', 'Time', 'latitude', 'longitude', 'pm25_median', 'pm10_median']]\n",
    "    DF.columns = ['dateTime', 'Time', 'lat', 'long', 'pm2_5', 'pm10']\n",
    "    global lat_range, long_range\n",
    "    lat_range = {'min': 21.3, 'max': 47.6, 'diff': 0.005}\n",
    "    long_range = {'min': -157.9, 'max': -71.0, 'diff': 0.005}\n",
    "\n",
    "    off = 0 if len(sys.argv) < 2 else int(sys.argv[1])\n",
    "    for test_idx in range(history+off, len(dates_usa)):\n",
    "        start = test_idx - history\n",
    "        df = None\n",
    "        tmStart = datetime.datetime.now()\n",
    "        for i in range(start, start + history + 1):\n",
    "            datafile = dates_usa[i]\n",
    "            print('data', datafile)\n",
    "            df1 = data_preparation_usa(DF, datafile)\n",
    "            df = pd.concat([df, df1], axis=1)\n",
    "\n",
    "        df = df.fillna(0)\n",
    "        test_days.append(dates_usa[test_idx])\n",
    "        # df = df.set_index(['lat_grid','long_grid'])\n",
    "\n",
    "        tm_data.append(tmsecs(datetime.datetime.now(), tmStart))\n",
    "        proc(df, start)\n",
    "\n",
    "if usa:\n",
    "    proc_usa()\n",
    "else:\n",
    "    proc_delhi()\n",
    "\n",
    "out = pd.DataFrame()\n",
    "out['day'] = test_days\n",
    "out['TestRMSE'] = test_rmse\n",
    "out['DF'] = df_shape\n",
    "out['tmData'] = tm_data\n",
    "out['tmTrain'] = tm_train\n",
    "out['tmInfer'] = tm_infer\n",
    "out['tmEval'] = tm_eval\n",
    "out.to_csv('arima_results.csv', mode='a')\n",
    "\n",
    "print('Mean', out['rmse'].mean())"
   ]
  },
  {
   "cell_type": "code",
   "execution_count": null,
   "id": "ea16bbbe",
   "metadata": {
    "execution": {
     "iopub.execute_input": "2025-02-27T01:00:54.094321Z",
     "iopub.status.busy": "2025-02-27T01:00:54.094055Z",
     "iopub.status.idle": "2025-02-27T01:00:54.102160Z",
     "shell.execute_reply": "2025-02-27T01:00:54.101068Z",
     "shell.execute_reply.started": "2025-02-27T01:00:54.094304Z"
    },
    "papermill": {
     "duration": null,
     "end_time": null,
     "exception": null,
     "start_time": null,
     "status": "pending"
    },
    "tags": []
   },
   "outputs": [],
   "source": [
    "res = pd.read_csv('./arima_results_1.csv')\n",
    "res.head()\n",
    "\n",
    "(res['161.78648372469675'].sum() + 161.78648372469675) / (len(res) + 1)"
   ]
  },
  {
   "cell_type": "code",
   "execution_count": null,
   "id": "9aa332d3",
   "metadata": {
    "execution": {
     "iopub.execute_input": "2025-02-26T22:17:47.678270Z",
     "iopub.status.busy": "2025-02-26T22:17:47.677947Z",
     "iopub.status.idle": "2025-02-26T22:17:47.768386Z",
     "shell.execute_reply": "2025-02-26T22:17:47.767621Z",
     "shell.execute_reply.started": "2025-02-26T22:17:47.678246Z"
    },
    "papermill": {
     "duration": null,
     "end_time": null,
     "exception": null,
     "start_time": null,
     "status": "pending"
    },
    "tags": []
   },
   "outputs": [],
   "source": [
    "single_df = pd.read_csv(\"/kaggle/input/airdelhi-dataset/PM Datasets/2020-11-01_all.csv\")"
   ]
  },
  {
   "cell_type": "code",
   "execution_count": null,
   "id": "70da2fd0",
   "metadata": {
    "execution": {
     "iopub.execute_input": "2025-02-26T22:17:50.763854Z",
     "iopub.status.busy": "2025-02-26T22:17:50.763596Z",
     "iopub.status.idle": "2025-02-26T22:17:50.776017Z",
     "shell.execute_reply": "2025-02-26T22:17:50.774952Z",
     "shell.execute_reply.started": "2025-02-26T22:17:50.763834Z"
    },
    "papermill": {
     "duration": null,
     "end_time": null,
     "exception": null,
     "start_time": null,
     "status": "pending"
    },
    "tags": []
   },
   "outputs": [],
   "source": [
    "single_df.head()"
   ]
  },
  {
   "cell_type": "markdown",
   "id": "e794c0f3",
   "metadata": {
    "papermill": {
     "duration": null,
     "end_time": null,
     "exception": null,
     "start_time": null,
     "status": "pending"
    },
    "tags": []
   },
   "source": [
    "## IDW, RF and XGB"
   ]
  },
  {
   "cell_type": "code",
   "execution_count": null,
   "id": "48f5e799",
   "metadata": {
    "execution": {
     "iopub.execute_input": "2025-02-26T23:01:17.737247Z",
     "iopub.status.busy": "2025-02-26T23:01:17.736945Z",
     "iopub.status.idle": "2025-02-26T23:01:35.318501Z",
     "shell.execute_reply": "2025-02-26T23:01:35.317467Z",
     "shell.execute_reply.started": "2025-02-26T23:01:17.737210Z"
    },
    "papermill": {
     "duration": null,
     "end_time": null,
     "exception": null,
     "start_time": null,
     "status": "pending"
    },
    "tags": []
   },
   "outputs": [],
   "source": [
    "!pip install polire"
   ]
  },
  {
   "cell_type": "code",
   "execution_count": null,
   "id": "f15d4627",
   "metadata": {
    "collapsed": true,
    "execution": {
     "iopub.execute_input": "2025-02-26T23:52:45.045288Z",
     "iopub.status.busy": "2025-02-26T23:52:45.044972Z",
     "iopub.status.idle": "2025-02-26T23:56:58.106671Z",
     "shell.execute_reply": "2025-02-26T23:56:58.105825Z",
     "shell.execute_reply.started": "2025-02-26T23:52:45.045265Z"
    },
    "jupyter": {
     "outputs_hidden": true
    },
    "papermill": {
     "duration": null,
     "end_time": null,
     "exception": null,
     "start_time": null,
     "status": "pending"
    },
    "tags": []
   },
   "outputs": [],
   "source": [
    "import datetime\n",
    "import argparse\n",
    "import pandas as pd\n",
    "import numpy as np\n",
    "from polire import IDW\n",
    "from sklearn.metrics import mean_squared_error\n",
    "from sklearn.ensemble import GradientBoostingRegressor\n",
    "from sklearn.preprocessing import MinMaxScaler\n",
    "from sklearn.ensemble import RandomForestRegressor\n",
    "\n",
    "T = [0,1][1]\n",
    "mode_t = ['AB','AC','C','ABC'][1]\n",
    "mode_p = ['D','CD'][0]\n",
    "\n",
    "class Args2:\n",
    "    mfile=None\n",
    "    fold=-1\n",
    "    canada=0\n",
    "    algo='rf'\n",
    "    train_days=3\n",
    "    seed=10\n",
    "    temporal_scaling=T\n",
    "    spatiotemporal=1\n",
    "    datadir='./'\n",
    "\n",
    "args = Args2()\n",
    "\n",
    "maxFolds = 5\n",
    "if args.spatiotemporal < 0 and mode_t == 'AB' and mode_p == 'CD':\n",
    "    # Forecasting, single fold is enough\n",
    "    maxFolds = 1\n",
    "if args.fold < 0:\n",
    "    args.fold = maxFolds\n",
    "\n",
    "algos = ['xgb','idw','rf','err']\n",
    "algo = algos[-1]\n",
    "if args.algo is not None:\n",
    "    if args.algo not in algos:\n",
    "        raise 'Invalid algo'\n",
    "    algo = args.algo\n",
    "canada = args.canada\n",
    "data_dir = args.datadir\n",
    "np.random.seed(args.seed)\n",
    "\n",
    "def get_suffixes(mode):\n",
    "    suffixes = []\n",
    "    if 'C' in mode or 'A' in mode:\n",
    "        suffixes.append('train')\n",
    "    if 'D' in mode or 'B' in mode:\n",
    "        suffixes.append('test')\n",
    "    return suffixes\n",
    "train_suffix = get_suffixes(mode_t)\n",
    "\n",
    "model = IDW(exponent=3) if algo=='idw' else RandomForestRegressor(n_estimators = 100, random_state = 0) if algo=='rf' else GradientBoostingRegressor() if algo=='xgb' else None\n",
    "assert model is not None\n",
    "\n",
    "def rename_cols(data):\n",
    "    data.rename(\n",
    "        columns={'dateTime': 'time', 'lat': 'latitude', 'long': 'longitude', 'pm2_5': 'PM25_Concentration',\n",
    "                 'pm10': 'PM10_Concentration'}, inplace=True)\n",
    "\n",
    "def return_data_0(train_input, test_input, with_scaling):\n",
    "    train_output = np.array(train_input['pm2_5'])\n",
    "    train_input = train_input[['dateTime','lat','long']]\n",
    "    test_output = np.array(test_input['pm2_5'])\n",
    "    test_input = test_input[['dateTime','lat','long']]\n",
    "    if with_scaling:\n",
    "        scaler = MinMaxScaler().fit(train_input)\n",
    "        if args.temporal_scaling:\n",
    "            data = scaler.transform(pd.concat((train_input, test_input)))\n",
    "            test_input = data[len(train_input):]\n",
    "            train_input = data[:len(train_input)]\n",
    "        else:\n",
    "            train_input = scaler.transform(train_input)\n",
    "            test_input = scaler.transform(test_input)\n",
    "    return train_input,train_output,test_input,test_output\n",
    "\n",
    "def return_data_time(fold,data,with_scaling):\n",
    "    train_input = None\n",
    "    if 'A' in mode_t or 'B' in mode_t:\n",
    "        for idx,dt in enumerate(data[:-1]):\n",
    "            for suffix in train_suffix:\n",
    "                input = pd.read_csv(data_dir+'/'+dt+'_f'+str(fold)+'_'+suffix+'.csv')\n",
    "                if args.temporal_scaling:\n",
    "                    input.dateTime += idx * 24 * 60\n",
    "                train_input = pd.concat((train_input, input))\n",
    "    if 'C' in mode_t:\n",
    "        input = pd.read_csv(data_dir + '/' + data[-1] + '_f' + str(fold) + '_train.csv')\n",
    "        if args.temporal_scaling:\n",
    "            input.dateTime += (len(data)-1) * 24 * 60\n",
    "        train_input = pd.concat((train_input, input))\n",
    "\n",
    "    test_input = pd.read_csv(data_dir+'/'+data[-1]+'_f'+str(fold)+'_test.csv')\n",
    "    if 'C' in mode_p:\n",
    "        input = pd.read_csv(data_dir + '/' + data[-1] + '_f' + str(fold) + '_train.csv')\n",
    "        test_input = pd.concat((input, test_input))\n",
    "    if args.temporal_scaling:\n",
    "        test_input.dateTime += (len(data)-1) * 24 * 60\n",
    "\n",
    "    return return_data_0(train_input, test_input, with_scaling)\n",
    "\n",
    "def train_model(model,train_input,train_output):\n",
    "    model.fit(train_input, train_output)\n",
    "\n",
    "def train_loss(model,train_input,train_output):\n",
    "    train_input_1 = train_input\n",
    "    train_pred = model.predict(train_input_1)\n",
    "    err = mean_squared_error(train_pred, train_output, squared=False)\n",
    "    return err\n",
    "\n",
    "def infer_model(model,test_input):\n",
    "    test_pred = model.predict(test_input)\n",
    "    return test_pred\n",
    "\n",
    "def eval_model(test_output, test_pred):\n",
    "    err = mean_squared_error(test_output, test_pred, squared=False)\n",
    "    return err\n",
    "\n",
    "us_data = None\n",
    "def return_data_forecast(fold, data):\n",
    "    assert mode_t == 'AB' and mode_p == 'CD'\n",
    "\n",
    "    data_input = None\n",
    "    for idx,dt in enumerate(data):\n",
    "        df = None\n",
    "        for suffix in train_suffix:\n",
    "            input = pd.read_csv(data_dir+'/'+dt+'_f'+str(fold)+'_'+suffix+'.csv')\n",
    "            df = pd.concat((df, input))\n",
    "        df = df.pivot_table(index=['lat','long'], columns='dateTime', aggfunc='mean')['pm2_5']\n",
    "        data_input = pd.concat((data_input, df), axis=1)\n",
    "    df = data_input.fillna(0)\n",
    "    return df\n",
    "\n",
    "def process(fold, date):\n",
    "    tmStart = datetime.datetime.now()\n",
    "    return_data = return_data_time\n",
    "    train_input,train_output,test_input,test_output = return_data(fold=fold,data=date,with_scaling=True)\n",
    "    tmPre = datetime.datetime.now()\n",
    "    train_model(model,train_input,train_output)\n",
    "    tmTrain = datetime.datetime.now()\n",
    "    test_pred = infer_model(model,test_input)\n",
    "    tmInfer = datetime.datetime.now()\n",
    "    rmseTrain = train_loss(model,train_input,train_output)\n",
    "    tmEvalTrain = datetime.datetime.now()\n",
    "\n",
    "    tmEvalTrain = (tmEvalTrain - tmInfer).total_seconds()\n",
    "    tmInfer = (tmInfer - tmTrain).total_seconds()\n",
    "    tmTrain = (tmTrain - tmPre).total_seconds()\n",
    "    tmPre = (tmPre - tmStart).total_seconds()\n",
    "\n",
    "    tmEval = datetime.datetime.now()\n",
    "    rmse = eval_model(test_output, test_pred)\n",
    "    tmEval = (datetime.datetime.now() - tmEval).total_seconds()\n",
    "\n",
    "    print(*date, \"Fold: {}, RMSE: {}\".format(fold, rmse))\n",
    "\n",
    "    return '{},{},{:.3f},{:.3f},{:.3f},{:.3f},{:.3f},{:.3f},{:.3f}'.format('|'.join(date),fold,rmseTrain,rmse,tmPre,tmTrain,tmEvalTrain,tmInfer,tmEval)\n",
    "\n",
    "\n",
    "def xform_day(day):\n",
    "    arr = [0, 30, 61]\n",
    "    w = 0 if day <= 30 else 1 if day <= 61 else 2\n",
    "    mon = ['2020-11-', '2020-12-', '2021-01-'][w]\n",
    "    date = mon + '{:02d}'.format(day - arr[w])\n",
    "    return date\n",
    "\n",
    "folds = [i for i in range(maxFolds)] if args.fold >= maxFolds else [args.fold]\n",
    "header = 'Date,Fold,TrainRMSE,TestRMSE,tmPre,tmTrain,tmTrnEval,tmInfer,tmEval'\n",
    "\n",
    "def proc_file(canada=0):\n",
    "    mfile = '{}_{}{}_{}{}_{}{}.metrics.csv'.format(algo, ['delhi','canada','canada','usa'][canada], canada if canada in [1,2] else '', mode_t, 'T' if args.temporal_scaling else '', mode_p, '_st' if args.spatiotemporal>0 else '_20' if args.spatiotemporal<0 else '') if args.mfile is None else args.mfile\n",
    "    f = open(mfile, 'a')\n",
    "    print(',,'.join([header for _ in range(len(folds))]), file=f)\n",
    "    return f\n",
    "\n",
    "def proc_canada(canada):\n",
    "    f = proc_file(canada)\n",
    "    if canada == 1:\n",
    "        dates = ['2015-02-12', '2015-02-13', '2015-03-19', '2015-03-25', '2015-03-27', '2015-04-01', '2015-04-10', '2015-04-15',\n",
    "         '2015-04-17', '2015-04-21', '2015-04-24', '2015-05-12',  '2015-05-14', '2015-05-20', '2015-05-22', '2015-09-10', '2015-09-23', '2015-11-23']\n",
    "    else:\n",
    "        dates = ['canada_20{:02d}'.format(i) for i in range(6,17)]\n",
    "    for day in range(args.train_days, len(dates)):\n",
    "        date = []\n",
    "        for i in range(args.train_days,-1,-1):\n",
    "            date.append(dates[day-i])\n",
    "        metrics = []\n",
    "        for fold in folds:\n",
    "            metrics.append(process(fold, date))\n",
    "        print(',,'.join(metrics), file=f)\n",
    "\n",
    "def proc_delhi():\n",
    "    print(\"Processing Delhi\")\n",
    "    f = proc_file()\n",
    "    nTestStartDay = 15\n",
    "    nTotalDays = 91\n",
    "    total_metrics = []\n",
    "    for day in range(nTestStartDay, nTotalDays+1):\n",
    "        date = []\n",
    "        for i in range(args.train_days,-1,-1):\n",
    "            date.append(xform_day(day-i))\n",
    "        metrics = []\n",
    "        for fold in folds:\n",
    "            metrics.append(process(fold, date))\n",
    "        # print(',,'.join(metrics), file=f)\n",
    "        total_metrics.append(metrics)\n",
    "    return total_metrics\n",
    "\n",
    "def proc_usa():\n",
    "    f = proc_file(3)\n",
    "    dates = dates_usa\n",
    "    for day in range(args.train_days, len(dates)):\n",
    "        date = []\n",
    "        for i in range(args.train_days, -1, -1):\n",
    "            date.append(dates[day - i])\n",
    "        metrics = []\n",
    "        for fold in folds:\n",
    "            metrics.append(process(fold, date))\n",
    "        print(',,'.join(metrics), file=f)\n",
    "\n",
    "if canada < 0:\n",
    "    proc_delhi()\n",
    "    proc_canada(1)\n",
    "    proc_canada(2)\n",
    "    proc_usa()\n",
    "elif canada == 0:\n",
    "    out = proc_delhi()\n",
    "elif canada == 1:\n",
    "    proc_canada(canada)\n",
    "else:\n",
    "    proc_usa()"
   ]
  },
  {
   "cell_type": "code",
   "execution_count": null,
   "id": "17b92980",
   "metadata": {
    "execution": {
     "iopub.execute_input": "2025-02-26T23:59:51.409422Z",
     "iopub.status.busy": "2025-02-26T23:59:51.409165Z",
     "iopub.status.idle": "2025-02-26T23:59:51.415020Z",
     "shell.execute_reply": "2025-02-26T23:59:51.414120Z",
     "shell.execute_reply.started": "2025-02-26T23:59:51.409405Z"
    },
    "papermill": {
     "duration": null,
     "end_time": null,
     "exception": null,
     "start_time": null,
     "status": "pending"
    },
    "tags": []
   },
   "outputs": [],
   "source": [
    "rmse_scores = [float(out[i][j].split(',')[3])\n",
    "              for i in range(len(out))\n",
    "              for j in range(len(out[i]))\n",
    "              ]\n",
    "sum(rmse_scores) / len(rmse_scores)"
   ]
  },
  {
   "cell_type": "markdown",
   "id": "a76eb620",
   "metadata": {
    "papermill": {
     "duration": null,
     "end_time": null,
     "exception": null,
     "start_time": null,
     "status": "pending"
    },
    "tags": []
   },
   "source": [
    "## IDW"
   ]
  },
  {
   "cell_type": "code",
   "execution_count": null,
   "id": "aa5ca93a",
   "metadata": {
    "collapsed": true,
    "execution": {
     "iopub.execute_input": "2025-02-27T00:12:55.559162Z",
     "iopub.status.busy": "2025-02-27T00:12:55.558858Z",
     "iopub.status.idle": "2025-02-27T00:17:50.532718Z",
     "shell.execute_reply": "2025-02-27T00:17:50.531788Z",
     "shell.execute_reply.started": "2025-02-27T00:12:55.559141Z"
    },
    "jupyter": {
     "outputs_hidden": true
    },
    "papermill": {
     "duration": null,
     "end_time": null,
     "exception": null,
     "start_time": null,
     "status": "pending"
    },
    "tags": []
   },
   "outputs": [],
   "source": [
    "algo = 'idw'\n",
    "model = IDW(exponent=3) if algo=='idw' else RandomForestRegressor(n_estimators = 100, random_state = 0) if algo=='rf' else GradientBoostingRegressor() if algo=='xgb' else None\n",
    "assert model is not None\n",
    "\n",
    "out_idw = proc_delhi()"
   ]
  },
  {
   "cell_type": "code",
   "execution_count": null,
   "id": "75fad228",
   "metadata": {
    "execution": {
     "iopub.execute_input": "2025-02-27T00:17:50.533971Z",
     "iopub.status.busy": "2025-02-27T00:17:50.533748Z",
     "iopub.status.idle": "2025-02-27T00:17:50.539348Z",
     "shell.execute_reply": "2025-02-27T00:17:50.538537Z",
     "shell.execute_reply.started": "2025-02-27T00:17:50.533953Z"
    },
    "papermill": {
     "duration": null,
     "end_time": null,
     "exception": null,
     "start_time": null,
     "status": "pending"
    },
    "tags": []
   },
   "outputs": [],
   "source": [
    "rmse_scores_idw = [float(out_idw[i][j].split(',')[3])\n",
    "              for i in range(len(out_idw))\n",
    "              for j in range(len(out_idw[i]))\n",
    "              ]\n",
    "sum(rmse_scores_idw) / len(rmse_scores_idw)"
   ]
  },
  {
   "cell_type": "markdown",
   "id": "7c0015df",
   "metadata": {
    "papermill": {
     "duration": null,
     "end_time": null,
     "exception": null,
     "start_time": null,
     "status": "pending"
    },
    "tags": []
   },
   "source": [
    "## Gradient Boosted Tree"
   ]
  },
  {
   "cell_type": "code",
   "execution_count": null,
   "id": "1e39a24e",
   "metadata": {
    "collapsed": true,
    "execution": {
     "iopub.execute_input": "2025-02-27T00:17:50.540703Z",
     "iopub.status.busy": "2025-02-27T00:17:50.540500Z",
     "iopub.status.idle": "2025-02-27T00:19:10.558727Z",
     "shell.execute_reply": "2025-02-27T00:19:10.557839Z",
     "shell.execute_reply.started": "2025-02-27T00:17:50.540688Z"
    },
    "jupyter": {
     "outputs_hidden": true
    },
    "papermill": {
     "duration": null,
     "end_time": null,
     "exception": null,
     "start_time": null,
     "status": "pending"
    },
    "tags": []
   },
   "outputs": [],
   "source": [
    "algo = 'xgb'\n",
    "model = IDW(exponent=3) if algo=='idw' else RandomForestRegressor(n_estimators = 100, random_state = 0) if algo=='rf' else GradientBoostingRegressor() if algo=='xgb' else None\n",
    "assert model is not None\n",
    "\n",
    "out_xgb = proc_delhi()"
   ]
  },
  {
   "cell_type": "code",
   "execution_count": null,
   "id": "2d444b23",
   "metadata": {
    "execution": {
     "iopub.execute_input": "2025-02-27T00:19:10.559933Z",
     "iopub.status.busy": "2025-02-27T00:19:10.559688Z",
     "iopub.status.idle": "2025-02-27T00:19:10.565494Z",
     "shell.execute_reply": "2025-02-27T00:19:10.564612Z",
     "shell.execute_reply.started": "2025-02-27T00:19:10.559913Z"
    },
    "papermill": {
     "duration": null,
     "end_time": null,
     "exception": null,
     "start_time": null,
     "status": "pending"
    },
    "tags": []
   },
   "outputs": [],
   "source": [
    "rmse_scores_xgb = [float(out_xgb[i][j].split(',')[3])\n",
    "              for i in range(len(out_xgb))\n",
    "              for j in range(len(out_xgb[i]))\n",
    "              ]\n",
    "sum(rmse_scores_xgb) / len(rmse_scores_xgb)"
   ]
  },
  {
   "cell_type": "markdown",
   "id": "c21a9cda",
   "metadata": {
    "papermill": {
     "duration": null,
     "end_time": null,
     "exception": null,
     "start_time": null,
     "status": "pending"
    },
    "tags": []
   },
   "source": [
    "## CatBoostRegressor"
   ]
  },
  {
   "cell_type": "code",
   "execution_count": null,
   "id": "62a6588c",
   "metadata": {
    "collapsed": true,
    "execution": {
     "iopub.execute_input": "2025-02-27T00:20:11.807846Z",
     "iopub.status.busy": "2025-02-27T00:20:11.807565Z",
     "iopub.status.idle": "2025-02-27T00:25:56.945905Z",
     "shell.execute_reply": "2025-02-27T00:25:56.945138Z",
     "shell.execute_reply.started": "2025-02-27T00:20:11.807823Z"
    },
    "jupyter": {
     "outputs_hidden": true
    },
    "papermill": {
     "duration": null,
     "end_time": null,
     "exception": null,
     "start_time": null,
     "status": "pending"
    },
    "tags": []
   },
   "outputs": [],
   "source": [
    "from catboost import CatBoostRegressor\n",
    "\n",
    "model = CatBoostRegressor(verbose=0)\n",
    "out_cat = proc_delhi()"
   ]
  },
  {
   "cell_type": "code",
   "execution_count": null,
   "id": "edabd028",
   "metadata": {
    "execution": {
     "iopub.execute_input": "2025-02-27T00:27:39.880888Z",
     "iopub.status.busy": "2025-02-27T00:27:39.880538Z",
     "iopub.status.idle": "2025-02-27T00:27:39.887259Z",
     "shell.execute_reply": "2025-02-27T00:27:39.886065Z",
     "shell.execute_reply.started": "2025-02-27T00:27:39.880858Z"
    },
    "papermill": {
     "duration": null,
     "end_time": null,
     "exception": null,
     "start_time": null,
     "status": "pending"
    },
    "tags": []
   },
   "outputs": [],
   "source": [
    "rmse_scores_cat = [float(out_cat[i][j].split(',')[3])\n",
    "              for i in range(len(out_cat))\n",
    "              for j in range(len(out_cat[i]))\n",
    "              ]\n",
    "sum(rmse_scores_cat) / len(rmse_scores_cat)"
   ]
  },
  {
   "cell_type": "markdown",
   "id": "ca8c4bb2",
   "metadata": {
    "papermill": {
     "duration": null,
     "end_time": null,
     "exception": null,
     "start_time": null,
     "status": "pending"
    },
    "tags": []
   },
   "source": [
    "## Random Forest Next Level"
   ]
  },
  {
   "cell_type": "code",
   "execution_count": null,
   "id": "53303009",
   "metadata": {
    "collapsed": true,
    "execution": {
     "iopub.execute_input": "2025-02-27T00:27:41.688760Z",
     "iopub.status.busy": "2025-02-27T00:27:41.688427Z",
     "iopub.status.idle": "2025-02-27T00:36:04.731422Z",
     "shell.execute_reply": "2025-02-27T00:36:04.730597Z",
     "shell.execute_reply.started": "2025-02-27T00:27:41.688732Z"
    },
    "jupyter": {
     "outputs_hidden": true
    },
    "papermill": {
     "duration": null,
     "end_time": null,
     "exception": null,
     "start_time": null,
     "status": "pending"
    },
    "tags": []
   },
   "outputs": [],
   "source": [
    "model = RandomForestRegressor(n_estimators = 200, random_state = 0)\n",
    "out_rf = proc_delhi()"
   ]
  },
  {
   "cell_type": "code",
   "execution_count": null,
   "id": "a8ee45c4",
   "metadata": {
    "execution": {
     "iopub.execute_input": "2025-02-27T00:36:04.732607Z",
     "iopub.status.busy": "2025-02-27T00:36:04.732402Z",
     "iopub.status.idle": "2025-02-27T00:36:04.738321Z",
     "shell.execute_reply": "2025-02-27T00:36:04.737397Z",
     "shell.execute_reply.started": "2025-02-27T00:36:04.732591Z"
    },
    "papermill": {
     "duration": null,
     "end_time": null,
     "exception": null,
     "start_time": null,
     "status": "pending"
    },
    "tags": []
   },
   "outputs": [],
   "source": [
    "rmse_scores_rf = [float(out_rf[i][j].split(',')[3])\n",
    "              for i in range(len(out_rf))\n",
    "              for j in range(len(out_rf[i]))\n",
    "              ]\n",
    "sum(rmse_scores_rf) / len(rmse_scores_rf)"
   ]
  },
  {
   "cell_type": "markdown",
   "id": "e90a5d47",
   "metadata": {
    "papermill": {
     "duration": null,
     "end_time": null,
     "exception": null,
     "start_time": null,
     "status": "pending"
    },
    "tags": []
   },
   "source": [
    "## Basic Ridge"
   ]
  },
  {
   "cell_type": "code",
   "execution_count": null,
   "id": "4da455cd",
   "metadata": {
    "collapsed": true,
    "execution": {
     "iopub.execute_input": "2025-02-27T00:37:38.870919Z",
     "iopub.status.busy": "2025-02-27T00:37:38.870649Z",
     "iopub.status.idle": "2025-02-27T00:37:43.737696Z",
     "shell.execute_reply": "2025-02-27T00:37:43.736800Z",
     "shell.execute_reply.started": "2025-02-27T00:37:38.870899Z"
    },
    "jupyter": {
     "outputs_hidden": true
    },
    "papermill": {
     "duration": null,
     "end_time": null,
     "exception": null,
     "start_time": null,
     "status": "pending"
    },
    "tags": []
   },
   "outputs": [],
   "source": [
    "from sklearn.linear_model import Ridge\n",
    "\n",
    "model = Ridge()\n",
    "out_ridge = proc_delhi()"
   ]
  },
  {
   "cell_type": "code",
   "execution_count": null,
   "id": "cc8a87d9",
   "metadata": {
    "execution": {
     "iopub.execute_input": "2025-02-27T00:37:43.738968Z",
     "iopub.status.busy": "2025-02-27T00:37:43.738752Z",
     "iopub.status.idle": "2025-02-27T00:37:43.744475Z",
     "shell.execute_reply": "2025-02-27T00:37:43.743730Z",
     "shell.execute_reply.started": "2025-02-27T00:37:43.738952Z"
    },
    "papermill": {
     "duration": null,
     "end_time": null,
     "exception": null,
     "start_time": null,
     "status": "pending"
    },
    "tags": []
   },
   "outputs": [],
   "source": [
    "rmse_scores_ridge = [float(out_ridge[i][j].split(',')[3])\n",
    "              for i in range(len(out_ridge))\n",
    "              for j in range(len(out_ridge[i]))\n",
    "              ]\n",
    "sum(rmse_scores_ridge) / len(rmse_scores_ridge)"
   ]
  },
  {
   "cell_type": "markdown",
   "id": "ce82a51c",
   "metadata": {
    "papermill": {
     "duration": null,
     "end_time": null,
     "exception": null,
     "start_time": null,
     "status": "pending"
    },
    "tags": []
   },
   "source": [
    "## XGBoost"
   ]
  },
  {
   "cell_type": "code",
   "execution_count": null,
   "id": "cd507e25",
   "metadata": {
    "collapsed": true,
    "execution": {
     "iopub.execute_input": "2025-02-27T01:10:47.822874Z",
     "iopub.status.busy": "2025-02-27T01:10:47.822592Z",
     "iopub.status.idle": "2025-02-27T01:11:14.516875Z",
     "shell.execute_reply": "2025-02-27T01:11:14.516044Z",
     "shell.execute_reply.started": "2025-02-27T01:10:47.822853Z"
    },
    "jupyter": {
     "outputs_hidden": true
    },
    "papermill": {
     "duration": null,
     "end_time": null,
     "exception": null,
     "start_time": null,
     "status": "pending"
    },
    "tags": []
   },
   "outputs": [],
   "source": [
    "from xgboost import XGBRegressor\n",
    "\n",
    "algo = 'xgb'\n",
    "model = XGBRegressor(max_depth=6) # IDW(exponent=3) if algo=='idw' else RandomForestRegressor(n_estimators = 100, random_state = 0) if algo=='rf' else GradientBoostingRegressor() if algo=='xgb' else None\n",
    "assert model is not None\n",
    "\n",
    "out_xgb = proc_delhi()"
   ]
  },
  {
   "cell_type": "code",
   "execution_count": null,
   "id": "ddbae18b",
   "metadata": {
    "execution": {
     "iopub.execute_input": "2025-02-27T01:11:14.517887Z",
     "iopub.status.busy": "2025-02-27T01:11:14.517683Z",
     "iopub.status.idle": "2025-02-27T01:11:14.523823Z",
     "shell.execute_reply": "2025-02-27T01:11:14.523055Z",
     "shell.execute_reply.started": "2025-02-27T01:11:14.517862Z"
    },
    "papermill": {
     "duration": null,
     "end_time": null,
     "exception": null,
     "start_time": null,
     "status": "pending"
    },
    "tags": []
   },
   "outputs": [],
   "source": [
    "rmse_scores_xgb = [float(out_xgb[i][j].split(',')[3])\n",
    "              for i in range(len(out_xgb))\n",
    "              for j in range(len(out_xgb[i]))\n",
    "              ]\n",
    "sum(rmse_scores_xgb) / len(rmse_scores_xgb)"
   ]
  },
  {
   "cell_type": "code",
   "execution_count": null,
   "id": "3eaa9385",
   "metadata": {
    "papermill": {
     "duration": null,
     "end_time": null,
     "exception": null,
     "start_time": null,
     "status": "pending"
    },
    "tags": []
   },
   "outputs": [],
   "source": []
  }
 ],
 "metadata": {
  "kaggle": {
   "accelerator": "none",
   "dataSources": [
    {
     "datasetId": 6749422,
     "sourceId": 10864383,
     "sourceType": "datasetVersion"
    }
   ],
   "dockerImageVersionId": 30918,
   "isGpuEnabled": false,
   "isInternetEnabled": true,
   "language": "python",
   "sourceType": "notebook"
  },
  "kernelspec": {
   "display_name": "Python 3",
   "language": "python",
   "name": "python3"
  },
  "language_info": {
   "codemirror_mode": {
    "name": "ipython",
    "version": 3
   },
   "file_extension": ".py",
   "mimetype": "text/x-python",
   "name": "python",
   "nbconvert_exporter": "python",
   "pygments_lexer": "ipython3",
   "version": "3.10.12"
  },
  "papermill": {
   "default_parameters": {},
   "duration": 1696.337142,
   "end_time": "2025-03-07T23:57:24.675136",
   "environment_variables": {},
   "exception": true,
   "input_path": "__notebook__.ipynb",
   "output_path": "__notebook__.ipynb",
   "parameters": {},
   "start_time": "2025-03-07T23:29:08.337994",
   "version": "2.6.0"
  }
 },
 "nbformat": 4,
 "nbformat_minor": 5
}
